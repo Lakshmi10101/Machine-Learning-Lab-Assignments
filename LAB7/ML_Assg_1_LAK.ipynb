{
  "nbformat": 4,
  "nbformat_minor": 0,
  "metadata": {
    "colab": {
      "provenance": []
    },
    "kernelspec": {
      "name": "python3",
      "display_name": "Python 3"
    },
    "language_info": {
      "name": "python"
    }
  },
  "cells": [
    {
      "cell_type": "code",
      "source": [
        "# pip install -U kaleido"
      ],
      "metadata": {
        "colab": {
          "base_uri": "https://localhost:8080/"
        },
        "id": "gj4d-d4cOZvS",
        "outputId": "af493993-4647-455e-80ab-2442b9db16e2"
      },
      "execution_count": 1,
      "outputs": [
        {
          "output_type": "stream",
          "name": "stdout",
          "text": [
            "Collecting kaleido\n",
            "  Downloading kaleido-0.2.1-py2.py3-none-manylinux1_x86_64.whl (79.9 MB)\n",
            "\u001b[2K     \u001b[90m━━━━━━━━━━━━━━━━━━━━━━━━━━━━━━━━━━━━━━━━\u001b[0m \u001b[32m79.9/79.9 MB\u001b[0m \u001b[31m6.6 MB/s\u001b[0m eta \u001b[36m0:00:00\u001b[0m\n",
            "\u001b[?25hInstalling collected packages: kaleido\n",
            "\u001b[31mERROR: pip's dependency resolver does not currently take into account all the packages that are installed. This behaviour is the source of the following dependency conflicts.\n",
            "lida 0.0.10 requires fastapi, which is not installed.\n",
            "lida 0.0.10 requires python-multipart, which is not installed.\n",
            "lida 0.0.10 requires uvicorn, which is not installed.\u001b[0m\u001b[31m\n",
            "\u001b[0mSuccessfully installed kaleido-0.2.1\n"
          ]
        }
      ]
    },
    {
      "cell_type": "code",
      "source": [
        "# Import libraries\n",
        "\n",
        "import pandas as pd\n",
        "import numpy as np\n",
        "\n",
        "import matplotlib.pyplot as plt\n",
        "import plotly.express as px\n",
        "\n",
        "from sklearn.neighbors import KNeighborsClassifier\n",
        "from sklearn.metrics import confusion_matrix, ConfusionMatrixDisplay\n",
        "from sklearn.metrics import precision_score, recall_score, f1_score"
      ],
      "metadata": {
        "id": "RNLR1OzLObBh"
      },
      "execution_count": 1,
      "outputs": []
    },
    {
      "cell_type": "markdown",
      "source": [
        "# Import the training and test datasets"
      ],
      "metadata": {
        "id": "EGuBfDHaLmCQ"
      }
    },
    {
      "cell_type": "code",
      "source": [
        "training_df = pd.read_csv('tblTrain.csv')\n",
        "print(f'Shape = {training_df.shape} \\n')\n",
        "training_df.head()"
      ],
      "metadata": {
        "colab": {
          "base_uri": "https://localhost:8080/",
          "height": 242
        },
        "id": "9wDayikELkAM",
        "outputId": "e15308c1-b667-44b7-adbc-5865b8778958"
      },
      "execution_count": 2,
      "outputs": [
        {
          "output_type": "stream",
          "name": "stdout",
          "text": [
            "Shape = (2797, 4) \n",
            "\n"
          ]
        },
        {
          "output_type": "execute_result",
          "data": {
            "text/plain": [
              "                                 Name  Duration   Genre  Rating\n",
              "0  #Gadhvi (He thought he was Gandhi)        99   Drama     7.0\n",
              "1                            @Andheri       126  Action     4.0\n",
              "2           1:1.6 An Ode to Lost Love        86   Drama     6.2\n",
              "3         13B: Fear Has a New Address       136   Drama     7.3\n",
              "4                         15th August       158   Drama     5.6"
            ],
            "text/html": [
              "\n",
              "  <div id=\"df-f1e9a9a6-8392-4e60-b2c3-ecfd97685eff\" class=\"colab-df-container\">\n",
              "    <div>\n",
              "<style scoped>\n",
              "    .dataframe tbody tr th:only-of-type {\n",
              "        vertical-align: middle;\n",
              "    }\n",
              "\n",
              "    .dataframe tbody tr th {\n",
              "        vertical-align: top;\n",
              "    }\n",
              "\n",
              "    .dataframe thead th {\n",
              "        text-align: right;\n",
              "    }\n",
              "</style>\n",
              "<table border=\"1\" class=\"dataframe\">\n",
              "  <thead>\n",
              "    <tr style=\"text-align: right;\">\n",
              "      <th></th>\n",
              "      <th>Name</th>\n",
              "      <th>Duration</th>\n",
              "      <th>Genre</th>\n",
              "      <th>Rating</th>\n",
              "    </tr>\n",
              "  </thead>\n",
              "  <tbody>\n",
              "    <tr>\n",
              "      <th>0</th>\n",
              "      <td>#Gadhvi (He thought he was Gandhi)</td>\n",
              "      <td>99</td>\n",
              "      <td>Drama</td>\n",
              "      <td>7.0</td>\n",
              "    </tr>\n",
              "    <tr>\n",
              "      <th>1</th>\n",
              "      <td>@Andheri</td>\n",
              "      <td>126</td>\n",
              "      <td>Action</td>\n",
              "      <td>4.0</td>\n",
              "    </tr>\n",
              "    <tr>\n",
              "      <th>2</th>\n",
              "      <td>1:1.6 An Ode to Lost Love</td>\n",
              "      <td>86</td>\n",
              "      <td>Drama</td>\n",
              "      <td>6.2</td>\n",
              "    </tr>\n",
              "    <tr>\n",
              "      <th>3</th>\n",
              "      <td>13B: Fear Has a New Address</td>\n",
              "      <td>136</td>\n",
              "      <td>Drama</td>\n",
              "      <td>7.3</td>\n",
              "    </tr>\n",
              "    <tr>\n",
              "      <th>4</th>\n",
              "      <td>15th August</td>\n",
              "      <td>158</td>\n",
              "      <td>Drama</td>\n",
              "      <td>5.6</td>\n",
              "    </tr>\n",
              "  </tbody>\n",
              "</table>\n",
              "</div>\n",
              "    <div class=\"colab-df-buttons\">\n",
              "\n",
              "  <div class=\"colab-df-container\">\n",
              "    <button class=\"colab-df-convert\" onclick=\"convertToInteractive('df-f1e9a9a6-8392-4e60-b2c3-ecfd97685eff')\"\n",
              "            title=\"Convert this dataframe to an interactive table.\"\n",
              "            style=\"display:none;\">\n",
              "\n",
              "  <svg xmlns=\"http://www.w3.org/2000/svg\" height=\"24px\" viewBox=\"0 -960 960 960\">\n",
              "    <path d=\"M120-120v-720h720v720H120Zm60-500h600v-160H180v160Zm220 220h160v-160H400v160Zm0 220h160v-160H400v160ZM180-400h160v-160H180v160Zm440 0h160v-160H620v160ZM180-180h160v-160H180v160Zm440 0h160v-160H620v160Z\"/>\n",
              "  </svg>\n",
              "    </button>\n",
              "\n",
              "  <style>\n",
              "    .colab-df-container {\n",
              "      display:flex;\n",
              "      gap: 12px;\n",
              "    }\n",
              "\n",
              "    .colab-df-convert {\n",
              "      background-color: #E8F0FE;\n",
              "      border: none;\n",
              "      border-radius: 50%;\n",
              "      cursor: pointer;\n",
              "      display: none;\n",
              "      fill: #1967D2;\n",
              "      height: 32px;\n",
              "      padding: 0 0 0 0;\n",
              "      width: 32px;\n",
              "    }\n",
              "\n",
              "    .colab-df-convert:hover {\n",
              "      background-color: #E2EBFA;\n",
              "      box-shadow: 0px 1px 2px rgba(60, 64, 67, 0.3), 0px 1px 3px 1px rgba(60, 64, 67, 0.15);\n",
              "      fill: #174EA6;\n",
              "    }\n",
              "\n",
              "    .colab-df-buttons div {\n",
              "      margin-bottom: 4px;\n",
              "    }\n",
              "\n",
              "    [theme=dark] .colab-df-convert {\n",
              "      background-color: #3B4455;\n",
              "      fill: #D2E3FC;\n",
              "    }\n",
              "\n",
              "    [theme=dark] .colab-df-convert:hover {\n",
              "      background-color: #434B5C;\n",
              "      box-shadow: 0px 1px 3px 1px rgba(0, 0, 0, 0.15);\n",
              "      filter: drop-shadow(0px 1px 2px rgba(0, 0, 0, 0.3));\n",
              "      fill: #FFFFFF;\n",
              "    }\n",
              "  </style>\n",
              "\n",
              "    <script>\n",
              "      const buttonEl =\n",
              "        document.querySelector('#df-f1e9a9a6-8392-4e60-b2c3-ecfd97685eff button.colab-df-convert');\n",
              "      buttonEl.style.display =\n",
              "        google.colab.kernel.accessAllowed ? 'block' : 'none';\n",
              "\n",
              "      async function convertToInteractive(key) {\n",
              "        const element = document.querySelector('#df-f1e9a9a6-8392-4e60-b2c3-ecfd97685eff');\n",
              "        const dataTable =\n",
              "          await google.colab.kernel.invokeFunction('convertToInteractive',\n",
              "                                                    [key], {});\n",
              "        if (!dataTable) return;\n",
              "\n",
              "        const docLinkHtml = 'Like what you see? Visit the ' +\n",
              "          '<a target=\"_blank\" href=https://colab.research.google.com/notebooks/data_table.ipynb>data table notebook</a>'\n",
              "          + ' to learn more about interactive tables.';\n",
              "        element.innerHTML = '';\n",
              "        dataTable['output_type'] = 'display_data';\n",
              "        await google.colab.output.renderOutput(dataTable, element);\n",
              "        const docLink = document.createElement('div');\n",
              "        docLink.innerHTML = docLinkHtml;\n",
              "        element.appendChild(docLink);\n",
              "      }\n",
              "    </script>\n",
              "  </div>\n",
              "\n",
              "\n",
              "<div id=\"df-d4f6d906-dad5-4301-9d5a-1ae525844684\">\n",
              "  <button class=\"colab-df-quickchart\" onclick=\"quickchart('df-d4f6d906-dad5-4301-9d5a-1ae525844684')\"\n",
              "            title=\"Suggest charts\"\n",
              "            style=\"display:none;\">\n",
              "\n",
              "<svg xmlns=\"http://www.w3.org/2000/svg\" height=\"24px\"viewBox=\"0 0 24 24\"\n",
              "     width=\"24px\">\n",
              "    <g>\n",
              "        <path d=\"M19 3H5c-1.1 0-2 .9-2 2v14c0 1.1.9 2 2 2h14c1.1 0 2-.9 2-2V5c0-1.1-.9-2-2-2zM9 17H7v-7h2v7zm4 0h-2V7h2v10zm4 0h-2v-4h2v4z\"/>\n",
              "    </g>\n",
              "</svg>\n",
              "  </button>\n",
              "\n",
              "<style>\n",
              "  .colab-df-quickchart {\n",
              "      --bg-color: #E8F0FE;\n",
              "      --fill-color: #1967D2;\n",
              "      --hover-bg-color: #E2EBFA;\n",
              "      --hover-fill-color: #174EA6;\n",
              "      --disabled-fill-color: #AAA;\n",
              "      --disabled-bg-color: #DDD;\n",
              "  }\n",
              "\n",
              "  [theme=dark] .colab-df-quickchart {\n",
              "      --bg-color: #3B4455;\n",
              "      --fill-color: #D2E3FC;\n",
              "      --hover-bg-color: #434B5C;\n",
              "      --hover-fill-color: #FFFFFF;\n",
              "      --disabled-bg-color: #3B4455;\n",
              "      --disabled-fill-color: #666;\n",
              "  }\n",
              "\n",
              "  .colab-df-quickchart {\n",
              "    background-color: var(--bg-color);\n",
              "    border: none;\n",
              "    border-radius: 50%;\n",
              "    cursor: pointer;\n",
              "    display: none;\n",
              "    fill: var(--fill-color);\n",
              "    height: 32px;\n",
              "    padding: 0;\n",
              "    width: 32px;\n",
              "  }\n",
              "\n",
              "  .colab-df-quickchart:hover {\n",
              "    background-color: var(--hover-bg-color);\n",
              "    box-shadow: 0 1px 2px rgba(60, 64, 67, 0.3), 0 1px 3px 1px rgba(60, 64, 67, 0.15);\n",
              "    fill: var(--button-hover-fill-color);\n",
              "  }\n",
              "\n",
              "  .colab-df-quickchart-complete:disabled,\n",
              "  .colab-df-quickchart-complete:disabled:hover {\n",
              "    background-color: var(--disabled-bg-color);\n",
              "    fill: var(--disabled-fill-color);\n",
              "    box-shadow: none;\n",
              "  }\n",
              "\n",
              "  .colab-df-spinner {\n",
              "    border: 2px solid var(--fill-color);\n",
              "    border-color: transparent;\n",
              "    border-bottom-color: var(--fill-color);\n",
              "    animation:\n",
              "      spin 1s steps(1) infinite;\n",
              "  }\n",
              "\n",
              "  @keyframes spin {\n",
              "    0% {\n",
              "      border-color: transparent;\n",
              "      border-bottom-color: var(--fill-color);\n",
              "      border-left-color: var(--fill-color);\n",
              "    }\n",
              "    20% {\n",
              "      border-color: transparent;\n",
              "      border-left-color: var(--fill-color);\n",
              "      border-top-color: var(--fill-color);\n",
              "    }\n",
              "    30% {\n",
              "      border-color: transparent;\n",
              "      border-left-color: var(--fill-color);\n",
              "      border-top-color: var(--fill-color);\n",
              "      border-right-color: var(--fill-color);\n",
              "    }\n",
              "    40% {\n",
              "      border-color: transparent;\n",
              "      border-right-color: var(--fill-color);\n",
              "      border-top-color: var(--fill-color);\n",
              "    }\n",
              "    60% {\n",
              "      border-color: transparent;\n",
              "      border-right-color: var(--fill-color);\n",
              "    }\n",
              "    80% {\n",
              "      border-color: transparent;\n",
              "      border-right-color: var(--fill-color);\n",
              "      border-bottom-color: var(--fill-color);\n",
              "    }\n",
              "    90% {\n",
              "      border-color: transparent;\n",
              "      border-bottom-color: var(--fill-color);\n",
              "    }\n",
              "  }\n",
              "</style>\n",
              "\n",
              "  <script>\n",
              "    async function quickchart(key) {\n",
              "      const quickchartButtonEl =\n",
              "        document.querySelector('#' + key + ' button');\n",
              "      quickchartButtonEl.disabled = true;  // To prevent multiple clicks.\n",
              "      quickchartButtonEl.classList.add('colab-df-spinner');\n",
              "      try {\n",
              "        const charts = await google.colab.kernel.invokeFunction(\n",
              "            'suggestCharts', [key], {});\n",
              "      } catch (error) {\n",
              "        console.error('Error during call to suggestCharts:', error);\n",
              "      }\n",
              "      quickchartButtonEl.classList.remove('colab-df-spinner');\n",
              "      quickchartButtonEl.classList.add('colab-df-quickchart-complete');\n",
              "    }\n",
              "    (() => {\n",
              "      let quickchartButtonEl =\n",
              "        document.querySelector('#df-d4f6d906-dad5-4301-9d5a-1ae525844684 button');\n",
              "      quickchartButtonEl.style.display =\n",
              "        google.colab.kernel.accessAllowed ? 'block' : 'none';\n",
              "    })();\n",
              "  </script>\n",
              "</div>\n",
              "    </div>\n",
              "  </div>\n"
            ]
          },
          "metadata": {},
          "execution_count": 2
        }
      ]
    },
    {
      "cell_type": "code",
      "source": [
        "test_df = pd.read_csv('tblTest.csv')\n",
        "print(test_df.shape, '\\n')\n",
        "test_df.head()"
      ],
      "metadata": {
        "colab": {
          "base_uri": "https://localhost:8080/",
          "height": 242
        },
        "id": "-DES2bxbMMSy",
        "outputId": "56986d42-326b-4fc9-b061-7191acfc1616"
      },
      "execution_count": 3,
      "outputs": [
        {
          "output_type": "stream",
          "name": "stdout",
          "text": [
            "(699, 4) \n",
            "\n"
          ]
        },
        {
          "output_type": "execute_result",
          "data": {
            "text/plain": [
              "                           Name  Duration   Genre  Rating\n",
              "0                     ...Yahaan       132   Drama     7.4\n",
              "1                15 Park Avenue       106   Drama     7.1\n",
              "2                          1971       146  Action     8.1\n",
              "3  5ters: Castle of Dark Master       120  Action     4.6\n",
              "4                   7 Bijliyaan       136  Action     5.0"
            ],
            "text/html": [
              "\n",
              "  <div id=\"df-29fccf22-6580-41f8-8e89-79666b44f9d0\" class=\"colab-df-container\">\n",
              "    <div>\n",
              "<style scoped>\n",
              "    .dataframe tbody tr th:only-of-type {\n",
              "        vertical-align: middle;\n",
              "    }\n",
              "\n",
              "    .dataframe tbody tr th {\n",
              "        vertical-align: top;\n",
              "    }\n",
              "\n",
              "    .dataframe thead th {\n",
              "        text-align: right;\n",
              "    }\n",
              "</style>\n",
              "<table border=\"1\" class=\"dataframe\">\n",
              "  <thead>\n",
              "    <tr style=\"text-align: right;\">\n",
              "      <th></th>\n",
              "      <th>Name</th>\n",
              "      <th>Duration</th>\n",
              "      <th>Genre</th>\n",
              "      <th>Rating</th>\n",
              "    </tr>\n",
              "  </thead>\n",
              "  <tbody>\n",
              "    <tr>\n",
              "      <th>0</th>\n",
              "      <td>...Yahaan</td>\n",
              "      <td>132</td>\n",
              "      <td>Drama</td>\n",
              "      <td>7.4</td>\n",
              "    </tr>\n",
              "    <tr>\n",
              "      <th>1</th>\n",
              "      <td>15 Park Avenue</td>\n",
              "      <td>106</td>\n",
              "      <td>Drama</td>\n",
              "      <td>7.1</td>\n",
              "    </tr>\n",
              "    <tr>\n",
              "      <th>2</th>\n",
              "      <td>1971</td>\n",
              "      <td>146</td>\n",
              "      <td>Action</td>\n",
              "      <td>8.1</td>\n",
              "    </tr>\n",
              "    <tr>\n",
              "      <th>3</th>\n",
              "      <td>5ters: Castle of Dark Master</td>\n",
              "      <td>120</td>\n",
              "      <td>Action</td>\n",
              "      <td>4.6</td>\n",
              "    </tr>\n",
              "    <tr>\n",
              "      <th>4</th>\n",
              "      <td>7 Bijliyaan</td>\n",
              "      <td>136</td>\n",
              "      <td>Action</td>\n",
              "      <td>5.0</td>\n",
              "    </tr>\n",
              "  </tbody>\n",
              "</table>\n",
              "</div>\n",
              "    <div class=\"colab-df-buttons\">\n",
              "\n",
              "  <div class=\"colab-df-container\">\n",
              "    <button class=\"colab-df-convert\" onclick=\"convertToInteractive('df-29fccf22-6580-41f8-8e89-79666b44f9d0')\"\n",
              "            title=\"Convert this dataframe to an interactive table.\"\n",
              "            style=\"display:none;\">\n",
              "\n",
              "  <svg xmlns=\"http://www.w3.org/2000/svg\" height=\"24px\" viewBox=\"0 -960 960 960\">\n",
              "    <path d=\"M120-120v-720h720v720H120Zm60-500h600v-160H180v160Zm220 220h160v-160H400v160Zm0 220h160v-160H400v160ZM180-400h160v-160H180v160Zm440 0h160v-160H620v160ZM180-180h160v-160H180v160Zm440 0h160v-160H620v160Z\"/>\n",
              "  </svg>\n",
              "    </button>\n",
              "\n",
              "  <style>\n",
              "    .colab-df-container {\n",
              "      display:flex;\n",
              "      gap: 12px;\n",
              "    }\n",
              "\n",
              "    .colab-df-convert {\n",
              "      background-color: #E8F0FE;\n",
              "      border: none;\n",
              "      border-radius: 50%;\n",
              "      cursor: pointer;\n",
              "      display: none;\n",
              "      fill: #1967D2;\n",
              "      height: 32px;\n",
              "      padding: 0 0 0 0;\n",
              "      width: 32px;\n",
              "    }\n",
              "\n",
              "    .colab-df-convert:hover {\n",
              "      background-color: #E2EBFA;\n",
              "      box-shadow: 0px 1px 2px rgba(60, 64, 67, 0.3), 0px 1px 3px 1px rgba(60, 64, 67, 0.15);\n",
              "      fill: #174EA6;\n",
              "    }\n",
              "\n",
              "    .colab-df-buttons div {\n",
              "      margin-bottom: 4px;\n",
              "    }\n",
              "\n",
              "    [theme=dark] .colab-df-convert {\n",
              "      background-color: #3B4455;\n",
              "      fill: #D2E3FC;\n",
              "    }\n",
              "\n",
              "    [theme=dark] .colab-df-convert:hover {\n",
              "      background-color: #434B5C;\n",
              "      box-shadow: 0px 1px 3px 1px rgba(0, 0, 0, 0.15);\n",
              "      filter: drop-shadow(0px 1px 2px rgba(0, 0, 0, 0.3));\n",
              "      fill: #FFFFFF;\n",
              "    }\n",
              "  </style>\n",
              "\n",
              "    <script>\n",
              "      const buttonEl =\n",
              "        document.querySelector('#df-29fccf22-6580-41f8-8e89-79666b44f9d0 button.colab-df-convert');\n",
              "      buttonEl.style.display =\n",
              "        google.colab.kernel.accessAllowed ? 'block' : 'none';\n",
              "\n",
              "      async function convertToInteractive(key) {\n",
              "        const element = document.querySelector('#df-29fccf22-6580-41f8-8e89-79666b44f9d0');\n",
              "        const dataTable =\n",
              "          await google.colab.kernel.invokeFunction('convertToInteractive',\n",
              "                                                    [key], {});\n",
              "        if (!dataTable) return;\n",
              "\n",
              "        const docLinkHtml = 'Like what you see? Visit the ' +\n",
              "          '<a target=\"_blank\" href=https://colab.research.google.com/notebooks/data_table.ipynb>data table notebook</a>'\n",
              "          + ' to learn more about interactive tables.';\n",
              "        element.innerHTML = '';\n",
              "        dataTable['output_type'] = 'display_data';\n",
              "        await google.colab.output.renderOutput(dataTable, element);\n",
              "        const docLink = document.createElement('div');\n",
              "        docLink.innerHTML = docLinkHtml;\n",
              "        element.appendChild(docLink);\n",
              "      }\n",
              "    </script>\n",
              "  </div>\n",
              "\n",
              "\n",
              "<div id=\"df-0c2541b6-0d8a-41ff-ae64-eb243f7b7532\">\n",
              "  <button class=\"colab-df-quickchart\" onclick=\"quickchart('df-0c2541b6-0d8a-41ff-ae64-eb243f7b7532')\"\n",
              "            title=\"Suggest charts\"\n",
              "            style=\"display:none;\">\n",
              "\n",
              "<svg xmlns=\"http://www.w3.org/2000/svg\" height=\"24px\"viewBox=\"0 0 24 24\"\n",
              "     width=\"24px\">\n",
              "    <g>\n",
              "        <path d=\"M19 3H5c-1.1 0-2 .9-2 2v14c0 1.1.9 2 2 2h14c1.1 0 2-.9 2-2V5c0-1.1-.9-2-2-2zM9 17H7v-7h2v7zm4 0h-2V7h2v10zm4 0h-2v-4h2v4z\"/>\n",
              "    </g>\n",
              "</svg>\n",
              "  </button>\n",
              "\n",
              "<style>\n",
              "  .colab-df-quickchart {\n",
              "      --bg-color: #E8F0FE;\n",
              "      --fill-color: #1967D2;\n",
              "      --hover-bg-color: #E2EBFA;\n",
              "      --hover-fill-color: #174EA6;\n",
              "      --disabled-fill-color: #AAA;\n",
              "      --disabled-bg-color: #DDD;\n",
              "  }\n",
              "\n",
              "  [theme=dark] .colab-df-quickchart {\n",
              "      --bg-color: #3B4455;\n",
              "      --fill-color: #D2E3FC;\n",
              "      --hover-bg-color: #434B5C;\n",
              "      --hover-fill-color: #FFFFFF;\n",
              "      --disabled-bg-color: #3B4455;\n",
              "      --disabled-fill-color: #666;\n",
              "  }\n",
              "\n",
              "  .colab-df-quickchart {\n",
              "    background-color: var(--bg-color);\n",
              "    border: none;\n",
              "    border-radius: 50%;\n",
              "    cursor: pointer;\n",
              "    display: none;\n",
              "    fill: var(--fill-color);\n",
              "    height: 32px;\n",
              "    padding: 0;\n",
              "    width: 32px;\n",
              "  }\n",
              "\n",
              "  .colab-df-quickchart:hover {\n",
              "    background-color: var(--hover-bg-color);\n",
              "    box-shadow: 0 1px 2px rgba(60, 64, 67, 0.3), 0 1px 3px 1px rgba(60, 64, 67, 0.15);\n",
              "    fill: var(--button-hover-fill-color);\n",
              "  }\n",
              "\n",
              "  .colab-df-quickchart-complete:disabled,\n",
              "  .colab-df-quickchart-complete:disabled:hover {\n",
              "    background-color: var(--disabled-bg-color);\n",
              "    fill: var(--disabled-fill-color);\n",
              "    box-shadow: none;\n",
              "  }\n",
              "\n",
              "  .colab-df-spinner {\n",
              "    border: 2px solid var(--fill-color);\n",
              "    border-color: transparent;\n",
              "    border-bottom-color: var(--fill-color);\n",
              "    animation:\n",
              "      spin 1s steps(1) infinite;\n",
              "  }\n",
              "\n",
              "  @keyframes spin {\n",
              "    0% {\n",
              "      border-color: transparent;\n",
              "      border-bottom-color: var(--fill-color);\n",
              "      border-left-color: var(--fill-color);\n",
              "    }\n",
              "    20% {\n",
              "      border-color: transparent;\n",
              "      border-left-color: var(--fill-color);\n",
              "      border-top-color: var(--fill-color);\n",
              "    }\n",
              "    30% {\n",
              "      border-color: transparent;\n",
              "      border-left-color: var(--fill-color);\n",
              "      border-top-color: var(--fill-color);\n",
              "      border-right-color: var(--fill-color);\n",
              "    }\n",
              "    40% {\n",
              "      border-color: transparent;\n",
              "      border-right-color: var(--fill-color);\n",
              "      border-top-color: var(--fill-color);\n",
              "    }\n",
              "    60% {\n",
              "      border-color: transparent;\n",
              "      border-right-color: var(--fill-color);\n",
              "    }\n",
              "    80% {\n",
              "      border-color: transparent;\n",
              "      border-right-color: var(--fill-color);\n",
              "      border-bottom-color: var(--fill-color);\n",
              "    }\n",
              "    90% {\n",
              "      border-color: transparent;\n",
              "      border-bottom-color: var(--fill-color);\n",
              "    }\n",
              "  }\n",
              "</style>\n",
              "\n",
              "  <script>\n",
              "    async function quickchart(key) {\n",
              "      const quickchartButtonEl =\n",
              "        document.querySelector('#' + key + ' button');\n",
              "      quickchartButtonEl.disabled = true;  // To prevent multiple clicks.\n",
              "      quickchartButtonEl.classList.add('colab-df-spinner');\n",
              "      try {\n",
              "        const charts = await google.colab.kernel.invokeFunction(\n",
              "            'suggestCharts', [key], {});\n",
              "      } catch (error) {\n",
              "        console.error('Error during call to suggestCharts:', error);\n",
              "      }\n",
              "      quickchartButtonEl.classList.remove('colab-df-spinner');\n",
              "      quickchartButtonEl.classList.add('colab-df-quickchart-complete');\n",
              "    }\n",
              "    (() => {\n",
              "      let quickchartButtonEl =\n",
              "        document.querySelector('#df-0c2541b6-0d8a-41ff-ae64-eb243f7b7532 button');\n",
              "      quickchartButtonEl.style.display =\n",
              "        google.colab.kernel.accessAllowed ? 'block' : 'none';\n",
              "    })();\n",
              "  </script>\n",
              "</div>\n",
              "    </div>\n",
              "  </div>\n"
            ]
          },
          "metadata": {},
          "execution_count": 3
        }
      ]
    },
    {
      "cell_type": "code",
      "source": [
        "training_df.isna().sum()"
      ],
      "metadata": {
        "colab": {
          "base_uri": "https://localhost:8080/"
        },
        "id": "4ysywOVOMf-7",
        "outputId": "05f8a4ef-1017-4924-f499-42bd879067a0"
      },
      "execution_count": 4,
      "outputs": [
        {
          "output_type": "execute_result",
          "data": {
            "text/plain": [
              "Name        0\n",
              "Duration    0\n",
              "Genre       0\n",
              "Rating      0\n",
              "dtype: int64"
            ]
          },
          "metadata": {},
          "execution_count": 4
        }
      ]
    },
    {
      "cell_type": "code",
      "source": [
        "test_df.isna().sum()"
      ],
      "metadata": {
        "colab": {
          "base_uri": "https://localhost:8080/"
        },
        "id": "8nBuul15MgCY",
        "outputId": "2f096006-7ec9-4b7c-c51d-02ccc138a025"
      },
      "execution_count": 5,
      "outputs": [
        {
          "output_type": "execute_result",
          "data": {
            "text/plain": [
              "Name        0\n",
              "Duration    0\n",
              "Genre       0\n",
              "Rating      0\n",
              "dtype: int64"
            ]
          },
          "metadata": {},
          "execution_count": 5
        }
      ]
    },
    {
      "cell_type": "markdown",
      "source": [
        "## Plot the training and test data"
      ],
      "metadata": {
        "id": "TRVGVeVSMT7s"
      }
    },
    {
      "cell_type": "code",
      "source": [
        "def plot_dataset(df, title, annot):\n",
        "  plt.plot(x = df['Duration'], y = df['Rating'])"
      ],
      "metadata": {
        "id": "Twl6RlSRMVH0"
      },
      "execution_count": 6,
      "outputs": []
    },
    {
      "cell_type": "code",
      "source": [
        "fig = px.scatter(training_df, x = 'Duration', y = 'Rating', color = 'Genre', title = 'Train dataset plot')\n",
        "fig.show()\n",
        "fig.write_image('Train dataset plot.png')"
      ],
      "metadata": {
        "colab": {
          "base_uri": "https://localhost:8080/",
          "height": 542
        },
        "id": "ldq1ypwBOtGT",
        "outputId": "ff2d3ba4-90e9-4d44-d0f6-f0ed114c6d6e"
      },
      "execution_count": 7,
      "outputs": [
        {
          "output_type": "display_data",
          "data": {
            "text/html": [
              "<html>\n",
              "<head><meta charset=\"utf-8\" /></head>\n",
              "<body>\n",
              "    <div>            <script src=\"https://cdnjs.cloudflare.com/ajax/libs/mathjax/2.7.5/MathJax.js?config=TeX-AMS-MML_SVG\"></script><script type=\"text/javascript\">if (window.MathJax && window.MathJax.Hub && window.MathJax.Hub.Config) {window.MathJax.Hub.Config({SVG: {font: \"STIX-Web\"}});}</script>                <script type=\"text/javascript\">window.PlotlyConfig = {MathJaxConfig: 'local'};</script>\n",
              "        <script charset=\"utf-8\" src=\"https://cdn.plot.ly/plotly-2.24.1.min.js\"></script>                <div id=\"d618da50-6fb3-44d8-806d-2b3f5fd99d04\" class=\"plotly-graph-div\" style=\"height:525px; width:100%;\"></div>            <script type=\"text/javascript\">                                    window.PLOTLYENV=window.PLOTLYENV || {};                                    if (document.getElementById(\"d618da50-6fb3-44d8-806d-2b3f5fd99d04\")) {                    Plotly.newPlot(                        \"d618da50-6fb3-44d8-806d-2b3f5fd99d04\",                        [{\"hovertemplate\":\"Genre=Drama\\u003cbr\\u003eDuration=%{x}\\u003cbr\\u003eRating=%{y}\\u003cextra\\u003e\\u003c\\u002fextra\\u003e\",\"legendgroup\":\"Drama\",\"marker\":{\"color\":\"#636efa\",\"symbol\":\"circle\"},\"mode\":\"markers\",\"name\":\"Drama\",\"showlegend\":true,\"x\":[99,86,136,158,84,114,111,105,90,112,83,111,65,103,82,117,95,135,100,93,85,117,133,94,111,110,97,144,158,148,128,139,140,106,134,127,111,143,129,97,167,150,123,134,126,135,144,135,154,113,110,105,122,99,136,122,135,162,151,122,90,150,131,122,132,78,124,158,185,135,151,116,120,135,112,134,120,110,150,105,132,94,139,150,125,150,114,143,139,156,133,111,125,127,92,103,112,117,134,135,156,142,96,145,117,160,119,153,112,143,138,124,115,76,140,140,135,150,74,129,138,115,131,137,134,87,100,142,123,163,113,114,112,159,80,148,116,134,128,108,167,80,132,94,135,99,117,128,116,142,144,139,134,60,183,139,163,130,107,115,126,159,117,138,132,152,119,110,126,136,128,136,120,112,119,113,90,93,149,171,127,129,161,146,122,137,123,155,127,107,118,135,149,114,125,147,135,138,109,161,132,159,136,129,151,128,138,110,113,78,123,111,107,116,148,146,178,125,68,102,134,141,135,110,127,155,126,126,141,126,154,135,128,73,125,64,133,90,118,164,86,83,130,132,134,131,128,144,121,81,135,112,73,135,124,75,115,144,117,164,104,106,85,114,88,85,85,110,121,80,124,109,155,141,130,126,109,143,120,157,98,139,106,127,156,176,197,137,146,90,113,75,130,92,130,80,160,134,131,145,127,165,117,117,100,150,145,70,125,80,95,104,98,125,110,116,117,80,82,130,82,132,106,98,109,76,128,129,139,136,130,79,87,108,135,145,96,75,93,75,135,142,103,118,118,131,135,112,115,65,85,101,141,90,120,87,88,120,162,134,77,138,175,129,149,107,69,157,128,151,136,157,138,140,115,118,90,143,116,142,120,87,110,154,159,111,175,154,134,140,148,125,163,129,125,140,206,128,178,171,120,125,145,121,139,150,137,151,120,134,119,89,127,143,137,154,153,120,126,114,100,110,152,150,85,127,106,128,143,72,100,106,110,132,90,123,112,129,95,157,127,90,95,134,110,126,121,125,140,130,105,63,110,154,110,122,141,126,87,84,123,92,93,136,104,94,119,129,138,157,109,58,103,124,141,135,91,94,74,90,121,74,96,124,159,94,138,117,112,109,97,98,87,102,100,114,92,119,95,136,80,88,128,141,140,125,95,143,110,132,145,148,147,84,126,131,113,114,93,116,100,141,145,144,124,111,150,110,109,144,144,115,156,116,142,114,92,160,115,92,125,104,82,119,98,78,125,111,80,155,139,124,130,120,116,123,83,119,110,113,166,160,176,110,121,117,125,119,174,139,95,126,117,162,158,133,154,111,158,134,124,132,104,108,118,139,85,80,91,70,90,83,77,117,154,123,133,107,133,111,129,115,134,125,123,149,106,122,99,119,121,112,98,138,120,121,128,125,117,130,143,121,129,166,84,102,128,117,135,116,102,84,82,104,114,129,115,147,133,153,114,163,83,122,142,149,126,130,130,94,132,167,137,89,83,134,132,144,137,157,126,120,106,90,127,117,105,134,149,83,131,113,145,129,146,110,80,134,156,139,158,80,63,125,141,91,128,122,183,200,167,85,125,85,128,110,83,74,117,148,156,135,102,60,114,142,100,110,85,78,103,130,129,127,140,93,139,104,135,89,146,100,86,140,97,146,121,138,141,142,100,120,129,106,115,90,117,112,161,148,84,82,150,162,135,72,121,81,148,122,110,90,142,129,101,122,74,127,161,132,80,143,114,127,75,130,120,86,95,94,154,76,88,145,135,150,159,112,179,127,214,130,110,123,124,138,177,82,98,80,161,99,127,115,135,154,90,75,155,98,93,82,115,110,136,126,142,135,132,110,133,136,84,151,142,96,81,146,117,110,115,135,127,138,141,142,103,106,114,120,123,120,127,155,72,152,138,150,120,137,110,170,96,140,132,80,110,112,100,82,110,103,102,150,99,126,97,155,108,141,89,151,120,95,120,97,145,160,86,70,145,145,141,124,143,152,89,116,103,105,110,140,132,152,130,140,154,130,128,151,143,155,132,131,138,80,136,160,131,99,88,140,150,118,110,151,80,92,120,133,90,170,117,90,94,90,83,100,95,75,162,128,108,98,86,104,145,125,85,132,130,146,63,90,120,124,67,114,120,114,139,91,64,124,110,94,112,93,110,124,140,119,56,146,133,116,140,148,118,106,111,124,136,102,136,72,115,122,112,120,94,132,110,89,147,122,141,114,106,150,130,144,113,136,130,98,72,123,90,118,100,128,118,98,100,110,120,105,145,95,70,105,107,125,91,162,91,80,87,116,134,89,140,104,112,88,119,154,125,129,121,135,128,119,124,121,88,73,91,137,115,106,119,110,135,115,129,100,106,90,110,130,133,73,106,120,117,118,131,90,132,158,112,105,138,100,117,110,148,128,178,165,120,75,140,124,122,100,110,156,73,115,111,139,190,147,146,173,92,127,138,111,100,87,132,127,134,106,67,155,113,123,147,136,127,137,151,143,177,123,120,123,99,118,130,90,141,100,60,129,141,107,135,148,113,136,100,123,80,101,134,94,147,132,140,125,70,127,115,70,129,70,149,135,96,76,148,119,107,85,97,133,135,149,170,106,143,90,110,118,107,96,129,126,140,171,143,128,99,127,161,107,146,128,120,140,113,132,125,130,150,127,131,127,119,125,142,105,122,67,110,139,118,155,152,118,173,144,146,134,129,103,155,151,140,145,152,90,147,125,96,108,116,125,138,154,104,142,165,100,121,125,113,120,101,120,140,94,130,117,127,84,130,144,89,154,111,119,110,66,139,137,145,135,120,105,116,124,126,134,103,110,108,100,152,129,95,125,90,160,115,122,85,129,83,150,116,106,80,89,132,86,95,124,172,128,89,125,115,115,123,128,144,135,133,84,130,92,161,143,104,98,122,150,126,125,156,194,79,90,136,125,95,150,151,128,117,111,110,126,130,179,150,141,94,169,125,128,111,172,117,117,105,110,112,123,134,98,110,100,161,112,130,94,126,110,133,143,138,165,122,63,110,132,80,124,134,115,83,128,77,141,85,78,82,95,88,80,114,94,79,131,110,103,120,86,109,97,124,77,135,123,65,62,108,125,140,130,127,111,111,84,88,125,103,149,140,126,77,102,97,125,120,101,85,127,104,117,86,126,78,137,148,125,130,140,94,129,62,135,146,124,126,110,114,124,141,116,83,115,80,96,103,102,100,140,143,135,91,140,88,83,126,117,182,85,150,108,110,141,72,100,155,133,122,150,140,126,120,69,168,112,100,98,68,99,82,105,182,102,84,84,110,129,130,95,143,118,135,106,67,165,119,107,137,106,97,150,137,130,123,125,129,127,136,149,123,74,114,115,124,127,105,139,130,121,126,102,121,110,129,124,130,90,105],\"xaxis\":\"x\",\"y\":[7.0,6.2,7.3,5.6,4.5,4.8,7.7,6.9,6.9,7.5,5.6,7.3,4.8,7.8,6.2,4.1,8.1,6.3,7.5,4.5,8.0,7.3,3.8,7.9,8.0,6.8,7.6,6.4,6.2,5.0,5.4,6.0,6.8,5.5,5.6,6.2,6.7,6.9,6.3,7.7,6.4,5.6,8.1,6.1,7.4,4.8,6.4,5.7,6.2,5.3,7.1,4.3,7.0,3.7,7.3,6.1,4.8,5.5,7.2,6.4,3.8,6.3,6.8,5.8,6.5,4.7,6.5,7.8,3.6,5.9,6.4,4.6,2.9,5.9,7.0,5.7,8.0,6.6,6.6,5.8,6.7,6.9,6.3,7.0,4.8,6.7,6.8,7.0,6.8,6.1,8.2,6.5,6.2,7.0,7.3,5.9,8.3,7.1,6.2,5.3,6.7,5.5,6.1,7.2,7.1,6.9,6.5,5.6,7.3,7.0,7.1,7.4,6.3,6.9,4.5,6.6,7.2,5.5,7.1,6.7,7.4,6.6,6.6,6.8,6.6,3.5,6.2,5.9,6.5,6.0,6.8,6.1,7.3,7.6,6.5,5.2,5.3,6.2,7.9,6.9,7.1,4.9,6.3,7.6,7.5,7.3,8.8,6.0,8.2,3.8,7.2,4.2,6.5,6.0,7.9,5.9,6.2,7.1,8.8,2.1,8.3,5.4,7.3,7.1,7.3,4.8,5.9,8.2,6.7,6.3,6.0,6.9,5.4,5.4,6.7,4.7,6.6,5.9,7.2,7.4,5.5,7.1,7.6,6.0,6.5,6.3,6.8,7.4,6.8,8.1,3.2,6.1,7.2,7.1,6.2,7.7,5.1,6.0,5.6,7.7,6.9,3.7,6.8,6.8,6.0,6.9,6.8,7.3,8.5,5.9,6.9,3.7,6.8,4.4,7.3,6.2,4.4,5.8,7.2,7.6,5.1,4.4,5.6,7.0,7.3,6.7,8.7,4.4,4.9,6.0,5.8,5.3,4.6,6.2,6.2,6.8,6.2,4.9,7.0,7.1,7.2,7.8,6.7,7.4,6.5,7.0,6.9,5.7,6.0,7.6,6.2,8.2,6.6,6.7,5.7,6.3,6.0,7.0,6.7,5.1,7.6,7.3,6.8,6.1,6.8,4.1,3.4,4.5,4.2,4.2,6.5,5.7,3.5,5.5,3.9,7.7,5.9,8.2,6.5,6.6,7.0,6.8,6.8,4.8,6.7,6.8,6.9,8.1,8.0,7.1,6.8,6.4,6.1,7.5,7.7,6.3,8.3,7.1,3.7,6.6,6.1,6.7,4.6,5.3,7.2,6.7,4.6,7.8,6.8,6.5,7.5,5.8,6.1,5.3,5.9,7.4,3.5,5.9,5.6,6.5,9.0,6.5,7.7,6.2,6.9,6.1,4.6,6.5,7.0,7.0,5.1,7.1,7.7,4.9,7.4,5.5,6.7,6.6,7.0,8.3,7.5,7.0,6.5,3.8,7.2,4.7,7.1,6.8,7.4,8.1,6.3,5.8,7.5,7.5,4.3,5.0,5.9,4.9,6.9,8.0,4.2,7.1,7.6,6.2,7.9,7.8,5.2,3.7,4.5,6.5,6.5,5.0,4.4,7.3,6.4,7.8,7.0,6.7,7.2,7.2,7.2,3.6,7.0,5.0,6.4,3.5,5.3,5.1,4.6,4.8,5.1,4.4,7.0,5.0,6.5,5.3,5.5,3.8,5.3,8.1,2.5,6.4,6.9,8.4,6.0,6.5,7.1,6.0,6.3,6.5,4.9,4.0,7.0,6.9,7.9,7.0,8.4,3.3,5.5,5.3,6.2,5.2,7.6,5.2,6.3,3.7,4.6,7.1,4.0,7.0,7.7,5.6,6.7,7.0,8.5,7.1,2.9,6.6,7.1,7.5,6.4,7.2,2.5,5.8,6.3,6.1,6.8,6.9,6.6,6.6,5.7,6.9,4.0,6.9,4.4,5.2,6.9,5.9,5.7,5.8,6.2,7.1,5.9,4.5,5.3,4.9,4.1,4.3,8.0,6.9,4.6,6.2,6.6,5.4,5.5,5.1,7.4,7.2,6.8,6.2,5.4,6.0,6.3,4.7,7.2,8.3,6.0,7.2,5.0,7.1,5.8,2.5,7.6,5.2,7.3,5.3,4.5,7.3,3.4,8.1,7.3,3.5,4.2,5.9,6.0,6.8,6.7,7.1,7.6,4.0,6.0,5.9,6.6,6.6,5.7,6.9,6.2,6.6,6.8,3.2,7.0,7.3,7.4,6.8,6.9,7.2,4.2,8.4,5.4,8.0,5.8,4.1,7.7,7.5,5.8,3.4,5.7,6.9,5.8,8.4,4.4,7.2,7.9,6.7,7.8,7.7,7.6,4.4,6.4,6.5,7.2,5.7,5.3,4.4,4.5,7.9,6.2,3.3,7.4,2.7,6.2,6.5,7.1,7.9,5.1,4.0,5.6,3.3,6.4,5.1,4.2,5.4,6.4,6.4,5.7,5.7,7.5,7.1,4.2,6.5,4.6,5.9,6.4,7.5,4.8,6.9,6.8,5.7,7.2,5.4,7.3,3.7,6.9,6.5,6.0,6.1,5.9,7.1,7.0,7.3,6.0,6.0,7.4,6.8,6.5,3.8,5.8,8.1,6.3,5.4,7.3,5.5,6.7,4.5,6.7,6.8,5.0,7.0,5.3,5.9,4.8,4.8,6.5,6.7,5.6,8.1,6.4,7.9,6.2,6.7,6.0,7.1,7.5,7.1,4.4,5.9,3.9,7.6,5.0,5.6,4.2,5.4,6.7,5.9,6.9,4.9,6.3,7.1,7.3,7.2,7.2,6.3,5.9,5.9,4.4,5.2,4.9,6.4,3.4,7.4,5.2,3.0,7.4,9.0,6.2,2.1,6.2,4.0,2.3,9.4,7.6,5.6,4.2,6.8,5.6,7.6,8.0,5.9,5.0,7.1,6.2,3.4,2.7,6.6,4.2,7.3,4.8,6.6,6.1,7.4,7.4,7.8,7.1,8.1,5.7,7.8,5.4,6.0,6.7,5.7,3.6,6.3,6.2,8.0,7.2,7.8,6.5,7.1,7.2,5.1,8.2,6.2,6.6,3.7,7.9,6.3,7.3,6.9,6.5,4.8,6.7,2.9,6.6,5.1,4.5,4.3,5.9,6.7,6.0,6.9,5.6,5.5,7.1,6.9,5.7,7.7,7.7,4.0,6.2,6.9,7.7,8.1,7.2,6.6,4.7,7.5,6.3,8.1,5.8,7.1,4.6,7.8,4.1,6.7,7.1,7.5,5.6,6.3,4.5,7.1,7.9,6.7,7.9,7.4,7.3,3.8,6.6,6.5,4.3,4.3,6.9,5.7,7.4,5.9,3.9,5.6,5.8,5.4,7.1,6.2,8.1,7.8,7.3,4.7,5.0,6.5,7.4,7.3,6.0,5.2,7.5,6.7,8.2,4.4,5.8,6.4,5.9,7.1,8.4,6.6,5.8,5.8,6.1,7.8,5.3,7.3,5.9,5.7,4.7,3.8,3.6,5.5,10.0,6.5,5.3,6.0,5.1,7.1,7.1,6.4,5.1,5.9,6.5,7.5,5.1,7.0,5.4,8.6,8.6,4.6,6.3,7.0,6.8,7.1,6.3,4.8,5.2,7.2,5.8,7.4,7.8,5.1,8.1,6.8,5.2,6.9,7.3,6.2,7.1,6.0,6.0,6.9,4.2,3.5,8.2,6.2,5.3,8.4,7.2,6.8,7.7,4.7,2.8,7.0,5.4,6.9,8.5,6.5,7.9,6.7,7.2,6.6,6.7,6.5,3.4,7.2,6.6,6.8,7.6,3.6,5.6,4.1,3.8,8.8,4.9,4.7,7.4,6.6,5.6,5.0,7.0,6.4,6.9,6.3,5.1,7.1,6.2,6.8,5.0,4.1,6.6,7.5,6.2,7.7,7.1,6.1,6.3,4.5,6.5,8.0,6.5,5.3,3.5,7.1,5.3,4.8,9.0,6.7,4.7,7.9,8.0,6.7,4.2,5.8,6.5,7.2,3.9,5.0,6.1,7.0,6.9,4.8,6.8,2.7,5.9,7.7,6.4,5.3,5.4,4.9,7.4,6.3,7.5,5.5,7.2,6.2,3.1,6.1,6.5,5.7,4.2,6.0,6.7,6.7,7.9,6.8,5.6,6.3,7.4,6.8,7.5,5.9,7.3,7.6,8.2,6.0,7.0,3.8,3.2,5.6,6.6,7.4,6.2,7.1,6.5,7.0,6.9,6.3,7.7,6.8,6.1,7.4,7.7,6.1,5.2,4.3,7.5,7.7,9.1,5.5,5.4,4.9,7.3,5.8,7.2,6.0,6.0,6.9,5.7,6.2,6.6,7.5,8.2,5.2,7.1,5.5,7.0,6.8,3.1,6.4,7.4,7.0,6.6,4.8,4.9,7.1,7.1,7.0,7.2,7.3,7.6,6.3,6.5,3.9,6.8,6.8,3.7,6.0,5.0,6.2,6.2,7.6,6.4,8.1,7.5,7.2,6.6,7.2,7.6,7.1,4.0,5.6,7.8,4.3,7.0,8.0,6.2,6.3,6.0,5.0,6.1,7.5,6.5,6.2,5.7,3.2,7.6,5.4,5.8,6.2,8.0,7.9,8.4,8.7,5.0,6.7,8.3,5.4,6.9,8.0,6.8,5.5,6.5,6.6,6.3,7.6,5.9,7.2,6.5,6.1,6.1,7.7,6.4,6.6,7.4,6.1,6.4,3.6,6.1,3.3,5.7,5.9,6.5,8.4,3.3,6.3,6.1,6.8,5.6,3.6,5.7,5.1,5.4,6.5,7.6,5.2,6.5,2.9,5.6,7.0,5.4,7.6,6.9,3.7,2.3,4.5,7.3,6.5,7.6,6.5,7.2,8.0,6.0,7.5,6.4,6.7,7.2,6.9,5.9,4.5,7.0,7.0,8.4,5.1,6.9,3.5,6.5,6.8,6.7,8.7,7.8,5.0,7.7,7.7,4.2,4.2,6.3,6.8,5.5,7.2,7.7,6.4,6.3,5.4,7.2,7.2,4.9,6.3,8.2,8.2,5.9,7.1,7.2,6.8,5.1,6.7,2.8,5.2,5.1,4.8,7.3,7.2,8.4,7.2,6.1,5.6,8.3,8.4,4.1,5.8,6.4,5.6,7.3,6.9,6.2,6.7,7.4,7.4,4.2,5.6,6.7,6.4,7.3,5.8,7.1,6.8,3.3,7.2,5.2,6.9,6.2,7.5,7.0,4.8,5.3,5.4,6.7,5.9,8.2,7.2,7.2,6.2,6.1,6.3,6.2,7.5,7.8,6.8,6.8,5.2,7.6,6.0,5.1,6.6,7.4,7.2,6.9,2.3,6.8,6.7,6.5,6.6,6.8,6.8,6.5,5.8,5.5,6.4,3.5,7.4,7.2,6.5,3.8,7.0,4.9,8.1,6.2,7.3,6.8,7.2,6.6,5.7,6.5,7.3,7.2,6.6,5.0,7.8,6.4,7.2,6.6,7.3,6.2,4.0,7.3,4.2,7.7,5.8,5.1,6.5,6.9,6.3,6.5,4.3,7.2,6.9,6.0,3.5,6.0,9.1,5.8,3.5,7.1,5.7,5.3,6.1,7.8,8.5,5.6,4.9,3.6,6.3,7.2,4.8,7.3,6.3,4.5,6.8,6.0,6.4,7.3,8.2,6.7,6.7,8.7,6.7,5.6,6.6,6.1,6.7,6.8,7.6,5.1,8.4,7.5,7.2,6.0,6.3,7.3,5.5,6.9,7.6,7.2,8.1,7.3,7.5,5.9,5.4,4.9,7.2,6.2,7.0,5.3,6.8,5.9,7.7,6.4,5.9,2.4,6.0,5.1,6.9,5.4,5.0,6.1,4.2,6.6,7.9,6.2,7.8,7.0,6.4,3.5,9.4,8.0,6.7,5.9,7.2,7.8,7.3,8.1,4.4,5.7,6.9,7.0,5.9,5.9,7.3,6.4,6.6,5.8,7.3,5.9,6.3,6.7,5.2,5.5,5.7,5.4,2.6,7.6,6.3,6.5,6.7,6.1,7.0,7.3,7.2,8.0,3.8,6.2,4.8,7.5,3.9,5.0,4.6,8.3,5.6,8.1,4.8,5.9,8.1,5.0,6.1,6.2,4.4,6.6,5.5,8.2,5.8,4.2,7.3,7.0,6.7,6.9,6.8,5.2,6.9,4.8,7.3,7.0,8.2,7.4,5.0,7.8,6.7,3.8,7.1,7.2,7.3,6.2,5.6,7.5,4.3,7.1,6.6,6.7,4.4,6.7,6.6,7.8,6.4,4.8,4.9,7.9,5.2,5.4,6.5,7.3,5.5,6.8,9.0,6.2,7.6,7.6,5.2,6.5,5.4,2.7,5.1,6.7,4.4,6.4,7.6,3.9,5.4,4.7,7.1,5.2,4.4,6.1,3.7,4.9,8.0,3.0,5.2,5.1,5.9,7.0,7.9,6.0,3.0,6.3,7.7,6.4,7.1,5.3,3.9,7.1,7.0,6.8,6.0,5.7,5.7,6.1],\"yaxis\":\"y\",\"type\":\"scattergl\"},{\"hovertemplate\":\"Genre=Action\\u003cbr\\u003eDuration=%{x}\\u003cbr\\u003eRating=%{y}\\u003cextra\\u003e\\u003c\\u002fextra\\u003e\",\"legendgroup\":\"Action\",\"marker\":{\"color\":\"#EF553B\",\"symbol\":\"circle\"},\"mode\":\"markers\",\"name\":\"Action\",\"showlegend\":true,\"x\":[126,168,136,167,132,158,119,144,140,132,134,161,155,158,133,149,190,147,163,174,157,180,138,133,167,138,158,159,130,181,136,125,187,162,109,153,148,180,190,158,155,167,170,115,160,123,165,177,149,138,121,135,157,135,139,116,203,146,145,170,118,154,130,148,147,161,160,155,163,145,162,163,149,167,163,152,171,184,184,147,133,150,135,167,160,156,175,188,135,118,190,194,142,133,155,173,138,154,133,170,150,147,143,194,150,177,170,154,165,175,186,137,151,124,126,163,153,182,159,174,142,146,135,147,183,165,138,164,143,160,117,163,191,145,149,151,96,190,137,147,137,181,160,168,136,147,173,164,163,113,185,146,166,147,167,151,145,150,135,193,132,169,143,154,156,160,176,150,144,168,129,154,168,173,147,152,155,164,149,162,163,147,130,165,150,169,176,211,145,156,138,150,131,149,153,176,128,111,148,157,182,128,143,172,164,124,119,146,163,124,170,138,150,123,143,125,164,153,136,117,119,129,140,165,174,113,163,142,147,186,117,153,149,185,134,147,148,156,133,186,160,160,171,147,164,165,127,165,147,171,150,130,162,148,150,160,115,150,146,145,128,150,113,164,151,156,185,160,115,147,155,149,148,125,153,108,159,134,154,143,127,187,156,144,171,173,144,133,131,181,162,173,155,136,130,170,168,147,143,130,171,137,130,170,163,160,163,171,115,169,188,141,190,160,153,165,183,163,172,163,178,184,195,174,168,113,151,168,175,155,149,149,171,187,145,158,156,146,142,165,175,169,173,168,127,139,162,182,149,155,165,147,167,146,175,150,169,170,168,140,129,134,190,160,151,130,138,149,150,145,168,155,120,181,176,158,178,172,162,140,169,176,138,179,149,174,165,156,139,166,143,152,163,149,119,143,140,136,190,165,168,190,142,150,156,169,159,155,180,149,145,137,160,152,146,141,157,136,180,67,155,132,146,150,160,180,126,154,174,147,137,139,162,138,121,180,162,158,162,155,175,179,141,145,112,136,163,141,129,157,175,177,196,140,168,173,137,172,172,172,209,146,170,165,150,160,148,152,153,171,138,155,117,159,159,179,146,139,150,162,144,183,172,144,157,147,166,170,195,175,151,194,175,141,159,150,161,141,146,143,149,174,166,183,155,162,156,149,156,123,127,162,147,159,130,140,162,138,190,148,157,121,133,150,155,194,164,155,152,171,129,155,163,101,183,139,136,162,166,162,188,130,133,162,139,150,172,146,160,151,190,195,155,160,134,148,185,130,171,102,145,139,150,166,144,146,152,165,170,149,147,190,165,163,164,180,182,165,135,171,145,149,147,145,139,170,205,154,144,167,185,148,144,145,140,129,133,143,159,133,130,146,142,182,132,155,148,150,181,172,148,194,147,148,155,159,157,153,156,113,144,145,149,172,129,100,167,89,137,160,146,163,167,133,153,154,141,141,175,182,141,172,150,170,136,155,153,136,152,140,167,114,172,160,100,127,185,137,195,120,203,140,178,134,107,169,183,152,167,155,144,209,164,133,160,142,172,160,167,184,200,150,84,140,166,184,100,140,178,167,167,151,172,163,151,161,127,136,220,142,203,143,165,171,156,145,170,167,152,110,152,170,147,133,132,133,127,161,145,160,181,176,197,152,150,169,169,190,151,169,164,162,197,181,196,147,139,141,165,182,155,149,180,196,190,152,162,128,151,176,155,165,184,170,163,170,159,100,120,166,146,190,185,147,142,172,170,149,138,158,129,134,140,155,138,147,191,173,102,155,169,165,129,146,189,185,164,182,146,145,160,168,135,146,131,158,176,145,144,123,113,142,162,132,127,140,153,162,160,120,160,182,161,145,167,151,139,163,141,160,120,174,112,139,145,164,127,165,136,156,165,102,148,124,133,158,172,160,144,130,207,105,145,150,172,181,137,161,173,142,125,192,167,147,157,138,138,111,158,181,162,143,207,147,147,134,197,106,145,141,147,149,149,133,130,172,108,165,144,170,134,117,156,70,135,147,142,178,140,159,176,149,164,155,160,166,151,59,159,175,162,165,164,139,172,144,148,165,146,125,169,175,166,158,160,156,156,183,173,127,136,142,159,160,173,148,151,156,142,151,169,174,160,177,202,166,174,166,172,148,185,146,174,143,150,171,159,172,158,140,144,140,146,120,149,190,107,167,156,166,157,145,163,119,140,148,160,153,143,132,167,178,175,150,135,130,173,100,135,145,137,136,179,132,184,130,180,133,151,135,108,143,139,180,158,142,138,132,163,155,130,92,115,174,161,135,151,145,200,169,140,153,150,156,153,136,147,162,112,141,154,116,150,119,185,142,154,172,124,153,145,144,149,160,150,152,129,160,175,139,149,158,165,171,148,154,180,161,165,168,174,184,127,140,145,147,180,152,150,107,149,165,121,152,124,135,160,191,153,185,133,131,131,180,176,147,170,150,152,138,150,145,122,135,155,145,149,172,171,135,163,163,175,148,132,165,156,118,154,190,167,168,151,144,151,152,171,198,122,128,166,90,153,178,161,165,184,157,158,158,106,138,190,149,180,145,185,152,105,133,141,158,173,143,164,144,178,127,153,153,175,149,152,145,172,154,146,141,138,109,130,125,136,135,137,161,179,135,162,135,150,140,114,183,131,173,172,151,175,145,109,126,120,147,135,126,122,115,170,127,165,119,118,164,140,118,111,116,148,139,170,150,152,174,140,171,178,126,147,184,148,143,140,197,167,177,163,170,158,148,144,154,149,165,150,160,174,155,145,171,140,110,145,135,176,71,139,152,132,110,178,145,158,173,146,156,169,109,179,155,184,140,110,120,140,157,158,166,166,164,143,105,146,159,141,162,155,163,165,148,140,160,147,180,148,202,164,155,135,183,136,160,162,108,144,159,146,155,165,85,171,141,169,173,161,130,179,172,137,164,182,164,146,155,147,180,135,119,167,160,139,140],\"xaxis\":\"x\",\"y\":[4.0,6.9,3.5,7.2,5.0,6.2,5.8,6.5,5.3,5.4,5.3,3.0,6.2,7.2,2.7,4.6,4.8,4.8,4.2,4.7,5.3,3.5,4.3,3.1,5.8,5.0,5.2,4.1,5.0,4.9,6.3,7.0,7.2,3.0,7.7,6.4,6.4,6.7,3.1,5.2,4.5,4.6,3.8,5.2,4.5,3.9,5.2,4.4,4.5,6.1,5.4,4.4,5.0,4.8,7.8,5.8,4.6,6.4,5.4,4.0,5.0,3.3,3.6,6.4,6.6,5.4,6.8,6.9,6.2,4.6,4.6,4.5,5.7,5.2,5.1,3.1,5.6,7.7,6.9,7.8,3.6,4.6,4.1,5.3,6.4,3.7,6.4,5.3,5.0,6.9,5.0,5.8,4.6,3.8,6.2,6.7,4.8,6.2,6.1,5.4,4.7,6.6,4.9,7.5,6.6,4.4,8.1,6.8,6.1,5.0,6.4,4.3,5.3,6.3,4.4,6.1,4.8,7.2,7.5,7.7,4.9,4.4,7.4,5.7,7.4,5.6,6.8,7.2,3.6,5.2,4.3,4.3,7.0,4.4,3.4,5.2,4.8,6.5,5.4,6.5,4.5,6.0,6.2,6.2,7.3,5.5,7.2,7.2,5.0,6.4,6.9,4.9,4.2,4.8,5.7,5.3,3.2,7.3,6.3,6.5,6.9,8.0,6.3,5.0,6.7,7.0,4.9,5.8,7.6,4.8,2.5,6.4,7.2,8.0,5.6,4.3,5.1,4.8,5.8,6.1,5.6,4.9,5.9,5.9,6.0,4.7,5.4,6.3,4.8,3.9,5.6,4.6,5.3,5.4,3.6,4.8,5.2,6.0,6.0,5.1,3.8,3.2,4.6,7.8,7.6,4.3,5.0,5.3,4.6,5.6,5.0,3.8,4.4,7.5,3.8,3.9,6.7,8.5,4.1,6.2,5.0,3.7,4.7,5.5,6.1,5.2,6.4,6.8,4.2,7.9,2.9,5.1,3.9,5.4,6.9,3.6,5.0,7.3,5.8,6.8,7.0,7.0,6.8,3.4,4.1,6.8,5.8,4.0,4.5,5.8,6.8,4.2,6.8,4.6,4.4,6.0,4.0,4.3,4.3,7.1,5.6,5.3,4.9,3.9,7.6,6.8,6.6,4.0,7.3,6.9,4.2,6.5,5.8,5.0,3.7,5.8,4.2,6.2,5.3,5.7,4.0,6.6,6.7,2.9,4.8,5.6,3.1,5.7,5.1,6.2,4.8,3.1,4.5,6.2,4.8,3.0,6.5,5.0,4.8,6.2,5.3,4.7,3.8,4.9,6.1,3.9,3.7,8.4,5.4,6.1,7.8,3.8,5.9,6.1,5.7,6.2,6.5,7.2,5.5,4.6,6.5,8.1,6.9,4.7,5.3,7.6,3.1,5.5,6.0,3.6,4.0,7.7,5.8,3.5,5.5,5.1,4.4,7.3,5.4,3.5,6.7,5.8,6.7,7.0,6.2,6.7,6.5,5.4,6.9,6.1,6.1,6.1,3.1,5.3,4.5,5.1,5.8,3.7,5.1,4.0,5.2,5.1,3.8,6.2,6.3,5.3,6.5,3.8,6.7,5.7,4.4,3.3,6.4,7.2,7.8,7.1,4.6,5.2,5.7,5.9,5.1,5.6,6.2,7.0,7.0,5.6,5.6,5.4,5.0,4.9,4.7,5.2,6.3,6.6,4.7,3.8,3.4,6.5,4.0,5.8,7.0,4.3,5.5,4.7,5.3,4.4,6.5,5.7,6.2,6.5,7.1,8.4,5.6,7.0,6.9,4.5,4.7,5.1,6.2,5.6,6.2,5.5,6.1,3.3,5.3,6.1,8.3,3.4,5.3,6.5,6.2,4.9,6.6,7.1,4.8,7.2,4.6,3.7,5.3,3.5,4.5,5.0,5.1,5.2,4.7,5.3,7.4,6.0,2.7,5.4,5.3,6.1,7.3,4.4,7.4,7.6,6.3,6.8,7.3,6.6,7.2,6.3,5.9,5.5,5.0,7.4,6.4,5.8,7.0,5.5,5.0,6.7,3.7,6.2,5.1,4.9,6.7,7.3,4.2,2.4,6.8,7.3,5.6,6.0,4.9,6.3,4.2,8.1,4.9,5.6,5.3,7.8,6.7,5.4,4.7,6.0,6.9,4.1,5.6,3.4,4.7,6.8,8.2,6.7,3.5,4.8,6.2,5.5,5.3,2.9,3.7,6.4,5.0,5.1,4.3,6.6,6.2,5.3,5.4,5.4,4.7,5.2,7.6,5.0,3.5,6.8,6.3,4.8,5.5,4.4,6.0,4.5,2.7,4.9,6.4,6.1,5.4,5.4,5.7,5.3,5.4,6.9,4.5,5.8,5.7,4.7,4.8,3.9,5.4,4.6,3.0,7.4,4.6,6.2,6.8,6.5,4.8,6.5,6.9,6.4,7.5,4.4,4.5,5.8,4.2,6.9,4.1,7.3,5.6,4.7,6.6,5.3,2.7,5.8,6.1,2.8,6.0,6.3,4.4,6.5,6.4,5.1,3.9,5.1,5.1,3.6,5.0,5.7,6.6,4.0,6.2,6.0,5.2,5.6,5.3,5.8,5.5,5.9,4.8,4.1,3.8,5.1,2.5,7.3,6.8,6.8,5.6,7.5,4.9,6.2,4.6,3.1,3.9,6.1,3.6,6.5,4.2,5.6,6.1,5.6,5.4,4.2,7.1,6.7,4.2,5.0,6.8,3.3,3.8,6.5,6.8,6.2,4.3,4.8,5.9,6.0,6.9,6.0,5.6,6.9,6.3,6.2,6.0,5.5,5.6,6.4,6.7,6.5,3.9,7.4,6.0,3.1,5.6,4.6,8.2,5.5,6.8,6.2,6.1,2.7,7.4,4.4,7.0,5.1,3.0,7.5,3.9,2.1,5.1,5.7,5.4,6.4,3.2,3.8,5.0,6.8,5.7,7.4,5.6,7.4,7.2,5.7,6.3,4.6,4.8,4.0,6.2,5.2,5.8,7.2,5.2,4.3,6.0,5.3,5.7,4.8,4.1,6.1,6.2,6.2,6.5,7.4,5.8,4.4,5.3,4.6,6.3,6.1,6.3,5.3,6.1,5.9,6.1,3.3,4.6,6.1,6.0,6.8,5.5,5.4,7.1,6.2,7.2,3.8,6.3,7.4,4.6,5.7,4.4,6.5,6.4,5.2,5.9,5.6,4.5,5.8,6.0,5.4,7.3,4.5,6.3,6.1,4.4,7.9,3.2,4.6,5.0,3.4,2.4,6.6,5.9,5.3,5.6,5.1,6.0,5.5,4.4,3.8,3.3,5.1,3.1,2.6,7.5,4.4,4.6,3.5,7.8,3.7,5.4,2.7,3.7,5.3,7.7,5.1,5.0,6.5,6.1,7.3,4.9,5.0,5.6,4.3,6.3,6.6,7.0,6.5,3.7,5.2,6.0,6.5,5.7,4.8,4.7,5.9,3.6,6.4,5.9,4.2,7.4,7.3,7.4,6.4,3.6,6.8,4.1,5.8,5.2,4.8,5.4,4.7,5.3,3.8,7.0,4.7,4.6,3.9,5.2,6.6,5.1,3.9,5.6,7.3,3.2,4.6,4.3,6.7,3.8,5.3,4.5,5.3,5.7,6.6,4.4,4.8,4.2,6.6,5.5,7.3,6.6,6.7,5.8,6.6,6.1,3.3,4.2,4.8,6.2,5.5,7.1,7.6,7.2,4.1,5.5,5.9,6.3,4.5,3.3,6.1,4.1,7.3,5.4,6.2,7.1,6.2,6.5,5.5,7.8,4.7,4.9,6.3,5.9,2.9,4.3,5.1,8.0,6.7,7.2,8.1,7.4,4.6,5.0,5.5,8.0,4.7,7.7,6.2,4.1,5.0,6.7,3.2,6.4,4.1,4.6,6.5,5.3,6.5,6.4,5.9,5.2,5.3,6.5,5.7,7.8,7.6,6.9,7.2,5.5,3.8,6.6,5.5,2.8,7.2,6.4,4.8,6.7,4.8,5.4,5.8,6.3,4.4,6.3,4.5,4.1,3.7,4.1,4.5,4.1,5.0,4.6,5.9,6.0,7.0,4.9,4.1,6.9,2.1,4.4,5.7,5.5,4.2,5.8,4.4,7.4,6.6,4.7,6.0,6.3,6.7,3.8,6.2,5.6,3.3,6.8,6.1,6.0,4.7,5.8,7.0,5.2,4.7,5.1,8.1,7.5,6.3,5.4,7.8,5.4,6.8,5.8,7.4,6.1,5.3,6.2,2.9,3.3,6.4,5.1,6.6,7.6,2.9,5.8,5.3,6.3,5.4,6.8,3.4,4.5,4.7,5.4,6.1,3.6,6.2,5.0,5.6,5.8,7.7,2.9,5.7,5.9,4.8,6.4,4.9,8.5,4.6,6.9,3.9,6.6,2.6,4.9,6.9,5.8,6.0,5.7,3.3,2.7,6.5,4.8,7.5,4.0,6.2,6.2,6.4,5.7,7.6,6.2,5.7,3.4,6.0,2.9,6.7,4.5,6.5,6.0,6.6,4.4,6.8,4.8,6.7,5.4,5.8,6.6,7.1,7.8,5.8,6.0,5.5,4.8,6.9,5.0,5.2,4.7,8.1,3.9,4.9,6.3,5.0,8.2,5.9,5.7,3.8,4.7,6.5,7.6,4.4,6.8,7.7,6.9,7.1,7.1,6.3,4.6,5.4,7.2,6.0,7.7,6.3,3.5,5.6,6.0,4.3,5.5,6.8,5.4,5.1,4.5,3.6,5.7,5.6,8.1,4.6,4.7,6.2,6.5,7.7,7.1,5.9,2.3,3.6,3.9,4.5,8.5,5.6,5.0,5.6,5.5,5.7,5.1,7.5,5.5,7.1,6.2,2.8,8.1,6.3,5.8,4.9,4.6,6.3,6.2,5.2,3.7,6.9,6.5,3.7,7.0,5.3,6.8,4.3,5.5,4.5,5.7,4.1,4.5,4.4,4.7,4.7,5.7,5.4,7.5,4.6,4.0,5.6,6.0,7.6,6.5,4.5,4.6,3.8,5.6,4.5,3.9,4.0,5.8,6.3,6.3,6.4,6.3,2.5,5.5,3.1,5.4,6.8,6.2,7.0,3.9,5.9,5.7,6.1,4.8,6.3,7.1,6.9,5.6,8.3,7.5,7.6,7.1,6.5,5.3,4.7,8.1,4.6,4.0,5.7,7.3,2.9,7.0,7.7,6.4,6.5,6.6,4.4,7.5,4.1,6.4,5.9,6.9,7.6,3.2,4.9,5.7,6.8,4.2,4.8,5.1,7.7,5.2,5.6,7.8,8.2,3.8,7.4,4.4,4.2,6.9,5.8,8.5,4.7,6.0,4.5,7.0,6.4,6.6,5.3,5.7,6.0,5.8,6.7,6.9,7.1,7.2,5.2,6.5,5.0,7.3,3.7,5.3,4.9,7.2,5.9,6.5,5.4,3.7,3.8,5.5,6.6,6.0,6.3,5.9,6.5,6.8,7.1,4.1,5.7,4.3,4.2,6.4,3.5,3.7,4.2,6.3,7.0,6.0,7.2,7.0,5.4,3.4,4.5,4.7,6.3,3.4,5.8,4.3,6.4,6.8,4.1,6.5,7.2,6.2,7.7,7.4,4.9,5.3,4.6,4.0,5.6,6.0,4.9,3.8,6.3,5.5,5.3,6.2,7.6,3.2,5.8,7.1,4.0,4.3,5.6,4.5,6.2],\"yaxis\":\"y\",\"type\":\"scattergl\"}],                        {\"template\":{\"data\":{\"histogram2dcontour\":[{\"type\":\"histogram2dcontour\",\"colorbar\":{\"outlinewidth\":0,\"ticks\":\"\"},\"colorscale\":[[0.0,\"#0d0887\"],[0.1111111111111111,\"#46039f\"],[0.2222222222222222,\"#7201a8\"],[0.3333333333333333,\"#9c179e\"],[0.4444444444444444,\"#bd3786\"],[0.5555555555555556,\"#d8576b\"],[0.6666666666666666,\"#ed7953\"],[0.7777777777777778,\"#fb9f3a\"],[0.8888888888888888,\"#fdca26\"],[1.0,\"#f0f921\"]]}],\"choropleth\":[{\"type\":\"choropleth\",\"colorbar\":{\"outlinewidth\":0,\"ticks\":\"\"}}],\"histogram2d\":[{\"type\":\"histogram2d\",\"colorbar\":{\"outlinewidth\":0,\"ticks\":\"\"},\"colorscale\":[[0.0,\"#0d0887\"],[0.1111111111111111,\"#46039f\"],[0.2222222222222222,\"#7201a8\"],[0.3333333333333333,\"#9c179e\"],[0.4444444444444444,\"#bd3786\"],[0.5555555555555556,\"#d8576b\"],[0.6666666666666666,\"#ed7953\"],[0.7777777777777778,\"#fb9f3a\"],[0.8888888888888888,\"#fdca26\"],[1.0,\"#f0f921\"]]}],\"heatmap\":[{\"type\":\"heatmap\",\"colorbar\":{\"outlinewidth\":0,\"ticks\":\"\"},\"colorscale\":[[0.0,\"#0d0887\"],[0.1111111111111111,\"#46039f\"],[0.2222222222222222,\"#7201a8\"],[0.3333333333333333,\"#9c179e\"],[0.4444444444444444,\"#bd3786\"],[0.5555555555555556,\"#d8576b\"],[0.6666666666666666,\"#ed7953\"],[0.7777777777777778,\"#fb9f3a\"],[0.8888888888888888,\"#fdca26\"],[1.0,\"#f0f921\"]]}],\"heatmapgl\":[{\"type\":\"heatmapgl\",\"colorbar\":{\"outlinewidth\":0,\"ticks\":\"\"},\"colorscale\":[[0.0,\"#0d0887\"],[0.1111111111111111,\"#46039f\"],[0.2222222222222222,\"#7201a8\"],[0.3333333333333333,\"#9c179e\"],[0.4444444444444444,\"#bd3786\"],[0.5555555555555556,\"#d8576b\"],[0.6666666666666666,\"#ed7953\"],[0.7777777777777778,\"#fb9f3a\"],[0.8888888888888888,\"#fdca26\"],[1.0,\"#f0f921\"]]}],\"contourcarpet\":[{\"type\":\"contourcarpet\",\"colorbar\":{\"outlinewidth\":0,\"ticks\":\"\"}}],\"contour\":[{\"type\":\"contour\",\"colorbar\":{\"outlinewidth\":0,\"ticks\":\"\"},\"colorscale\":[[0.0,\"#0d0887\"],[0.1111111111111111,\"#46039f\"],[0.2222222222222222,\"#7201a8\"],[0.3333333333333333,\"#9c179e\"],[0.4444444444444444,\"#bd3786\"],[0.5555555555555556,\"#d8576b\"],[0.6666666666666666,\"#ed7953\"],[0.7777777777777778,\"#fb9f3a\"],[0.8888888888888888,\"#fdca26\"],[1.0,\"#f0f921\"]]}],\"surface\":[{\"type\":\"surface\",\"colorbar\":{\"outlinewidth\":0,\"ticks\":\"\"},\"colorscale\":[[0.0,\"#0d0887\"],[0.1111111111111111,\"#46039f\"],[0.2222222222222222,\"#7201a8\"],[0.3333333333333333,\"#9c179e\"],[0.4444444444444444,\"#bd3786\"],[0.5555555555555556,\"#d8576b\"],[0.6666666666666666,\"#ed7953\"],[0.7777777777777778,\"#fb9f3a\"],[0.8888888888888888,\"#fdca26\"],[1.0,\"#f0f921\"]]}],\"mesh3d\":[{\"type\":\"mesh3d\",\"colorbar\":{\"outlinewidth\":0,\"ticks\":\"\"}}],\"scatter\":[{\"fillpattern\":{\"fillmode\":\"overlay\",\"size\":10,\"solidity\":0.2},\"type\":\"scatter\"}],\"parcoords\":[{\"type\":\"parcoords\",\"line\":{\"colorbar\":{\"outlinewidth\":0,\"ticks\":\"\"}}}],\"scatterpolargl\":[{\"type\":\"scatterpolargl\",\"marker\":{\"colorbar\":{\"outlinewidth\":0,\"ticks\":\"\"}}}],\"bar\":[{\"error_x\":{\"color\":\"#2a3f5f\"},\"error_y\":{\"color\":\"#2a3f5f\"},\"marker\":{\"line\":{\"color\":\"#E5ECF6\",\"width\":0.5},\"pattern\":{\"fillmode\":\"overlay\",\"size\":10,\"solidity\":0.2}},\"type\":\"bar\"}],\"scattergeo\":[{\"type\":\"scattergeo\",\"marker\":{\"colorbar\":{\"outlinewidth\":0,\"ticks\":\"\"}}}],\"scatterpolar\":[{\"type\":\"scatterpolar\",\"marker\":{\"colorbar\":{\"outlinewidth\":0,\"ticks\":\"\"}}}],\"histogram\":[{\"marker\":{\"pattern\":{\"fillmode\":\"overlay\",\"size\":10,\"solidity\":0.2}},\"type\":\"histogram\"}],\"scattergl\":[{\"type\":\"scattergl\",\"marker\":{\"colorbar\":{\"outlinewidth\":0,\"ticks\":\"\"}}}],\"scatter3d\":[{\"type\":\"scatter3d\",\"line\":{\"colorbar\":{\"outlinewidth\":0,\"ticks\":\"\"}},\"marker\":{\"colorbar\":{\"outlinewidth\":0,\"ticks\":\"\"}}}],\"scattermapbox\":[{\"type\":\"scattermapbox\",\"marker\":{\"colorbar\":{\"outlinewidth\":0,\"ticks\":\"\"}}}],\"scatterternary\":[{\"type\":\"scatterternary\",\"marker\":{\"colorbar\":{\"outlinewidth\":0,\"ticks\":\"\"}}}],\"scattercarpet\":[{\"type\":\"scattercarpet\",\"marker\":{\"colorbar\":{\"outlinewidth\":0,\"ticks\":\"\"}}}],\"carpet\":[{\"aaxis\":{\"endlinecolor\":\"#2a3f5f\",\"gridcolor\":\"white\",\"linecolor\":\"white\",\"minorgridcolor\":\"white\",\"startlinecolor\":\"#2a3f5f\"},\"baxis\":{\"endlinecolor\":\"#2a3f5f\",\"gridcolor\":\"white\",\"linecolor\":\"white\",\"minorgridcolor\":\"white\",\"startlinecolor\":\"#2a3f5f\"},\"type\":\"carpet\"}],\"table\":[{\"cells\":{\"fill\":{\"color\":\"#EBF0F8\"},\"line\":{\"color\":\"white\"}},\"header\":{\"fill\":{\"color\":\"#C8D4E3\"},\"line\":{\"color\":\"white\"}},\"type\":\"table\"}],\"barpolar\":[{\"marker\":{\"line\":{\"color\":\"#E5ECF6\",\"width\":0.5},\"pattern\":{\"fillmode\":\"overlay\",\"size\":10,\"solidity\":0.2}},\"type\":\"barpolar\"}],\"pie\":[{\"automargin\":true,\"type\":\"pie\"}]},\"layout\":{\"autotypenumbers\":\"strict\",\"colorway\":[\"#636efa\",\"#EF553B\",\"#00cc96\",\"#ab63fa\",\"#FFA15A\",\"#19d3f3\",\"#FF6692\",\"#B6E880\",\"#FF97FF\",\"#FECB52\"],\"font\":{\"color\":\"#2a3f5f\"},\"hovermode\":\"closest\",\"hoverlabel\":{\"align\":\"left\"},\"paper_bgcolor\":\"white\",\"plot_bgcolor\":\"#E5ECF6\",\"polar\":{\"bgcolor\":\"#E5ECF6\",\"angularaxis\":{\"gridcolor\":\"white\",\"linecolor\":\"white\",\"ticks\":\"\"},\"radialaxis\":{\"gridcolor\":\"white\",\"linecolor\":\"white\",\"ticks\":\"\"}},\"ternary\":{\"bgcolor\":\"#E5ECF6\",\"aaxis\":{\"gridcolor\":\"white\",\"linecolor\":\"white\",\"ticks\":\"\"},\"baxis\":{\"gridcolor\":\"white\",\"linecolor\":\"white\",\"ticks\":\"\"},\"caxis\":{\"gridcolor\":\"white\",\"linecolor\":\"white\",\"ticks\":\"\"}},\"coloraxis\":{\"colorbar\":{\"outlinewidth\":0,\"ticks\":\"\"}},\"colorscale\":{\"sequential\":[[0.0,\"#0d0887\"],[0.1111111111111111,\"#46039f\"],[0.2222222222222222,\"#7201a8\"],[0.3333333333333333,\"#9c179e\"],[0.4444444444444444,\"#bd3786\"],[0.5555555555555556,\"#d8576b\"],[0.6666666666666666,\"#ed7953\"],[0.7777777777777778,\"#fb9f3a\"],[0.8888888888888888,\"#fdca26\"],[1.0,\"#f0f921\"]],\"sequentialminus\":[[0.0,\"#0d0887\"],[0.1111111111111111,\"#46039f\"],[0.2222222222222222,\"#7201a8\"],[0.3333333333333333,\"#9c179e\"],[0.4444444444444444,\"#bd3786\"],[0.5555555555555556,\"#d8576b\"],[0.6666666666666666,\"#ed7953\"],[0.7777777777777778,\"#fb9f3a\"],[0.8888888888888888,\"#fdca26\"],[1.0,\"#f0f921\"]],\"diverging\":[[0,\"#8e0152\"],[0.1,\"#c51b7d\"],[0.2,\"#de77ae\"],[0.3,\"#f1b6da\"],[0.4,\"#fde0ef\"],[0.5,\"#f7f7f7\"],[0.6,\"#e6f5d0\"],[0.7,\"#b8e186\"],[0.8,\"#7fbc41\"],[0.9,\"#4d9221\"],[1,\"#276419\"]]},\"xaxis\":{\"gridcolor\":\"white\",\"linecolor\":\"white\",\"ticks\":\"\",\"title\":{\"standoff\":15},\"zerolinecolor\":\"white\",\"automargin\":true,\"zerolinewidth\":2},\"yaxis\":{\"gridcolor\":\"white\",\"linecolor\":\"white\",\"ticks\":\"\",\"title\":{\"standoff\":15},\"zerolinecolor\":\"white\",\"automargin\":true,\"zerolinewidth\":2},\"scene\":{\"xaxis\":{\"backgroundcolor\":\"#E5ECF6\",\"gridcolor\":\"white\",\"linecolor\":\"white\",\"showbackground\":true,\"ticks\":\"\",\"zerolinecolor\":\"white\",\"gridwidth\":2},\"yaxis\":{\"backgroundcolor\":\"#E5ECF6\",\"gridcolor\":\"white\",\"linecolor\":\"white\",\"showbackground\":true,\"ticks\":\"\",\"zerolinecolor\":\"white\",\"gridwidth\":2},\"zaxis\":{\"backgroundcolor\":\"#E5ECF6\",\"gridcolor\":\"white\",\"linecolor\":\"white\",\"showbackground\":true,\"ticks\":\"\",\"zerolinecolor\":\"white\",\"gridwidth\":2}},\"shapedefaults\":{\"line\":{\"color\":\"#2a3f5f\"}},\"annotationdefaults\":{\"arrowcolor\":\"#2a3f5f\",\"arrowhead\":0,\"arrowwidth\":1},\"geo\":{\"bgcolor\":\"white\",\"landcolor\":\"#E5ECF6\",\"subunitcolor\":\"white\",\"showland\":true,\"showlakes\":true,\"lakecolor\":\"white\"},\"title\":{\"x\":0.05},\"mapbox\":{\"style\":\"light\"}}},\"xaxis\":{\"anchor\":\"y\",\"domain\":[0.0,1.0],\"title\":{\"text\":\"Duration\"}},\"yaxis\":{\"anchor\":\"x\",\"domain\":[0.0,1.0],\"title\":{\"text\":\"Rating\"}},\"legend\":{\"title\":{\"text\":\"Genre\"},\"tracegroupgap\":0},\"title\":{\"text\":\"Train dataset plot\"}},                        {\"responsive\": true}                    ).then(function(){\n",
              "                            \n",
              "var gd = document.getElementById('d618da50-6fb3-44d8-806d-2b3f5fd99d04');\n",
              "var x = new MutationObserver(function (mutations, observer) {{\n",
              "        var display = window.getComputedStyle(gd).display;\n",
              "        if (!display || display === 'none') {{\n",
              "            console.log([gd, 'removed!']);\n",
              "            Plotly.purge(gd);\n",
              "            observer.disconnect();\n",
              "        }}\n",
              "}});\n",
              "\n",
              "// Listen for the removal of the full notebook cells\n",
              "var notebookContainer = gd.closest('#notebook-container');\n",
              "if (notebookContainer) {{\n",
              "    x.observe(notebookContainer, {childList: true});\n",
              "}}\n",
              "\n",
              "// Listen for the clearing of the current output cell\n",
              "var outputEl = gd.closest('.output');\n",
              "if (outputEl) {{\n",
              "    x.observe(outputEl, {childList: true});\n",
              "}}\n",
              "\n",
              "                        })                };                            </script>        </div>\n",
              "</body>\n",
              "</html>"
            ]
          },
          "metadata": {}
        }
      ]
    },
    {
      "cell_type": "code",
      "source": [
        "fig = px.scatter(test_df, x = 'Duration', y = 'Rating', color = 'Genre', title = 'Test dataset plot')\n",
        "fig.show()\n",
        "fig.write_image('Test dataset plot.png')"
      ],
      "metadata": {
        "colab": {
          "base_uri": "https://localhost:8080/",
          "height": 542
        },
        "id": "tbyj_JvJQScZ",
        "outputId": "c44d5128-3259-4405-c0ba-234c10302dbf"
      },
      "execution_count": 8,
      "outputs": [
        {
          "output_type": "display_data",
          "data": {
            "text/html": [
              "<html>\n",
              "<head><meta charset=\"utf-8\" /></head>\n",
              "<body>\n",
              "    <div>            <script src=\"https://cdnjs.cloudflare.com/ajax/libs/mathjax/2.7.5/MathJax.js?config=TeX-AMS-MML_SVG\"></script><script type=\"text/javascript\">if (window.MathJax && window.MathJax.Hub && window.MathJax.Hub.Config) {window.MathJax.Hub.Config({SVG: {font: \"STIX-Web\"}});}</script>                <script type=\"text/javascript\">window.PlotlyConfig = {MathJaxConfig: 'local'};</script>\n",
              "        <script charset=\"utf-8\" src=\"https://cdn.plot.ly/plotly-2.24.1.min.js\"></script>                <div id=\"3c0bb5d5-d0c8-48c9-8d89-9c1c3da542ca\" class=\"plotly-graph-div\" style=\"height:525px; width:100%;\"></div>            <script type=\"text/javascript\">                                    window.PLOTLYENV=window.PLOTLYENV || {};                                    if (document.getElementById(\"3c0bb5d5-d0c8-48c9-8d89-9c1c3da542ca\")) {                    Plotly.newPlot(                        \"3c0bb5d5-d0c8-48c9-8d89-9c1c3da542ca\",                        [{\"hovertemplate\":\"Genre=Drama\\u003cbr\\u003eDuration=%{x}\\u003cbr\\u003eRating=%{y}\\u003cextra\\u003e\\u003c\\u002fextra\\u003e\",\"legendgroup\":\"Drama\",\"marker\":{\"color\":\"#636efa\",\"symbol\":\"circle\"},\"mode\":\"markers\",\"name\":\"Drama\",\"orientation\":\"v\",\"showlegend\":true,\"x\":[132,106,127,105,165,68,140,120,84,118,119,165,97,123,117,112,144,129,140,96,112,148,128,132,129,126,129,90,99,110,133,100,125,121,67,131,103,120,87,118,86,140,91,136,81,160,131,98,117,140,140,115,115,115,110,132,161,158,137,90,64,129,90,95,126,127,84,127,100,99,126,78,125,110,127,145,110,139,136,130,127,81,131,85,103,138,100,138,153,161,155,56,146,160,143,128,82,161,99,156,100,167,137,113,105,127,137,124,134,118,70,87,150,99,170,118,147,135,117,142,111,146,126,62,130,54,129,141,145,164,118,139,111,99,149,115,96,134,120,127,167,127,164,145,134,140,114,126,80,121,124,110,133,134,139,99,133,124,130,96,127,113,122,130,110,170,125,111,90,138,157,150,120,96,115,93,80,133,114,92,118,115,115,82,55,105,71,112,108,110,96,95,141,126,80,120,90,96,114,130,153,138,94,118,119,109,87,101,120,138,110,94,92,120,109,123,179,179,70,155,129,124,94,107,140,163,108,112,90,120,100,85,125,94,108,82,131,88,150,117,181,120,119,83,115,147,142,163,127,126,102,100,100,81,128,77,147,127,138,140,86,152,102,75,130,128,123,112,139,83,112,130,168,112,140,138,197,95,148,148,125,115,110,176,100,73,125,99,190,110,116,119,150,110,140,146,124,138,136,146,106,162,134,80,118,110,115,140,137,97,109,89,90,115,133,104,119,130,154,147,128,100,80,79,92,90,105,81,133,89,110,130,125,141,65,95,107,110,124,140,178,135,165,75,170,108,111,94,110,115,107,91,83,110,122,119,116],\"xaxis\":\"x\",\"y\":[7.4,7.1,6.1,6.7,6.8,7.6,7.2,6.4,6.6,6.3,6.7,5.4,7.0,7.6,4.0,7.9,6.7,6.9,5.0,3.3,5.5,5.8,7.1,6.1,6.5,6.6,7.7,5.5,5.9,6.5,4.4,5.6,7.1,8.0,7.9,6.4,6.7,6.8,9.3,4.3,6.4,7.2,8.7,6.4,7.7,5.7,6.7,3.7,5.1,5.9,7.1,7.0,4.8,5.6,2.8,7.0,6.3,5.4,4.3,7.1,6.4,5.9,7.1,7.4,7.5,7.6,6.6,5.4,7.2,8.3,6.7,6.5,6.2,3.9,7.3,7.1,6.8,6.3,5.1,7.1,7.2,7.8,6.1,4.3,6.4,6.7,4.9,5.0,7.6,6.9,7.0,6.9,7.2,6.4,8.2,7.7,7.0,7.1,7.3,6.9,5.7,7.1,7.2,7.8,7.7,6.7,6.3,7.3,3.4,5.8,6.9,6.0,7.5,7.1,6.2,4.6,6.4,5.7,6.8,6.5,7.0,5.5,4.7,7.6,7.1,6.1,6.7,7.0,6.9,3.7,6.7,6.4,6.7,7.9,5.1,6.0,6.3,5.9,7.3,5.3,6.3,5.8,5.4,5.2,6.8,5.9,5.0,6.2,5.3,6.2,5.3,4.6,6.5,8.6,3.7,7.9,6.1,4.6,6.3,5.0,6.6,6.2,6.6,7.9,6.3,4.4,7.1,7.0,8.7,6.9,7.2,7.5,6.5,7.2,5.0,6.6,5.5,7.4,7.4,2.4,4.7,7.4,8.6,6.7,8.5,7.9,6.6,7.4,3.9,7.2,5.4,6.7,6.7,7.7,7.6,7.7,7.2,6.1,5.7,6.1,3.5,6.4,7.2,7.6,3.5,5.6,5.3,6.0,4.1,7.5,5.8,6.8,6.7,7.1,6.6,6.5,5.5,7.5,7.4,8.0,6.7,6.3,4.3,6.4,6.5,8.0,4.4,6.8,8.3,4.0,3.9,9.1,7.6,5.3,5.1,6.3,7.6,5.8,5.5,7.6,7.0,7.2,6.8,6.2,5.8,4.6,8.0,5.7,8.3,7.3,6.9,3.9,6.9,6.7,5.2,5.9,4.6,6.3,6.5,6.1,6.0,7.5,5.4,7.4,6.2,6.3,5.7,7.3,3.6,4.9,6.6,5.8,6.7,6.8,4.8,3.3,5.4,8.0,6.8,6.7,7.4,6.1,6.8,7.1,5.8,5.6,5.8,5.8,4.5,6.4,7.5,5.4,5.4,3.2,7.3,3.2,7.0,7.0,6.7,6.4,6.6,7.1,6.0,6.9,6.6,7.1,5.6,4.8,5.0,6.6,6.6,5.6,6.5,5.4,6.6,5.6,6.5,6.8,5.0,5.4,5.3,6.2,6.5,7.2,6.8,7.2,8.6,7.3,7.6,5.7,6.8,4.4,7.1,7.9,6.9,7.6,6.0,7.3,6.0,2.4,5.5,3.3,7.5,5.6,4.1,5.3,6.8,5.4,3.7,5.4,7.7,4.9,4.8,7.6,6.2,4.7,5.5],\"yaxis\":\"y\",\"type\":\"scatter\"},{\"hovertemplate\":\"Genre=Action\\u003cbr\\u003eDuration=%{x}\\u003cbr\\u003eRating=%{y}\\u003cextra\\u003e\\u003c\\u002fextra\\u003e\",\"legendgroup\":\"Action\",\"marker\":{\"color\":\"#EF553B\",\"symbol\":\"circle\"},\"mode\":\"markers\",\"name\":\"Action\",\"orientation\":\"v\",\"showlegend\":true,\"x\":[146,120,136,114,127,115,142,167,163,143,180,148,161,145,56,163,142,147,174,170,148,159,125,135,165,150,178,168,113,142,151,158,143,178,144,190,143,153,162,144,173,156,157,123,168,141,160,170,138,175,158,162,159,166,138,148,140,157,169,151,137,145,175,135,152,153,101,144,103,158,138,132,157,166,172,182,142,149,149,157,153,55,135,160,115,154,176,178,144,156,162,152,197,167,133,160,130,121,149,152,127,188,122,169,149,150,190,176,148,157,150,153,148,189,190,170,155,140,162,159,159,179,173,153,144,171,150,142,165,153,165,137,150,164,148,182,166,180,162,132,160,135,190,149,135,169,117,156,125,156,172,145,180,186,147,183,155,152,148,144,153,130,129,134,148,170,179,177,137,153,100,150,155,166,154,143,171,136,127,136,212,117,186,173,136,151,143,159,154,119,141,174,138,175,187,119,165,172,166,125,159,140,173,187,140,137,189,140,143,168,142,145,146,156,146,137,106,137,120,149,130,135,156,135,179,145,130,170,135,152,122,122,160,165,142,148,151,146,156,168,110,125,130,170,146,123,159,161,171,145,174,158,154,162,148,142,165,133,129,159,154,128,143,155,148,162,137,140,134,135,170,163,160,108,165,156,147,154,167,170,172,156,145,153,179,152,151,173,144,112,156,155,174,155,148,130,179,142,144,161,140,111,150,163,121,116,156,167,161,159,164,152,102,171,174,183,152,138,116,155,145,142,179,185,154,182,162,158,138,190,155,113,130,148,138,158,152,164,141,152,126,135],\"xaxis\":\"x\",\"y\":[8.1,4.6,5.0,8.1,5.0,5.5,5.1,5.4,6.5,4.1,5.3,3.4,5.0,6.0,3.1,5.1,3.3,5.6,7.1,7.3,2.8,5.7,6.3,6.1,5.8,4.8,4.6,4.5,4.1,5.3,6.9,6.8,5.8,3.4,5.1,5.1,5.2,2.1,6.0,7.4,2.7,7.2,6.8,4.6,5.6,5.7,4.9,5.7,5.8,4.8,4.5,5.4,5.6,6.5,5.7,5.6,6.4,5.5,6.5,6.0,6.1,7.1,2.3,6.9,7.9,6.6,4.4,6.4,3.9,6.2,5.8,4.5,8.1,5.5,5.3,5.7,7.0,7.1,3.9,3.5,6.2,8.2,4.9,3.9,6.1,6.0,6.0,7.2,4.6,5.3,6.1,5.4,4.6,7.8,7.1,6.1,5.4,6.7,6.1,7.8,4.7,7.6,5.3,6.7,7.1,4.9,5.0,4.6,5.5,6.2,5.6,6.3,4.5,4.5,4.3,7.2,5.3,6.1,4.6,7.0,5.8,7.2,6.5,3.5,3.6,4.7,9.2,7.1,4.2,6.9,5.1,5.0,5.7,3.5,4.5,5.0,5.8,4.1,5.2,5.8,4.8,4.6,5.7,4.6,3.6,7.3,5.7,4.0,5.6,4.6,5.8,6.5,9.1,7.7,6.4,7.1,6.1,5.3,5.2,3.6,6.3,4.0,2.3,4.4,6.8,3.2,6.9,5.1,4.3,3.7,4.2,6.3,5.4,4.7,5.1,4.2,5.7,3.2,4.4,5.2,6.7,5.8,5.8,6.1,5.1,4.8,6.2,7.6,6.3,6.4,5.7,4.1,5.1,5.3,6.2,5.4,4.9,7.3,5.2,3.5,5.7,3.4,4.7,7.0,3.6,4.3,7.8,3.3,3.8,2.5,8.6,6.0,4.9,3.3,4.0,6.5,7.5,5.8,6.8,5.1,4.9,3.8,4.2,4.3,5.4,8.2,5.1,5.2,5.9,4.3,4.8,2.2,6.6,5.6,4.4,4.4,6.6,5.9,5.2,3.4,7.8,6.4,4.3,5.2,8.4,3.6,6.7,4.3,6.3,6.5,4.7,5.7,5.1,6.2,5.2,4.5,6.6,5.6,6.8,5.4,6.5,7.2,4.7,6.1,6.6,4.8,6.8,4.5,7.6,6.7,7.2,5.8,6.2,5.6,2.6,5.2,5.5,4.6,6.9,3.9,8.2,7.0,5.7,6.8,6.5,6.1,4.0,4.8,5.9,2.9,2.2,4.0,6.7,5.7,3.2,5.6,2.5,7.3,5.4,6.3,4.2,7.3,5.7,4.7,2.6,2.6,6.2,4.0,5.6,5.7,8.0,6.8,3.4,5.2,4.5,6.3,6.2,4.5,6.5,8.0,5.5,3.7,4.5,6.5,6.0,5.6,5.1,8.1,5.3,6.9,6.5,7.1,5.9,7.1,5.2,4.4,4.6,4.8,4.7,3.6,4.9,5.8],\"yaxis\":\"y\",\"type\":\"scatter\"}],                        {\"template\":{\"data\":{\"histogram2dcontour\":[{\"type\":\"histogram2dcontour\",\"colorbar\":{\"outlinewidth\":0,\"ticks\":\"\"},\"colorscale\":[[0.0,\"#0d0887\"],[0.1111111111111111,\"#46039f\"],[0.2222222222222222,\"#7201a8\"],[0.3333333333333333,\"#9c179e\"],[0.4444444444444444,\"#bd3786\"],[0.5555555555555556,\"#d8576b\"],[0.6666666666666666,\"#ed7953\"],[0.7777777777777778,\"#fb9f3a\"],[0.8888888888888888,\"#fdca26\"],[1.0,\"#f0f921\"]]}],\"choropleth\":[{\"type\":\"choropleth\",\"colorbar\":{\"outlinewidth\":0,\"ticks\":\"\"}}],\"histogram2d\":[{\"type\":\"histogram2d\",\"colorbar\":{\"outlinewidth\":0,\"ticks\":\"\"},\"colorscale\":[[0.0,\"#0d0887\"],[0.1111111111111111,\"#46039f\"],[0.2222222222222222,\"#7201a8\"],[0.3333333333333333,\"#9c179e\"],[0.4444444444444444,\"#bd3786\"],[0.5555555555555556,\"#d8576b\"],[0.6666666666666666,\"#ed7953\"],[0.7777777777777778,\"#fb9f3a\"],[0.8888888888888888,\"#fdca26\"],[1.0,\"#f0f921\"]]}],\"heatmap\":[{\"type\":\"heatmap\",\"colorbar\":{\"outlinewidth\":0,\"ticks\":\"\"},\"colorscale\":[[0.0,\"#0d0887\"],[0.1111111111111111,\"#46039f\"],[0.2222222222222222,\"#7201a8\"],[0.3333333333333333,\"#9c179e\"],[0.4444444444444444,\"#bd3786\"],[0.5555555555555556,\"#d8576b\"],[0.6666666666666666,\"#ed7953\"],[0.7777777777777778,\"#fb9f3a\"],[0.8888888888888888,\"#fdca26\"],[1.0,\"#f0f921\"]]}],\"heatmapgl\":[{\"type\":\"heatmapgl\",\"colorbar\":{\"outlinewidth\":0,\"ticks\":\"\"},\"colorscale\":[[0.0,\"#0d0887\"],[0.1111111111111111,\"#46039f\"],[0.2222222222222222,\"#7201a8\"],[0.3333333333333333,\"#9c179e\"],[0.4444444444444444,\"#bd3786\"],[0.5555555555555556,\"#d8576b\"],[0.6666666666666666,\"#ed7953\"],[0.7777777777777778,\"#fb9f3a\"],[0.8888888888888888,\"#fdca26\"],[1.0,\"#f0f921\"]]}],\"contourcarpet\":[{\"type\":\"contourcarpet\",\"colorbar\":{\"outlinewidth\":0,\"ticks\":\"\"}}],\"contour\":[{\"type\":\"contour\",\"colorbar\":{\"outlinewidth\":0,\"ticks\":\"\"},\"colorscale\":[[0.0,\"#0d0887\"],[0.1111111111111111,\"#46039f\"],[0.2222222222222222,\"#7201a8\"],[0.3333333333333333,\"#9c179e\"],[0.4444444444444444,\"#bd3786\"],[0.5555555555555556,\"#d8576b\"],[0.6666666666666666,\"#ed7953\"],[0.7777777777777778,\"#fb9f3a\"],[0.8888888888888888,\"#fdca26\"],[1.0,\"#f0f921\"]]}],\"surface\":[{\"type\":\"surface\",\"colorbar\":{\"outlinewidth\":0,\"ticks\":\"\"},\"colorscale\":[[0.0,\"#0d0887\"],[0.1111111111111111,\"#46039f\"],[0.2222222222222222,\"#7201a8\"],[0.3333333333333333,\"#9c179e\"],[0.4444444444444444,\"#bd3786\"],[0.5555555555555556,\"#d8576b\"],[0.6666666666666666,\"#ed7953\"],[0.7777777777777778,\"#fb9f3a\"],[0.8888888888888888,\"#fdca26\"],[1.0,\"#f0f921\"]]}],\"mesh3d\":[{\"type\":\"mesh3d\",\"colorbar\":{\"outlinewidth\":0,\"ticks\":\"\"}}],\"scatter\":[{\"fillpattern\":{\"fillmode\":\"overlay\",\"size\":10,\"solidity\":0.2},\"type\":\"scatter\"}],\"parcoords\":[{\"type\":\"parcoords\",\"line\":{\"colorbar\":{\"outlinewidth\":0,\"ticks\":\"\"}}}],\"scatterpolargl\":[{\"type\":\"scatterpolargl\",\"marker\":{\"colorbar\":{\"outlinewidth\":0,\"ticks\":\"\"}}}],\"bar\":[{\"error_x\":{\"color\":\"#2a3f5f\"},\"error_y\":{\"color\":\"#2a3f5f\"},\"marker\":{\"line\":{\"color\":\"#E5ECF6\",\"width\":0.5},\"pattern\":{\"fillmode\":\"overlay\",\"size\":10,\"solidity\":0.2}},\"type\":\"bar\"}],\"scattergeo\":[{\"type\":\"scattergeo\",\"marker\":{\"colorbar\":{\"outlinewidth\":0,\"ticks\":\"\"}}}],\"scatterpolar\":[{\"type\":\"scatterpolar\",\"marker\":{\"colorbar\":{\"outlinewidth\":0,\"ticks\":\"\"}}}],\"histogram\":[{\"marker\":{\"pattern\":{\"fillmode\":\"overlay\",\"size\":10,\"solidity\":0.2}},\"type\":\"histogram\"}],\"scattergl\":[{\"type\":\"scattergl\",\"marker\":{\"colorbar\":{\"outlinewidth\":0,\"ticks\":\"\"}}}],\"scatter3d\":[{\"type\":\"scatter3d\",\"line\":{\"colorbar\":{\"outlinewidth\":0,\"ticks\":\"\"}},\"marker\":{\"colorbar\":{\"outlinewidth\":0,\"ticks\":\"\"}}}],\"scattermapbox\":[{\"type\":\"scattermapbox\",\"marker\":{\"colorbar\":{\"outlinewidth\":0,\"ticks\":\"\"}}}],\"scatterternary\":[{\"type\":\"scatterternary\",\"marker\":{\"colorbar\":{\"outlinewidth\":0,\"ticks\":\"\"}}}],\"scattercarpet\":[{\"type\":\"scattercarpet\",\"marker\":{\"colorbar\":{\"outlinewidth\":0,\"ticks\":\"\"}}}],\"carpet\":[{\"aaxis\":{\"endlinecolor\":\"#2a3f5f\",\"gridcolor\":\"white\",\"linecolor\":\"white\",\"minorgridcolor\":\"white\",\"startlinecolor\":\"#2a3f5f\"},\"baxis\":{\"endlinecolor\":\"#2a3f5f\",\"gridcolor\":\"white\",\"linecolor\":\"white\",\"minorgridcolor\":\"white\",\"startlinecolor\":\"#2a3f5f\"},\"type\":\"carpet\"}],\"table\":[{\"cells\":{\"fill\":{\"color\":\"#EBF0F8\"},\"line\":{\"color\":\"white\"}},\"header\":{\"fill\":{\"color\":\"#C8D4E3\"},\"line\":{\"color\":\"white\"}},\"type\":\"table\"}],\"barpolar\":[{\"marker\":{\"line\":{\"color\":\"#E5ECF6\",\"width\":0.5},\"pattern\":{\"fillmode\":\"overlay\",\"size\":10,\"solidity\":0.2}},\"type\":\"barpolar\"}],\"pie\":[{\"automargin\":true,\"type\":\"pie\"}]},\"layout\":{\"autotypenumbers\":\"strict\",\"colorway\":[\"#636efa\",\"#EF553B\",\"#00cc96\",\"#ab63fa\",\"#FFA15A\",\"#19d3f3\",\"#FF6692\",\"#B6E880\",\"#FF97FF\",\"#FECB52\"],\"font\":{\"color\":\"#2a3f5f\"},\"hovermode\":\"closest\",\"hoverlabel\":{\"align\":\"left\"},\"paper_bgcolor\":\"white\",\"plot_bgcolor\":\"#E5ECF6\",\"polar\":{\"bgcolor\":\"#E5ECF6\",\"angularaxis\":{\"gridcolor\":\"white\",\"linecolor\":\"white\",\"ticks\":\"\"},\"radialaxis\":{\"gridcolor\":\"white\",\"linecolor\":\"white\",\"ticks\":\"\"}},\"ternary\":{\"bgcolor\":\"#E5ECF6\",\"aaxis\":{\"gridcolor\":\"white\",\"linecolor\":\"white\",\"ticks\":\"\"},\"baxis\":{\"gridcolor\":\"white\",\"linecolor\":\"white\",\"ticks\":\"\"},\"caxis\":{\"gridcolor\":\"white\",\"linecolor\":\"white\",\"ticks\":\"\"}},\"coloraxis\":{\"colorbar\":{\"outlinewidth\":0,\"ticks\":\"\"}},\"colorscale\":{\"sequential\":[[0.0,\"#0d0887\"],[0.1111111111111111,\"#46039f\"],[0.2222222222222222,\"#7201a8\"],[0.3333333333333333,\"#9c179e\"],[0.4444444444444444,\"#bd3786\"],[0.5555555555555556,\"#d8576b\"],[0.6666666666666666,\"#ed7953\"],[0.7777777777777778,\"#fb9f3a\"],[0.8888888888888888,\"#fdca26\"],[1.0,\"#f0f921\"]],\"sequentialminus\":[[0.0,\"#0d0887\"],[0.1111111111111111,\"#46039f\"],[0.2222222222222222,\"#7201a8\"],[0.3333333333333333,\"#9c179e\"],[0.4444444444444444,\"#bd3786\"],[0.5555555555555556,\"#d8576b\"],[0.6666666666666666,\"#ed7953\"],[0.7777777777777778,\"#fb9f3a\"],[0.8888888888888888,\"#fdca26\"],[1.0,\"#f0f921\"]],\"diverging\":[[0,\"#8e0152\"],[0.1,\"#c51b7d\"],[0.2,\"#de77ae\"],[0.3,\"#f1b6da\"],[0.4,\"#fde0ef\"],[0.5,\"#f7f7f7\"],[0.6,\"#e6f5d0\"],[0.7,\"#b8e186\"],[0.8,\"#7fbc41\"],[0.9,\"#4d9221\"],[1,\"#276419\"]]},\"xaxis\":{\"gridcolor\":\"white\",\"linecolor\":\"white\",\"ticks\":\"\",\"title\":{\"standoff\":15},\"zerolinecolor\":\"white\",\"automargin\":true,\"zerolinewidth\":2},\"yaxis\":{\"gridcolor\":\"white\",\"linecolor\":\"white\",\"ticks\":\"\",\"title\":{\"standoff\":15},\"zerolinecolor\":\"white\",\"automargin\":true,\"zerolinewidth\":2},\"scene\":{\"xaxis\":{\"backgroundcolor\":\"#E5ECF6\",\"gridcolor\":\"white\",\"linecolor\":\"white\",\"showbackground\":true,\"ticks\":\"\",\"zerolinecolor\":\"white\",\"gridwidth\":2},\"yaxis\":{\"backgroundcolor\":\"#E5ECF6\",\"gridcolor\":\"white\",\"linecolor\":\"white\",\"showbackground\":true,\"ticks\":\"\",\"zerolinecolor\":\"white\",\"gridwidth\":2},\"zaxis\":{\"backgroundcolor\":\"#E5ECF6\",\"gridcolor\":\"white\",\"linecolor\":\"white\",\"showbackground\":true,\"ticks\":\"\",\"zerolinecolor\":\"white\",\"gridwidth\":2}},\"shapedefaults\":{\"line\":{\"color\":\"#2a3f5f\"}},\"annotationdefaults\":{\"arrowcolor\":\"#2a3f5f\",\"arrowhead\":0,\"arrowwidth\":1},\"geo\":{\"bgcolor\":\"white\",\"landcolor\":\"#E5ECF6\",\"subunitcolor\":\"white\",\"showland\":true,\"showlakes\":true,\"lakecolor\":\"white\"},\"title\":{\"x\":0.05},\"mapbox\":{\"style\":\"light\"}}},\"xaxis\":{\"anchor\":\"y\",\"domain\":[0.0,1.0],\"title\":{\"text\":\"Duration\"}},\"yaxis\":{\"anchor\":\"x\",\"domain\":[0.0,1.0],\"title\":{\"text\":\"Rating\"}},\"legend\":{\"title\":{\"text\":\"Genre\"},\"tracegroupgap\":0},\"title\":{\"text\":\"Test dataset plot\"}},                        {\"responsive\": true}                    ).then(function(){\n",
              "                            \n",
              "var gd = document.getElementById('3c0bb5d5-d0c8-48c9-8d89-9c1c3da542ca');\n",
              "var x = new MutationObserver(function (mutations, observer) {{\n",
              "        var display = window.getComputedStyle(gd).display;\n",
              "        if (!display || display === 'none') {{\n",
              "            console.log([gd, 'removed!']);\n",
              "            Plotly.purge(gd);\n",
              "            observer.disconnect();\n",
              "        }}\n",
              "}});\n",
              "\n",
              "// Listen for the removal of the full notebook cells\n",
              "var notebookContainer = gd.closest('#notebook-container');\n",
              "if (notebookContainer) {{\n",
              "    x.observe(notebookContainer, {childList: true});\n",
              "}}\n",
              "\n",
              "// Listen for the clearing of the current output cell\n",
              "var outputEl = gd.closest('.output');\n",
              "if (outputEl) {{\n",
              "    x.observe(outputEl, {childList: true});\n",
              "}}\n",
              "\n",
              "                        })                };                            </script>        </div>\n",
              "</body>\n",
              "</html>"
            ]
          },
          "metadata": {}
        }
      ]
    },
    {
      "cell_type": "code",
      "source": [
        "fig = px.scatter(test_df, x = 'Duration', y = 'Rating', color = 'Genre', text = 'Name', width = 1800, height = 1000, title = 'Test dataset plot annotated with movie names')\n",
        "fig.update_traces(textposition='top center')\n",
        "fig.update_layout(legend=dict(\n",
        "    yanchor='top',\n",
        "    y=0.99,\n",
        "    xanchor='left',\n",
        "    x=0.01\n",
        "))\n",
        "fig.show()\n",
        "fig.write_image('Test dataset plot annotated with movie names.png')"
      ],
      "metadata": {
        "colab": {
          "base_uri": "https://localhost:8080/",
          "height": 1000
        },
        "id": "eCZadrbvO5D9",
        "outputId": "0903448a-d676-4d29-d7eb-cfb715d26d01"
      },
      "execution_count": 9,
      "outputs": [
        {
          "output_type": "display_data",
          "data": {
            "text/html": [
              "<html>\n",
              "<head><meta charset=\"utf-8\" /></head>\n",
              "<body>\n",
              "    <div>            <script src=\"https://cdnjs.cloudflare.com/ajax/libs/mathjax/2.7.5/MathJax.js?config=TeX-AMS-MML_SVG\"></script><script type=\"text/javascript\">if (window.MathJax && window.MathJax.Hub && window.MathJax.Hub.Config) {window.MathJax.Hub.Config({SVG: {font: \"STIX-Web\"}});}</script>                <script type=\"text/javascript\">window.PlotlyConfig = {MathJaxConfig: 'local'};</script>\n",
              "        <script charset=\"utf-8\" src=\"https://cdn.plot.ly/plotly-2.24.1.min.js\"></script>                <div id=\"89e9d4f8-b76e-44d2-a224-ec5be1f249e6\" class=\"plotly-graph-div\" style=\"height:1000px; width:1800px;\"></div>            <script type=\"text/javascript\">                                    window.PLOTLYENV=window.PLOTLYENV || {};                                    if (document.getElementById(\"89e9d4f8-b76e-44d2-a224-ec5be1f249e6\")) {                    Plotly.newPlot(                        \"89e9d4f8-b76e-44d2-a224-ec5be1f249e6\",                        [{\"hovertemplate\":\"Genre=Drama\\u003cbr\\u003eDuration=%{x}\\u003cbr\\u003eRating=%{y}\\u003cbr\\u003eName=%{text}\\u003cextra\\u003e\\u003c\\u002fextra\\u003e\",\"legendgroup\":\"Drama\",\"marker\":{\"color\":\"#636efa\",\"symbol\":\"circle\"},\"mode\":\"markers+text\",\"name\":\"Drama\",\"orientation\":\"v\",\"showlegend\":true,\"text\":[\"...Yahaan\",\"15 Park Avenue\",\"7 Khoon Maaf\",\"Aadhi Raat\",\"Aadmi\",\"Aadmi Ki Aurat Aur Anya Kahaniya\",\"Aah\",\"Aan Aur Shaan\",\"Aani Maani\",\"Aap Ki Parchhaiyan\",\"Aarop\",\"Aarzoo\",\"Aavishkar\",\"Ab Dilli Dur Nahin\",\"Ab To Aaja Saajan Mere\",\"Abhimaan\",\"Abhinetri\",\"Adalat\",\"Adil-E-Jahangir\",\"Adrishya\",\"Adutha Varisu\",\"Ae Dil Hai Mushkil\",\"Aghaat\",\"Agni Sakshi\",\"Ajanabee\",\"Akashdeep\",\"Akbar Saleem Anarkali\",\"Albert Pinto Ko Gussa Kyun Aata Hai?\",\"Alex's Strip\",\"Alif\",\"Amar Prem\",\"Amma Nagamma\",\"Ankahee\",\"Ankur: The Seedling\",\"Anmol Tasveer\",\"Anokhi Ada\",\"Anuranan\",\"Armaan\",\"Ashok Vatika\",\"Asli Naqli\",\"Autumn\",\"Avtaar\",\"Awasaan\",\"Ayee Milan Ki Bela\",\"Bagh Bahadur\",\"Bahar\",\"Banarasi Babu\",\"Bansuri: The Flute\",\"Barkhaa\",\"Bas Ek Pal\",\"Basant Bahar\",\"Bawandar\",\"Bazaar E Husn\",\"Beehad - The Ravine\",\"Beiimaan Love\",\"Bemisal\",\"Beta\",\"Bhabhi Ki Chudiyan\",\"Bhagwaan Dada\",\"Bhopal Express\",\"Bijuka\",\"Biradari\",\"Bitter Chestnut\",\"Black Home\",\"Boxer\",\"Boy Friend\",\"Bulbbul\",\"Bypass Road\",\"Care of Footpath\",\"Chandrawal\",\"Char Diwari\",\"Chauranga\",\"Chetna\",\"Chitkabrey\",\"Club 60\",\"Compulsed\",\"Court Martial\",\"Dahej\",\"Dariya Dil\",\"Darpan\",\"Dayar E Madina\",\"Dear Molly\",\"Delhi-6\",\"Dhara\",\"Dhoomketu\",\"Dil Ek Mandir\",\"Dil Ke Pechey Pechey'\",\"Dil Pe Mat Le Yaar!!\",\"Dil Se..\",\"Diwana\",\"Do Raaste\",\"Dobaara\",\"Doli\",\"Doli Saja Ke Rakhna\",\"Door Gagan Ki Chhaon Men\",\"Door Ka Raahi\",\"Dozakh in Search of Heaven\",\"Drishti\",\"Dum Laga Ke Haisha\",\"Duniya Na Mane\",\"Dus Kahaniyaan\",\"Dushmun\",\"Eeshwar\",\"Ek Aasha\",\"Ek Adhuri Kahani\",\"Ek Baar Chale Aao\",\"Ek Baar Phir (Once Again)\",\"Ek Saal\",\"Extraordinaari\",\"'Ferry'\",\"Filter Coffee Liquor Cha\",\"Flame: An Untold Love Story\",\"Four Faces of India\",\"Frozen\",\"Future to Bright Hai Ji\",\"Gandhigiri\",\"Ganga Aur Suraj\",\"Ganga Meri Maa\",\"Gaon Hamara Shaher Tumhara\",\"Gauri\",\"Ghar\",\"Ghar Ek Mandir\",\"Ghar Mein Ram Gali Mein Shyam\",\"Ghar Pe Bataao\",\"Godam\",\"GRADE\",\"Gudia\",\"Gumnaam\",\"Gumrah\",\"Haan Maine Bhi Pyaar Kiya\",\"Hamaara Sansaar\",\"Hamrahi\",\"Hamrahi\",\"Har Kisse Ke Hisse: Kaamyaab\",\"Heer Ranjha\",\"Hello Zindagi\",\"Hey Ram Hamne Gandhi Ko maar Diya\",\"Holi Ayee Re\",\"House of Memories\",\"Hum Naujawan\",\"Hum Saath-Saath Hain: We Stand United\",\"Hum To Chale Pardes\",\"Hum Tumhare Hain Sanam\",\"Humko Deewana Kar Gaye\",\"Intaquam\",\"Jaan Tere Naam\",\"Jaanisaar\",\"Jab Se Tumhe Dekha Hai\",\"Jai Shiv Shankar\",\"Jail\",\"Jaise Ko Taisa\",\"Jawani Ke Gunah\",\"Jhanak Jhanak Payal Baaje\",\"Jihad\",\"Junction Varanasi\",\"Just Like That\",\"Kaadhal Parisu\",\"Kaamaagni\",\"Kaash\",\"Kaash\",\"Kadal Meengal\",\"Kaisay Kahein...\",\"Kajarya\",\"Kaksparsh\",\"Kal: Yesterday and Tomorrow\",\"Karobaar: The Business of Love\",\"Karthik Calling Karthik\",\"Kasba\",\"Kastoori\",\"Kathputli\",\"Kati Patang\",\"Khamoshi: The Musical\",\"Khandaan\",\"Khandhar\",\"Khap\",\"Khayal Gatha\",\"Khwaabb\",\"Kismet\",\"Kitaab\",\"Koi Hai\",\"Koi Mere Dil Mein Hai\",\"Kora Kagaz\",\"Koshish\",\"Kshay\",\"Kuch Der Aur\",\"Lakshmi\",\"Life of an Outcast\",\"Love Sonia\",\"M.... Matric Pass\",\"Maa\",\"Madly\",\"Mai\",\"Main Tulsi Tere Aangan Ki\",\"Majhli Didi\",\"Malli\",\"Mammo\",\"Margarita with a Straw\",\"Marudhar Express\",\"Mazdoor Zindabaad\",\"Meharbaani\",\"Mehbooba\",\"Melody\",\"Memories in March\",\"Mera Saaya\",\"Mere Jeevan Saathi\",\"Mere Khwabon Mein Jo Aaye\",\"Michael\",\"Milap\",\"Mirza Juuliet\",\"Miss India\",\"Missing\",\"Mitr: My Friend\",\"Mohabbat Isko Kahete Hain\",\"Mohan Joshi Hazir Ho!\",\"Mrigayaa\",\"Mujhe Insaaf Chahiye\",\"Muqaddar\",\"Muqaddar Ka Sikandar\",\"My Darling\",\"My Name Is Khan\",\"Nagin\",\"Naina\",\"Naina\",\"Nakhuda\",\"Nartaki\",\"Naya Daur\",\"Naya Khoon\",\"Neecha Nagar\",\"Nil Battey Sannata\",\"Nirdosh\",\"Nirdosh\",\"Nirvana13\",\"Noukadubi\",\"Nympho: The Lust Story\",\"Octave\",\"Offshore\",\"Paar\",\"Pagdi: The Honour\",\"Palki\",\"Palkon Ki Chhaon Mein\",\"Pardes\",\"Parineeta\",\"Parvarish\",\"Patang\",\"Patita\",\"Patth\",\"Pavitra Paapi\",\"Pehchaan: The Face of Truth\",\"Permission\",\"Phagun\",\"Phobia\",\"Phoonk\",\"Photograph\",\"Pihu\",\"Poonam\",\"Prem Kahani\",\"Priyasakhi\",\"Purani Jeans\",\"Pyar Ka Mandir\",\"Pyar Ki Kahani\",\"Q\",\"Qayamat Se Qayamat Tak\",\"Queens! Destiny of Dance\",\"Raahgir\",\"Raaja\",\"Raampur Ka Lakshman\",\"Raaste Kaa Patthar\",\"Racket\",\"Raeeszada\",\"Ragini MMS\",\"Ram Ki Janmabhoomi\",\"Ram Tera Desh\",\"Ram Teri Ganga Maili\",\"Ramshastri\",\"Rang\",\"Red: The Dark Side\",\"Refugee\",\"Religion\",\"Reshma Aur Shera\",\"Rihaee\",\"Road to Sangam\",\"Rootha Na Karo\",\"Roti\",\"Saagar\",\"Saanncha\",\"Saari Raat\",\"Saaya\",\"Sacred Evil\",\"Sadiyaan: Boundaries Divide... Love Unites\",\"Sagar Sangam\",\"Samar\",\"Sameer\",\"Sanam Bewafa\",\"Sanam Re\",\"Sangdil\",\"Sangram\",\"Sanjh Aur Savera\",\"Sanjog\",\"Santosh\",\"Saraswatichandra\",\"Sardari Begum\",\"Satyam Shivam Sundaram: Love Sublime\",\"Sautela Bhai\",\"Shaadi ke patasey\",\"Sharada\",\"Sharafat\",\"Shikshaa\",\"Shirdi Sai Baba\",\"Shoorveer\",\"Skater Girl\",\"Sookha\",\"Soul of Sand\",\"Strings of Passion\",\"Sun Zarra\",\"Sunehre Din\",\"Sunny\",\"Swami\",\"Swami\",\"Taj Mahal: An Eternal Love Story\",\"Takkar\",\"Tere Liye\",\"The Great Indian Butterfly\",\"The Grey\",\"The Holy Fish\",\"The Hundred Bucks\",\"The Hungry\",\"The Pushkar Lodge\",\"The Silence\",\"The Sky Is Pink\",\"The Tree\",\"The World of Fashion\",\"THIRUMATHI PALANISAMY\",\"Through the Eyelashes\",\"Tikli and Laxmi Bomb\",\"Toba Tek Singh\",\"Trapped\",\"Trishna\",\"Triyacharitra\",\"Tulsi: Mathrudevobhava\",\"Tum: A Dangerous Obsession\",\"Umrao Jaan\",\"Unns: Love... Forever\",\"Upkar\",\"Utopia\",\"Utthaan\",\"Vachan\",\"Vachan\",\"Via Darjeeling\",\"Wafaa\",\"Wah Taj\",\"Water\",\"When Kiran Met Karen\",\"Wishlist\",\"Woman from the East\",\"Zakhmi Aurat\",\"Zid\",\"Zindagi Khoobsoorat Hai\"],\"x\":[132,106,127,105,165,68,140,120,84,118,119,165,97,123,117,112,144,129,140,96,112,148,128,132,129,126,129,90,99,110,133,100,125,121,67,131,103,120,87,118,86,140,91,136,81,160,131,98,117,140,140,115,115,115,110,132,161,158,137,90,64,129,90,95,126,127,84,127,100,99,126,78,125,110,127,145,110,139,136,130,127,81,131,85,103,138,100,138,153,161,155,56,146,160,143,128,82,161,99,156,100,167,137,113,105,127,137,124,134,118,70,87,150,99,170,118,147,135,117,142,111,146,126,62,130,54,129,141,145,164,118,139,111,99,149,115,96,134,120,127,167,127,164,145,134,140,114,126,80,121,124,110,133,134,139,99,133,124,130,96,127,113,122,130,110,170,125,111,90,138,157,150,120,96,115,93,80,133,114,92,118,115,115,82,55,105,71,112,108,110,96,95,141,126,80,120,90,96,114,130,153,138,94,118,119,109,87,101,120,138,110,94,92,120,109,123,179,179,70,155,129,124,94,107,140,163,108,112,90,120,100,85,125,94,108,82,131,88,150,117,181,120,119,83,115,147,142,163,127,126,102,100,100,81,128,77,147,127,138,140,86,152,102,75,130,128,123,112,139,83,112,130,168,112,140,138,197,95,148,148,125,115,110,176,100,73,125,99,190,110,116,119,150,110,140,146,124,138,136,146,106,162,134,80,118,110,115,140,137,97,109,89,90,115,133,104,119,130,154,147,128,100,80,79,92,90,105,81,133,89,110,130,125,141,65,95,107,110,124,140,178,135,165,75,170,108,111,94,110,115,107,91,83,110,122,119,116],\"xaxis\":\"x\",\"y\":[7.4,7.1,6.1,6.7,6.8,7.6,7.2,6.4,6.6,6.3,6.7,5.4,7.0,7.6,4.0,7.9,6.7,6.9,5.0,3.3,5.5,5.8,7.1,6.1,6.5,6.6,7.7,5.5,5.9,6.5,4.4,5.6,7.1,8.0,7.9,6.4,6.7,6.8,9.3,4.3,6.4,7.2,8.7,6.4,7.7,5.7,6.7,3.7,5.1,5.9,7.1,7.0,4.8,5.6,2.8,7.0,6.3,5.4,4.3,7.1,6.4,5.9,7.1,7.4,7.5,7.6,6.6,5.4,7.2,8.3,6.7,6.5,6.2,3.9,7.3,7.1,6.8,6.3,5.1,7.1,7.2,7.8,6.1,4.3,6.4,6.7,4.9,5.0,7.6,6.9,7.0,6.9,7.2,6.4,8.2,7.7,7.0,7.1,7.3,6.9,5.7,7.1,7.2,7.8,7.7,6.7,6.3,7.3,3.4,5.8,6.9,6.0,7.5,7.1,6.2,4.6,6.4,5.7,6.8,6.5,7.0,5.5,4.7,7.6,7.1,6.1,6.7,7.0,6.9,3.7,6.7,6.4,6.7,7.9,5.1,6.0,6.3,5.9,7.3,5.3,6.3,5.8,5.4,5.2,6.8,5.9,5.0,6.2,5.3,6.2,5.3,4.6,6.5,8.6,3.7,7.9,6.1,4.6,6.3,5.0,6.6,6.2,6.6,7.9,6.3,4.4,7.1,7.0,8.7,6.9,7.2,7.5,6.5,7.2,5.0,6.6,5.5,7.4,7.4,2.4,4.7,7.4,8.6,6.7,8.5,7.9,6.6,7.4,3.9,7.2,5.4,6.7,6.7,7.7,7.6,7.7,7.2,6.1,5.7,6.1,3.5,6.4,7.2,7.6,3.5,5.6,5.3,6.0,4.1,7.5,5.8,6.8,6.7,7.1,6.6,6.5,5.5,7.5,7.4,8.0,6.7,6.3,4.3,6.4,6.5,8.0,4.4,6.8,8.3,4.0,3.9,9.1,7.6,5.3,5.1,6.3,7.6,5.8,5.5,7.6,7.0,7.2,6.8,6.2,5.8,4.6,8.0,5.7,8.3,7.3,6.9,3.9,6.9,6.7,5.2,5.9,4.6,6.3,6.5,6.1,6.0,7.5,5.4,7.4,6.2,6.3,5.7,7.3,3.6,4.9,6.6,5.8,6.7,6.8,4.8,3.3,5.4,8.0,6.8,6.7,7.4,6.1,6.8,7.1,5.8,5.6,5.8,5.8,4.5,6.4,7.5,5.4,5.4,3.2,7.3,3.2,7.0,7.0,6.7,6.4,6.6,7.1,6.0,6.9,6.6,7.1,5.6,4.8,5.0,6.6,6.6,5.6,6.5,5.4,6.6,5.6,6.5,6.8,5.0,5.4,5.3,6.2,6.5,7.2,6.8,7.2,8.6,7.3,7.6,5.7,6.8,4.4,7.1,7.9,6.9,7.6,6.0,7.3,6.0,2.4,5.5,3.3,7.5,5.6,4.1,5.3,6.8,5.4,3.7,5.4,7.7,4.9,4.8,7.6,6.2,4.7,5.5],\"yaxis\":\"y\",\"type\":\"scatter\",\"textposition\":\"top center\"},{\"hovertemplate\":\"Genre=Action\\u003cbr\\u003eDuration=%{x}\\u003cbr\\u003eRating=%{y}\\u003cbr\\u003eName=%{text}\\u003cextra\\u003e\\u003c\\u002fextra\\u003e\",\"legendgroup\":\"Action\",\"marker\":{\"color\":\"#EF553B\",\"symbol\":\"circle\"},\"mode\":\"markers+text\",\"name\":\"Action\",\"orientation\":\"v\",\"showlegend\":true,\"text\":[\"1971\",\"5ters: Castle of Dark Master\",\"7 Bijliyaan\",\"A Wednesday\",\"Aa Dekhen Zara\",\"Aadat Se Majboor\",\"Aadha Din Aadhee Raat\",\"Aadhi Bhagavan\",\"Aadmi\",\"Aag Aur Chingari\",\"Aag Hi Aag\",\"Aag Ke Sholay\",\"Aag Se Khelenge\",\"Aahuti\",\"Aaj Ka Andha Kanoon\",\"Aaj Ka Daur\",\"Aaj Ke Shahenshah\",\"Aaj Ki Awaz\",\"Aakhree Raasta\",\"Aakhri Sangam\",\"Aakhri Sanghursh\",\"Aan: Men at Work\",\"Aap Ki Khatir\",\"Aar Paar\",\"Aatish: Feel the Fire\",\"Abe Hayat\",\"Abhimanyu\",\"Action\",\"Ahinsa\",\"Akhri Muqabla\",\"Amber\",\"Andha Bichar\",\"Anjan Hai Koyee\",\"Anjaneya\",\"Awara Badal\",\"Baabarr\",\"Baaghi\",\"Baaghi 3\",\"Baap Numbri Beta Dus Numbri\",\"Badlapur\",\"Bal Bramhachari\",\"Batla House\",\"Be-Reham\",\"Bhagawat Ek Jung\",\"Bhageeratha\",\"Bhai Ho To Aisa\",\"Bharat\",\"Bharat Bhagya Vidhata\",\"Bhavani Junction\",\"Bhooka Sher\",\"Billoo Baadshah\",\"Blackboard vs Whiteboard\",\"Bombay Velvet\",\"Brothers\",\"Calcutta Mail\",\"Chakkar Pe Chakkar\",\"Chakravyuha\",\"Chanakya\",\"Charas\",\"Chennai Express\",\"Chor Bazar\",\"Choron Ki Baaraat\",\"Clerk\",\"Club Dancer\",\"Company\",\"Coolie No. 1\",\"D Company\",\"Daddy\",\"Daku Ganga Jamuna\",\"Desamuduru\",\"Dharma Karma\",\"Dhongee\",\"Dhruvanakshatram\",\"Dil Aur Deewaar\",\"Dil Ki Baazi\",\"Dilwale\",\"Do Aur Do Paanch\",\"Do Ustad\",\"Dongri Ka Raja\",\"Drive\",\"Durdesh\",\"Ek Sainik - The Tale of a warrior\",\"Ek Sapera Ek Lutera\",\"Ek Tha Raja\",\"Eklavya: The Royal Guard\",\"Elaan\",\"Falak (The Sky)\",\"Fanaa\",\"Four Pillars of Basement\",\"Game\",\"Gang\",\"Ganga Ki Saugand\",\"Gangaa Jamunaa Saraswathi\",\"Gangaajal\",\"Gangster\",\"Gemini\",\"Ghoonghat\",\"Go Goa Gone\",\"Gulaab Gang\",\"Gumnaami\",\"Gunaah\",\"Gunga Jumna\",\"Gunjan Saxena: The Kargil Girl\",\"Guru\",\"Guru Sishyan\",\"Hafta Vasuli\",\"Happy New Year\",\"Haqeeqat\",\"Harfan Maulaa\",\"Haseena Maan Jaayegi\",\"Hathyar: Face to Face with Reality\",\"Haunted - 3D\",\"Himmat\",\"Himmatwala\",\"Hogi Pyaar Ki Jeet\",\"Holiday: A Soldier is Never Off Duty\",\"Housefull 2\",\"Hukumat\",\"Hulchul\",\"Hulchul\",\"Hum Bhi Insaan Hain\",\"Hum Kisise Kum Naheen\",\"Hum Paanch\",\"Hum Sab Chor Hain\",\"Ikke Pe Ikka\",\"Ilaaka\",\"I'm in Love\",\"In Your Name\",\"Insaaf: The Final Justice\",\"Inspector Balram\",\"Inteha\",\"Inteqam: The Perfect Game\",\"Isi Ka Naam Zindagi\",\"Itihaas\",\"Ittefaq\",\"Izzatdaar\",\"Jaal\",\"Jaan\",\"Jai-Vijay\",\"Jajantaram Mamantaram\",\"Jeena Marna Tere Sang\",\"Jeene Do\",\"Jeet\",\"Jhoothi Shaan\",\"Jo Bole So Nihaal\",\"Johny Mera Naam\",\"Joshilaay\",\"Jung\",\"Junglee\",\"Jurrat\",\"Jwalamukhi\",\"Kaaboo\",\"Kaadan\",\"Kaala Patthar\",\"Kaala Sona\",\"Kabir Singh\",\"Kachchi Sadak\",\"Kadamban\",\"Kahani Ek Chor Ki\",\"Kal Kissne Dekha\",\"Kalaignan\",\"Karan\",\"Khaali Peeli\",\"Khauff\",\"Khilari\",\"Khuda Kasam\",\"Khud-Daar\",\"Khuddar\",\"Kill Dil\",\"Kismat\",\"Kismetwala\",\"Kondaveeti Raja\",\"Koyelaanchal\",\"Krishna\",\"Kroadh\",\"Kurbaan\",\"Kurbaan\",\"Laat Saab\",\"Laawaris\",\"Lafangey Parindey\",\"Lajja\",\"Lanka\",\"Lashkar\",\"Let's Bring Our Heroes Home\",\"Little John\",\"Luck\",\"Lucknow Central\",\"Ludo\",\"Maanthrikam\",\"Maha Shaktimaan\",\"Mahaadev\",\"Maharaja\",\"Main Tera Hero\",\"Major Saab\",\"Mard\",\"Marshal\",\"Marte Dam Tak\",\"Mashaal\",\"Maska\",\"Mawali No.1\",\"Meri Zabaan\",\"Mission Istaanbul: Darr Ke Aagey Jeet Hai!\",\"Mitti Aur Sona\",\"Mohra\",\"Mr Joe B. Carvalho\",\"Mr. Bond\",\"Mr. India\",\"Mr. White Mr. Black\",\"Mr. X\",\"Mrityudaata\",\"Mudda 370 J&K\",\"Muddat\",\"Mumbai Mirror\",\"Mumbai Se Aaya Mera Dost\",\"Munnibai\",\"Muqabla\",\"My Dear Kuttichaathan\",\"Naami Chor\",\"Narayan\",\"Nasihat\",\"Nateeja\",\"Nehlle Pe Dehlla\",\"Nishchaiy\",\"Numbri Aadmi\",\"One 2 Ka 4\",\"Paan Singh Tomar\",\"Paap\",\"Paap Ki Kamaee\",\"Param Dharam\",\"Parasuram\",\"Pareshaan Parinda\",\"Parwana\",\"Patthar Aur Payal\",\"Patthar Ke Phool\",\"Payal Ki Jhankar\",\"Pehchaan\",\"Phaansi\",\"Phantom\",\"Police Aur Mujrim\",\"Police Officer\",\"Poorna\",\"Post Box 999\",\"Pranaam\",\"Prem Deewane\",\"Purana Purush\",\"Raakh: A Poem Masked in Blood\",\"Race\",\"Raghuveer\",\"Raja Babu\",\"Rakhta Charitra 2\",\"Rakshak\",\"Ramaiya Vastavaiya\",\"Rangrezz\",\"Ranna\",\"Reporter Raju\",\"Revolver Rani\",\"Risk\",\"Roar: Tigers of the Sundarbans\",\"Rocky Handsome\",\"Rupaye Dus Karod\",\"Saat Hindustani\",\"Saheb Biwi Aur Gangster\",\"Sahhas\",\"Sainik\",\"Sakalakala Vallavan\",\"Sanam\",\"Sangharsh\",\"Saranga\",\"Sarkar\",\"Sarkar Raj\",\"Satte Pe Satta\",\"Saugandh\",\"Shabnam Mausi\",\"Shabri\",\"Shaktiman\",\"Shandar\",\"Shankar Shambhu\",\"Shastra\",\"Shatru\",\"Shiva\",\"Sholay\",\"Shriman Satyawadi\",\"Singh Is King\",\"Singham\",\"Sneham Kosam\",\"Sohni Mahiwal\",\"Son of Sardaar\",\"Sone Pe Suhaaga\",\"Spark\",\"Speed\",\"Student of the Year 2\",\"Sudhandhiram\",\"Suhaag\",\"Suhaag\",\"Sullan\",\"Sultaan\",\"Suno Sasurjee\",\"Surakksha\",\"Surkhiyaan (The Headlines)\",\"Swami Dada\",\"Switchh\",\"Taanashah\",\"Tajurba\",\"Talaash: The Hunt Begins...\",\"Teesri Aankh: The Hidden Camera\",\"Teraa Surroor\",\"Tere Mere Sapne\",\"Tevar\",\"Thanedaar\",\"The Announcement of War\",\"The Brawler\",\"The Burning Train\",\"The Film Love.Com... The Ultimate Killing Site\",\"The Gentleman\",\"The Princess and the Hunter\",\"Tridev\",\"Turning Point\",\"Udaan\",\"Unmatta\",\"Vaastav: The Reality\",\"Vallah Kya Baat Hai\",\"Vedi\",\"Veer\",\"Veera Madakari\",\"Vellore Maavattam\",\"Vijay\",\"Vishnu-Devaa\",\"Vishwaroopam\",\"Vishwasghaat\",\"Wajood\",\"Wanted: Dead or Alive\",\"Wazir\",\"Ya Rab\",\"Yaarana\",\"Yeh Hai India\",\"Yeh Hai Mumbai Meri Jaan\",\"Yodha\",\"Yuvraaj\",\"Zakhmo Ka Hisaab\",\"Zila Ghaziabad\",\"Zinda\",\"Zulm Ki Zanjeer\"],\"x\":[146,120,136,114,127,115,142,167,163,143,180,148,161,145,56,163,142,147,174,170,148,159,125,135,165,150,178,168,113,142,151,158,143,178,144,190,143,153,162,144,173,156,157,123,168,141,160,170,138,175,158,162,159,166,138,148,140,157,169,151,137,145,175,135,152,153,101,144,103,158,138,132,157,166,172,182,142,149,149,157,153,55,135,160,115,154,176,178,144,156,162,152,197,167,133,160,130,121,149,152,127,188,122,169,149,150,190,176,148,157,150,153,148,189,190,170,155,140,162,159,159,179,173,153,144,171,150,142,165,153,165,137,150,164,148,182,166,180,162,132,160,135,190,149,135,169,117,156,125,156,172,145,180,186,147,183,155,152,148,144,153,130,129,134,148,170,179,177,137,153,100,150,155,166,154,143,171,136,127,136,212,117,186,173,136,151,143,159,154,119,141,174,138,175,187,119,165,172,166,125,159,140,173,187,140,137,189,140,143,168,142,145,146,156,146,137,106,137,120,149,130,135,156,135,179,145,130,170,135,152,122,122,160,165,142,148,151,146,156,168,110,125,130,170,146,123,159,161,171,145,174,158,154,162,148,142,165,133,129,159,154,128,143,155,148,162,137,140,134,135,170,163,160,108,165,156,147,154,167,170,172,156,145,153,179,152,151,173,144,112,156,155,174,155,148,130,179,142,144,161,140,111,150,163,121,116,156,167,161,159,164,152,102,171,174,183,152,138,116,155,145,142,179,185,154,182,162,158,138,190,155,113,130,148,138,158,152,164,141,152,126,135],\"xaxis\":\"x\",\"y\":[8.1,4.6,5.0,8.1,5.0,5.5,5.1,5.4,6.5,4.1,5.3,3.4,5.0,6.0,3.1,5.1,3.3,5.6,7.1,7.3,2.8,5.7,6.3,6.1,5.8,4.8,4.6,4.5,4.1,5.3,6.9,6.8,5.8,3.4,5.1,5.1,5.2,2.1,6.0,7.4,2.7,7.2,6.8,4.6,5.6,5.7,4.9,5.7,5.8,4.8,4.5,5.4,5.6,6.5,5.7,5.6,6.4,5.5,6.5,6.0,6.1,7.1,2.3,6.9,7.9,6.6,4.4,6.4,3.9,6.2,5.8,4.5,8.1,5.5,5.3,5.7,7.0,7.1,3.9,3.5,6.2,8.2,4.9,3.9,6.1,6.0,6.0,7.2,4.6,5.3,6.1,5.4,4.6,7.8,7.1,6.1,5.4,6.7,6.1,7.8,4.7,7.6,5.3,6.7,7.1,4.9,5.0,4.6,5.5,6.2,5.6,6.3,4.5,4.5,4.3,7.2,5.3,6.1,4.6,7.0,5.8,7.2,6.5,3.5,3.6,4.7,9.2,7.1,4.2,6.9,5.1,5.0,5.7,3.5,4.5,5.0,5.8,4.1,5.2,5.8,4.8,4.6,5.7,4.6,3.6,7.3,5.7,4.0,5.6,4.6,5.8,6.5,9.1,7.7,6.4,7.1,6.1,5.3,5.2,3.6,6.3,4.0,2.3,4.4,6.8,3.2,6.9,5.1,4.3,3.7,4.2,6.3,5.4,4.7,5.1,4.2,5.7,3.2,4.4,5.2,6.7,5.8,5.8,6.1,5.1,4.8,6.2,7.6,6.3,6.4,5.7,4.1,5.1,5.3,6.2,5.4,4.9,7.3,5.2,3.5,5.7,3.4,4.7,7.0,3.6,4.3,7.8,3.3,3.8,2.5,8.6,6.0,4.9,3.3,4.0,6.5,7.5,5.8,6.8,5.1,4.9,3.8,4.2,4.3,5.4,8.2,5.1,5.2,5.9,4.3,4.8,2.2,6.6,5.6,4.4,4.4,6.6,5.9,5.2,3.4,7.8,6.4,4.3,5.2,8.4,3.6,6.7,4.3,6.3,6.5,4.7,5.7,5.1,6.2,5.2,4.5,6.6,5.6,6.8,5.4,6.5,7.2,4.7,6.1,6.6,4.8,6.8,4.5,7.6,6.7,7.2,5.8,6.2,5.6,2.6,5.2,5.5,4.6,6.9,3.9,8.2,7.0,5.7,6.8,6.5,6.1,4.0,4.8,5.9,2.9,2.2,4.0,6.7,5.7,3.2,5.6,2.5,7.3,5.4,6.3,4.2,7.3,5.7,4.7,2.6,2.6,6.2,4.0,5.6,5.7,8.0,6.8,3.4,5.2,4.5,6.3,6.2,4.5,6.5,8.0,5.5,3.7,4.5,6.5,6.0,5.6,5.1,8.1,5.3,6.9,6.5,7.1,5.9,7.1,5.2,4.4,4.6,4.8,4.7,3.6,4.9,5.8],\"yaxis\":\"y\",\"type\":\"scatter\",\"textposition\":\"top center\"}],                        {\"template\":{\"data\":{\"histogram2dcontour\":[{\"type\":\"histogram2dcontour\",\"colorbar\":{\"outlinewidth\":0,\"ticks\":\"\"},\"colorscale\":[[0.0,\"#0d0887\"],[0.1111111111111111,\"#46039f\"],[0.2222222222222222,\"#7201a8\"],[0.3333333333333333,\"#9c179e\"],[0.4444444444444444,\"#bd3786\"],[0.5555555555555556,\"#d8576b\"],[0.6666666666666666,\"#ed7953\"],[0.7777777777777778,\"#fb9f3a\"],[0.8888888888888888,\"#fdca26\"],[1.0,\"#f0f921\"]]}],\"choropleth\":[{\"type\":\"choropleth\",\"colorbar\":{\"outlinewidth\":0,\"ticks\":\"\"}}],\"histogram2d\":[{\"type\":\"histogram2d\",\"colorbar\":{\"outlinewidth\":0,\"ticks\":\"\"},\"colorscale\":[[0.0,\"#0d0887\"],[0.1111111111111111,\"#46039f\"],[0.2222222222222222,\"#7201a8\"],[0.3333333333333333,\"#9c179e\"],[0.4444444444444444,\"#bd3786\"],[0.5555555555555556,\"#d8576b\"],[0.6666666666666666,\"#ed7953\"],[0.7777777777777778,\"#fb9f3a\"],[0.8888888888888888,\"#fdca26\"],[1.0,\"#f0f921\"]]}],\"heatmap\":[{\"type\":\"heatmap\",\"colorbar\":{\"outlinewidth\":0,\"ticks\":\"\"},\"colorscale\":[[0.0,\"#0d0887\"],[0.1111111111111111,\"#46039f\"],[0.2222222222222222,\"#7201a8\"],[0.3333333333333333,\"#9c179e\"],[0.4444444444444444,\"#bd3786\"],[0.5555555555555556,\"#d8576b\"],[0.6666666666666666,\"#ed7953\"],[0.7777777777777778,\"#fb9f3a\"],[0.8888888888888888,\"#fdca26\"],[1.0,\"#f0f921\"]]}],\"heatmapgl\":[{\"type\":\"heatmapgl\",\"colorbar\":{\"outlinewidth\":0,\"ticks\":\"\"},\"colorscale\":[[0.0,\"#0d0887\"],[0.1111111111111111,\"#46039f\"],[0.2222222222222222,\"#7201a8\"],[0.3333333333333333,\"#9c179e\"],[0.4444444444444444,\"#bd3786\"],[0.5555555555555556,\"#d8576b\"],[0.6666666666666666,\"#ed7953\"],[0.7777777777777778,\"#fb9f3a\"],[0.8888888888888888,\"#fdca26\"],[1.0,\"#f0f921\"]]}],\"contourcarpet\":[{\"type\":\"contourcarpet\",\"colorbar\":{\"outlinewidth\":0,\"ticks\":\"\"}}],\"contour\":[{\"type\":\"contour\",\"colorbar\":{\"outlinewidth\":0,\"ticks\":\"\"},\"colorscale\":[[0.0,\"#0d0887\"],[0.1111111111111111,\"#46039f\"],[0.2222222222222222,\"#7201a8\"],[0.3333333333333333,\"#9c179e\"],[0.4444444444444444,\"#bd3786\"],[0.5555555555555556,\"#d8576b\"],[0.6666666666666666,\"#ed7953\"],[0.7777777777777778,\"#fb9f3a\"],[0.8888888888888888,\"#fdca26\"],[1.0,\"#f0f921\"]]}],\"surface\":[{\"type\":\"surface\",\"colorbar\":{\"outlinewidth\":0,\"ticks\":\"\"},\"colorscale\":[[0.0,\"#0d0887\"],[0.1111111111111111,\"#46039f\"],[0.2222222222222222,\"#7201a8\"],[0.3333333333333333,\"#9c179e\"],[0.4444444444444444,\"#bd3786\"],[0.5555555555555556,\"#d8576b\"],[0.6666666666666666,\"#ed7953\"],[0.7777777777777778,\"#fb9f3a\"],[0.8888888888888888,\"#fdca26\"],[1.0,\"#f0f921\"]]}],\"mesh3d\":[{\"type\":\"mesh3d\",\"colorbar\":{\"outlinewidth\":0,\"ticks\":\"\"}}],\"scatter\":[{\"fillpattern\":{\"fillmode\":\"overlay\",\"size\":10,\"solidity\":0.2},\"type\":\"scatter\"}],\"parcoords\":[{\"type\":\"parcoords\",\"line\":{\"colorbar\":{\"outlinewidth\":0,\"ticks\":\"\"}}}],\"scatterpolargl\":[{\"type\":\"scatterpolargl\",\"marker\":{\"colorbar\":{\"outlinewidth\":0,\"ticks\":\"\"}}}],\"bar\":[{\"error_x\":{\"color\":\"#2a3f5f\"},\"error_y\":{\"color\":\"#2a3f5f\"},\"marker\":{\"line\":{\"color\":\"#E5ECF6\",\"width\":0.5},\"pattern\":{\"fillmode\":\"overlay\",\"size\":10,\"solidity\":0.2}},\"type\":\"bar\"}],\"scattergeo\":[{\"type\":\"scattergeo\",\"marker\":{\"colorbar\":{\"outlinewidth\":0,\"ticks\":\"\"}}}],\"scatterpolar\":[{\"type\":\"scatterpolar\",\"marker\":{\"colorbar\":{\"outlinewidth\":0,\"ticks\":\"\"}}}],\"histogram\":[{\"marker\":{\"pattern\":{\"fillmode\":\"overlay\",\"size\":10,\"solidity\":0.2}},\"type\":\"histogram\"}],\"scattergl\":[{\"type\":\"scattergl\",\"marker\":{\"colorbar\":{\"outlinewidth\":0,\"ticks\":\"\"}}}],\"scatter3d\":[{\"type\":\"scatter3d\",\"line\":{\"colorbar\":{\"outlinewidth\":0,\"ticks\":\"\"}},\"marker\":{\"colorbar\":{\"outlinewidth\":0,\"ticks\":\"\"}}}],\"scattermapbox\":[{\"type\":\"scattermapbox\",\"marker\":{\"colorbar\":{\"outlinewidth\":0,\"ticks\":\"\"}}}],\"scatterternary\":[{\"type\":\"scatterternary\",\"marker\":{\"colorbar\":{\"outlinewidth\":0,\"ticks\":\"\"}}}],\"scattercarpet\":[{\"type\":\"scattercarpet\",\"marker\":{\"colorbar\":{\"outlinewidth\":0,\"ticks\":\"\"}}}],\"carpet\":[{\"aaxis\":{\"endlinecolor\":\"#2a3f5f\",\"gridcolor\":\"white\",\"linecolor\":\"white\",\"minorgridcolor\":\"white\",\"startlinecolor\":\"#2a3f5f\"},\"baxis\":{\"endlinecolor\":\"#2a3f5f\",\"gridcolor\":\"white\",\"linecolor\":\"white\",\"minorgridcolor\":\"white\",\"startlinecolor\":\"#2a3f5f\"},\"type\":\"carpet\"}],\"table\":[{\"cells\":{\"fill\":{\"color\":\"#EBF0F8\"},\"line\":{\"color\":\"white\"}},\"header\":{\"fill\":{\"color\":\"#C8D4E3\"},\"line\":{\"color\":\"white\"}},\"type\":\"table\"}],\"barpolar\":[{\"marker\":{\"line\":{\"color\":\"#E5ECF6\",\"width\":0.5},\"pattern\":{\"fillmode\":\"overlay\",\"size\":10,\"solidity\":0.2}},\"type\":\"barpolar\"}],\"pie\":[{\"automargin\":true,\"type\":\"pie\"}]},\"layout\":{\"autotypenumbers\":\"strict\",\"colorway\":[\"#636efa\",\"#EF553B\",\"#00cc96\",\"#ab63fa\",\"#FFA15A\",\"#19d3f3\",\"#FF6692\",\"#B6E880\",\"#FF97FF\",\"#FECB52\"],\"font\":{\"color\":\"#2a3f5f\"},\"hovermode\":\"closest\",\"hoverlabel\":{\"align\":\"left\"},\"paper_bgcolor\":\"white\",\"plot_bgcolor\":\"#E5ECF6\",\"polar\":{\"bgcolor\":\"#E5ECF6\",\"angularaxis\":{\"gridcolor\":\"white\",\"linecolor\":\"white\",\"ticks\":\"\"},\"radialaxis\":{\"gridcolor\":\"white\",\"linecolor\":\"white\",\"ticks\":\"\"}},\"ternary\":{\"bgcolor\":\"#E5ECF6\",\"aaxis\":{\"gridcolor\":\"white\",\"linecolor\":\"white\",\"ticks\":\"\"},\"baxis\":{\"gridcolor\":\"white\",\"linecolor\":\"white\",\"ticks\":\"\"},\"caxis\":{\"gridcolor\":\"white\",\"linecolor\":\"white\",\"ticks\":\"\"}},\"coloraxis\":{\"colorbar\":{\"outlinewidth\":0,\"ticks\":\"\"}},\"colorscale\":{\"sequential\":[[0.0,\"#0d0887\"],[0.1111111111111111,\"#46039f\"],[0.2222222222222222,\"#7201a8\"],[0.3333333333333333,\"#9c179e\"],[0.4444444444444444,\"#bd3786\"],[0.5555555555555556,\"#d8576b\"],[0.6666666666666666,\"#ed7953\"],[0.7777777777777778,\"#fb9f3a\"],[0.8888888888888888,\"#fdca26\"],[1.0,\"#f0f921\"]],\"sequentialminus\":[[0.0,\"#0d0887\"],[0.1111111111111111,\"#46039f\"],[0.2222222222222222,\"#7201a8\"],[0.3333333333333333,\"#9c179e\"],[0.4444444444444444,\"#bd3786\"],[0.5555555555555556,\"#d8576b\"],[0.6666666666666666,\"#ed7953\"],[0.7777777777777778,\"#fb9f3a\"],[0.8888888888888888,\"#fdca26\"],[1.0,\"#f0f921\"]],\"diverging\":[[0,\"#8e0152\"],[0.1,\"#c51b7d\"],[0.2,\"#de77ae\"],[0.3,\"#f1b6da\"],[0.4,\"#fde0ef\"],[0.5,\"#f7f7f7\"],[0.6,\"#e6f5d0\"],[0.7,\"#b8e186\"],[0.8,\"#7fbc41\"],[0.9,\"#4d9221\"],[1,\"#276419\"]]},\"xaxis\":{\"gridcolor\":\"white\",\"linecolor\":\"white\",\"ticks\":\"\",\"title\":{\"standoff\":15},\"zerolinecolor\":\"white\",\"automargin\":true,\"zerolinewidth\":2},\"yaxis\":{\"gridcolor\":\"white\",\"linecolor\":\"white\",\"ticks\":\"\",\"title\":{\"standoff\":15},\"zerolinecolor\":\"white\",\"automargin\":true,\"zerolinewidth\":2},\"scene\":{\"xaxis\":{\"backgroundcolor\":\"#E5ECF6\",\"gridcolor\":\"white\",\"linecolor\":\"white\",\"showbackground\":true,\"ticks\":\"\",\"zerolinecolor\":\"white\",\"gridwidth\":2},\"yaxis\":{\"backgroundcolor\":\"#E5ECF6\",\"gridcolor\":\"white\",\"linecolor\":\"white\",\"showbackground\":true,\"ticks\":\"\",\"zerolinecolor\":\"white\",\"gridwidth\":2},\"zaxis\":{\"backgroundcolor\":\"#E5ECF6\",\"gridcolor\":\"white\",\"linecolor\":\"white\",\"showbackground\":true,\"ticks\":\"\",\"zerolinecolor\":\"white\",\"gridwidth\":2}},\"shapedefaults\":{\"line\":{\"color\":\"#2a3f5f\"}},\"annotationdefaults\":{\"arrowcolor\":\"#2a3f5f\",\"arrowhead\":0,\"arrowwidth\":1},\"geo\":{\"bgcolor\":\"white\",\"landcolor\":\"#E5ECF6\",\"subunitcolor\":\"white\",\"showland\":true,\"showlakes\":true,\"lakecolor\":\"white\"},\"title\":{\"x\":0.05},\"mapbox\":{\"style\":\"light\"}}},\"xaxis\":{\"anchor\":\"y\",\"domain\":[0.0,1.0],\"title\":{\"text\":\"Duration\"}},\"yaxis\":{\"anchor\":\"x\",\"domain\":[0.0,1.0],\"title\":{\"text\":\"Rating\"}},\"legend\":{\"title\":{\"text\":\"Genre\"},\"tracegroupgap\":0,\"yanchor\":\"top\",\"y\":0.99,\"xanchor\":\"left\",\"x\":0.01},\"title\":{\"text\":\"Test dataset plot annotated with movie names\"},\"height\":1000,\"width\":1800},                        {\"responsive\": true}                    ).then(function(){\n",
              "                            \n",
              "var gd = document.getElementById('89e9d4f8-b76e-44d2-a224-ec5be1f249e6');\n",
              "var x = new MutationObserver(function (mutations, observer) {{\n",
              "        var display = window.getComputedStyle(gd).display;\n",
              "        if (!display || display === 'none') {{\n",
              "            console.log([gd, 'removed!']);\n",
              "            Plotly.purge(gd);\n",
              "            observer.disconnect();\n",
              "        }}\n",
              "}});\n",
              "\n",
              "// Listen for the removal of the full notebook cells\n",
              "var notebookContainer = gd.closest('#notebook-container');\n",
              "if (notebookContainer) {{\n",
              "    x.observe(notebookContainer, {childList: true});\n",
              "}}\n",
              "\n",
              "// Listen for the clearing of the current output cell\n",
              "var outputEl = gd.closest('.output');\n",
              "if (outputEl) {{\n",
              "    x.observe(outputEl, {childList: true});\n",
              "}}\n",
              "\n",
              "                        })                };                            </script>        </div>\n",
              "</body>\n",
              "</html>"
            ]
          },
          "metadata": {}
        }
      ]
    },
    {
      "cell_type": "markdown",
      "source": [
        "# Model Development and Evaluation"
      ],
      "metadata": {
        "id": "_gmH61BCSQwH"
      }
    },
    {
      "cell_type": "code",
      "source": [
        "knn_neighbors = list(range(1, 500))"
      ],
      "metadata": {
        "id": "la4sg0dBPQPf"
      },
      "execution_count": 10,
      "outputs": []
    },
    {
      "cell_type": "code",
      "source": [
        "train_X = training_df.drop(['Name', 'Genre'], axis = 1)\n",
        "print(f'Shape = {train_X.shape} \\n')\n",
        "train_X.head()"
      ],
      "metadata": {
        "colab": {
          "base_uri": "https://localhost:8080/",
          "height": 242
        },
        "id": "zsIC7svBS4e3",
        "outputId": "376b1f68-2b09-4297-daab-66fc2ef1026b"
      },
      "execution_count": 11,
      "outputs": [
        {
          "output_type": "stream",
          "name": "stdout",
          "text": [
            "Shape = (2797, 2) \n",
            "\n"
          ]
        },
        {
          "output_type": "execute_result",
          "data": {
            "text/plain": [
              "   Duration  Rating\n",
              "0        99     7.0\n",
              "1       126     4.0\n",
              "2        86     6.2\n",
              "3       136     7.3\n",
              "4       158     5.6"
            ],
            "text/html": [
              "\n",
              "  <div id=\"df-a0166c41-f5e2-43f5-9a53-d88c09abc519\" class=\"colab-df-container\">\n",
              "    <div>\n",
              "<style scoped>\n",
              "    .dataframe tbody tr th:only-of-type {\n",
              "        vertical-align: middle;\n",
              "    }\n",
              "\n",
              "    .dataframe tbody tr th {\n",
              "        vertical-align: top;\n",
              "    }\n",
              "\n",
              "    .dataframe thead th {\n",
              "        text-align: right;\n",
              "    }\n",
              "</style>\n",
              "<table border=\"1\" class=\"dataframe\">\n",
              "  <thead>\n",
              "    <tr style=\"text-align: right;\">\n",
              "      <th></th>\n",
              "      <th>Duration</th>\n",
              "      <th>Rating</th>\n",
              "    </tr>\n",
              "  </thead>\n",
              "  <tbody>\n",
              "    <tr>\n",
              "      <th>0</th>\n",
              "      <td>99</td>\n",
              "      <td>7.0</td>\n",
              "    </tr>\n",
              "    <tr>\n",
              "      <th>1</th>\n",
              "      <td>126</td>\n",
              "      <td>4.0</td>\n",
              "    </tr>\n",
              "    <tr>\n",
              "      <th>2</th>\n",
              "      <td>86</td>\n",
              "      <td>6.2</td>\n",
              "    </tr>\n",
              "    <tr>\n",
              "      <th>3</th>\n",
              "      <td>136</td>\n",
              "      <td>7.3</td>\n",
              "    </tr>\n",
              "    <tr>\n",
              "      <th>4</th>\n",
              "      <td>158</td>\n",
              "      <td>5.6</td>\n",
              "    </tr>\n",
              "  </tbody>\n",
              "</table>\n",
              "</div>\n",
              "    <div class=\"colab-df-buttons\">\n",
              "\n",
              "  <div class=\"colab-df-container\">\n",
              "    <button class=\"colab-df-convert\" onclick=\"convertToInteractive('df-a0166c41-f5e2-43f5-9a53-d88c09abc519')\"\n",
              "            title=\"Convert this dataframe to an interactive table.\"\n",
              "            style=\"display:none;\">\n",
              "\n",
              "  <svg xmlns=\"http://www.w3.org/2000/svg\" height=\"24px\" viewBox=\"0 -960 960 960\">\n",
              "    <path d=\"M120-120v-720h720v720H120Zm60-500h600v-160H180v160Zm220 220h160v-160H400v160Zm0 220h160v-160H400v160ZM180-400h160v-160H180v160Zm440 0h160v-160H620v160ZM180-180h160v-160H180v160Zm440 0h160v-160H620v160Z\"/>\n",
              "  </svg>\n",
              "    </button>\n",
              "\n",
              "  <style>\n",
              "    .colab-df-container {\n",
              "      display:flex;\n",
              "      gap: 12px;\n",
              "    }\n",
              "\n",
              "    .colab-df-convert {\n",
              "      background-color: #E8F0FE;\n",
              "      border: none;\n",
              "      border-radius: 50%;\n",
              "      cursor: pointer;\n",
              "      display: none;\n",
              "      fill: #1967D2;\n",
              "      height: 32px;\n",
              "      padding: 0 0 0 0;\n",
              "      width: 32px;\n",
              "    }\n",
              "\n",
              "    .colab-df-convert:hover {\n",
              "      background-color: #E2EBFA;\n",
              "      box-shadow: 0px 1px 2px rgba(60, 64, 67, 0.3), 0px 1px 3px 1px rgba(60, 64, 67, 0.15);\n",
              "      fill: #174EA6;\n",
              "    }\n",
              "\n",
              "    .colab-df-buttons div {\n",
              "      margin-bottom: 4px;\n",
              "    }\n",
              "\n",
              "    [theme=dark] .colab-df-convert {\n",
              "      background-color: #3B4455;\n",
              "      fill: #D2E3FC;\n",
              "    }\n",
              "\n",
              "    [theme=dark] .colab-df-convert:hover {\n",
              "      background-color: #434B5C;\n",
              "      box-shadow: 0px 1px 3px 1px rgba(0, 0, 0, 0.15);\n",
              "      filter: drop-shadow(0px 1px 2px rgba(0, 0, 0, 0.3));\n",
              "      fill: #FFFFFF;\n",
              "    }\n",
              "  </style>\n",
              "\n",
              "    <script>\n",
              "      const buttonEl =\n",
              "        document.querySelector('#df-a0166c41-f5e2-43f5-9a53-d88c09abc519 button.colab-df-convert');\n",
              "      buttonEl.style.display =\n",
              "        google.colab.kernel.accessAllowed ? 'block' : 'none';\n",
              "\n",
              "      async function convertToInteractive(key) {\n",
              "        const element = document.querySelector('#df-a0166c41-f5e2-43f5-9a53-d88c09abc519');\n",
              "        const dataTable =\n",
              "          await google.colab.kernel.invokeFunction('convertToInteractive',\n",
              "                                                    [key], {});\n",
              "        if (!dataTable) return;\n",
              "\n",
              "        const docLinkHtml = 'Like what you see? Visit the ' +\n",
              "          '<a target=\"_blank\" href=https://colab.research.google.com/notebooks/data_table.ipynb>data table notebook</a>'\n",
              "          + ' to learn more about interactive tables.';\n",
              "        element.innerHTML = '';\n",
              "        dataTable['output_type'] = 'display_data';\n",
              "        await google.colab.output.renderOutput(dataTable, element);\n",
              "        const docLink = document.createElement('div');\n",
              "        docLink.innerHTML = docLinkHtml;\n",
              "        element.appendChild(docLink);\n",
              "      }\n",
              "    </script>\n",
              "  </div>\n",
              "\n",
              "\n",
              "<div id=\"df-50dc8e84-da2e-4a94-8b6b-3d64fa7e4c5d\">\n",
              "  <button class=\"colab-df-quickchart\" onclick=\"quickchart('df-50dc8e84-da2e-4a94-8b6b-3d64fa7e4c5d')\"\n",
              "            title=\"Suggest charts\"\n",
              "            style=\"display:none;\">\n",
              "\n",
              "<svg xmlns=\"http://www.w3.org/2000/svg\" height=\"24px\"viewBox=\"0 0 24 24\"\n",
              "     width=\"24px\">\n",
              "    <g>\n",
              "        <path d=\"M19 3H5c-1.1 0-2 .9-2 2v14c0 1.1.9 2 2 2h14c1.1 0 2-.9 2-2V5c0-1.1-.9-2-2-2zM9 17H7v-7h2v7zm4 0h-2V7h2v10zm4 0h-2v-4h2v4z\"/>\n",
              "    </g>\n",
              "</svg>\n",
              "  </button>\n",
              "\n",
              "<style>\n",
              "  .colab-df-quickchart {\n",
              "      --bg-color: #E8F0FE;\n",
              "      --fill-color: #1967D2;\n",
              "      --hover-bg-color: #E2EBFA;\n",
              "      --hover-fill-color: #174EA6;\n",
              "      --disabled-fill-color: #AAA;\n",
              "      --disabled-bg-color: #DDD;\n",
              "  }\n",
              "\n",
              "  [theme=dark] .colab-df-quickchart {\n",
              "      --bg-color: #3B4455;\n",
              "      --fill-color: #D2E3FC;\n",
              "      --hover-bg-color: #434B5C;\n",
              "      --hover-fill-color: #FFFFFF;\n",
              "      --disabled-bg-color: #3B4455;\n",
              "      --disabled-fill-color: #666;\n",
              "  }\n",
              "\n",
              "  .colab-df-quickchart {\n",
              "    background-color: var(--bg-color);\n",
              "    border: none;\n",
              "    border-radius: 50%;\n",
              "    cursor: pointer;\n",
              "    display: none;\n",
              "    fill: var(--fill-color);\n",
              "    height: 32px;\n",
              "    padding: 0;\n",
              "    width: 32px;\n",
              "  }\n",
              "\n",
              "  .colab-df-quickchart:hover {\n",
              "    background-color: var(--hover-bg-color);\n",
              "    box-shadow: 0 1px 2px rgba(60, 64, 67, 0.3), 0 1px 3px 1px rgba(60, 64, 67, 0.15);\n",
              "    fill: var(--button-hover-fill-color);\n",
              "  }\n",
              "\n",
              "  .colab-df-quickchart-complete:disabled,\n",
              "  .colab-df-quickchart-complete:disabled:hover {\n",
              "    background-color: var(--disabled-bg-color);\n",
              "    fill: var(--disabled-fill-color);\n",
              "    box-shadow: none;\n",
              "  }\n",
              "\n",
              "  .colab-df-spinner {\n",
              "    border: 2px solid var(--fill-color);\n",
              "    border-color: transparent;\n",
              "    border-bottom-color: var(--fill-color);\n",
              "    animation:\n",
              "      spin 1s steps(1) infinite;\n",
              "  }\n",
              "\n",
              "  @keyframes spin {\n",
              "    0% {\n",
              "      border-color: transparent;\n",
              "      border-bottom-color: var(--fill-color);\n",
              "      border-left-color: var(--fill-color);\n",
              "    }\n",
              "    20% {\n",
              "      border-color: transparent;\n",
              "      border-left-color: var(--fill-color);\n",
              "      border-top-color: var(--fill-color);\n",
              "    }\n",
              "    30% {\n",
              "      border-color: transparent;\n",
              "      border-left-color: var(--fill-color);\n",
              "      border-top-color: var(--fill-color);\n",
              "      border-right-color: var(--fill-color);\n",
              "    }\n",
              "    40% {\n",
              "      border-color: transparent;\n",
              "      border-right-color: var(--fill-color);\n",
              "      border-top-color: var(--fill-color);\n",
              "    }\n",
              "    60% {\n",
              "      border-color: transparent;\n",
              "      border-right-color: var(--fill-color);\n",
              "    }\n",
              "    80% {\n",
              "      border-color: transparent;\n",
              "      border-right-color: var(--fill-color);\n",
              "      border-bottom-color: var(--fill-color);\n",
              "    }\n",
              "    90% {\n",
              "      border-color: transparent;\n",
              "      border-bottom-color: var(--fill-color);\n",
              "    }\n",
              "  }\n",
              "</style>\n",
              "\n",
              "  <script>\n",
              "    async function quickchart(key) {\n",
              "      const quickchartButtonEl =\n",
              "        document.querySelector('#' + key + ' button');\n",
              "      quickchartButtonEl.disabled = true;  // To prevent multiple clicks.\n",
              "      quickchartButtonEl.classList.add('colab-df-spinner');\n",
              "      try {\n",
              "        const charts = await google.colab.kernel.invokeFunction(\n",
              "            'suggestCharts', [key], {});\n",
              "      } catch (error) {\n",
              "        console.error('Error during call to suggestCharts:', error);\n",
              "      }\n",
              "      quickchartButtonEl.classList.remove('colab-df-spinner');\n",
              "      quickchartButtonEl.classList.add('colab-df-quickchart-complete');\n",
              "    }\n",
              "    (() => {\n",
              "      let quickchartButtonEl =\n",
              "        document.querySelector('#df-50dc8e84-da2e-4a94-8b6b-3d64fa7e4c5d button');\n",
              "      quickchartButtonEl.style.display =\n",
              "        google.colab.kernel.accessAllowed ? 'block' : 'none';\n",
              "    })();\n",
              "  </script>\n",
              "</div>\n",
              "    </div>\n",
              "  </div>\n"
            ]
          },
          "metadata": {},
          "execution_count": 11
        }
      ]
    },
    {
      "cell_type": "code",
      "source": [
        "train_y = training_df['Genre']\n",
        "train_y.head()"
      ],
      "metadata": {
        "colab": {
          "base_uri": "https://localhost:8080/"
        },
        "id": "IK6ydeG2Yo--",
        "outputId": "ee7907cd-09ef-451b-d4da-52dd78388a93"
      },
      "execution_count": 12,
      "outputs": [
        {
          "output_type": "execute_result",
          "data": {
            "text/plain": [
              "0     Drama\n",
              "1    Action\n",
              "2     Drama\n",
              "3     Drama\n",
              "4     Drama\n",
              "Name: Genre, dtype: object"
            ]
          },
          "metadata": {},
          "execution_count": 12
        }
      ]
    },
    {
      "cell_type": "code",
      "source": [
        "test_X = test_df.drop(['Name', 'Genre'], axis = 1)\n",
        "print(f'Shape = {test_X.shape} \\n')\n",
        "test_X.head()"
      ],
      "metadata": {
        "colab": {
          "base_uri": "https://localhost:8080/",
          "height": 242
        },
        "id": "3wJPNTlaalxZ",
        "outputId": "8d0cb5da-491e-4cf3-ae02-6d6025bb598e"
      },
      "execution_count": 13,
      "outputs": [
        {
          "output_type": "stream",
          "name": "stdout",
          "text": [
            "Shape = (699, 2) \n",
            "\n"
          ]
        },
        {
          "output_type": "execute_result",
          "data": {
            "text/plain": [
              "   Duration  Rating\n",
              "0       132     7.4\n",
              "1       106     7.1\n",
              "2       146     8.1\n",
              "3       120     4.6\n",
              "4       136     5.0"
            ],
            "text/html": [
              "\n",
              "  <div id=\"df-6139474e-fff5-4f5f-b9ba-baa74bc4d33a\" class=\"colab-df-container\">\n",
              "    <div>\n",
              "<style scoped>\n",
              "    .dataframe tbody tr th:only-of-type {\n",
              "        vertical-align: middle;\n",
              "    }\n",
              "\n",
              "    .dataframe tbody tr th {\n",
              "        vertical-align: top;\n",
              "    }\n",
              "\n",
              "    .dataframe thead th {\n",
              "        text-align: right;\n",
              "    }\n",
              "</style>\n",
              "<table border=\"1\" class=\"dataframe\">\n",
              "  <thead>\n",
              "    <tr style=\"text-align: right;\">\n",
              "      <th></th>\n",
              "      <th>Duration</th>\n",
              "      <th>Rating</th>\n",
              "    </tr>\n",
              "  </thead>\n",
              "  <tbody>\n",
              "    <tr>\n",
              "      <th>0</th>\n",
              "      <td>132</td>\n",
              "      <td>7.4</td>\n",
              "    </tr>\n",
              "    <tr>\n",
              "      <th>1</th>\n",
              "      <td>106</td>\n",
              "      <td>7.1</td>\n",
              "    </tr>\n",
              "    <tr>\n",
              "      <th>2</th>\n",
              "      <td>146</td>\n",
              "      <td>8.1</td>\n",
              "    </tr>\n",
              "    <tr>\n",
              "      <th>3</th>\n",
              "      <td>120</td>\n",
              "      <td>4.6</td>\n",
              "    </tr>\n",
              "    <tr>\n",
              "      <th>4</th>\n",
              "      <td>136</td>\n",
              "      <td>5.0</td>\n",
              "    </tr>\n",
              "  </tbody>\n",
              "</table>\n",
              "</div>\n",
              "    <div class=\"colab-df-buttons\">\n",
              "\n",
              "  <div class=\"colab-df-container\">\n",
              "    <button class=\"colab-df-convert\" onclick=\"convertToInteractive('df-6139474e-fff5-4f5f-b9ba-baa74bc4d33a')\"\n",
              "            title=\"Convert this dataframe to an interactive table.\"\n",
              "            style=\"display:none;\">\n",
              "\n",
              "  <svg xmlns=\"http://www.w3.org/2000/svg\" height=\"24px\" viewBox=\"0 -960 960 960\">\n",
              "    <path d=\"M120-120v-720h720v720H120Zm60-500h600v-160H180v160Zm220 220h160v-160H400v160Zm0 220h160v-160H400v160ZM180-400h160v-160H180v160Zm440 0h160v-160H620v160ZM180-180h160v-160H180v160Zm440 0h160v-160H620v160Z\"/>\n",
              "  </svg>\n",
              "    </button>\n",
              "\n",
              "  <style>\n",
              "    .colab-df-container {\n",
              "      display:flex;\n",
              "      gap: 12px;\n",
              "    }\n",
              "\n",
              "    .colab-df-convert {\n",
              "      background-color: #E8F0FE;\n",
              "      border: none;\n",
              "      border-radius: 50%;\n",
              "      cursor: pointer;\n",
              "      display: none;\n",
              "      fill: #1967D2;\n",
              "      height: 32px;\n",
              "      padding: 0 0 0 0;\n",
              "      width: 32px;\n",
              "    }\n",
              "\n",
              "    .colab-df-convert:hover {\n",
              "      background-color: #E2EBFA;\n",
              "      box-shadow: 0px 1px 2px rgba(60, 64, 67, 0.3), 0px 1px 3px 1px rgba(60, 64, 67, 0.15);\n",
              "      fill: #174EA6;\n",
              "    }\n",
              "\n",
              "    .colab-df-buttons div {\n",
              "      margin-bottom: 4px;\n",
              "    }\n",
              "\n",
              "    [theme=dark] .colab-df-convert {\n",
              "      background-color: #3B4455;\n",
              "      fill: #D2E3FC;\n",
              "    }\n",
              "\n",
              "    [theme=dark] .colab-df-convert:hover {\n",
              "      background-color: #434B5C;\n",
              "      box-shadow: 0px 1px 3px 1px rgba(0, 0, 0, 0.15);\n",
              "      filter: drop-shadow(0px 1px 2px rgba(0, 0, 0, 0.3));\n",
              "      fill: #FFFFFF;\n",
              "    }\n",
              "  </style>\n",
              "\n",
              "    <script>\n",
              "      const buttonEl =\n",
              "        document.querySelector('#df-6139474e-fff5-4f5f-b9ba-baa74bc4d33a button.colab-df-convert');\n",
              "      buttonEl.style.display =\n",
              "        google.colab.kernel.accessAllowed ? 'block' : 'none';\n",
              "\n",
              "      async function convertToInteractive(key) {\n",
              "        const element = document.querySelector('#df-6139474e-fff5-4f5f-b9ba-baa74bc4d33a');\n",
              "        const dataTable =\n",
              "          await google.colab.kernel.invokeFunction('convertToInteractive',\n",
              "                                                    [key], {});\n",
              "        if (!dataTable) return;\n",
              "\n",
              "        const docLinkHtml = 'Like what you see? Visit the ' +\n",
              "          '<a target=\"_blank\" href=https://colab.research.google.com/notebooks/data_table.ipynb>data table notebook</a>'\n",
              "          + ' to learn more about interactive tables.';\n",
              "        element.innerHTML = '';\n",
              "        dataTable['output_type'] = 'display_data';\n",
              "        await google.colab.output.renderOutput(dataTable, element);\n",
              "        const docLink = document.createElement('div');\n",
              "        docLink.innerHTML = docLinkHtml;\n",
              "        element.appendChild(docLink);\n",
              "      }\n",
              "    </script>\n",
              "  </div>\n",
              "\n",
              "\n",
              "<div id=\"df-bfc73367-aa6a-4dfe-9176-6601e4da34a6\">\n",
              "  <button class=\"colab-df-quickchart\" onclick=\"quickchart('df-bfc73367-aa6a-4dfe-9176-6601e4da34a6')\"\n",
              "            title=\"Suggest charts\"\n",
              "            style=\"display:none;\">\n",
              "\n",
              "<svg xmlns=\"http://www.w3.org/2000/svg\" height=\"24px\"viewBox=\"0 0 24 24\"\n",
              "     width=\"24px\">\n",
              "    <g>\n",
              "        <path d=\"M19 3H5c-1.1 0-2 .9-2 2v14c0 1.1.9 2 2 2h14c1.1 0 2-.9 2-2V5c0-1.1-.9-2-2-2zM9 17H7v-7h2v7zm4 0h-2V7h2v10zm4 0h-2v-4h2v4z\"/>\n",
              "    </g>\n",
              "</svg>\n",
              "  </button>\n",
              "\n",
              "<style>\n",
              "  .colab-df-quickchart {\n",
              "      --bg-color: #E8F0FE;\n",
              "      --fill-color: #1967D2;\n",
              "      --hover-bg-color: #E2EBFA;\n",
              "      --hover-fill-color: #174EA6;\n",
              "      --disabled-fill-color: #AAA;\n",
              "      --disabled-bg-color: #DDD;\n",
              "  }\n",
              "\n",
              "  [theme=dark] .colab-df-quickchart {\n",
              "      --bg-color: #3B4455;\n",
              "      --fill-color: #D2E3FC;\n",
              "      --hover-bg-color: #434B5C;\n",
              "      --hover-fill-color: #FFFFFF;\n",
              "      --disabled-bg-color: #3B4455;\n",
              "      --disabled-fill-color: #666;\n",
              "  }\n",
              "\n",
              "  .colab-df-quickchart {\n",
              "    background-color: var(--bg-color);\n",
              "    border: none;\n",
              "    border-radius: 50%;\n",
              "    cursor: pointer;\n",
              "    display: none;\n",
              "    fill: var(--fill-color);\n",
              "    height: 32px;\n",
              "    padding: 0;\n",
              "    width: 32px;\n",
              "  }\n",
              "\n",
              "  .colab-df-quickchart:hover {\n",
              "    background-color: var(--hover-bg-color);\n",
              "    box-shadow: 0 1px 2px rgba(60, 64, 67, 0.3), 0 1px 3px 1px rgba(60, 64, 67, 0.15);\n",
              "    fill: var(--button-hover-fill-color);\n",
              "  }\n",
              "\n",
              "  .colab-df-quickchart-complete:disabled,\n",
              "  .colab-df-quickchart-complete:disabled:hover {\n",
              "    background-color: var(--disabled-bg-color);\n",
              "    fill: var(--disabled-fill-color);\n",
              "    box-shadow: none;\n",
              "  }\n",
              "\n",
              "  .colab-df-spinner {\n",
              "    border: 2px solid var(--fill-color);\n",
              "    border-color: transparent;\n",
              "    border-bottom-color: var(--fill-color);\n",
              "    animation:\n",
              "      spin 1s steps(1) infinite;\n",
              "  }\n",
              "\n",
              "  @keyframes spin {\n",
              "    0% {\n",
              "      border-color: transparent;\n",
              "      border-bottom-color: var(--fill-color);\n",
              "      border-left-color: var(--fill-color);\n",
              "    }\n",
              "    20% {\n",
              "      border-color: transparent;\n",
              "      border-left-color: var(--fill-color);\n",
              "      border-top-color: var(--fill-color);\n",
              "    }\n",
              "    30% {\n",
              "      border-color: transparent;\n",
              "      border-left-color: var(--fill-color);\n",
              "      border-top-color: var(--fill-color);\n",
              "      border-right-color: var(--fill-color);\n",
              "    }\n",
              "    40% {\n",
              "      border-color: transparent;\n",
              "      border-right-color: var(--fill-color);\n",
              "      border-top-color: var(--fill-color);\n",
              "    }\n",
              "    60% {\n",
              "      border-color: transparent;\n",
              "      border-right-color: var(--fill-color);\n",
              "    }\n",
              "    80% {\n",
              "      border-color: transparent;\n",
              "      border-right-color: var(--fill-color);\n",
              "      border-bottom-color: var(--fill-color);\n",
              "    }\n",
              "    90% {\n",
              "      border-color: transparent;\n",
              "      border-bottom-color: var(--fill-color);\n",
              "    }\n",
              "  }\n",
              "</style>\n",
              "\n",
              "  <script>\n",
              "    async function quickchart(key) {\n",
              "      const quickchartButtonEl =\n",
              "        document.querySelector('#' + key + ' button');\n",
              "      quickchartButtonEl.disabled = true;  // To prevent multiple clicks.\n",
              "      quickchartButtonEl.classList.add('colab-df-spinner');\n",
              "      try {\n",
              "        const charts = await google.colab.kernel.invokeFunction(\n",
              "            'suggestCharts', [key], {});\n",
              "      } catch (error) {\n",
              "        console.error('Error during call to suggestCharts:', error);\n",
              "      }\n",
              "      quickchartButtonEl.classList.remove('colab-df-spinner');\n",
              "      quickchartButtonEl.classList.add('colab-df-quickchart-complete');\n",
              "    }\n",
              "    (() => {\n",
              "      let quickchartButtonEl =\n",
              "        document.querySelector('#df-bfc73367-aa6a-4dfe-9176-6601e4da34a6 button');\n",
              "      quickchartButtonEl.style.display =\n",
              "        google.colab.kernel.accessAllowed ? 'block' : 'none';\n",
              "    })();\n",
              "  </script>\n",
              "</div>\n",
              "    </div>\n",
              "  </div>\n"
            ]
          },
          "metadata": {},
          "execution_count": 13
        }
      ]
    },
    {
      "cell_type": "code",
      "source": [
        "test_y = test_df['Genre']\n",
        "test_y.head()"
      ],
      "metadata": {
        "colab": {
          "base_uri": "https://localhost:8080/"
        },
        "id": "LSMCYe4la9EH",
        "outputId": "6aa69217-94d8-44c3-ab14-be935a96de71"
      },
      "execution_count": 14,
      "outputs": [
        {
          "output_type": "execute_result",
          "data": {
            "text/plain": [
              "0     Drama\n",
              "1     Drama\n",
              "2    Action\n",
              "3    Action\n",
              "4    Action\n",
              "Name: Genre, dtype: object"
            ]
          },
          "metadata": {},
          "execution_count": 14
        }
      ]
    },
    {
      "cell_type": "code",
      "source": [
        "knn_clf = KNeighborsClassifier(n_neighbors = 3)\n",
        "knn_clf.fit(train_X, train_y)\n",
        "y_pred = knn_clf.predict(test_X)"
      ],
      "metadata": {
        "id": "jmegGiBcZLXO"
      },
      "execution_count": 15,
      "outputs": []
    },
    {
      "cell_type": "code",
      "source": [
        "set(y_pred)"
      ],
      "metadata": {
        "colab": {
          "base_uri": "https://localhost:8080/"
        },
        "id": "PTy-pBtj7sCJ",
        "outputId": "bbc68725-9d47-4463-f15c-561ba54e645b"
      },
      "execution_count": 16,
      "outputs": [
        {
          "output_type": "execute_result",
          "data": {
            "text/plain": [
              "{'Action', 'Drama'}"
            ]
          },
          "metadata": {},
          "execution_count": 16
        }
      ]
    },
    {
      "cell_type": "code",
      "source": [
        "pd.Series(y_pred)"
      ],
      "metadata": {
        "colab": {
          "base_uri": "https://localhost:8080/"
        },
        "id": "MhvodPfNab7P",
        "outputId": "d1ac77d3-7a07-4f2c-9d41-22fc00420b9c"
      },
      "execution_count": 17,
      "outputs": [
        {
          "output_type": "execute_result",
          "data": {
            "text/plain": [
              "0       Drama\n",
              "1       Drama\n",
              "2      Action\n",
              "3       Drama\n",
              "4      Action\n",
              "        ...  \n",
              "694    Action\n",
              "695    Action\n",
              "696     Drama\n",
              "697     Drama\n",
              "698     Drama\n",
              "Length: 699, dtype: object"
            ]
          },
          "metadata": {},
          "execution_count": 17
        }
      ]
    },
    {
      "cell_type": "code",
      "source": [
        "accuracy_list = []"
      ],
      "metadata": {
        "id": "OXFSDXaW9VgK"
      },
      "execution_count": 18,
      "outputs": []
    },
    {
      "cell_type": "code",
      "source": [
        "for k in knn_neighbors:\n",
        "  knn_clf = KNeighborsClassifier(n_neighbors = k)   # Define k-NN classifier\n",
        "  knn_clf.fit(train_X, train_y)                     # Apply the k-NN algorithm on the train set\n",
        "  y_pred = knn_clf.predict(test_X)                  # Use the test dataset to the find the predictions\n",
        "\n",
        "  cf_matrix = confusion_matrix(test_y, y_pred)      # Index = Actual;  Column = Predicted\n",
        "\n",
        "  # Accuracy = (True Negatives + True Positives) / Total no. of data points\n",
        "  accuracy_score = (cf_matrix[0][0] + cf_matrix[1][1]) /sum(sum(cf_matrix))\n",
        "  accuracy_list.append(accuracy_score)\n"
      ],
      "metadata": {
        "id": "FBVUy15lScec"
      },
      "execution_count": 19,
      "outputs": []
    },
    {
      "cell_type": "code",
      "source": [
        "fig = px.line(x = knn_neighbors, y = accuracy_list, title = 'Accuracy vs No. of Neighbors (k) Plot',\n",
        "                              labels = dict(x = 'Value of k', y = 'Accuracy Score'))\n",
        "fig.show()\n",
        "fig.write_image('Accuracy vs No. of Neighbors (k) Plot.png')"
      ],
      "metadata": {
        "colab": {
          "base_uri": "https://localhost:8080/",
          "height": 542
        },
        "id": "A5HBuH1o9F8I",
        "outputId": "9026896c-1292-4c1a-a023-360da18d991e"
      },
      "execution_count": 20,
      "outputs": [
        {
          "output_type": "display_data",
          "data": {
            "text/html": [
              "<html>\n",
              "<head><meta charset=\"utf-8\" /></head>\n",
              "<body>\n",
              "    <div>            <script src=\"https://cdnjs.cloudflare.com/ajax/libs/mathjax/2.7.5/MathJax.js?config=TeX-AMS-MML_SVG\"></script><script type=\"text/javascript\">if (window.MathJax && window.MathJax.Hub && window.MathJax.Hub.Config) {window.MathJax.Hub.Config({SVG: {font: \"STIX-Web\"}});}</script>                <script type=\"text/javascript\">window.PlotlyConfig = {MathJaxConfig: 'local'};</script>\n",
              "        <script charset=\"utf-8\" src=\"https://cdn.plot.ly/plotly-2.24.1.min.js\"></script>                <div id=\"00a46424-387a-4a97-bcff-4626a68fb3bc\" class=\"plotly-graph-div\" style=\"height:525px; width:100%;\"></div>            <script type=\"text/javascript\">                                    window.PLOTLYENV=window.PLOTLYENV || {};                                    if (document.getElementById(\"00a46424-387a-4a97-bcff-4626a68fb3bc\")) {                    Plotly.newPlot(                        \"00a46424-387a-4a97-bcff-4626a68fb3bc\",                        [{\"hovertemplate\":\"Value of k=%{x}\\u003cbr\\u003eAccuracy Score=%{y}\\u003cextra\\u003e\\u003c\\u002fextra\\u003e\",\"legendgroup\":\"\",\"line\":{\"color\":\"#636efa\",\"dash\":\"solid\"},\"marker\":{\"symbol\":\"circle\"},\"mode\":\"lines\",\"name\":\"\",\"orientation\":\"v\",\"showlegend\":false,\"x\":[1,2,3,4,5,6,7,8,9,10,11,12,13,14,15,16,17,18,19,20,21,22,23,24,25,26,27,28,29,30,31,32,33,34,35,36,37,38,39,40,41,42,43,44,45,46,47,48,49,50,51,52,53,54,55,56,57,58,59,60,61,62,63,64,65,66,67,68,69,70,71,72,73,74,75,76,77,78,79,80,81,82,83,84,85,86,87,88,89,90,91,92,93,94,95,96,97,98,99,100,101,102,103,104,105,106,107,108,109,110,111,112,113,114,115,116,117,118,119,120,121,122,123,124,125,126,127,128,129,130,131,132,133,134,135,136,137,138,139,140,141,142,143,144,145,146,147,148,149,150,151,152,153,154,155,156,157,158,159,160,161,162,163,164,165,166,167,168,169,170,171,172,173,174,175,176,177,178,179,180,181,182,183,184,185,186,187,188,189,190,191,192,193,194,195,196,197,198,199,200,201,202,203,204,205,206,207,208,209,210,211,212,213,214,215,216,217,218,219,220,221,222,223,224,225,226,227,228,229,230,231,232,233,234,235,236,237,238,239,240,241,242,243,244,245,246,247,248,249,250,251,252,253,254,255,256,257,258,259,260,261,262,263,264,265,266,267,268,269,270,271,272,273,274,275,276,277,278,279,280,281,282,283,284,285,286,287,288,289,290,291,292,293,294,295,296,297,298,299,300,301,302,303,304,305,306,307,308,309,310,311,312,313,314,315,316,317,318,319,320,321,322,323,324,325,326,327,328,329,330,331,332,333,334,335,336,337,338,339,340,341,342,343,344,345,346,347,348,349,350,351,352,353,354,355,356,357,358,359,360,361,362,363,364,365,366,367,368,369,370,371,372,373,374,375,376,377,378,379,380,381,382,383,384,385,386,387,388,389,390,391,392,393,394,395,396,397,398,399,400,401,402,403,404,405,406,407,408,409,410,411,412,413,414,415,416,417,418,419,420,421,422,423,424,425,426,427,428,429,430,431,432,433,434,435,436,437,438,439,440,441,442,443,444,445,446,447,448,449,450,451,452,453,454,455,456,457,458,459,460,461,462,463,464,465,466,467,468,469,470,471,472,473,474,475,476,477,478,479,480,481,482,483,484,485,486,487,488,489,490,491,492,493,494,495,496,497,498,499],\"xaxis\":\"x\",\"y\":[0.709585121602289,0.7281831187410587,0.7453505007153076,0.7668097281831188,0.7682403433476395,0.7882689556509299,0.7839771101573677,0.7939914163090128,0.7854077253218884,0.7968526466380543,0.7882689556509299,0.7968526466380543,0.7954220314735336,0.7968526466380543,0.7954220314735336,0.7997138769670958,0.7968526466380543,0.804005722460658,0.7939914163090128,0.7968526466380543,0.7868383404864091,0.8011444921316166,0.7911301859799714,0.7982832618025751,0.7911301859799714,0.7968526466380543,0.7882689556509299,0.7997138769670958,0.7854077253218884,0.7954220314735336,0.7896995708154506,0.7982832618025751,0.7982832618025751,0.7982832618025751,0.7968526466380543,0.8011444921316166,0.7968526466380543,0.7997138769670958,0.7954220314735336,0.7997138769670958,0.7982832618025751,0.8025751072961373,0.7997138769670958,0.804005722460658,0.7997138769670958,0.8025751072961373,0.7954220314735336,0.7982832618025751,0.7982832618025751,0.7982832618025751,0.7968526466380543,0.8011444921316166,0.7982832618025751,0.7997138769670958,0.7968526466380543,0.7954220314735336,0.7968526466380543,0.7954220314735336,0.7968526466380543,0.7968526466380543,0.7954220314735336,0.7968526466380543,0.7954220314735336,0.7968526466380543,0.7982832618025751,0.7968526466380543,0.7982832618025751,0.7968526466380543,0.7982832618025751,0.7954220314735336,0.7954220314735336,0.7968526466380543,0.7954220314735336,0.7968526466380543,0.7968526466380543,0.7982832618025751,0.7982832618025751,0.7939914163090128,0.7939914163090128,0.7982832618025751,0.7968526466380543,0.7982832618025751,0.7982832618025751,0.7982832618025751,0.7968526466380543,0.7982832618025751,0.7911301859799714,0.7939914163090128,0.7939914163090128,0.7997138769670958,0.7939914163090128,0.7968526466380543,0.7954220314735336,0.7997138769670958,0.7982832618025751,0.7997138769670958,0.7968526466380543,0.7997138769670958,0.7911301859799714,0.7954220314735336,0.7939914163090128,0.7939914163090128,0.7939914163090128,0.7925608011444921,0.7925608011444921,0.7925608011444921,0.7925608011444921,0.7939914163090128,0.7939914163090128,0.7939914163090128,0.7939914163090128,0.7939914163090128,0.7939914163090128,0.7939914163090128,0.7939914163090128,0.7968526466380543,0.7939914163090128,0.7968526466380543,0.7968526466380543,0.7968526466380543,0.7968526466380543,0.7968526466380543,0.7968526466380543,0.7968526466380543,0.7968526466380543,0.7954220314735336,0.7968526466380543,0.7968526466380543,0.7954220314735336,0.7968526466380543,0.7939914163090128,0.7954220314735336,0.7954220314735336,0.7954220314735336,0.7939914163090128,0.7939914163090128,0.7939914163090128,0.7939914163090128,0.7939914163090128,0.7954220314735336,0.7939914163090128,0.7939914163090128,0.7954220314735336,0.7954220314735336,0.7954220314735336,0.7939914163090128,0.7954220314735336,0.7954220314735336,0.7954220314735336,0.7954220314735336,0.7954220314735336,0.7954220314735336,0.7954220314735336,0.7939914163090128,0.7939914163090128,0.7939914163090128,0.7939914163090128,0.7925608011444921,0.7925608011444921,0.7911301859799714,0.7939914163090128,0.7939914163090128,0.7939914163090128,0.7954220314735336,0.7954220314735336,0.7968526466380543,0.7954220314735336,0.7968526466380543,0.7954220314735336,0.7982832618025751,0.7954220314735336,0.7968526466380543,0.7925608011444921,0.7954220314735336,0.7882689556509299,0.7954220314735336,0.7882689556509299,0.7911301859799714,0.7882689556509299,0.7896995708154506,0.7882689556509299,0.7896995708154506,0.7868383404864091,0.7911301859799714,0.7911301859799714,0.7882689556509299,0.7896995708154506,0.7882689556509299,0.7854077253218884,0.7854077253218884,0.7868383404864091,0.7854077253218884,0.7868383404864091,0.7854077253218884,0.7854077253218884,0.7854077253218884,0.7868383404864091,0.7854077253218884,0.7882689556509299,0.7882689556509299,0.7868383404864091,0.7868383404864091,0.7839771101573677,0.7868383404864091,0.7839771101573677,0.7854077253218884,0.7839771101573677,0.7839771101573677,0.7811158798283262,0.7811158798283262,0.7796852646638054,0.7811158798283262,0.7796852646638054,0.7811158798283262,0.7811158798283262,0.7811158798283262,0.7811158798283262,0.7811158798283262,0.7811158798283262,0.7825464949928469,0.7825464949928469,0.7825464949928469,0.7854077253218884,0.7854077253218884,0.7868383404864091,0.7854077253218884,0.7854077253218884,0.7839771101573677,0.7854077253218884,0.7854077253218884,0.7854077253218884,0.7854077253218884,0.7854077253218884,0.7839771101573677,0.7854077253218884,0.7839771101573677,0.7839771101573677,0.7854077253218884,0.7839771101573677,0.7854077253218884,0.7839771101573677,0.7839771101573677,0.7839771101573677,0.7854077253218884,0.7854077253218884,0.7868383404864091,0.7868383404864091,0.7854077253218884,0.7868383404864091,0.7839771101573677,0.7868383404864091,0.7868383404864091,0.7868383404864091,0.7882689556509299,0.7868383404864091,0.7868383404864091,0.7854077253218884,0.7868383404864091,0.7854077253218884,0.7854077253218884,0.7854077253218884,0.7854077253218884,0.7854077253218884,0.7839771101573677,0.7854077253218884,0.7811158798283262,0.7839771101573677,0.7825464949928469,0.7825464949928469,0.7868383404864091,0.7868383404864091,0.7825464949928469,0.7839771101573677,0.7825464949928469,0.7825464949928469,0.7839771101573677,0.7825464949928469,0.7825464949928469,0.7825464949928469,0.7825464949928469,0.7825464949928469,0.7825464949928469,0.7811158798283262,0.7825464949928469,0.7811158798283262,0.7825464949928469,0.7811158798283262,0.7839771101573677,0.7825464949928469,0.7825464949928469,0.7825464949928469,0.7811158798283262,0.7825464949928469,0.7811158798283262,0.7825464949928469,0.7825464949928469,0.7839771101573677,0.7839771101573677,0.7825464949928469,0.7825464949928469,0.7839771101573677,0.7825464949928469,0.7825464949928469,0.7825464949928469,0.7825464949928469,0.7839771101573677,0.7825464949928469,0.7811158798283262,0.7825464949928469,0.7796852646638054,0.7796852646638054,0.7796852646638054,0.7796852646638054,0.7796852646638054,0.7796852646638054,0.7796852646638054,0.7796852646638054,0.7796852646638054,0.7796852646638054,0.7739628040057225,0.776824034334764,0.776824034334764,0.776824034334764,0.776824034334764,0.7825464949928469,0.7753934191702432,0.7839771101573677,0.7753934191702432,0.7811158798283262,0.7796852646638054,0.7796852646638054,0.7796852646638054,0.7811158798283262,0.7796852646638054,0.7811158798283262,0.776824034334764,0.7825464949928469,0.7811158798283262,0.7811158798283262,0.7811158798283262,0.7825464949928469,0.7811158798283262,0.7825464949928469,0.7825464949928469,0.7825464949928469,0.7825464949928469,0.7854077253218884,0.7854077253218884,0.7854077253218884,0.7854077253218884,0.7868383404864091,0.7825464949928469,0.7868383404864091,0.7868383404864091,0.7868383404864091,0.7868383404864091,0.7868383404864091,0.7839771101573677,0.7839771101573677,0.7839771101573677,0.7854077253218884,0.7825464949928469,0.7825464949928469,0.7825464949928469,0.7854077253218884,0.7825464949928469,0.7825464949928469,0.7825464949928469,0.7825464949928469,0.7825464949928469,0.7825464949928469,0.7825464949928469,0.7825464949928469,0.7825464949928469,0.7825464949928469,0.7825464949928469,0.7825464949928469,0.7825464949928469,0.7825464949928469,0.7825464949928469,0.7825464949928469,0.7825464949928469,0.7854077253218884,0.7825464949928469,0.7854077253218884,0.7825464949928469,0.7854077253218884,0.7854077253218884,0.7854077253218884,0.7854077253218884,0.7854077253218884,0.7854077253218884,0.7854077253218884,0.7854077253218884,0.7854077253218884,0.7854077253218884,0.7854077253218884,0.7854077253218884,0.7854077253218884,0.7854077253218884,0.7854077253218884,0.7854077253218884,0.7854077253218884,0.7825464949928469,0.7854077253218884,0.7825464949928469,0.7854077253218884,0.7854077253218884,0.7854077253218884,0.7854077253218884,0.7854077253218884,0.7854077253218884,0.7854077253218884,0.7825464949928469,0.7825464949928469,0.7825464949928469,0.7825464949928469,0.7825464949928469,0.7825464949928469,0.7825464949928469,0.7825464949928469,0.7825464949928469,0.7825464949928469,0.7825464949928469,0.7825464949928469,0.7825464949928469,0.7825464949928469,0.776824034334764,0.776824034334764,0.776824034334764,0.776824034334764,0.776824034334764,0.776824034334764,0.776824034334764,0.776824034334764,0.776824034334764,0.776824034334764,0.776824034334764,0.776824034334764,0.776824034334764,0.776824034334764,0.776824034334764,0.776824034334764,0.776824034334764,0.776824034334764,0.776824034334764,0.776824034334764,0.776824034334764,0.776824034334764,0.776824034334764,0.7796852646638054,0.7739628040057225,0.776824034334764,0.7753934191702432,0.776824034334764,0.776824034334764,0.776824034334764,0.776824034334764,0.776824034334764,0.7739628040057225,0.7739628040057225,0.7739628040057225,0.7739628040057225,0.7739628040057225,0.7739628040057225,0.7739628040057225,0.7739628040057225,0.7739628040057225,0.776824034334764,0.7739628040057225,0.7782546494992847,0.7753934191702432,0.7782546494992847,0.7739628040057225,0.776824034334764,0.776824034334764,0.7782546494992847,0.7739628040057225,0.7796852646638054,0.7796852646638054,0.7796852646638054,0.7796852646638054,0.7796852646638054,0.7796852646638054,0.7796852646638054,0.7796852646638054,0.7796852646638054,0.7796852646638054,0.7782546494992847,0.7796852646638054,0.7782546494992847,0.7796852646638054,0.7811158798283262,0.7811158798283262,0.7811158798283262,0.7811158798283262,0.7796852646638054,0.7796852646638054,0.7796852646638054],\"yaxis\":\"y\",\"type\":\"scatter\"}],                        {\"template\":{\"data\":{\"histogram2dcontour\":[{\"type\":\"histogram2dcontour\",\"colorbar\":{\"outlinewidth\":0,\"ticks\":\"\"},\"colorscale\":[[0.0,\"#0d0887\"],[0.1111111111111111,\"#46039f\"],[0.2222222222222222,\"#7201a8\"],[0.3333333333333333,\"#9c179e\"],[0.4444444444444444,\"#bd3786\"],[0.5555555555555556,\"#d8576b\"],[0.6666666666666666,\"#ed7953\"],[0.7777777777777778,\"#fb9f3a\"],[0.8888888888888888,\"#fdca26\"],[1.0,\"#f0f921\"]]}],\"choropleth\":[{\"type\":\"choropleth\",\"colorbar\":{\"outlinewidth\":0,\"ticks\":\"\"}}],\"histogram2d\":[{\"type\":\"histogram2d\",\"colorbar\":{\"outlinewidth\":0,\"ticks\":\"\"},\"colorscale\":[[0.0,\"#0d0887\"],[0.1111111111111111,\"#46039f\"],[0.2222222222222222,\"#7201a8\"],[0.3333333333333333,\"#9c179e\"],[0.4444444444444444,\"#bd3786\"],[0.5555555555555556,\"#d8576b\"],[0.6666666666666666,\"#ed7953\"],[0.7777777777777778,\"#fb9f3a\"],[0.8888888888888888,\"#fdca26\"],[1.0,\"#f0f921\"]]}],\"heatmap\":[{\"type\":\"heatmap\",\"colorbar\":{\"outlinewidth\":0,\"ticks\":\"\"},\"colorscale\":[[0.0,\"#0d0887\"],[0.1111111111111111,\"#46039f\"],[0.2222222222222222,\"#7201a8\"],[0.3333333333333333,\"#9c179e\"],[0.4444444444444444,\"#bd3786\"],[0.5555555555555556,\"#d8576b\"],[0.6666666666666666,\"#ed7953\"],[0.7777777777777778,\"#fb9f3a\"],[0.8888888888888888,\"#fdca26\"],[1.0,\"#f0f921\"]]}],\"heatmapgl\":[{\"type\":\"heatmapgl\",\"colorbar\":{\"outlinewidth\":0,\"ticks\":\"\"},\"colorscale\":[[0.0,\"#0d0887\"],[0.1111111111111111,\"#46039f\"],[0.2222222222222222,\"#7201a8\"],[0.3333333333333333,\"#9c179e\"],[0.4444444444444444,\"#bd3786\"],[0.5555555555555556,\"#d8576b\"],[0.6666666666666666,\"#ed7953\"],[0.7777777777777778,\"#fb9f3a\"],[0.8888888888888888,\"#fdca26\"],[1.0,\"#f0f921\"]]}],\"contourcarpet\":[{\"type\":\"contourcarpet\",\"colorbar\":{\"outlinewidth\":0,\"ticks\":\"\"}}],\"contour\":[{\"type\":\"contour\",\"colorbar\":{\"outlinewidth\":0,\"ticks\":\"\"},\"colorscale\":[[0.0,\"#0d0887\"],[0.1111111111111111,\"#46039f\"],[0.2222222222222222,\"#7201a8\"],[0.3333333333333333,\"#9c179e\"],[0.4444444444444444,\"#bd3786\"],[0.5555555555555556,\"#d8576b\"],[0.6666666666666666,\"#ed7953\"],[0.7777777777777778,\"#fb9f3a\"],[0.8888888888888888,\"#fdca26\"],[1.0,\"#f0f921\"]]}],\"surface\":[{\"type\":\"surface\",\"colorbar\":{\"outlinewidth\":0,\"ticks\":\"\"},\"colorscale\":[[0.0,\"#0d0887\"],[0.1111111111111111,\"#46039f\"],[0.2222222222222222,\"#7201a8\"],[0.3333333333333333,\"#9c179e\"],[0.4444444444444444,\"#bd3786\"],[0.5555555555555556,\"#d8576b\"],[0.6666666666666666,\"#ed7953\"],[0.7777777777777778,\"#fb9f3a\"],[0.8888888888888888,\"#fdca26\"],[1.0,\"#f0f921\"]]}],\"mesh3d\":[{\"type\":\"mesh3d\",\"colorbar\":{\"outlinewidth\":0,\"ticks\":\"\"}}],\"scatter\":[{\"fillpattern\":{\"fillmode\":\"overlay\",\"size\":10,\"solidity\":0.2},\"type\":\"scatter\"}],\"parcoords\":[{\"type\":\"parcoords\",\"line\":{\"colorbar\":{\"outlinewidth\":0,\"ticks\":\"\"}}}],\"scatterpolargl\":[{\"type\":\"scatterpolargl\",\"marker\":{\"colorbar\":{\"outlinewidth\":0,\"ticks\":\"\"}}}],\"bar\":[{\"error_x\":{\"color\":\"#2a3f5f\"},\"error_y\":{\"color\":\"#2a3f5f\"},\"marker\":{\"line\":{\"color\":\"#E5ECF6\",\"width\":0.5},\"pattern\":{\"fillmode\":\"overlay\",\"size\":10,\"solidity\":0.2}},\"type\":\"bar\"}],\"scattergeo\":[{\"type\":\"scattergeo\",\"marker\":{\"colorbar\":{\"outlinewidth\":0,\"ticks\":\"\"}}}],\"scatterpolar\":[{\"type\":\"scatterpolar\",\"marker\":{\"colorbar\":{\"outlinewidth\":0,\"ticks\":\"\"}}}],\"histogram\":[{\"marker\":{\"pattern\":{\"fillmode\":\"overlay\",\"size\":10,\"solidity\":0.2}},\"type\":\"histogram\"}],\"scattergl\":[{\"type\":\"scattergl\",\"marker\":{\"colorbar\":{\"outlinewidth\":0,\"ticks\":\"\"}}}],\"scatter3d\":[{\"type\":\"scatter3d\",\"line\":{\"colorbar\":{\"outlinewidth\":0,\"ticks\":\"\"}},\"marker\":{\"colorbar\":{\"outlinewidth\":0,\"ticks\":\"\"}}}],\"scattermapbox\":[{\"type\":\"scattermapbox\",\"marker\":{\"colorbar\":{\"outlinewidth\":0,\"ticks\":\"\"}}}],\"scatterternary\":[{\"type\":\"scatterternary\",\"marker\":{\"colorbar\":{\"outlinewidth\":0,\"ticks\":\"\"}}}],\"scattercarpet\":[{\"type\":\"scattercarpet\",\"marker\":{\"colorbar\":{\"outlinewidth\":0,\"ticks\":\"\"}}}],\"carpet\":[{\"aaxis\":{\"endlinecolor\":\"#2a3f5f\",\"gridcolor\":\"white\",\"linecolor\":\"white\",\"minorgridcolor\":\"white\",\"startlinecolor\":\"#2a3f5f\"},\"baxis\":{\"endlinecolor\":\"#2a3f5f\",\"gridcolor\":\"white\",\"linecolor\":\"white\",\"minorgridcolor\":\"white\",\"startlinecolor\":\"#2a3f5f\"},\"type\":\"carpet\"}],\"table\":[{\"cells\":{\"fill\":{\"color\":\"#EBF0F8\"},\"line\":{\"color\":\"white\"}},\"header\":{\"fill\":{\"color\":\"#C8D4E3\"},\"line\":{\"color\":\"white\"}},\"type\":\"table\"}],\"barpolar\":[{\"marker\":{\"line\":{\"color\":\"#E5ECF6\",\"width\":0.5},\"pattern\":{\"fillmode\":\"overlay\",\"size\":10,\"solidity\":0.2}},\"type\":\"barpolar\"}],\"pie\":[{\"automargin\":true,\"type\":\"pie\"}]},\"layout\":{\"autotypenumbers\":\"strict\",\"colorway\":[\"#636efa\",\"#EF553B\",\"#00cc96\",\"#ab63fa\",\"#FFA15A\",\"#19d3f3\",\"#FF6692\",\"#B6E880\",\"#FF97FF\",\"#FECB52\"],\"font\":{\"color\":\"#2a3f5f\"},\"hovermode\":\"closest\",\"hoverlabel\":{\"align\":\"left\"},\"paper_bgcolor\":\"white\",\"plot_bgcolor\":\"#E5ECF6\",\"polar\":{\"bgcolor\":\"#E5ECF6\",\"angularaxis\":{\"gridcolor\":\"white\",\"linecolor\":\"white\",\"ticks\":\"\"},\"radialaxis\":{\"gridcolor\":\"white\",\"linecolor\":\"white\",\"ticks\":\"\"}},\"ternary\":{\"bgcolor\":\"#E5ECF6\",\"aaxis\":{\"gridcolor\":\"white\",\"linecolor\":\"white\",\"ticks\":\"\"},\"baxis\":{\"gridcolor\":\"white\",\"linecolor\":\"white\",\"ticks\":\"\"},\"caxis\":{\"gridcolor\":\"white\",\"linecolor\":\"white\",\"ticks\":\"\"}},\"coloraxis\":{\"colorbar\":{\"outlinewidth\":0,\"ticks\":\"\"}},\"colorscale\":{\"sequential\":[[0.0,\"#0d0887\"],[0.1111111111111111,\"#46039f\"],[0.2222222222222222,\"#7201a8\"],[0.3333333333333333,\"#9c179e\"],[0.4444444444444444,\"#bd3786\"],[0.5555555555555556,\"#d8576b\"],[0.6666666666666666,\"#ed7953\"],[0.7777777777777778,\"#fb9f3a\"],[0.8888888888888888,\"#fdca26\"],[1.0,\"#f0f921\"]],\"sequentialminus\":[[0.0,\"#0d0887\"],[0.1111111111111111,\"#46039f\"],[0.2222222222222222,\"#7201a8\"],[0.3333333333333333,\"#9c179e\"],[0.4444444444444444,\"#bd3786\"],[0.5555555555555556,\"#d8576b\"],[0.6666666666666666,\"#ed7953\"],[0.7777777777777778,\"#fb9f3a\"],[0.8888888888888888,\"#fdca26\"],[1.0,\"#f0f921\"]],\"diverging\":[[0,\"#8e0152\"],[0.1,\"#c51b7d\"],[0.2,\"#de77ae\"],[0.3,\"#f1b6da\"],[0.4,\"#fde0ef\"],[0.5,\"#f7f7f7\"],[0.6,\"#e6f5d0\"],[0.7,\"#b8e186\"],[0.8,\"#7fbc41\"],[0.9,\"#4d9221\"],[1,\"#276419\"]]},\"xaxis\":{\"gridcolor\":\"white\",\"linecolor\":\"white\",\"ticks\":\"\",\"title\":{\"standoff\":15},\"zerolinecolor\":\"white\",\"automargin\":true,\"zerolinewidth\":2},\"yaxis\":{\"gridcolor\":\"white\",\"linecolor\":\"white\",\"ticks\":\"\",\"title\":{\"standoff\":15},\"zerolinecolor\":\"white\",\"automargin\":true,\"zerolinewidth\":2},\"scene\":{\"xaxis\":{\"backgroundcolor\":\"#E5ECF6\",\"gridcolor\":\"white\",\"linecolor\":\"white\",\"showbackground\":true,\"ticks\":\"\",\"zerolinecolor\":\"white\",\"gridwidth\":2},\"yaxis\":{\"backgroundcolor\":\"#E5ECF6\",\"gridcolor\":\"white\",\"linecolor\":\"white\",\"showbackground\":true,\"ticks\":\"\",\"zerolinecolor\":\"white\",\"gridwidth\":2},\"zaxis\":{\"backgroundcolor\":\"#E5ECF6\",\"gridcolor\":\"white\",\"linecolor\":\"white\",\"showbackground\":true,\"ticks\":\"\",\"zerolinecolor\":\"white\",\"gridwidth\":2}},\"shapedefaults\":{\"line\":{\"color\":\"#2a3f5f\"}},\"annotationdefaults\":{\"arrowcolor\":\"#2a3f5f\",\"arrowhead\":0,\"arrowwidth\":1},\"geo\":{\"bgcolor\":\"white\",\"landcolor\":\"#E5ECF6\",\"subunitcolor\":\"white\",\"showland\":true,\"showlakes\":true,\"lakecolor\":\"white\"},\"title\":{\"x\":0.05},\"mapbox\":{\"style\":\"light\"}}},\"xaxis\":{\"anchor\":\"y\",\"domain\":[0.0,1.0],\"title\":{\"text\":\"Value of k\"}},\"yaxis\":{\"anchor\":\"x\",\"domain\":[0.0,1.0],\"title\":{\"text\":\"Accuracy Score\"}},\"legend\":{\"tracegroupgap\":0},\"title\":{\"text\":\"Accuracy vs No. of Neighbors (k) Plot\"}},                        {\"responsive\": true}                    ).then(function(){\n",
              "                            \n",
              "var gd = document.getElementById('00a46424-387a-4a97-bcff-4626a68fb3bc');\n",
              "var x = new MutationObserver(function (mutations, observer) {{\n",
              "        var display = window.getComputedStyle(gd).display;\n",
              "        if (!display || display === 'none') {{\n",
              "            console.log([gd, 'removed!']);\n",
              "            Plotly.purge(gd);\n",
              "            observer.disconnect();\n",
              "        }}\n",
              "}});\n",
              "\n",
              "// Listen for the removal of the full notebook cells\n",
              "var notebookContainer = gd.closest('#notebook-container');\n",
              "if (notebookContainer) {{\n",
              "    x.observe(notebookContainer, {childList: true});\n",
              "}}\n",
              "\n",
              "// Listen for the clearing of the current output cell\n",
              "var outputEl = gd.closest('.output');\n",
              "if (outputEl) {{\n",
              "    x.observe(outputEl, {childList: true});\n",
              "}}\n",
              "\n",
              "                        })                };                            </script>        </div>\n",
              "</body>\n",
              "</html>"
            ]
          },
          "metadata": {}
        }
      ]
    },
    {
      "cell_type": "markdown",
      "source": [
        "## Find optimal k"
      ],
      "metadata": {
        "id": "z48O00m9BX2A"
      }
    },
    {
      "cell_type": "markdown",
      "source": [
        "**Find the value of k for which the accuracy is the maximum**"
      ],
      "metadata": {
        "id": "vjt-RRPqBtG-"
      }
    },
    {
      "cell_type": "code",
      "source": [
        "max_accuracy = max(accuracy_list)\n",
        "max_accuracy"
      ],
      "metadata": {
        "colab": {
          "base_uri": "https://localhost:8080/"
        },
        "id": "X0jLQH2y_MnB",
        "outputId": "4229647b-f2ec-4fb9-f92a-407e443496c5"
      },
      "execution_count": 21,
      "outputs": [
        {
          "output_type": "execute_result",
          "data": {
            "text/plain": [
              "0.804005722460658"
            ]
          },
          "metadata": {},
          "execution_count": 21
        }
      ]
    },
    {
      "cell_type": "code",
      "source": [
        "corresponding_k = accuracy_list.index(max_accuracy)\n",
        "corresponding_k"
      ],
      "metadata": {
        "colab": {
          "base_uri": "https://localhost:8080/"
        },
        "id": "vnauvAqIBx6Y",
        "outputId": "2cb4fb3a-018d-4dea-eaa5-3bd637317ab5"
      },
      "execution_count": 22,
      "outputs": [
        {
          "output_type": "execute_result",
          "data": {
            "text/plain": [
              "17"
            ]
          },
          "metadata": {},
          "execution_count": 22
        }
      ]
    },
    {
      "cell_type": "markdown",
      "source": [
        "**Print optimal k and corresponding accuracy**"
      ],
      "metadata": {
        "id": "MDdC6iq_CPXz"
      }
    },
    {
      "cell_type": "code",
      "source": [
        "print(f'The value of optimal k and corresponding accuracy are {corresponding_k} and {max_accuracy} respectively.')"
      ],
      "metadata": {
        "colab": {
          "base_uri": "https://localhost:8080/"
        },
        "id": "fPfKKyH2B4zl",
        "outputId": "ac67b7a7-bb4d-497d-e834-61923c3f6296"
      },
      "execution_count": 23,
      "outputs": [
        {
          "output_type": "stream",
          "name": "stdout",
          "text": [
            "The value of optimal k and corresponding accuracy are 17 and 0.804005722460658 respectively.\n"
          ]
        }
      ]
    },
    {
      "cell_type": "markdown",
      "source": [
        "## Evaluate Model for Optimal k"
      ],
      "metadata": {
        "id": "zpKpzrpkCYyx"
      }
    },
    {
      "cell_type": "code",
      "source": [
        "knn_clf = KNeighborsClassifier(n_neighbors = corresponding_k)       # Define k-NN classifier\n",
        "knn_clf.fit(train_X, train_y)                                       # Apply the k-NN algorithm on the train set\n",
        "optimal_conf_mat = confusion_matrix(test_y, y_pred)                 # Index = Actual;  Column = Predicted"
      ],
      "metadata": {
        "id": "I_fXSLrZCNcm"
      },
      "execution_count": 24,
      "outputs": []
    },
    {
      "cell_type": "code",
      "source": [
        "conf_disp = ConfusionMatrixDisplay(confusion_matrix = optimal_conf_mat, display_labels = knn_clf.classes_)\n",
        "conf_disp.plot()"
      ],
      "metadata": {
        "colab": {
          "base_uri": "https://localhost:8080/",
          "height": 467
        },
        "id": "ELoJVajsCsom",
        "outputId": "13a9a32a-f2a9-4568-bf15-de06493d3097"
      },
      "execution_count": 25,
      "outputs": [
        {
          "output_type": "execute_result",
          "data": {
            "text/plain": [
              "<sklearn.metrics._plot.confusion_matrix.ConfusionMatrixDisplay at 0x787e42933430>"
            ]
          },
          "metadata": {},
          "execution_count": 25
        },
        {
          "output_type": "display_data",
          "data": {
            "text/plain": [
              "<Figure size 640x480 with 2 Axes>"
            ],
            "image/png": "[encoded data removed]"
          },
          "metadata": {}
        }
      ]
    },
    {
      "cell_type": "code",
      "source": [
        "# To verify the confusion matrix and labels\n",
        "\n",
        "pd.crosstab(test_y, y_pred, rownames = ['Actual'], colnames = ['Predicted'], margins = True)"
      ],
      "metadata": {
        "colab": {
          "base_uri": "https://localhost:8080/",
          "height": 175
        },
        "id": "ECl-gqMGC_Pe",
        "outputId": "648ad2d9-d27a-4c48-da7b-14e4c1d45631"
      },
      "execution_count": 26,
      "outputs": [
        {
          "output_type": "execute_result",
          "data": {
            "text/plain": [
              "Predicted  Action  Drama  All\n",
              "Actual                       \n",
              "Action        259     83  342\n",
              "Drama          71    286  357\n",
              "All           330    369  699"
            ],
            "text/html": [
              "\n",
              "  <div id=\"df-2048568c-d96a-4c28-b0a6-72135e022749\" class=\"colab-df-container\">\n",
              "    <div>\n",
              "<style scoped>\n",
              "    .dataframe tbody tr th:only-of-type {\n",
              "        vertical-align: middle;\n",
              "    }\n",
              "\n",
              "    .dataframe tbody tr th {\n",
              "        vertical-align: top;\n",
              "    }\n",
              "\n",
              "    .dataframe thead th {\n",
              "        text-align: right;\n",
              "    }\n",
              "</style>\n",
              "<table border=\"1\" class=\"dataframe\">\n",
              "  <thead>\n",
              "    <tr style=\"text-align: right;\">\n",
              "      <th>Predicted</th>\n",
              "      <th>Action</th>\n",
              "      <th>Drama</th>\n",
              "      <th>All</th>\n",
              "    </tr>\n",
              "    <tr>\n",
              "      <th>Actual</th>\n",
              "      <th></th>\n",
              "      <th></th>\n",
              "      <th></th>\n",
              "    </tr>\n",
              "  </thead>\n",
              "  <tbody>\n",
              "    <tr>\n",
              "      <th>Action</th>\n",
              "      <td>259</td>\n",
              "      <td>83</td>\n",
              "      <td>342</td>\n",
              "    </tr>\n",
              "    <tr>\n",
              "      <th>Drama</th>\n",
              "      <td>71</td>\n",
              "      <td>286</td>\n",
              "      <td>357</td>\n",
              "    </tr>\n",
              "    <tr>\n",
              "      <th>All</th>\n",
              "      <td>330</td>\n",
              "      <td>369</td>\n",
              "      <td>699</td>\n",
              "    </tr>\n",
              "  </tbody>\n",
              "</table>\n",
              "</div>\n",
              "    <div class=\"colab-df-buttons\">\n",
              "\n",
              "  <div class=\"colab-df-container\">\n",
              "    <button class=\"colab-df-convert\" onclick=\"convertToInteractive('df-2048568c-d96a-4c28-b0a6-72135e022749')\"\n",
              "            title=\"Convert this dataframe to an interactive table.\"\n",
              "            style=\"display:none;\">\n",
              "\n",
              "  <svg xmlns=\"http://www.w3.org/2000/svg\" height=\"24px\" viewBox=\"0 -960 960 960\">\n",
              "    <path d=\"M120-120v-720h720v720H120Zm60-500h600v-160H180v160Zm220 220h160v-160H400v160Zm0 220h160v-160H400v160ZM180-400h160v-160H180v160Zm440 0h160v-160H620v160ZM180-180h160v-160H180v160Zm440 0h160v-160H620v160Z\"/>\n",
              "  </svg>\n",
              "    </button>\n",
              "\n",
              "  <style>\n",
              "    .colab-df-container {\n",
              "      display:flex;\n",
              "      gap: 12px;\n",
              "    }\n",
              "\n",
              "    .colab-df-convert {\n",
              "      background-color: #E8F0FE;\n",
              "      border: none;\n",
              "      border-radius: 50%;\n",
              "      cursor: pointer;\n",
              "      display: none;\n",
              "      fill: #1967D2;\n",
              "      height: 32px;\n",
              "      padding: 0 0 0 0;\n",
              "      width: 32px;\n",
              "    }\n",
              "\n",
              "    .colab-df-convert:hover {\n",
              "      background-color: #E2EBFA;\n",
              "      box-shadow: 0px 1px 2px rgba(60, 64, 67, 0.3), 0px 1px 3px 1px rgba(60, 64, 67, 0.15);\n",
              "      fill: #174EA6;\n",
              "    }\n",
              "\n",
              "    .colab-df-buttons div {\n",
              "      margin-bottom: 4px;\n",
              "    }\n",
              "\n",
              "    [theme=dark] .colab-df-convert {\n",
              "      background-color: #3B4455;\n",
              "      fill: #D2E3FC;\n",
              "    }\n",
              "\n",
              "    [theme=dark] .colab-df-convert:hover {\n",
              "      background-color: #434B5C;\n",
              "      box-shadow: 0px 1px 3px 1px rgba(0, 0, 0, 0.15);\n",
              "      filter: drop-shadow(0px 1px 2px rgba(0, 0, 0, 0.3));\n",
              "      fill: #FFFFFF;\n",
              "    }\n",
              "  </style>\n",
              "\n",
              "    <script>\n",
              "      const buttonEl =\n",
              "        document.querySelector('#df-2048568c-d96a-4c28-b0a6-72135e022749 button.colab-df-convert');\n",
              "      buttonEl.style.display =\n",
              "        google.colab.kernel.accessAllowed ? 'block' : 'none';\n",
              "\n",
              "      async function convertToInteractive(key) {\n",
              "        const element = document.querySelector('#df-2048568c-d96a-4c28-b0a6-72135e022749');\n",
              "        const dataTable =\n",
              "          await google.colab.kernel.invokeFunction('convertToInteractive',\n",
              "                                                    [key], {});\n",
              "        if (!dataTable) return;\n",
              "\n",
              "        const docLinkHtml = 'Like what you see? Visit the ' +\n",
              "          '<a target=\"_blank\" href=https://colab.research.google.com/notebooks/data_table.ipynb>data table notebook</a>'\n",
              "          + ' to learn more about interactive tables.';\n",
              "        element.innerHTML = '';\n",
              "        dataTable['output_type'] = 'display_data';\n",
              "        await google.colab.output.renderOutput(dataTable, element);\n",
              "        const docLink = document.createElement('div');\n",
              "        docLink.innerHTML = docLinkHtml;\n",
              "        element.appendChild(docLink);\n",
              "      }\n",
              "    </script>\n",
              "  </div>\n",
              "\n",
              "\n",
              "<div id=\"df-334a90d4-888b-499a-91ef-cb1b0c769081\">\n",
              "  <button class=\"colab-df-quickchart\" onclick=\"quickchart('df-334a90d4-888b-499a-91ef-cb1b0c769081')\"\n",
              "            title=\"Suggest charts\"\n",
              "            style=\"display:none;\">\n",
              "\n",
              "<svg xmlns=\"http://www.w3.org/2000/svg\" height=\"24px\"viewBox=\"0 0 24 24\"\n",
              "     width=\"24px\">\n",
              "    <g>\n",
              "        <path d=\"M19 3H5c-1.1 0-2 .9-2 2v14c0 1.1.9 2 2 2h14c1.1 0 2-.9 2-2V5c0-1.1-.9-2-2-2zM9 17H7v-7h2v7zm4 0h-2V7h2v10zm4 0h-2v-4h2v4z\"/>\n",
              "    </g>\n",
              "</svg>\n",
              "  </button>\n",
              "\n",
              "<style>\n",
              "  .colab-df-quickchart {\n",
              "      --bg-color: #E8F0FE;\n",
              "      --fill-color: #1967D2;\n",
              "      --hover-bg-color: #E2EBFA;\n",
              "      --hover-fill-color: #174EA6;\n",
              "      --disabled-fill-color: #AAA;\n",
              "      --disabled-bg-color: #DDD;\n",
              "  }\n",
              "\n",
              "  [theme=dark] .colab-df-quickchart {\n",
              "      --bg-color: #3B4455;\n",
              "      --fill-color: #D2E3FC;\n",
              "      --hover-bg-color: #434B5C;\n",
              "      --hover-fill-color: #FFFFFF;\n",
              "      --disabled-bg-color: #3B4455;\n",
              "      --disabled-fill-color: #666;\n",
              "  }\n",
              "\n",
              "  .colab-df-quickchart {\n",
              "    background-color: var(--bg-color);\n",
              "    border: none;\n",
              "    border-radius: 50%;\n",
              "    cursor: pointer;\n",
              "    display: none;\n",
              "    fill: var(--fill-color);\n",
              "    height: 32px;\n",
              "    padding: 0;\n",
              "    width: 32px;\n",
              "  }\n",
              "\n",
              "  .colab-df-quickchart:hover {\n",
              "    background-color: var(--hover-bg-color);\n",
              "    box-shadow: 0 1px 2px rgba(60, 64, 67, 0.3), 0 1px 3px 1px rgba(60, 64, 67, 0.15);\n",
              "    fill: var(--button-hover-fill-color);\n",
              "  }\n",
              "\n",
              "  .colab-df-quickchart-complete:disabled,\n",
              "  .colab-df-quickchart-complete:disabled:hover {\n",
              "    background-color: var(--disabled-bg-color);\n",
              "    fill: var(--disabled-fill-color);\n",
              "    box-shadow: none;\n",
              "  }\n",
              "\n",
              "  .colab-df-spinner {\n",
              "    border: 2px solid var(--fill-color);\n",
              "    border-color: transparent;\n",
              "    border-bottom-color: var(--fill-color);\n",
              "    animation:\n",
              "      spin 1s steps(1) infinite;\n",
              "  }\n",
              "\n",
              "  @keyframes spin {\n",
              "    0% {\n",
              "      border-color: transparent;\n",
              "      border-bottom-color: var(--fill-color);\n",
              "      border-left-color: var(--fill-color);\n",
              "    }\n",
              "    20% {\n",
              "      border-color: transparent;\n",
              "      border-left-color: var(--fill-color);\n",
              "      border-top-color: var(--fill-color);\n",
              "    }\n",
              "    30% {\n",
              "      border-color: transparent;\n",
              "      border-left-color: var(--fill-color);\n",
              "      border-top-color: var(--fill-color);\n",
              "      border-right-color: var(--fill-color);\n",
              "    }\n",
              "    40% {\n",
              "      border-color: transparent;\n",
              "      border-right-color: var(--fill-color);\n",
              "      border-top-color: var(--fill-color);\n",
              "    }\n",
              "    60% {\n",
              "      border-color: transparent;\n",
              "      border-right-color: var(--fill-color);\n",
              "    }\n",
              "    80% {\n",
              "      border-color: transparent;\n",
              "      border-right-color: var(--fill-color);\n",
              "      border-bottom-color: var(--fill-color);\n",
              "    }\n",
              "    90% {\n",
              "      border-color: transparent;\n",
              "      border-bottom-color: var(--fill-color);\n",
              "    }\n",
              "  }\n",
              "</style>\n",
              "\n",
              "  <script>\n",
              "    async function quickchart(key) {\n",
              "      const quickchartButtonEl =\n",
              "        document.querySelector('#' + key + ' button');\n",
              "      quickchartButtonEl.disabled = true;  // To prevent multiple clicks.\n",
              "      quickchartButtonEl.classList.add('colab-df-spinner');\n",
              "      try {\n",
              "        const charts = await google.colab.kernel.invokeFunction(\n",
              "            'suggestCharts', [key], {});\n",
              "      } catch (error) {\n",
              "        console.error('Error during call to suggestCharts:', error);\n",
              "      }\n",
              "      quickchartButtonEl.classList.remove('colab-df-spinner');\n",
              "      quickchartButtonEl.classList.add('colab-df-quickchart-complete');\n",
              "    }\n",
              "    (() => {\n",
              "      let quickchartButtonEl =\n",
              "        document.querySelector('#df-334a90d4-888b-499a-91ef-cb1b0c769081 button');\n",
              "      quickchartButtonEl.style.display =\n",
              "        google.colab.kernel.accessAllowed ? 'block' : 'none';\n",
              "    })();\n",
              "  </script>\n",
              "</div>\n",
              "    </div>\n",
              "  </div>\n"
            ]
          },
          "metadata": {},
          "execution_count": 26
        }
      ]
    },
    {
      "cell_type": "markdown",
      "source": [
        "**To compute Precision score**"
      ],
      "metadata": {
        "id": "KGmEZrtNHbWJ"
      }
    },
    {
      "cell_type": "code",
      "source": [
        "# To compute precision for Action class\n",
        "\n",
        "precision_action = precision_score(test_y, y_pred, pos_label = 'Action')\n",
        "precision_action"
      ],
      "metadata": {
        "colab": {
          "base_uri": "https://localhost:8080/"
        },
        "id": "_Nh8lpXnHaq7",
        "outputId": "968bdc37-3a91-4b2a-c0c4-7c7a055cf70f"
      },
      "execution_count": 27,
      "outputs": [
        {
          "output_type": "execute_result",
          "data": {
            "text/plain": [
              "0.7848484848484848"
            ]
          },
          "metadata": {},
          "execution_count": 27
        }
      ]
    },
    {
      "cell_type": "code",
      "source": [
        "# To compute precision for Drama class\n",
        "\n",
        "precision_drama = precision_score(test_y, y_pred, pos_label = 'Drama')\n",
        "precision_drama"
      ],
      "metadata": {
        "colab": {
          "base_uri": "https://localhost:8080/"
        },
        "id": "g4wsKh_hDJrl",
        "outputId": "987af97e-612a-47fa-9d0b-61c5e83ece56"
      },
      "execution_count": 28,
      "outputs": [
        {
          "output_type": "execute_result",
          "data": {
            "text/plain": [
              "0.7750677506775068"
            ]
          },
          "metadata": {},
          "execution_count": 28
        }
      ]
    },
    {
      "cell_type": "code",
      "source": [
        "precision_score(test_y, y_pred, average=None)"
      ],
      "metadata": {
        "colab": {
          "base_uri": "https://localhost:8080/"
        },
        "id": "Sn5tsEN2HPHN",
        "outputId": "7b4e8e69-f66a-4054-d62b-bd9e39a9d995"
      },
      "execution_count": 29,
      "outputs": [
        {
          "output_type": "execute_result",
          "data": {
            "text/plain": [
              "array([0.78484848, 0.77506775])"
            ]
          },
          "metadata": {},
          "execution_count": 29
        }
      ]
    },
    {
      "cell_type": "code",
      "source": [
        "# To compute overall precision\n",
        "\n",
        "overall_precison = precision_score(test_y, y_pred, average = 'weighted')\n",
        "overall_precison"
      ],
      "metadata": {
        "colab": {
          "base_uri": "https://localhost:8080/"
        },
        "id": "sGWeOlw3GDG0",
        "outputId": "0015be78-cda3-402f-b4a0-e2825a49c442"
      },
      "execution_count": 30,
      "outputs": [
        {
          "output_type": "execute_result",
          "data": {
            "text/plain": [
              "0.779853174263307"
            ]
          },
          "metadata": {},
          "execution_count": 30
        }
      ]
    },
    {
      "cell_type": "markdown",
      "source": [
        "**To compute Recall score**"
      ],
      "metadata": {
        "id": "Ln87eH6RHuLS"
      }
    },
    {
      "cell_type": "code",
      "source": [
        "# To compute recall for Action class\n",
        "\n",
        "recall_action = recall_score(test_y, y_pred, pos_label = 'Action')\n",
        "recall_action"
      ],
      "metadata": {
        "colab": {
          "base_uri": "https://localhost:8080/"
        },
        "id": "PCg7o7Z3ID1d",
        "outputId": "af75dd73-39e1-412f-9c07-a53b246dfb52"
      },
      "execution_count": 31,
      "outputs": [
        {
          "output_type": "execute_result",
          "data": {
            "text/plain": [
              "0.7573099415204678"
            ]
          },
          "metadata": {},
          "execution_count": 31
        }
      ]
    },
    {
      "cell_type": "code",
      "source": [
        "# To compute recall for Drama class\n",
        "\n",
        "recall_drama = recall_score(test_y, y_pred, pos_label = 'Drama')\n",
        "recall_drama"
      ],
      "metadata": {
        "colab": {
          "base_uri": "https://localhost:8080/"
        },
        "id": "-G3Xn3ijID4o",
        "outputId": "0a18aa4a-2611-4444-ae68-41e9f3c68d1a"
      },
      "execution_count": 32,
      "outputs": [
        {
          "output_type": "execute_result",
          "data": {
            "text/plain": [
              "0.8011204481792717"
            ]
          },
          "metadata": {},
          "execution_count": 32
        }
      ]
    },
    {
      "cell_type": "code",
      "source": [
        "recall_score(test_y, y_pred, average = None)"
      ],
      "metadata": {
        "colab": {
          "base_uri": "https://localhost:8080/"
        },
        "id": "hhKzAqcGG7-r",
        "outputId": "914092c6-8189-429a-8252-dea5c10b140c"
      },
      "execution_count": 33,
      "outputs": [
        {
          "output_type": "execute_result",
          "data": {
            "text/plain": [
              "array([0.75730994, 0.80112045])"
            ]
          },
          "metadata": {},
          "execution_count": 33
        }
      ]
    },
    {
      "cell_type": "code",
      "source": [
        "# To compute overall recall\n",
        "\n",
        "overall_recall = recall_score(test_y, y_pred, average = 'weighted')\n",
        "overall_recall"
      ],
      "metadata": {
        "colab": {
          "base_uri": "https://localhost:8080/"
        },
        "id": "jyWkxsgoHGp3",
        "outputId": "76718608-7349-4047-f359-28ee84d8808b"
      },
      "execution_count": 34,
      "outputs": [
        {
          "output_type": "execute_result",
          "data": {
            "text/plain": [
              "0.7796852646638054"
            ]
          },
          "metadata": {},
          "execution_count": 34
        }
      ]
    },
    {
      "cell_type": "markdown",
      "source": [
        "**To compute F-score score**"
      ],
      "metadata": {
        "id": "f9HPLtZTJR60"
      }
    },
    {
      "cell_type": "code",
      "source": [
        "# To compute F-score for Action class\n",
        "\n",
        "f1_score_action = f1_score(test_y, y_pred, pos_label = 'Action')\n",
        "f1_score_action"
      ],
      "metadata": {
        "colab": {
          "base_uri": "https://localhost:8080/"
        },
        "outputId": "74c75cfe-ba8b-4b57-e8e3-6806fd15d870",
        "id": "a5l6VADFJuhx"
      },
      "execution_count": 35,
      "outputs": [
        {
          "output_type": "execute_result",
          "data": {
            "text/plain": [
              "0.7708333333333333"
            ]
          },
          "metadata": {},
          "execution_count": 35
        }
      ]
    },
    {
      "cell_type": "code",
      "source": [
        "# To compute F-score for Drama class\n",
        "\n",
        "f1_score_drama = f1_score(test_y, y_pred, pos_label = 'Drama')\n",
        "f1_score_drama"
      ],
      "metadata": {
        "colab": {
          "base_uri": "https://localhost:8080/"
        },
        "outputId": "e16b961b-c0a2-4960-b35f-2e3a33118a9f",
        "id": "i1XN5sM-JuiB"
      },
      "execution_count": 36,
      "outputs": [
        {
          "output_type": "execute_result",
          "data": {
            "text/plain": [
              "0.787878787878788"
            ]
          },
          "metadata": {},
          "execution_count": 36
        }
      ]
    },
    {
      "cell_type": "code",
      "source": [
        "f1_score(test_y, y_pred, average = None)"
      ],
      "metadata": {
        "colab": {
          "base_uri": "https://localhost:8080/"
        },
        "outputId": "326bb837-afad-45c9-c3b7-c604788822d4",
        "id": "d3bv4P9JJuiB"
      },
      "execution_count": 37,
      "outputs": [
        {
          "output_type": "execute_result",
          "data": {
            "text/plain": [
              "array([0.77083333, 0.78787879])"
            ]
          },
          "metadata": {},
          "execution_count": 37
        }
      ]
    },
    {
      "cell_type": "code",
      "source": [
        "# To compute overall F-score\n",
        "\n",
        "overall_f1_score = f1_score(test_y, y_pred, average = 'weighted')\n",
        "overall_f1_score"
      ],
      "metadata": {
        "colab": {
          "base_uri": "https://localhost:8080/"
        },
        "outputId": "7171f03a-86e4-4c73-be26-99d67f4fc698",
        "id": "_uTktblOJuiB"
      },
      "execution_count": 38,
      "outputs": [
        {
          "output_type": "execute_result",
          "data": {
            "text/plain": [
              "0.7795389517492521"
            ]
          },
          "metadata": {},
          "execution_count": 38
        }
      ]
    },
    {
      "cell_type": "code",
      "source": [
        "precision_vals = [precision_action, precision_drama, overall_precison]\n",
        "recall_vals = [recall_action, recall_drama, overall_recall]\n",
        "f1_vals = [f1_score_action, f1_score_drama, overall_f1_score]"
      ],
      "metadata": {
        "id": "FYbN84xLK4e_"
      },
      "execution_count": 39,
      "outputs": []
    },
    {
      "cell_type": "code",
      "source": [
        "index_labels = ['Action class', 'Drama class', 'Overall']\n",
        "column_labels = ['Precision', 'Recall', 'F1-score']\n",
        "\n",
        "pd.DataFrame({'Precison': precision_vals, 'Recall': recall_vals, 'F1-score': f1_vals}, index = index_labels)"
      ],
      "metadata": {
        "colab": {
          "base_uri": "https://localhost:8080/",
          "height": 143
        },
        "id": "WevRjFzsKQlD",
        "outputId": "1cc23ab7-0946-4bbe-a57a-e37774219644"
      },
      "execution_count": 40,
      "outputs": [
        {
          "output_type": "execute_result",
          "data": {
            "text/plain": [
              "              Precison    Recall  F1-score\n",
              "Action class  0.784848  0.757310  0.770833\n",
              "Drama class   0.775068  0.801120  0.787879\n",
              "Overall       0.779853  0.779685  0.779539"
            ],
            "text/html": [
              "\n",
              "  <div id=\"df-832d2f6c-b520-4508-9fd9-4583f09ca844\" class=\"colab-df-container\">\n",
              "    <div>\n",
              "<style scoped>\n",
              "    .dataframe tbody tr th:only-of-type {\n",
              "        vertical-align: middle;\n",
              "    }\n",
              "\n",
              "    .dataframe tbody tr th {\n",
              "        vertical-align: top;\n",
              "    }\n",
              "\n",
              "    .dataframe thead th {\n",
              "        text-align: right;\n",
              "    }\n",
              "</style>\n",
              "<table border=\"1\" class=\"dataframe\">\n",
              "  <thead>\n",
              "    <tr style=\"text-align: right;\">\n",
              "      <th></th>\n",
              "      <th>Precison</th>\n",
              "      <th>Recall</th>\n",
              "      <th>F1-score</th>\n",
              "    </tr>\n",
              "  </thead>\n",
              "  <tbody>\n",
              "    <tr>\n",
              "      <th>Action class</th>\n",
              "      <td>0.784848</td>\n",
              "      <td>0.757310</td>\n",
              "      <td>0.770833</td>\n",
              "    </tr>\n",
              "    <tr>\n",
              "      <th>Drama class</th>\n",
              "      <td>0.775068</td>\n",
              "      <td>0.801120</td>\n",
              "      <td>0.787879</td>\n",
              "    </tr>\n",
              "    <tr>\n",
              "      <th>Overall</th>\n",
              "      <td>0.779853</td>\n",
              "      <td>0.779685</td>\n",
              "      <td>0.779539</td>\n",
              "    </tr>\n",
              "  </tbody>\n",
              "</table>\n",
              "</div>\n",
              "    <div class=\"colab-df-buttons\">\n",
              "\n",
              "  <div class=\"colab-df-container\">\n",
              "    <button class=\"colab-df-convert\" onclick=\"convertToInteractive('df-832d2f6c-b520-4508-9fd9-4583f09ca844')\"\n",
              "            title=\"Convert this dataframe to an interactive table.\"\n",
              "            style=\"display:none;\">\n",
              "\n",
              "  <svg xmlns=\"http://www.w3.org/2000/svg\" height=\"24px\" viewBox=\"0 -960 960 960\">\n",
              "    <path d=\"M120-120v-720h720v720H120Zm60-500h600v-160H180v160Zm220 220h160v-160H400v160Zm0 220h160v-160H400v160ZM180-400h160v-160H180v160Zm440 0h160v-160H620v160ZM180-180h160v-160H180v160Zm440 0h160v-160H620v160Z\"/>\n",
              "  </svg>\n",
              "    </button>\n",
              "\n",
              "  <style>\n",
              "    .colab-df-container {\n",
              "      display:flex;\n",
              "      gap: 12px;\n",
              "    }\n",
              "\n",
              "    .colab-df-convert {\n",
              "      background-color: #E8F0FE;\n",
              "      border: none;\n",
              "      border-radius: 50%;\n",
              "      cursor: pointer;\n",
              "      display: none;\n",
              "      fill: #1967D2;\n",
              "      height: 32px;\n",
              "      padding: 0 0 0 0;\n",
              "      width: 32px;\n",
              "    }\n",
              "\n",
              "    .colab-df-convert:hover {\n",
              "      background-color: #E2EBFA;\n",
              "      box-shadow: 0px 1px 2px rgba(60, 64, 67, 0.3), 0px 1px 3px 1px rgba(60, 64, 67, 0.15);\n",
              "      fill: #174EA6;\n",
              "    }\n",
              "\n",
              "    .colab-df-buttons div {\n",
              "      margin-bottom: 4px;\n",
              "    }\n",
              "\n",
              "    [theme=dark] .colab-df-convert {\n",
              "      background-color: #3B4455;\n",
              "      fill: #D2E3FC;\n",
              "    }\n",
              "\n",
              "    [theme=dark] .colab-df-convert:hover {\n",
              "      background-color: #434B5C;\n",
              "      box-shadow: 0px 1px 3px 1px rgba(0, 0, 0, 0.15);\n",
              "      filter: drop-shadow(0px 1px 2px rgba(0, 0, 0, 0.3));\n",
              "      fill: #FFFFFF;\n",
              "    }\n",
              "  </style>\n",
              "\n",
              "    <script>\n",
              "      const buttonEl =\n",
              "        document.querySelector('#df-832d2f6c-b520-4508-9fd9-4583f09ca844 button.colab-df-convert');\n",
              "      buttonEl.style.display =\n",
              "        google.colab.kernel.accessAllowed ? 'block' : 'none';\n",
              "\n",
              "      async function convertToInteractive(key) {\n",
              "        const element = document.querySelector('#df-832d2f6c-b520-4508-9fd9-4583f09ca844');\n",
              "        const dataTable =\n",
              "          await google.colab.kernel.invokeFunction('convertToInteractive',\n",
              "                                                    [key], {});\n",
              "        if (!dataTable) return;\n",
              "\n",
              "        const docLinkHtml = 'Like what you see? Visit the ' +\n",
              "          '<a target=\"_blank\" href=https://colab.research.google.com/notebooks/data_table.ipynb>data table notebook</a>'\n",
              "          + ' to learn more about interactive tables.';\n",
              "        element.innerHTML = '';\n",
              "        dataTable['output_type'] = 'display_data';\n",
              "        await google.colab.output.renderOutput(dataTable, element);\n",
              "        const docLink = document.createElement('div');\n",
              "        docLink.innerHTML = docLinkHtml;\n",
              "        element.appendChild(docLink);\n",
              "      }\n",
              "    </script>\n",
              "  </div>\n",
              "\n",
              "\n",
              "<div id=\"df-d4388bff-9205-4e1e-870a-b429a17517be\">\n",
              "  <button class=\"colab-df-quickchart\" onclick=\"quickchart('df-d4388bff-9205-4e1e-870a-b429a17517be')\"\n",
              "            title=\"Suggest charts\"\n",
              "            style=\"display:none;\">\n",
              "\n",
              "<svg xmlns=\"http://www.w3.org/2000/svg\" height=\"24px\"viewBox=\"0 0 24 24\"\n",
              "     width=\"24px\">\n",
              "    <g>\n",
              "        <path d=\"M19 3H5c-1.1 0-2 .9-2 2v14c0 1.1.9 2 2 2h14c1.1 0 2-.9 2-2V5c0-1.1-.9-2-2-2zM9 17H7v-7h2v7zm4 0h-2V7h2v10zm4 0h-2v-4h2v4z\"/>\n",
              "    </g>\n",
              "</svg>\n",
              "  </button>\n",
              "\n",
              "<style>\n",
              "  .colab-df-quickchart {\n",
              "      --bg-color: #E8F0FE;\n",
              "      --fill-color: #1967D2;\n",
              "      --hover-bg-color: #E2EBFA;\n",
              "      --hover-fill-color: #174EA6;\n",
              "      --disabled-fill-color: #AAA;\n",
              "      --disabled-bg-color: #DDD;\n",
              "  }\n",
              "\n",
              "  [theme=dark] .colab-df-quickchart {\n",
              "      --bg-color: #3B4455;\n",
              "      --fill-color: #D2E3FC;\n",
              "      --hover-bg-color: #434B5C;\n",
              "      --hover-fill-color: #FFFFFF;\n",
              "      --disabled-bg-color: #3B4455;\n",
              "      --disabled-fill-color: #666;\n",
              "  }\n",
              "\n",
              "  .colab-df-quickchart {\n",
              "    background-color: var(--bg-color);\n",
              "    border: none;\n",
              "    border-radius: 50%;\n",
              "    cursor: pointer;\n",
              "    display: none;\n",
              "    fill: var(--fill-color);\n",
              "    height: 32px;\n",
              "    padding: 0;\n",
              "    width: 32px;\n",
              "  }\n",
              "\n",
              "  .colab-df-quickchart:hover {\n",
              "    background-color: var(--hover-bg-color);\n",
              "    box-shadow: 0 1px 2px rgba(60, 64, 67, 0.3), 0 1px 3px 1px rgba(60, 64, 67, 0.15);\n",
              "    fill: var(--button-hover-fill-color);\n",
              "  }\n",
              "\n",
              "  .colab-df-quickchart-complete:disabled,\n",
              "  .colab-df-quickchart-complete:disabled:hover {\n",
              "    background-color: var(--disabled-bg-color);\n",
              "    fill: var(--disabled-fill-color);\n",
              "    box-shadow: none;\n",
              "  }\n",
              "\n",
              "  .colab-df-spinner {\n",
              "    border: 2px solid var(--fill-color);\n",
              "    border-color: transparent;\n",
              "    border-bottom-color: var(--fill-color);\n",
              "    animation:\n",
              "      spin 1s steps(1) infinite;\n",
              "  }\n",
              "\n",
              "  @keyframes spin {\n",
              "    0% {\n",
              "      border-color: transparent;\n",
              "      border-bottom-color: var(--fill-color);\n",
              "      border-left-color: var(--fill-color);\n",
              "    }\n",
              "    20% {\n",
              "      border-color: transparent;\n",
              "      border-left-color: var(--fill-color);\n",
              "      border-top-color: var(--fill-color);\n",
              "    }\n",
              "    30% {\n",
              "      border-color: transparent;\n",
              "      border-left-color: var(--fill-color);\n",
              "      border-top-color: var(--fill-color);\n",
              "      border-right-color: var(--fill-color);\n",
              "    }\n",
              "    40% {\n",
              "      border-color: transparent;\n",
              "      border-right-color: var(--fill-color);\n",
              "      border-top-color: var(--fill-color);\n",
              "    }\n",
              "    60% {\n",
              "      border-color: transparent;\n",
              "      border-right-color: var(--fill-color);\n",
              "    }\n",
              "    80% {\n",
              "      border-color: transparent;\n",
              "      border-right-color: var(--fill-color);\n",
              "      border-bottom-color: var(--fill-color);\n",
              "    }\n",
              "    90% {\n",
              "      border-color: transparent;\n",
              "      border-bottom-color: var(--fill-color);\n",
              "    }\n",
              "  }\n",
              "</style>\n",
              "\n",
              "  <script>\n",
              "    async function quickchart(key) {\n",
              "      const quickchartButtonEl =\n",
              "        document.querySelector('#' + key + ' button');\n",
              "      quickchartButtonEl.disabled = true;  // To prevent multiple clicks.\n",
              "      quickchartButtonEl.classList.add('colab-df-spinner');\n",
              "      try {\n",
              "        const charts = await google.colab.kernel.invokeFunction(\n",
              "            'suggestCharts', [key], {});\n",
              "      } catch (error) {\n",
              "        console.error('Error during call to suggestCharts:', error);\n",
              "      }\n",
              "      quickchartButtonEl.classList.remove('colab-df-spinner');\n",
              "      quickchartButtonEl.classList.add('colab-df-quickchart-complete');\n",
              "    }\n",
              "    (() => {\n",
              "      let quickchartButtonEl =\n",
              "        document.querySelector('#df-d4388bff-9205-4e1e-870a-b429a17517be button');\n",
              "      quickchartButtonEl.style.display =\n",
              "        google.colab.kernel.accessAllowed ? 'block' : 'none';\n",
              "    })();\n",
              "  </script>\n",
              "</div>\n",
              "    </div>\n",
              "  </div>\n"
            ]
          },
          "metadata": {},
          "execution_count": 40
        }
      ]
    },
    {
      "cell_type": "code",
      "source": [],
      "metadata": {
        "id": "xwZ1aBzKMh06"
      },
      "execution_count": 40,
      "outputs": []
    }
  ]
}