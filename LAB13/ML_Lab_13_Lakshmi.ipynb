{
  "nbformat": 4,
  "nbformat_minor": 0,
  "metadata": {
    "colab": {
      "provenance": []
    },
    "kernelspec": {
      "name": "python3",
      "display_name": "Python 3"
    },
    "language_info": {
      "name": "python"
    }
  },
  "cells": [
    {
      "cell_type": "markdown",
      "source": [
        "# **Step1:** Import libraries"
      ],
      "metadata": {
        "id": "QqbLoMkq3tSS"
      }
    },
    {
      "cell_type": "code",
      "execution_count": 1,
      "metadata": {
        "id": "YtEesctY3sWJ"
      },
      "outputs": [],
      "source": [
        "# Import libraries\n",
        "\n",
        "import numpy as np\n",
        "import pandas as pd\n",
        "import matplotlib.cm as cm\n",
        "import matplotlib.pyplot as plt\n",
        "\n",
        "import plotly.express as px\n",
        "import plotly.graph_objs as go\n",
        "\n",
        "import tensorflow as tf\n",
        "\n",
        "from sklearn.metrics import mean_squared_error\n",
        "from sklearn.model_selection import train_test_split\n",
        "\n",
        "#import warnings\n",
        "#warnings.filterwarnings('ignore')"
      ]
    },
    {
      "cell_type": "code",
      "source": [
        "pip install -U kaleido"
      ],
      "metadata": {
        "colab": {
          "base_uri": "https://localhost:8080/"
        },
        "id": "-vHujM47tbbZ",
        "outputId": "87bb69c8-24da-4e2c-a4ba-049c6b66e0ab"
      },
      "execution_count": 2,
      "outputs": [
        {
          "output_type": "stream",
          "name": "stdout",
          "text": [
            "Requirement already satisfied: kaleido in /usr/local/lib/python3.10/dist-packages (0.2.1)\n"
          ]
        }
      ]
    },
    {
      "cell_type": "markdown",
      "source": [
        "# Step2: Load “Fertility_Diagnosis.txt” file."
      ],
      "metadata": {
        "id": "RrhYaLQI367c"
      }
    },
    {
      "cell_type": "code",
      "source": [
        "fertility_data = np.genfromtxt('Fertility_Diagnosis.txt', delimiter=',')\n",
        "print(f'Shape = {fertility_data.shape} \\n')\n",
        "pd.DataFrame(fertility_data).head()"
      ],
      "metadata": {
        "colab": {
          "base_uri": "https://localhost:8080/",
          "height": 242
        },
        "id": "aP3rfKxm39-e",
        "outputId": "05e54cd8-c940-4f63-fe3e-b6fa60542750"
      },
      "execution_count": 3,
      "outputs": [
        {
          "output_type": "stream",
          "name": "stdout",
          "text": [
            "Shape = (100, 10) \n",
            "\n"
          ]
        },
        {
          "output_type": "execute_result",
          "data": {
            "text/plain": [
              "      0     1    2    3    4    5    6    7     8    9\n",
              "0 -0.33  0.69  0.0  1.0  1.0  0.0  0.8  0.0  0.88  0.0\n",
              "1 -0.33  0.94  1.0  0.0  1.0  0.0  0.8  1.0  0.31  1.0\n",
              "2 -0.33  0.50  1.0  0.0  0.0  0.0  1.0 -1.0  0.50  0.0\n",
              "3 -0.33  0.75  0.0  1.0  1.0  0.0  1.0 -1.0  0.38  0.0\n",
              "4 -0.33  0.67  1.0  1.0  0.0  0.0  0.8 -1.0  0.50  1.0"
            ],
            "text/html": [
              "\n",
              "  <div id=\"df-fe935bd9-b765-4e96-a096-1f6cf747b383\" class=\"colab-df-container\">\n",
              "    <div>\n",
              "<style scoped>\n",
              "    .dataframe tbody tr th:only-of-type {\n",
              "        vertical-align: middle;\n",
              "    }\n",
              "\n",
              "    .dataframe tbody tr th {\n",
              "        vertical-align: top;\n",
              "    }\n",
              "\n",
              "    .dataframe thead th {\n",
              "        text-align: right;\n",
              "    }\n",
              "</style>\n",
              "<table border=\"1\" class=\"dataframe\">\n",
              "  <thead>\n",
              "    <tr style=\"text-align: right;\">\n",
              "      <th></th>\n",
              "      <th>0</th>\n",
              "      <th>1</th>\n",
              "      <th>2</th>\n",
              "      <th>3</th>\n",
              "      <th>4</th>\n",
              "      <th>5</th>\n",
              "      <th>6</th>\n",
              "      <th>7</th>\n",
              "      <th>8</th>\n",
              "      <th>9</th>\n",
              "    </tr>\n",
              "  </thead>\n",
              "  <tbody>\n",
              "    <tr>\n",
              "      <th>0</th>\n",
              "      <td>-0.33</td>\n",
              "      <td>0.69</td>\n",
              "      <td>0.0</td>\n",
              "      <td>1.0</td>\n",
              "      <td>1.0</td>\n",
              "      <td>0.0</td>\n",
              "      <td>0.8</td>\n",
              "      <td>0.0</td>\n",
              "      <td>0.88</td>\n",
              "      <td>0.0</td>\n",
              "    </tr>\n",
              "    <tr>\n",
              "      <th>1</th>\n",
              "      <td>-0.33</td>\n",
              "      <td>0.94</td>\n",
              "      <td>1.0</td>\n",
              "      <td>0.0</td>\n",
              "      <td>1.0</td>\n",
              "      <td>0.0</td>\n",
              "      <td>0.8</td>\n",
              "      <td>1.0</td>\n",
              "      <td>0.31</td>\n",
              "      <td>1.0</td>\n",
              "    </tr>\n",
              "    <tr>\n",
              "      <th>2</th>\n",
              "      <td>-0.33</td>\n",
              "      <td>0.50</td>\n",
              "      <td>1.0</td>\n",
              "      <td>0.0</td>\n",
              "      <td>0.0</td>\n",
              "      <td>0.0</td>\n",
              "      <td>1.0</td>\n",
              "      <td>-1.0</td>\n",
              "      <td>0.50</td>\n",
              "      <td>0.0</td>\n",
              "    </tr>\n",
              "    <tr>\n",
              "      <th>3</th>\n",
              "      <td>-0.33</td>\n",
              "      <td>0.75</td>\n",
              "      <td>0.0</td>\n",
              "      <td>1.0</td>\n",
              "      <td>1.0</td>\n",
              "      <td>0.0</td>\n",
              "      <td>1.0</td>\n",
              "      <td>-1.0</td>\n",
              "      <td>0.38</td>\n",
              "      <td>0.0</td>\n",
              "    </tr>\n",
              "    <tr>\n",
              "      <th>4</th>\n",
              "      <td>-0.33</td>\n",
              "      <td>0.67</td>\n",
              "      <td>1.0</td>\n",
              "      <td>1.0</td>\n",
              "      <td>0.0</td>\n",
              "      <td>0.0</td>\n",
              "      <td>0.8</td>\n",
              "      <td>-1.0</td>\n",
              "      <td>0.50</td>\n",
              "      <td>1.0</td>\n",
              "    </tr>\n",
              "  </tbody>\n",
              "</table>\n",
              "</div>\n",
              "    <div class=\"colab-df-buttons\">\n",
              "\n",
              "  <div class=\"colab-df-container\">\n",
              "    <button class=\"colab-df-convert\" onclick=\"convertToInteractive('df-fe935bd9-b765-4e96-a096-1f6cf747b383')\"\n",
              "            title=\"Convert this dataframe to an interactive table.\"\n",
              "            style=\"display:none;\">\n",
              "\n",
              "  <svg xmlns=\"http://www.w3.org/2000/svg\" height=\"24px\" viewBox=\"0 -960 960 960\">\n",
              "    <path d=\"M120-120v-720h720v720H120Zm60-500h600v-160H180v160Zm220 220h160v-160H400v160Zm0 220h160v-160H400v160ZM180-400h160v-160H180v160Zm440 0h160v-160H620v160ZM180-180h160v-160H180v160Zm440 0h160v-160H620v160Z\"/>\n",
              "  </svg>\n",
              "    </button>\n",
              "\n",
              "  <style>\n",
              "    .colab-df-container {\n",
              "      display:flex;\n",
              "      gap: 12px;\n",
              "    }\n",
              "\n",
              "    .colab-df-convert {\n",
              "      background-color: #E8F0FE;\n",
              "      border: none;\n",
              "      border-radius: 50%;\n",
              "      cursor: pointer;\n",
              "      display: none;\n",
              "      fill: #1967D2;\n",
              "      height: 32px;\n",
              "      padding: 0 0 0 0;\n",
              "      width: 32px;\n",
              "    }\n",
              "\n",
              "    .colab-df-convert:hover {\n",
              "      background-color: #E2EBFA;\n",
              "      box-shadow: 0px 1px 2px rgba(60, 64, 67, 0.3), 0px 1px 3px 1px rgba(60, 64, 67, 0.15);\n",
              "      fill: #174EA6;\n",
              "    }\n",
              "\n",
              "    .colab-df-buttons div {\n",
              "      margin-bottom: 4px;\n",
              "    }\n",
              "\n",
              "    [theme=dark] .colab-df-convert {\n",
              "      background-color: #3B4455;\n",
              "      fill: #D2E3FC;\n",
              "    }\n",
              "\n",
              "    [theme=dark] .colab-df-convert:hover {\n",
              "      background-color: #434B5C;\n",
              "      box-shadow: 0px 1px 3px 1px rgba(0, 0, 0, 0.15);\n",
              "      filter: drop-shadow(0px 1px 2px rgba(0, 0, 0, 0.3));\n",
              "      fill: #FFFFFF;\n",
              "    }\n",
              "  </style>\n",
              "\n",
              "    <script>\n",
              "      const buttonEl =\n",
              "        document.querySelector('#df-fe935bd9-b765-4e96-a096-1f6cf747b383 button.colab-df-convert');\n",
              "      buttonEl.style.display =\n",
              "        google.colab.kernel.accessAllowed ? 'block' : 'none';\n",
              "\n",
              "      async function convertToInteractive(key) {\n",
              "        const element = document.querySelector('#df-fe935bd9-b765-4e96-a096-1f6cf747b383');\n",
              "        const dataTable =\n",
              "          await google.colab.kernel.invokeFunction('convertToInteractive',\n",
              "                                                    [key], {});\n",
              "        if (!dataTable) return;\n",
              "\n",
              "        const docLinkHtml = 'Like what you see? Visit the ' +\n",
              "          '<a target=\"_blank\" href=https://colab.research.google.com/notebooks/data_table.ipynb>data table notebook</a>'\n",
              "          + ' to learn more about interactive tables.';\n",
              "        element.innerHTML = '';\n",
              "        dataTable['output_type'] = 'display_data';\n",
              "        await google.colab.output.renderOutput(dataTable, element);\n",
              "        const docLink = document.createElement('div');\n",
              "        docLink.innerHTML = docLinkHtml;\n",
              "        element.appendChild(docLink);\n",
              "      }\n",
              "    </script>\n",
              "  </div>\n",
              "\n",
              "\n",
              "<div id=\"df-7160868a-69a8-47dd-9e43-83251da2b7aa\">\n",
              "  <button class=\"colab-df-quickchart\" onclick=\"quickchart('df-7160868a-69a8-47dd-9e43-83251da2b7aa')\"\n",
              "            title=\"Suggest charts\"\n",
              "            style=\"display:none;\">\n",
              "\n",
              "<svg xmlns=\"http://www.w3.org/2000/svg\" height=\"24px\"viewBox=\"0 0 24 24\"\n",
              "     width=\"24px\">\n",
              "    <g>\n",
              "        <path d=\"M19 3H5c-1.1 0-2 .9-2 2v14c0 1.1.9 2 2 2h14c1.1 0 2-.9 2-2V5c0-1.1-.9-2-2-2zM9 17H7v-7h2v7zm4 0h-2V7h2v10zm4 0h-2v-4h2v4z\"/>\n",
              "    </g>\n",
              "</svg>\n",
              "  </button>\n",
              "\n",
              "<style>\n",
              "  .colab-df-quickchart {\n",
              "      --bg-color: #E8F0FE;\n",
              "      --fill-color: #1967D2;\n",
              "      --hover-bg-color: #E2EBFA;\n",
              "      --hover-fill-color: #174EA6;\n",
              "      --disabled-fill-color: #AAA;\n",
              "      --disabled-bg-color: #DDD;\n",
              "  }\n",
              "\n",
              "  [theme=dark] .colab-df-quickchart {\n",
              "      --bg-color: #3B4455;\n",
              "      --fill-color: #D2E3FC;\n",
              "      --hover-bg-color: #434B5C;\n",
              "      --hover-fill-color: #FFFFFF;\n",
              "      --disabled-bg-color: #3B4455;\n",
              "      --disabled-fill-color: #666;\n",
              "  }\n",
              "\n",
              "  .colab-df-quickchart {\n",
              "    background-color: var(--bg-color);\n",
              "    border: none;\n",
              "    border-radius: 50%;\n",
              "    cursor: pointer;\n",
              "    display: none;\n",
              "    fill: var(--fill-color);\n",
              "    height: 32px;\n",
              "    padding: 0;\n",
              "    width: 32px;\n",
              "  }\n",
              "\n",
              "  .colab-df-quickchart:hover {\n",
              "    background-color: var(--hover-bg-color);\n",
              "    box-shadow: 0 1px 2px rgba(60, 64, 67, 0.3), 0 1px 3px 1px rgba(60, 64, 67, 0.15);\n",
              "    fill: var(--button-hover-fill-color);\n",
              "  }\n",
              "\n",
              "  .colab-df-quickchart-complete:disabled,\n",
              "  .colab-df-quickchart-complete:disabled:hover {\n",
              "    background-color: var(--disabled-bg-color);\n",
              "    fill: var(--disabled-fill-color);\n",
              "    box-shadow: none;\n",
              "  }\n",
              "\n",
              "  .colab-df-spinner {\n",
              "    border: 2px solid var(--fill-color);\n",
              "    border-color: transparent;\n",
              "    border-bottom-color: var(--fill-color);\n",
              "    animation:\n",
              "      spin 1s steps(1) infinite;\n",
              "  }\n",
              "\n",
              "  @keyframes spin {\n",
              "    0% {\n",
              "      border-color: transparent;\n",
              "      border-bottom-color: var(--fill-color);\n",
              "      border-left-color: var(--fill-color);\n",
              "    }\n",
              "    20% {\n",
              "      border-color: transparent;\n",
              "      border-left-color: var(--fill-color);\n",
              "      border-top-color: var(--fill-color);\n",
              "    }\n",
              "    30% {\n",
              "      border-color: transparent;\n",
              "      border-left-color: var(--fill-color);\n",
              "      border-top-color: var(--fill-color);\n",
              "      border-right-color: var(--fill-color);\n",
              "    }\n",
              "    40% {\n",
              "      border-color: transparent;\n",
              "      border-right-color: var(--fill-color);\n",
              "      border-top-color: var(--fill-color);\n",
              "    }\n",
              "    60% {\n",
              "      border-color: transparent;\n",
              "      border-right-color: var(--fill-color);\n",
              "    }\n",
              "    80% {\n",
              "      border-color: transparent;\n",
              "      border-right-color: var(--fill-color);\n",
              "      border-bottom-color: var(--fill-color);\n",
              "    }\n",
              "    90% {\n",
              "      border-color: transparent;\n",
              "      border-bottom-color: var(--fill-color);\n",
              "    }\n",
              "  }\n",
              "</style>\n",
              "\n",
              "  <script>\n",
              "    async function quickchart(key) {\n",
              "      const quickchartButtonEl =\n",
              "        document.querySelector('#' + key + ' button');\n",
              "      quickchartButtonEl.disabled = true;  // To prevent multiple clicks.\n",
              "      quickchartButtonEl.classList.add('colab-df-spinner');\n",
              "      try {\n",
              "        const charts = await google.colab.kernel.invokeFunction(\n",
              "            'suggestCharts', [key], {});\n",
              "      } catch (error) {\n",
              "        console.error('Error during call to suggestCharts:', error);\n",
              "      }\n",
              "      quickchartButtonEl.classList.remove('colab-df-spinner');\n",
              "      quickchartButtonEl.classList.add('colab-df-quickchart-complete');\n",
              "    }\n",
              "    (() => {\n",
              "      let quickchartButtonEl =\n",
              "        document.querySelector('#df-7160868a-69a8-47dd-9e43-83251da2b7aa button');\n",
              "      quickchartButtonEl.style.display =\n",
              "        google.colab.kernel.accessAllowed ? 'block' : 'none';\n",
              "    })();\n",
              "  </script>\n",
              "</div>\n",
              "\n",
              "    </div>\n",
              "  </div>\n"
            ]
          },
          "metadata": {},
          "execution_count": 3
        }
      ]
    },
    {
      "cell_type": "markdown",
      "source": [
        "**Create training and testing datasets.**"
      ],
      "metadata": {
        "id": "-M3D5t_14puQ"
      }
    },
    {
      "cell_type": "code",
      "source": [
        "input_features = fertility_data[:, :-1]\n",
        "true_output = fertility_data[:, -1]"
      ],
      "metadata": {
        "id": "EURQZA6L4yf7"
      },
      "execution_count": 4,
      "outputs": []
    },
    {
      "cell_type": "code",
      "source": [
        "X_train, X_test, y_train, y_test = train_test_split(input_features, true_output, test_size = 0.2, random_state = 42)"
      ],
      "metadata": {
        "id": "up-p9e8H4I8j"
      },
      "execution_count": 5,
      "outputs": []
    },
    {
      "cell_type": "code",
      "source": [],
      "metadata": {
        "id": "-fhkX9DQ5A85"
      },
      "execution_count": 5,
      "outputs": []
    },
    {
      "cell_type": "code",
      "execution_count": 6,
      "metadata": {
        "colab": {
          "base_uri": "https://localhost:8080/",
          "height": 242
        },
        "id": "cuJbZ8k4QttN",
        "outputId": "4cf1b423-c73e-4c17-a6d5-e0a108f9d649"
      },
      "outputs": [
        {
          "output_type": "stream",
          "name": "stdout",
          "text": [
            "Shape = (80, 9) \n",
            "\n"
          ]
        },
        {
          "output_type": "execute_result",
          "data": {
            "text/plain": [
              "      0     1    2    3    4    5    6    7     8\n",
              "0 -0.33  0.58  1.0  0.0  1.0  0.0  0.8  1.0  0.19\n",
              "1 -0.33  0.83  1.0  1.0  1.0  0.0  1.0 -1.0  0.31\n",
              "2  1.00  0.67  1.0  0.0  1.0  0.0  0.6 -1.0  0.38\n",
              "3 -1.00  0.58  1.0  0.0  1.0 -1.0  0.8  1.0  0.50\n",
              "4 -0.33  0.50  1.0  0.0  1.0 -1.0  0.8 -1.0  0.50"
            ],
            "text/html": [
              "\n",
              "  <div id=\"df-9ead9e55-ccb2-487d-b6fe-005c0fd5af0d\" class=\"colab-df-container\">\n",
              "    <div>\n",
              "<style scoped>\n",
              "    .dataframe tbody tr th:only-of-type {\n",
              "        vertical-align: middle;\n",
              "    }\n",
              "\n",
              "    .dataframe tbody tr th {\n",
              "        vertical-align: top;\n",
              "    }\n",
              "\n",
              "    .dataframe thead th {\n",
              "        text-align: right;\n",
              "    }\n",
              "</style>\n",
              "<table border=\"1\" class=\"dataframe\">\n",
              "  <thead>\n",
              "    <tr style=\"text-align: right;\">\n",
              "      <th></th>\n",
              "      <th>0</th>\n",
              "      <th>1</th>\n",
              "      <th>2</th>\n",
              "      <th>3</th>\n",
              "      <th>4</th>\n",
              "      <th>5</th>\n",
              "      <th>6</th>\n",
              "      <th>7</th>\n",
              "      <th>8</th>\n",
              "    </tr>\n",
              "  </thead>\n",
              "  <tbody>\n",
              "    <tr>\n",
              "      <th>0</th>\n",
              "      <td>-0.33</td>\n",
              "      <td>0.58</td>\n",
              "      <td>1.0</td>\n",
              "      <td>0.0</td>\n",
              "      <td>1.0</td>\n",
              "      <td>0.0</td>\n",
              "      <td>0.8</td>\n",
              "      <td>1.0</td>\n",
              "      <td>0.19</td>\n",
              "    </tr>\n",
              "    <tr>\n",
              "      <th>1</th>\n",
              "      <td>-0.33</td>\n",
              "      <td>0.83</td>\n",
              "      <td>1.0</td>\n",
              "      <td>1.0</td>\n",
              "      <td>1.0</td>\n",
              "      <td>0.0</td>\n",
              "      <td>1.0</td>\n",
              "      <td>-1.0</td>\n",
              "      <td>0.31</td>\n",
              "    </tr>\n",
              "    <tr>\n",
              "      <th>2</th>\n",
              "      <td>1.00</td>\n",
              "      <td>0.67</td>\n",
              "      <td>1.0</td>\n",
              "      <td>0.0</td>\n",
              "      <td>1.0</td>\n",
              "      <td>0.0</td>\n",
              "      <td>0.6</td>\n",
              "      <td>-1.0</td>\n",
              "      <td>0.38</td>\n",
              "    </tr>\n",
              "    <tr>\n",
              "      <th>3</th>\n",
              "      <td>-1.00</td>\n",
              "      <td>0.58</td>\n",
              "      <td>1.0</td>\n",
              "      <td>0.0</td>\n",
              "      <td>1.0</td>\n",
              "      <td>-1.0</td>\n",
              "      <td>0.8</td>\n",
              "      <td>1.0</td>\n",
              "      <td>0.50</td>\n",
              "    </tr>\n",
              "    <tr>\n",
              "      <th>4</th>\n",
              "      <td>-0.33</td>\n",
              "      <td>0.50</td>\n",
              "      <td>1.0</td>\n",
              "      <td>0.0</td>\n",
              "      <td>1.0</td>\n",
              "      <td>-1.0</td>\n",
              "      <td>0.8</td>\n",
              "      <td>-1.0</td>\n",
              "      <td>0.50</td>\n",
              "    </tr>\n",
              "  </tbody>\n",
              "</table>\n",
              "</div>\n",
              "    <div class=\"colab-df-buttons\">\n",
              "\n",
              "  <div class=\"colab-df-container\">\n",
              "    <button class=\"colab-df-convert\" onclick=\"convertToInteractive('df-9ead9e55-ccb2-487d-b6fe-005c0fd5af0d')\"\n",
              "            title=\"Convert this dataframe to an interactive table.\"\n",
              "            style=\"display:none;\">\n",
              "\n",
              "  <svg xmlns=\"http://www.w3.org/2000/svg\" height=\"24px\" viewBox=\"0 -960 960 960\">\n",
              "    <path d=\"M120-120v-720h720v720H120Zm60-500h600v-160H180v160Zm220 220h160v-160H400v160Zm0 220h160v-160H400v160ZM180-400h160v-160H180v160Zm440 0h160v-160H620v160ZM180-180h160v-160H180v160Zm440 0h160v-160H620v160Z\"/>\n",
              "  </svg>\n",
              "    </button>\n",
              "\n",
              "  <style>\n",
              "    .colab-df-container {\n",
              "      display:flex;\n",
              "      gap: 12px;\n",
              "    }\n",
              "\n",
              "    .colab-df-convert {\n",
              "      background-color: #E8F0FE;\n",
              "      border: none;\n",
              "      border-radius: 50%;\n",
              "      cursor: pointer;\n",
              "      display: none;\n",
              "      fill: #1967D2;\n",
              "      height: 32px;\n",
              "      padding: 0 0 0 0;\n",
              "      width: 32px;\n",
              "    }\n",
              "\n",
              "    .colab-df-convert:hover {\n",
              "      background-color: #E2EBFA;\n",
              "      box-shadow: 0px 1px 2px rgba(60, 64, 67, 0.3), 0px 1px 3px 1px rgba(60, 64, 67, 0.15);\n",
              "      fill: #174EA6;\n",
              "    }\n",
              "\n",
              "    .colab-df-buttons div {\n",
              "      margin-bottom: 4px;\n",
              "    }\n",
              "\n",
              "    [theme=dark] .colab-df-convert {\n",
              "      background-color: #3B4455;\n",
              "      fill: #D2E3FC;\n",
              "    }\n",
              "\n",
              "    [theme=dark] .colab-df-convert:hover {\n",
              "      background-color: #434B5C;\n",
              "      box-shadow: 0px 1px 3px 1px rgba(0, 0, 0, 0.15);\n",
              "      filter: drop-shadow(0px 1px 2px rgba(0, 0, 0, 0.3));\n",
              "      fill: #FFFFFF;\n",
              "    }\n",
              "  </style>\n",
              "\n",
              "    <script>\n",
              "      const buttonEl =\n",
              "        document.querySelector('#df-9ead9e55-ccb2-487d-b6fe-005c0fd5af0d button.colab-df-convert');\n",
              "      buttonEl.style.display =\n",
              "        google.colab.kernel.accessAllowed ? 'block' : 'none';\n",
              "\n",
              "      async function convertToInteractive(key) {\n",
              "        const element = document.querySelector('#df-9ead9e55-ccb2-487d-b6fe-005c0fd5af0d');\n",
              "        const dataTable =\n",
              "          await google.colab.kernel.invokeFunction('convertToInteractive',\n",
              "                                                    [key], {});\n",
              "        if (!dataTable) return;\n",
              "\n",
              "        const docLinkHtml = 'Like what you see? Visit the ' +\n",
              "          '<a target=\"_blank\" href=https://colab.research.google.com/notebooks/data_table.ipynb>data table notebook</a>'\n",
              "          + ' to learn more about interactive tables.';\n",
              "        element.innerHTML = '';\n",
              "        dataTable['output_type'] = 'display_data';\n",
              "        await google.colab.output.renderOutput(dataTable, element);\n",
              "        const docLink = document.createElement('div');\n",
              "        docLink.innerHTML = docLinkHtml;\n",
              "        element.appendChild(docLink);\n",
              "      }\n",
              "    </script>\n",
              "  </div>\n",
              "\n",
              "\n",
              "<div id=\"df-595b2a32-b967-4edc-b483-eea42347ce09\">\n",
              "  <button class=\"colab-df-quickchart\" onclick=\"quickchart('df-595b2a32-b967-4edc-b483-eea42347ce09')\"\n",
              "            title=\"Suggest charts\"\n",
              "            style=\"display:none;\">\n",
              "\n",
              "<svg xmlns=\"http://www.w3.org/2000/svg\" height=\"24px\"viewBox=\"0 0 24 24\"\n",
              "     width=\"24px\">\n",
              "    <g>\n",
              "        <path d=\"M19 3H5c-1.1 0-2 .9-2 2v14c0 1.1.9 2 2 2h14c1.1 0 2-.9 2-2V5c0-1.1-.9-2-2-2zM9 17H7v-7h2v7zm4 0h-2V7h2v10zm4 0h-2v-4h2v4z\"/>\n",
              "    </g>\n",
              "</svg>\n",
              "  </button>\n",
              "\n",
              "<style>\n",
              "  .colab-df-quickchart {\n",
              "      --bg-color: #E8F0FE;\n",
              "      --fill-color: #1967D2;\n",
              "      --hover-bg-color: #E2EBFA;\n",
              "      --hover-fill-color: #174EA6;\n",
              "      --disabled-fill-color: #AAA;\n",
              "      --disabled-bg-color: #DDD;\n",
              "  }\n",
              "\n",
              "  [theme=dark] .colab-df-quickchart {\n",
              "      --bg-color: #3B4455;\n",
              "      --fill-color: #D2E3FC;\n",
              "      --hover-bg-color: #434B5C;\n",
              "      --hover-fill-color: #FFFFFF;\n",
              "      --disabled-bg-color: #3B4455;\n",
              "      --disabled-fill-color: #666;\n",
              "  }\n",
              "\n",
              "  .colab-df-quickchart {\n",
              "    background-color: var(--bg-color);\n",
              "    border: none;\n",
              "    border-radius: 50%;\n",
              "    cursor: pointer;\n",
              "    display: none;\n",
              "    fill: var(--fill-color);\n",
              "    height: 32px;\n",
              "    padding: 0;\n",
              "    width: 32px;\n",
              "  }\n",
              "\n",
              "  .colab-df-quickchart:hover {\n",
              "    background-color: var(--hover-bg-color);\n",
              "    box-shadow: 0 1px 2px rgba(60, 64, 67, 0.3), 0 1px 3px 1px rgba(60, 64, 67, 0.15);\n",
              "    fill: var(--button-hover-fill-color);\n",
              "  }\n",
              "\n",
              "  .colab-df-quickchart-complete:disabled,\n",
              "  .colab-df-quickchart-complete:disabled:hover {\n",
              "    background-color: var(--disabled-bg-color);\n",
              "    fill: var(--disabled-fill-color);\n",
              "    box-shadow: none;\n",
              "  }\n",
              "\n",
              "  .colab-df-spinner {\n",
              "    border: 2px solid var(--fill-color);\n",
              "    border-color: transparent;\n",
              "    border-bottom-color: var(--fill-color);\n",
              "    animation:\n",
              "      spin 1s steps(1) infinite;\n",
              "  }\n",
              "\n",
              "  @keyframes spin {\n",
              "    0% {\n",
              "      border-color: transparent;\n",
              "      border-bottom-color: var(--fill-color);\n",
              "      border-left-color: var(--fill-color);\n",
              "    }\n",
              "    20% {\n",
              "      border-color: transparent;\n",
              "      border-left-color: var(--fill-color);\n",
              "      border-top-color: var(--fill-color);\n",
              "    }\n",
              "    30% {\n",
              "      border-color: transparent;\n",
              "      border-left-color: var(--fill-color);\n",
              "      border-top-color: var(--fill-color);\n",
              "      border-right-color: var(--fill-color);\n",
              "    }\n",
              "    40% {\n",
              "      border-color: transparent;\n",
              "      border-right-color: var(--fill-color);\n",
              "      border-top-color: var(--fill-color);\n",
              "    }\n",
              "    60% {\n",
              "      border-color: transparent;\n",
              "      border-right-color: var(--fill-color);\n",
              "    }\n",
              "    80% {\n",
              "      border-color: transparent;\n",
              "      border-right-color: var(--fill-color);\n",
              "      border-bottom-color: var(--fill-color);\n",
              "    }\n",
              "    90% {\n",
              "      border-color: transparent;\n",
              "      border-bottom-color: var(--fill-color);\n",
              "    }\n",
              "  }\n",
              "</style>\n",
              "\n",
              "  <script>\n",
              "    async function quickchart(key) {\n",
              "      const quickchartButtonEl =\n",
              "        document.querySelector('#' + key + ' button');\n",
              "      quickchartButtonEl.disabled = true;  // To prevent multiple clicks.\n",
              "      quickchartButtonEl.classList.add('colab-df-spinner');\n",
              "      try {\n",
              "        const charts = await google.colab.kernel.invokeFunction(\n",
              "            'suggestCharts', [key], {});\n",
              "      } catch (error) {\n",
              "        console.error('Error during call to suggestCharts:', error);\n",
              "      }\n",
              "      quickchartButtonEl.classList.remove('colab-df-spinner');\n",
              "      quickchartButtonEl.classList.add('colab-df-quickchart-complete');\n",
              "    }\n",
              "    (() => {\n",
              "      let quickchartButtonEl =\n",
              "        document.querySelector('#df-595b2a32-b967-4edc-b483-eea42347ce09 button');\n",
              "      quickchartButtonEl.style.display =\n",
              "        google.colab.kernel.accessAllowed ? 'block' : 'none';\n",
              "    })();\n",
              "  </script>\n",
              "</div>\n",
              "\n",
              "    </div>\n",
              "  </div>\n"
            ]
          },
          "metadata": {},
          "execution_count": 6
        }
      ],
      "source": [
        "print(f'Shape = {X_train.shape} \\n')\n",
        "pd.DataFrame(X_train).head()"
      ]
    },
    {
      "cell_type": "code",
      "execution_count": 7,
      "metadata": {
        "colab": {
          "base_uri": "https://localhost:8080/"
        },
        "id": "_XOYXZTaRAnX",
        "outputId": "3ca7c961-010b-4ecf-fbcc-69d52f0e2a6a"
      },
      "outputs": [
        {
          "output_type": "stream",
          "name": "stdout",
          "text": [
            "Shape = (80,) \n",
            "\n"
          ]
        },
        {
          "output_type": "execute_result",
          "data": {
            "text/plain": [
              "0    0.0\n",
              "1    0.0\n",
              "2    1.0\n",
              "3    0.0\n",
              "4    0.0\n",
              "Name: Output, dtype: float64"
            ]
          },
          "metadata": {},
          "execution_count": 7
        }
      ],
      "source": [
        "print(f'Shape = {y_train.shape} \\n')\n",
        "pd.Series(y_train, name = 'Output').head()"
      ]
    },
    {
      "cell_type": "code",
      "source": [
        "y_train = y_train.reshape(y_train.shape[0], 1)\n",
        "print(f'Shape = {y_train.shape} \\n')"
      ],
      "metadata": {
        "colab": {
          "base_uri": "https://localhost:8080/"
        },
        "id": "1yc88oZR5mt6",
        "outputId": "35c31f5e-36ab-410f-d276-35497b151bdd"
      },
      "execution_count": 8,
      "outputs": [
        {
          "output_type": "stream",
          "name": "stdout",
          "text": [
            "Shape = (80, 1) \n",
            "\n"
          ]
        }
      ]
    },
    {
      "cell_type": "code",
      "execution_count": 9,
      "metadata": {
        "colab": {
          "base_uri": "https://localhost:8080/",
          "height": 242
        },
        "outputId": "64825252-c8b9-4505-a213-c00314e7928e",
        "id": "oHhMoDBt5ppM"
      },
      "outputs": [
        {
          "output_type": "stream",
          "name": "stdout",
          "text": [
            "Shape = (20, 9) \n",
            "\n"
          ]
        },
        {
          "output_type": "execute_result",
          "data": {
            "text/plain": [
              "      0     1    2    3    4    5    6    7     8\n",
              "0 -0.33  0.86  1.0  1.0  1.0  1.0  1.0 -1.0  0.25\n",
              "1 -0.33  0.58  1.0  1.0  1.0 -1.0  0.8  0.0  0.19\n",
              "2 -0.33  0.50  1.0  1.0  0.0 -1.0  0.8  0.0  0.88\n",
              "3 -1.00  0.53  1.0  0.0  0.0  1.0  1.0  0.0  0.44\n",
              "4 -1.00  0.53  1.0  1.0  0.0  1.0  1.0  0.0  0.31"
            ],
            "text/html": [
              "\n",
              "  <div id=\"df-8ab269e8-dc37-4724-b847-0b52cb5e605a\" class=\"colab-df-container\">\n",
              "    <div>\n",
              "<style scoped>\n",
              "    .dataframe tbody tr th:only-of-type {\n",
              "        vertical-align: middle;\n",
              "    }\n",
              "\n",
              "    .dataframe tbody tr th {\n",
              "        vertical-align: top;\n",
              "    }\n",
              "\n",
              "    .dataframe thead th {\n",
              "        text-align: right;\n",
              "    }\n",
              "</style>\n",
              "<table border=\"1\" class=\"dataframe\">\n",
              "  <thead>\n",
              "    <tr style=\"text-align: right;\">\n",
              "      <th></th>\n",
              "      <th>0</th>\n",
              "      <th>1</th>\n",
              "      <th>2</th>\n",
              "      <th>3</th>\n",
              "      <th>4</th>\n",
              "      <th>5</th>\n",
              "      <th>6</th>\n",
              "      <th>7</th>\n",
              "      <th>8</th>\n",
              "    </tr>\n",
              "  </thead>\n",
              "  <tbody>\n",
              "    <tr>\n",
              "      <th>0</th>\n",
              "      <td>-0.33</td>\n",
              "      <td>0.86</td>\n",
              "      <td>1.0</td>\n",
              "      <td>1.0</td>\n",
              "      <td>1.0</td>\n",
              "      <td>1.0</td>\n",
              "      <td>1.0</td>\n",
              "      <td>-1.0</td>\n",
              "      <td>0.25</td>\n",
              "    </tr>\n",
              "    <tr>\n",
              "      <th>1</th>\n",
              "      <td>-0.33</td>\n",
              "      <td>0.58</td>\n",
              "      <td>1.0</td>\n",
              "      <td>1.0</td>\n",
              "      <td>1.0</td>\n",
              "      <td>-1.0</td>\n",
              "      <td>0.8</td>\n",
              "      <td>0.0</td>\n",
              "      <td>0.19</td>\n",
              "    </tr>\n",
              "    <tr>\n",
              "      <th>2</th>\n",
              "      <td>-0.33</td>\n",
              "      <td>0.50</td>\n",
              "      <td>1.0</td>\n",
              "      <td>1.0</td>\n",
              "      <td>0.0</td>\n",
              "      <td>-1.0</td>\n",
              "      <td>0.8</td>\n",
              "      <td>0.0</td>\n",
              "      <td>0.88</td>\n",
              "    </tr>\n",
              "    <tr>\n",
              "      <th>3</th>\n",
              "      <td>-1.00</td>\n",
              "      <td>0.53</td>\n",
              "      <td>1.0</td>\n",
              "      <td>0.0</td>\n",
              "      <td>0.0</td>\n",
              "      <td>1.0</td>\n",
              "      <td>1.0</td>\n",
              "      <td>0.0</td>\n",
              "      <td>0.44</td>\n",
              "    </tr>\n",
              "    <tr>\n",
              "      <th>4</th>\n",
              "      <td>-1.00</td>\n",
              "      <td>0.53</td>\n",
              "      <td>1.0</td>\n",
              "      <td>1.0</td>\n",
              "      <td>0.0</td>\n",
              "      <td>1.0</td>\n",
              "      <td>1.0</td>\n",
              "      <td>0.0</td>\n",
              "      <td>0.31</td>\n",
              "    </tr>\n",
              "  </tbody>\n",
              "</table>\n",
              "</div>\n",
              "    <div class=\"colab-df-buttons\">\n",
              "\n",
              "  <div class=\"colab-df-container\">\n",
              "    <button class=\"colab-df-convert\" onclick=\"convertToInteractive('df-8ab269e8-dc37-4724-b847-0b52cb5e605a')\"\n",
              "            title=\"Convert this dataframe to an interactive table.\"\n",
              "            style=\"display:none;\">\n",
              "\n",
              "  <svg xmlns=\"http://www.w3.org/2000/svg\" height=\"24px\" viewBox=\"0 -960 960 960\">\n",
              "    <path d=\"M120-120v-720h720v720H120Zm60-500h600v-160H180v160Zm220 220h160v-160H400v160Zm0 220h160v-160H400v160ZM180-400h160v-160H180v160Zm440 0h160v-160H620v160ZM180-180h160v-160H180v160Zm440 0h160v-160H620v160Z\"/>\n",
              "  </svg>\n",
              "    </button>\n",
              "\n",
              "  <style>\n",
              "    .colab-df-container {\n",
              "      display:flex;\n",
              "      gap: 12px;\n",
              "    }\n",
              "\n",
              "    .colab-df-convert {\n",
              "      background-color: #E8F0FE;\n",
              "      border: none;\n",
              "      border-radius: 50%;\n",
              "      cursor: pointer;\n",
              "      display: none;\n",
              "      fill: #1967D2;\n",
              "      height: 32px;\n",
              "      padding: 0 0 0 0;\n",
              "      width: 32px;\n",
              "    }\n",
              "\n",
              "    .colab-df-convert:hover {\n",
              "      background-color: #E2EBFA;\n",
              "      box-shadow: 0px 1px 2px rgba(60, 64, 67, 0.3), 0px 1px 3px 1px rgba(60, 64, 67, 0.15);\n",
              "      fill: #174EA6;\n",
              "    }\n",
              "\n",
              "    .colab-df-buttons div {\n",
              "      margin-bottom: 4px;\n",
              "    }\n",
              "\n",
              "    [theme=dark] .colab-df-convert {\n",
              "      background-color: #3B4455;\n",
              "      fill: #D2E3FC;\n",
              "    }\n",
              "\n",
              "    [theme=dark] .colab-df-convert:hover {\n",
              "      background-color: #434B5C;\n",
              "      box-shadow: 0px 1px 3px 1px rgba(0, 0, 0, 0.15);\n",
              "      filter: drop-shadow(0px 1px 2px rgba(0, 0, 0, 0.3));\n",
              "      fill: #FFFFFF;\n",
              "    }\n",
              "  </style>\n",
              "\n",
              "    <script>\n",
              "      const buttonEl =\n",
              "        document.querySelector('#df-8ab269e8-dc37-4724-b847-0b52cb5e605a button.colab-df-convert');\n",
              "      buttonEl.style.display =\n",
              "        google.colab.kernel.accessAllowed ? 'block' : 'none';\n",
              "\n",
              "      async function convertToInteractive(key) {\n",
              "        const element = document.querySelector('#df-8ab269e8-dc37-4724-b847-0b52cb5e605a');\n",
              "        const dataTable =\n",
              "          await google.colab.kernel.invokeFunction('convertToInteractive',\n",
              "                                                    [key], {});\n",
              "        if (!dataTable) return;\n",
              "\n",
              "        const docLinkHtml = 'Like what you see? Visit the ' +\n",
              "          '<a target=\"_blank\" href=https://colab.research.google.com/notebooks/data_table.ipynb>data table notebook</a>'\n",
              "          + ' to learn more about interactive tables.';\n",
              "        element.innerHTML = '';\n",
              "        dataTable['output_type'] = 'display_data';\n",
              "        await google.colab.output.renderOutput(dataTable, element);\n",
              "        const docLink = document.createElement('div');\n",
              "        docLink.innerHTML = docLinkHtml;\n",
              "        element.appendChild(docLink);\n",
              "      }\n",
              "    </script>\n",
              "  </div>\n",
              "\n",
              "\n",
              "<div id=\"df-d810a259-acae-489f-8221-807f2ddf9836\">\n",
              "  <button class=\"colab-df-quickchart\" onclick=\"quickchart('df-d810a259-acae-489f-8221-807f2ddf9836')\"\n",
              "            title=\"Suggest charts\"\n",
              "            style=\"display:none;\">\n",
              "\n",
              "<svg xmlns=\"http://www.w3.org/2000/svg\" height=\"24px\"viewBox=\"0 0 24 24\"\n",
              "     width=\"24px\">\n",
              "    <g>\n",
              "        <path d=\"M19 3H5c-1.1 0-2 .9-2 2v14c0 1.1.9 2 2 2h14c1.1 0 2-.9 2-2V5c0-1.1-.9-2-2-2zM9 17H7v-7h2v7zm4 0h-2V7h2v10zm4 0h-2v-4h2v4z\"/>\n",
              "    </g>\n",
              "</svg>\n",
              "  </button>\n",
              "\n",
              "<style>\n",
              "  .colab-df-quickchart {\n",
              "      --bg-color: #E8F0FE;\n",
              "      --fill-color: #1967D2;\n",
              "      --hover-bg-color: #E2EBFA;\n",
              "      --hover-fill-color: #174EA6;\n",
              "      --disabled-fill-color: #AAA;\n",
              "      --disabled-bg-color: #DDD;\n",
              "  }\n",
              "\n",
              "  [theme=dark] .colab-df-quickchart {\n",
              "      --bg-color: #3B4455;\n",
              "      --fill-color: #D2E3FC;\n",
              "      --hover-bg-color: #434B5C;\n",
              "      --hover-fill-color: #FFFFFF;\n",
              "      --disabled-bg-color: #3B4455;\n",
              "      --disabled-fill-color: #666;\n",
              "  }\n",
              "\n",
              "  .colab-df-quickchart {\n",
              "    background-color: var(--bg-color);\n",
              "    border: none;\n",
              "    border-radius: 50%;\n",
              "    cursor: pointer;\n",
              "    display: none;\n",
              "    fill: var(--fill-color);\n",
              "    height: 32px;\n",
              "    padding: 0;\n",
              "    width: 32px;\n",
              "  }\n",
              "\n",
              "  .colab-df-quickchart:hover {\n",
              "    background-color: var(--hover-bg-color);\n",
              "    box-shadow: 0 1px 2px rgba(60, 64, 67, 0.3), 0 1px 3px 1px rgba(60, 64, 67, 0.15);\n",
              "    fill: var(--button-hover-fill-color);\n",
              "  }\n",
              "\n",
              "  .colab-df-quickchart-complete:disabled,\n",
              "  .colab-df-quickchart-complete:disabled:hover {\n",
              "    background-color: var(--disabled-bg-color);\n",
              "    fill: var(--disabled-fill-color);\n",
              "    box-shadow: none;\n",
              "  }\n",
              "\n",
              "  .colab-df-spinner {\n",
              "    border: 2px solid var(--fill-color);\n",
              "    border-color: transparent;\n",
              "    border-bottom-color: var(--fill-color);\n",
              "    animation:\n",
              "      spin 1s steps(1) infinite;\n",
              "  }\n",
              "\n",
              "  @keyframes spin {\n",
              "    0% {\n",
              "      border-color: transparent;\n",
              "      border-bottom-color: var(--fill-color);\n",
              "      border-left-color: var(--fill-color);\n",
              "    }\n",
              "    20% {\n",
              "      border-color: transparent;\n",
              "      border-left-color: var(--fill-color);\n",
              "      border-top-color: var(--fill-color);\n",
              "    }\n",
              "    30% {\n",
              "      border-color: transparent;\n",
              "      border-left-color: var(--fill-color);\n",
              "      border-top-color: var(--fill-color);\n",
              "      border-right-color: var(--fill-color);\n",
              "    }\n",
              "    40% {\n",
              "      border-color: transparent;\n",
              "      border-right-color: var(--fill-color);\n",
              "      border-top-color: var(--fill-color);\n",
              "    }\n",
              "    60% {\n",
              "      border-color: transparent;\n",
              "      border-right-color: var(--fill-color);\n",
              "    }\n",
              "    80% {\n",
              "      border-color: transparent;\n",
              "      border-right-color: var(--fill-color);\n",
              "      border-bottom-color: var(--fill-color);\n",
              "    }\n",
              "    90% {\n",
              "      border-color: transparent;\n",
              "      border-bottom-color: var(--fill-color);\n",
              "    }\n",
              "  }\n",
              "</style>\n",
              "\n",
              "  <script>\n",
              "    async function quickchart(key) {\n",
              "      const quickchartButtonEl =\n",
              "        document.querySelector('#' + key + ' button');\n",
              "      quickchartButtonEl.disabled = true;  // To prevent multiple clicks.\n",
              "      quickchartButtonEl.classList.add('colab-df-spinner');\n",
              "      try {\n",
              "        const charts = await google.colab.kernel.invokeFunction(\n",
              "            'suggestCharts', [key], {});\n",
              "      } catch (error) {\n",
              "        console.error('Error during call to suggestCharts:', error);\n",
              "      }\n",
              "      quickchartButtonEl.classList.remove('colab-df-spinner');\n",
              "      quickchartButtonEl.classList.add('colab-df-quickchart-complete');\n",
              "    }\n",
              "    (() => {\n",
              "      let quickchartButtonEl =\n",
              "        document.querySelector('#df-d810a259-acae-489f-8221-807f2ddf9836 button');\n",
              "      quickchartButtonEl.style.display =\n",
              "        google.colab.kernel.accessAllowed ? 'block' : 'none';\n",
              "    })();\n",
              "  </script>\n",
              "</div>\n",
              "\n",
              "    </div>\n",
              "  </div>\n"
            ]
          },
          "metadata": {},
          "execution_count": 9
        }
      ],
      "source": [
        "print(f'Shape = {X_test.shape} \\n')\n",
        "pd.DataFrame(X_test).head()"
      ]
    },
    {
      "cell_type": "code",
      "execution_count": 10,
      "metadata": {
        "colab": {
          "base_uri": "https://localhost:8080/"
        },
        "outputId": "92ea1973-917f-4cc1-ee42-caa5ce533d95",
        "id": "kc-j60gi5ppN"
      },
      "outputs": [
        {
          "output_type": "stream",
          "name": "stdout",
          "text": [
            "Shape = (20,) \n",
            "\n"
          ]
        },
        {
          "output_type": "execute_result",
          "data": {
            "text/plain": [
              "0    0.0\n",
              "1    0.0\n",
              "2    1.0\n",
              "3    0.0\n",
              "4    0.0\n",
              "Name: Output, dtype: float64"
            ]
          },
          "metadata": {},
          "execution_count": 10
        }
      ],
      "source": [
        "print(f'Shape = {y_test.shape} \\n')\n",
        "pd.Series(y_test, name = 'Output').head()"
      ]
    },
    {
      "cell_type": "code",
      "source": [
        "y_test = y_test.reshape(y_test.shape[0], 1)\n",
        "print(f'Shape = {y_test.shape} \\n')"
      ],
      "metadata": {
        "colab": {
          "base_uri": "https://localhost:8080/"
        },
        "id": "sPlZOURPpgXU",
        "outputId": "5e934efc-7552-4ac3-9c26-987bfb70ded8"
      },
      "execution_count": 11,
      "outputs": [
        {
          "output_type": "stream",
          "name": "stdout",
          "text": [
            "Shape = (20, 1) \n",
            "\n"
          ]
        }
      ]
    },
    {
      "cell_type": "markdown",
      "source": [
        "# **Step3:** Define input layer size and output layer size. Set error tolerance value."
      ],
      "metadata": {
        "id": "tNlpvAmv5zsF"
      }
    },
    {
      "cell_type": "code",
      "source": [
        "input_size = X_train.shape[1]\n",
        "output_size = 1"
      ],
      "metadata": {
        "id": "HpiS7u1o5vjL"
      },
      "execution_count": 12,
      "outputs": []
    },
    {
      "cell_type": "code",
      "source": [
        "ERROR_TOLERANCE = 0.05"
      ],
      "metadata": {
        "id": "XjIrILgc6G8O"
      },
      "execution_count": 13,
      "outputs": []
    },
    {
      "cell_type": "code",
      "source": [
        "LEARNING_RATE = 0.001"
      ],
      "metadata": {
        "id": "-OfVQ8vU73Ak"
      },
      "execution_count": 14,
      "outputs": []
    },
    {
      "cell_type": "code",
      "source": [
        "# Lists to store training error\n",
        "training_error_list = []\n",
        "\n",
        "# Lists to store testing error\n",
        "testing_error_list = []"
      ],
      "metadata": {
        "id": "np8c0sCK6Kp3"
      },
      "execution_count": 15,
      "outputs": []
    },
    {
      "cell_type": "markdown",
      "source": [
        "# **Step4:** Define feedforward network for training data."
      ],
      "metadata": {
        "id": "8v1mVwXR6agw"
      }
    },
    {
      "cell_type": "code",
      "source": [
        "def sigmoid(x):\n",
        "    return 1 / (1 + np.exp(-x))"
      ],
      "metadata": {
        "id": "gXxL18JgK0o3"
      },
      "execution_count": 16,
      "outputs": []
    },
    {
      "cell_type": "code",
      "source": [
        "def feedforward(input_data, weights_first_layer, weights_second_layer):\n",
        "  output_first_layer = tf.sigmoid(tf.matmul(tf.transpose(input_data.reshape(-1, 1)), weights_first_layer))     # Can use np.dot or tf.matmul\n",
        "  output_second_layer = tf.sigmoid(tf.matmul(output_first_layer, weights_second_layer))\n",
        "  return output_first_layer, output_second_layer"
      ],
      "metadata": {
        "id": "LJEchhmA6Wt3"
      },
      "execution_count": 17,
      "outputs": []
    },
    {
      "cell_type": "code",
      "source": [
        "def feedforward_np(input_data, weights_first_layer, weights_second_layer):\n",
        "  output_first_layer = sigmoid(np.dot(input_data.T, weights_first_layer))     # Can use np.dot or tf.matmul\n",
        "  output_second_layer = sigmoid(np.dot(output_first_layer, weights_second_layer))\n",
        "  return output_first_layer, output_second_layer"
      ],
      "metadata": {
        "id": "VTSs9AekILV1"
      },
      "execution_count": 18,
      "outputs": []
    },
    {
      "cell_type": "markdown",
      "source": [
        "# **Step5:** Perform backpropagation."
      ],
      "metadata": {
        "id": "FenkzYxq7fId"
      }
    },
    {
      "cell_type": "code",
      "source": [
        "def cost_function(true_output, layer2_output):\n",
        "  return true_output.reshape(-1, 1) - layer2_output"
      ],
      "metadata": {
        "id": "h3QopZgKiUsc"
      },
      "execution_count": 19,
      "outputs": []
    },
    {
      "cell_type": "code",
      "source": [
        "def sigmoid_derivative(x):\n",
        "  return x * (1 - x)"
      ],
      "metadata": {
        "id": "6uLlPqWZjaXd"
      },
      "execution_count": 20,
      "outputs": []
    },
    {
      "cell_type": "code",
      "source": [
        "def backpropogate(input, true_output, layer1_output, layer2_output, weights_layer1, weights_layer2):\n",
        "  layer_2_error = cost_function(true_output, layer2_output)\n",
        "  layer_2_delta = layer_2_error * sigmoid_derivative(layer2_output)\n",
        "  weights_layer2 += LEARNING_RATE * tf.matmul(tf.reshape(layer1_output, shape = [layer1_output.shape[0], 1]), layer_2_delta)\n",
        "\n",
        "  layer_1_error = tf.matmul(layer_2_delta, tf.transpose(weights_layer2))\n",
        "  layer_1_delta = layer_1_error * sigmoid_derivative(layer1_output)\n",
        "  weights_layer1 += LEARNING_RATE * tf.matmul(input.reshape(-1, 1), layer_1_delta)\n",
        "\n",
        "  return weights_layer1, weights_layer2"
      ],
      "metadata": {
        "id": "kLAdGSiq7W8h"
      },
      "execution_count": 21,
      "outputs": []
    },
    {
      "cell_type": "code",
      "source": [
        "def backpropogate_np(input, true_output, layer1_output, layer2_output, weights_layer1, weights_layer2):\n",
        "  layer_2_error = cost_function(true_output, layer2_output)\n",
        "  layer_2_delta = layer_2_error * sigmoid_derivative(layer2_output)\n",
        "  weights_layer2 += LEARNING_RATE * np.dot(layer1_output.reshape(layer1_output.shape[0], 1), layer_2_delta)\n",
        "\n",
        "  layer_1_error = np.dot(layer_2_delta, weights_layer2.T)\n",
        "  layer_1_delta = layer_1_error * sigmoid_derivative(layer1_output)\n",
        "  weights_layer1 += LEARNING_RATE * np.dot(input, layer_1_delta)\n",
        "\n",
        "  return weights_layer1, weights_layer2"
      ],
      "metadata": {
        "id": "64gh7uhEIo8F"
      },
      "execution_count": 22,
      "outputs": []
    },
    {
      "cell_type": "markdown",
      "source": [
        "# **Step6:** Check the convergence and print the debug data for number of epochs ranging from 1 to 1000001."
      ],
      "metadata": {
        "id": "lZMUqqnKi6JX"
      }
    },
    {
      "cell_type": "code",
      "source": [
        "MAX_EPOCH = 1000001"
      ],
      "metadata": {
        "id": "5qPTkFY5kJKM"
      },
      "execution_count": 23,
      "outputs": []
    },
    {
      "cell_type": "code",
      "source": [
        "def fit_mlp(X_train, y_train, weights_layer1, weights_layer2):\n",
        "  current_error = 0\n",
        "  flag = 0\n",
        "\n",
        "  alive_cnt = 0\n",
        "\n",
        "  for epoch in range(1, MAX_EPOCH + 1):\n",
        "    all_layer2_output = []\n",
        "    for idx, input in enumerate(X_train):\n",
        "\n",
        "      input = input.reshape(-1, 1)\n",
        "\n",
        "      # Feedforward\n",
        "      #layer1_output, layer2_output = feedforward(input, weights_layer1, weights_layer2)\n",
        "      layer1_output, layer2_output = feedforward_np(input, weights_layer1, weights_layer2)\n",
        "\n",
        "\n",
        "      # Backpropagation\n",
        "      true_output = y_train[idx]\n",
        "      #weights_layer1, weights_layer2 = backpropogate(input, true_output, layer1_output, layer2_output, weights_layer1, weights_layer2)\n",
        "      weights_layer1, weights_layer2 = backpropogate_np(input, true_output, layer1_output, layer2_output, weights_layer1, weights_layer2)\n",
        "\n",
        "\n",
        "      all_layer2_output.append(layer2_output)\n",
        "\n",
        "    # Progress update\n",
        "    '''if epoch % 1000 == 0:\n",
        "      print(f'Alive {alive_cnt} - Epoch:{epoch}')\n",
        "      alive_cnt += 1'''\n",
        "\n",
        "    # Check convergence\n",
        "    if epoch % 100000 == 0:\n",
        "        current_mse = mean_squared_error(y_train, np.array(all_layer2_output).reshape(-1, 1))\n",
        "        print(f'Epoch {epoch}: MSE = {current_mse}')\n",
        "        if current_mse < ERROR_TOLERANCE:\n",
        "          flag = 1\n",
        "          print(f'Model converged at Epoch {epoch} with MSE = {current_mse}')\n",
        "          break\n",
        "\n",
        "  if flag == 0:\n",
        "    print('Model did not converge.')\n",
        "\n",
        "  return current_error\n",
        "\n"
      ],
      "metadata": {
        "id": "u7jkV14e8s75"
      },
      "execution_count": 24,
      "outputs": []
    },
    {
      "cell_type": "code",
      "source": [
        "def fit_mlp_np(X_train, y_train, weights_layer1, weights_layer2):\n",
        "  current_error = 0\n",
        "  flag = 0\n",
        "\n",
        "  alive_cnt = 0\n",
        "\n",
        "  for epoch in range(1, MAX_EPOCH + 1):\n",
        "    #all_layer2_output = []\n",
        "    input = input.reshape(-1, 1)\n",
        "\n",
        "    # Feedforward\n",
        "    #layer1_output, layer2_output = feedforward(input, weights_layer1, weights_layer2)\n",
        "    layer1_output, layer2_output = feedforward_np(input, weights_layer1, weights_layer2)\n",
        "\n",
        "\n",
        "    # Backpropagation\n",
        "    #true_output = y_train[idx]\n",
        "    #weights_layer1, weights_layer2 = backpropogate(input, true_output, layer1_output, layer2_output, weights_layer1, weights_layer2)\n",
        "    weights_layer1, weights_layer2 = backpropogate_np(input, y_train, layer1_output, layer2_output, weights_layer1, weights_layer2)\n",
        "\n",
        "\n",
        "    #all_layer2_output.append(layer2_output)\n",
        "\n",
        "    # Progress update\n",
        "    '''if epoch % 1000 == 0:\n",
        "      print(f'Alive {alive_cnt} - Epoch:{epoch}')\n",
        "      alive_cnt += 1'''\n",
        "\n",
        "    # Check convergence\n",
        "    if epoch % 100000 == 0:\n",
        "        current_mse = mean_squared_error(y_train, layer2_output).reshape(-1, 1)\n",
        "        print(f'Epoch {epoch}: MSE = {current_mse}')\n",
        "        if current_mse < ERROR_TOLERANCE:\n",
        "          flag = 1\n",
        "          print(f'Model converged at Epoch {epoch} with MSE = {current_mse}')\n",
        "          break\n",
        "\n",
        "  if flag == 0:\n",
        "    print('Model did not converge.')\n",
        "\n",
        "  return current_error\n",
        "\n"
      ],
      "metadata": {
        "id": "_NJXuLjcMNv4"
      },
      "execution_count": 25,
      "outputs": []
    },
    {
      "cell_type": "markdown",
      "source": [
        "# **Step7:** Evaluate the training results."
      ],
      "metadata": {
        "id": "t9c1rn1zmgqx"
      }
    },
    {
      "cell_type": "code",
      "source": [
        "training_errors = []\n",
        "\n",
        "for hidden_layer_size in range(1, 10):\n",
        "    print(f'Training with {hidden_layer_size} neuron(s) in the hidden layer\\n')\n",
        "\n",
        "    np.random.seed(0)\n",
        "    initial_weights_layer1 = 2 * np.random.random((input_size, hidden_layer_size)) - 1\n",
        "    initial_weights_layer2 = 2 * np.random.random((hidden_layer_size, output_size)) - 1\n",
        "\n",
        "    training_error = fit_mlp(X_train, y_train, initial_weights_layer1, initial_weights_layer2)\n",
        "    print(f'Training Mean Squared Error (hidden_layer_size = {hidden_layer_size}): {training_error}')\n",
        "    training_errors.append(training_error)"
      ],
      "metadata": {
        "colab": {
          "base_uri": "https://localhost:8080/"
        },
        "id": "D9HW1NpijQkf",
        "outputId": "818e6490-10fa-46e4-c6fc-93acd38cf337"
      },
      "execution_count": null,
      "outputs": [
        {
          "output_type": "stream",
          "name": "stdout",
          "text": [
            "Training with 1 neuron(s) in the hidden layer\n",
            "\n",
            "Alive 0 - Epoch:1000\n",
            "Alive 1 - Epoch:2000\n",
            "Alive 2 - Epoch:3000\n",
            "Alive 3 - Epoch:4000\n",
            "Alive 4 - Epoch:5000\n",
            "Alive 5 - Epoch:6000\n",
            "Alive 6 - Epoch:7000\n"
          ]
        }
      ]
    },
    {
      "cell_type": "code",
      "source": [
        "training_errors = []\n",
        "\n",
        "for hidden_layer_size in range(1, 10):\n",
        "    print(f'Training with {hidden_layer_size} neuron(s) in the hidden layer\\n')\n",
        "\n",
        "    np.random.seed(0)\n",
        "    initial_weights_layer1 = 2 * np.random.random((input_size, hidden_layer_size)) - 1\n",
        "    initial_weights_layer2 = 2 * np.random.random((hidden_layer_size, output_size)) - 1\n",
        "\n",
        "    training_error = fit_mlp(X_train, y_train, initial_weights_layer1, initial_weights_layer2)\n",
        "    print(f'Training Mean Squared Error (hidden_layer_size = {hidden_layer_size}): {training_error}')\n",
        "    training_errors.append(training_error)"
      ],
      "metadata": {
        "colab": {
          "base_uri": "https://localhost:8080/",
          "height": 916
        },
        "outputId": "818e6490-10fa-46e4-c6fc-93acd38cf337",
        "id": "v1UkU5rwR1KC"
      },
      "execution_count": null,
      "outputs": [
        {
          "output_type": "stream",
          "name": "stdout",
          "text": [
            "Training with 1 neuron(s) in the hidden layer\n",
            "\n",
            "Alive 0 - Epoch:1000\n",
            "Alive 1 - Epoch:2000\n",
            "Alive 2 - Epoch:3000\n",
            "Alive 3 - Epoch:4000\n",
            "Alive 4 - Epoch:5000\n",
            "Alive 5 - Epoch:6000\n",
            "Alive 6 - Epoch:7000\n",
            "Alive 7 - Epoch:8000\n",
            "Alive 8 - Epoch:9000\n",
            "Alive 9 - Epoch:10000\n",
            "Alive 10 - Epoch:11000\n",
            "Alive 11 - Epoch:12000\n",
            "Alive 12 - Epoch:13000\n",
            "Alive 13 - Epoch:14000\n",
            "Alive 14 - Epoch:15000\n",
            "Alive 15 - Epoch:16000\n",
            "Alive 16 - Epoch:17000\n",
            "Alive 17 - Epoch:18000\n",
            "Alive 18 - Epoch:19000\n",
            "Alive 19 - Epoch:20000\n",
            "Alive 20 - Epoch:21000\n",
            "Alive 21 - Epoch:22000\n",
            "Alive 22 - Epoch:23000\n",
            "Alive 23 - Epoch:24000\n",
            "Alive 24 - Epoch:25000\n",
            "Alive 25 - Epoch:26000\n"
          ]
        },
        {
          "output_type": "error",
          "ename": "KeyboardInterrupt",
          "evalue": "ignored",
          "traceback": [
            "\u001b[0;31m---------------------------------------------------------------------------\u001b[0m",
            "\u001b[0;31mKeyboardInterrupt\u001b[0m                         Traceback (most recent call last)",
            "\u001b[0;32m<ipython-input-22-297b5a150252>\u001b[0m in \u001b[0;36m<cell line: 3>\u001b[0;34m()\u001b[0m\n\u001b[1;32m      8\u001b[0m     \u001b[0minitial_weights_layer2\u001b[0m \u001b[0;34m=\u001b[0m \u001b[0;36m2\u001b[0m \u001b[0;34m*\u001b[0m \u001b[0mnp\u001b[0m\u001b[0;34m.\u001b[0m\u001b[0mrandom\u001b[0m\u001b[0;34m.\u001b[0m\u001b[0mrandom\u001b[0m\u001b[0;34m(\u001b[0m\u001b[0;34m(\u001b[0m\u001b[0mhidden_layer_size\u001b[0m\u001b[0;34m,\u001b[0m \u001b[0moutput_size\u001b[0m\u001b[0;34m)\u001b[0m\u001b[0;34m)\u001b[0m \u001b[0;34m-\u001b[0m \u001b[0;36m1\u001b[0m\u001b[0;34m\u001b[0m\u001b[0;34m\u001b[0m\u001b[0m\n\u001b[1;32m      9\u001b[0m \u001b[0;34m\u001b[0m\u001b[0m\n\u001b[0;32m---> 10\u001b[0;31m     \u001b[0mtraining_error\u001b[0m \u001b[0;34m=\u001b[0m \u001b[0mfit_mlp\u001b[0m\u001b[0;34m(\u001b[0m\u001b[0mX_train\u001b[0m\u001b[0;34m,\u001b[0m \u001b[0my_train\u001b[0m\u001b[0;34m,\u001b[0m \u001b[0minitial_weights_layer1\u001b[0m\u001b[0;34m,\u001b[0m \u001b[0minitial_weights_layer2\u001b[0m\u001b[0;34m)\u001b[0m\u001b[0;34m\u001b[0m\u001b[0;34m\u001b[0m\u001b[0m\n\u001b[0m\u001b[1;32m     11\u001b[0m     \u001b[0mprint\u001b[0m\u001b[0;34m(\u001b[0m\u001b[0;34mf'Training Mean Squared Error (hidden_layer_size = {hidden_layer_size}): {training_error}'\u001b[0m\u001b[0;34m)\u001b[0m\u001b[0;34m\u001b[0m\u001b[0;34m\u001b[0m\u001b[0m\n\u001b[1;32m     12\u001b[0m     \u001b[0mtraining_errors\u001b[0m\u001b[0;34m.\u001b[0m\u001b[0mappend\u001b[0m\u001b[0;34m(\u001b[0m\u001b[0mtraining_error\u001b[0m\u001b[0;34m)\u001b[0m\u001b[0;34m\u001b[0m\u001b[0;34m\u001b[0m\u001b[0m\n",
            "\u001b[0;32m<ipython-input-21-ffcd9cf28852>\u001b[0m in \u001b[0;36mfit_mlp\u001b[0;34m(X_train, y_train, weights_layer1, weights_layer2)\u001b[0m\n\u001b[1;32m     10\u001b[0m \u001b[0;34m\u001b[0m\u001b[0m\n\u001b[1;32m     11\u001b[0m       \u001b[0;31m# Feedforward\u001b[0m\u001b[0;34m\u001b[0m\u001b[0;34m\u001b[0m\u001b[0m\n\u001b[0;32m---> 12\u001b[0;31m       \u001b[0mlayer1_output\u001b[0m\u001b[0;34m,\u001b[0m \u001b[0mlayer2_output\u001b[0m \u001b[0;34m=\u001b[0m \u001b[0mfeedforward\u001b[0m\u001b[0;34m(\u001b[0m\u001b[0minput\u001b[0m\u001b[0;34m,\u001b[0m \u001b[0mweights_layer1\u001b[0m\u001b[0;34m,\u001b[0m \u001b[0mweights_layer2\u001b[0m\u001b[0;34m)\u001b[0m\u001b[0;34m\u001b[0m\u001b[0;34m\u001b[0m\u001b[0m\n\u001b[0m\u001b[1;32m     13\u001b[0m \u001b[0;34m\u001b[0m\u001b[0m\n\u001b[1;32m     14\u001b[0m       \u001b[0;31m# Backpropagation\u001b[0m\u001b[0;34m\u001b[0m\u001b[0;34m\u001b[0m\u001b[0m\n",
            "\u001b[0;32m<ipython-input-16-031ed581253d>\u001b[0m in \u001b[0;36mfeedforward\u001b[0;34m(input_data, weights_first_layer, weights_second_layer)\u001b[0m\n\u001b[1;32m      1\u001b[0m \u001b[0;32mdef\u001b[0m \u001b[0mfeedforward\u001b[0m\u001b[0;34m(\u001b[0m\u001b[0minput_data\u001b[0m\u001b[0;34m,\u001b[0m \u001b[0mweights_first_layer\u001b[0m\u001b[0;34m,\u001b[0m \u001b[0mweights_second_layer\u001b[0m\u001b[0;34m)\u001b[0m\u001b[0;34m:\u001b[0m\u001b[0;34m\u001b[0m\u001b[0;34m\u001b[0m\u001b[0m\n\u001b[1;32m      2\u001b[0m   \u001b[0moutput_first_layer\u001b[0m \u001b[0;34m=\u001b[0m \u001b[0mtf\u001b[0m\u001b[0;34m.\u001b[0m\u001b[0msigmoid\u001b[0m\u001b[0;34m(\u001b[0m\u001b[0mtf\u001b[0m\u001b[0;34m.\u001b[0m\u001b[0mmatmul\u001b[0m\u001b[0;34m(\u001b[0m\u001b[0mtf\u001b[0m\u001b[0;34m.\u001b[0m\u001b[0mtranspose\u001b[0m\u001b[0;34m(\u001b[0m\u001b[0minput_data\u001b[0m\u001b[0;34m.\u001b[0m\u001b[0mreshape\u001b[0m\u001b[0;34m(\u001b[0m\u001b[0;34m-\u001b[0m\u001b[0;36m1\u001b[0m\u001b[0;34m,\u001b[0m \u001b[0;36m1\u001b[0m\u001b[0;34m)\u001b[0m\u001b[0;34m)\u001b[0m\u001b[0;34m,\u001b[0m \u001b[0mweights_first_layer\u001b[0m\u001b[0;34m)\u001b[0m\u001b[0;34m)\u001b[0m     \u001b[0;31m# Can use np.dot or tf.matmul\u001b[0m\u001b[0;34m\u001b[0m\u001b[0;34m\u001b[0m\u001b[0m\n\u001b[0;32m----> 3\u001b[0;31m   \u001b[0moutput_second_layer\u001b[0m \u001b[0;34m=\u001b[0m \u001b[0mtf\u001b[0m\u001b[0;34m.\u001b[0m\u001b[0msigmoid\u001b[0m\u001b[0;34m(\u001b[0m\u001b[0mtf\u001b[0m\u001b[0;34m.\u001b[0m\u001b[0mmatmul\u001b[0m\u001b[0;34m(\u001b[0m\u001b[0moutput_first_layer\u001b[0m\u001b[0;34m,\u001b[0m \u001b[0mweights_second_layer\u001b[0m\u001b[0;34m)\u001b[0m\u001b[0;34m)\u001b[0m\u001b[0;34m\u001b[0m\u001b[0;34m\u001b[0m\u001b[0m\n\u001b[0m\u001b[1;32m      4\u001b[0m   \u001b[0;32mreturn\u001b[0m \u001b[0moutput_first_layer\u001b[0m\u001b[0;34m,\u001b[0m \u001b[0moutput_second_layer\u001b[0m\u001b[0;34m\u001b[0m\u001b[0;34m\u001b[0m\u001b[0m\n",
            "\u001b[0;32m/usr/local/lib/python3.10/dist-packages/tensorflow/python/ops/weak_tensor_ops.py\u001b[0m in \u001b[0;36mwrapper\u001b[0;34m(*args, **kwargs)\u001b[0m\n\u001b[1;32m     85\u001b[0m \u001b[0;34m\u001b[0m\u001b[0m\n\u001b[1;32m     86\u001b[0m   \u001b[0;32mdef\u001b[0m \u001b[0mwrapper\u001b[0m\u001b[0;34m(\u001b[0m\u001b[0;34m*\u001b[0m\u001b[0margs\u001b[0m\u001b[0;34m,\u001b[0m \u001b[0;34m**\u001b[0m\u001b[0mkwargs\u001b[0m\u001b[0;34m)\u001b[0m\u001b[0;34m:\u001b[0m\u001b[0;34m\u001b[0m\u001b[0;34m\u001b[0m\u001b[0m\n\u001b[0;32m---> 87\u001b[0;31m     \u001b[0;32mif\u001b[0m \u001b[0;32mnot\u001b[0m \u001b[0mops\u001b[0m\u001b[0;34m.\u001b[0m\u001b[0mis_auto_dtype_conversion_enabled\u001b[0m\u001b[0;34m(\u001b[0m\u001b[0;34m)\u001b[0m\u001b[0;34m:\u001b[0m\u001b[0;34m\u001b[0m\u001b[0;34m\u001b[0m\u001b[0m\n\u001b[0m\u001b[1;32m     88\u001b[0m       \u001b[0;32mreturn\u001b[0m \u001b[0mop\u001b[0m\u001b[0;34m(\u001b[0m\u001b[0;34m*\u001b[0m\u001b[0margs\u001b[0m\u001b[0;34m,\u001b[0m \u001b[0;34m**\u001b[0m\u001b[0mkwargs\u001b[0m\u001b[0;34m)\u001b[0m\u001b[0;34m\u001b[0m\u001b[0;34m\u001b[0m\u001b[0m\n\u001b[1;32m     89\u001b[0m     \u001b[0mbound_arguments\u001b[0m \u001b[0;34m=\u001b[0m \u001b[0msignature\u001b[0m\u001b[0;34m.\u001b[0m\u001b[0mbind\u001b[0m\u001b[0;34m(\u001b[0m\u001b[0;34m*\u001b[0m\u001b[0margs\u001b[0m\u001b[0;34m,\u001b[0m \u001b[0;34m**\u001b[0m\u001b[0mkwargs\u001b[0m\u001b[0;34m)\u001b[0m\u001b[0;34m\u001b[0m\u001b[0;34m\u001b[0m\u001b[0m\n",
            "\u001b[0;31mKeyboardInterrupt\u001b[0m: "
          ]
        }
      ]
    },
    {
      "cell_type": "code",
      "source": [
        "training_errors = []\n",
        "\n",
        "for hidden_layer_size in range(1, 10):\n",
        "    print(f'Training with {hidden_layer_size} neuron(s) in the hidden layer\\n')\n",
        "\n",
        "    np.random.seed(0)\n",
        "    initial_weights_layer1 = 2 * np.random.random((input_size, hidden_layer_size)) - 1\n",
        "    initial_weights_layer2 = 2 * np.random.random((hidden_layer_size, output_size)) - 1\n",
        "\n",
        "    training_error = fit_mlp(X_train, y_train, initial_weights_layer1, initial_weights_layer2)\n",
        "    print(f'Training Mean Squared Error (hidden_layer_size = {hidden_layer_size}): {training_error}')\n",
        "    training_errors.append(training_error)"
      ],
      "metadata": {
        "colab": {
          "base_uri": "https://localhost:8080/"
        },
        "id": "yQGbbhN0J7Xc",
        "outputId": "c22d1d3b-053f-4113-eb84-002a939e126a"
      },
      "execution_count": null,
      "outputs": [
        {
          "output_type": "stream",
          "name": "stdout",
          "text": [
            "Training with 1 neuron(s) in the hidden layer\n",
            "\n",
            "Epoch 100000: MSE = 0.0789841077883142\n",
            "Epoch 200000: MSE = 0.07611599902984909\n",
            "Epoch 300000: MSE = 0.07443080138392397\n",
            "Epoch 400000: MSE = 0.0732560827412726\n"
          ]
        }
      ]
    },
    {
      "cell_type": "code",
      "source": [
        "# Sequential Code\n",
        "import time\n",
        "\n",
        "training_errors = []\n",
        "testing_errors = []\n",
        "\n",
        "start_time = time.perf_counter()\n",
        "\n",
        "for hidden_layer_size in range(1, 10):\n",
        "    print(f'Training with {hidden_layer_size} neuron(s) in the hidden layer\\n')\n",
        "\n",
        "    np.random.seed(0)\n",
        "    weights_layer1 = 2 * np.random.random((input_size, hidden_layer_size)) - 1\n",
        "    weights_layer2 = 2 * np.random.random((hidden_layer_size, output_size)) - 1\n",
        "\n",
        "\n",
        "    current_error = 0\n",
        "    flag = 0\n",
        "\n",
        "    alive_cnt = 0\n",
        "\n",
        "    for epoch in range(1, MAX_EPOCH + 1):\n",
        "      input = X_train\n",
        "\n",
        "      # Feedforward\n",
        "      layer1_output = sigmoid(np.dot(input, weights_layer1))     # Can use np.dot or tf.matmul\n",
        "      layer2_output = sigmoid(np.dot(layer1_output, weights_layer2))\n",
        "\n",
        "\n",
        "      # Backpropagation\n",
        "      layer_2_error = cost_function(y_train, layer2_output)\n",
        "      layer_2_delta = layer_2_error * sigmoid_derivative(layer2_output)\n",
        "      weights_layer2 += LEARNING_RATE * np.dot(layer1_output.T, layer_2_delta)\n",
        "\n",
        "      layer_1_error = np.dot(layer_2_delta, weights_layer2.T)\n",
        "      layer_1_delta = layer_1_error * sigmoid_derivative(layer1_output)\n",
        "      weights_layer1 += LEARNING_RATE * np.dot(input.T, layer_1_delta)\n",
        "\n",
        "\n",
        "      # Check convergence\n",
        "      if epoch % 100000 == 0:\n",
        "          current_mse = mean_squared_error(y_train, layer2_output).reshape(-1, 1)\n",
        "          print(f'Epoch {epoch}: MSE = {current_mse}')\n",
        "          if current_mse < ERROR_TOLERANCE:\n",
        "            flag = 1\n",
        "            print(f'Model converged at Epoch {epoch} with MSE = {current_mse}\\n')\n",
        "            break\n",
        "\n",
        "    if flag == 0:\n",
        "      print('Model did not converge.\\n')\n",
        "\n",
        "\n",
        "    training_input = X_train\n",
        "    training_layer_1_output = sigmoid(np.dot(training_input, weights_layer1))\n",
        "    training_layer_2_output = sigmoid(np.dot(training_layer_1_output, weights_layer2))\n",
        "\n",
        "    training_error = mean_squared_error(y_train, training_layer_2_output).reshape(-1, 1)\n",
        "    print(f'Training Mean Squared Error (hidden_layer_size = {hidden_layer_size}): {current_error}')\n",
        "    training_errors.append(training_error)\n",
        "\n",
        "\n",
        "\n",
        "    testing_input = X_test\n",
        "    testing_layer_1_output = sigmoid(np.dot(testing_input, weights_layer1))\n",
        "    testing_layer_2_output = sigmoid(np.dot(testing_layer_1_output, weights_layer2))\n",
        "\n",
        "    testing_error = mean_squared_error(y_test, testing_layer_2_output).reshape(-1, 1)\n",
        "    print(f'Testing Mean Squared Error (hidden_layer_size = {hidden_layer_size}): {current_error}')\n",
        "    print('------------------------------------------------------------------------------------------')\n",
        "    testing_errors.append(testing_error)\n",
        "\n",
        "end_time = time.perf_counter()\n",
        "\n",
        "print(f'Time taken = {end_time - start_time} seconds')"
      ],
      "metadata": {
        "id": "uhTLrdLYN9mI",
        "colab": {
          "base_uri": "https://localhost:8080/"
        },
        "outputId": "259f98da-3626-472e-c22c-63f969ba0ed0"
      },
      "execution_count": 26,
      "outputs": [
        {
          "output_type": "stream",
          "name": "stdout",
          "text": [
            "Training with 1 neuron(s) in the hidden layer\n",
            "\n",
            "Epoch 100000: MSE = [[0.07898094]]\n",
            "Epoch 200000: MSE = [[0.07611292]]\n",
            "Epoch 300000: MSE = [[0.07442808]]\n",
            "Epoch 400000: MSE = [[0.0732538]]\n",
            "Epoch 500000: MSE = [[0.07239105]]\n",
            "Epoch 600000: MSE = [[0.07156235]]\n",
            "Epoch 700000: MSE = [[0.07079706]]\n",
            "Epoch 800000: MSE = [[0.07016434]]\n",
            "Epoch 900000: MSE = [[0.06961487]]\n",
            "Epoch 1000000: MSE = [[0.06913061]]\n",
            "Model did not converge.\n",
            "\n",
            "Training Mean Squared Error (hidden_layer_size = 1): 0\n",
            "Testing Mean Squared Error (hidden_layer_size = 1): 0\n",
            "------------------------------------------------------------------------------------------\n",
            "Training with 2 neuron(s) in the hidden layer\n",
            "\n",
            "Epoch 100000: MSE = [[0.05678934]]\n",
            "Epoch 200000: MSE = [[0.04086164]]\n",
            "Model converged at Epoch 200000 with MSE = [[0.04086164]]\n",
            "\n",
            "Training Mean Squared Error (hidden_layer_size = 2): 0\n",
            "Testing Mean Squared Error (hidden_layer_size = 2): 0\n",
            "------------------------------------------------------------------------------------------\n",
            "Training with 3 neuron(s) in the hidden layer\n",
            "\n",
            "Epoch 100000: MSE = [[0.0331944]]\n",
            "Model converged at Epoch 100000 with MSE = [[0.0331944]]\n",
            "\n",
            "Training Mean Squared Error (hidden_layer_size = 3): 0\n",
            "Testing Mean Squared Error (hidden_layer_size = 3): 0\n",
            "------------------------------------------------------------------------------------------\n",
            "Training with 4 neuron(s) in the hidden layer\n",
            "\n",
            "Epoch 100000: MSE = [[0.03432275]]\n",
            "Model converged at Epoch 100000 with MSE = [[0.03432275]]\n",
            "\n",
            "Training Mean Squared Error (hidden_layer_size = 4): 0\n",
            "Testing Mean Squared Error (hidden_layer_size = 4): 0\n",
            "------------------------------------------------------------------------------------------\n",
            "Training with 5 neuron(s) in the hidden layer\n",
            "\n",
            "Epoch 100000: MSE = [[0.03949934]]\n",
            "Model converged at Epoch 100000 with MSE = [[0.03949934]]\n",
            "\n",
            "Training Mean Squared Error (hidden_layer_size = 5): 0\n",
            "Testing Mean Squared Error (hidden_layer_size = 5): 0\n",
            "------------------------------------------------------------------------------------------\n",
            "Training with 6 neuron(s) in the hidden layer\n",
            "\n",
            "Epoch 100000: MSE = [[0.0288676]]\n",
            "Model converged at Epoch 100000 with MSE = [[0.0288676]]\n",
            "\n",
            "Training Mean Squared Error (hidden_layer_size = 6): 0\n",
            "Testing Mean Squared Error (hidden_layer_size = 6): 0\n",
            "------------------------------------------------------------------------------------------\n",
            "Training with 7 neuron(s) in the hidden layer\n",
            "\n",
            "Epoch 100000: MSE = [[0.03568713]]\n",
            "Model converged at Epoch 100000 with MSE = [[0.03568713]]\n",
            "\n",
            "Training Mean Squared Error (hidden_layer_size = 7): 0\n",
            "Testing Mean Squared Error (hidden_layer_size = 7): 0\n",
            "------------------------------------------------------------------------------------------\n",
            "Training with 8 neuron(s) in the hidden layer\n",
            "\n",
            "Epoch 100000: MSE = [[0.02682119]]\n",
            "Model converged at Epoch 100000 with MSE = [[0.02682119]]\n",
            "\n",
            "Training Mean Squared Error (hidden_layer_size = 8): 0\n",
            "Testing Mean Squared Error (hidden_layer_size = 8): 0\n",
            "------------------------------------------------------------------------------------------\n",
            "Training with 9 neuron(s) in the hidden layer\n",
            "\n",
            "Epoch 100000: MSE = [[0.02891496]]\n",
            "Model converged at Epoch 100000 with MSE = [[0.02891496]]\n",
            "\n",
            "Training Mean Squared Error (hidden_layer_size = 9): 0\n",
            "Testing Mean Squared Error (hidden_layer_size = 9): 0\n",
            "------------------------------------------------------------------------------------------\n",
            "Time taken = 94.37689347699961 seconds\n"
          ]
        }
      ]
    },
    {
      "cell_type": "code",
      "source": [
        "training_errors"
      ],
      "metadata": {
        "colab": {
          "base_uri": "https://localhost:8080/"
        },
        "id": "jn4_deVwcBOV",
        "outputId": "35c36737-8043-4840-f09f-e129e8f540d4"
      },
      "execution_count": 27,
      "outputs": [
        {
          "output_type": "execute_result",
          "data": {
            "text/plain": [
              "[array([[0.0691306]]),\n",
              " array([[0.04086159]]),\n",
              " array([[0.03319421]]),\n",
              " array([[0.03432255]]),\n",
              " array([[0.03949911]]),\n",
              " array([[0.02886735]]),\n",
              " array([[0.03568698]]),\n",
              " array([[0.02682096]]),\n",
              " array([[0.02891473]])]"
            ]
          },
          "metadata": {},
          "execution_count": 27
        }
      ]
    },
    {
      "cell_type": "code",
      "source": [
        "len(training_errors)"
      ],
      "metadata": {
        "colab": {
          "base_uri": "https://localhost:8080/"
        },
        "id": "Cw7yPm33cDGt",
        "outputId": "665cb8c5-c7e6-4fb2-a328-afc348ff78bf"
      },
      "execution_count": 28,
      "outputs": [
        {
          "output_type": "execute_result",
          "data": {
            "text/plain": [
              "9"
            ]
          },
          "metadata": {},
          "execution_count": 28
        }
      ]
    },
    {
      "cell_type": "code",
      "source": [
        "training_errors = np.array(list(map(np.ravel, training_errors[:])))\n",
        "training_errors"
      ],
      "metadata": {
        "colab": {
          "base_uri": "https://localhost:8080/"
        },
        "outputId": "3a552d15-f257-498c-d3a4-d91921ff7e51",
        "id": "M6CmFBjAeZZy"
      },
      "execution_count": 29,
      "outputs": [
        {
          "output_type": "execute_result",
          "data": {
            "text/plain": [
              "array([[0.0691306 ],\n",
              "       [0.04086159],\n",
              "       [0.03319421],\n",
              "       [0.03432255],\n",
              "       [0.03949911],\n",
              "       [0.02886735],\n",
              "       [0.03568698],\n",
              "       [0.02682096],\n",
              "       [0.02891473]])"
            ]
          },
          "metadata": {},
          "execution_count": 29
        }
      ]
    },
    {
      "cell_type": "code",
      "source": [
        "training_errors = training_errors.flatten()\n",
        "training_errors"
      ],
      "metadata": {
        "colab": {
          "base_uri": "https://localhost:8080/"
        },
        "outputId": "8f8fb7f6-c976-461c-9a61-f89a36fc4ca6",
        "id": "9-Wmxz9YeZZz"
      },
      "execution_count": 30,
      "outputs": [
        {
          "output_type": "execute_result",
          "data": {
            "text/plain": [
              "array([0.0691306 , 0.04086159, 0.03319421, 0.03432255, 0.03949911,\n",
              "       0.02886735, 0.03568698, 0.02682096, 0.02891473])"
            ]
          },
          "metadata": {},
          "execution_count": 30
        }
      ]
    },
    {
      "cell_type": "code",
      "source": [],
      "metadata": {
        "id": "RkKkygQ_eYfo"
      },
      "execution_count": null,
      "outputs": []
    },
    {
      "cell_type": "markdown",
      "source": [
        "# **Step8:** Evaluate testing results."
      ],
      "metadata": {
        "id": "oV5pkbjPrQfq"
      }
    },
    {
      "cell_type": "code",
      "source": [
        "testing_errors = []\n",
        "\n",
        "for hidden_layer_size in range(1, 10):\n",
        "\n",
        "    np.random.seed(0)\n",
        "    initial_weights_layer1 = 2 * np.random.random((input_size, hidden_layer_size)) - 1\n",
        "    initial_weights_layer2 = 2 * np.random.random((hidden_layer_size, output_size)) - 1\n",
        "\n",
        "    testing_error = fit_mlp(X_test, y_test, initial_weights_layer1, initial_weights_layer2)\n",
        "    print(f'Testing Mean Squared Error (hidden_layer_size = {hidden_layer_size}): {testing_error}')\n",
        "    testing_errors.append(testing_error)"
      ],
      "metadata": {
        "id": "r0_7zpTimjbY"
      },
      "execution_count": null,
      "outputs": []
    },
    {
      "cell_type": "code",
      "source": [
        "testing_errors"
      ],
      "metadata": {
        "colab": {
          "base_uri": "https://localhost:8080/"
        },
        "id": "bQonNO1HcFn2",
        "outputId": "8e7e2248-9675-4bd9-a09b-af1922f11f05"
      },
      "execution_count": 31,
      "outputs": [
        {
          "output_type": "execute_result",
          "data": {
            "text/plain": [
              "[array([[0.1018304]]),\n",
              " array([[0.10114237]]),\n",
              " array([[0.10127125]]),\n",
              " array([[0.10221508]]),\n",
              " array([[0.10479307]]),\n",
              " array([[0.10397935]]),\n",
              " array([[0.10205914]]),\n",
              " array([[0.10162091]]),\n",
              " array([[0.10144787]])]"
            ]
          },
          "metadata": {},
          "execution_count": 31
        }
      ]
    },
    {
      "cell_type": "code",
      "source": [
        "testing_errors = np.array(list(map(np.ravel, testing_errors[:])))\n",
        "testing_errors"
      ],
      "metadata": {
        "colab": {
          "base_uri": "https://localhost:8080/"
        },
        "id": "KtgsioKbc3kH",
        "outputId": "bf4674b3-f9ed-4bf5-de52-db1f8f6039f9"
      },
      "execution_count": 32,
      "outputs": [
        {
          "output_type": "execute_result",
          "data": {
            "text/plain": [
              "array([[0.1018304 ],\n",
              "       [0.10114237],\n",
              "       [0.10127125],\n",
              "       [0.10221508],\n",
              "       [0.10479307],\n",
              "       [0.10397935],\n",
              "       [0.10205914],\n",
              "       [0.10162091],\n",
              "       [0.10144787]])"
            ]
          },
          "metadata": {},
          "execution_count": 32
        }
      ]
    },
    {
      "cell_type": "code",
      "source": [
        "testing_errors = testing_errors.flatten()\n",
        "testing_errors"
      ],
      "metadata": {
        "colab": {
          "base_uri": "https://localhost:8080/"
        },
        "id": "9ujN9bs9dzmm",
        "outputId": "534b34c2-8dbf-4160-ce9c-9f855a5ffd3d"
      },
      "execution_count": 33,
      "outputs": [
        {
          "output_type": "execute_result",
          "data": {
            "text/plain": [
              "array([0.1018304 , 0.10114237, 0.10127125, 0.10221508, 0.10479307,\n",
              "       0.10397935, 0.10205914, 0.10162091, 0.10144787])"
            ]
          },
          "metadata": {},
          "execution_count": 33
        }
      ]
    },
    {
      "cell_type": "markdown",
      "source": [
        "# **Step9:** Plot the results."
      ],
      "metadata": {
        "id": "-jKd4C73rY7_"
      }
    },
    {
      "cell_type": "code",
      "source": [
        "x_axis_str = 'Number of Neurons in the Hidden layer'\n",
        "y_axis_str = 'Mean Squared Error (MSE)'\n",
        "\n",
        "fig = px.line(x = range(1,10), y = [training_errors, testing_errors],\n",
        "              width = 750,\n",
        "              height = 500,\n",
        "              title = 'Neural Network Performance with a Single Hidden Layer for Fertility Classification',\n",
        "              labels = {'x' : x_axis_str})\n",
        "\n",
        "fig.update_traces(name = 'Train Error', selector = dict(name = 'wide_variable_0'))\n",
        "fig.update_traces(name = 'Test Error', selector = dict(name = 'wide_variable_1'))\n",
        "fig.update_layout(yaxis_title = y_axis_str)\n",
        "fig.show()\n",
        "fig.write_image('NN Performance with a Single Hidden Layer for Fertility Classification.png')"
      ],
      "metadata": {
        "colab": {
          "base_uri": "https://localhost:8080/",
          "height": 517
        },
        "id": "flhPWAtphEdF",
        "outputId": "ef2652ff-69b0-4692-bd68-981ff27be4fa"
      },
      "execution_count": 34,
      "outputs": [
        {
          "output_type": "display_data",
          "data": {
            "text/html": [
              "<html>\n",
              "<head><meta charset=\"utf-8\" /></head>\n",
              "<body>\n",
              "    <div>            <script src=\"https://cdnjs.cloudflare.com/ajax/libs/mathjax/2.7.5/MathJax.js?config=TeX-AMS-MML_SVG\"></script><script type=\"text/javascript\">if (window.MathJax && window.MathJax.Hub && window.MathJax.Hub.Config) {window.MathJax.Hub.Config({SVG: {font: \"STIX-Web\"}});}</script>                <script type=\"text/javascript\">window.PlotlyConfig = {MathJaxConfig: 'local'};</script>\n",
              "        <script charset=\"utf-8\" src=\"https://cdn.plot.ly/plotly-2.24.1.min.js\"></script>                <div id=\"baabf3cf-857c-4677-a264-dba37fe8a14d\" class=\"plotly-graph-div\" style=\"height:500px; width:750px;\"></div>            <script type=\"text/javascript\">                                    window.PLOTLYENV=window.PLOTLYENV || {};                                    if (document.getElementById(\"baabf3cf-857c-4677-a264-dba37fe8a14d\")) {                    Plotly.newPlot(                        \"baabf3cf-857c-4677-a264-dba37fe8a14d\",                        [{\"hovertemplate\":\"variable=wide_variable_0\\u003cbr\\u003eNumber of Neurons in the Hidden layer=%{x}\\u003cbr\\u003evalue=%{y}\\u003cextra\\u003e\\u003c\\u002fextra\\u003e\",\"legendgroup\":\"wide_variable_0\",\"line\":{\"color\":\"#636efa\",\"dash\":\"solid\"},\"marker\":{\"symbol\":\"circle\"},\"mode\":\"lines\",\"name\":\"Train Error\",\"orientation\":\"v\",\"showlegend\":true,\"x\":[1,2,3,4,5,6,7,8,9],\"xaxis\":\"x\",\"y\":[0.06913060257848579,0.04086158923456259,0.0331942140059691,0.03432255457777081,0.03949911381916205,0.02886734650027196,0.035686978278526495,0.026820959613445113,0.028914731382208837],\"yaxis\":\"y\",\"type\":\"scatter\"},{\"hovertemplate\":\"variable=wide_variable_1\\u003cbr\\u003eNumber of Neurons in the Hidden layer=%{x}\\u003cbr\\u003evalue=%{y}\\u003cextra\\u003e\\u003c\\u002fextra\\u003e\",\"legendgroup\":\"wide_variable_1\",\"line\":{\"color\":\"#EF553B\",\"dash\":\"solid\"},\"marker\":{\"symbol\":\"circle\"},\"mode\":\"lines\",\"name\":\"Test Error\",\"orientation\":\"v\",\"showlegend\":true,\"x\":[1,2,3,4,5,6,7,8,9],\"xaxis\":\"x\",\"y\":[0.10183040176468314,0.1011423709622935,0.10127124633308496,0.10221507874590618,0.10479306598236797,0.10397935360946065,0.10205914464316616,0.1016209062568093,0.10144787178258192],\"yaxis\":\"y\",\"type\":\"scatter\"}],                        {\"template\":{\"data\":{\"histogram2dcontour\":[{\"type\":\"histogram2dcontour\",\"colorbar\":{\"outlinewidth\":0,\"ticks\":\"\"},\"colorscale\":[[0.0,\"#0d0887\"],[0.1111111111111111,\"#46039f\"],[0.2222222222222222,\"#7201a8\"],[0.3333333333333333,\"#9c179e\"],[0.4444444444444444,\"#bd3786\"],[0.5555555555555556,\"#d8576b\"],[0.6666666666666666,\"#ed7953\"],[0.7777777777777778,\"#fb9f3a\"],[0.8888888888888888,\"#fdca26\"],[1.0,\"#f0f921\"]]}],\"choropleth\":[{\"type\":\"choropleth\",\"colorbar\":{\"outlinewidth\":0,\"ticks\":\"\"}}],\"histogram2d\":[{\"type\":\"histogram2d\",\"colorbar\":{\"outlinewidth\":0,\"ticks\":\"\"},\"colorscale\":[[0.0,\"#0d0887\"],[0.1111111111111111,\"#46039f\"],[0.2222222222222222,\"#7201a8\"],[0.3333333333333333,\"#9c179e\"],[0.4444444444444444,\"#bd3786\"],[0.5555555555555556,\"#d8576b\"],[0.6666666666666666,\"#ed7953\"],[0.7777777777777778,\"#fb9f3a\"],[0.8888888888888888,\"#fdca26\"],[1.0,\"#f0f921\"]]}],\"heatmap\":[{\"type\":\"heatmap\",\"colorbar\":{\"outlinewidth\":0,\"ticks\":\"\"},\"colorscale\":[[0.0,\"#0d0887\"],[0.1111111111111111,\"#46039f\"],[0.2222222222222222,\"#7201a8\"],[0.3333333333333333,\"#9c179e\"],[0.4444444444444444,\"#bd3786\"],[0.5555555555555556,\"#d8576b\"],[0.6666666666666666,\"#ed7953\"],[0.7777777777777778,\"#fb9f3a\"],[0.8888888888888888,\"#fdca26\"],[1.0,\"#f0f921\"]]}],\"heatmapgl\":[{\"type\":\"heatmapgl\",\"colorbar\":{\"outlinewidth\":0,\"ticks\":\"\"},\"colorscale\":[[0.0,\"#0d0887\"],[0.1111111111111111,\"#46039f\"],[0.2222222222222222,\"#7201a8\"],[0.3333333333333333,\"#9c179e\"],[0.4444444444444444,\"#bd3786\"],[0.5555555555555556,\"#d8576b\"],[0.6666666666666666,\"#ed7953\"],[0.7777777777777778,\"#fb9f3a\"],[0.8888888888888888,\"#fdca26\"],[1.0,\"#f0f921\"]]}],\"contourcarpet\":[{\"type\":\"contourcarpet\",\"colorbar\":{\"outlinewidth\":0,\"ticks\":\"\"}}],\"contour\":[{\"type\":\"contour\",\"colorbar\":{\"outlinewidth\":0,\"ticks\":\"\"},\"colorscale\":[[0.0,\"#0d0887\"],[0.1111111111111111,\"#46039f\"],[0.2222222222222222,\"#7201a8\"],[0.3333333333333333,\"#9c179e\"],[0.4444444444444444,\"#bd3786\"],[0.5555555555555556,\"#d8576b\"],[0.6666666666666666,\"#ed7953\"],[0.7777777777777778,\"#fb9f3a\"],[0.8888888888888888,\"#fdca26\"],[1.0,\"#f0f921\"]]}],\"surface\":[{\"type\":\"surface\",\"colorbar\":{\"outlinewidth\":0,\"ticks\":\"\"},\"colorscale\":[[0.0,\"#0d0887\"],[0.1111111111111111,\"#46039f\"],[0.2222222222222222,\"#7201a8\"],[0.3333333333333333,\"#9c179e\"],[0.4444444444444444,\"#bd3786\"],[0.5555555555555556,\"#d8576b\"],[0.6666666666666666,\"#ed7953\"],[0.7777777777777778,\"#fb9f3a\"],[0.8888888888888888,\"#fdca26\"],[1.0,\"#f0f921\"]]}],\"mesh3d\":[{\"type\":\"mesh3d\",\"colorbar\":{\"outlinewidth\":0,\"ticks\":\"\"}}],\"scatter\":[{\"fillpattern\":{\"fillmode\":\"overlay\",\"size\":10,\"solidity\":0.2},\"type\":\"scatter\"}],\"parcoords\":[{\"type\":\"parcoords\",\"line\":{\"colorbar\":{\"outlinewidth\":0,\"ticks\":\"\"}}}],\"scatterpolargl\":[{\"type\":\"scatterpolargl\",\"marker\":{\"colorbar\":{\"outlinewidth\":0,\"ticks\":\"\"}}}],\"bar\":[{\"error_x\":{\"color\":\"#2a3f5f\"},\"error_y\":{\"color\":\"#2a3f5f\"},\"marker\":{\"line\":{\"color\":\"#E5ECF6\",\"width\":0.5},\"pattern\":{\"fillmode\":\"overlay\",\"size\":10,\"solidity\":0.2}},\"type\":\"bar\"}],\"scattergeo\":[{\"type\":\"scattergeo\",\"marker\":{\"colorbar\":{\"outlinewidth\":0,\"ticks\":\"\"}}}],\"scatterpolar\":[{\"type\":\"scatterpolar\",\"marker\":{\"colorbar\":{\"outlinewidth\":0,\"ticks\":\"\"}}}],\"histogram\":[{\"marker\":{\"pattern\":{\"fillmode\":\"overlay\",\"size\":10,\"solidity\":0.2}},\"type\":\"histogram\"}],\"scattergl\":[{\"type\":\"scattergl\",\"marker\":{\"colorbar\":{\"outlinewidth\":0,\"ticks\":\"\"}}}],\"scatter3d\":[{\"type\":\"scatter3d\",\"line\":{\"colorbar\":{\"outlinewidth\":0,\"ticks\":\"\"}},\"marker\":{\"colorbar\":{\"outlinewidth\":0,\"ticks\":\"\"}}}],\"scattermapbox\":[{\"type\":\"scattermapbox\",\"marker\":{\"colorbar\":{\"outlinewidth\":0,\"ticks\":\"\"}}}],\"scatterternary\":[{\"type\":\"scatterternary\",\"marker\":{\"colorbar\":{\"outlinewidth\":0,\"ticks\":\"\"}}}],\"scattercarpet\":[{\"type\":\"scattercarpet\",\"marker\":{\"colorbar\":{\"outlinewidth\":0,\"ticks\":\"\"}}}],\"carpet\":[{\"aaxis\":{\"endlinecolor\":\"#2a3f5f\",\"gridcolor\":\"white\",\"linecolor\":\"white\",\"minorgridcolor\":\"white\",\"startlinecolor\":\"#2a3f5f\"},\"baxis\":{\"endlinecolor\":\"#2a3f5f\",\"gridcolor\":\"white\",\"linecolor\":\"white\",\"minorgridcolor\":\"white\",\"startlinecolor\":\"#2a3f5f\"},\"type\":\"carpet\"}],\"table\":[{\"cells\":{\"fill\":{\"color\":\"#EBF0F8\"},\"line\":{\"color\":\"white\"}},\"header\":{\"fill\":{\"color\":\"#C8D4E3\"},\"line\":{\"color\":\"white\"}},\"type\":\"table\"}],\"barpolar\":[{\"marker\":{\"line\":{\"color\":\"#E5ECF6\",\"width\":0.5},\"pattern\":{\"fillmode\":\"overlay\",\"size\":10,\"solidity\":0.2}},\"type\":\"barpolar\"}],\"pie\":[{\"automargin\":true,\"type\":\"pie\"}]},\"layout\":{\"autotypenumbers\":\"strict\",\"colorway\":[\"#636efa\",\"#EF553B\",\"#00cc96\",\"#ab63fa\",\"#FFA15A\",\"#19d3f3\",\"#FF6692\",\"#B6E880\",\"#FF97FF\",\"#FECB52\"],\"font\":{\"color\":\"#2a3f5f\"},\"hovermode\":\"closest\",\"hoverlabel\":{\"align\":\"left\"},\"paper_bgcolor\":\"white\",\"plot_bgcolor\":\"#E5ECF6\",\"polar\":{\"bgcolor\":\"#E5ECF6\",\"angularaxis\":{\"gridcolor\":\"white\",\"linecolor\":\"white\",\"ticks\":\"\"},\"radialaxis\":{\"gridcolor\":\"white\",\"linecolor\":\"white\",\"ticks\":\"\"}},\"ternary\":{\"bgcolor\":\"#E5ECF6\",\"aaxis\":{\"gridcolor\":\"white\",\"linecolor\":\"white\",\"ticks\":\"\"},\"baxis\":{\"gridcolor\":\"white\",\"linecolor\":\"white\",\"ticks\":\"\"},\"caxis\":{\"gridcolor\":\"white\",\"linecolor\":\"white\",\"ticks\":\"\"}},\"coloraxis\":{\"colorbar\":{\"outlinewidth\":0,\"ticks\":\"\"}},\"colorscale\":{\"sequential\":[[0.0,\"#0d0887\"],[0.1111111111111111,\"#46039f\"],[0.2222222222222222,\"#7201a8\"],[0.3333333333333333,\"#9c179e\"],[0.4444444444444444,\"#bd3786\"],[0.5555555555555556,\"#d8576b\"],[0.6666666666666666,\"#ed7953\"],[0.7777777777777778,\"#fb9f3a\"],[0.8888888888888888,\"#fdca26\"],[1.0,\"#f0f921\"]],\"sequentialminus\":[[0.0,\"#0d0887\"],[0.1111111111111111,\"#46039f\"],[0.2222222222222222,\"#7201a8\"],[0.3333333333333333,\"#9c179e\"],[0.4444444444444444,\"#bd3786\"],[0.5555555555555556,\"#d8576b\"],[0.6666666666666666,\"#ed7953\"],[0.7777777777777778,\"#fb9f3a\"],[0.8888888888888888,\"#fdca26\"],[1.0,\"#f0f921\"]],\"diverging\":[[0,\"#8e0152\"],[0.1,\"#c51b7d\"],[0.2,\"#de77ae\"],[0.3,\"#f1b6da\"],[0.4,\"#fde0ef\"],[0.5,\"#f7f7f7\"],[0.6,\"#e6f5d0\"],[0.7,\"#b8e186\"],[0.8,\"#7fbc41\"],[0.9,\"#4d9221\"],[1,\"#276419\"]]},\"xaxis\":{\"gridcolor\":\"white\",\"linecolor\":\"white\",\"ticks\":\"\",\"title\":{\"standoff\":15},\"zerolinecolor\":\"white\",\"automargin\":true,\"zerolinewidth\":2},\"yaxis\":{\"gridcolor\":\"white\",\"linecolor\":\"white\",\"ticks\":\"\",\"title\":{\"standoff\":15},\"zerolinecolor\":\"white\",\"automargin\":true,\"zerolinewidth\":2},\"scene\":{\"xaxis\":{\"backgroundcolor\":\"#E5ECF6\",\"gridcolor\":\"white\",\"linecolor\":\"white\",\"showbackground\":true,\"ticks\":\"\",\"zerolinecolor\":\"white\",\"gridwidth\":2},\"yaxis\":{\"backgroundcolor\":\"#E5ECF6\",\"gridcolor\":\"white\",\"linecolor\":\"white\",\"showbackground\":true,\"ticks\":\"\",\"zerolinecolor\":\"white\",\"gridwidth\":2},\"zaxis\":{\"backgroundcolor\":\"#E5ECF6\",\"gridcolor\":\"white\",\"linecolor\":\"white\",\"showbackground\":true,\"ticks\":\"\",\"zerolinecolor\":\"white\",\"gridwidth\":2}},\"shapedefaults\":{\"line\":{\"color\":\"#2a3f5f\"}},\"annotationdefaults\":{\"arrowcolor\":\"#2a3f5f\",\"arrowhead\":0,\"arrowwidth\":1},\"geo\":{\"bgcolor\":\"white\",\"landcolor\":\"#E5ECF6\",\"subunitcolor\":\"white\",\"showland\":true,\"showlakes\":true,\"lakecolor\":\"white\"},\"title\":{\"x\":0.05},\"mapbox\":{\"style\":\"light\"}}},\"xaxis\":{\"anchor\":\"y\",\"domain\":[0.0,1.0],\"title\":{\"text\":\"Number of Neurons in the Hidden layer\"}},\"yaxis\":{\"anchor\":\"x\",\"domain\":[0.0,1.0],\"title\":{\"text\":\"Mean Squared Error (MSE)\"}},\"legend\":{\"title\":{\"text\":\"variable\"},\"tracegroupgap\":0},\"title\":{\"text\":\"Neural Network Performance with a Single Hidden Layer for Fertility Classification\"},\"height\":500,\"width\":750},                        {\"responsive\": true}                    ).then(function(){\n",
              "                            \n",
              "var gd = document.getElementById('baabf3cf-857c-4677-a264-dba37fe8a14d');\n",
              "var x = new MutationObserver(function (mutations, observer) {{\n",
              "        var display = window.getComputedStyle(gd).display;\n",
              "        if (!display || display === 'none') {{\n",
              "            console.log([gd, 'removed!']);\n",
              "            Plotly.purge(gd);\n",
              "            observer.disconnect();\n",
              "        }}\n",
              "}});\n",
              "\n",
              "// Listen for the removal of the full notebook cells\n",
              "var notebookContainer = gd.closest('#notebook-container');\n",
              "if (notebookContainer) {{\n",
              "    x.observe(notebookContainer, {childList: true});\n",
              "}}\n",
              "\n",
              "// Listen for the clearing of the current output cell\n",
              "var outputEl = gd.closest('.output');\n",
              "if (outputEl) {{\n",
              "    x.observe(outputEl, {childList: true});\n",
              "}}\n",
              "\n",
              "                        })                };                            </script>        </div>\n",
              "</body>\n",
              "</html>"
            ]
          },
          "metadata": {}
        }
      ]
    }
  ]
}