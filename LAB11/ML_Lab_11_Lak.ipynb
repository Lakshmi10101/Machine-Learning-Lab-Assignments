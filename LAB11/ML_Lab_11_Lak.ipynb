{
  "nbformat": 4,
  "nbformat_minor": 0,
  "metadata": {
    "colab": {
      "provenance": []
    },
    "kernelspec": {
      "name": "python3",
      "display_name": "Python 3"
    },
    "language_info": {
      "name": "python"
    }
  },
  "cells": [
    {
      "cell_type": "code",
      "source": [
        "pip install -U kaleido"
      ],
      "metadata": {
        "colab": {
          "base_uri": "https://localhost:8080/"
        },
        "id": "EvkCaL5GLPaI",
        "outputId": "727d6a75-be9d-4daa-fd10-2d2b97bcdcd4"
      },
      "execution_count": 1,
      "outputs": [
        {
          "output_type": "stream",
          "name": "stdout",
          "text": [
            "Requirement already satisfied: kaleido in /usr/local/lib/python3.10/dist-packages (0.2.1)\n"
          ]
        }
      ]
    },
    {
      "cell_type": "markdown",
      "source": [
        "# **Step 1:** Import libraries"
      ],
      "metadata": {
        "id": "ctdU1RlyZC3P"
      }
    },
    {
      "cell_type": "code",
      "execution_count": 2,
      "metadata": {
        "id": "0vGv7q-7YP5N"
      },
      "outputs": [],
      "source": [
        "# Import libraries\n",
        "\n",
        "import numpy as np\n",
        "import pandas as pd\n",
        "import matplotlib.cm as cm\n",
        "import matplotlib.pyplot as plt\n",
        "\n",
        "import plotly.express as px\n",
        "import plotly.graph_objs as go\n",
        "\n",
        "from sklearn.model_selection import train_test_split\n",
        "\n",
        "from sklearn.metrics import confusion_matrix, accuracy_score\n",
        "\n",
        "\n",
        "#import warnings\n",
        "#warnings.filterwarnings('ignore')"
      ]
    },
    {
      "cell_type": "markdown",
      "source": [
        "# **Step 2:** Generate synthetic data for two classes"
      ],
      "metadata": {
        "id": "HkTzJwsyZKm_"
      }
    },
    {
      "cell_type": "markdown",
      "source": [
        "### Define bold text mean (mu) and covariance (Sigma) matrices for each class"
      ],
      "metadata": {
        "id": "6QvnkiViZSvY"
      }
    },
    {
      "cell_type": "code",
      "source": [
        "mu1 = [-2, -2]\n",
        "sigma1 = [[0.9, -0.0255], [-0.0255, 0.9]]"
      ],
      "metadata": {
        "id": "oO-xPdn8Y-nR"
      },
      "execution_count": 3,
      "outputs": []
    },
    {
      "cell_type": "code",
      "source": [
        "mu2 = [5, 5]\n",
        "sigma2 = [[0.5, 0], [0, 0.3]]"
      ],
      "metadata": {
        "id": "ihvLcQhaZfcS"
      },
      "execution_count": 4,
      "outputs": []
    },
    {
      "cell_type": "markdown",
      "source": [
        "### Generate synthetic data by drawing samples from each distribution"
      ],
      "metadata": {
        "id": "ocvzEULaZ_6B"
      }
    },
    {
      "cell_type": "code",
      "source": [
        "num_samples_class1 = 250\n",
        "num_samples_class2 = 250"
      ],
      "metadata": {
        "id": "eL-OG8qmecc3"
      },
      "execution_count": 5,
      "outputs": []
    },
    {
      "cell_type": "markdown",
      "source": [
        "**For first class**"
      ],
      "metadata": {
        "id": "54fpoaKmaJeJ"
      }
    },
    {
      "cell_type": "code",
      "source": [
        "np.random.seed(0)\n",
        "points_1 = np.random.default_rng().multivariate_normal(mu1, sigma1, num_samples_class1)"
      ],
      "metadata": {
        "id": "9N9q-fpIZ1cv"
      },
      "execution_count": 6,
      "outputs": []
    },
    {
      "cell_type": "code",
      "source": [
        "points_1.shape"
      ],
      "metadata": {
        "colab": {
          "base_uri": "https://localhost:8080/"
        },
        "id": "ytGCpIYBJyv6",
        "outputId": "6fe0f70b-2a5a-4784-9ba0-548e5744dfbc"
      },
      "execution_count": 7,
      "outputs": [
        {
          "output_type": "execute_result",
          "data": {
            "text/plain": [
              "(250, 2)"
            ]
          },
          "metadata": {},
          "execution_count": 7
        }
      ]
    },
    {
      "cell_type": "code",
      "source": [
        "pd.DataFrame(points_1, columns = ['Feature_1', 'Feature_2']).head()"
      ],
      "metadata": {
        "colab": {
          "base_uri": "https://localhost:8080/",
          "height": 206
        },
        "id": "rxWgBJhmJ9t2",
        "outputId": "a37be24f-6a1c-4331-ff70-5d37c9d1c859"
      },
      "execution_count": 8,
      "outputs": [
        {
          "output_type": "execute_result",
          "data": {
            "text/plain": [
              "   Feature_1  Feature_2\n",
              "0  -0.219732  -1.024637\n",
              "1  -1.184319  -0.386109\n",
              "2  -4.875478  -1.230151\n",
              "3  -3.723137  -2.446335\n",
              "4  -1.693616  -1.447580"
            ],
            "text/html": [
              "\n",
              "  <div id=\"df-00db5db5-613b-45fb-9cd1-bd1129ac6812\" class=\"colab-df-container\">\n",
              "    <div>\n",
              "<style scoped>\n",
              "    .dataframe tbody tr th:only-of-type {\n",
              "        vertical-align: middle;\n",
              "    }\n",
              "\n",
              "    .dataframe tbody tr th {\n",
              "        vertical-align: top;\n",
              "    }\n",
              "\n",
              "    .dataframe thead th {\n",
              "        text-align: right;\n",
              "    }\n",
              "</style>\n",
              "<table border=\"1\" class=\"dataframe\">\n",
              "  <thead>\n",
              "    <tr style=\"text-align: right;\">\n",
              "      <th></th>\n",
              "      <th>Feature_1</th>\n",
              "      <th>Feature_2</th>\n",
              "    </tr>\n",
              "  </thead>\n",
              "  <tbody>\n",
              "    <tr>\n",
              "      <th>0</th>\n",
              "      <td>-0.219732</td>\n",
              "      <td>-1.024637</td>\n",
              "    </tr>\n",
              "    <tr>\n",
              "      <th>1</th>\n",
              "      <td>-1.184319</td>\n",
              "      <td>-0.386109</td>\n",
              "    </tr>\n",
              "    <tr>\n",
              "      <th>2</th>\n",
              "      <td>-4.875478</td>\n",
              "      <td>-1.230151</td>\n",
              "    </tr>\n",
              "    <tr>\n",
              "      <th>3</th>\n",
              "      <td>-3.723137</td>\n",
              "      <td>-2.446335</td>\n",
              "    </tr>\n",
              "    <tr>\n",
              "      <th>4</th>\n",
              "      <td>-1.693616</td>\n",
              "      <td>-1.447580</td>\n",
              "    </tr>\n",
              "  </tbody>\n",
              "</table>\n",
              "</div>\n",
              "    <div class=\"colab-df-buttons\">\n",
              "\n",
              "  <div class=\"colab-df-container\">\n",
              "    <button class=\"colab-df-convert\" onclick=\"convertToInteractive('df-00db5db5-613b-45fb-9cd1-bd1129ac6812')\"\n",
              "            title=\"Convert this dataframe to an interactive table.\"\n",
              "            style=\"display:none;\">\n",
              "\n",
              "  <svg xmlns=\"http://www.w3.org/2000/svg\" height=\"24px\" viewBox=\"0 -960 960 960\">\n",
              "    <path d=\"M120-120v-720h720v720H120Zm60-500h600v-160H180v160Zm220 220h160v-160H400v160Zm0 220h160v-160H400v160ZM180-400h160v-160H180v160Zm440 0h160v-160H620v160ZM180-180h160v-160H180v160Zm440 0h160v-160H620v160Z\"/>\n",
              "  </svg>\n",
              "    </button>\n",
              "\n",
              "  <style>\n",
              "    .colab-df-container {\n",
              "      display:flex;\n",
              "      gap: 12px;\n",
              "    }\n",
              "\n",
              "    .colab-df-convert {\n",
              "      background-color: #E8F0FE;\n",
              "      border: none;\n",
              "      border-radius: 50%;\n",
              "      cursor: pointer;\n",
              "      display: none;\n",
              "      fill: #1967D2;\n",
              "      height: 32px;\n",
              "      padding: 0 0 0 0;\n",
              "      width: 32px;\n",
              "    }\n",
              "\n",
              "    .colab-df-convert:hover {\n",
              "      background-color: #E2EBFA;\n",
              "      box-shadow: 0px 1px 2px rgba(60, 64, 67, 0.3), 0px 1px 3px 1px rgba(60, 64, 67, 0.15);\n",
              "      fill: #174EA6;\n",
              "    }\n",
              "\n",
              "    .colab-df-buttons div {\n",
              "      margin-bottom: 4px;\n",
              "    }\n",
              "\n",
              "    [theme=dark] .colab-df-convert {\n",
              "      background-color: #3B4455;\n",
              "      fill: #D2E3FC;\n",
              "    }\n",
              "\n",
              "    [theme=dark] .colab-df-convert:hover {\n",
              "      background-color: #434B5C;\n",
              "      box-shadow: 0px 1px 3px 1px rgba(0, 0, 0, 0.15);\n",
              "      filter: drop-shadow(0px 1px 2px rgba(0, 0, 0, 0.3));\n",
              "      fill: #FFFFFF;\n",
              "    }\n",
              "  </style>\n",
              "\n",
              "    <script>\n",
              "      const buttonEl =\n",
              "        document.querySelector('#df-00db5db5-613b-45fb-9cd1-bd1129ac6812 button.colab-df-convert');\n",
              "      buttonEl.style.display =\n",
              "        google.colab.kernel.accessAllowed ? 'block' : 'none';\n",
              "\n",
              "      async function convertToInteractive(key) {\n",
              "        const element = document.querySelector('#df-00db5db5-613b-45fb-9cd1-bd1129ac6812');\n",
              "        const dataTable =\n",
              "          await google.colab.kernel.invokeFunction('convertToInteractive',\n",
              "                                                    [key], {});\n",
              "        if (!dataTable) return;\n",
              "\n",
              "        const docLinkHtml = 'Like what you see? Visit the ' +\n",
              "          '<a target=\"_blank\" href=https://colab.research.google.com/notebooks/data_table.ipynb>data table notebook</a>'\n",
              "          + ' to learn more about interactive tables.';\n",
              "        element.innerHTML = '';\n",
              "        dataTable['output_type'] = 'display_data';\n",
              "        await google.colab.output.renderOutput(dataTable, element);\n",
              "        const docLink = document.createElement('div');\n",
              "        docLink.innerHTML = docLinkHtml;\n",
              "        element.appendChild(docLink);\n",
              "      }\n",
              "    </script>\n",
              "  </div>\n",
              "\n",
              "\n",
              "<div id=\"df-94d7251d-55f0-4f6b-8089-d27199734764\">\n",
              "  <button class=\"colab-df-quickchart\" onclick=\"quickchart('df-94d7251d-55f0-4f6b-8089-d27199734764')\"\n",
              "            title=\"Suggest charts\"\n",
              "            style=\"display:none;\">\n",
              "\n",
              "<svg xmlns=\"http://www.w3.org/2000/svg\" height=\"24px\"viewBox=\"0 0 24 24\"\n",
              "     width=\"24px\">\n",
              "    <g>\n",
              "        <path d=\"M19 3H5c-1.1 0-2 .9-2 2v14c0 1.1.9 2 2 2h14c1.1 0 2-.9 2-2V5c0-1.1-.9-2-2-2zM9 17H7v-7h2v7zm4 0h-2V7h2v10zm4 0h-2v-4h2v4z\"/>\n",
              "    </g>\n",
              "</svg>\n",
              "  </button>\n",
              "\n",
              "<style>\n",
              "  .colab-df-quickchart {\n",
              "      --bg-color: #E8F0FE;\n",
              "      --fill-color: #1967D2;\n",
              "      --hover-bg-color: #E2EBFA;\n",
              "      --hover-fill-color: #174EA6;\n",
              "      --disabled-fill-color: #AAA;\n",
              "      --disabled-bg-color: #DDD;\n",
              "  }\n",
              "\n",
              "  [theme=dark] .colab-df-quickchart {\n",
              "      --bg-color: #3B4455;\n",
              "      --fill-color: #D2E3FC;\n",
              "      --hover-bg-color: #434B5C;\n",
              "      --hover-fill-color: #FFFFFF;\n",
              "      --disabled-bg-color: #3B4455;\n",
              "      --disabled-fill-color: #666;\n",
              "  }\n",
              "\n",
              "  .colab-df-quickchart {\n",
              "    background-color: var(--bg-color);\n",
              "    border: none;\n",
              "    border-radius: 50%;\n",
              "    cursor: pointer;\n",
              "    display: none;\n",
              "    fill: var(--fill-color);\n",
              "    height: 32px;\n",
              "    padding: 0;\n",
              "    width: 32px;\n",
              "  }\n",
              "\n",
              "  .colab-df-quickchart:hover {\n",
              "    background-color: var(--hover-bg-color);\n",
              "    box-shadow: 0 1px 2px rgba(60, 64, 67, 0.3), 0 1px 3px 1px rgba(60, 64, 67, 0.15);\n",
              "    fill: var(--button-hover-fill-color);\n",
              "  }\n",
              "\n",
              "  .colab-df-quickchart-complete:disabled,\n",
              "  .colab-df-quickchart-complete:disabled:hover {\n",
              "    background-color: var(--disabled-bg-color);\n",
              "    fill: var(--disabled-fill-color);\n",
              "    box-shadow: none;\n",
              "  }\n",
              "\n",
              "  .colab-df-spinner {\n",
              "    border: 2px solid var(--fill-color);\n",
              "    border-color: transparent;\n",
              "    border-bottom-color: var(--fill-color);\n",
              "    animation:\n",
              "      spin 1s steps(1) infinite;\n",
              "  }\n",
              "\n",
              "  @keyframes spin {\n",
              "    0% {\n",
              "      border-color: transparent;\n",
              "      border-bottom-color: var(--fill-color);\n",
              "      border-left-color: var(--fill-color);\n",
              "    }\n",
              "    20% {\n",
              "      border-color: transparent;\n",
              "      border-left-color: var(--fill-color);\n",
              "      border-top-color: var(--fill-color);\n",
              "    }\n",
              "    30% {\n",
              "      border-color: transparent;\n",
              "      border-left-color: var(--fill-color);\n",
              "      border-top-color: var(--fill-color);\n",
              "      border-right-color: var(--fill-color);\n",
              "    }\n",
              "    40% {\n",
              "      border-color: transparent;\n",
              "      border-right-color: var(--fill-color);\n",
              "      border-top-color: var(--fill-color);\n",
              "    }\n",
              "    60% {\n",
              "      border-color: transparent;\n",
              "      border-right-color: var(--fill-color);\n",
              "    }\n",
              "    80% {\n",
              "      border-color: transparent;\n",
              "      border-right-color: var(--fill-color);\n",
              "      border-bottom-color: var(--fill-color);\n",
              "    }\n",
              "    90% {\n",
              "      border-color: transparent;\n",
              "      border-bottom-color: var(--fill-color);\n",
              "    }\n",
              "  }\n",
              "</style>\n",
              "\n",
              "  <script>\n",
              "    async function quickchart(key) {\n",
              "      const quickchartButtonEl =\n",
              "        document.querySelector('#' + key + ' button');\n",
              "      quickchartButtonEl.disabled = true;  // To prevent multiple clicks.\n",
              "      quickchartButtonEl.classList.add('colab-df-spinner');\n",
              "      try {\n",
              "        const charts = await google.colab.kernel.invokeFunction(\n",
              "            'suggestCharts', [key], {});\n",
              "      } catch (error) {\n",
              "        console.error('Error during call to suggestCharts:', error);\n",
              "      }\n",
              "      quickchartButtonEl.classList.remove('colab-df-spinner');\n",
              "      quickchartButtonEl.classList.add('colab-df-quickchart-complete');\n",
              "    }\n",
              "    (() => {\n",
              "      let quickchartButtonEl =\n",
              "        document.querySelector('#df-94d7251d-55f0-4f6b-8089-d27199734764 button');\n",
              "      quickchartButtonEl.style.display =\n",
              "        google.colab.kernel.accessAllowed ? 'block' : 'none';\n",
              "    })();\n",
              "  </script>\n",
              "</div>\n",
              "    </div>\n",
              "  </div>\n"
            ]
          },
          "metadata": {},
          "execution_count": 8
        }
      ]
    },
    {
      "cell_type": "code",
      "source": [
        "points_1.mean(axis = 0)"
      ],
      "metadata": {
        "colab": {
          "base_uri": "https://localhost:8080/"
        },
        "id": "dWct9aUUKFeG",
        "outputId": "6b849ace-6b19-4d4e-a5f3-31427275e63a"
      },
      "execution_count": 9,
      "outputs": [
        {
          "output_type": "execute_result",
          "data": {
            "text/plain": [
              "array([-1.96849744, -1.94048883])"
            ]
          },
          "metadata": {},
          "execution_count": 9
        }
      ]
    },
    {
      "cell_type": "code",
      "source": [
        "np.cov(points_1.T)"
      ],
      "metadata": {
        "colab": {
          "base_uri": "https://localhost:8080/"
        },
        "id": "LCfr8BT0KLGu",
        "outputId": "d19061a8-37d9-4fbf-a494-25464c1cf8e5"
      },
      "execution_count": 10,
      "outputs": [
        {
          "output_type": "execute_result",
          "data": {
            "text/plain": [
              "array([[ 0.92553147, -0.05003727],\n",
              "       [-0.05003727,  0.87691404]])"
            ]
          },
          "metadata": {},
          "execution_count": 10
        }
      ]
    },
    {
      "cell_type": "code",
      "source": [
        "fig = px.scatter(x = points_1[:, 0], y = points_1[:, 1], width = 700, height = 500,\n",
        "                        color_discrete_sequence = ['indianred'],\n",
        "                        title = 'First Class Points',\n",
        "                        labels = {'x' : 'Feature 1', 'y' : 'Feature 2'})\n",
        "\n",
        "fig.update_traces(marker=dict(size = 10,\n",
        "                              line = dict(width = 1,\n",
        "                                        color = 'DarkSlateGrey')))\n",
        "fig.show()\n",
        "fig.write_image('First Class Points.png')"
      ],
      "metadata": {
        "colab": {
          "base_uri": "https://localhost:8080/",
          "height": 517
        },
        "id": "3SHOpGPHdzFx",
        "outputId": "1811b518-2d15-468a-d5e8-8030296122c7"
      },
      "execution_count": 11,
      "outputs": [
        {
          "output_type": "display_data",
          "data": {
            "text/html": [
              "<html>\n",
              "<head><meta charset=\"utf-8\" /></head>\n",
              "<body>\n",
              "    <div>            <script src=\"https://cdnjs.cloudflare.com/ajax/libs/mathjax/2.7.5/MathJax.js?config=TeX-AMS-MML_SVG\"></script><script type=\"text/javascript\">if (window.MathJax && window.MathJax.Hub && window.MathJax.Hub.Config) {window.MathJax.Hub.Config({SVG: {font: \"STIX-Web\"}});}</script>                <script type=\"text/javascript\">window.PlotlyConfig = {MathJaxConfig: 'local'};</script>\n",
              "        <script charset=\"utf-8\" src=\"https://cdn.plot.ly/plotly-2.24.1.min.js\"></script>                <div id=\"47b6e861-5cb3-4d85-a9a6-405acd13ee61\" class=\"plotly-graph-div\" style=\"height:500px; width:700px;\"></div>            <script type=\"text/javascript\">                                    window.PLOTLYENV=window.PLOTLYENV || {};                                    if (document.getElementById(\"47b6e861-5cb3-4d85-a9a6-405acd13ee61\")) {                    Plotly.newPlot(                        \"47b6e861-5cb3-4d85-a9a6-405acd13ee61\",                        [{\"hovertemplate\":\"Feature 1=%{x}\\u003cbr\\u003eFeature 2=%{y}\\u003cextra\\u003e\\u003c\\u002fextra\\u003e\",\"legendgroup\":\"\",\"marker\":{\"color\":\"indianred\",\"symbol\":\"circle\",\"line\":{\"color\":\"DarkSlateGrey\",\"width\":1},\"size\":10},\"mode\":\"markers\",\"name\":\"\",\"orientation\":\"v\",\"showlegend\":false,\"x\":[-0.21973214828790177,-1.1843192598952759,-4.875477861541521,-3.7231374720528043,-1.6936158847277551,-1.5889698213072485,-0.336115418446447,-2.585486434238814,-1.465418273879536,-2.4088363116707563,-1.7519674062282353,-1.185353569011471,-1.7685390985313862,-3.505531550350895,-2.877160290344741,-0.2813764757493036,-4.026170473986472,-1.7516338661340658,-0.6584592779356033,-1.2544781548460273,-2.740945736763642,-1.9957823733064386,-2.785519770961819,-2.7280787334228274,-2.307079013491092,-2.3867992691336686,0.26266700535119636,-2.029794311017975,-3.701927518180635,-1.5608110413453846,-1.889485289018659,-3.113277362911529,-3.740618195224361,-2.5670734670325546,-1.7862647917973153,-1.398900622568641,-0.3080963599323763,0.2507180623189029,-2.2642109293146464,-2.68271406684131,-1.6599128483845251,-2.9468748983813793,-1.8285380363719312,-2.9401293775147037,-2.014135724122088,-1.335838883279627,-1.5383363452378274,-0.8647446315122802,-2.427569463686334,-2.9944211093048256,-2.771409217977263,-2.8099247604508197,-1.9893733786658563,-3.7950567876874177,-2.186737790537768,-2.4367243631964235,-1.6296124305779003,-3.8557083717896967,-1.4124660014246198,-1.109249583987951,-0.27129029058515,-4.048539118431663,-2.0526620170545486,-1.9899931462024143,-1.1206547529826265,-0.811360346511415,-2.583646838664801,-2.3125784543401244,-1.7733707208045326,-2.40459120552171,-0.7956655480259343,-1.8614737246193518,-0.9527344474393384,-2.866491700023956,-2.2186944179782215,-1.5788538841272746,-1.9853136499287465,-0.603053548678673,-1.0601356081735789,-2.7248116133469553,-1.5372126655732443,-1.0043673348213606,-0.5705675143361062,-1.2595235726374248,-0.15637607025234335,-2.3921635338334806,-1.835702658981408,-1.106944922286044,-2.8400349575079438,-3.1308227606256813,-3.058526353382921,-2.984621225137125,-1.4223357587484302,-0.22321968319281882,-2.1259170896006236,-0.3266648957839935,-2.1519387089944004,-2.3032323853062824,-1.4515665030400884,-2.9134160054888807,-2.580166178027075,-1.3647995746022081,-1.9777782622734417,-1.310109230633835,-1.0371543319045493,-2.6914036383739393,-1.5322910395101546,-2.1803486914775916,-2.991631652013933,-2.8114249401334765,-1.5766602855898415,-1.5856684585686638,-2.504195595925754,-2.5952442610223265,-0.9722423710849895,-3.17535734937349,-1.7315244389521782,-2.276681662879374,-2.971463509866532,-1.1513396876149198,-2.1978392136138694,-2.3196926290770516,-2.7666202874964005,-1.5321517845678019,-1.739644411027256,-0.8649886808432088,-0.9436113846320269,-2.968795444002894,-1.7294027839073722,-1.8206869554059188,-2.9225743672064217,-2.3976060369741465,-3.4632778208462485,-2.8960818743918306,-2.6576516671586563,-2.075319486204687,-0.17671375075756668,-3.4144508108130536,-2.0154088450528356,-1.8626910242377304,-2.8017109738998567,-1.5124517225636347,-2.619077641476659,-0.7951300751060557,-1.858265978943022,-0.3105705424166867,-1.7092662484781984,-1.6207396997388002,-2.6372044054807513,-2.6903795978373113,-0.3064369006782566,-0.3131931516992079,-0.6607855458047973,-2.6709049928726882,-1.9063977461306798,-1.0965245528544814,-1.275838286809074,-3.0611496514226078,-2.028628735150814,-1.5977499453486073,-0.3130454010117778,-3.5086146984585858,-2.115010944566925,-3.3375004181854484,-0.8031529707424201,-0.6887451679233167,-3.177364649359589,-1.6865181072841422,-1.3973889832849373,-1.5349391809895625,-0.4764073316839943,-0.9450497804440008,-2.0739182262978906,-3.5314626932978523,-1.7249506252607958,-2.7657466720671624,-2.2543750921982553,-2.592203169214632,-1.5212132286464697,-0.9502126213986297,-2.275494370696254,-2.9465315683936146,-2.046419844836443,-2.6717343801620306,-2.324879556347105,-1.8652351846038635,-0.6056570664392771,-3.087604908029226,-2.10518063220111,-0.5259927617444649,-2.1246929573128104,-1.846573637704802,-2.5144196363003566,-2.4398132343440015,-1.3520421531991775,-2.721638478923136,0.07454928418301598,-2.1258658498455656,-1.8491670824967545,-0.6015184248454359,-1.5453230467265715,-3.36360302231862,-1.0415738705346715,-3.4547072097290403,-3.2843187366426188,-2.0447595584248197,-1.1005555432410374,-3.6067359551221867,-2.427972474410261,-2.2083232181883696,-3.505944796010165,-3.157343035821195,-3.7496371049805504,-2.8969476426597005,-1.4964769151677975,-3.8156808560071953,-0.9581837308470034,-2.4861364122752887,-2.3201770165157654,-1.0285462455681855,-1.9668626943554146,-0.16842752961164398,-2.3028900999075383,-1.6843225303728289,-1.3332894661949721,-2.541677178662163,-2.234163296462031,-2.8693986855768037,-1.4327600694366143,-1.53137278432372,-2.450347140337686,-3.5975428415240085,-1.283009166648351,-1.7266785768114734,-2.383110743745929,-1.5555134909153598,-0.48205653885334265,-1.659763837992867,-2.674942421066146,-2.7910396713961685,-2.9159773398555804,-0.30643182731928253,-1.7343166519050386,-1.321705642657256,-1.2009511105976958,-0.07591403783485307,-2.0149069492049425,-1.038280491741531,-1.624246368587749,-3.1470751958776653],\"xaxis\":\"x\",\"y\":[-1.0246371422667155,-0.3861088216916053,-1.2301508416911346,-2.4463348940559584,-1.4475795124392905,-1.3594489259869444,-1.4558411314845032,-2.4613884795470975,-3.46648115166064,-2.5051162370088482,-1.9038191354989278,-2.5942063939782067,-2.9653121038074337,-2.287368684013054,-1.9654280613785673,-2.810059065363319,-2.0673080771882115,-3.034839609005191,-3.9381031243273883,-1.7229292186061578,-2.116328178149021,-1.1901359560143363,-1.7369204787375345,-1.3437267504550312,-1.1879799797707644,-0.9018495932333195,-2.726877871883764,-3.1579802808525543,-3.2170226839085236,-2.5619830076642987,-2.5609360588181485,-2.162714589812504,-0.9628358557445478,-0.6951896598910052,-2.01670956265721,-1.6781736119770456,-2.56506041020904,-1.4284221966472739,-1.0153142708581093,-3.593391459432059,-2.4662060425722783,-3.0676134400530986,-2.623969124464088,-1.2721231989862258,-2.7277941214107813,-1.465053956041222,-2.0667926825263545,-1.4832785227100316,-0.12178724607188607,-1.9930749476428076,-2.4601874822568917,-2.6112678872963246,-2.6542637167066068,-2.9706235308400224,-2.4880483788462024,-2.2588640784604928,-2.3514274136012316,-1.2762161927404385,-1.124682798586893,-3.4388650659783035,-2.749101597052622,-2.1830975620730255,-0.8856902771055029,-1.4663440640741523,-1.2648748594216057,-1.3880166358984183,-2.80226578043528,-2.25924337015721,-2.2165711183346377,-3.347030196639093,-2.422288926380771,-2.3122021794884136,-1.2883033583315118,-1.1536922319913412,-3.000488693987281,-0.5554626875426811,-1.4802058658913033,-2.7949725959313856,-2.707423710297889,-2.416099165710485,-0.6756576751020065,-3.4503057141735187,-2.7599323013304833,-2.1953929812881903,-1.8657046872009486,-0.9646510338831338,-2.7917861813288414,-0.4232679198767386,-1.69519527770099,-1.3724049795546933,-3.2715142530029953,-1.596345822245073,-4.664701867518849,-1.5282322874585268,-1.3121441861718077,-2.1188050154292726,-1.4222432609076119,-0.43407259781521956,-3.3784809251412695,-1.4054980268789208,-1.0872884774230467,-2.589561001043699,-2.5033748706566694,0.46337580043139726,-0.9028384266319998,-2.371143158466898,0.4899302762432578,-2.768719087110496,0.9602667439558101,-1.443991716507413,-0.8893340750127996,-2.631398801105164,-1.5327171436633402,-3.594309342341693,-2.1356773419205513,-3.813520402667011,-2.1941721390853433,-1.2444552862641576,0.045080413003340425,-1.9093901128175181,-1.9622037802539487,-2.3188566070245615,-2.1515225785295997,-1.3316092090431204,-2.8419510948029005,-0.622546366617825,-0.9241589786098201,-1.884567525119438,-2.198049968184266,-2.011006116884204,0.10789005643536109,-2.826780895919424,-2.239899475962625,-1.9467495518486015,-2.2171591184383965,-1.0111577200837183,-0.43133033398723675,-0.008558457014033793,-2.734589905285629,-1.9971530175205774,-2.0323880150811293,-2.4496550351791155,-0.9594134506928602,-2.651818048800611,-0.9953237238105335,-2.6569544908897305,-2.908774951254452,-2.8847493559896478,-1.4294290062847947,-2.3915914969441783,-2.182298787537117,-0.445166495664568,-2.0783752215885944,-3.9855447456263438,-2.568465357200143,-2.8998933045258415,0.8565823894000291,-2.758317959306808,-1.7537340860758934,-1.3446219530602903,-3.2176178542506357,-1.120866073968042,-2.2931986154881114,-1.8443918428278037,-2.9122807272389215,-2.1221899752056137,0.1244630681520893,-3.0957684609303158,-1.6473781651078157,-2.321832847637462,-1.3797032784015562,-1.4642111162338654,-0.4552712528364775,-2.649914623006878,-3.88788880728214,-2.283442970448439,-1.6962551764957041,-2.702398181692358,-3.10248507617467,-1.8938971040928196,-1.7489306735688237,-1.2585288092560156,-2.517317597486647,-3.640560524703148,-1.0803295618433366,-1.4891008973044262,-2.1733685705985173,-3.34788847196908,-1.3734491930003125,-0.4912221439529292,-2.605892230091986,-1.2253835332120504,-2.2713992032397092,-2.1351368594424387,-2.572335121309694,-3.4215347813462293,-2.755016929022248,-0.2772225190610529,-1.5597909735931696,-1.6803604991380854,-0.8728308550348138,-2.1396599290664686,-1.8169435853109213,-2.1896174546144254,-2.456932825455379,-2.703780515121537,-1.812817376368829,-1.7093777540122512,-3.5177373446901608,-1.7961947361237842,-1.348395667912684,-2.4680999829727654,-1.3408319982477308,-1.190298378711843,-2.1432970711353825,-2.1903514985412365,-2.752395980340903,-2.3743145614040078,-0.4330330621789691,-2.035457683343219,-1.9478137673003004,-2.687198588215569,-2.9654981935592657,-1.2851716305529362,-2.5930690081573555,-2.152973615013648,-1.3471855287741368,-0.6431274943921985,0.11354364029954622,-0.979177424641996,-0.292853433047092,-1.2628510847101833,-0.7896932985441667,-2.024454545209066,-2.298525379313074,-1.545342167774106,-3.603722637021453,-1.8423549362727871,-1.0089291496681194,-1.1663535048832294,-1.8523923369946882,-1.7718926049778903,-2.1107970643277247,-2.588155923201243,-1.7877816203578276,-2.8393288540559793,-2.2059856518708014,-2.5240546495302163,-1.5680070263015013,-2.1083968105324598],\"yaxis\":\"y\",\"type\":\"scatter\"}],                        {\"template\":{\"data\":{\"histogram2dcontour\":[{\"type\":\"histogram2dcontour\",\"colorbar\":{\"outlinewidth\":0,\"ticks\":\"\"},\"colorscale\":[[0.0,\"#0d0887\"],[0.1111111111111111,\"#46039f\"],[0.2222222222222222,\"#7201a8\"],[0.3333333333333333,\"#9c179e\"],[0.4444444444444444,\"#bd3786\"],[0.5555555555555556,\"#d8576b\"],[0.6666666666666666,\"#ed7953\"],[0.7777777777777778,\"#fb9f3a\"],[0.8888888888888888,\"#fdca26\"],[1.0,\"#f0f921\"]]}],\"choropleth\":[{\"type\":\"choropleth\",\"colorbar\":{\"outlinewidth\":0,\"ticks\":\"\"}}],\"histogram2d\":[{\"type\":\"histogram2d\",\"colorbar\":{\"outlinewidth\":0,\"ticks\":\"\"},\"colorscale\":[[0.0,\"#0d0887\"],[0.1111111111111111,\"#46039f\"],[0.2222222222222222,\"#7201a8\"],[0.3333333333333333,\"#9c179e\"],[0.4444444444444444,\"#bd3786\"],[0.5555555555555556,\"#d8576b\"],[0.6666666666666666,\"#ed7953\"],[0.7777777777777778,\"#fb9f3a\"],[0.8888888888888888,\"#fdca26\"],[1.0,\"#f0f921\"]]}],\"heatmap\":[{\"type\":\"heatmap\",\"colorbar\":{\"outlinewidth\":0,\"ticks\":\"\"},\"colorscale\":[[0.0,\"#0d0887\"],[0.1111111111111111,\"#46039f\"],[0.2222222222222222,\"#7201a8\"],[0.3333333333333333,\"#9c179e\"],[0.4444444444444444,\"#bd3786\"],[0.5555555555555556,\"#d8576b\"],[0.6666666666666666,\"#ed7953\"],[0.7777777777777778,\"#fb9f3a\"],[0.8888888888888888,\"#fdca26\"],[1.0,\"#f0f921\"]]}],\"heatmapgl\":[{\"type\":\"heatmapgl\",\"colorbar\":{\"outlinewidth\":0,\"ticks\":\"\"},\"colorscale\":[[0.0,\"#0d0887\"],[0.1111111111111111,\"#46039f\"],[0.2222222222222222,\"#7201a8\"],[0.3333333333333333,\"#9c179e\"],[0.4444444444444444,\"#bd3786\"],[0.5555555555555556,\"#d8576b\"],[0.6666666666666666,\"#ed7953\"],[0.7777777777777778,\"#fb9f3a\"],[0.8888888888888888,\"#fdca26\"],[1.0,\"#f0f921\"]]}],\"contourcarpet\":[{\"type\":\"contourcarpet\",\"colorbar\":{\"outlinewidth\":0,\"ticks\":\"\"}}],\"contour\":[{\"type\":\"contour\",\"colorbar\":{\"outlinewidth\":0,\"ticks\":\"\"},\"colorscale\":[[0.0,\"#0d0887\"],[0.1111111111111111,\"#46039f\"],[0.2222222222222222,\"#7201a8\"],[0.3333333333333333,\"#9c179e\"],[0.4444444444444444,\"#bd3786\"],[0.5555555555555556,\"#d8576b\"],[0.6666666666666666,\"#ed7953\"],[0.7777777777777778,\"#fb9f3a\"],[0.8888888888888888,\"#fdca26\"],[1.0,\"#f0f921\"]]}],\"surface\":[{\"type\":\"surface\",\"colorbar\":{\"outlinewidth\":0,\"ticks\":\"\"},\"colorscale\":[[0.0,\"#0d0887\"],[0.1111111111111111,\"#46039f\"],[0.2222222222222222,\"#7201a8\"],[0.3333333333333333,\"#9c179e\"],[0.4444444444444444,\"#bd3786\"],[0.5555555555555556,\"#d8576b\"],[0.6666666666666666,\"#ed7953\"],[0.7777777777777778,\"#fb9f3a\"],[0.8888888888888888,\"#fdca26\"],[1.0,\"#f0f921\"]]}],\"mesh3d\":[{\"type\":\"mesh3d\",\"colorbar\":{\"outlinewidth\":0,\"ticks\":\"\"}}],\"scatter\":[{\"fillpattern\":{\"fillmode\":\"overlay\",\"size\":10,\"solidity\":0.2},\"type\":\"scatter\"}],\"parcoords\":[{\"type\":\"parcoords\",\"line\":{\"colorbar\":{\"outlinewidth\":0,\"ticks\":\"\"}}}],\"scatterpolargl\":[{\"type\":\"scatterpolargl\",\"marker\":{\"colorbar\":{\"outlinewidth\":0,\"ticks\":\"\"}}}],\"bar\":[{\"error_x\":{\"color\":\"#2a3f5f\"},\"error_y\":{\"color\":\"#2a3f5f\"},\"marker\":{\"line\":{\"color\":\"#E5ECF6\",\"width\":0.5},\"pattern\":{\"fillmode\":\"overlay\",\"size\":10,\"solidity\":0.2}},\"type\":\"bar\"}],\"scattergeo\":[{\"type\":\"scattergeo\",\"marker\":{\"colorbar\":{\"outlinewidth\":0,\"ticks\":\"\"}}}],\"scatterpolar\":[{\"type\":\"scatterpolar\",\"marker\":{\"colorbar\":{\"outlinewidth\":0,\"ticks\":\"\"}}}],\"histogram\":[{\"marker\":{\"pattern\":{\"fillmode\":\"overlay\",\"size\":10,\"solidity\":0.2}},\"type\":\"histogram\"}],\"scattergl\":[{\"type\":\"scattergl\",\"marker\":{\"colorbar\":{\"outlinewidth\":0,\"ticks\":\"\"}}}],\"scatter3d\":[{\"type\":\"scatter3d\",\"line\":{\"colorbar\":{\"outlinewidth\":0,\"ticks\":\"\"}},\"marker\":{\"colorbar\":{\"outlinewidth\":0,\"ticks\":\"\"}}}],\"scattermapbox\":[{\"type\":\"scattermapbox\",\"marker\":{\"colorbar\":{\"outlinewidth\":0,\"ticks\":\"\"}}}],\"scatterternary\":[{\"type\":\"scatterternary\",\"marker\":{\"colorbar\":{\"outlinewidth\":0,\"ticks\":\"\"}}}],\"scattercarpet\":[{\"type\":\"scattercarpet\",\"marker\":{\"colorbar\":{\"outlinewidth\":0,\"ticks\":\"\"}}}],\"carpet\":[{\"aaxis\":{\"endlinecolor\":\"#2a3f5f\",\"gridcolor\":\"white\",\"linecolor\":\"white\",\"minorgridcolor\":\"white\",\"startlinecolor\":\"#2a3f5f\"},\"baxis\":{\"endlinecolor\":\"#2a3f5f\",\"gridcolor\":\"white\",\"linecolor\":\"white\",\"minorgridcolor\":\"white\",\"startlinecolor\":\"#2a3f5f\"},\"type\":\"carpet\"}],\"table\":[{\"cells\":{\"fill\":{\"color\":\"#EBF0F8\"},\"line\":{\"color\":\"white\"}},\"header\":{\"fill\":{\"color\":\"#C8D4E3\"},\"line\":{\"color\":\"white\"}},\"type\":\"table\"}],\"barpolar\":[{\"marker\":{\"line\":{\"color\":\"#E5ECF6\",\"width\":0.5},\"pattern\":{\"fillmode\":\"overlay\",\"size\":10,\"solidity\":0.2}},\"type\":\"barpolar\"}],\"pie\":[{\"automargin\":true,\"type\":\"pie\"}]},\"layout\":{\"autotypenumbers\":\"strict\",\"colorway\":[\"#636efa\",\"#EF553B\",\"#00cc96\",\"#ab63fa\",\"#FFA15A\",\"#19d3f3\",\"#FF6692\",\"#B6E880\",\"#FF97FF\",\"#FECB52\"],\"font\":{\"color\":\"#2a3f5f\"},\"hovermode\":\"closest\",\"hoverlabel\":{\"align\":\"left\"},\"paper_bgcolor\":\"white\",\"plot_bgcolor\":\"#E5ECF6\",\"polar\":{\"bgcolor\":\"#E5ECF6\",\"angularaxis\":{\"gridcolor\":\"white\",\"linecolor\":\"white\",\"ticks\":\"\"},\"radialaxis\":{\"gridcolor\":\"white\",\"linecolor\":\"white\",\"ticks\":\"\"}},\"ternary\":{\"bgcolor\":\"#E5ECF6\",\"aaxis\":{\"gridcolor\":\"white\",\"linecolor\":\"white\",\"ticks\":\"\"},\"baxis\":{\"gridcolor\":\"white\",\"linecolor\":\"white\",\"ticks\":\"\"},\"caxis\":{\"gridcolor\":\"white\",\"linecolor\":\"white\",\"ticks\":\"\"}},\"coloraxis\":{\"colorbar\":{\"outlinewidth\":0,\"ticks\":\"\"}},\"colorscale\":{\"sequential\":[[0.0,\"#0d0887\"],[0.1111111111111111,\"#46039f\"],[0.2222222222222222,\"#7201a8\"],[0.3333333333333333,\"#9c179e\"],[0.4444444444444444,\"#bd3786\"],[0.5555555555555556,\"#d8576b\"],[0.6666666666666666,\"#ed7953\"],[0.7777777777777778,\"#fb9f3a\"],[0.8888888888888888,\"#fdca26\"],[1.0,\"#f0f921\"]],\"sequentialminus\":[[0.0,\"#0d0887\"],[0.1111111111111111,\"#46039f\"],[0.2222222222222222,\"#7201a8\"],[0.3333333333333333,\"#9c179e\"],[0.4444444444444444,\"#bd3786\"],[0.5555555555555556,\"#d8576b\"],[0.6666666666666666,\"#ed7953\"],[0.7777777777777778,\"#fb9f3a\"],[0.8888888888888888,\"#fdca26\"],[1.0,\"#f0f921\"]],\"diverging\":[[0,\"#8e0152\"],[0.1,\"#c51b7d\"],[0.2,\"#de77ae\"],[0.3,\"#f1b6da\"],[0.4,\"#fde0ef\"],[0.5,\"#f7f7f7\"],[0.6,\"#e6f5d0\"],[0.7,\"#b8e186\"],[0.8,\"#7fbc41\"],[0.9,\"#4d9221\"],[1,\"#276419\"]]},\"xaxis\":{\"gridcolor\":\"white\",\"linecolor\":\"white\",\"ticks\":\"\",\"title\":{\"standoff\":15},\"zerolinecolor\":\"white\",\"automargin\":true,\"zerolinewidth\":2},\"yaxis\":{\"gridcolor\":\"white\",\"linecolor\":\"white\",\"ticks\":\"\",\"title\":{\"standoff\":15},\"zerolinecolor\":\"white\",\"automargin\":true,\"zerolinewidth\":2},\"scene\":{\"xaxis\":{\"backgroundcolor\":\"#E5ECF6\",\"gridcolor\":\"white\",\"linecolor\":\"white\",\"showbackground\":true,\"ticks\":\"\",\"zerolinecolor\":\"white\",\"gridwidth\":2},\"yaxis\":{\"backgroundcolor\":\"#E5ECF6\",\"gridcolor\":\"white\",\"linecolor\":\"white\",\"showbackground\":true,\"ticks\":\"\",\"zerolinecolor\":\"white\",\"gridwidth\":2},\"zaxis\":{\"backgroundcolor\":\"#E5ECF6\",\"gridcolor\":\"white\",\"linecolor\":\"white\",\"showbackground\":true,\"ticks\":\"\",\"zerolinecolor\":\"white\",\"gridwidth\":2}},\"shapedefaults\":{\"line\":{\"color\":\"#2a3f5f\"}},\"annotationdefaults\":{\"arrowcolor\":\"#2a3f5f\",\"arrowhead\":0,\"arrowwidth\":1},\"geo\":{\"bgcolor\":\"white\",\"landcolor\":\"#E5ECF6\",\"subunitcolor\":\"white\",\"showland\":true,\"showlakes\":true,\"lakecolor\":\"white\"},\"title\":{\"x\":0.05},\"mapbox\":{\"style\":\"light\"}}},\"xaxis\":{\"anchor\":\"y\",\"domain\":[0.0,1.0],\"title\":{\"text\":\"Feature 1\"}},\"yaxis\":{\"anchor\":\"x\",\"domain\":[0.0,1.0],\"title\":{\"text\":\"Feature 2\"}},\"legend\":{\"tracegroupgap\":0},\"title\":{\"text\":\"First Class Points\"},\"height\":500,\"width\":700},                        {\"responsive\": true}                    ).then(function(){\n",
              "                            \n",
              "var gd = document.getElementById('47b6e861-5cb3-4d85-a9a6-405acd13ee61');\n",
              "var x = new MutationObserver(function (mutations, observer) {{\n",
              "        var display = window.getComputedStyle(gd).display;\n",
              "        if (!display || display === 'none') {{\n",
              "            console.log([gd, 'removed!']);\n",
              "            Plotly.purge(gd);\n",
              "            observer.disconnect();\n",
              "        }}\n",
              "}});\n",
              "\n",
              "// Listen for the removal of the full notebook cells\n",
              "var notebookContainer = gd.closest('#notebook-container');\n",
              "if (notebookContainer) {{\n",
              "    x.observe(notebookContainer, {childList: true});\n",
              "}}\n",
              "\n",
              "// Listen for the clearing of the current output cell\n",
              "var outputEl = gd.closest('.output');\n",
              "if (outputEl) {{\n",
              "    x.observe(outputEl, {childList: true});\n",
              "}}\n",
              "\n",
              "                        })                };                            </script>        </div>\n",
              "</body>\n",
              "</html>"
            ]
          },
          "metadata": {}
        }
      ]
    },
    {
      "cell_type": "code",
      "source": [
        "class1_labels = np.ones((num_samples_class1, 1), dtype = int)\n",
        "print(f'Shape = {class1_labels.shape}\\tType = {type(class1_labels)}\\n')\n",
        "pd.Series(class1_labels.flatten()).head()"
      ],
      "metadata": {
        "colab": {
          "base_uri": "https://localhost:8080/"
        },
        "id": "6JnDQsoveXZ3",
        "outputId": "be178292-ddcb-4f24-9cb0-fe637da85b38"
      },
      "execution_count": 12,
      "outputs": [
        {
          "output_type": "stream",
          "name": "stdout",
          "text": [
            "Shape = (250, 1)\tType = <class 'numpy.ndarray'>\n",
            "\n"
          ]
        },
        {
          "output_type": "execute_result",
          "data": {
            "text/plain": [
              "0    1\n",
              "1    1\n",
              "2    1\n",
              "3    1\n",
              "4    1\n",
              "dtype: int64"
            ]
          },
          "metadata": {},
          "execution_count": 12
        }
      ]
    },
    {
      "cell_type": "markdown",
      "source": [
        "**For second class**"
      ],
      "metadata": {
        "id": "swU1kn5Oa0hj"
      }
    },
    {
      "cell_type": "code",
      "source": [
        "np.random.seed(0)\n",
        "points_2 = np.random.default_rng().multivariate_normal(mu2, sigma2, num_samples_class2)"
      ],
      "metadata": {
        "id": "Qd3K9AXPa0hj"
      },
      "execution_count": 13,
      "outputs": []
    },
    {
      "cell_type": "code",
      "source": [
        "points_2.shape"
      ],
      "metadata": {
        "colab": {
          "base_uri": "https://localhost:8080/"
        },
        "outputId": "06d9e33c-b233-4d8a-8ba7-f256f291aa36",
        "id": "PhOpMhgKa0hj"
      },
      "execution_count": 14,
      "outputs": [
        {
          "output_type": "execute_result",
          "data": {
            "text/plain": [
              "(250, 2)"
            ]
          },
          "metadata": {},
          "execution_count": 14
        }
      ]
    },
    {
      "cell_type": "code",
      "source": [
        "pd.DataFrame(points_2, columns = ['Feature_1', 'Feature_2']).head()"
      ],
      "metadata": {
        "colab": {
          "base_uri": "https://localhost:8080/",
          "height": 206
        },
        "outputId": "1b5933a8-e8bd-4658-8416-6246cb3bea6a",
        "id": "HuyWnynDa0hk"
      },
      "execution_count": 15,
      "outputs": [
        {
          "output_type": "execute_result",
          "data": {
            "text/plain": [
              "   Feature_1  Feature_2\n",
              "0   5.831511   4.966561\n",
              "1   6.260290   5.010802\n",
              "2   5.155045   4.889583\n",
              "3   4.733564   4.658453\n",
              "4   5.111328   5.290811"
            ],
            "text/html": [
              "\n",
              "  <div id=\"df-492c1d04-25e6-482e-8725-edee92bdffb3\" class=\"colab-df-container\">\n",
              "    <div>\n",
              "<style scoped>\n",
              "    .dataframe tbody tr th:only-of-type {\n",
              "        vertical-align: middle;\n",
              "    }\n",
              "\n",
              "    .dataframe tbody tr th {\n",
              "        vertical-align: top;\n",
              "    }\n",
              "\n",
              "    .dataframe thead th {\n",
              "        text-align: right;\n",
              "    }\n",
              "</style>\n",
              "<table border=\"1\" class=\"dataframe\">\n",
              "  <thead>\n",
              "    <tr style=\"text-align: right;\">\n",
              "      <th></th>\n",
              "      <th>Feature_1</th>\n",
              "      <th>Feature_2</th>\n",
              "    </tr>\n",
              "  </thead>\n",
              "  <tbody>\n",
              "    <tr>\n",
              "      <th>0</th>\n",
              "      <td>5.831511</td>\n",
              "      <td>4.966561</td>\n",
              "    </tr>\n",
              "    <tr>\n",
              "      <th>1</th>\n",
              "      <td>6.260290</td>\n",
              "      <td>5.010802</td>\n",
              "    </tr>\n",
              "    <tr>\n",
              "      <th>2</th>\n",
              "      <td>5.155045</td>\n",
              "      <td>4.889583</td>\n",
              "    </tr>\n",
              "    <tr>\n",
              "      <th>3</th>\n",
              "      <td>4.733564</td>\n",
              "      <td>4.658453</td>\n",
              "    </tr>\n",
              "    <tr>\n",
              "      <th>4</th>\n",
              "      <td>5.111328</td>\n",
              "      <td>5.290811</td>\n",
              "    </tr>\n",
              "  </tbody>\n",
              "</table>\n",
              "</div>\n",
              "    <div class=\"colab-df-buttons\">\n",
              "\n",
              "  <div class=\"colab-df-container\">\n",
              "    <button class=\"colab-df-convert\" onclick=\"convertToInteractive('df-492c1d04-25e6-482e-8725-edee92bdffb3')\"\n",
              "            title=\"Convert this dataframe to an interactive table.\"\n",
              "            style=\"display:none;\">\n",
              "\n",
              "  <svg xmlns=\"http://www.w3.org/2000/svg\" height=\"24px\" viewBox=\"0 -960 960 960\">\n",
              "    <path d=\"M120-120v-720h720v720H120Zm60-500h600v-160H180v160Zm220 220h160v-160H400v160Zm0 220h160v-160H400v160ZM180-400h160v-160H180v160Zm440 0h160v-160H620v160ZM180-180h160v-160H180v160Zm440 0h160v-160H620v160Z\"/>\n",
              "  </svg>\n",
              "    </button>\n",
              "\n",
              "  <style>\n",
              "    .colab-df-container {\n",
              "      display:flex;\n",
              "      gap: 12px;\n",
              "    }\n",
              "\n",
              "    .colab-df-convert {\n",
              "      background-color: #E8F0FE;\n",
              "      border: none;\n",
              "      border-radius: 50%;\n",
              "      cursor: pointer;\n",
              "      display: none;\n",
              "      fill: #1967D2;\n",
              "      height: 32px;\n",
              "      padding: 0 0 0 0;\n",
              "      width: 32px;\n",
              "    }\n",
              "\n",
              "    .colab-df-convert:hover {\n",
              "      background-color: #E2EBFA;\n",
              "      box-shadow: 0px 1px 2px rgba(60, 64, 67, 0.3), 0px 1px 3px 1px rgba(60, 64, 67, 0.15);\n",
              "      fill: #174EA6;\n",
              "    }\n",
              "\n",
              "    .colab-df-buttons div {\n",
              "      margin-bottom: 4px;\n",
              "    }\n",
              "\n",
              "    [theme=dark] .colab-df-convert {\n",
              "      background-color: #3B4455;\n",
              "      fill: #D2E3FC;\n",
              "    }\n",
              "\n",
              "    [theme=dark] .colab-df-convert:hover {\n",
              "      background-color: #434B5C;\n",
              "      box-shadow: 0px 1px 3px 1px rgba(0, 0, 0, 0.15);\n",
              "      filter: drop-shadow(0px 1px 2px rgba(0, 0, 0, 0.3));\n",
              "      fill: #FFFFFF;\n",
              "    }\n",
              "  </style>\n",
              "\n",
              "    <script>\n",
              "      const buttonEl =\n",
              "        document.querySelector('#df-492c1d04-25e6-482e-8725-edee92bdffb3 button.colab-df-convert');\n",
              "      buttonEl.style.display =\n",
              "        google.colab.kernel.accessAllowed ? 'block' : 'none';\n",
              "\n",
              "      async function convertToInteractive(key) {\n",
              "        const element = document.querySelector('#df-492c1d04-25e6-482e-8725-edee92bdffb3');\n",
              "        const dataTable =\n",
              "          await google.colab.kernel.invokeFunction('convertToInteractive',\n",
              "                                                    [key], {});\n",
              "        if (!dataTable) return;\n",
              "\n",
              "        const docLinkHtml = 'Like what you see? Visit the ' +\n",
              "          '<a target=\"_blank\" href=https://colab.research.google.com/notebooks/data_table.ipynb>data table notebook</a>'\n",
              "          + ' to learn more about interactive tables.';\n",
              "        element.innerHTML = '';\n",
              "        dataTable['output_type'] = 'display_data';\n",
              "        await google.colab.output.renderOutput(dataTable, element);\n",
              "        const docLink = document.createElement('div');\n",
              "        docLink.innerHTML = docLinkHtml;\n",
              "        element.appendChild(docLink);\n",
              "      }\n",
              "    </script>\n",
              "  </div>\n",
              "\n",
              "\n",
              "<div id=\"df-f5aea1d9-d771-44eb-a279-96199c918ad0\">\n",
              "  <button class=\"colab-df-quickchart\" onclick=\"quickchart('df-f5aea1d9-d771-44eb-a279-96199c918ad0')\"\n",
              "            title=\"Suggest charts\"\n",
              "            style=\"display:none;\">\n",
              "\n",
              "<svg xmlns=\"http://www.w3.org/2000/svg\" height=\"24px\"viewBox=\"0 0 24 24\"\n",
              "     width=\"24px\">\n",
              "    <g>\n",
              "        <path d=\"M19 3H5c-1.1 0-2 .9-2 2v14c0 1.1.9 2 2 2h14c1.1 0 2-.9 2-2V5c0-1.1-.9-2-2-2zM9 17H7v-7h2v7zm4 0h-2V7h2v10zm4 0h-2v-4h2v4z\"/>\n",
              "    </g>\n",
              "</svg>\n",
              "  </button>\n",
              "\n",
              "<style>\n",
              "  .colab-df-quickchart {\n",
              "      --bg-color: #E8F0FE;\n",
              "      --fill-color: #1967D2;\n",
              "      --hover-bg-color: #E2EBFA;\n",
              "      --hover-fill-color: #174EA6;\n",
              "      --disabled-fill-color: #AAA;\n",
              "      --disabled-bg-color: #DDD;\n",
              "  }\n",
              "\n",
              "  [theme=dark] .colab-df-quickchart {\n",
              "      --bg-color: #3B4455;\n",
              "      --fill-color: #D2E3FC;\n",
              "      --hover-bg-color: #434B5C;\n",
              "      --hover-fill-color: #FFFFFF;\n",
              "      --disabled-bg-color: #3B4455;\n",
              "      --disabled-fill-color: #666;\n",
              "  }\n",
              "\n",
              "  .colab-df-quickchart {\n",
              "    background-color: var(--bg-color);\n",
              "    border: none;\n",
              "    border-radius: 50%;\n",
              "    cursor: pointer;\n",
              "    display: none;\n",
              "    fill: var(--fill-color);\n",
              "    height: 32px;\n",
              "    padding: 0;\n",
              "    width: 32px;\n",
              "  }\n",
              "\n",
              "  .colab-df-quickchart:hover {\n",
              "    background-color: var(--hover-bg-color);\n",
              "    box-shadow: 0 1px 2px rgba(60, 64, 67, 0.3), 0 1px 3px 1px rgba(60, 64, 67, 0.15);\n",
              "    fill: var(--button-hover-fill-color);\n",
              "  }\n",
              "\n",
              "  .colab-df-quickchart-complete:disabled,\n",
              "  .colab-df-quickchart-complete:disabled:hover {\n",
              "    background-color: var(--disabled-bg-color);\n",
              "    fill: var(--disabled-fill-color);\n",
              "    box-shadow: none;\n",
              "  }\n",
              "\n",
              "  .colab-df-spinner {\n",
              "    border: 2px solid var(--fill-color);\n",
              "    border-color: transparent;\n",
              "    border-bottom-color: var(--fill-color);\n",
              "    animation:\n",
              "      spin 1s steps(1) infinite;\n",
              "  }\n",
              "\n",
              "  @keyframes spin {\n",
              "    0% {\n",
              "      border-color: transparent;\n",
              "      border-bottom-color: var(--fill-color);\n",
              "      border-left-color: var(--fill-color);\n",
              "    }\n",
              "    20% {\n",
              "      border-color: transparent;\n",
              "      border-left-color: var(--fill-color);\n",
              "      border-top-color: var(--fill-color);\n",
              "    }\n",
              "    30% {\n",
              "      border-color: transparent;\n",
              "      border-left-color: var(--fill-color);\n",
              "      border-top-color: var(--fill-color);\n",
              "      border-right-color: var(--fill-color);\n",
              "    }\n",
              "    40% {\n",
              "      border-color: transparent;\n",
              "      border-right-color: var(--fill-color);\n",
              "      border-top-color: var(--fill-color);\n",
              "    }\n",
              "    60% {\n",
              "      border-color: transparent;\n",
              "      border-right-color: var(--fill-color);\n",
              "    }\n",
              "    80% {\n",
              "      border-color: transparent;\n",
              "      border-right-color: var(--fill-color);\n",
              "      border-bottom-color: var(--fill-color);\n",
              "    }\n",
              "    90% {\n",
              "      border-color: transparent;\n",
              "      border-bottom-color: var(--fill-color);\n",
              "    }\n",
              "  }\n",
              "</style>\n",
              "\n",
              "  <script>\n",
              "    async function quickchart(key) {\n",
              "      const quickchartButtonEl =\n",
              "        document.querySelector('#' + key + ' button');\n",
              "      quickchartButtonEl.disabled = true;  // To prevent multiple clicks.\n",
              "      quickchartButtonEl.classList.add('colab-df-spinner');\n",
              "      try {\n",
              "        const charts = await google.colab.kernel.invokeFunction(\n",
              "            'suggestCharts', [key], {});\n",
              "      } catch (error) {\n",
              "        console.error('Error during call to suggestCharts:', error);\n",
              "      }\n",
              "      quickchartButtonEl.classList.remove('colab-df-spinner');\n",
              "      quickchartButtonEl.classList.add('colab-df-quickchart-complete');\n",
              "    }\n",
              "    (() => {\n",
              "      let quickchartButtonEl =\n",
              "        document.querySelector('#df-f5aea1d9-d771-44eb-a279-96199c918ad0 button');\n",
              "      quickchartButtonEl.style.display =\n",
              "        google.colab.kernel.accessAllowed ? 'block' : 'none';\n",
              "    })();\n",
              "  </script>\n",
              "</div>\n",
              "    </div>\n",
              "  </div>\n"
            ]
          },
          "metadata": {},
          "execution_count": 15
        }
      ]
    },
    {
      "cell_type": "code",
      "source": [
        "points_2.mean(axis=0)"
      ],
      "metadata": {
        "colab": {
          "base_uri": "https://localhost:8080/"
        },
        "outputId": "9d532626-4536-40ca-d411-983eb5484630",
        "id": "3Yy-YN_mMpit"
      },
      "execution_count": 16,
      "outputs": [
        {
          "output_type": "execute_result",
          "data": {
            "text/plain": [
              "array([4.92393426, 4.98937958])"
            ]
          },
          "metadata": {},
          "execution_count": 16
        }
      ]
    },
    {
      "cell_type": "code",
      "source": [
        "np.cov(points_2.T)"
      ],
      "metadata": {
        "colab": {
          "base_uri": "https://localhost:8080/"
        },
        "outputId": "af84e5e7-0524-42ca-c855-78843a28a12a",
        "id": "V31awEbuMpiu"
      },
      "execution_count": 17,
      "outputs": [
        {
          "output_type": "execute_result",
          "data": {
            "text/plain": [
              "array([[5.70099905e-01, 8.65665736e-06],\n",
              "       [8.65665736e-06, 3.02735184e-01]])"
            ]
          },
          "metadata": {},
          "execution_count": 17
        }
      ]
    },
    {
      "cell_type": "code",
      "source": [
        "fig = px.scatter(x = points_2[:, 0], y = points_2[:, 1], width = 700, height = 500,\n",
        "                        color_discrete_sequence = ['slateblue'],\n",
        "                        title = 'Second Class Points',\n",
        "                        labels = {'x' : 'Feature 1', 'y' : 'Feature 2'})\n",
        "\n",
        "fig.update_traces(marker=dict(size = 10,\n",
        "                              line = dict(width = 1,\n",
        "                                        color = 'DarkSlateGrey')))\n",
        "fig.show()\n",
        "fig.write_image('Second Class Points.png')"
      ],
      "metadata": {
        "colab": {
          "base_uri": "https://localhost:8080/",
          "height": 517
        },
        "id": "1zU_BDvgbjkE",
        "outputId": "977b0596-e247-4de0-9ca0-5d29e676fad9"
      },
      "execution_count": 18,
      "outputs": [
        {
          "output_type": "display_data",
          "data": {
            "text/html": [
              "<html>\n",
              "<head><meta charset=\"utf-8\" /></head>\n",
              "<body>\n",
              "    <div>            <script src=\"https://cdnjs.cloudflare.com/ajax/libs/mathjax/2.7.5/MathJax.js?config=TeX-AMS-MML_SVG\"></script><script type=\"text/javascript\">if (window.MathJax && window.MathJax.Hub && window.MathJax.Hub.Config) {window.MathJax.Hub.Config({SVG: {font: \"STIX-Web\"}});}</script>                <script type=\"text/javascript\">window.PlotlyConfig = {MathJaxConfig: 'local'};</script>\n",
              "        <script charset=\"utf-8\" src=\"https://cdn.plot.ly/plotly-2.24.1.min.js\"></script>                <div id=\"91bbc72e-07f6-49ef-9a1c-76034e1007ce\" class=\"plotly-graph-div\" style=\"height:500px; width:700px;\"></div>            <script type=\"text/javascript\">                                    window.PLOTLYENV=window.PLOTLYENV || {};                                    if (document.getElementById(\"91bbc72e-07f6-49ef-9a1c-76034e1007ce\")) {                    Plotly.newPlot(                        \"91bbc72e-07f6-49ef-9a1c-76034e1007ce\",                        [{\"hovertemplate\":\"Feature 1=%{x}\\u003cbr\\u003eFeature 2=%{y}\\u003cextra\\u003e\\u003c\\u002fextra\\u003e\",\"legendgroup\":\"\",\"marker\":{\"color\":\"slateblue\",\"symbol\":\"circle\",\"line\":{\"color\":\"DarkSlateGrey\",\"width\":1},\"size\":10},\"mode\":\"markers\",\"name\":\"\",\"orientation\":\"v\",\"showlegend\":false,\"x\":[5.831510677802569,6.260290151556317,5.155044802402842,4.73356414516198,5.111328123896125,4.814224048233456,5.062801880077302,5.552283468105994,5.8882186939667704,4.439172466686228,4.6705841250137885,4.19468745840529,4.198416867442816,4.893716781955829,4.768148675325424,4.701902398153544,4.305547666014198,5.551842846767624,4.466816155007111,3.4057652537029552,4.387141459137136,3.9018540564788236,3.9156922137481116,4.628760836033701,5.440012857875574,4.486722595777003,3.3525377481664553,5.8411225116502346,3.9718621095139373,3.4599797273226076,5.91186165473537,5.650750844325105,4.522676635320995,5.189808893182481,5.496641485205017,4.930798088207432,5.660966656307368,5.326333066508911,4.8008339363196555,5.375790322542966,3.0068470407511314,4.014158390468744,5.373812633736447,6.077048070928333,5.171745198426053,4.966200643693722,4.763311921005398,5.12253655125528,3.5745852155055093,4.634567398564501,5.452398040537407,5.689918571569432,3.845589917677618,4.273739535868139,3.338728714296987,4.94307177555797,4.862998189947922,4.682752427340904,3.4946467784556026,5.554418270610858,5.215053868483768,5.7577043661801435,4.677975509150633,6.303387643954991,5.302815596280128,5.189708014501343,4.620267905105556,5.440297657160609,5.166522421225883,5.798925193533176,3.663623407947359,5.220531895267699,5.944035027069193,5.076193373147248,5.382598681049095,4.495788753820572,4.7038460807609495,4.973908396640469,4.860851285926851,5.858324657838788,5.821605887813628,4.343605252496278,4.8332231908347865,6.471013428398413,5.400210891231443,5.402435640435644,3.3964184402921895,5.727354353678309,3.711772131729652,4.6927770486112435,6.109306694651119,5.4794260517576046,4.758741330683462,4.805810413740095,5.408356300678316,4.258614243228708,5.633790775901054,4.923905958861818,4.656690924639836,5.19322467231861,4.83757396003968,4.258400692646789,5.4219760030107915,4.602729094185538,4.692148934048784,4.838576995241791,5.502320220126322,6.462951165339106,4.693105568967427,5.736208040609172,5.090347122227868,4.69398901859948,4.92728688306647,7.3485254894826575,3.6457143753407637,4.934886753893467,4.655342932547635,6.900935102951665,4.809891416531969,4.212520559253758,3.7805607229867806,4.881139229249716,4.913035250136347,5.660633279502464,5.572871693146683,4.831288970369084,5.410719487161716,5.789634414515307,5.905944539266059,4.587550096100313,4.17286654013298,4.314310539384584,4.667742736821266,5.9249927289271245,3.543218865906334,3.4549510986309597,5.195249418924764,6.087268298359697,3.559271370647058,4.651436766936487,4.522543093230349,5.168888977183722,5.0097416963293275,6.018958841021684,5.9988357266058,5.122533076526811,4.781421356407952,5.562899010453145,3.590597361451982,4.871363546386681,3.738855407965233,4.665160203400371,5.235623878153803,4.355676615669078,5.601151045391573,4.774243309102248,5.5928571297491425,5.691352576768043,5.44012102258364,5.200409674509255,5.558917734038969,4.79091408617421,4.265528718052765,6.226389881665699,2.8032309981930803,5.35324489397238,4.659336169827142,4.512174778369709,4.936180308543307,4.686715255433908,4.987160329536204,5.058553597937483,4.943457506662485,4.811951156091722,3.9184552337363705,5.449146305066961,5.114269205853228,4.596297117083277,5.290798373423992,4.221342370018054,4.098712136578465,6.1103739698469,3.7961461341759124,4.9131091864584455,3.5589600358263764,5.766368798546922,5.3997340365537,5.4812653384722525,4.304806403989695,4.641525015460643,5.069786937939531,5.085106073813103,4.312083773017181,5.22902813842505,3.03364647134734,6.095411799089186,4.340916442968252,5.530994944708556,3.8001537878432288,4.873994860723107,5.253725325029806,4.261037111838597,4.2672580647618314,4.979619926838756,4.288774557528101,4.819226471380488,4.460660497126959,4.674501939262543,4.702364900816111,5.881660023149978,4.361150858887819,4.2504015789447465,3.4454023812518577,4.610124281545535,5.3759394796635975,5.23516297454115,5.401750552244876,5.223505024864413,4.604190348819802,5.122067532320372,5.270604079825508,4.67270446015238,5.829435992801921,5.118467842256018,4.654666348069449,4.174120501302051,6.1067401392271,4.402336164404188,4.394109028173835,5.135770584447886,5.1841770252672115,5.643924020180142,5.324263284503909,4.373689951617308,5.172368196515886,5.118109452491798,3.539670010097377,4.1297198347746855,5.866580541310571,5.7344555338922465,4.420651370805542,4.958047018792478,5.694178489295613,3.7799059443980774,5.430409068297999,6.426143164175984,5.7892759480416,6.193319037345946,4.378865680828964,5.327061935786509],\"xaxis\":\"x\",\"y\":[4.966561121008372,5.010801549029113,4.889582597208869,4.658452584086485,5.290811146398163,5.802785539619076,4.6851910097984,3.647559306496739,4.386064262795287,5.400826056993664,4.357781880790702,5.034153676195597,4.680762586969827,5.318535691686537,4.795253881334392,4.876645405141074,4.144188616905002,5.594542772580753,4.967621793336806,4.192242123218747,5.062118352865271,5.759895252644137,5.07439068486181,4.9770198795738665,4.882067245432021,5.158698347854553,4.143216773086941,5.348338767254129,5.070044287934343,4.583829175429482,4.626455376064815,5.837853357401391,5.27598566460494,5.21688317335104,3.8415407843345326,5.496003040326412,4.731862021182973,4.209210750824296,6.098725635111844,4.482676564595468,4.848519188014881,4.25818265806306,4.661641906062613,4.986213471084684,5.820318787679614,3.898141600277806,4.545968410300703,5.256765416112264,5.456782340009672,4.668217234955913,5.096650118818735,5.068024259562593,4.74970461249153,5.818178506715265,5.2204560227713435,4.654868102294362,6.094170275258416,4.996107609175773,5.622355780818883,5.653221273289575,5.217790318198294,4.7384735788563175,4.74536554141355,4.312541884787228,4.506714792957765,5.745312403785734,4.79703065003707,5.093362129311288,5.235298700363602,4.833593631895556,5.133957012542927,4.199364396361387,5.7254532290173525,6.145100802679552,5.592405551656368,4.841625083098355,4.840732936556042,5.3289215156268535,6.462230502127916,5.842297792936316,5.018555143208588,5.3719388125256735,4.969330748177698,4.95688327458236,5.521556468894259,4.727000304892414,5.0240541708377675,4.839275279539666,4.912857294749788,4.254624976087069,6.286112826650601,4.656989314938455,5.087784305886601,4.911913829872878,5.844728597242922,5.416381365787462,5.191591504602523,4.677776649050632,5.258003462702227,5.690134851243708,5.724451488511652,4.232720272495261,4.91398864911988,5.269299251434876,4.865484636415762,4.888722744798172,5.114934105657739,4.57333257139493,4.725756477353678,3.5708507474412716,4.278970473883121,4.3712859116525316,4.913945701705699,4.823664081181853,4.537554471495534,4.799266365469355,6.65266317991676,5.878144641211393,4.94121821668722,5.051271460782728,4.251532360874714,4.8178148547044355,4.638798019140087,5.5017250647958305,3.886709425015974,5.491672622991521,3.7171636328595508,4.529855390801927,4.966602023817448,4.815786868266574,5.09375442334663,4.4025294269504105,4.913110829823694,4.845650074773591,4.344887110652021,4.56719405287844,5.9858200950718885,5.211423717954061,4.437075093864445,5.843001007150134,4.8629618514623285,5.772058357503825,4.6572805604447876,4.221614234608786,5.022952306450103,4.431060639403356,5.554655443067822,4.370924821158477,4.96647680691697,5.135303907101804,4.756521436652938,6.380928507677652,5.466746165111035,4.657845250818645,5.149400236633304,4.928762388868407,4.10063976637184,4.39366408057717,5.592431632272563,4.6122242678046295,5.104911255865197,4.871303341252127,4.762194951171437,5.492142169348578,5.711181372276068,5.334564925812932,4.959356343898064,4.519172360711427,5.080279889499575,4.6760542798362525,4.744410620900362,5.350855437212426,4.071262359779417,4.285828594286321,6.102192352326567,5.710228694501287,5.285084696229726,4.3033044636193845,5.1200441227684514,4.91923231611072,5.119703178803562,4.9788719718396175,5.0719639997211825,5.556402139948319,5.052979781207688,4.5647447243459585,5.1596697531819995,4.621320966954268,4.889951584529261,6.049151059105457,4.63433593863305,4.625625549665724,4.6685596959320455,4.9034098374599955,5.496939969375729,5.513298983121174,4.489291697261633,5.53341722091015,5.0200721167744,5.820560693812363,4.169370251933167,4.929145211704442,5.6372580162246795,4.310340981766267,4.93882710764702,5.01066182526978,5.233548663977366,5.030348684584645,5.062132167394053,4.143160629560321,4.698329917428189,5.276696686192237,4.427809104652194,5.249545024151411,4.836077536665119,4.9311881169388485,4.48629212151154,5.4207203363276,4.305654835503287,4.898455732563275,4.1493835959599465,4.7431922076046895,5.560199031581359,5.003968069042095,4.390175748778335,4.331692517015465,4.530182204839193,5.376286494002399,4.888797365158738,4.952554990629415,5.262290086992598,4.702970399594194,4.900653668239203,5.562848732762777,4.253655369516235,4.759714751437942,6.4222364564118175,4.956517082824565,4.657353289350404,5.567282696623966,5.852743055638387,5.015483489094773,5.011461548208409,5.041961375660944,3.8235972799190012,5.430187729069593,4.711196710769004,6.284334342113295,5.083104811455794,5.618614946413693],\"yaxis\":\"y\",\"type\":\"scatter\"}],                        {\"template\":{\"data\":{\"histogram2dcontour\":[{\"type\":\"histogram2dcontour\",\"colorbar\":{\"outlinewidth\":0,\"ticks\":\"\"},\"colorscale\":[[0.0,\"#0d0887\"],[0.1111111111111111,\"#46039f\"],[0.2222222222222222,\"#7201a8\"],[0.3333333333333333,\"#9c179e\"],[0.4444444444444444,\"#bd3786\"],[0.5555555555555556,\"#d8576b\"],[0.6666666666666666,\"#ed7953\"],[0.7777777777777778,\"#fb9f3a\"],[0.8888888888888888,\"#fdca26\"],[1.0,\"#f0f921\"]]}],\"choropleth\":[{\"type\":\"choropleth\",\"colorbar\":{\"outlinewidth\":0,\"ticks\":\"\"}}],\"histogram2d\":[{\"type\":\"histogram2d\",\"colorbar\":{\"outlinewidth\":0,\"ticks\":\"\"},\"colorscale\":[[0.0,\"#0d0887\"],[0.1111111111111111,\"#46039f\"],[0.2222222222222222,\"#7201a8\"],[0.3333333333333333,\"#9c179e\"],[0.4444444444444444,\"#bd3786\"],[0.5555555555555556,\"#d8576b\"],[0.6666666666666666,\"#ed7953\"],[0.7777777777777778,\"#fb9f3a\"],[0.8888888888888888,\"#fdca26\"],[1.0,\"#f0f921\"]]}],\"heatmap\":[{\"type\":\"heatmap\",\"colorbar\":{\"outlinewidth\":0,\"ticks\":\"\"},\"colorscale\":[[0.0,\"#0d0887\"],[0.1111111111111111,\"#46039f\"],[0.2222222222222222,\"#7201a8\"],[0.3333333333333333,\"#9c179e\"],[0.4444444444444444,\"#bd3786\"],[0.5555555555555556,\"#d8576b\"],[0.6666666666666666,\"#ed7953\"],[0.7777777777777778,\"#fb9f3a\"],[0.8888888888888888,\"#fdca26\"],[1.0,\"#f0f921\"]]}],\"heatmapgl\":[{\"type\":\"heatmapgl\",\"colorbar\":{\"outlinewidth\":0,\"ticks\":\"\"},\"colorscale\":[[0.0,\"#0d0887\"],[0.1111111111111111,\"#46039f\"],[0.2222222222222222,\"#7201a8\"],[0.3333333333333333,\"#9c179e\"],[0.4444444444444444,\"#bd3786\"],[0.5555555555555556,\"#d8576b\"],[0.6666666666666666,\"#ed7953\"],[0.7777777777777778,\"#fb9f3a\"],[0.8888888888888888,\"#fdca26\"],[1.0,\"#f0f921\"]]}],\"contourcarpet\":[{\"type\":\"contourcarpet\",\"colorbar\":{\"outlinewidth\":0,\"ticks\":\"\"}}],\"contour\":[{\"type\":\"contour\",\"colorbar\":{\"outlinewidth\":0,\"ticks\":\"\"},\"colorscale\":[[0.0,\"#0d0887\"],[0.1111111111111111,\"#46039f\"],[0.2222222222222222,\"#7201a8\"],[0.3333333333333333,\"#9c179e\"],[0.4444444444444444,\"#bd3786\"],[0.5555555555555556,\"#d8576b\"],[0.6666666666666666,\"#ed7953\"],[0.7777777777777778,\"#fb9f3a\"],[0.8888888888888888,\"#fdca26\"],[1.0,\"#f0f921\"]]}],\"surface\":[{\"type\":\"surface\",\"colorbar\":{\"outlinewidth\":0,\"ticks\":\"\"},\"colorscale\":[[0.0,\"#0d0887\"],[0.1111111111111111,\"#46039f\"],[0.2222222222222222,\"#7201a8\"],[0.3333333333333333,\"#9c179e\"],[0.4444444444444444,\"#bd3786\"],[0.5555555555555556,\"#d8576b\"],[0.6666666666666666,\"#ed7953\"],[0.7777777777777778,\"#fb9f3a\"],[0.8888888888888888,\"#fdca26\"],[1.0,\"#f0f921\"]]}],\"mesh3d\":[{\"type\":\"mesh3d\",\"colorbar\":{\"outlinewidth\":0,\"ticks\":\"\"}}],\"scatter\":[{\"fillpattern\":{\"fillmode\":\"overlay\",\"size\":10,\"solidity\":0.2},\"type\":\"scatter\"}],\"parcoords\":[{\"type\":\"parcoords\",\"line\":{\"colorbar\":{\"outlinewidth\":0,\"ticks\":\"\"}}}],\"scatterpolargl\":[{\"type\":\"scatterpolargl\",\"marker\":{\"colorbar\":{\"outlinewidth\":0,\"ticks\":\"\"}}}],\"bar\":[{\"error_x\":{\"color\":\"#2a3f5f\"},\"error_y\":{\"color\":\"#2a3f5f\"},\"marker\":{\"line\":{\"color\":\"#E5ECF6\",\"width\":0.5},\"pattern\":{\"fillmode\":\"overlay\",\"size\":10,\"solidity\":0.2}},\"type\":\"bar\"}],\"scattergeo\":[{\"type\":\"scattergeo\",\"marker\":{\"colorbar\":{\"outlinewidth\":0,\"ticks\":\"\"}}}],\"scatterpolar\":[{\"type\":\"scatterpolar\",\"marker\":{\"colorbar\":{\"outlinewidth\":0,\"ticks\":\"\"}}}],\"histogram\":[{\"marker\":{\"pattern\":{\"fillmode\":\"overlay\",\"size\":10,\"solidity\":0.2}},\"type\":\"histogram\"}],\"scattergl\":[{\"type\":\"scattergl\",\"marker\":{\"colorbar\":{\"outlinewidth\":0,\"ticks\":\"\"}}}],\"scatter3d\":[{\"type\":\"scatter3d\",\"line\":{\"colorbar\":{\"outlinewidth\":0,\"ticks\":\"\"}},\"marker\":{\"colorbar\":{\"outlinewidth\":0,\"ticks\":\"\"}}}],\"scattermapbox\":[{\"type\":\"scattermapbox\",\"marker\":{\"colorbar\":{\"outlinewidth\":0,\"ticks\":\"\"}}}],\"scatterternary\":[{\"type\":\"scatterternary\",\"marker\":{\"colorbar\":{\"outlinewidth\":0,\"ticks\":\"\"}}}],\"scattercarpet\":[{\"type\":\"scattercarpet\",\"marker\":{\"colorbar\":{\"outlinewidth\":0,\"ticks\":\"\"}}}],\"carpet\":[{\"aaxis\":{\"endlinecolor\":\"#2a3f5f\",\"gridcolor\":\"white\",\"linecolor\":\"white\",\"minorgridcolor\":\"white\",\"startlinecolor\":\"#2a3f5f\"},\"baxis\":{\"endlinecolor\":\"#2a3f5f\",\"gridcolor\":\"white\",\"linecolor\":\"white\",\"minorgridcolor\":\"white\",\"startlinecolor\":\"#2a3f5f\"},\"type\":\"carpet\"}],\"table\":[{\"cells\":{\"fill\":{\"color\":\"#EBF0F8\"},\"line\":{\"color\":\"white\"}},\"header\":{\"fill\":{\"color\":\"#C8D4E3\"},\"line\":{\"color\":\"white\"}},\"type\":\"table\"}],\"barpolar\":[{\"marker\":{\"line\":{\"color\":\"#E5ECF6\",\"width\":0.5},\"pattern\":{\"fillmode\":\"overlay\",\"size\":10,\"solidity\":0.2}},\"type\":\"barpolar\"}],\"pie\":[{\"automargin\":true,\"type\":\"pie\"}]},\"layout\":{\"autotypenumbers\":\"strict\",\"colorway\":[\"#636efa\",\"#EF553B\",\"#00cc96\",\"#ab63fa\",\"#FFA15A\",\"#19d3f3\",\"#FF6692\",\"#B6E880\",\"#FF97FF\",\"#FECB52\"],\"font\":{\"color\":\"#2a3f5f\"},\"hovermode\":\"closest\",\"hoverlabel\":{\"align\":\"left\"},\"paper_bgcolor\":\"white\",\"plot_bgcolor\":\"#E5ECF6\",\"polar\":{\"bgcolor\":\"#E5ECF6\",\"angularaxis\":{\"gridcolor\":\"white\",\"linecolor\":\"white\",\"ticks\":\"\"},\"radialaxis\":{\"gridcolor\":\"white\",\"linecolor\":\"white\",\"ticks\":\"\"}},\"ternary\":{\"bgcolor\":\"#E5ECF6\",\"aaxis\":{\"gridcolor\":\"white\",\"linecolor\":\"white\",\"ticks\":\"\"},\"baxis\":{\"gridcolor\":\"white\",\"linecolor\":\"white\",\"ticks\":\"\"},\"caxis\":{\"gridcolor\":\"white\",\"linecolor\":\"white\",\"ticks\":\"\"}},\"coloraxis\":{\"colorbar\":{\"outlinewidth\":0,\"ticks\":\"\"}},\"colorscale\":{\"sequential\":[[0.0,\"#0d0887\"],[0.1111111111111111,\"#46039f\"],[0.2222222222222222,\"#7201a8\"],[0.3333333333333333,\"#9c179e\"],[0.4444444444444444,\"#bd3786\"],[0.5555555555555556,\"#d8576b\"],[0.6666666666666666,\"#ed7953\"],[0.7777777777777778,\"#fb9f3a\"],[0.8888888888888888,\"#fdca26\"],[1.0,\"#f0f921\"]],\"sequentialminus\":[[0.0,\"#0d0887\"],[0.1111111111111111,\"#46039f\"],[0.2222222222222222,\"#7201a8\"],[0.3333333333333333,\"#9c179e\"],[0.4444444444444444,\"#bd3786\"],[0.5555555555555556,\"#d8576b\"],[0.6666666666666666,\"#ed7953\"],[0.7777777777777778,\"#fb9f3a\"],[0.8888888888888888,\"#fdca26\"],[1.0,\"#f0f921\"]],\"diverging\":[[0,\"#8e0152\"],[0.1,\"#c51b7d\"],[0.2,\"#de77ae\"],[0.3,\"#f1b6da\"],[0.4,\"#fde0ef\"],[0.5,\"#f7f7f7\"],[0.6,\"#e6f5d0\"],[0.7,\"#b8e186\"],[0.8,\"#7fbc41\"],[0.9,\"#4d9221\"],[1,\"#276419\"]]},\"xaxis\":{\"gridcolor\":\"white\",\"linecolor\":\"white\",\"ticks\":\"\",\"title\":{\"standoff\":15},\"zerolinecolor\":\"white\",\"automargin\":true,\"zerolinewidth\":2},\"yaxis\":{\"gridcolor\":\"white\",\"linecolor\":\"white\",\"ticks\":\"\",\"title\":{\"standoff\":15},\"zerolinecolor\":\"white\",\"automargin\":true,\"zerolinewidth\":2},\"scene\":{\"xaxis\":{\"backgroundcolor\":\"#E5ECF6\",\"gridcolor\":\"white\",\"linecolor\":\"white\",\"showbackground\":true,\"ticks\":\"\",\"zerolinecolor\":\"white\",\"gridwidth\":2},\"yaxis\":{\"backgroundcolor\":\"#E5ECF6\",\"gridcolor\":\"white\",\"linecolor\":\"white\",\"showbackground\":true,\"ticks\":\"\",\"zerolinecolor\":\"white\",\"gridwidth\":2},\"zaxis\":{\"backgroundcolor\":\"#E5ECF6\",\"gridcolor\":\"white\",\"linecolor\":\"white\",\"showbackground\":true,\"ticks\":\"\",\"zerolinecolor\":\"white\",\"gridwidth\":2}},\"shapedefaults\":{\"line\":{\"color\":\"#2a3f5f\"}},\"annotationdefaults\":{\"arrowcolor\":\"#2a3f5f\",\"arrowhead\":0,\"arrowwidth\":1},\"geo\":{\"bgcolor\":\"white\",\"landcolor\":\"#E5ECF6\",\"subunitcolor\":\"white\",\"showland\":true,\"showlakes\":true,\"lakecolor\":\"white\"},\"title\":{\"x\":0.05},\"mapbox\":{\"style\":\"light\"}}},\"xaxis\":{\"anchor\":\"y\",\"domain\":[0.0,1.0],\"title\":{\"text\":\"Feature 1\"}},\"yaxis\":{\"anchor\":\"x\",\"domain\":[0.0,1.0],\"title\":{\"text\":\"Feature 2\"}},\"legend\":{\"tracegroupgap\":0},\"title\":{\"text\":\"Second Class Points\"},\"height\":500,\"width\":700},                        {\"responsive\": true}                    ).then(function(){\n",
              "                            \n",
              "var gd = document.getElementById('91bbc72e-07f6-49ef-9a1c-76034e1007ce');\n",
              "var x = new MutationObserver(function (mutations, observer) {{\n",
              "        var display = window.getComputedStyle(gd).display;\n",
              "        if (!display || display === 'none') {{\n",
              "            console.log([gd, 'removed!']);\n",
              "            Plotly.purge(gd);\n",
              "            observer.disconnect();\n",
              "        }}\n",
              "}});\n",
              "\n",
              "// Listen for the removal of the full notebook cells\n",
              "var notebookContainer = gd.closest('#notebook-container');\n",
              "if (notebookContainer) {{\n",
              "    x.observe(notebookContainer, {childList: true});\n",
              "}}\n",
              "\n",
              "// Listen for the clearing of the current output cell\n",
              "var outputEl = gd.closest('.output');\n",
              "if (outputEl) {{\n",
              "    x.observe(outputEl, {childList: true});\n",
              "}}\n",
              "\n",
              "                        })                };                            </script>        </div>\n",
              "</body>\n",
              "</html>"
            ]
          },
          "metadata": {}
        }
      ]
    },
    {
      "cell_type": "code",
      "source": [
        "class2_labels = np.zeros((num_samples_class2, 1), dtype = int)\n",
        "print(f'Shape = {class2_labels.shape}\\tType = {type(class2_labels)}\\n')\n",
        "pd.Series(class2_labels.flatten()).head()"
      ],
      "metadata": {
        "colab": {
          "base_uri": "https://localhost:8080/"
        },
        "id": "Ls0h5Mxhh2sp",
        "outputId": "7692dbcd-b211-4908-9699-e798db79c377"
      },
      "execution_count": 19,
      "outputs": [
        {
          "output_type": "stream",
          "name": "stdout",
          "text": [
            "Shape = (250, 1)\tType = <class 'numpy.ndarray'>\n",
            "\n"
          ]
        },
        {
          "output_type": "execute_result",
          "data": {
            "text/plain": [
              "0    0\n",
              "1    0\n",
              "2    0\n",
              "3    0\n",
              "4    0\n",
              "dtype: int64"
            ]
          },
          "metadata": {},
          "execution_count": 19
        }
      ]
    },
    {
      "cell_type": "markdown",
      "source": [
        "# **Step 3:** Combine both the distribution (classes) and their labels to form a dataset"
      ],
      "metadata": {
        "id": "zn3HVuyGeKDu"
      }
    },
    {
      "cell_type": "code",
      "source": [
        "class1_data = np.hstack((points_1, class1_labels))\n",
        "print(f'Shape = {class1_data.shape}\\n')\n",
        "pd.DataFrame(class1_data, columns = ['Feature_1', 'Feature_2', 'Label']).head()"
      ],
      "metadata": {
        "colab": {
          "base_uri": "https://localhost:8080/",
          "height": 242
        },
        "id": "MuQKh0SOctqO",
        "outputId": "b27e6b74-157b-45e7-9856-e92a895faf6f"
      },
      "execution_count": 20,
      "outputs": [
        {
          "output_type": "stream",
          "name": "stdout",
          "text": [
            "Shape = (250, 3)\n",
            "\n"
          ]
        },
        {
          "output_type": "execute_result",
          "data": {
            "text/plain": [
              "   Feature_1  Feature_2  Label\n",
              "0  -0.219732  -1.024637    1.0\n",
              "1  -1.184319  -0.386109    1.0\n",
              "2  -4.875478  -1.230151    1.0\n",
              "3  -3.723137  -2.446335    1.0\n",
              "4  -1.693616  -1.447580    1.0"
            ],
            "text/html": [
              "\n",
              "  <div id=\"df-76e3beec-4d2a-43d6-8c5a-10d012a291b0\" class=\"colab-df-container\">\n",
              "    <div>\n",
              "<style scoped>\n",
              "    .dataframe tbody tr th:only-of-type {\n",
              "        vertical-align: middle;\n",
              "    }\n",
              "\n",
              "    .dataframe tbody tr th {\n",
              "        vertical-align: top;\n",
              "    }\n",
              "\n",
              "    .dataframe thead th {\n",
              "        text-align: right;\n",
              "    }\n",
              "</style>\n",
              "<table border=\"1\" class=\"dataframe\">\n",
              "  <thead>\n",
              "    <tr style=\"text-align: right;\">\n",
              "      <th></th>\n",
              "      <th>Feature_1</th>\n",
              "      <th>Feature_2</th>\n",
              "      <th>Label</th>\n",
              "    </tr>\n",
              "  </thead>\n",
              "  <tbody>\n",
              "    <tr>\n",
              "      <th>0</th>\n",
              "      <td>-0.219732</td>\n",
              "      <td>-1.024637</td>\n",
              "      <td>1.0</td>\n",
              "    </tr>\n",
              "    <tr>\n",
              "      <th>1</th>\n",
              "      <td>-1.184319</td>\n",
              "      <td>-0.386109</td>\n",
              "      <td>1.0</td>\n",
              "    </tr>\n",
              "    <tr>\n",
              "      <th>2</th>\n",
              "      <td>-4.875478</td>\n",
              "      <td>-1.230151</td>\n",
              "      <td>1.0</td>\n",
              "    </tr>\n",
              "    <tr>\n",
              "      <th>3</th>\n",
              "      <td>-3.723137</td>\n",
              "      <td>-2.446335</td>\n",
              "      <td>1.0</td>\n",
              "    </tr>\n",
              "    <tr>\n",
              "      <th>4</th>\n",
              "      <td>-1.693616</td>\n",
              "      <td>-1.447580</td>\n",
              "      <td>1.0</td>\n",
              "    </tr>\n",
              "  </tbody>\n",
              "</table>\n",
              "</div>\n",
              "    <div class=\"colab-df-buttons\">\n",
              "\n",
              "  <div class=\"colab-df-container\">\n",
              "    <button class=\"colab-df-convert\" onclick=\"convertToInteractive('df-76e3beec-4d2a-43d6-8c5a-10d012a291b0')\"\n",
              "            title=\"Convert this dataframe to an interactive table.\"\n",
              "            style=\"display:none;\">\n",
              "\n",
              "  <svg xmlns=\"http://www.w3.org/2000/svg\" height=\"24px\" viewBox=\"0 -960 960 960\">\n",
              "    <path d=\"M120-120v-720h720v720H120Zm60-500h600v-160H180v160Zm220 220h160v-160H400v160Zm0 220h160v-160H400v160ZM180-400h160v-160H180v160Zm440 0h160v-160H620v160ZM180-180h160v-160H180v160Zm440 0h160v-160H620v160Z\"/>\n",
              "  </svg>\n",
              "    </button>\n",
              "\n",
              "  <style>\n",
              "    .colab-df-container {\n",
              "      display:flex;\n",
              "      gap: 12px;\n",
              "    }\n",
              "\n",
              "    .colab-df-convert {\n",
              "      background-color: #E8F0FE;\n",
              "      border: none;\n",
              "      border-radius: 50%;\n",
              "      cursor: pointer;\n",
              "      display: none;\n",
              "      fill: #1967D2;\n",
              "      height: 32px;\n",
              "      padding: 0 0 0 0;\n",
              "      width: 32px;\n",
              "    }\n",
              "\n",
              "    .colab-df-convert:hover {\n",
              "      background-color: #E2EBFA;\n",
              "      box-shadow: 0px 1px 2px rgba(60, 64, 67, 0.3), 0px 1px 3px 1px rgba(60, 64, 67, 0.15);\n",
              "      fill: #174EA6;\n",
              "    }\n",
              "\n",
              "    .colab-df-buttons div {\n",
              "      margin-bottom: 4px;\n",
              "    }\n",
              "\n",
              "    [theme=dark] .colab-df-convert {\n",
              "      background-color: #3B4455;\n",
              "      fill: #D2E3FC;\n",
              "    }\n",
              "\n",
              "    [theme=dark] .colab-df-convert:hover {\n",
              "      background-color: #434B5C;\n",
              "      box-shadow: 0px 1px 3px 1px rgba(0, 0, 0, 0.15);\n",
              "      filter: drop-shadow(0px 1px 2px rgba(0, 0, 0, 0.3));\n",
              "      fill: #FFFFFF;\n",
              "    }\n",
              "  </style>\n",
              "\n",
              "    <script>\n",
              "      const buttonEl =\n",
              "        document.querySelector('#df-76e3beec-4d2a-43d6-8c5a-10d012a291b0 button.colab-df-convert');\n",
              "      buttonEl.style.display =\n",
              "        google.colab.kernel.accessAllowed ? 'block' : 'none';\n",
              "\n",
              "      async function convertToInteractive(key) {\n",
              "        const element = document.querySelector('#df-76e3beec-4d2a-43d6-8c5a-10d012a291b0');\n",
              "        const dataTable =\n",
              "          await google.colab.kernel.invokeFunction('convertToInteractive',\n",
              "                                                    [key], {});\n",
              "        if (!dataTable) return;\n",
              "\n",
              "        const docLinkHtml = 'Like what you see? Visit the ' +\n",
              "          '<a target=\"_blank\" href=https://colab.research.google.com/notebooks/data_table.ipynb>data table notebook</a>'\n",
              "          + ' to learn more about interactive tables.';\n",
              "        element.innerHTML = '';\n",
              "        dataTable['output_type'] = 'display_data';\n",
              "        await google.colab.output.renderOutput(dataTable, element);\n",
              "        const docLink = document.createElement('div');\n",
              "        docLink.innerHTML = docLinkHtml;\n",
              "        element.appendChild(docLink);\n",
              "      }\n",
              "    </script>\n",
              "  </div>\n",
              "\n",
              "\n",
              "<div id=\"df-b989a265-3917-4e95-be64-7aba3865fe75\">\n",
              "  <button class=\"colab-df-quickchart\" onclick=\"quickchart('df-b989a265-3917-4e95-be64-7aba3865fe75')\"\n",
              "            title=\"Suggest charts\"\n",
              "            style=\"display:none;\">\n",
              "\n",
              "<svg xmlns=\"http://www.w3.org/2000/svg\" height=\"24px\"viewBox=\"0 0 24 24\"\n",
              "     width=\"24px\">\n",
              "    <g>\n",
              "        <path d=\"M19 3H5c-1.1 0-2 .9-2 2v14c0 1.1.9 2 2 2h14c1.1 0 2-.9 2-2V5c0-1.1-.9-2-2-2zM9 17H7v-7h2v7zm4 0h-2V7h2v10zm4 0h-2v-4h2v4z\"/>\n",
              "    </g>\n",
              "</svg>\n",
              "  </button>\n",
              "\n",
              "<style>\n",
              "  .colab-df-quickchart {\n",
              "      --bg-color: #E8F0FE;\n",
              "      --fill-color: #1967D2;\n",
              "      --hover-bg-color: #E2EBFA;\n",
              "      --hover-fill-color: #174EA6;\n",
              "      --disabled-fill-color: #AAA;\n",
              "      --disabled-bg-color: #DDD;\n",
              "  }\n",
              "\n",
              "  [theme=dark] .colab-df-quickchart {\n",
              "      --bg-color: #3B4455;\n",
              "      --fill-color: #D2E3FC;\n",
              "      --hover-bg-color: #434B5C;\n",
              "      --hover-fill-color: #FFFFFF;\n",
              "      --disabled-bg-color: #3B4455;\n",
              "      --disabled-fill-color: #666;\n",
              "  }\n",
              "\n",
              "  .colab-df-quickchart {\n",
              "    background-color: var(--bg-color);\n",
              "    border: none;\n",
              "    border-radius: 50%;\n",
              "    cursor: pointer;\n",
              "    display: none;\n",
              "    fill: var(--fill-color);\n",
              "    height: 32px;\n",
              "    padding: 0;\n",
              "    width: 32px;\n",
              "  }\n",
              "\n",
              "  .colab-df-quickchart:hover {\n",
              "    background-color: var(--hover-bg-color);\n",
              "    box-shadow: 0 1px 2px rgba(60, 64, 67, 0.3), 0 1px 3px 1px rgba(60, 64, 67, 0.15);\n",
              "    fill: var(--button-hover-fill-color);\n",
              "  }\n",
              "\n",
              "  .colab-df-quickchart-complete:disabled,\n",
              "  .colab-df-quickchart-complete:disabled:hover {\n",
              "    background-color: var(--disabled-bg-color);\n",
              "    fill: var(--disabled-fill-color);\n",
              "    box-shadow: none;\n",
              "  }\n",
              "\n",
              "  .colab-df-spinner {\n",
              "    border: 2px solid var(--fill-color);\n",
              "    border-color: transparent;\n",
              "    border-bottom-color: var(--fill-color);\n",
              "    animation:\n",
              "      spin 1s steps(1) infinite;\n",
              "  }\n",
              "\n",
              "  @keyframes spin {\n",
              "    0% {\n",
              "      border-color: transparent;\n",
              "      border-bottom-color: var(--fill-color);\n",
              "      border-left-color: var(--fill-color);\n",
              "    }\n",
              "    20% {\n",
              "      border-color: transparent;\n",
              "      border-left-color: var(--fill-color);\n",
              "      border-top-color: var(--fill-color);\n",
              "    }\n",
              "    30% {\n",
              "      border-color: transparent;\n",
              "      border-left-color: var(--fill-color);\n",
              "      border-top-color: var(--fill-color);\n",
              "      border-right-color: var(--fill-color);\n",
              "    }\n",
              "    40% {\n",
              "      border-color: transparent;\n",
              "      border-right-color: var(--fill-color);\n",
              "      border-top-color: var(--fill-color);\n",
              "    }\n",
              "    60% {\n",
              "      border-color: transparent;\n",
              "      border-right-color: var(--fill-color);\n",
              "    }\n",
              "    80% {\n",
              "      border-color: transparent;\n",
              "      border-right-color: var(--fill-color);\n",
              "      border-bottom-color: var(--fill-color);\n",
              "    }\n",
              "    90% {\n",
              "      border-color: transparent;\n",
              "      border-bottom-color: var(--fill-color);\n",
              "    }\n",
              "  }\n",
              "</style>\n",
              "\n",
              "  <script>\n",
              "    async function quickchart(key) {\n",
              "      const quickchartButtonEl =\n",
              "        document.querySelector('#' + key + ' button');\n",
              "      quickchartButtonEl.disabled = true;  // To prevent multiple clicks.\n",
              "      quickchartButtonEl.classList.add('colab-df-spinner');\n",
              "      try {\n",
              "        const charts = await google.colab.kernel.invokeFunction(\n",
              "            'suggestCharts', [key], {});\n",
              "      } catch (error) {\n",
              "        console.error('Error during call to suggestCharts:', error);\n",
              "      }\n",
              "      quickchartButtonEl.classList.remove('colab-df-spinner');\n",
              "      quickchartButtonEl.classList.add('colab-df-quickchart-complete');\n",
              "    }\n",
              "    (() => {\n",
              "      let quickchartButtonEl =\n",
              "        document.querySelector('#df-b989a265-3917-4e95-be64-7aba3865fe75 button');\n",
              "      quickchartButtonEl.style.display =\n",
              "        google.colab.kernel.accessAllowed ? 'block' : 'none';\n",
              "    })();\n",
              "  </script>\n",
              "</div>\n",
              "    </div>\n",
              "  </div>\n"
            ]
          },
          "metadata": {},
          "execution_count": 20
        }
      ]
    },
    {
      "cell_type": "code",
      "source": [
        "class2_data = np.hstack((points_2, class2_labels))\n",
        "print(f'Shape = {class2_data.shape}\\n')\n",
        "pd.DataFrame(class2_data, columns = ['Feature_1', 'Feature_2', 'Label']).head()"
      ],
      "metadata": {
        "colab": {
          "base_uri": "https://localhost:8080/",
          "height": 242
        },
        "id": "xIIFJ4cNjfj5",
        "outputId": "9c15a67a-1cbf-4174-9d14-4d8e1b9d4601"
      },
      "execution_count": 21,
      "outputs": [
        {
          "output_type": "stream",
          "name": "stdout",
          "text": [
            "Shape = (250, 3)\n",
            "\n"
          ]
        },
        {
          "output_type": "execute_result",
          "data": {
            "text/plain": [
              "   Feature_1  Feature_2  Label\n",
              "0   5.831511   4.966561    0.0\n",
              "1   6.260290   5.010802    0.0\n",
              "2   5.155045   4.889583    0.0\n",
              "3   4.733564   4.658453    0.0\n",
              "4   5.111328   5.290811    0.0"
            ],
            "text/html": [
              "\n",
              "  <div id=\"df-3659a150-a790-4f55-bc2b-a0fd19f12b4f\" class=\"colab-df-container\">\n",
              "    <div>\n",
              "<style scoped>\n",
              "    .dataframe tbody tr th:only-of-type {\n",
              "        vertical-align: middle;\n",
              "    }\n",
              "\n",
              "    .dataframe tbody tr th {\n",
              "        vertical-align: top;\n",
              "    }\n",
              "\n",
              "    .dataframe thead th {\n",
              "        text-align: right;\n",
              "    }\n",
              "</style>\n",
              "<table border=\"1\" class=\"dataframe\">\n",
              "  <thead>\n",
              "    <tr style=\"text-align: right;\">\n",
              "      <th></th>\n",
              "      <th>Feature_1</th>\n",
              "      <th>Feature_2</th>\n",
              "      <th>Label</th>\n",
              "    </tr>\n",
              "  </thead>\n",
              "  <tbody>\n",
              "    <tr>\n",
              "      <th>0</th>\n",
              "      <td>5.831511</td>\n",
              "      <td>4.966561</td>\n",
              "      <td>0.0</td>\n",
              "    </tr>\n",
              "    <tr>\n",
              "      <th>1</th>\n",
              "      <td>6.260290</td>\n",
              "      <td>5.010802</td>\n",
              "      <td>0.0</td>\n",
              "    </tr>\n",
              "    <tr>\n",
              "      <th>2</th>\n",
              "      <td>5.155045</td>\n",
              "      <td>4.889583</td>\n",
              "      <td>0.0</td>\n",
              "    </tr>\n",
              "    <tr>\n",
              "      <th>3</th>\n",
              "      <td>4.733564</td>\n",
              "      <td>4.658453</td>\n",
              "      <td>0.0</td>\n",
              "    </tr>\n",
              "    <tr>\n",
              "      <th>4</th>\n",
              "      <td>5.111328</td>\n",
              "      <td>5.290811</td>\n",
              "      <td>0.0</td>\n",
              "    </tr>\n",
              "  </tbody>\n",
              "</table>\n",
              "</div>\n",
              "    <div class=\"colab-df-buttons\">\n",
              "\n",
              "  <div class=\"colab-df-container\">\n",
              "    <button class=\"colab-df-convert\" onclick=\"convertToInteractive('df-3659a150-a790-4f55-bc2b-a0fd19f12b4f')\"\n",
              "            title=\"Convert this dataframe to an interactive table.\"\n",
              "            style=\"display:none;\">\n",
              "\n",
              "  <svg xmlns=\"http://www.w3.org/2000/svg\" height=\"24px\" viewBox=\"0 -960 960 960\">\n",
              "    <path d=\"M120-120v-720h720v720H120Zm60-500h600v-160H180v160Zm220 220h160v-160H400v160Zm0 220h160v-160H400v160ZM180-400h160v-160H180v160Zm440 0h160v-160H620v160ZM180-180h160v-160H180v160Zm440 0h160v-160H620v160Z\"/>\n",
              "  </svg>\n",
              "    </button>\n",
              "\n",
              "  <style>\n",
              "    .colab-df-container {\n",
              "      display:flex;\n",
              "      gap: 12px;\n",
              "    }\n",
              "\n",
              "    .colab-df-convert {\n",
              "      background-color: #E8F0FE;\n",
              "      border: none;\n",
              "      border-radius: 50%;\n",
              "      cursor: pointer;\n",
              "      display: none;\n",
              "      fill: #1967D2;\n",
              "      height: 32px;\n",
              "      padding: 0 0 0 0;\n",
              "      width: 32px;\n",
              "    }\n",
              "\n",
              "    .colab-df-convert:hover {\n",
              "      background-color: #E2EBFA;\n",
              "      box-shadow: 0px 1px 2px rgba(60, 64, 67, 0.3), 0px 1px 3px 1px rgba(60, 64, 67, 0.15);\n",
              "      fill: #174EA6;\n",
              "    }\n",
              "\n",
              "    .colab-df-buttons div {\n",
              "      margin-bottom: 4px;\n",
              "    }\n",
              "\n",
              "    [theme=dark] .colab-df-convert {\n",
              "      background-color: #3B4455;\n",
              "      fill: #D2E3FC;\n",
              "    }\n",
              "\n",
              "    [theme=dark] .colab-df-convert:hover {\n",
              "      background-color: #434B5C;\n",
              "      box-shadow: 0px 1px 3px 1px rgba(0, 0, 0, 0.15);\n",
              "      filter: drop-shadow(0px 1px 2px rgba(0, 0, 0, 0.3));\n",
              "      fill: #FFFFFF;\n",
              "    }\n",
              "  </style>\n",
              "\n",
              "    <script>\n",
              "      const buttonEl =\n",
              "        document.querySelector('#df-3659a150-a790-4f55-bc2b-a0fd19f12b4f button.colab-df-convert');\n",
              "      buttonEl.style.display =\n",
              "        google.colab.kernel.accessAllowed ? 'block' : 'none';\n",
              "\n",
              "      async function convertToInteractive(key) {\n",
              "        const element = document.querySelector('#df-3659a150-a790-4f55-bc2b-a0fd19f12b4f');\n",
              "        const dataTable =\n",
              "          await google.colab.kernel.invokeFunction('convertToInteractive',\n",
              "                                                    [key], {});\n",
              "        if (!dataTable) return;\n",
              "\n",
              "        const docLinkHtml = 'Like what you see? Visit the ' +\n",
              "          '<a target=\"_blank\" href=https://colab.research.google.com/notebooks/data_table.ipynb>data table notebook</a>'\n",
              "          + ' to learn more about interactive tables.';\n",
              "        element.innerHTML = '';\n",
              "        dataTable['output_type'] = 'display_data';\n",
              "        await google.colab.output.renderOutput(dataTable, element);\n",
              "        const docLink = document.createElement('div');\n",
              "        docLink.innerHTML = docLinkHtml;\n",
              "        element.appendChild(docLink);\n",
              "      }\n",
              "    </script>\n",
              "  </div>\n",
              "\n",
              "\n",
              "<div id=\"df-9380c86e-67ae-4456-b621-0b25562f22a4\">\n",
              "  <button class=\"colab-df-quickchart\" onclick=\"quickchart('df-9380c86e-67ae-4456-b621-0b25562f22a4')\"\n",
              "            title=\"Suggest charts\"\n",
              "            style=\"display:none;\">\n",
              "\n",
              "<svg xmlns=\"http://www.w3.org/2000/svg\" height=\"24px\"viewBox=\"0 0 24 24\"\n",
              "     width=\"24px\">\n",
              "    <g>\n",
              "        <path d=\"M19 3H5c-1.1 0-2 .9-2 2v14c0 1.1.9 2 2 2h14c1.1 0 2-.9 2-2V5c0-1.1-.9-2-2-2zM9 17H7v-7h2v7zm4 0h-2V7h2v10zm4 0h-2v-4h2v4z\"/>\n",
              "    </g>\n",
              "</svg>\n",
              "  </button>\n",
              "\n",
              "<style>\n",
              "  .colab-df-quickchart {\n",
              "      --bg-color: #E8F0FE;\n",
              "      --fill-color: #1967D2;\n",
              "      --hover-bg-color: #E2EBFA;\n",
              "      --hover-fill-color: #174EA6;\n",
              "      --disabled-fill-color: #AAA;\n",
              "      --disabled-bg-color: #DDD;\n",
              "  }\n",
              "\n",
              "  [theme=dark] .colab-df-quickchart {\n",
              "      --bg-color: #3B4455;\n",
              "      --fill-color: #D2E3FC;\n",
              "      --hover-bg-color: #434B5C;\n",
              "      --hover-fill-color: #FFFFFF;\n",
              "      --disabled-bg-color: #3B4455;\n",
              "      --disabled-fill-color: #666;\n",
              "  }\n",
              "\n",
              "  .colab-df-quickchart {\n",
              "    background-color: var(--bg-color);\n",
              "    border: none;\n",
              "    border-radius: 50%;\n",
              "    cursor: pointer;\n",
              "    display: none;\n",
              "    fill: var(--fill-color);\n",
              "    height: 32px;\n",
              "    padding: 0;\n",
              "    width: 32px;\n",
              "  }\n",
              "\n",
              "  .colab-df-quickchart:hover {\n",
              "    background-color: var(--hover-bg-color);\n",
              "    box-shadow: 0 1px 2px rgba(60, 64, 67, 0.3), 0 1px 3px 1px rgba(60, 64, 67, 0.15);\n",
              "    fill: var(--button-hover-fill-color);\n",
              "  }\n",
              "\n",
              "  .colab-df-quickchart-complete:disabled,\n",
              "  .colab-df-quickchart-complete:disabled:hover {\n",
              "    background-color: var(--disabled-bg-color);\n",
              "    fill: var(--disabled-fill-color);\n",
              "    box-shadow: none;\n",
              "  }\n",
              "\n",
              "  .colab-df-spinner {\n",
              "    border: 2px solid var(--fill-color);\n",
              "    border-color: transparent;\n",
              "    border-bottom-color: var(--fill-color);\n",
              "    animation:\n",
              "      spin 1s steps(1) infinite;\n",
              "  }\n",
              "\n",
              "  @keyframes spin {\n",
              "    0% {\n",
              "      border-color: transparent;\n",
              "      border-bottom-color: var(--fill-color);\n",
              "      border-left-color: var(--fill-color);\n",
              "    }\n",
              "    20% {\n",
              "      border-color: transparent;\n",
              "      border-left-color: var(--fill-color);\n",
              "      border-top-color: var(--fill-color);\n",
              "    }\n",
              "    30% {\n",
              "      border-color: transparent;\n",
              "      border-left-color: var(--fill-color);\n",
              "      border-top-color: var(--fill-color);\n",
              "      border-right-color: var(--fill-color);\n",
              "    }\n",
              "    40% {\n",
              "      border-color: transparent;\n",
              "      border-right-color: var(--fill-color);\n",
              "      border-top-color: var(--fill-color);\n",
              "    }\n",
              "    60% {\n",
              "      border-color: transparent;\n",
              "      border-right-color: var(--fill-color);\n",
              "    }\n",
              "    80% {\n",
              "      border-color: transparent;\n",
              "      border-right-color: var(--fill-color);\n",
              "      border-bottom-color: var(--fill-color);\n",
              "    }\n",
              "    90% {\n",
              "      border-color: transparent;\n",
              "      border-bottom-color: var(--fill-color);\n",
              "    }\n",
              "  }\n",
              "</style>\n",
              "\n",
              "  <script>\n",
              "    async function quickchart(key) {\n",
              "      const quickchartButtonEl =\n",
              "        document.querySelector('#' + key + ' button');\n",
              "      quickchartButtonEl.disabled = true;  // To prevent multiple clicks.\n",
              "      quickchartButtonEl.classList.add('colab-df-spinner');\n",
              "      try {\n",
              "        const charts = await google.colab.kernel.invokeFunction(\n",
              "            'suggestCharts', [key], {});\n",
              "      } catch (error) {\n",
              "        console.error('Error during call to suggestCharts:', error);\n",
              "      }\n",
              "      quickchartButtonEl.classList.remove('colab-df-spinner');\n",
              "      quickchartButtonEl.classList.add('colab-df-quickchart-complete');\n",
              "    }\n",
              "    (() => {\n",
              "      let quickchartButtonEl =\n",
              "        document.querySelector('#df-9380c86e-67ae-4456-b621-0b25562f22a4 button');\n",
              "      quickchartButtonEl.style.display =\n",
              "        google.colab.kernel.accessAllowed ? 'block' : 'none';\n",
              "    })();\n",
              "  </script>\n",
              "</div>\n",
              "    </div>\n",
              "  </div>\n"
            ]
          },
          "metadata": {},
          "execution_count": 21
        }
      ]
    },
    {
      "cell_type": "code",
      "source": [
        "dataset = np.vstack((class1_data, class2_data))\n",
        "print(f'Shape = {dataset.shape}\\n')\n",
        "data_df = pd.DataFrame(dataset, columns = ['Feature_1', 'Feature_2', 'Label'])\n",
        "data_df['Label'] = data_df['Label'].astype('int')\n",
        "data_df['Label'] = data_df['Label'].astype('category')\n",
        "data_df.head()"
      ],
      "metadata": {
        "colab": {
          "base_uri": "https://localhost:8080/",
          "height": 242
        },
        "id": "du6WHnVhlD6B",
        "outputId": "1792c78e-d247-43da-91d6-136f9af8aeee"
      },
      "execution_count": 22,
      "outputs": [
        {
          "output_type": "stream",
          "name": "stdout",
          "text": [
            "Shape = (500, 3)\n",
            "\n"
          ]
        },
        {
          "output_type": "execute_result",
          "data": {
            "text/plain": [
              "   Feature_1  Feature_2 Label\n",
              "0  -0.219732  -1.024637     1\n",
              "1  -1.184319  -0.386109     1\n",
              "2  -4.875478  -1.230151     1\n",
              "3  -3.723137  -2.446335     1\n",
              "4  -1.693616  -1.447580     1"
            ],
            "text/html": [
              "\n",
              "  <div id=\"df-0875e861-c03a-4d7e-87a3-f89d43206932\" class=\"colab-df-container\">\n",
              "    <div>\n",
              "<style scoped>\n",
              "    .dataframe tbody tr th:only-of-type {\n",
              "        vertical-align: middle;\n",
              "    }\n",
              "\n",
              "    .dataframe tbody tr th {\n",
              "        vertical-align: top;\n",
              "    }\n",
              "\n",
              "    .dataframe thead th {\n",
              "        text-align: right;\n",
              "    }\n",
              "</style>\n",
              "<table border=\"1\" class=\"dataframe\">\n",
              "  <thead>\n",
              "    <tr style=\"text-align: right;\">\n",
              "      <th></th>\n",
              "      <th>Feature_1</th>\n",
              "      <th>Feature_2</th>\n",
              "      <th>Label</th>\n",
              "    </tr>\n",
              "  </thead>\n",
              "  <tbody>\n",
              "    <tr>\n",
              "      <th>0</th>\n",
              "      <td>-0.219732</td>\n",
              "      <td>-1.024637</td>\n",
              "      <td>1</td>\n",
              "    </tr>\n",
              "    <tr>\n",
              "      <th>1</th>\n",
              "      <td>-1.184319</td>\n",
              "      <td>-0.386109</td>\n",
              "      <td>1</td>\n",
              "    </tr>\n",
              "    <tr>\n",
              "      <th>2</th>\n",
              "      <td>-4.875478</td>\n",
              "      <td>-1.230151</td>\n",
              "      <td>1</td>\n",
              "    </tr>\n",
              "    <tr>\n",
              "      <th>3</th>\n",
              "      <td>-3.723137</td>\n",
              "      <td>-2.446335</td>\n",
              "      <td>1</td>\n",
              "    </tr>\n",
              "    <tr>\n",
              "      <th>4</th>\n",
              "      <td>-1.693616</td>\n",
              "      <td>-1.447580</td>\n",
              "      <td>1</td>\n",
              "    </tr>\n",
              "  </tbody>\n",
              "</table>\n",
              "</div>\n",
              "    <div class=\"colab-df-buttons\">\n",
              "\n",
              "  <div class=\"colab-df-container\">\n",
              "    <button class=\"colab-df-convert\" onclick=\"convertToInteractive('df-0875e861-c03a-4d7e-87a3-f89d43206932')\"\n",
              "            title=\"Convert this dataframe to an interactive table.\"\n",
              "            style=\"display:none;\">\n",
              "\n",
              "  <svg xmlns=\"http://www.w3.org/2000/svg\" height=\"24px\" viewBox=\"0 -960 960 960\">\n",
              "    <path d=\"M120-120v-720h720v720H120Zm60-500h600v-160H180v160Zm220 220h160v-160H400v160Zm0 220h160v-160H400v160ZM180-400h160v-160H180v160Zm440 0h160v-160H620v160ZM180-180h160v-160H180v160Zm440 0h160v-160H620v160Z\"/>\n",
              "  </svg>\n",
              "    </button>\n",
              "\n",
              "  <style>\n",
              "    .colab-df-container {\n",
              "      display:flex;\n",
              "      gap: 12px;\n",
              "    }\n",
              "\n",
              "    .colab-df-convert {\n",
              "      background-color: #E8F0FE;\n",
              "      border: none;\n",
              "      border-radius: 50%;\n",
              "      cursor: pointer;\n",
              "      display: none;\n",
              "      fill: #1967D2;\n",
              "      height: 32px;\n",
              "      padding: 0 0 0 0;\n",
              "      width: 32px;\n",
              "    }\n",
              "\n",
              "    .colab-df-convert:hover {\n",
              "      background-color: #E2EBFA;\n",
              "      box-shadow: 0px 1px 2px rgba(60, 64, 67, 0.3), 0px 1px 3px 1px rgba(60, 64, 67, 0.15);\n",
              "      fill: #174EA6;\n",
              "    }\n",
              "\n",
              "    .colab-df-buttons div {\n",
              "      margin-bottom: 4px;\n",
              "    }\n",
              "\n",
              "    [theme=dark] .colab-df-convert {\n",
              "      background-color: #3B4455;\n",
              "      fill: #D2E3FC;\n",
              "    }\n",
              "\n",
              "    [theme=dark] .colab-df-convert:hover {\n",
              "      background-color: #434B5C;\n",
              "      box-shadow: 0px 1px 3px 1px rgba(0, 0, 0, 0.15);\n",
              "      filter: drop-shadow(0px 1px 2px rgba(0, 0, 0, 0.3));\n",
              "      fill: #FFFFFF;\n",
              "    }\n",
              "  </style>\n",
              "\n",
              "    <script>\n",
              "      const buttonEl =\n",
              "        document.querySelector('#df-0875e861-c03a-4d7e-87a3-f89d43206932 button.colab-df-convert');\n",
              "      buttonEl.style.display =\n",
              "        google.colab.kernel.accessAllowed ? 'block' : 'none';\n",
              "\n",
              "      async function convertToInteractive(key) {\n",
              "        const element = document.querySelector('#df-0875e861-c03a-4d7e-87a3-f89d43206932');\n",
              "        const dataTable =\n",
              "          await google.colab.kernel.invokeFunction('convertToInteractive',\n",
              "                                                    [key], {});\n",
              "        if (!dataTable) return;\n",
              "\n",
              "        const docLinkHtml = 'Like what you see? Visit the ' +\n",
              "          '<a target=\"_blank\" href=https://colab.research.google.com/notebooks/data_table.ipynb>data table notebook</a>'\n",
              "          + ' to learn more about interactive tables.';\n",
              "        element.innerHTML = '';\n",
              "        dataTable['output_type'] = 'display_data';\n",
              "        await google.colab.output.renderOutput(dataTable, element);\n",
              "        const docLink = document.createElement('div');\n",
              "        docLink.innerHTML = docLinkHtml;\n",
              "        element.appendChild(docLink);\n",
              "      }\n",
              "    </script>\n",
              "  </div>\n",
              "\n",
              "\n",
              "<div id=\"df-e7032f82-1951-4ef5-a1a6-e2d3636c6bb5\">\n",
              "  <button class=\"colab-df-quickchart\" onclick=\"quickchart('df-e7032f82-1951-4ef5-a1a6-e2d3636c6bb5')\"\n",
              "            title=\"Suggest charts\"\n",
              "            style=\"display:none;\">\n",
              "\n",
              "<svg xmlns=\"http://www.w3.org/2000/svg\" height=\"24px\"viewBox=\"0 0 24 24\"\n",
              "     width=\"24px\">\n",
              "    <g>\n",
              "        <path d=\"M19 3H5c-1.1 0-2 .9-2 2v14c0 1.1.9 2 2 2h14c1.1 0 2-.9 2-2V5c0-1.1-.9-2-2-2zM9 17H7v-7h2v7zm4 0h-2V7h2v10zm4 0h-2v-4h2v4z\"/>\n",
              "    </g>\n",
              "</svg>\n",
              "  </button>\n",
              "\n",
              "<style>\n",
              "  .colab-df-quickchart {\n",
              "      --bg-color: #E8F0FE;\n",
              "      --fill-color: #1967D2;\n",
              "      --hover-bg-color: #E2EBFA;\n",
              "      --hover-fill-color: #174EA6;\n",
              "      --disabled-fill-color: #AAA;\n",
              "      --disabled-bg-color: #DDD;\n",
              "  }\n",
              "\n",
              "  [theme=dark] .colab-df-quickchart {\n",
              "      --bg-color: #3B4455;\n",
              "      --fill-color: #D2E3FC;\n",
              "      --hover-bg-color: #434B5C;\n",
              "      --hover-fill-color: #FFFFFF;\n",
              "      --disabled-bg-color: #3B4455;\n",
              "      --disabled-fill-color: #666;\n",
              "  }\n",
              "\n",
              "  .colab-df-quickchart {\n",
              "    background-color: var(--bg-color);\n",
              "    border: none;\n",
              "    border-radius: 50%;\n",
              "    cursor: pointer;\n",
              "    display: none;\n",
              "    fill: var(--fill-color);\n",
              "    height: 32px;\n",
              "    padding: 0;\n",
              "    width: 32px;\n",
              "  }\n",
              "\n",
              "  .colab-df-quickchart:hover {\n",
              "    background-color: var(--hover-bg-color);\n",
              "    box-shadow: 0 1px 2px rgba(60, 64, 67, 0.3), 0 1px 3px 1px rgba(60, 64, 67, 0.15);\n",
              "    fill: var(--button-hover-fill-color);\n",
              "  }\n",
              "\n",
              "  .colab-df-quickchart-complete:disabled,\n",
              "  .colab-df-quickchart-complete:disabled:hover {\n",
              "    background-color: var(--disabled-bg-color);\n",
              "    fill: var(--disabled-fill-color);\n",
              "    box-shadow: none;\n",
              "  }\n",
              "\n",
              "  .colab-df-spinner {\n",
              "    border: 2px solid var(--fill-color);\n",
              "    border-color: transparent;\n",
              "    border-bottom-color: var(--fill-color);\n",
              "    animation:\n",
              "      spin 1s steps(1) infinite;\n",
              "  }\n",
              "\n",
              "  @keyframes spin {\n",
              "    0% {\n",
              "      border-color: transparent;\n",
              "      border-bottom-color: var(--fill-color);\n",
              "      border-left-color: var(--fill-color);\n",
              "    }\n",
              "    20% {\n",
              "      border-color: transparent;\n",
              "      border-left-color: var(--fill-color);\n",
              "      border-top-color: var(--fill-color);\n",
              "    }\n",
              "    30% {\n",
              "      border-color: transparent;\n",
              "      border-left-color: var(--fill-color);\n",
              "      border-top-color: var(--fill-color);\n",
              "      border-right-color: var(--fill-color);\n",
              "    }\n",
              "    40% {\n",
              "      border-color: transparent;\n",
              "      border-right-color: var(--fill-color);\n",
              "      border-top-color: var(--fill-color);\n",
              "    }\n",
              "    60% {\n",
              "      border-color: transparent;\n",
              "      border-right-color: var(--fill-color);\n",
              "    }\n",
              "    80% {\n",
              "      border-color: transparent;\n",
              "      border-right-color: var(--fill-color);\n",
              "      border-bottom-color: var(--fill-color);\n",
              "    }\n",
              "    90% {\n",
              "      border-color: transparent;\n",
              "      border-bottom-color: var(--fill-color);\n",
              "    }\n",
              "  }\n",
              "</style>\n",
              "\n",
              "  <script>\n",
              "    async function quickchart(key) {\n",
              "      const quickchartButtonEl =\n",
              "        document.querySelector('#' + key + ' button');\n",
              "      quickchartButtonEl.disabled = true;  // To prevent multiple clicks.\n",
              "      quickchartButtonEl.classList.add('colab-df-spinner');\n",
              "      try {\n",
              "        const charts = await google.colab.kernel.invokeFunction(\n",
              "            'suggestCharts', [key], {});\n",
              "      } catch (error) {\n",
              "        console.error('Error during call to suggestCharts:', error);\n",
              "      }\n",
              "      quickchartButtonEl.classList.remove('colab-df-spinner');\n",
              "      quickchartButtonEl.classList.add('colab-df-quickchart-complete');\n",
              "    }\n",
              "    (() => {\n",
              "      let quickchartButtonEl =\n",
              "        document.querySelector('#df-e7032f82-1951-4ef5-a1a6-e2d3636c6bb5 button');\n",
              "      quickchartButtonEl.style.display =\n",
              "        google.colab.kernel.accessAllowed ? 'block' : 'none';\n",
              "    })();\n",
              "  </script>\n",
              "</div>\n",
              "    </div>\n",
              "  </div>\n"
            ]
          },
          "metadata": {},
          "execution_count": 22
        }
      ]
    },
    {
      "cell_type": "code",
      "source": [
        "print('Labels = ', data_df['Label'].unique())"
      ],
      "metadata": {
        "colab": {
          "base_uri": "https://localhost:8080/"
        },
        "id": "XxlOGoaClR_Q",
        "outputId": "63a10d06-2e09-4cdb-8a8a-e22fc89ebe91"
      },
      "execution_count": 23,
      "outputs": [
        {
          "output_type": "stream",
          "name": "stdout",
          "text": [
            "Labels =  [1, 0]\n",
            "Categories (2, int64): [0, 1]\n"
          ]
        }
      ]
    },
    {
      "cell_type": "code",
      "source": [
        "fig = px.scatter(data_df, x = 'Feature_1', y = 'Feature_2', width = 700, height = 500,\n",
        "                        color = 'Label',\n",
        "                        color_discrete_map={'1': 'indianred', '0': 'slateblue'},\n",
        "                        title = 'Dataset with Two Classes',\n",
        "                        labels={'Feature_1': 'Feature 1', 'Feature_2': 'Feature 2'})\n",
        "\n",
        "\n",
        "fig.update_traces(marker=dict(size = 10,\n",
        "                              line = dict(width = 1,\n",
        "                                        color = 'DarkSlateGrey')))\n",
        "fig.show()\n",
        "fig.write_image('Dataset with Two Classes.png')"
      ],
      "metadata": {
        "colab": {
          "base_uri": "https://localhost:8080/",
          "height": 517
        },
        "id": "GoGgLt6Gk_jh",
        "outputId": "b645b607-d039-4a35-99ad-682b9aa85296"
      },
      "execution_count": 24,
      "outputs": [
        {
          "output_type": "display_data",
          "data": {
            "text/html": [
              "<html>\n",
              "<head><meta charset=\"utf-8\" /></head>\n",
              "<body>\n",
              "    <div>            <script src=\"https://cdnjs.cloudflare.com/ajax/libs/mathjax/2.7.5/MathJax.js?config=TeX-AMS-MML_SVG\"></script><script type=\"text/javascript\">if (window.MathJax && window.MathJax.Hub && window.MathJax.Hub.Config) {window.MathJax.Hub.Config({SVG: {font: \"STIX-Web\"}});}</script>                <script type=\"text/javascript\">window.PlotlyConfig = {MathJaxConfig: 'local'};</script>\n",
              "        <script charset=\"utf-8\" src=\"https://cdn.plot.ly/plotly-2.24.1.min.js\"></script>                <div id=\"74313b4c-d3ee-4e23-ae03-db6edeb3aff2\" class=\"plotly-graph-div\" style=\"height:500px; width:700px;\"></div>            <script type=\"text/javascript\">                                    window.PLOTLYENV=window.PLOTLYENV || {};                                    if (document.getElementById(\"74313b4c-d3ee-4e23-ae03-db6edeb3aff2\")) {                    Plotly.newPlot(                        \"74313b4c-d3ee-4e23-ae03-db6edeb3aff2\",                        [{\"hovertemplate\":\"Label=1\\u003cbr\\u003eFeature 1=%{x}\\u003cbr\\u003eFeature 2=%{y}\\u003cextra\\u003e\\u003c\\u002fextra\\u003e\",\"legendgroup\":\"1\",\"marker\":{\"color\":\"#00cc96\",\"symbol\":\"circle\",\"line\":{\"color\":\"DarkSlateGrey\",\"width\":1},\"size\":10},\"mode\":\"markers\",\"name\":\"1\",\"orientation\":\"v\",\"showlegend\":true,\"x\":[-0.21973214828790177,-1.1843192598952759,-4.875477861541521,-3.7231374720528043,-1.6936158847277551,-1.5889698213072485,-0.336115418446447,-2.585486434238814,-1.465418273879536,-2.4088363116707563,-1.7519674062282353,-1.185353569011471,-1.7685390985313862,-3.505531550350895,-2.877160290344741,-0.2813764757493036,-4.026170473986472,-1.7516338661340658,-0.6584592779356033,-1.2544781548460273,-2.740945736763642,-1.9957823733064386,-2.785519770961819,-2.7280787334228274,-2.307079013491092,-2.3867992691336686,0.26266700535119636,-2.029794311017975,-3.701927518180635,-1.5608110413453846,-1.889485289018659,-3.113277362911529,-3.740618195224361,-2.5670734670325546,-1.7862647917973153,-1.398900622568641,-0.3080963599323763,0.2507180623189029,-2.2642109293146464,-2.68271406684131,-1.6599128483845251,-2.9468748983813793,-1.8285380363719312,-2.9401293775147037,-2.014135724122088,-1.335838883279627,-1.5383363452378274,-0.8647446315122802,-2.427569463686334,-2.9944211093048256,-2.771409217977263,-2.8099247604508197,-1.9893733786658563,-3.7950567876874177,-2.186737790537768,-2.4367243631964235,-1.6296124305779003,-3.8557083717896967,-1.4124660014246198,-1.109249583987951,-0.27129029058515,-4.048539118431663,-2.0526620170545486,-1.9899931462024143,-1.1206547529826265,-0.811360346511415,-2.583646838664801,-2.3125784543401244,-1.7733707208045326,-2.40459120552171,-0.7956655480259343,-1.8614737246193518,-0.9527344474393384,-2.866491700023956,-2.2186944179782215,-1.5788538841272746,-1.9853136499287465,-0.603053548678673,-1.0601356081735789,-2.7248116133469553,-1.5372126655732443,-1.0043673348213606,-0.5705675143361062,-1.2595235726374248,-0.15637607025234335,-2.3921635338334806,-1.835702658981408,-1.106944922286044,-2.8400349575079438,-3.1308227606256813,-3.058526353382921,-2.984621225137125,-1.4223357587484302,-0.22321968319281882,-2.1259170896006236,-0.3266648957839935,-2.1519387089944004,-2.3032323853062824,-1.4515665030400884,-2.9134160054888807,-2.580166178027075,-1.3647995746022081,-1.9777782622734417,-1.310109230633835,-1.0371543319045493,-2.6914036383739393,-1.5322910395101546,-2.1803486914775916,-2.991631652013933,-2.8114249401334765,-1.5766602855898415,-1.5856684585686638,-2.504195595925754,-2.5952442610223265,-0.9722423710849895,-3.17535734937349,-1.7315244389521782,-2.276681662879374,-2.971463509866532,-1.1513396876149198,-2.1978392136138694,-2.3196926290770516,-2.7666202874964005,-1.5321517845678019,-1.739644411027256,-0.8649886808432088,-0.9436113846320269,-2.968795444002894,-1.7294027839073722,-1.8206869554059188,-2.9225743672064217,-2.3976060369741465,-3.4632778208462485,-2.8960818743918306,-2.6576516671586563,-2.075319486204687,-0.17671375075756668,-3.4144508108130536,-2.0154088450528356,-1.8626910242377304,-2.8017109738998567,-1.5124517225636347,-2.619077641476659,-0.7951300751060557,-1.858265978943022,-0.3105705424166867,-1.7092662484781984,-1.6207396997388002,-2.6372044054807513,-2.6903795978373113,-0.3064369006782566,-0.3131931516992079,-0.6607855458047973,-2.6709049928726882,-1.9063977461306798,-1.0965245528544814,-1.275838286809074,-3.0611496514226078,-2.028628735150814,-1.5977499453486073,-0.3130454010117778,-3.5086146984585858,-2.115010944566925,-3.3375004181854484,-0.8031529707424201,-0.6887451679233167,-3.177364649359589,-1.6865181072841422,-1.3973889832849373,-1.5349391809895625,-0.4764073316839943,-0.9450497804440008,-2.0739182262978906,-3.5314626932978523,-1.7249506252607958,-2.7657466720671624,-2.2543750921982553,-2.592203169214632,-1.5212132286464697,-0.9502126213986297,-2.275494370696254,-2.9465315683936146,-2.046419844836443,-2.6717343801620306,-2.324879556347105,-1.8652351846038635,-0.6056570664392771,-3.087604908029226,-2.10518063220111,-0.5259927617444649,-2.1246929573128104,-1.846573637704802,-2.5144196363003566,-2.4398132343440015,-1.3520421531991775,-2.721638478923136,0.07454928418301598,-2.1258658498455656,-1.8491670824967545,-0.6015184248454359,-1.5453230467265715,-3.36360302231862,-1.0415738705346715,-3.4547072097290403,-3.2843187366426188,-2.0447595584248197,-1.1005555432410374,-3.6067359551221867,-2.427972474410261,-2.2083232181883696,-3.505944796010165,-3.157343035821195,-3.7496371049805504,-2.8969476426597005,-1.4964769151677975,-3.8156808560071953,-0.9581837308470034,-2.4861364122752887,-2.3201770165157654,-1.0285462455681855,-1.9668626943554146,-0.16842752961164398,-2.3028900999075383,-1.6843225303728289,-1.3332894661949721,-2.541677178662163,-2.234163296462031,-2.8693986855768037,-1.4327600694366143,-1.53137278432372,-2.450347140337686,-3.5975428415240085,-1.283009166648351,-1.7266785768114734,-2.383110743745929,-1.5555134909153598,-0.48205653885334265,-1.659763837992867,-2.674942421066146,-2.7910396713961685,-2.9159773398555804,-0.30643182731928253,-1.7343166519050386,-1.321705642657256,-1.2009511105976958,-0.07591403783485307,-2.0149069492049425,-1.038280491741531,-1.624246368587749,-3.1470751958776653],\"xaxis\":\"x\",\"y\":[-1.0246371422667155,-0.3861088216916053,-1.2301508416911346,-2.4463348940559584,-1.4475795124392905,-1.3594489259869444,-1.4558411314845032,-2.4613884795470975,-3.46648115166064,-2.5051162370088482,-1.9038191354989278,-2.5942063939782067,-2.9653121038074337,-2.287368684013054,-1.9654280613785673,-2.810059065363319,-2.0673080771882115,-3.034839609005191,-3.9381031243273883,-1.7229292186061578,-2.116328178149021,-1.1901359560143363,-1.7369204787375345,-1.3437267504550312,-1.1879799797707644,-0.9018495932333195,-2.726877871883764,-3.1579802808525543,-3.2170226839085236,-2.5619830076642987,-2.5609360588181485,-2.162714589812504,-0.9628358557445478,-0.6951896598910052,-2.01670956265721,-1.6781736119770456,-2.56506041020904,-1.4284221966472739,-1.0153142708581093,-3.593391459432059,-2.4662060425722783,-3.0676134400530986,-2.623969124464088,-1.2721231989862258,-2.7277941214107813,-1.465053956041222,-2.0667926825263545,-1.4832785227100316,-0.12178724607188607,-1.9930749476428076,-2.4601874822568917,-2.6112678872963246,-2.6542637167066068,-2.9706235308400224,-2.4880483788462024,-2.2588640784604928,-2.3514274136012316,-1.2762161927404385,-1.124682798586893,-3.4388650659783035,-2.749101597052622,-2.1830975620730255,-0.8856902771055029,-1.4663440640741523,-1.2648748594216057,-1.3880166358984183,-2.80226578043528,-2.25924337015721,-2.2165711183346377,-3.347030196639093,-2.422288926380771,-2.3122021794884136,-1.2883033583315118,-1.1536922319913412,-3.000488693987281,-0.5554626875426811,-1.4802058658913033,-2.7949725959313856,-2.707423710297889,-2.416099165710485,-0.6756576751020065,-3.4503057141735187,-2.7599323013304833,-2.1953929812881903,-1.8657046872009486,-0.9646510338831338,-2.7917861813288414,-0.4232679198767386,-1.69519527770099,-1.3724049795546933,-3.2715142530029953,-1.596345822245073,-4.664701867518849,-1.5282322874585268,-1.3121441861718077,-2.1188050154292726,-1.4222432609076119,-0.43407259781521956,-3.3784809251412695,-1.4054980268789208,-1.0872884774230467,-2.589561001043699,-2.5033748706566694,0.46337580043139726,-0.9028384266319998,-2.371143158466898,0.4899302762432578,-2.768719087110496,0.9602667439558101,-1.443991716507413,-0.8893340750127996,-2.631398801105164,-1.5327171436633402,-3.594309342341693,-2.1356773419205513,-3.813520402667011,-2.1941721390853433,-1.2444552862641576,0.045080413003340425,-1.9093901128175181,-1.9622037802539487,-2.3188566070245615,-2.1515225785295997,-1.3316092090431204,-2.8419510948029005,-0.622546366617825,-0.9241589786098201,-1.884567525119438,-2.198049968184266,-2.011006116884204,0.10789005643536109,-2.826780895919424,-2.239899475962625,-1.9467495518486015,-2.2171591184383965,-1.0111577200837183,-0.43133033398723675,-0.008558457014033793,-2.734589905285629,-1.9971530175205774,-2.0323880150811293,-2.4496550351791155,-0.9594134506928602,-2.651818048800611,-0.9953237238105335,-2.6569544908897305,-2.908774951254452,-2.8847493559896478,-1.4294290062847947,-2.3915914969441783,-2.182298787537117,-0.445166495664568,-2.0783752215885944,-3.9855447456263438,-2.568465357200143,-2.8998933045258415,0.8565823894000291,-2.758317959306808,-1.7537340860758934,-1.3446219530602903,-3.2176178542506357,-1.120866073968042,-2.2931986154881114,-1.8443918428278037,-2.9122807272389215,-2.1221899752056137,0.1244630681520893,-3.0957684609303158,-1.6473781651078157,-2.321832847637462,-1.3797032784015562,-1.4642111162338654,-0.4552712528364775,-2.649914623006878,-3.88788880728214,-2.283442970448439,-1.6962551764957041,-2.702398181692358,-3.10248507617467,-1.8938971040928196,-1.7489306735688237,-1.2585288092560156,-2.517317597486647,-3.640560524703148,-1.0803295618433366,-1.4891008973044262,-2.1733685705985173,-3.34788847196908,-1.3734491930003125,-0.4912221439529292,-2.605892230091986,-1.2253835332120504,-2.2713992032397092,-2.1351368594424387,-2.572335121309694,-3.4215347813462293,-2.755016929022248,-0.2772225190610529,-1.5597909735931696,-1.6803604991380854,-0.8728308550348138,-2.1396599290664686,-1.8169435853109213,-2.1896174546144254,-2.456932825455379,-2.703780515121537,-1.812817376368829,-1.7093777540122512,-3.5177373446901608,-1.7961947361237842,-1.348395667912684,-2.4680999829727654,-1.3408319982477308,-1.190298378711843,-2.1432970711353825,-2.1903514985412365,-2.752395980340903,-2.3743145614040078,-0.4330330621789691,-2.035457683343219,-1.9478137673003004,-2.687198588215569,-2.9654981935592657,-1.2851716305529362,-2.5930690081573555,-2.152973615013648,-1.3471855287741368,-0.6431274943921985,0.11354364029954622,-0.979177424641996,-0.292853433047092,-1.2628510847101833,-0.7896932985441667,-2.024454545209066,-2.298525379313074,-1.545342167774106,-3.603722637021453,-1.8423549362727871,-1.0089291496681194,-1.1663535048832294,-1.8523923369946882,-1.7718926049778903,-2.1107970643277247,-2.588155923201243,-1.7877816203578276,-2.8393288540559793,-2.2059856518708014,-2.5240546495302163,-1.5680070263015013,-2.1083968105324598],\"yaxis\":\"y\",\"type\":\"scatter\"},{\"hovertemplate\":\"Label=0\\u003cbr\\u003eFeature 1=%{x}\\u003cbr\\u003eFeature 2=%{y}\\u003cextra\\u003e\\u003c\\u002fextra\\u003e\",\"legendgroup\":\"0\",\"marker\":{\"color\":\"#ab63fa\",\"symbol\":\"circle\",\"line\":{\"color\":\"DarkSlateGrey\",\"width\":1},\"size\":10},\"mode\":\"markers\",\"name\":\"0\",\"orientation\":\"v\",\"showlegend\":true,\"x\":[5.831510677802569,6.260290151556317,5.155044802402842,4.73356414516198,5.111328123896125,4.814224048233456,5.062801880077302,5.552283468105994,5.8882186939667704,4.439172466686228,4.6705841250137885,4.19468745840529,4.198416867442816,4.893716781955829,4.768148675325424,4.701902398153544,4.305547666014198,5.551842846767624,4.466816155007111,3.4057652537029552,4.387141459137136,3.9018540564788236,3.9156922137481116,4.628760836033701,5.440012857875574,4.486722595777003,3.3525377481664553,5.8411225116502346,3.9718621095139373,3.4599797273226076,5.91186165473537,5.650750844325105,4.522676635320995,5.189808893182481,5.496641485205017,4.930798088207432,5.660966656307368,5.326333066508911,4.8008339363196555,5.375790322542966,3.0068470407511314,4.014158390468744,5.373812633736447,6.077048070928333,5.171745198426053,4.966200643693722,4.763311921005398,5.12253655125528,3.5745852155055093,4.634567398564501,5.452398040537407,5.689918571569432,3.845589917677618,4.273739535868139,3.338728714296987,4.94307177555797,4.862998189947922,4.682752427340904,3.4946467784556026,5.554418270610858,5.215053868483768,5.7577043661801435,4.677975509150633,6.303387643954991,5.302815596280128,5.189708014501343,4.620267905105556,5.440297657160609,5.166522421225883,5.798925193533176,3.663623407947359,5.220531895267699,5.944035027069193,5.076193373147248,5.382598681049095,4.495788753820572,4.7038460807609495,4.973908396640469,4.860851285926851,5.858324657838788,5.821605887813628,4.343605252496278,4.8332231908347865,6.471013428398413,5.400210891231443,5.402435640435644,3.3964184402921895,5.727354353678309,3.711772131729652,4.6927770486112435,6.109306694651119,5.4794260517576046,4.758741330683462,4.805810413740095,5.408356300678316,4.258614243228708,5.633790775901054,4.923905958861818,4.656690924639836,5.19322467231861,4.83757396003968,4.258400692646789,5.4219760030107915,4.602729094185538,4.692148934048784,4.838576995241791,5.502320220126322,6.462951165339106,4.693105568967427,5.736208040609172,5.090347122227868,4.69398901859948,4.92728688306647,7.3485254894826575,3.6457143753407637,4.934886753893467,4.655342932547635,6.900935102951665,4.809891416531969,4.212520559253758,3.7805607229867806,4.881139229249716,4.913035250136347,5.660633279502464,5.572871693146683,4.831288970369084,5.410719487161716,5.789634414515307,5.905944539266059,4.587550096100313,4.17286654013298,4.314310539384584,4.667742736821266,5.9249927289271245,3.543218865906334,3.4549510986309597,5.195249418924764,6.087268298359697,3.559271370647058,4.651436766936487,4.522543093230349,5.168888977183722,5.0097416963293275,6.018958841021684,5.9988357266058,5.122533076526811,4.781421356407952,5.562899010453145,3.590597361451982,4.871363546386681,3.738855407965233,4.665160203400371,5.235623878153803,4.355676615669078,5.601151045391573,4.774243309102248,5.5928571297491425,5.691352576768043,5.44012102258364,5.200409674509255,5.558917734038969,4.79091408617421,4.265528718052765,6.226389881665699,2.8032309981930803,5.35324489397238,4.659336169827142,4.512174778369709,4.936180308543307,4.686715255433908,4.987160329536204,5.058553597937483,4.943457506662485,4.811951156091722,3.9184552337363705,5.449146305066961,5.114269205853228,4.596297117083277,5.290798373423992,4.221342370018054,4.098712136578465,6.1103739698469,3.7961461341759124,4.9131091864584455,3.5589600358263764,5.766368798546922,5.3997340365537,5.4812653384722525,4.304806403989695,4.641525015460643,5.069786937939531,5.085106073813103,4.312083773017181,5.22902813842505,3.03364647134734,6.095411799089186,4.340916442968252,5.530994944708556,3.8001537878432288,4.873994860723107,5.253725325029806,4.261037111838597,4.2672580647618314,4.979619926838756,4.288774557528101,4.819226471380488,4.460660497126959,4.674501939262543,4.702364900816111,5.881660023149978,4.361150858887819,4.2504015789447465,3.4454023812518577,4.610124281545535,5.3759394796635975,5.23516297454115,5.401750552244876,5.223505024864413,4.604190348819802,5.122067532320372,5.270604079825508,4.67270446015238,5.829435992801921,5.118467842256018,4.654666348069449,4.174120501302051,6.1067401392271,4.402336164404188,4.394109028173835,5.135770584447886,5.1841770252672115,5.643924020180142,5.324263284503909,4.373689951617308,5.172368196515886,5.118109452491798,3.539670010097377,4.1297198347746855,5.866580541310571,5.7344555338922465,4.420651370805542,4.958047018792478,5.694178489295613,3.7799059443980774,5.430409068297999,6.426143164175984,5.7892759480416,6.193319037345946,4.378865680828964,5.327061935786509],\"xaxis\":\"x\",\"y\":[4.966561121008372,5.010801549029113,4.889582597208869,4.658452584086485,5.290811146398163,5.802785539619076,4.6851910097984,3.647559306496739,4.386064262795287,5.400826056993664,4.357781880790702,5.034153676195597,4.680762586969827,5.318535691686537,4.795253881334392,4.876645405141074,4.144188616905002,5.594542772580753,4.967621793336806,4.192242123218747,5.062118352865271,5.759895252644137,5.07439068486181,4.9770198795738665,4.882067245432021,5.158698347854553,4.143216773086941,5.348338767254129,5.070044287934343,4.583829175429482,4.626455376064815,5.837853357401391,5.27598566460494,5.21688317335104,3.8415407843345326,5.496003040326412,4.731862021182973,4.209210750824296,6.098725635111844,4.482676564595468,4.848519188014881,4.25818265806306,4.661641906062613,4.986213471084684,5.820318787679614,3.898141600277806,4.545968410300703,5.256765416112264,5.456782340009672,4.668217234955913,5.096650118818735,5.068024259562593,4.74970461249153,5.818178506715265,5.2204560227713435,4.654868102294362,6.094170275258416,4.996107609175773,5.622355780818883,5.653221273289575,5.217790318198294,4.7384735788563175,4.74536554141355,4.312541884787228,4.506714792957765,5.745312403785734,4.79703065003707,5.093362129311288,5.235298700363602,4.833593631895556,5.133957012542927,4.199364396361387,5.7254532290173525,6.145100802679552,5.592405551656368,4.841625083098355,4.840732936556042,5.3289215156268535,6.462230502127916,5.842297792936316,5.018555143208588,5.3719388125256735,4.969330748177698,4.95688327458236,5.521556468894259,4.727000304892414,5.0240541708377675,4.839275279539666,4.912857294749788,4.254624976087069,6.286112826650601,4.656989314938455,5.087784305886601,4.911913829872878,5.844728597242922,5.416381365787462,5.191591504602523,4.677776649050632,5.258003462702227,5.690134851243708,5.724451488511652,4.232720272495261,4.91398864911988,5.269299251434876,4.865484636415762,4.888722744798172,5.114934105657739,4.57333257139493,4.725756477353678,3.5708507474412716,4.278970473883121,4.3712859116525316,4.913945701705699,4.823664081181853,4.537554471495534,4.799266365469355,6.65266317991676,5.878144641211393,4.94121821668722,5.051271460782728,4.251532360874714,4.8178148547044355,4.638798019140087,5.5017250647958305,3.886709425015974,5.491672622991521,3.7171636328595508,4.529855390801927,4.966602023817448,4.815786868266574,5.09375442334663,4.4025294269504105,4.913110829823694,4.845650074773591,4.344887110652021,4.56719405287844,5.9858200950718885,5.211423717954061,4.437075093864445,5.843001007150134,4.8629618514623285,5.772058357503825,4.6572805604447876,4.221614234608786,5.022952306450103,4.431060639403356,5.554655443067822,4.370924821158477,4.96647680691697,5.135303907101804,4.756521436652938,6.380928507677652,5.466746165111035,4.657845250818645,5.149400236633304,4.928762388868407,4.10063976637184,4.39366408057717,5.592431632272563,4.6122242678046295,5.104911255865197,4.871303341252127,4.762194951171437,5.492142169348578,5.711181372276068,5.334564925812932,4.959356343898064,4.519172360711427,5.080279889499575,4.6760542798362525,4.744410620900362,5.350855437212426,4.071262359779417,4.285828594286321,6.102192352326567,5.710228694501287,5.285084696229726,4.3033044636193845,5.1200441227684514,4.91923231611072,5.119703178803562,4.9788719718396175,5.0719639997211825,5.556402139948319,5.052979781207688,4.5647447243459585,5.1596697531819995,4.621320966954268,4.889951584529261,6.049151059105457,4.63433593863305,4.625625549665724,4.6685596959320455,4.9034098374599955,5.496939969375729,5.513298983121174,4.489291697261633,5.53341722091015,5.0200721167744,5.820560693812363,4.169370251933167,4.929145211704442,5.6372580162246795,4.310340981766267,4.93882710764702,5.01066182526978,5.233548663977366,5.030348684584645,5.062132167394053,4.143160629560321,4.698329917428189,5.276696686192237,4.427809104652194,5.249545024151411,4.836077536665119,4.9311881169388485,4.48629212151154,5.4207203363276,4.305654835503287,4.898455732563275,4.1493835959599465,4.7431922076046895,5.560199031581359,5.003968069042095,4.390175748778335,4.331692517015465,4.530182204839193,5.376286494002399,4.888797365158738,4.952554990629415,5.262290086992598,4.702970399594194,4.900653668239203,5.562848732762777,4.253655369516235,4.759714751437942,6.4222364564118175,4.956517082824565,4.657353289350404,5.567282696623966,5.852743055638387,5.015483489094773,5.011461548208409,5.041961375660944,3.8235972799190012,5.430187729069593,4.711196710769004,6.284334342113295,5.083104811455794,5.618614946413693],\"yaxis\":\"y\",\"type\":\"scatter\"}],                        {\"template\":{\"data\":{\"histogram2dcontour\":[{\"type\":\"histogram2dcontour\",\"colorbar\":{\"outlinewidth\":0,\"ticks\":\"\"},\"colorscale\":[[0.0,\"#0d0887\"],[0.1111111111111111,\"#46039f\"],[0.2222222222222222,\"#7201a8\"],[0.3333333333333333,\"#9c179e\"],[0.4444444444444444,\"#bd3786\"],[0.5555555555555556,\"#d8576b\"],[0.6666666666666666,\"#ed7953\"],[0.7777777777777778,\"#fb9f3a\"],[0.8888888888888888,\"#fdca26\"],[1.0,\"#f0f921\"]]}],\"choropleth\":[{\"type\":\"choropleth\",\"colorbar\":{\"outlinewidth\":0,\"ticks\":\"\"}}],\"histogram2d\":[{\"type\":\"histogram2d\",\"colorbar\":{\"outlinewidth\":0,\"ticks\":\"\"},\"colorscale\":[[0.0,\"#0d0887\"],[0.1111111111111111,\"#46039f\"],[0.2222222222222222,\"#7201a8\"],[0.3333333333333333,\"#9c179e\"],[0.4444444444444444,\"#bd3786\"],[0.5555555555555556,\"#d8576b\"],[0.6666666666666666,\"#ed7953\"],[0.7777777777777778,\"#fb9f3a\"],[0.8888888888888888,\"#fdca26\"],[1.0,\"#f0f921\"]]}],\"heatmap\":[{\"type\":\"heatmap\",\"colorbar\":{\"outlinewidth\":0,\"ticks\":\"\"},\"colorscale\":[[0.0,\"#0d0887\"],[0.1111111111111111,\"#46039f\"],[0.2222222222222222,\"#7201a8\"],[0.3333333333333333,\"#9c179e\"],[0.4444444444444444,\"#bd3786\"],[0.5555555555555556,\"#d8576b\"],[0.6666666666666666,\"#ed7953\"],[0.7777777777777778,\"#fb9f3a\"],[0.8888888888888888,\"#fdca26\"],[1.0,\"#f0f921\"]]}],\"heatmapgl\":[{\"type\":\"heatmapgl\",\"colorbar\":{\"outlinewidth\":0,\"ticks\":\"\"},\"colorscale\":[[0.0,\"#0d0887\"],[0.1111111111111111,\"#46039f\"],[0.2222222222222222,\"#7201a8\"],[0.3333333333333333,\"#9c179e\"],[0.4444444444444444,\"#bd3786\"],[0.5555555555555556,\"#d8576b\"],[0.6666666666666666,\"#ed7953\"],[0.7777777777777778,\"#fb9f3a\"],[0.8888888888888888,\"#fdca26\"],[1.0,\"#f0f921\"]]}],\"contourcarpet\":[{\"type\":\"contourcarpet\",\"colorbar\":{\"outlinewidth\":0,\"ticks\":\"\"}}],\"contour\":[{\"type\":\"contour\",\"colorbar\":{\"outlinewidth\":0,\"ticks\":\"\"},\"colorscale\":[[0.0,\"#0d0887\"],[0.1111111111111111,\"#46039f\"],[0.2222222222222222,\"#7201a8\"],[0.3333333333333333,\"#9c179e\"],[0.4444444444444444,\"#bd3786\"],[0.5555555555555556,\"#d8576b\"],[0.6666666666666666,\"#ed7953\"],[0.7777777777777778,\"#fb9f3a\"],[0.8888888888888888,\"#fdca26\"],[1.0,\"#f0f921\"]]}],\"surface\":[{\"type\":\"surface\",\"colorbar\":{\"outlinewidth\":0,\"ticks\":\"\"},\"colorscale\":[[0.0,\"#0d0887\"],[0.1111111111111111,\"#46039f\"],[0.2222222222222222,\"#7201a8\"],[0.3333333333333333,\"#9c179e\"],[0.4444444444444444,\"#bd3786\"],[0.5555555555555556,\"#d8576b\"],[0.6666666666666666,\"#ed7953\"],[0.7777777777777778,\"#fb9f3a\"],[0.8888888888888888,\"#fdca26\"],[1.0,\"#f0f921\"]]}],\"mesh3d\":[{\"type\":\"mesh3d\",\"colorbar\":{\"outlinewidth\":0,\"ticks\":\"\"}}],\"scatter\":[{\"fillpattern\":{\"fillmode\":\"overlay\",\"size\":10,\"solidity\":0.2},\"type\":\"scatter\"}],\"parcoords\":[{\"type\":\"parcoords\",\"line\":{\"colorbar\":{\"outlinewidth\":0,\"ticks\":\"\"}}}],\"scatterpolargl\":[{\"type\":\"scatterpolargl\",\"marker\":{\"colorbar\":{\"outlinewidth\":0,\"ticks\":\"\"}}}],\"bar\":[{\"error_x\":{\"color\":\"#2a3f5f\"},\"error_y\":{\"color\":\"#2a3f5f\"},\"marker\":{\"line\":{\"color\":\"#E5ECF6\",\"width\":0.5},\"pattern\":{\"fillmode\":\"overlay\",\"size\":10,\"solidity\":0.2}},\"type\":\"bar\"}],\"scattergeo\":[{\"type\":\"scattergeo\",\"marker\":{\"colorbar\":{\"outlinewidth\":0,\"ticks\":\"\"}}}],\"scatterpolar\":[{\"type\":\"scatterpolar\",\"marker\":{\"colorbar\":{\"outlinewidth\":0,\"ticks\":\"\"}}}],\"histogram\":[{\"marker\":{\"pattern\":{\"fillmode\":\"overlay\",\"size\":10,\"solidity\":0.2}},\"type\":\"histogram\"}],\"scattergl\":[{\"type\":\"scattergl\",\"marker\":{\"colorbar\":{\"outlinewidth\":0,\"ticks\":\"\"}}}],\"scatter3d\":[{\"type\":\"scatter3d\",\"line\":{\"colorbar\":{\"outlinewidth\":0,\"ticks\":\"\"}},\"marker\":{\"colorbar\":{\"outlinewidth\":0,\"ticks\":\"\"}}}],\"scattermapbox\":[{\"type\":\"scattermapbox\",\"marker\":{\"colorbar\":{\"outlinewidth\":0,\"ticks\":\"\"}}}],\"scatterternary\":[{\"type\":\"scatterternary\",\"marker\":{\"colorbar\":{\"outlinewidth\":0,\"ticks\":\"\"}}}],\"scattercarpet\":[{\"type\":\"scattercarpet\",\"marker\":{\"colorbar\":{\"outlinewidth\":0,\"ticks\":\"\"}}}],\"carpet\":[{\"aaxis\":{\"endlinecolor\":\"#2a3f5f\",\"gridcolor\":\"white\",\"linecolor\":\"white\",\"minorgridcolor\":\"white\",\"startlinecolor\":\"#2a3f5f\"},\"baxis\":{\"endlinecolor\":\"#2a3f5f\",\"gridcolor\":\"white\",\"linecolor\":\"white\",\"minorgridcolor\":\"white\",\"startlinecolor\":\"#2a3f5f\"},\"type\":\"carpet\"}],\"table\":[{\"cells\":{\"fill\":{\"color\":\"#EBF0F8\"},\"line\":{\"color\":\"white\"}},\"header\":{\"fill\":{\"color\":\"#C8D4E3\"},\"line\":{\"color\":\"white\"}},\"type\":\"table\"}],\"barpolar\":[{\"marker\":{\"line\":{\"color\":\"#E5ECF6\",\"width\":0.5},\"pattern\":{\"fillmode\":\"overlay\",\"size\":10,\"solidity\":0.2}},\"type\":\"barpolar\"}],\"pie\":[{\"automargin\":true,\"type\":\"pie\"}]},\"layout\":{\"autotypenumbers\":\"strict\",\"colorway\":[\"#636efa\",\"#EF553B\",\"#00cc96\",\"#ab63fa\",\"#FFA15A\",\"#19d3f3\",\"#FF6692\",\"#B6E880\",\"#FF97FF\",\"#FECB52\"],\"font\":{\"color\":\"#2a3f5f\"},\"hovermode\":\"closest\",\"hoverlabel\":{\"align\":\"left\"},\"paper_bgcolor\":\"white\",\"plot_bgcolor\":\"#E5ECF6\",\"polar\":{\"bgcolor\":\"#E5ECF6\",\"angularaxis\":{\"gridcolor\":\"white\",\"linecolor\":\"white\",\"ticks\":\"\"},\"radialaxis\":{\"gridcolor\":\"white\",\"linecolor\":\"white\",\"ticks\":\"\"}},\"ternary\":{\"bgcolor\":\"#E5ECF6\",\"aaxis\":{\"gridcolor\":\"white\",\"linecolor\":\"white\",\"ticks\":\"\"},\"baxis\":{\"gridcolor\":\"white\",\"linecolor\":\"white\",\"ticks\":\"\"},\"caxis\":{\"gridcolor\":\"white\",\"linecolor\":\"white\",\"ticks\":\"\"}},\"coloraxis\":{\"colorbar\":{\"outlinewidth\":0,\"ticks\":\"\"}},\"colorscale\":{\"sequential\":[[0.0,\"#0d0887\"],[0.1111111111111111,\"#46039f\"],[0.2222222222222222,\"#7201a8\"],[0.3333333333333333,\"#9c179e\"],[0.4444444444444444,\"#bd3786\"],[0.5555555555555556,\"#d8576b\"],[0.6666666666666666,\"#ed7953\"],[0.7777777777777778,\"#fb9f3a\"],[0.8888888888888888,\"#fdca26\"],[1.0,\"#f0f921\"]],\"sequentialminus\":[[0.0,\"#0d0887\"],[0.1111111111111111,\"#46039f\"],[0.2222222222222222,\"#7201a8\"],[0.3333333333333333,\"#9c179e\"],[0.4444444444444444,\"#bd3786\"],[0.5555555555555556,\"#d8576b\"],[0.6666666666666666,\"#ed7953\"],[0.7777777777777778,\"#fb9f3a\"],[0.8888888888888888,\"#fdca26\"],[1.0,\"#f0f921\"]],\"diverging\":[[0,\"#8e0152\"],[0.1,\"#c51b7d\"],[0.2,\"#de77ae\"],[0.3,\"#f1b6da\"],[0.4,\"#fde0ef\"],[0.5,\"#f7f7f7\"],[0.6,\"#e6f5d0\"],[0.7,\"#b8e186\"],[0.8,\"#7fbc41\"],[0.9,\"#4d9221\"],[1,\"#276419\"]]},\"xaxis\":{\"gridcolor\":\"white\",\"linecolor\":\"white\",\"ticks\":\"\",\"title\":{\"standoff\":15},\"zerolinecolor\":\"white\",\"automargin\":true,\"zerolinewidth\":2},\"yaxis\":{\"gridcolor\":\"white\",\"linecolor\":\"white\",\"ticks\":\"\",\"title\":{\"standoff\":15},\"zerolinecolor\":\"white\",\"automargin\":true,\"zerolinewidth\":2},\"scene\":{\"xaxis\":{\"backgroundcolor\":\"#E5ECF6\",\"gridcolor\":\"white\",\"linecolor\":\"white\",\"showbackground\":true,\"ticks\":\"\",\"zerolinecolor\":\"white\",\"gridwidth\":2},\"yaxis\":{\"backgroundcolor\":\"#E5ECF6\",\"gridcolor\":\"white\",\"linecolor\":\"white\",\"showbackground\":true,\"ticks\":\"\",\"zerolinecolor\":\"white\",\"gridwidth\":2},\"zaxis\":{\"backgroundcolor\":\"#E5ECF6\",\"gridcolor\":\"white\",\"linecolor\":\"white\",\"showbackground\":true,\"ticks\":\"\",\"zerolinecolor\":\"white\",\"gridwidth\":2}},\"shapedefaults\":{\"line\":{\"color\":\"#2a3f5f\"}},\"annotationdefaults\":{\"arrowcolor\":\"#2a3f5f\",\"arrowhead\":0,\"arrowwidth\":1},\"geo\":{\"bgcolor\":\"white\",\"landcolor\":\"#E5ECF6\",\"subunitcolor\":\"white\",\"showland\":true,\"showlakes\":true,\"lakecolor\":\"white\"},\"title\":{\"x\":0.05},\"mapbox\":{\"style\":\"light\"}}},\"xaxis\":{\"anchor\":\"y\",\"domain\":[0.0,1.0],\"title\":{\"text\":\"Feature 1\"}},\"yaxis\":{\"anchor\":\"x\",\"domain\":[0.0,1.0],\"title\":{\"text\":\"Feature 2\"}},\"legend\":{\"title\":{\"text\":\"Label\"},\"tracegroupgap\":0},\"title\":{\"text\":\"Dataset with Two Classes\"},\"height\":500,\"width\":700},                        {\"responsive\": true}                    ).then(function(){\n",
              "                            \n",
              "var gd = document.getElementById('74313b4c-d3ee-4e23-ae03-db6edeb3aff2');\n",
              "var x = new MutationObserver(function (mutations, observer) {{\n",
              "        var display = window.getComputedStyle(gd).display;\n",
              "        if (!display || display === 'none') {{\n",
              "            console.log([gd, 'removed!']);\n",
              "            Plotly.purge(gd);\n",
              "            observer.disconnect();\n",
              "        }}\n",
              "}});\n",
              "\n",
              "// Listen for the removal of the full notebook cells\n",
              "var notebookContainer = gd.closest('#notebook-container');\n",
              "if (notebookContainer) {{\n",
              "    x.observe(notebookContainer, {childList: true});\n",
              "}}\n",
              "\n",
              "// Listen for the clearing of the current output cell\n",
              "var outputEl = gd.closest('.output');\n",
              "if (outputEl) {{\n",
              "    x.observe(outputEl, {childList: true});\n",
              "}}\n",
              "\n",
              "                        })                };                            </script>        </div>\n",
              "</body>\n",
              "</html>"
            ]
          },
          "metadata": {}
        }
      ]
    },
    {
      "cell_type": "markdown",
      "source": [
        "# **Step 4:** Include bias term by adding a column of ones to input feature matrix."
      ],
      "metadata": {
        "id": "VnYoLK65mEoK"
      }
    },
    {
      "cell_type": "code",
      "source": [
        "bias = np.ones((num_samples_class1 + num_samples_class2, 1))\n",
        "print(f'Shape = {bias.shape}\\tType = {type(bias)}\\n')\n",
        "pd.Series(bias.flatten()).head()"
      ],
      "metadata": {
        "colab": {
          "base_uri": "https://localhost:8080/"
        },
        "id": "IBEEKDEols3V",
        "outputId": "b0ba8b03-a3a5-40a1-c108-94f45996d245"
      },
      "execution_count": 25,
      "outputs": [
        {
          "output_type": "stream",
          "name": "stdout",
          "text": [
            "Shape = (500, 1)\tType = <class 'numpy.ndarray'>\n",
            "\n"
          ]
        },
        {
          "output_type": "execute_result",
          "data": {
            "text/plain": [
              "0    1.0\n",
              "1    1.0\n",
              "2    1.0\n",
              "3    1.0\n",
              "4    1.0\n",
              "dtype: float64"
            ]
          },
          "metadata": {},
          "execution_count": 25
        }
      ]
    },
    {
      "cell_type": "code",
      "source": [
        "input_feature_matrix = np.hstack((dataset, bias))\n",
        "print(f'Shape = {input_feature_matrix.shape}\\n')\n",
        "pd.DataFrame(input_feature_matrix, columns = ['Feature_1', 'Feature_2', 'Label', 'Bias']).head()"
      ],
      "metadata": {
        "colab": {
          "base_uri": "https://localhost:8080/",
          "height": 242
        },
        "id": "dJSRVQ38l877",
        "outputId": "075f8010-b327-4631-d662-724008488341"
      },
      "execution_count": 26,
      "outputs": [
        {
          "output_type": "stream",
          "name": "stdout",
          "text": [
            "Shape = (500, 4)\n",
            "\n"
          ]
        },
        {
          "output_type": "execute_result",
          "data": {
            "text/plain": [
              "   Feature_1  Feature_2  Label  Bias\n",
              "0  -0.219732  -1.024637    1.0   1.0\n",
              "1  -1.184319  -0.386109    1.0   1.0\n",
              "2  -4.875478  -1.230151    1.0   1.0\n",
              "3  -3.723137  -2.446335    1.0   1.0\n",
              "4  -1.693616  -1.447580    1.0   1.0"
            ],
            "text/html": [
              "\n",
              "  <div id=\"df-c2e3bb24-ba3b-44a8-a9f9-d7246c78c1ed\" class=\"colab-df-container\">\n",
              "    <div>\n",
              "<style scoped>\n",
              "    .dataframe tbody tr th:only-of-type {\n",
              "        vertical-align: middle;\n",
              "    }\n",
              "\n",
              "    .dataframe tbody tr th {\n",
              "        vertical-align: top;\n",
              "    }\n",
              "\n",
              "    .dataframe thead th {\n",
              "        text-align: right;\n",
              "    }\n",
              "</style>\n",
              "<table border=\"1\" class=\"dataframe\">\n",
              "  <thead>\n",
              "    <tr style=\"text-align: right;\">\n",
              "      <th></th>\n",
              "      <th>Feature_1</th>\n",
              "      <th>Feature_2</th>\n",
              "      <th>Label</th>\n",
              "      <th>Bias</th>\n",
              "    </tr>\n",
              "  </thead>\n",
              "  <tbody>\n",
              "    <tr>\n",
              "      <th>0</th>\n",
              "      <td>-0.219732</td>\n",
              "      <td>-1.024637</td>\n",
              "      <td>1.0</td>\n",
              "      <td>1.0</td>\n",
              "    </tr>\n",
              "    <tr>\n",
              "      <th>1</th>\n",
              "      <td>-1.184319</td>\n",
              "      <td>-0.386109</td>\n",
              "      <td>1.0</td>\n",
              "      <td>1.0</td>\n",
              "    </tr>\n",
              "    <tr>\n",
              "      <th>2</th>\n",
              "      <td>-4.875478</td>\n",
              "      <td>-1.230151</td>\n",
              "      <td>1.0</td>\n",
              "      <td>1.0</td>\n",
              "    </tr>\n",
              "    <tr>\n",
              "      <th>3</th>\n",
              "      <td>-3.723137</td>\n",
              "      <td>-2.446335</td>\n",
              "      <td>1.0</td>\n",
              "      <td>1.0</td>\n",
              "    </tr>\n",
              "    <tr>\n",
              "      <th>4</th>\n",
              "      <td>-1.693616</td>\n",
              "      <td>-1.447580</td>\n",
              "      <td>1.0</td>\n",
              "      <td>1.0</td>\n",
              "    </tr>\n",
              "  </tbody>\n",
              "</table>\n",
              "</div>\n",
              "    <div class=\"colab-df-buttons\">\n",
              "\n",
              "  <div class=\"colab-df-container\">\n",
              "    <button class=\"colab-df-convert\" onclick=\"convertToInteractive('df-c2e3bb24-ba3b-44a8-a9f9-d7246c78c1ed')\"\n",
              "            title=\"Convert this dataframe to an interactive table.\"\n",
              "            style=\"display:none;\">\n",
              "\n",
              "  <svg xmlns=\"http://www.w3.org/2000/svg\" height=\"24px\" viewBox=\"0 -960 960 960\">\n",
              "    <path d=\"M120-120v-720h720v720H120Zm60-500h600v-160H180v160Zm220 220h160v-160H400v160Zm0 220h160v-160H400v160ZM180-400h160v-160H180v160Zm440 0h160v-160H620v160ZM180-180h160v-160H180v160Zm440 0h160v-160H620v160Z\"/>\n",
              "  </svg>\n",
              "    </button>\n",
              "\n",
              "  <style>\n",
              "    .colab-df-container {\n",
              "      display:flex;\n",
              "      gap: 12px;\n",
              "    }\n",
              "\n",
              "    .colab-df-convert {\n",
              "      background-color: #E8F0FE;\n",
              "      border: none;\n",
              "      border-radius: 50%;\n",
              "      cursor: pointer;\n",
              "      display: none;\n",
              "      fill: #1967D2;\n",
              "      height: 32px;\n",
              "      padding: 0 0 0 0;\n",
              "      width: 32px;\n",
              "    }\n",
              "\n",
              "    .colab-df-convert:hover {\n",
              "      background-color: #E2EBFA;\n",
              "      box-shadow: 0px 1px 2px rgba(60, 64, 67, 0.3), 0px 1px 3px 1px rgba(60, 64, 67, 0.15);\n",
              "      fill: #174EA6;\n",
              "    }\n",
              "\n",
              "    .colab-df-buttons div {\n",
              "      margin-bottom: 4px;\n",
              "    }\n",
              "\n",
              "    [theme=dark] .colab-df-convert {\n",
              "      background-color: #3B4455;\n",
              "      fill: #D2E3FC;\n",
              "    }\n",
              "\n",
              "    [theme=dark] .colab-df-convert:hover {\n",
              "      background-color: #434B5C;\n",
              "      box-shadow: 0px 1px 3px 1px rgba(0, 0, 0, 0.15);\n",
              "      filter: drop-shadow(0px 1px 2px rgba(0, 0, 0, 0.3));\n",
              "      fill: #FFFFFF;\n",
              "    }\n",
              "  </style>\n",
              "\n",
              "    <script>\n",
              "      const buttonEl =\n",
              "        document.querySelector('#df-c2e3bb24-ba3b-44a8-a9f9-d7246c78c1ed button.colab-df-convert');\n",
              "      buttonEl.style.display =\n",
              "        google.colab.kernel.accessAllowed ? 'block' : 'none';\n",
              "\n",
              "      async function convertToInteractive(key) {\n",
              "        const element = document.querySelector('#df-c2e3bb24-ba3b-44a8-a9f9-d7246c78c1ed');\n",
              "        const dataTable =\n",
              "          await google.colab.kernel.invokeFunction('convertToInteractive',\n",
              "                                                    [key], {});\n",
              "        if (!dataTable) return;\n",
              "\n",
              "        const docLinkHtml = 'Like what you see? Visit the ' +\n",
              "          '<a target=\"_blank\" href=https://colab.research.google.com/notebooks/data_table.ipynb>data table notebook</a>'\n",
              "          + ' to learn more about interactive tables.';\n",
              "        element.innerHTML = '';\n",
              "        dataTable['output_type'] = 'display_data';\n",
              "        await google.colab.output.renderOutput(dataTable, element);\n",
              "        const docLink = document.createElement('div');\n",
              "        docLink.innerHTML = docLinkHtml;\n",
              "        element.appendChild(docLink);\n",
              "      }\n",
              "    </script>\n",
              "  </div>\n",
              "\n",
              "\n",
              "<div id=\"df-7dc18ccf-1511-44d1-9655-e68665bbca4d\">\n",
              "  <button class=\"colab-df-quickchart\" onclick=\"quickchart('df-7dc18ccf-1511-44d1-9655-e68665bbca4d')\"\n",
              "            title=\"Suggest charts\"\n",
              "            style=\"display:none;\">\n",
              "\n",
              "<svg xmlns=\"http://www.w3.org/2000/svg\" height=\"24px\"viewBox=\"0 0 24 24\"\n",
              "     width=\"24px\">\n",
              "    <g>\n",
              "        <path d=\"M19 3H5c-1.1 0-2 .9-2 2v14c0 1.1.9 2 2 2h14c1.1 0 2-.9 2-2V5c0-1.1-.9-2-2-2zM9 17H7v-7h2v7zm4 0h-2V7h2v10zm4 0h-2v-4h2v4z\"/>\n",
              "    </g>\n",
              "</svg>\n",
              "  </button>\n",
              "\n",
              "<style>\n",
              "  .colab-df-quickchart {\n",
              "      --bg-color: #E8F0FE;\n",
              "      --fill-color: #1967D2;\n",
              "      --hover-bg-color: #E2EBFA;\n",
              "      --hover-fill-color: #174EA6;\n",
              "      --disabled-fill-color: #AAA;\n",
              "      --disabled-bg-color: #DDD;\n",
              "  }\n",
              "\n",
              "  [theme=dark] .colab-df-quickchart {\n",
              "      --bg-color: #3B4455;\n",
              "      --fill-color: #D2E3FC;\n",
              "      --hover-bg-color: #434B5C;\n",
              "      --hover-fill-color: #FFFFFF;\n",
              "      --disabled-bg-color: #3B4455;\n",
              "      --disabled-fill-color: #666;\n",
              "  }\n",
              "\n",
              "  .colab-df-quickchart {\n",
              "    background-color: var(--bg-color);\n",
              "    border: none;\n",
              "    border-radius: 50%;\n",
              "    cursor: pointer;\n",
              "    display: none;\n",
              "    fill: var(--fill-color);\n",
              "    height: 32px;\n",
              "    padding: 0;\n",
              "    width: 32px;\n",
              "  }\n",
              "\n",
              "  .colab-df-quickchart:hover {\n",
              "    background-color: var(--hover-bg-color);\n",
              "    box-shadow: 0 1px 2px rgba(60, 64, 67, 0.3), 0 1px 3px 1px rgba(60, 64, 67, 0.15);\n",
              "    fill: var(--button-hover-fill-color);\n",
              "  }\n",
              "\n",
              "  .colab-df-quickchart-complete:disabled,\n",
              "  .colab-df-quickchart-complete:disabled:hover {\n",
              "    background-color: var(--disabled-bg-color);\n",
              "    fill: var(--disabled-fill-color);\n",
              "    box-shadow: none;\n",
              "  }\n",
              "\n",
              "  .colab-df-spinner {\n",
              "    border: 2px solid var(--fill-color);\n",
              "    border-color: transparent;\n",
              "    border-bottom-color: var(--fill-color);\n",
              "    animation:\n",
              "      spin 1s steps(1) infinite;\n",
              "  }\n",
              "\n",
              "  @keyframes spin {\n",
              "    0% {\n",
              "      border-color: transparent;\n",
              "      border-bottom-color: var(--fill-color);\n",
              "      border-left-color: var(--fill-color);\n",
              "    }\n",
              "    20% {\n",
              "      border-color: transparent;\n",
              "      border-left-color: var(--fill-color);\n",
              "      border-top-color: var(--fill-color);\n",
              "    }\n",
              "    30% {\n",
              "      border-color: transparent;\n",
              "      border-left-color: var(--fill-color);\n",
              "      border-top-color: var(--fill-color);\n",
              "      border-right-color: var(--fill-color);\n",
              "    }\n",
              "    40% {\n",
              "      border-color: transparent;\n",
              "      border-right-color: var(--fill-color);\n",
              "      border-top-color: var(--fill-color);\n",
              "    }\n",
              "    60% {\n",
              "      border-color: transparent;\n",
              "      border-right-color: var(--fill-color);\n",
              "    }\n",
              "    80% {\n",
              "      border-color: transparent;\n",
              "      border-right-color: var(--fill-color);\n",
              "      border-bottom-color: var(--fill-color);\n",
              "    }\n",
              "    90% {\n",
              "      border-color: transparent;\n",
              "      border-bottom-color: var(--fill-color);\n",
              "    }\n",
              "  }\n",
              "</style>\n",
              "\n",
              "  <script>\n",
              "    async function quickchart(key) {\n",
              "      const quickchartButtonEl =\n",
              "        document.querySelector('#' + key + ' button');\n",
              "      quickchartButtonEl.disabled = true;  // To prevent multiple clicks.\n",
              "      quickchartButtonEl.classList.add('colab-df-spinner');\n",
              "      try {\n",
              "        const charts = await google.colab.kernel.invokeFunction(\n",
              "            'suggestCharts', [key], {});\n",
              "      } catch (error) {\n",
              "        console.error('Error during call to suggestCharts:', error);\n",
              "      }\n",
              "      quickchartButtonEl.classList.remove('colab-df-spinner');\n",
              "      quickchartButtonEl.classList.add('colab-df-quickchart-complete');\n",
              "    }\n",
              "    (() => {\n",
              "      let quickchartButtonEl =\n",
              "        document.querySelector('#df-7dc18ccf-1511-44d1-9655-e68665bbca4d button');\n",
              "      quickchartButtonEl.style.display =\n",
              "        google.colab.kernel.accessAllowed ? 'block' : 'none';\n",
              "    })();\n",
              "  </script>\n",
              "</div>\n",
              "    </div>\n",
              "  </div>\n"
            ]
          },
          "metadata": {},
          "execution_count": 26
        }
      ]
    },
    {
      "cell_type": "markdown",
      "source": [
        "# **Step 5:** Split the dataset into train and test."
      ],
      "metadata": {
        "id": "e2O8RyFRnaPL"
      }
    },
    {
      "cell_type": "code",
      "source": [
        "y = input_feature_matrix[:, 2].astype('int')\n",
        "print(f'Shape = {y.shape}\\tType = {type(y)}\\n')\n",
        "pd.Series(y, name = 'Label').head()"
      ],
      "metadata": {
        "colab": {
          "base_uri": "https://localhost:8080/"
        },
        "id": "Z4glEl_Rp5gu",
        "outputId": "2c26f463-a53e-4d17-84aa-c771431aafec"
      },
      "execution_count": 27,
      "outputs": [
        {
          "output_type": "stream",
          "name": "stdout",
          "text": [
            "Shape = (500,)\tType = <class 'numpy.ndarray'>\n",
            "\n"
          ]
        },
        {
          "output_type": "execute_result",
          "data": {
            "text/plain": [
              "0    1\n",
              "1    1\n",
              "2    1\n",
              "3    1\n",
              "4    1\n",
              "Name: Label, dtype: int64"
            ]
          },
          "metadata": {},
          "execution_count": 27
        }
      ]
    },
    {
      "cell_type": "code",
      "source": [
        "X = np.delete(input_feature_matrix, 2, axis = 1)\n",
        "print(f'Shape = {input_feature_matrix.shape}\\n')\n",
        "pd.DataFrame(X, columns = ['Feature_1', 'Feature_2', 'Bias']).head()"
      ],
      "metadata": {
        "colab": {
          "base_uri": "https://localhost:8080/",
          "height": 242
        },
        "id": "EDdlSWOCoZ73",
        "outputId": "4659a821-338a-419a-f9ce-987d262f0d5a"
      },
      "execution_count": 28,
      "outputs": [
        {
          "output_type": "stream",
          "name": "stdout",
          "text": [
            "Shape = (500, 4)\n",
            "\n"
          ]
        },
        {
          "output_type": "execute_result",
          "data": {
            "text/plain": [
              "   Feature_1  Feature_2  Bias\n",
              "0  -0.219732  -1.024637   1.0\n",
              "1  -1.184319  -0.386109   1.0\n",
              "2  -4.875478  -1.230151   1.0\n",
              "3  -3.723137  -2.446335   1.0\n",
              "4  -1.693616  -1.447580   1.0"
            ],
            "text/html": [
              "\n",
              "  <div id=\"df-9648338f-6f47-4f11-9dbb-7ab76c90f1f4\" class=\"colab-df-container\">\n",
              "    <div>\n",
              "<style scoped>\n",
              "    .dataframe tbody tr th:only-of-type {\n",
              "        vertical-align: middle;\n",
              "    }\n",
              "\n",
              "    .dataframe tbody tr th {\n",
              "        vertical-align: top;\n",
              "    }\n",
              "\n",
              "    .dataframe thead th {\n",
              "        text-align: right;\n",
              "    }\n",
              "</style>\n",
              "<table border=\"1\" class=\"dataframe\">\n",
              "  <thead>\n",
              "    <tr style=\"text-align: right;\">\n",
              "      <th></th>\n",
              "      <th>Feature_1</th>\n",
              "      <th>Feature_2</th>\n",
              "      <th>Bias</th>\n",
              "    </tr>\n",
              "  </thead>\n",
              "  <tbody>\n",
              "    <tr>\n",
              "      <th>0</th>\n",
              "      <td>-0.219732</td>\n",
              "      <td>-1.024637</td>\n",
              "      <td>1.0</td>\n",
              "    </tr>\n",
              "    <tr>\n",
              "      <th>1</th>\n",
              "      <td>-1.184319</td>\n",
              "      <td>-0.386109</td>\n",
              "      <td>1.0</td>\n",
              "    </tr>\n",
              "    <tr>\n",
              "      <th>2</th>\n",
              "      <td>-4.875478</td>\n",
              "      <td>-1.230151</td>\n",
              "      <td>1.0</td>\n",
              "    </tr>\n",
              "    <tr>\n",
              "      <th>3</th>\n",
              "      <td>-3.723137</td>\n",
              "      <td>-2.446335</td>\n",
              "      <td>1.0</td>\n",
              "    </tr>\n",
              "    <tr>\n",
              "      <th>4</th>\n",
              "      <td>-1.693616</td>\n",
              "      <td>-1.447580</td>\n",
              "      <td>1.0</td>\n",
              "    </tr>\n",
              "  </tbody>\n",
              "</table>\n",
              "</div>\n",
              "    <div class=\"colab-df-buttons\">\n",
              "\n",
              "  <div class=\"colab-df-container\">\n",
              "    <button class=\"colab-df-convert\" onclick=\"convertToInteractive('df-9648338f-6f47-4f11-9dbb-7ab76c90f1f4')\"\n",
              "            title=\"Convert this dataframe to an interactive table.\"\n",
              "            style=\"display:none;\">\n",
              "\n",
              "  <svg xmlns=\"http://www.w3.org/2000/svg\" height=\"24px\" viewBox=\"0 -960 960 960\">\n",
              "    <path d=\"M120-120v-720h720v720H120Zm60-500h600v-160H180v160Zm220 220h160v-160H400v160Zm0 220h160v-160H400v160ZM180-400h160v-160H180v160Zm440 0h160v-160H620v160ZM180-180h160v-160H180v160Zm440 0h160v-160H620v160Z\"/>\n",
              "  </svg>\n",
              "    </button>\n",
              "\n",
              "  <style>\n",
              "    .colab-df-container {\n",
              "      display:flex;\n",
              "      gap: 12px;\n",
              "    }\n",
              "\n",
              "    .colab-df-convert {\n",
              "      background-color: #E8F0FE;\n",
              "      border: none;\n",
              "      border-radius: 50%;\n",
              "      cursor: pointer;\n",
              "      display: none;\n",
              "      fill: #1967D2;\n",
              "      height: 32px;\n",
              "      padding: 0 0 0 0;\n",
              "      width: 32px;\n",
              "    }\n",
              "\n",
              "    .colab-df-convert:hover {\n",
              "      background-color: #E2EBFA;\n",
              "      box-shadow: 0px 1px 2px rgba(60, 64, 67, 0.3), 0px 1px 3px 1px rgba(60, 64, 67, 0.15);\n",
              "      fill: #174EA6;\n",
              "    }\n",
              "\n",
              "    .colab-df-buttons div {\n",
              "      margin-bottom: 4px;\n",
              "    }\n",
              "\n",
              "    [theme=dark] .colab-df-convert {\n",
              "      background-color: #3B4455;\n",
              "      fill: #D2E3FC;\n",
              "    }\n",
              "\n",
              "    [theme=dark] .colab-df-convert:hover {\n",
              "      background-color: #434B5C;\n",
              "      box-shadow: 0px 1px 3px 1px rgba(0, 0, 0, 0.15);\n",
              "      filter: drop-shadow(0px 1px 2px rgba(0, 0, 0, 0.3));\n",
              "      fill: #FFFFFF;\n",
              "    }\n",
              "  </style>\n",
              "\n",
              "    <script>\n",
              "      const buttonEl =\n",
              "        document.querySelector('#df-9648338f-6f47-4f11-9dbb-7ab76c90f1f4 button.colab-df-convert');\n",
              "      buttonEl.style.display =\n",
              "        google.colab.kernel.accessAllowed ? 'block' : 'none';\n",
              "\n",
              "      async function convertToInteractive(key) {\n",
              "        const element = document.querySelector('#df-9648338f-6f47-4f11-9dbb-7ab76c90f1f4');\n",
              "        const dataTable =\n",
              "          await google.colab.kernel.invokeFunction('convertToInteractive',\n",
              "                                                    [key], {});\n",
              "        if (!dataTable) return;\n",
              "\n",
              "        const docLinkHtml = 'Like what you see? Visit the ' +\n",
              "          '<a target=\"_blank\" href=https://colab.research.google.com/notebooks/data_table.ipynb>data table notebook</a>'\n",
              "          + ' to learn more about interactive tables.';\n",
              "        element.innerHTML = '';\n",
              "        dataTable['output_type'] = 'display_data';\n",
              "        await google.colab.output.renderOutput(dataTable, element);\n",
              "        const docLink = document.createElement('div');\n",
              "        docLink.innerHTML = docLinkHtml;\n",
              "        element.appendChild(docLink);\n",
              "      }\n",
              "    </script>\n",
              "  </div>\n",
              "\n",
              "\n",
              "<div id=\"df-08662e52-ceaa-40d7-9cef-74e3d79e690b\">\n",
              "  <button class=\"colab-df-quickchart\" onclick=\"quickchart('df-08662e52-ceaa-40d7-9cef-74e3d79e690b')\"\n",
              "            title=\"Suggest charts\"\n",
              "            style=\"display:none;\">\n",
              "\n",
              "<svg xmlns=\"http://www.w3.org/2000/svg\" height=\"24px\"viewBox=\"0 0 24 24\"\n",
              "     width=\"24px\">\n",
              "    <g>\n",
              "        <path d=\"M19 3H5c-1.1 0-2 .9-2 2v14c0 1.1.9 2 2 2h14c1.1 0 2-.9 2-2V5c0-1.1-.9-2-2-2zM9 17H7v-7h2v7zm4 0h-2V7h2v10zm4 0h-2v-4h2v4z\"/>\n",
              "    </g>\n",
              "</svg>\n",
              "  </button>\n",
              "\n",
              "<style>\n",
              "  .colab-df-quickchart {\n",
              "      --bg-color: #E8F0FE;\n",
              "      --fill-color: #1967D2;\n",
              "      --hover-bg-color: #E2EBFA;\n",
              "      --hover-fill-color: #174EA6;\n",
              "      --disabled-fill-color: #AAA;\n",
              "      --disabled-bg-color: #DDD;\n",
              "  }\n",
              "\n",
              "  [theme=dark] .colab-df-quickchart {\n",
              "      --bg-color: #3B4455;\n",
              "      --fill-color: #D2E3FC;\n",
              "      --hover-bg-color: #434B5C;\n",
              "      --hover-fill-color: #FFFFFF;\n",
              "      --disabled-bg-color: #3B4455;\n",
              "      --disabled-fill-color: #666;\n",
              "  }\n",
              "\n",
              "  .colab-df-quickchart {\n",
              "    background-color: var(--bg-color);\n",
              "    border: none;\n",
              "    border-radius: 50%;\n",
              "    cursor: pointer;\n",
              "    display: none;\n",
              "    fill: var(--fill-color);\n",
              "    height: 32px;\n",
              "    padding: 0;\n",
              "    width: 32px;\n",
              "  }\n",
              "\n",
              "  .colab-df-quickchart:hover {\n",
              "    background-color: var(--hover-bg-color);\n",
              "    box-shadow: 0 1px 2px rgba(60, 64, 67, 0.3), 0 1px 3px 1px rgba(60, 64, 67, 0.15);\n",
              "    fill: var(--button-hover-fill-color);\n",
              "  }\n",
              "\n",
              "  .colab-df-quickchart-complete:disabled,\n",
              "  .colab-df-quickchart-complete:disabled:hover {\n",
              "    background-color: var(--disabled-bg-color);\n",
              "    fill: var(--disabled-fill-color);\n",
              "    box-shadow: none;\n",
              "  }\n",
              "\n",
              "  .colab-df-spinner {\n",
              "    border: 2px solid var(--fill-color);\n",
              "    border-color: transparent;\n",
              "    border-bottom-color: var(--fill-color);\n",
              "    animation:\n",
              "      spin 1s steps(1) infinite;\n",
              "  }\n",
              "\n",
              "  @keyframes spin {\n",
              "    0% {\n",
              "      border-color: transparent;\n",
              "      border-bottom-color: var(--fill-color);\n",
              "      border-left-color: var(--fill-color);\n",
              "    }\n",
              "    20% {\n",
              "      border-color: transparent;\n",
              "      border-left-color: var(--fill-color);\n",
              "      border-top-color: var(--fill-color);\n",
              "    }\n",
              "    30% {\n",
              "      border-color: transparent;\n",
              "      border-left-color: var(--fill-color);\n",
              "      border-top-color: var(--fill-color);\n",
              "      border-right-color: var(--fill-color);\n",
              "    }\n",
              "    40% {\n",
              "      border-color: transparent;\n",
              "      border-right-color: var(--fill-color);\n",
              "      border-top-color: var(--fill-color);\n",
              "    }\n",
              "    60% {\n",
              "      border-color: transparent;\n",
              "      border-right-color: var(--fill-color);\n",
              "    }\n",
              "    80% {\n",
              "      border-color: transparent;\n",
              "      border-right-color: var(--fill-color);\n",
              "      border-bottom-color: var(--fill-color);\n",
              "    }\n",
              "    90% {\n",
              "      border-color: transparent;\n",
              "      border-bottom-color: var(--fill-color);\n",
              "    }\n",
              "  }\n",
              "</style>\n",
              "\n",
              "  <script>\n",
              "    async function quickchart(key) {\n",
              "      const quickchartButtonEl =\n",
              "        document.querySelector('#' + key + ' button');\n",
              "      quickchartButtonEl.disabled = true;  // To prevent multiple clicks.\n",
              "      quickchartButtonEl.classList.add('colab-df-spinner');\n",
              "      try {\n",
              "        const charts = await google.colab.kernel.invokeFunction(\n",
              "            'suggestCharts', [key], {});\n",
              "      } catch (error) {\n",
              "        console.error('Error during call to suggestCharts:', error);\n",
              "      }\n",
              "      quickchartButtonEl.classList.remove('colab-df-spinner');\n",
              "      quickchartButtonEl.classList.add('colab-df-quickchart-complete');\n",
              "    }\n",
              "    (() => {\n",
              "      let quickchartButtonEl =\n",
              "        document.querySelector('#df-08662e52-ceaa-40d7-9cef-74e3d79e690b button');\n",
              "      quickchartButtonEl.style.display =\n",
              "        google.colab.kernel.accessAllowed ? 'block' : 'none';\n",
              "    })();\n",
              "  </script>\n",
              "</div>\n",
              "    </div>\n",
              "  </div>\n"
            ]
          },
          "metadata": {},
          "execution_count": 28
        }
      ]
    },
    {
      "cell_type": "code",
      "source": [
        "X_train, X_test, y_train, y_test = train_test_split(X, y, test_size = 0.20, random_state = 42)"
      ],
      "metadata": {
        "id": "txRqcmgnl8-p"
      },
      "execution_count": 29,
      "outputs": []
    },
    {
      "cell_type": "code",
      "source": [
        "print(f'Shape = {X_train.shape}\\n')\n",
        "pd.DataFrame(X_train, columns = ['Feature_1', 'Feature_2', 'Bias']).head()"
      ],
      "metadata": {
        "colab": {
          "base_uri": "https://localhost:8080/",
          "height": 242
        },
        "id": "A7iTD93Kqy94",
        "outputId": "f0b8ce1d-2def-4405-aa10-deeb4657d3f2"
      },
      "execution_count": 30,
      "outputs": [
        {
          "output_type": "stream",
          "name": "stdout",
          "text": [
            "Shape = (400, 3)\n",
            "\n"
          ]
        },
        {
          "output_type": "execute_result",
          "data": {
            "text/plain": [
              "   Feature_1  Feature_2  Bias\n",
              "0  -3.147075  -2.108397   1.0\n",
              "1   4.913109   5.556402   1.0\n",
              "2  -1.254478  -1.722929   1.0\n",
              "3   5.944035   5.725453   1.0\n",
              "4   4.833223   4.969331   1.0"
            ],
            "text/html": [
              "\n",
              "  <div id=\"df-fc7a2863-268c-4bbd-9413-1a18c93bbf16\" class=\"colab-df-container\">\n",
              "    <div>\n",
              "<style scoped>\n",
              "    .dataframe tbody tr th:only-of-type {\n",
              "        vertical-align: middle;\n",
              "    }\n",
              "\n",
              "    .dataframe tbody tr th {\n",
              "        vertical-align: top;\n",
              "    }\n",
              "\n",
              "    .dataframe thead th {\n",
              "        text-align: right;\n",
              "    }\n",
              "</style>\n",
              "<table border=\"1\" class=\"dataframe\">\n",
              "  <thead>\n",
              "    <tr style=\"text-align: right;\">\n",
              "      <th></th>\n",
              "      <th>Feature_1</th>\n",
              "      <th>Feature_2</th>\n",
              "      <th>Bias</th>\n",
              "    </tr>\n",
              "  </thead>\n",
              "  <tbody>\n",
              "    <tr>\n",
              "      <th>0</th>\n",
              "      <td>-3.147075</td>\n",
              "      <td>-2.108397</td>\n",
              "      <td>1.0</td>\n",
              "    </tr>\n",
              "    <tr>\n",
              "      <th>1</th>\n",
              "      <td>4.913109</td>\n",
              "      <td>5.556402</td>\n",
              "      <td>1.0</td>\n",
              "    </tr>\n",
              "    <tr>\n",
              "      <th>2</th>\n",
              "      <td>-1.254478</td>\n",
              "      <td>-1.722929</td>\n",
              "      <td>1.0</td>\n",
              "    </tr>\n",
              "    <tr>\n",
              "      <th>3</th>\n",
              "      <td>5.944035</td>\n",
              "      <td>5.725453</td>\n",
              "      <td>1.0</td>\n",
              "    </tr>\n",
              "    <tr>\n",
              "      <th>4</th>\n",
              "      <td>4.833223</td>\n",
              "      <td>4.969331</td>\n",
              "      <td>1.0</td>\n",
              "    </tr>\n",
              "  </tbody>\n",
              "</table>\n",
              "</div>\n",
              "    <div class=\"colab-df-buttons\">\n",
              "\n",
              "  <div class=\"colab-df-container\">\n",
              "    <button class=\"colab-df-convert\" onclick=\"convertToInteractive('df-fc7a2863-268c-4bbd-9413-1a18c93bbf16')\"\n",
              "            title=\"Convert this dataframe to an interactive table.\"\n",
              "            style=\"display:none;\">\n",
              "\n",
              "  <svg xmlns=\"http://www.w3.org/2000/svg\" height=\"24px\" viewBox=\"0 -960 960 960\">\n",
              "    <path d=\"M120-120v-720h720v720H120Zm60-500h600v-160H180v160Zm220 220h160v-160H400v160Zm0 220h160v-160H400v160ZM180-400h160v-160H180v160Zm440 0h160v-160H620v160ZM180-180h160v-160H180v160Zm440 0h160v-160H620v160Z\"/>\n",
              "  </svg>\n",
              "    </button>\n",
              "\n",
              "  <style>\n",
              "    .colab-df-container {\n",
              "      display:flex;\n",
              "      gap: 12px;\n",
              "    }\n",
              "\n",
              "    .colab-df-convert {\n",
              "      background-color: #E8F0FE;\n",
              "      border: none;\n",
              "      border-radius: 50%;\n",
              "      cursor: pointer;\n",
              "      display: none;\n",
              "      fill: #1967D2;\n",
              "      height: 32px;\n",
              "      padding: 0 0 0 0;\n",
              "      width: 32px;\n",
              "    }\n",
              "\n",
              "    .colab-df-convert:hover {\n",
              "      background-color: #E2EBFA;\n",
              "      box-shadow: 0px 1px 2px rgba(60, 64, 67, 0.3), 0px 1px 3px 1px rgba(60, 64, 67, 0.15);\n",
              "      fill: #174EA6;\n",
              "    }\n",
              "\n",
              "    .colab-df-buttons div {\n",
              "      margin-bottom: 4px;\n",
              "    }\n",
              "\n",
              "    [theme=dark] .colab-df-convert {\n",
              "      background-color: #3B4455;\n",
              "      fill: #D2E3FC;\n",
              "    }\n",
              "\n",
              "    [theme=dark] .colab-df-convert:hover {\n",
              "      background-color: #434B5C;\n",
              "      box-shadow: 0px 1px 3px 1px rgba(0, 0, 0, 0.15);\n",
              "      filter: drop-shadow(0px 1px 2px rgba(0, 0, 0, 0.3));\n",
              "      fill: #FFFFFF;\n",
              "    }\n",
              "  </style>\n",
              "\n",
              "    <script>\n",
              "      const buttonEl =\n",
              "        document.querySelector('#df-fc7a2863-268c-4bbd-9413-1a18c93bbf16 button.colab-df-convert');\n",
              "      buttonEl.style.display =\n",
              "        google.colab.kernel.accessAllowed ? 'block' : 'none';\n",
              "\n",
              "      async function convertToInteractive(key) {\n",
              "        const element = document.querySelector('#df-fc7a2863-268c-4bbd-9413-1a18c93bbf16');\n",
              "        const dataTable =\n",
              "          await google.colab.kernel.invokeFunction('convertToInteractive',\n",
              "                                                    [key], {});\n",
              "        if (!dataTable) return;\n",
              "\n",
              "        const docLinkHtml = 'Like what you see? Visit the ' +\n",
              "          '<a target=\"_blank\" href=https://colab.research.google.com/notebooks/data_table.ipynb>data table notebook</a>'\n",
              "          + ' to learn more about interactive tables.';\n",
              "        element.innerHTML = '';\n",
              "        dataTable['output_type'] = 'display_data';\n",
              "        await google.colab.output.renderOutput(dataTable, element);\n",
              "        const docLink = document.createElement('div');\n",
              "        docLink.innerHTML = docLinkHtml;\n",
              "        element.appendChild(docLink);\n",
              "      }\n",
              "    </script>\n",
              "  </div>\n",
              "\n",
              "\n",
              "<div id=\"df-0e88e637-dce6-4b9d-88f2-252ba2b68701\">\n",
              "  <button class=\"colab-df-quickchart\" onclick=\"quickchart('df-0e88e637-dce6-4b9d-88f2-252ba2b68701')\"\n",
              "            title=\"Suggest charts\"\n",
              "            style=\"display:none;\">\n",
              "\n",
              "<svg xmlns=\"http://www.w3.org/2000/svg\" height=\"24px\"viewBox=\"0 0 24 24\"\n",
              "     width=\"24px\">\n",
              "    <g>\n",
              "        <path d=\"M19 3H5c-1.1 0-2 .9-2 2v14c0 1.1.9 2 2 2h14c1.1 0 2-.9 2-2V5c0-1.1-.9-2-2-2zM9 17H7v-7h2v7zm4 0h-2V7h2v10zm4 0h-2v-4h2v4z\"/>\n",
              "    </g>\n",
              "</svg>\n",
              "  </button>\n",
              "\n",
              "<style>\n",
              "  .colab-df-quickchart {\n",
              "      --bg-color: #E8F0FE;\n",
              "      --fill-color: #1967D2;\n",
              "      --hover-bg-color: #E2EBFA;\n",
              "      --hover-fill-color: #174EA6;\n",
              "      --disabled-fill-color: #AAA;\n",
              "      --disabled-bg-color: #DDD;\n",
              "  }\n",
              "\n",
              "  [theme=dark] .colab-df-quickchart {\n",
              "      --bg-color: #3B4455;\n",
              "      --fill-color: #D2E3FC;\n",
              "      --hover-bg-color: #434B5C;\n",
              "      --hover-fill-color: #FFFFFF;\n",
              "      --disabled-bg-color: #3B4455;\n",
              "      --disabled-fill-color: #666;\n",
              "  }\n",
              "\n",
              "  .colab-df-quickchart {\n",
              "    background-color: var(--bg-color);\n",
              "    border: none;\n",
              "    border-radius: 50%;\n",
              "    cursor: pointer;\n",
              "    display: none;\n",
              "    fill: var(--fill-color);\n",
              "    height: 32px;\n",
              "    padding: 0;\n",
              "    width: 32px;\n",
              "  }\n",
              "\n",
              "  .colab-df-quickchart:hover {\n",
              "    background-color: var(--hover-bg-color);\n",
              "    box-shadow: 0 1px 2px rgba(60, 64, 67, 0.3), 0 1px 3px 1px rgba(60, 64, 67, 0.15);\n",
              "    fill: var(--button-hover-fill-color);\n",
              "  }\n",
              "\n",
              "  .colab-df-quickchart-complete:disabled,\n",
              "  .colab-df-quickchart-complete:disabled:hover {\n",
              "    background-color: var(--disabled-bg-color);\n",
              "    fill: var(--disabled-fill-color);\n",
              "    box-shadow: none;\n",
              "  }\n",
              "\n",
              "  .colab-df-spinner {\n",
              "    border: 2px solid var(--fill-color);\n",
              "    border-color: transparent;\n",
              "    border-bottom-color: var(--fill-color);\n",
              "    animation:\n",
              "      spin 1s steps(1) infinite;\n",
              "  }\n",
              "\n",
              "  @keyframes spin {\n",
              "    0% {\n",
              "      border-color: transparent;\n",
              "      border-bottom-color: var(--fill-color);\n",
              "      border-left-color: var(--fill-color);\n",
              "    }\n",
              "    20% {\n",
              "      border-color: transparent;\n",
              "      border-left-color: var(--fill-color);\n",
              "      border-top-color: var(--fill-color);\n",
              "    }\n",
              "    30% {\n",
              "      border-color: transparent;\n",
              "      border-left-color: var(--fill-color);\n",
              "      border-top-color: var(--fill-color);\n",
              "      border-right-color: var(--fill-color);\n",
              "    }\n",
              "    40% {\n",
              "      border-color: transparent;\n",
              "      border-right-color: var(--fill-color);\n",
              "      border-top-color: var(--fill-color);\n",
              "    }\n",
              "    60% {\n",
              "      border-color: transparent;\n",
              "      border-right-color: var(--fill-color);\n",
              "    }\n",
              "    80% {\n",
              "      border-color: transparent;\n",
              "      border-right-color: var(--fill-color);\n",
              "      border-bottom-color: var(--fill-color);\n",
              "    }\n",
              "    90% {\n",
              "      border-color: transparent;\n",
              "      border-bottom-color: var(--fill-color);\n",
              "    }\n",
              "  }\n",
              "</style>\n",
              "\n",
              "  <script>\n",
              "    async function quickchart(key) {\n",
              "      const quickchartButtonEl =\n",
              "        document.querySelector('#' + key + ' button');\n",
              "      quickchartButtonEl.disabled = true;  // To prevent multiple clicks.\n",
              "      quickchartButtonEl.classList.add('colab-df-spinner');\n",
              "      try {\n",
              "        const charts = await google.colab.kernel.invokeFunction(\n",
              "            'suggestCharts', [key], {});\n",
              "      } catch (error) {\n",
              "        console.error('Error during call to suggestCharts:', error);\n",
              "      }\n",
              "      quickchartButtonEl.classList.remove('colab-df-spinner');\n",
              "      quickchartButtonEl.classList.add('colab-df-quickchart-complete');\n",
              "    }\n",
              "    (() => {\n",
              "      let quickchartButtonEl =\n",
              "        document.querySelector('#df-0e88e637-dce6-4b9d-88f2-252ba2b68701 button');\n",
              "      quickchartButtonEl.style.display =\n",
              "        google.colab.kernel.accessAllowed ? 'block' : 'none';\n",
              "    })();\n",
              "  </script>\n",
              "</div>\n",
              "    </div>\n",
              "  </div>\n"
            ]
          },
          "metadata": {},
          "execution_count": 30
        }
      ]
    },
    {
      "cell_type": "code",
      "source": [
        "print(f'Shape = {X_test.shape}\\n')\n",
        "pd.DataFrame(X_test, columns = ['Feature_1', 'Feature_2', 'Bias']).head()"
      ],
      "metadata": {
        "colab": {
          "base_uri": "https://localhost:8080/",
          "height": 242
        },
        "id": "5E9jnNZZq-pr",
        "outputId": "f021fd21-5176-47e7-d47b-9a335411df48"
      },
      "execution_count": 31,
      "outputs": [
        {
          "output_type": "stream",
          "name": "stdout",
          "text": [
            "Shape = (100, 3)\n",
            "\n"
          ]
        },
        {
          "output_type": "execute_result",
          "data": {
            "text/plain": [
              "   Feature_1  Feature_2  Bias\n",
              "0   4.693989   4.371286   1.0\n",
              "1  -2.866492  -1.153692   1.0\n",
              "2   5.572872   3.886709   1.0\n",
              "3  -1.096525  -2.899893   1.0\n",
              "4  -1.037154  -0.902838   1.0"
            ],
            "text/html": [
              "\n",
              "  <div id=\"df-8d0b191b-9963-415b-9c9e-c7cb10b79fe8\" class=\"colab-df-container\">\n",
              "    <div>\n",
              "<style scoped>\n",
              "    .dataframe tbody tr th:only-of-type {\n",
              "        vertical-align: middle;\n",
              "    }\n",
              "\n",
              "    .dataframe tbody tr th {\n",
              "        vertical-align: top;\n",
              "    }\n",
              "\n",
              "    .dataframe thead th {\n",
              "        text-align: right;\n",
              "    }\n",
              "</style>\n",
              "<table border=\"1\" class=\"dataframe\">\n",
              "  <thead>\n",
              "    <tr style=\"text-align: right;\">\n",
              "      <th></th>\n",
              "      <th>Feature_1</th>\n",
              "      <th>Feature_2</th>\n",
              "      <th>Bias</th>\n",
              "    </tr>\n",
              "  </thead>\n",
              "  <tbody>\n",
              "    <tr>\n",
              "      <th>0</th>\n",
              "      <td>4.693989</td>\n",
              "      <td>4.371286</td>\n",
              "      <td>1.0</td>\n",
              "    </tr>\n",
              "    <tr>\n",
              "      <th>1</th>\n",
              "      <td>-2.866492</td>\n",
              "      <td>-1.153692</td>\n",
              "      <td>1.0</td>\n",
              "    </tr>\n",
              "    <tr>\n",
              "      <th>2</th>\n",
              "      <td>5.572872</td>\n",
              "      <td>3.886709</td>\n",
              "      <td>1.0</td>\n",
              "    </tr>\n",
              "    <tr>\n",
              "      <th>3</th>\n",
              "      <td>-1.096525</td>\n",
              "      <td>-2.899893</td>\n",
              "      <td>1.0</td>\n",
              "    </tr>\n",
              "    <tr>\n",
              "      <th>4</th>\n",
              "      <td>-1.037154</td>\n",
              "      <td>-0.902838</td>\n",
              "      <td>1.0</td>\n",
              "    </tr>\n",
              "  </tbody>\n",
              "</table>\n",
              "</div>\n",
              "    <div class=\"colab-df-buttons\">\n",
              "\n",
              "  <div class=\"colab-df-container\">\n",
              "    <button class=\"colab-df-convert\" onclick=\"convertToInteractive('df-8d0b191b-9963-415b-9c9e-c7cb10b79fe8')\"\n",
              "            title=\"Convert this dataframe to an interactive table.\"\n",
              "            style=\"display:none;\">\n",
              "\n",
              "  <svg xmlns=\"http://www.w3.org/2000/svg\" height=\"24px\" viewBox=\"0 -960 960 960\">\n",
              "    <path d=\"M120-120v-720h720v720H120Zm60-500h600v-160H180v160Zm220 220h160v-160H400v160Zm0 220h160v-160H400v160ZM180-400h160v-160H180v160Zm440 0h160v-160H620v160ZM180-180h160v-160H180v160Zm440 0h160v-160H620v160Z\"/>\n",
              "  </svg>\n",
              "    </button>\n",
              "\n",
              "  <style>\n",
              "    .colab-df-container {\n",
              "      display:flex;\n",
              "      gap: 12px;\n",
              "    }\n",
              "\n",
              "    .colab-df-convert {\n",
              "      background-color: #E8F0FE;\n",
              "      border: none;\n",
              "      border-radius: 50%;\n",
              "      cursor: pointer;\n",
              "      display: none;\n",
              "      fill: #1967D2;\n",
              "      height: 32px;\n",
              "      padding: 0 0 0 0;\n",
              "      width: 32px;\n",
              "    }\n",
              "\n",
              "    .colab-df-convert:hover {\n",
              "      background-color: #E2EBFA;\n",
              "      box-shadow: 0px 1px 2px rgba(60, 64, 67, 0.3), 0px 1px 3px 1px rgba(60, 64, 67, 0.15);\n",
              "      fill: #174EA6;\n",
              "    }\n",
              "\n",
              "    .colab-df-buttons div {\n",
              "      margin-bottom: 4px;\n",
              "    }\n",
              "\n",
              "    [theme=dark] .colab-df-convert {\n",
              "      background-color: #3B4455;\n",
              "      fill: #D2E3FC;\n",
              "    }\n",
              "\n",
              "    [theme=dark] .colab-df-convert:hover {\n",
              "      background-color: #434B5C;\n",
              "      box-shadow: 0px 1px 3px 1px rgba(0, 0, 0, 0.15);\n",
              "      filter: drop-shadow(0px 1px 2px rgba(0, 0, 0, 0.3));\n",
              "      fill: #FFFFFF;\n",
              "    }\n",
              "  </style>\n",
              "\n",
              "    <script>\n",
              "      const buttonEl =\n",
              "        document.querySelector('#df-8d0b191b-9963-415b-9c9e-c7cb10b79fe8 button.colab-df-convert');\n",
              "      buttonEl.style.display =\n",
              "        google.colab.kernel.accessAllowed ? 'block' : 'none';\n",
              "\n",
              "      async function convertToInteractive(key) {\n",
              "        const element = document.querySelector('#df-8d0b191b-9963-415b-9c9e-c7cb10b79fe8');\n",
              "        const dataTable =\n",
              "          await google.colab.kernel.invokeFunction('convertToInteractive',\n",
              "                                                    [key], {});\n",
              "        if (!dataTable) return;\n",
              "\n",
              "        const docLinkHtml = 'Like what you see? Visit the ' +\n",
              "          '<a target=\"_blank\" href=https://colab.research.google.com/notebooks/data_table.ipynb>data table notebook</a>'\n",
              "          + ' to learn more about interactive tables.';\n",
              "        element.innerHTML = '';\n",
              "        dataTable['output_type'] = 'display_data';\n",
              "        await google.colab.output.renderOutput(dataTable, element);\n",
              "        const docLink = document.createElement('div');\n",
              "        docLink.innerHTML = docLinkHtml;\n",
              "        element.appendChild(docLink);\n",
              "      }\n",
              "    </script>\n",
              "  </div>\n",
              "\n",
              "\n",
              "<div id=\"df-ecc35fc5-f5ee-4951-a0f5-64214edb66ce\">\n",
              "  <button class=\"colab-df-quickchart\" onclick=\"quickchart('df-ecc35fc5-f5ee-4951-a0f5-64214edb66ce')\"\n",
              "            title=\"Suggest charts\"\n",
              "            style=\"display:none;\">\n",
              "\n",
              "<svg xmlns=\"http://www.w3.org/2000/svg\" height=\"24px\"viewBox=\"0 0 24 24\"\n",
              "     width=\"24px\">\n",
              "    <g>\n",
              "        <path d=\"M19 3H5c-1.1 0-2 .9-2 2v14c0 1.1.9 2 2 2h14c1.1 0 2-.9 2-2V5c0-1.1-.9-2-2-2zM9 17H7v-7h2v7zm4 0h-2V7h2v10zm4 0h-2v-4h2v4z\"/>\n",
              "    </g>\n",
              "</svg>\n",
              "  </button>\n",
              "\n",
              "<style>\n",
              "  .colab-df-quickchart {\n",
              "      --bg-color: #E8F0FE;\n",
              "      --fill-color: #1967D2;\n",
              "      --hover-bg-color: #E2EBFA;\n",
              "      --hover-fill-color: #174EA6;\n",
              "      --disabled-fill-color: #AAA;\n",
              "      --disabled-bg-color: #DDD;\n",
              "  }\n",
              "\n",
              "  [theme=dark] .colab-df-quickchart {\n",
              "      --bg-color: #3B4455;\n",
              "      --fill-color: #D2E3FC;\n",
              "      --hover-bg-color: #434B5C;\n",
              "      --hover-fill-color: #FFFFFF;\n",
              "      --disabled-bg-color: #3B4455;\n",
              "      --disabled-fill-color: #666;\n",
              "  }\n",
              "\n",
              "  .colab-df-quickchart {\n",
              "    background-color: var(--bg-color);\n",
              "    border: none;\n",
              "    border-radius: 50%;\n",
              "    cursor: pointer;\n",
              "    display: none;\n",
              "    fill: var(--fill-color);\n",
              "    height: 32px;\n",
              "    padding: 0;\n",
              "    width: 32px;\n",
              "  }\n",
              "\n",
              "  .colab-df-quickchart:hover {\n",
              "    background-color: var(--hover-bg-color);\n",
              "    box-shadow: 0 1px 2px rgba(60, 64, 67, 0.3), 0 1px 3px 1px rgba(60, 64, 67, 0.15);\n",
              "    fill: var(--button-hover-fill-color);\n",
              "  }\n",
              "\n",
              "  .colab-df-quickchart-complete:disabled,\n",
              "  .colab-df-quickchart-complete:disabled:hover {\n",
              "    background-color: var(--disabled-bg-color);\n",
              "    fill: var(--disabled-fill-color);\n",
              "    box-shadow: none;\n",
              "  }\n",
              "\n",
              "  .colab-df-spinner {\n",
              "    border: 2px solid var(--fill-color);\n",
              "    border-color: transparent;\n",
              "    border-bottom-color: var(--fill-color);\n",
              "    animation:\n",
              "      spin 1s steps(1) infinite;\n",
              "  }\n",
              "\n",
              "  @keyframes spin {\n",
              "    0% {\n",
              "      border-color: transparent;\n",
              "      border-bottom-color: var(--fill-color);\n",
              "      border-left-color: var(--fill-color);\n",
              "    }\n",
              "    20% {\n",
              "      border-color: transparent;\n",
              "      border-left-color: var(--fill-color);\n",
              "      border-top-color: var(--fill-color);\n",
              "    }\n",
              "    30% {\n",
              "      border-color: transparent;\n",
              "      border-left-color: var(--fill-color);\n",
              "      border-top-color: var(--fill-color);\n",
              "      border-right-color: var(--fill-color);\n",
              "    }\n",
              "    40% {\n",
              "      border-color: transparent;\n",
              "      border-right-color: var(--fill-color);\n",
              "      border-top-color: var(--fill-color);\n",
              "    }\n",
              "    60% {\n",
              "      border-color: transparent;\n",
              "      border-right-color: var(--fill-color);\n",
              "    }\n",
              "    80% {\n",
              "      border-color: transparent;\n",
              "      border-right-color: var(--fill-color);\n",
              "      border-bottom-color: var(--fill-color);\n",
              "    }\n",
              "    90% {\n",
              "      border-color: transparent;\n",
              "      border-bottom-color: var(--fill-color);\n",
              "    }\n",
              "  }\n",
              "</style>\n",
              "\n",
              "  <script>\n",
              "    async function quickchart(key) {\n",
              "      const quickchartButtonEl =\n",
              "        document.querySelector('#' + key + ' button');\n",
              "      quickchartButtonEl.disabled = true;  // To prevent multiple clicks.\n",
              "      quickchartButtonEl.classList.add('colab-df-spinner');\n",
              "      try {\n",
              "        const charts = await google.colab.kernel.invokeFunction(\n",
              "            'suggestCharts', [key], {});\n",
              "      } catch (error) {\n",
              "        console.error('Error during call to suggestCharts:', error);\n",
              "      }\n",
              "      quickchartButtonEl.classList.remove('colab-df-spinner');\n",
              "      quickchartButtonEl.classList.add('colab-df-quickchart-complete');\n",
              "    }\n",
              "    (() => {\n",
              "      let quickchartButtonEl =\n",
              "        document.querySelector('#df-ecc35fc5-f5ee-4951-a0f5-64214edb66ce button');\n",
              "      quickchartButtonEl.style.display =\n",
              "        google.colab.kernel.accessAllowed ? 'block' : 'none';\n",
              "    })();\n",
              "  </script>\n",
              "</div>\n",
              "    </div>\n",
              "  </div>\n"
            ]
          },
          "metadata": {},
          "execution_count": 31
        }
      ]
    },
    {
      "cell_type": "code",
      "source": [
        "print(f'Shape = {y_train.shape}\\tType = {type(y_train)}\\n')\n",
        "pd.Series(y_train, name = 'Label').head()"
      ],
      "metadata": {
        "colab": {
          "base_uri": "https://localhost:8080/"
        },
        "id": "d0M-y-X6rKKT",
        "outputId": "2acfdd64-5f2d-470b-abfc-c0f3a6e9e41e"
      },
      "execution_count": 32,
      "outputs": [
        {
          "output_type": "stream",
          "name": "stdout",
          "text": [
            "Shape = (400,)\tType = <class 'numpy.ndarray'>\n",
            "\n"
          ]
        },
        {
          "output_type": "execute_result",
          "data": {
            "text/plain": [
              "0    1\n",
              "1    0\n",
              "2    1\n",
              "3    0\n",
              "4    0\n",
              "Name: Label, dtype: int64"
            ]
          },
          "metadata": {},
          "execution_count": 32
        }
      ]
    },
    {
      "cell_type": "code",
      "source": [
        "print(f'Shape = {y_test.shape}\\tType = {type(y_test)}\\n')\n",
        "pd.Series(y_test, name = 'Label').head()"
      ],
      "metadata": {
        "colab": {
          "base_uri": "https://localhost:8080/"
        },
        "id": "MzpSdctdrQJM",
        "outputId": "7f6ac085-e0b7-42cc-b1c9-a01f37eb4cc5"
      },
      "execution_count": 33,
      "outputs": [
        {
          "output_type": "stream",
          "name": "stdout",
          "text": [
            "Shape = (100,)\tType = <class 'numpy.ndarray'>\n",
            "\n"
          ]
        },
        {
          "output_type": "execute_result",
          "data": {
            "text/plain": [
              "0    0\n",
              "1    1\n",
              "2    0\n",
              "3    1\n",
              "4    1\n",
              "Name: Label, dtype: int64"
            ]
          },
          "metadata": {},
          "execution_count": 33
        }
      ]
    },
    {
      "cell_type": "markdown",
      "source": [
        "# **Step 6:** Write a function to train the perceptron that will take data, labels, learning rate and max_epochs as parameters."
      ],
      "metadata": {
        "id": "gyud2Zz4rchu"
      }
    },
    {
      "cell_type": "code",
      "source": [
        "def train_perceptron(data, labels, learning_rate, max_epochs):\n",
        "    np.random.seed(0)\n",
        "    weights = np.random.rand(data.shape[1] - 1, 1)\n",
        "    bias = data[0, -1]\n",
        "\n",
        "    for epoch in range(max_epochs):\n",
        "        for i in range(len(data)):\n",
        "            x_i = data[i, :-1]\n",
        "            predicted_weighted_sum = np.dot(x_i, weights) + bias\n",
        "            predicted_label = 1 if predicted_weighted_sum >= 0 else 0    # activation\n",
        "\n",
        "            training_error = labels[i] - predicted_label\n",
        "            weights += learning_rate * training_error * data[i, :-1].reshape(-1, 1)\n",
        "            bias += learning_rate * training_error\n",
        "\n",
        "    return weights, bias\n"
      ],
      "metadata": {
        "id": "beclYnXcrX8R"
      },
      "execution_count": 34,
      "outputs": []
    },
    {
      "cell_type": "markdown",
      "source": [
        "# **Step 7:** Define a step activation function where it will return 1 if value >= 0 else 0."
      ],
      "metadata": {
        "id": "Xvf9445DyyMH"
      }
    },
    {
      "cell_type": "code",
      "source": [
        "def step_activation(value):\n",
        "    return 1 if value >= 0 else 0"
      ],
      "metadata": {
        "id": "Wd573IW3yw-P"
      },
      "execution_count": 35,
      "outputs": []
    },
    {
      "cell_type": "markdown",
      "source": [
        "# **Step 8:** Train the perceptron on training set."
      ],
      "metadata": {
        "id": "gEJ-ygN_zC1R"
      }
    },
    {
      "cell_type": "code",
      "source": [
        "LEARNING_RATE = 0.01\n",
        "MAX_EPOCHS = 100"
      ],
      "metadata": {
        "id": "rXiOMqIoyrJQ"
      },
      "execution_count": 36,
      "outputs": []
    },
    {
      "cell_type": "code",
      "source": [
        "weights, bias = train_perceptron(X_train, y_train, LEARNING_RATE, MAX_EPOCHS)"
      ],
      "metadata": {
        "id": "h6yFknuuzZlR"
      },
      "execution_count": 37,
      "outputs": []
    },
    {
      "cell_type": "code",
      "source": [
        "weights"
      ],
      "metadata": {
        "colab": {
          "base_uri": "https://localhost:8080/"
        },
        "id": "YC7IKSVi0a_F",
        "outputId": "557cb165-e4c4-42ad-baf3-aa756f37de05"
      },
      "execution_count": 38,
      "outputs": [
        {
          "output_type": "execute_result",
          "data": {
            "text/plain": [
              "array([[-0.24328191],\n",
              "       [-0.07354245]])"
            ]
          },
          "metadata": {},
          "execution_count": 38
        }
      ]
    },
    {
      "cell_type": "code",
      "source": [
        "weights.shape"
      ],
      "metadata": {
        "colab": {
          "base_uri": "https://localhost:8080/"
        },
        "id": "gzwOKB4S0v-m",
        "outputId": "ba4fe193-41cf-4083-c9d0-2d64c04ac64e"
      },
      "execution_count": 39,
      "outputs": [
        {
          "output_type": "execute_result",
          "data": {
            "text/plain": [
              "(2, 1)"
            ]
          },
          "metadata": {},
          "execution_count": 39
        }
      ]
    },
    {
      "cell_type": "code",
      "source": [
        "bias"
      ],
      "metadata": {
        "colab": {
          "base_uri": "https://localhost:8080/"
        },
        "id": "7IJJxiG71evI",
        "outputId": "99f24568-411f-40ee-940d-f673a786d091"
      },
      "execution_count": 40,
      "outputs": [
        {
          "output_type": "execute_result",
          "data": {
            "text/plain": [
              "0.8999999999999999"
            ]
          },
          "metadata": {},
          "execution_count": 40
        }
      ]
    },
    {
      "cell_type": "markdown",
      "source": [
        "# **Step 9:** Make predictions using trained perceptron on test set. Tune the hyperparameters like learning rate, test size and find the optimal accurate perceptron model."
      ],
      "metadata": {
        "id": "w1VsxtIQ11qc"
      }
    },
    {
      "cell_type": "code",
      "source": [
        "y_pred = np.array([step_activation(np.dot(X_test[i, :-1], weights) + bias) for i in range(len(X_test))])"
      ],
      "metadata": {
        "id": "UsIHgBxz1tEt"
      },
      "execution_count": 41,
      "outputs": []
    },
    {
      "cell_type": "code",
      "source": [
        "print(f'Shape = {y_pred.shape}\\tType = {type(y_pred)}\\n')\n",
        "pd.Series(y_pred, name = 'Label').head()"
      ],
      "metadata": {
        "colab": {
          "base_uri": "https://localhost:8080/"
        },
        "id": "Ppjt7kt02UBD",
        "outputId": "fa0c3d24-c8c8-4d77-cebb-3c48db0780c6"
      },
      "execution_count": 42,
      "outputs": [
        {
          "output_type": "stream",
          "name": "stdout",
          "text": [
            "Shape = (100,)\tType = <class 'numpy.ndarray'>\n",
            "\n"
          ]
        },
        {
          "output_type": "execute_result",
          "data": {
            "text/plain": [
              "0    0\n",
              "1    1\n",
              "2    0\n",
              "3    1\n",
              "4    1\n",
              "Name: Label, dtype: int64"
            ]
          },
          "metadata": {},
          "execution_count": 42
        }
      ]
    },
    {
      "cell_type": "code",
      "source": [
        "def predict_perceptron(weights, bias, data):\n",
        "    predictions = np.dot(data[:, :-1], weights) + bias\n",
        "    activations = np.vectorize(step_activation)(predictions)\n",
        "    return activations\n",
        "\n",
        "y_pred = predict_perceptron(weights, bias, X_test)\n",
        "y_pred = y_pred.flatten()"
      ],
      "metadata": {
        "id": "bbHqIa7O3S8b"
      },
      "execution_count": 43,
      "outputs": []
    },
    {
      "cell_type": "code",
      "source": [
        "print(f'Shape = {y_pred.shape}\\tType = {type(y_pred)}\\n')\n",
        "pd.Series(y_pred, name = 'Label').head()"
      ],
      "metadata": {
        "colab": {
          "base_uri": "https://localhost:8080/"
        },
        "id": "5c7bZJRQ6Crr",
        "outputId": "d767e3c2-2745-4390-a3db-166d597c2474"
      },
      "execution_count": 44,
      "outputs": [
        {
          "output_type": "stream",
          "name": "stdout",
          "text": [
            "Shape = (100,)\tType = <class 'numpy.ndarray'>\n",
            "\n"
          ]
        },
        {
          "output_type": "execute_result",
          "data": {
            "text/plain": [
              "0    0\n",
              "1    1\n",
              "2    0\n",
              "3    1\n",
              "4    1\n",
              "Name: Label, dtype: int64"
            ]
          },
          "metadata": {},
          "execution_count": 44
        }
      ]
    },
    {
      "cell_type": "code",
      "source": [
        "accuracy = accuracy_score(y_test, y_pred)\n",
        "accuracy"
      ],
      "metadata": {
        "colab": {
          "base_uri": "https://localhost:8080/"
        },
        "outputId": "fce3bfcf-66f1-499d-aaef-d59374c05861",
        "id": "viioXTQm_v1p"
      },
      "execution_count": 45,
      "outputs": [
        {
          "output_type": "execute_result",
          "data": {
            "text/plain": [
              "1.0"
            ]
          },
          "metadata": {},
          "execution_count": 45
        }
      ]
    },
    {
      "cell_type": "code",
      "source": [
        "cf_matrix = confusion_matrix(y_test, y_pred)      # Index = Actual;  Column = Predicted\n",
        "cf_matrix"
      ],
      "metadata": {
        "colab": {
          "base_uri": "https://localhost:8080/"
        },
        "outputId": "5a0f6e8d-ad80-418e-94ee-91b53a1972fe",
        "id": "IXV-dDiM_v1p"
      },
      "execution_count": 46,
      "outputs": [
        {
          "output_type": "execute_result",
          "data": {
            "text/plain": [
              "array([[54,  0],\n",
              "       [ 0, 46]])"
            ]
          },
          "metadata": {},
          "execution_count": 46
        }
      ]
    },
    {
      "cell_type": "code",
      "source": [
        "class_labels = ['Class 1', 'Class 2']"
      ],
      "metadata": {
        "id": "apIBc3-QD_dK"
      },
      "execution_count": 47,
      "outputs": []
    },
    {
      "cell_type": "code",
      "source": [
        "fig = px.imshow(cf_matrix, text_auto = True, aspect = 'auto', color_continuous_scale = 'greens', width = 500, height = 500,\n",
        "                title = 'Confusion Matrix (Test Set)',\n",
        "                labels = dict(x = 'Predicted', y = 'Actual'),\n",
        "                x = class_labels, y = class_labels)\n",
        "\n",
        "\n",
        "fig.show()\n",
        "fig.write_image('Confusion Matrix (Test Set).png')"
      ],
      "metadata": {
        "colab": {
          "base_uri": "https://localhost:8080/",
          "height": 517
        },
        "id": "MjxUb16aBN7u",
        "outputId": "be4a4fec-1891-46fc-b435-aa0c680c0c8c"
      },
      "execution_count": 48,
      "outputs": [
        {
          "output_type": "display_data",
          "data": {
            "text/html": [
              "<html>\n",
              "<head><meta charset=\"utf-8\" /></head>\n",
              "<body>\n",
              "    <div>            <script src=\"https://cdnjs.cloudflare.com/ajax/libs/mathjax/2.7.5/MathJax.js?config=TeX-AMS-MML_SVG\"></script><script type=\"text/javascript\">if (window.MathJax && window.MathJax.Hub && window.MathJax.Hub.Config) {window.MathJax.Hub.Config({SVG: {font: \"STIX-Web\"}});}</script>                <script type=\"text/javascript\">window.PlotlyConfig = {MathJaxConfig: 'local'};</script>\n",
              "        <script charset=\"utf-8\" src=\"https://cdn.plot.ly/plotly-2.24.1.min.js\"></script>                <div id=\"64411264-7860-4968-83b9-3680040f69b7\" class=\"plotly-graph-div\" style=\"height:500px; width:500px;\"></div>            <script type=\"text/javascript\">                                    window.PLOTLYENV=window.PLOTLYENV || {};                                    if (document.getElementById(\"64411264-7860-4968-83b9-3680040f69b7\")) {                    Plotly.newPlot(                        \"64411264-7860-4968-83b9-3680040f69b7\",                        [{\"coloraxis\":\"coloraxis\",\"name\":\"0\",\"texttemplate\":\"%{z}\",\"x\":[\"Class 1\",\"Class 2\"],\"y\":[\"Class 1\",\"Class 2\"],\"z\":[[54,0],[0,46]],\"type\":\"heatmap\",\"xaxis\":\"x\",\"yaxis\":\"y\",\"hovertemplate\":\"Predicted: %{x}\\u003cbr\\u003eActual: %{y}\\u003cbr\\u003ecolor: %{z}\\u003cextra\\u003e\\u003c\\u002fextra\\u003e\"}],                        {\"template\":{\"data\":{\"histogram2dcontour\":[{\"type\":\"histogram2dcontour\",\"colorbar\":{\"outlinewidth\":0,\"ticks\":\"\"},\"colorscale\":[[0.0,\"#0d0887\"],[0.1111111111111111,\"#46039f\"],[0.2222222222222222,\"#7201a8\"],[0.3333333333333333,\"#9c179e\"],[0.4444444444444444,\"#bd3786\"],[0.5555555555555556,\"#d8576b\"],[0.6666666666666666,\"#ed7953\"],[0.7777777777777778,\"#fb9f3a\"],[0.8888888888888888,\"#fdca26\"],[1.0,\"#f0f921\"]]}],\"choropleth\":[{\"type\":\"choropleth\",\"colorbar\":{\"outlinewidth\":0,\"ticks\":\"\"}}],\"histogram2d\":[{\"type\":\"histogram2d\",\"colorbar\":{\"outlinewidth\":0,\"ticks\":\"\"},\"colorscale\":[[0.0,\"#0d0887\"],[0.1111111111111111,\"#46039f\"],[0.2222222222222222,\"#7201a8\"],[0.3333333333333333,\"#9c179e\"],[0.4444444444444444,\"#bd3786\"],[0.5555555555555556,\"#d8576b\"],[0.6666666666666666,\"#ed7953\"],[0.7777777777777778,\"#fb9f3a\"],[0.8888888888888888,\"#fdca26\"],[1.0,\"#f0f921\"]]}],\"heatmap\":[{\"type\":\"heatmap\",\"colorbar\":{\"outlinewidth\":0,\"ticks\":\"\"},\"colorscale\":[[0.0,\"#0d0887\"],[0.1111111111111111,\"#46039f\"],[0.2222222222222222,\"#7201a8\"],[0.3333333333333333,\"#9c179e\"],[0.4444444444444444,\"#bd3786\"],[0.5555555555555556,\"#d8576b\"],[0.6666666666666666,\"#ed7953\"],[0.7777777777777778,\"#fb9f3a\"],[0.8888888888888888,\"#fdca26\"],[1.0,\"#f0f921\"]]}],\"heatmapgl\":[{\"type\":\"heatmapgl\",\"colorbar\":{\"outlinewidth\":0,\"ticks\":\"\"},\"colorscale\":[[0.0,\"#0d0887\"],[0.1111111111111111,\"#46039f\"],[0.2222222222222222,\"#7201a8\"],[0.3333333333333333,\"#9c179e\"],[0.4444444444444444,\"#bd3786\"],[0.5555555555555556,\"#d8576b\"],[0.6666666666666666,\"#ed7953\"],[0.7777777777777778,\"#fb9f3a\"],[0.8888888888888888,\"#fdca26\"],[1.0,\"#f0f921\"]]}],\"contourcarpet\":[{\"type\":\"contourcarpet\",\"colorbar\":{\"outlinewidth\":0,\"ticks\":\"\"}}],\"contour\":[{\"type\":\"contour\",\"colorbar\":{\"outlinewidth\":0,\"ticks\":\"\"},\"colorscale\":[[0.0,\"#0d0887\"],[0.1111111111111111,\"#46039f\"],[0.2222222222222222,\"#7201a8\"],[0.3333333333333333,\"#9c179e\"],[0.4444444444444444,\"#bd3786\"],[0.5555555555555556,\"#d8576b\"],[0.6666666666666666,\"#ed7953\"],[0.7777777777777778,\"#fb9f3a\"],[0.8888888888888888,\"#fdca26\"],[1.0,\"#f0f921\"]]}],\"surface\":[{\"type\":\"surface\",\"colorbar\":{\"outlinewidth\":0,\"ticks\":\"\"},\"colorscale\":[[0.0,\"#0d0887\"],[0.1111111111111111,\"#46039f\"],[0.2222222222222222,\"#7201a8\"],[0.3333333333333333,\"#9c179e\"],[0.4444444444444444,\"#bd3786\"],[0.5555555555555556,\"#d8576b\"],[0.6666666666666666,\"#ed7953\"],[0.7777777777777778,\"#fb9f3a\"],[0.8888888888888888,\"#fdca26\"],[1.0,\"#f0f921\"]]}],\"mesh3d\":[{\"type\":\"mesh3d\",\"colorbar\":{\"outlinewidth\":0,\"ticks\":\"\"}}],\"scatter\":[{\"fillpattern\":{\"fillmode\":\"overlay\",\"size\":10,\"solidity\":0.2},\"type\":\"scatter\"}],\"parcoords\":[{\"type\":\"parcoords\",\"line\":{\"colorbar\":{\"outlinewidth\":0,\"ticks\":\"\"}}}],\"scatterpolargl\":[{\"type\":\"scatterpolargl\",\"marker\":{\"colorbar\":{\"outlinewidth\":0,\"ticks\":\"\"}}}],\"bar\":[{\"error_x\":{\"color\":\"#2a3f5f\"},\"error_y\":{\"color\":\"#2a3f5f\"},\"marker\":{\"line\":{\"color\":\"#E5ECF6\",\"width\":0.5},\"pattern\":{\"fillmode\":\"overlay\",\"size\":10,\"solidity\":0.2}},\"type\":\"bar\"}],\"scattergeo\":[{\"type\":\"scattergeo\",\"marker\":{\"colorbar\":{\"outlinewidth\":0,\"ticks\":\"\"}}}],\"scatterpolar\":[{\"type\":\"scatterpolar\",\"marker\":{\"colorbar\":{\"outlinewidth\":0,\"ticks\":\"\"}}}],\"histogram\":[{\"marker\":{\"pattern\":{\"fillmode\":\"overlay\",\"size\":10,\"solidity\":0.2}},\"type\":\"histogram\"}],\"scattergl\":[{\"type\":\"scattergl\",\"marker\":{\"colorbar\":{\"outlinewidth\":0,\"ticks\":\"\"}}}],\"scatter3d\":[{\"type\":\"scatter3d\",\"line\":{\"colorbar\":{\"outlinewidth\":0,\"ticks\":\"\"}},\"marker\":{\"colorbar\":{\"outlinewidth\":0,\"ticks\":\"\"}}}],\"scattermapbox\":[{\"type\":\"scattermapbox\",\"marker\":{\"colorbar\":{\"outlinewidth\":0,\"ticks\":\"\"}}}],\"scatterternary\":[{\"type\":\"scatterternary\",\"marker\":{\"colorbar\":{\"outlinewidth\":0,\"ticks\":\"\"}}}],\"scattercarpet\":[{\"type\":\"scattercarpet\",\"marker\":{\"colorbar\":{\"outlinewidth\":0,\"ticks\":\"\"}}}],\"carpet\":[{\"aaxis\":{\"endlinecolor\":\"#2a3f5f\",\"gridcolor\":\"white\",\"linecolor\":\"white\",\"minorgridcolor\":\"white\",\"startlinecolor\":\"#2a3f5f\"},\"baxis\":{\"endlinecolor\":\"#2a3f5f\",\"gridcolor\":\"white\",\"linecolor\":\"white\",\"minorgridcolor\":\"white\",\"startlinecolor\":\"#2a3f5f\"},\"type\":\"carpet\"}],\"table\":[{\"cells\":{\"fill\":{\"color\":\"#EBF0F8\"},\"line\":{\"color\":\"white\"}},\"header\":{\"fill\":{\"color\":\"#C8D4E3\"},\"line\":{\"color\":\"white\"}},\"type\":\"table\"}],\"barpolar\":[{\"marker\":{\"line\":{\"color\":\"#E5ECF6\",\"width\":0.5},\"pattern\":{\"fillmode\":\"overlay\",\"size\":10,\"solidity\":0.2}},\"type\":\"barpolar\"}],\"pie\":[{\"automargin\":true,\"type\":\"pie\"}]},\"layout\":{\"autotypenumbers\":\"strict\",\"colorway\":[\"#636efa\",\"#EF553B\",\"#00cc96\",\"#ab63fa\",\"#FFA15A\",\"#19d3f3\",\"#FF6692\",\"#B6E880\",\"#FF97FF\",\"#FECB52\"],\"font\":{\"color\":\"#2a3f5f\"},\"hovermode\":\"closest\",\"hoverlabel\":{\"align\":\"left\"},\"paper_bgcolor\":\"white\",\"plot_bgcolor\":\"#E5ECF6\",\"polar\":{\"bgcolor\":\"#E5ECF6\",\"angularaxis\":{\"gridcolor\":\"white\",\"linecolor\":\"white\",\"ticks\":\"\"},\"radialaxis\":{\"gridcolor\":\"white\",\"linecolor\":\"white\",\"ticks\":\"\"}},\"ternary\":{\"bgcolor\":\"#E5ECF6\",\"aaxis\":{\"gridcolor\":\"white\",\"linecolor\":\"white\",\"ticks\":\"\"},\"baxis\":{\"gridcolor\":\"white\",\"linecolor\":\"white\",\"ticks\":\"\"},\"caxis\":{\"gridcolor\":\"white\",\"linecolor\":\"white\",\"ticks\":\"\"}},\"coloraxis\":{\"colorbar\":{\"outlinewidth\":0,\"ticks\":\"\"}},\"colorscale\":{\"sequential\":[[0.0,\"#0d0887\"],[0.1111111111111111,\"#46039f\"],[0.2222222222222222,\"#7201a8\"],[0.3333333333333333,\"#9c179e\"],[0.4444444444444444,\"#bd3786\"],[0.5555555555555556,\"#d8576b\"],[0.6666666666666666,\"#ed7953\"],[0.7777777777777778,\"#fb9f3a\"],[0.8888888888888888,\"#fdca26\"],[1.0,\"#f0f921\"]],\"sequentialminus\":[[0.0,\"#0d0887\"],[0.1111111111111111,\"#46039f\"],[0.2222222222222222,\"#7201a8\"],[0.3333333333333333,\"#9c179e\"],[0.4444444444444444,\"#bd3786\"],[0.5555555555555556,\"#d8576b\"],[0.6666666666666666,\"#ed7953\"],[0.7777777777777778,\"#fb9f3a\"],[0.8888888888888888,\"#fdca26\"],[1.0,\"#f0f921\"]],\"diverging\":[[0,\"#8e0152\"],[0.1,\"#c51b7d\"],[0.2,\"#de77ae\"],[0.3,\"#f1b6da\"],[0.4,\"#fde0ef\"],[0.5,\"#f7f7f7\"],[0.6,\"#e6f5d0\"],[0.7,\"#b8e186\"],[0.8,\"#7fbc41\"],[0.9,\"#4d9221\"],[1,\"#276419\"]]},\"xaxis\":{\"gridcolor\":\"white\",\"linecolor\":\"white\",\"ticks\":\"\",\"title\":{\"standoff\":15},\"zerolinecolor\":\"white\",\"automargin\":true,\"zerolinewidth\":2},\"yaxis\":{\"gridcolor\":\"white\",\"linecolor\":\"white\",\"ticks\":\"\",\"title\":{\"standoff\":15},\"zerolinecolor\":\"white\",\"automargin\":true,\"zerolinewidth\":2},\"scene\":{\"xaxis\":{\"backgroundcolor\":\"#E5ECF6\",\"gridcolor\":\"white\",\"linecolor\":\"white\",\"showbackground\":true,\"ticks\":\"\",\"zerolinecolor\":\"white\",\"gridwidth\":2},\"yaxis\":{\"backgroundcolor\":\"#E5ECF6\",\"gridcolor\":\"white\",\"linecolor\":\"white\",\"showbackground\":true,\"ticks\":\"\",\"zerolinecolor\":\"white\",\"gridwidth\":2},\"zaxis\":{\"backgroundcolor\":\"#E5ECF6\",\"gridcolor\":\"white\",\"linecolor\":\"white\",\"showbackground\":true,\"ticks\":\"\",\"zerolinecolor\":\"white\",\"gridwidth\":2}},\"shapedefaults\":{\"line\":{\"color\":\"#2a3f5f\"}},\"annotationdefaults\":{\"arrowcolor\":\"#2a3f5f\",\"arrowhead\":0,\"arrowwidth\":1},\"geo\":{\"bgcolor\":\"white\",\"landcolor\":\"#E5ECF6\",\"subunitcolor\":\"white\",\"showland\":true,\"showlakes\":true,\"lakecolor\":\"white\"},\"title\":{\"x\":0.05},\"mapbox\":{\"style\":\"light\"}}},\"xaxis\":{\"anchor\":\"y\",\"domain\":[0.0,1.0],\"title\":{\"text\":\"Predicted\"}},\"yaxis\":{\"anchor\":\"x\",\"domain\":[0.0,1.0],\"autorange\":\"reversed\",\"title\":{\"text\":\"Actual\"}},\"coloraxis\":{\"colorscale\":[[0.0,\"rgb(247,252,245)\"],[0.125,\"rgb(229,245,224)\"],[0.25,\"rgb(199,233,192)\"],[0.375,\"rgb(161,217,155)\"],[0.5,\"rgb(116,196,118)\"],[0.625,\"rgb(65,171,93)\"],[0.75,\"rgb(35,139,69)\"],[0.875,\"rgb(0,109,44)\"],[1.0,\"rgb(0,68,27)\"]]},\"title\":{\"text\":\"Confusion Matrix (Test Set)\"},\"height\":500,\"width\":500},                        {\"responsive\": true}                    ).then(function(){\n",
              "                            \n",
              "var gd = document.getElementById('64411264-7860-4968-83b9-3680040f69b7');\n",
              "var x = new MutationObserver(function (mutations, observer) {{\n",
              "        var display = window.getComputedStyle(gd).display;\n",
              "        if (!display || display === 'none') {{\n",
              "            console.log([gd, 'removed!']);\n",
              "            Plotly.purge(gd);\n",
              "            observer.disconnect();\n",
              "        }}\n",
              "}});\n",
              "\n",
              "// Listen for the removal of the full notebook cells\n",
              "var notebookContainer = gd.closest('#notebook-container');\n",
              "if (notebookContainer) {{\n",
              "    x.observe(notebookContainer, {childList: true});\n",
              "}}\n",
              "\n",
              "// Listen for the clearing of the current output cell\n",
              "var outputEl = gd.closest('.output');\n",
              "if (outputEl) {{\n",
              "    x.observe(outputEl, {childList: true});\n",
              "}}\n",
              "\n",
              "                        })                };                            </script>        </div>\n",
              "</body>\n",
              "</html>"
            ]
          },
          "metadata": {}
        }
      ]
    },
    {
      "cell_type": "markdown",
      "source": [
        "**Hyperparameter tuning**"
      ],
      "metadata": {
        "id": "C04iiJbk7u9I"
      }
    },
    {
      "cell_type": "code",
      "source": [
        "best_accuracy = 0\n",
        "best_model = None"
      ],
      "metadata": {
        "id": "FKLauK4N7y8F"
      },
      "execution_count": 49,
      "outputs": []
    },
    {
      "cell_type": "code",
      "source": [
        "for learning_rate in [0.001, 0.01, 0.1]:\n",
        "    for test_size in [0.2, 0.3, 0.4]:\n",
        "        X_train_new, X_test_new, y_train_new, y_test_new = train_test_split(X, y, test_size = test_size, random_state = 42)\n",
        "\n",
        "        weights, bias = train_perceptron(X_train_new, y_train_new, learning_rate, MAX_EPOCHS)\n",
        "        y_pred_new = predict_perceptron(weights, bias, X_test_new)\n",
        "        accuracy = accuracy_score(y_test_new, y_pred_new)\n",
        "\n",
        "        if accuracy > best_accuracy:\n",
        "            best_accuracy = accuracy\n",
        "            best_model = {'weights': weights, 'bias': bias, 'learning_rate': learning_rate, 'test_size': test_size}\n"
      ],
      "metadata": {
        "id": "9PbHQu7i6Ads"
      },
      "execution_count": 50,
      "outputs": []
    },
    {
      "cell_type": "code",
      "source": [
        "best_model"
      ],
      "metadata": {
        "colab": {
          "base_uri": "https://localhost:8080/"
        },
        "id": "1wZkWWt84iDB",
        "outputId": "fd7cb139-6fd7-4e87-d75e-fa40a72f1be0"
      },
      "execution_count": 51,
      "outputs": [
        {
          "output_type": "execute_result",
          "data": {
            "text/plain": [
              "{'weights': array([[-0.18967397],\n",
              "        [-0.07446646]]),\n",
              " 'bias': 0.9229999999999998,\n",
              " 'learning_rate': 0.001,\n",
              " 'test_size': 0.3}"
            ]
          },
          "metadata": {},
          "execution_count": 51
        }
      ]
    },
    {
      "cell_type": "code",
      "source": [
        "X_train_best, X_test_best, y_train_best, y_test_best = train_test_split(X, y, test_size = best_model['test_size'], random_state = 42)"
      ],
      "metadata": {
        "id": "YjV5gipN7907"
      },
      "execution_count": 52,
      "outputs": []
    },
    {
      "cell_type": "code",
      "source": [
        "print(f'Shape of X_train_best= {X_train_best.shape}\\n')\n",
        "print(f'Shape of y_train_best= {y_train_best.shape}\\tType = {type(y_train_best)}\\n')\n",
        "print(f'Shape of X_test_best= {X_test_best.shape}\\n')\n",
        "print(f'Shape of y_test_best = {y_test_best.shape}\\tType = {type(y_test_best)}\\n')"
      ],
      "metadata": {
        "colab": {
          "base_uri": "https://localhost:8080/"
        },
        "id": "HwdbqpEk8c8U",
        "outputId": "2335acc7-4f79-4bc2-89e8-eea6ccb066ff"
      },
      "execution_count": 53,
      "outputs": [
        {
          "output_type": "stream",
          "name": "stdout",
          "text": [
            "Shape of X_train_best= (350, 3)\n",
            "\n",
            "Shape of y_train_best= (350,)\tType = <class 'numpy.ndarray'>\n",
            "\n",
            "Shape of X_test_best= (150, 3)\n",
            "\n",
            "Shape of y_test_best = (150,)\tType = <class 'numpy.ndarray'>\n",
            "\n"
          ]
        }
      ]
    },
    {
      "cell_type": "code",
      "source": [
        "best_weights, best_bias = train_perceptron(X_train_best, y_train_best, best_model['learning_rate'], MAX_EPOCHS)"
      ],
      "metadata": {
        "id": "H2_aqOx088OI"
      },
      "execution_count": 54,
      "outputs": []
    },
    {
      "cell_type": "code",
      "source": [
        "best_weights"
      ],
      "metadata": {
        "colab": {
          "base_uri": "https://localhost:8080/"
        },
        "id": "rW79Aq1V9hm6",
        "outputId": "f3700e81-5b53-4a5c-f6d2-f3b645fa3bad"
      },
      "execution_count": 55,
      "outputs": [
        {
          "output_type": "execute_result",
          "data": {
            "text/plain": [
              "array([[-0.18967397],\n",
              "       [-0.07446646]])"
            ]
          },
          "metadata": {},
          "execution_count": 55
        }
      ]
    },
    {
      "cell_type": "code",
      "source": [
        "best_bias"
      ],
      "metadata": {
        "colab": {
          "base_uri": "https://localhost:8080/"
        },
        "id": "UGfM9_L89iZl",
        "outputId": "023883f5-d840-4344-f713-13f5c683cd8f"
      },
      "execution_count": 56,
      "outputs": [
        {
          "output_type": "execute_result",
          "data": {
            "text/plain": [
              "0.9229999999999998"
            ]
          },
          "metadata": {},
          "execution_count": 56
        }
      ]
    },
    {
      "cell_type": "code",
      "source": [
        "y_pred_best = predict_perceptron(weights, bias, X_test_best)\n",
        "y_pred_best = y_pred_best.flatten()\n",
        "\n",
        "print(f'Shape = {y_pred_best.shape}\\tType = {type(y_pred_best)}\\n')\n",
        "pd.Series(y_pred_best, name = 'Label').head()"
      ],
      "metadata": {
        "colab": {
          "base_uri": "https://localhost:8080/"
        },
        "id": "HA0j_qDD9L7F",
        "outputId": "075bf848-c9e5-4f1c-d6a3-4dff5a056f02"
      },
      "execution_count": 57,
      "outputs": [
        {
          "output_type": "stream",
          "name": "stdout",
          "text": [
            "Shape = (150,)\tType = <class 'numpy.ndarray'>\n",
            "\n"
          ]
        },
        {
          "output_type": "execute_result",
          "data": {
            "text/plain": [
              "0    0\n",
              "1    1\n",
              "2    0\n",
              "3    1\n",
              "4    1\n",
              "Name: Label, dtype: int64"
            ]
          },
          "metadata": {},
          "execution_count": 57
        }
      ]
    },
    {
      "cell_type": "markdown",
      "source": [
        "# **Step 10:** Plot the decision boundary between two classified class."
      ],
      "metadata": {
        "id": "_VcvuCK8CxuG"
      }
    },
    {
      "cell_type": "code",
      "source": [
        "a, b = best_weights.flatten()\n",
        "c = best_bias"
      ],
      "metadata": {
        "id": "U3P_x-VzHxV-"
      },
      "execution_count": 58,
      "outputs": []
    },
    {
      "cell_type": "code",
      "source": [
        "a"
      ],
      "metadata": {
        "colab": {
          "base_uri": "https://localhost:8080/"
        },
        "id": "sPT_mDPIH441",
        "outputId": "9e1132b7-ba7e-4364-bfec-4dcf1cc61684"
      },
      "execution_count": 59,
      "outputs": [
        {
          "output_type": "execute_result",
          "data": {
            "text/plain": [
              "-0.1896739675237998"
            ]
          },
          "metadata": {},
          "execution_count": 59
        }
      ]
    },
    {
      "cell_type": "code",
      "source": [
        "b"
      ],
      "metadata": {
        "colab": {
          "base_uri": "https://localhost:8080/"
        },
        "id": "wTzpPUyVH48J",
        "outputId": "ca57bdc1-b3e0-42a3-aa95-79187491413d"
      },
      "execution_count": 60,
      "outputs": [
        {
          "output_type": "execute_result",
          "data": {
            "text/plain": [
              "-0.07446646277414819"
            ]
          },
          "metadata": {},
          "execution_count": 60
        }
      ]
    },
    {
      "cell_type": "code",
      "source": [
        "# Find the minimum and maximum values in Feature 1 (X-axis)\n",
        "\n",
        "x_axis_vals = dataset[:, 0]\n",
        "min_x_val = min(x_axis_vals)\n",
        "max_x_val = max(x_axis_vals)\n",
        "\n",
        "print(f'Range of X-axis is: ({min_x_val}, {max_x_val})')"
      ],
      "metadata": {
        "colab": {
          "base_uri": "https://localhost:8080/"
        },
        "id": "YiW5MS2zC3we",
        "outputId": "1863b717-b97e-4302-dad9-ca3802729128"
      },
      "execution_count": 61,
      "outputs": [
        {
          "output_type": "stream",
          "name": "stdout",
          "text": [
            "Range of X-axis is: (-4.875477861541521, 7.3485254894826575)\n"
          ]
        }
      ]
    },
    {
      "cell_type": "code",
      "source": [
        "# Generate x values\n",
        "\n",
        "x_values = np.linspace(min_x_val, max_x_val, 100)\n",
        "x_values"
      ],
      "metadata": {
        "colab": {
          "base_uri": "https://localhost:8080/"
        },
        "id": "hb0770mYHCJD",
        "outputId": "19e58fef-91ed-4f0b-db8e-d3b676a11d81"
      },
      "execution_count": 62,
      "outputs": [
        {
          "output_type": "execute_result",
          "data": {
            "text/plain": [
              "array([-4.87547786, -4.75200308, -4.6285283 , -4.50505352, -4.38157874,\n",
              "       -4.25810395, -4.13462917, -4.01115439, -3.88767961, -3.76420483,\n",
              "       -3.64073005, -3.51725527, -3.39378049, -3.2703057 , -3.14683092,\n",
              "       -3.02335614, -2.89988136, -2.77640658, -2.6529318 , -2.52945702,\n",
              "       -2.40598224, -2.28250745, -2.15903267, -2.03555789, -1.91208311,\n",
              "       -1.78860833, -1.66513355, -1.54165877, -1.41818398, -1.2947092 ,\n",
              "       -1.17123442, -1.04775964, -0.92428486, -0.80081008, -0.6773353 ,\n",
              "       -0.55386052, -0.43038573, -0.30691095, -0.18343617, -0.05996139,\n",
              "        0.06351339,  0.18698817,  0.31046295,  0.43393774,  0.55741252,\n",
              "        0.6808873 ,  0.80436208,  0.92783686,  1.05131164,  1.17478642,\n",
              "        1.2982612 ,  1.42173599,  1.54521077,  1.66868555,  1.79216033,\n",
              "        1.91563511,  2.03910989,  2.16258467,  2.28605946,  2.40953424,\n",
              "        2.53300902,  2.6564838 ,  2.77995858,  2.90343336,  3.02690814,\n",
              "        3.15038292,  3.27385771,  3.39733249,  3.52080727,  3.64428205,\n",
              "        3.76775683,  3.89123161,  4.01470639,  4.13818118,  4.26165596,\n",
              "        4.38513074,  4.50860552,  4.6320803 ,  4.75555508,  4.87902986,\n",
              "        5.00250464,  5.12597943,  5.24945421,  5.37292899,  5.49640377,\n",
              "        5.61987855,  5.74335333,  5.86682811,  5.99030289,  6.11377768,\n",
              "        6.23725246,  6.36072724,  6.48420202,  6.6076768 ,  6.73115158,\n",
              "        6.85462636,  6.97810115,  7.10157593,  7.22505071,  7.34852549])"
            ]
          },
          "metadata": {},
          "execution_count": 62
        }
      ]
    },
    {
      "cell_type": "code",
      "source": [
        "# Calculate y values based on the line equation\n",
        "\n",
        "y_values = (-a * x_values - c) / b\n",
        "y_values"
      ],
      "metadata": {
        "colab": {
          "base_uri": "https://localhost:8080/"
        },
        "id": "PM0zRg42HCK9",
        "outputId": "82be4feb-3f37-4dbe-9adf-c62554031377"
      },
      "execution_count": 63,
      "outputs": [
        {
          "output_type": "execute_result",
          "data": {
            "text/plain": [
              "array([24.81319994, 24.49869659, 24.18419325, 23.8696899 , 23.55518656,\n",
              "       23.24068321, 22.92617987, 22.61167652, 22.29717318, 21.98266983,\n",
              "       21.66816649, 21.35366314, 21.03915979, 20.72465645, 20.4101531 ,\n",
              "       20.09564976, 19.78114641, 19.46664307, 19.15213972, 18.83763638,\n",
              "       18.52313303, 18.20862969, 17.89412634, 17.57962299, 17.26511965,\n",
              "       16.9506163 , 16.63611296, 16.32160961, 16.00710627, 15.69260292,\n",
              "       15.37809958, 15.06359623, 14.74909289, 14.43458954, 14.1200862 ,\n",
              "       13.80558285, 13.4910795 , 13.17657616, 12.86207281, 12.54756947,\n",
              "       12.23306612, 11.91856278, 11.60405943, 11.28955609, 10.97505274,\n",
              "       10.6605494 , 10.34604605, 10.03154271,  9.71703936,  9.40253601,\n",
              "        9.08803267,  8.77352932,  8.45902598,  8.14452263,  7.83001929,\n",
              "        7.51551594,  7.2010126 ,  6.88650925,  6.57200591,  6.25750256,\n",
              "        5.94299921,  5.62849587,  5.31399252,  4.99948918,  4.68498583,\n",
              "        4.37048249,  4.05597914,  3.7414758 ,  3.42697245,  3.11246911,\n",
              "        2.79796576,  2.48346242,  2.16895907,  1.85445572,  1.53995238,\n",
              "        1.22544903,  0.91094569,  0.59644234,  0.281939  , -0.03256435,\n",
              "       -0.34706769, -0.66157104, -0.97607438, -1.29057773, -1.60508107,\n",
              "       -1.91958442, -2.23408777, -2.54859111, -2.86309446, -3.1775978 ,\n",
              "       -3.49210115, -3.80660449, -4.12110784, -4.43561118, -4.75011453,\n",
              "       -5.06461787, -5.37912122, -5.69362456, -6.00812791, -6.32263126])"
            ]
          },
          "metadata": {},
          "execution_count": 63
        }
      ]
    },
    {
      "cell_type": "code",
      "source": [
        "# Create a DataFrame for plotting\n",
        "\n",
        "points_on_line = {'x': x_values, 'y': y_values}\n",
        "line_df = pd.DataFrame(points_on_line)\n",
        "line_df.head()"
      ],
      "metadata": {
        "colab": {
          "base_uri": "https://localhost:8080/",
          "height": 206
        },
        "id": "BrQ6OV5yHCNQ",
        "outputId": "46d16263-660f-482d-dc93-653d3b4d9b8f"
      },
      "execution_count": 64,
      "outputs": [
        {
          "output_type": "execute_result",
          "data": {
            "text/plain": [
              "          x          y\n",
              "0 -4.875478  24.813200\n",
              "1 -4.752003  24.498697\n",
              "2 -4.628528  24.184193\n",
              "3 -4.505054  23.869690\n",
              "4 -4.381579  23.555187"
            ],
            "text/html": [
              "\n",
              "  <div id=\"df-01689fa3-9c66-44ee-820c-ef5e45179452\" class=\"colab-df-container\">\n",
              "    <div>\n",
              "<style scoped>\n",
              "    .dataframe tbody tr th:only-of-type {\n",
              "        vertical-align: middle;\n",
              "    }\n",
              "\n",
              "    .dataframe tbody tr th {\n",
              "        vertical-align: top;\n",
              "    }\n",
              "\n",
              "    .dataframe thead th {\n",
              "        text-align: right;\n",
              "    }\n",
              "</style>\n",
              "<table border=\"1\" class=\"dataframe\">\n",
              "  <thead>\n",
              "    <tr style=\"text-align: right;\">\n",
              "      <th></th>\n",
              "      <th>x</th>\n",
              "      <th>y</th>\n",
              "    </tr>\n",
              "  </thead>\n",
              "  <tbody>\n",
              "    <tr>\n",
              "      <th>0</th>\n",
              "      <td>-4.875478</td>\n",
              "      <td>24.813200</td>\n",
              "    </tr>\n",
              "    <tr>\n",
              "      <th>1</th>\n",
              "      <td>-4.752003</td>\n",
              "      <td>24.498697</td>\n",
              "    </tr>\n",
              "    <tr>\n",
              "      <th>2</th>\n",
              "      <td>-4.628528</td>\n",
              "      <td>24.184193</td>\n",
              "    </tr>\n",
              "    <tr>\n",
              "      <th>3</th>\n",
              "      <td>-4.505054</td>\n",
              "      <td>23.869690</td>\n",
              "    </tr>\n",
              "    <tr>\n",
              "      <th>4</th>\n",
              "      <td>-4.381579</td>\n",
              "      <td>23.555187</td>\n",
              "    </tr>\n",
              "  </tbody>\n",
              "</table>\n",
              "</div>\n",
              "    <div class=\"colab-df-buttons\">\n",
              "\n",
              "  <div class=\"colab-df-container\">\n",
              "    <button class=\"colab-df-convert\" onclick=\"convertToInteractive('df-01689fa3-9c66-44ee-820c-ef5e45179452')\"\n",
              "            title=\"Convert this dataframe to an interactive table.\"\n",
              "            style=\"display:none;\">\n",
              "\n",
              "  <svg xmlns=\"http://www.w3.org/2000/svg\" height=\"24px\" viewBox=\"0 -960 960 960\">\n",
              "    <path d=\"M120-120v-720h720v720H120Zm60-500h600v-160H180v160Zm220 220h160v-160H400v160Zm0 220h160v-160H400v160ZM180-400h160v-160H180v160Zm440 0h160v-160H620v160ZM180-180h160v-160H180v160Zm440 0h160v-160H620v160Z\"/>\n",
              "  </svg>\n",
              "    </button>\n",
              "\n",
              "  <style>\n",
              "    .colab-df-container {\n",
              "      display:flex;\n",
              "      gap: 12px;\n",
              "    }\n",
              "\n",
              "    .colab-df-convert {\n",
              "      background-color: #E8F0FE;\n",
              "      border: none;\n",
              "      border-radius: 50%;\n",
              "      cursor: pointer;\n",
              "      display: none;\n",
              "      fill: #1967D2;\n",
              "      height: 32px;\n",
              "      padding: 0 0 0 0;\n",
              "      width: 32px;\n",
              "    }\n",
              "\n",
              "    .colab-df-convert:hover {\n",
              "      background-color: #E2EBFA;\n",
              "      box-shadow: 0px 1px 2px rgba(60, 64, 67, 0.3), 0px 1px 3px 1px rgba(60, 64, 67, 0.15);\n",
              "      fill: #174EA6;\n",
              "    }\n",
              "\n",
              "    .colab-df-buttons div {\n",
              "      margin-bottom: 4px;\n",
              "    }\n",
              "\n",
              "    [theme=dark] .colab-df-convert {\n",
              "      background-color: #3B4455;\n",
              "      fill: #D2E3FC;\n",
              "    }\n",
              "\n",
              "    [theme=dark] .colab-df-convert:hover {\n",
              "      background-color: #434B5C;\n",
              "      box-shadow: 0px 1px 3px 1px rgba(0, 0, 0, 0.15);\n",
              "      filter: drop-shadow(0px 1px 2px rgba(0, 0, 0, 0.3));\n",
              "      fill: #FFFFFF;\n",
              "    }\n",
              "  </style>\n",
              "\n",
              "    <script>\n",
              "      const buttonEl =\n",
              "        document.querySelector('#df-01689fa3-9c66-44ee-820c-ef5e45179452 button.colab-df-convert');\n",
              "      buttonEl.style.display =\n",
              "        google.colab.kernel.accessAllowed ? 'block' : 'none';\n",
              "\n",
              "      async function convertToInteractive(key) {\n",
              "        const element = document.querySelector('#df-01689fa3-9c66-44ee-820c-ef5e45179452');\n",
              "        const dataTable =\n",
              "          await google.colab.kernel.invokeFunction('convertToInteractive',\n",
              "                                                    [key], {});\n",
              "        if (!dataTable) return;\n",
              "\n",
              "        const docLinkHtml = 'Like what you see? Visit the ' +\n",
              "          '<a target=\"_blank\" href=https://colab.research.google.com/notebooks/data_table.ipynb>data table notebook</a>'\n",
              "          + ' to learn more about interactive tables.';\n",
              "        element.innerHTML = '';\n",
              "        dataTable['output_type'] = 'display_data';\n",
              "        await google.colab.output.renderOutput(dataTable, element);\n",
              "        const docLink = document.createElement('div');\n",
              "        docLink.innerHTML = docLinkHtml;\n",
              "        element.appendChild(docLink);\n",
              "      }\n",
              "    </script>\n",
              "  </div>\n",
              "\n",
              "\n",
              "<div id=\"df-348788d1-065f-47b2-8739-8b5ddf387736\">\n",
              "  <button class=\"colab-df-quickchart\" onclick=\"quickchart('df-348788d1-065f-47b2-8739-8b5ddf387736')\"\n",
              "            title=\"Suggest charts\"\n",
              "            style=\"display:none;\">\n",
              "\n",
              "<svg xmlns=\"http://www.w3.org/2000/svg\" height=\"24px\"viewBox=\"0 0 24 24\"\n",
              "     width=\"24px\">\n",
              "    <g>\n",
              "        <path d=\"M19 3H5c-1.1 0-2 .9-2 2v14c0 1.1.9 2 2 2h14c1.1 0 2-.9 2-2V5c0-1.1-.9-2-2-2zM9 17H7v-7h2v7zm4 0h-2V7h2v10zm4 0h-2v-4h2v4z\"/>\n",
              "    </g>\n",
              "</svg>\n",
              "  </button>\n",
              "\n",
              "<style>\n",
              "  .colab-df-quickchart {\n",
              "      --bg-color: #E8F0FE;\n",
              "      --fill-color: #1967D2;\n",
              "      --hover-bg-color: #E2EBFA;\n",
              "      --hover-fill-color: #174EA6;\n",
              "      --disabled-fill-color: #AAA;\n",
              "      --disabled-bg-color: #DDD;\n",
              "  }\n",
              "\n",
              "  [theme=dark] .colab-df-quickchart {\n",
              "      --bg-color: #3B4455;\n",
              "      --fill-color: #D2E3FC;\n",
              "      --hover-bg-color: #434B5C;\n",
              "      --hover-fill-color: #FFFFFF;\n",
              "      --disabled-bg-color: #3B4455;\n",
              "      --disabled-fill-color: #666;\n",
              "  }\n",
              "\n",
              "  .colab-df-quickchart {\n",
              "    background-color: var(--bg-color);\n",
              "    border: none;\n",
              "    border-radius: 50%;\n",
              "    cursor: pointer;\n",
              "    display: none;\n",
              "    fill: var(--fill-color);\n",
              "    height: 32px;\n",
              "    padding: 0;\n",
              "    width: 32px;\n",
              "  }\n",
              "\n",
              "  .colab-df-quickchart:hover {\n",
              "    background-color: var(--hover-bg-color);\n",
              "    box-shadow: 0 1px 2px rgba(60, 64, 67, 0.3), 0 1px 3px 1px rgba(60, 64, 67, 0.15);\n",
              "    fill: var(--button-hover-fill-color);\n",
              "  }\n",
              "\n",
              "  .colab-df-quickchart-complete:disabled,\n",
              "  .colab-df-quickchart-complete:disabled:hover {\n",
              "    background-color: var(--disabled-bg-color);\n",
              "    fill: var(--disabled-fill-color);\n",
              "    box-shadow: none;\n",
              "  }\n",
              "\n",
              "  .colab-df-spinner {\n",
              "    border: 2px solid var(--fill-color);\n",
              "    border-color: transparent;\n",
              "    border-bottom-color: var(--fill-color);\n",
              "    animation:\n",
              "      spin 1s steps(1) infinite;\n",
              "  }\n",
              "\n",
              "  @keyframes spin {\n",
              "    0% {\n",
              "      border-color: transparent;\n",
              "      border-bottom-color: var(--fill-color);\n",
              "      border-left-color: var(--fill-color);\n",
              "    }\n",
              "    20% {\n",
              "      border-color: transparent;\n",
              "      border-left-color: var(--fill-color);\n",
              "      border-top-color: var(--fill-color);\n",
              "    }\n",
              "    30% {\n",
              "      border-color: transparent;\n",
              "      border-left-color: var(--fill-color);\n",
              "      border-top-color: var(--fill-color);\n",
              "      border-right-color: var(--fill-color);\n",
              "    }\n",
              "    40% {\n",
              "      border-color: transparent;\n",
              "      border-right-color: var(--fill-color);\n",
              "      border-top-color: var(--fill-color);\n",
              "    }\n",
              "    60% {\n",
              "      border-color: transparent;\n",
              "      border-right-color: var(--fill-color);\n",
              "    }\n",
              "    80% {\n",
              "      border-color: transparent;\n",
              "      border-right-color: var(--fill-color);\n",
              "      border-bottom-color: var(--fill-color);\n",
              "    }\n",
              "    90% {\n",
              "      border-color: transparent;\n",
              "      border-bottom-color: var(--fill-color);\n",
              "    }\n",
              "  }\n",
              "</style>\n",
              "\n",
              "  <script>\n",
              "    async function quickchart(key) {\n",
              "      const quickchartButtonEl =\n",
              "        document.querySelector('#' + key + ' button');\n",
              "      quickchartButtonEl.disabled = true;  // To prevent multiple clicks.\n",
              "      quickchartButtonEl.classList.add('colab-df-spinner');\n",
              "      try {\n",
              "        const charts = await google.colab.kernel.invokeFunction(\n",
              "            'suggestCharts', [key], {});\n",
              "      } catch (error) {\n",
              "        console.error('Error during call to suggestCharts:', error);\n",
              "      }\n",
              "      quickchartButtonEl.classList.remove('colab-df-spinner');\n",
              "      quickchartButtonEl.classList.add('colab-df-quickchart-complete');\n",
              "    }\n",
              "    (() => {\n",
              "      let quickchartButtonEl =\n",
              "        document.querySelector('#df-348788d1-065f-47b2-8739-8b5ddf387736 button');\n",
              "      quickchartButtonEl.style.display =\n",
              "        google.colab.kernel.accessAllowed ? 'block' : 'none';\n",
              "    })();\n",
              "  </script>\n",
              "</div>\n",
              "    </div>\n",
              "  </div>\n"
            ]
          },
          "metadata": {},
          "execution_count": 64
        }
      ]
    },
    {
      "cell_type": "code",
      "source": [
        "fig = px.scatter(data_df, x = 'Feature_1', y = 'Feature_2', width = 700, height = 500,\n",
        "                        color = 'Label',\n",
        "                        color_discrete_map={'1': 'indianred', '0': 'slateblue'},\n",
        "                        title = 'Perceptron Decision Boundary for Two Classes',\n",
        "                        labels={'Feature_1': 'Feature 1', 'Feature_2': 'Feature 2'})\n",
        "\n",
        "\n",
        "fig.update_traces(marker=dict(size = 6,\n",
        "                              line = dict(width = 1,\n",
        "                                        color = 'DarkSlateGrey')))\n",
        "\n",
        "fig.add_scatter(x=line_df['x'], y=line_df['y'], mode='lines', name = 'Decision Boundary', line=dict(color='indianred'))\n",
        "fig.show()\n",
        "fig.write_image('Perceptron Decision Boundary for Two Classes.png')"
      ],
      "metadata": {
        "colab": {
          "base_uri": "https://localhost:8080/",
          "height": 517
        },
        "id": "hvICFxypIyUy",
        "outputId": "3f6b6381-b02b-4afe-c4c7-08372586d0e7"
      },
      "execution_count": 65,
      "outputs": [
        {
          "output_type": "display_data",
          "data": {
            "text/html": [
              "<html>\n",
              "<head><meta charset=\"utf-8\" /></head>\n",
              "<body>\n",
              "    <div>            <script src=\"https://cdnjs.cloudflare.com/ajax/libs/mathjax/2.7.5/MathJax.js?config=TeX-AMS-MML_SVG\"></script><script type=\"text/javascript\">if (window.MathJax && window.MathJax.Hub && window.MathJax.Hub.Config) {window.MathJax.Hub.Config({SVG: {font: \"STIX-Web\"}});}</script>                <script type=\"text/javascript\">window.PlotlyConfig = {MathJaxConfig: 'local'};</script>\n",
              "        <script charset=\"utf-8\" src=\"https://cdn.plot.ly/plotly-2.24.1.min.js\"></script>                <div id=\"16e6fb8a-63be-42c7-9692-7bf6c54685ea\" class=\"plotly-graph-div\" style=\"height:500px; width:700px;\"></div>            <script type=\"text/javascript\">                                    window.PLOTLYENV=window.PLOTLYENV || {};                                    if (document.getElementById(\"16e6fb8a-63be-42c7-9692-7bf6c54685ea\")) {                    Plotly.newPlot(                        \"16e6fb8a-63be-42c7-9692-7bf6c54685ea\",                        [{\"hovertemplate\":\"Label=1\\u003cbr\\u003eFeature 1=%{x}\\u003cbr\\u003eFeature 2=%{y}\\u003cextra\\u003e\\u003c\\u002fextra\\u003e\",\"legendgroup\":\"1\",\"marker\":{\"color\":\"#00cc96\",\"symbol\":\"circle\",\"line\":{\"color\":\"DarkSlateGrey\",\"width\":1},\"size\":6},\"mode\":\"markers\",\"name\":\"1\",\"orientation\":\"v\",\"showlegend\":true,\"x\":[-0.21973214828790177,-1.1843192598952759,-4.875477861541521,-3.7231374720528043,-1.6936158847277551,-1.5889698213072485,-0.336115418446447,-2.585486434238814,-1.465418273879536,-2.4088363116707563,-1.7519674062282353,-1.185353569011471,-1.7685390985313862,-3.505531550350895,-2.877160290344741,-0.2813764757493036,-4.026170473986472,-1.7516338661340658,-0.6584592779356033,-1.2544781548460273,-2.740945736763642,-1.9957823733064386,-2.785519770961819,-2.7280787334228274,-2.307079013491092,-2.3867992691336686,0.26266700535119636,-2.029794311017975,-3.701927518180635,-1.5608110413453846,-1.889485289018659,-3.113277362911529,-3.740618195224361,-2.5670734670325546,-1.7862647917973153,-1.398900622568641,-0.3080963599323763,0.2507180623189029,-2.2642109293146464,-2.68271406684131,-1.6599128483845251,-2.9468748983813793,-1.8285380363719312,-2.9401293775147037,-2.014135724122088,-1.335838883279627,-1.5383363452378274,-0.8647446315122802,-2.427569463686334,-2.9944211093048256,-2.771409217977263,-2.8099247604508197,-1.9893733786658563,-3.7950567876874177,-2.186737790537768,-2.4367243631964235,-1.6296124305779003,-3.8557083717896967,-1.4124660014246198,-1.109249583987951,-0.27129029058515,-4.048539118431663,-2.0526620170545486,-1.9899931462024143,-1.1206547529826265,-0.811360346511415,-2.583646838664801,-2.3125784543401244,-1.7733707208045326,-2.40459120552171,-0.7956655480259343,-1.8614737246193518,-0.9527344474393384,-2.866491700023956,-2.2186944179782215,-1.5788538841272746,-1.9853136499287465,-0.603053548678673,-1.0601356081735789,-2.7248116133469553,-1.5372126655732443,-1.0043673348213606,-0.5705675143361062,-1.2595235726374248,-0.15637607025234335,-2.3921635338334806,-1.835702658981408,-1.106944922286044,-2.8400349575079438,-3.1308227606256813,-3.058526353382921,-2.984621225137125,-1.4223357587484302,-0.22321968319281882,-2.1259170896006236,-0.3266648957839935,-2.1519387089944004,-2.3032323853062824,-1.4515665030400884,-2.9134160054888807,-2.580166178027075,-1.3647995746022081,-1.9777782622734417,-1.310109230633835,-1.0371543319045493,-2.6914036383739393,-1.5322910395101546,-2.1803486914775916,-2.991631652013933,-2.8114249401334765,-1.5766602855898415,-1.5856684585686638,-2.504195595925754,-2.5952442610223265,-0.9722423710849895,-3.17535734937349,-1.7315244389521782,-2.276681662879374,-2.971463509866532,-1.1513396876149198,-2.1978392136138694,-2.3196926290770516,-2.7666202874964005,-1.5321517845678019,-1.739644411027256,-0.8649886808432088,-0.9436113846320269,-2.968795444002894,-1.7294027839073722,-1.8206869554059188,-2.9225743672064217,-2.3976060369741465,-3.4632778208462485,-2.8960818743918306,-2.6576516671586563,-2.075319486204687,-0.17671375075756668,-3.4144508108130536,-2.0154088450528356,-1.8626910242377304,-2.8017109738998567,-1.5124517225636347,-2.619077641476659,-0.7951300751060557,-1.858265978943022,-0.3105705424166867,-1.7092662484781984,-1.6207396997388002,-2.6372044054807513,-2.6903795978373113,-0.3064369006782566,-0.3131931516992079,-0.6607855458047973,-2.6709049928726882,-1.9063977461306798,-1.0965245528544814,-1.275838286809074,-3.0611496514226078,-2.028628735150814,-1.5977499453486073,-0.3130454010117778,-3.5086146984585858,-2.115010944566925,-3.3375004181854484,-0.8031529707424201,-0.6887451679233167,-3.177364649359589,-1.6865181072841422,-1.3973889832849373,-1.5349391809895625,-0.4764073316839943,-0.9450497804440008,-2.0739182262978906,-3.5314626932978523,-1.7249506252607958,-2.7657466720671624,-2.2543750921982553,-2.592203169214632,-1.5212132286464697,-0.9502126213986297,-2.275494370696254,-2.9465315683936146,-2.046419844836443,-2.6717343801620306,-2.324879556347105,-1.8652351846038635,-0.6056570664392771,-3.087604908029226,-2.10518063220111,-0.5259927617444649,-2.1246929573128104,-1.846573637704802,-2.5144196363003566,-2.4398132343440015,-1.3520421531991775,-2.721638478923136,0.07454928418301598,-2.1258658498455656,-1.8491670824967545,-0.6015184248454359,-1.5453230467265715,-3.36360302231862,-1.0415738705346715,-3.4547072097290403,-3.2843187366426188,-2.0447595584248197,-1.1005555432410374,-3.6067359551221867,-2.427972474410261,-2.2083232181883696,-3.505944796010165,-3.157343035821195,-3.7496371049805504,-2.8969476426597005,-1.4964769151677975,-3.8156808560071953,-0.9581837308470034,-2.4861364122752887,-2.3201770165157654,-1.0285462455681855,-1.9668626943554146,-0.16842752961164398,-2.3028900999075383,-1.6843225303728289,-1.3332894661949721,-2.541677178662163,-2.234163296462031,-2.8693986855768037,-1.4327600694366143,-1.53137278432372,-2.450347140337686,-3.5975428415240085,-1.283009166648351,-1.7266785768114734,-2.383110743745929,-1.5555134909153598,-0.48205653885334265,-1.659763837992867,-2.674942421066146,-2.7910396713961685,-2.9159773398555804,-0.30643182731928253,-1.7343166519050386,-1.321705642657256,-1.2009511105976958,-0.07591403783485307,-2.0149069492049425,-1.038280491741531,-1.624246368587749,-3.1470751958776653],\"xaxis\":\"x\",\"y\":[-1.0246371422667155,-0.3861088216916053,-1.2301508416911346,-2.4463348940559584,-1.4475795124392905,-1.3594489259869444,-1.4558411314845032,-2.4613884795470975,-3.46648115166064,-2.5051162370088482,-1.9038191354989278,-2.5942063939782067,-2.9653121038074337,-2.287368684013054,-1.9654280613785673,-2.810059065363319,-2.0673080771882115,-3.034839609005191,-3.9381031243273883,-1.7229292186061578,-2.116328178149021,-1.1901359560143363,-1.7369204787375345,-1.3437267504550312,-1.1879799797707644,-0.9018495932333195,-2.726877871883764,-3.1579802808525543,-3.2170226839085236,-2.5619830076642987,-2.5609360588181485,-2.162714589812504,-0.9628358557445478,-0.6951896598910052,-2.01670956265721,-1.6781736119770456,-2.56506041020904,-1.4284221966472739,-1.0153142708581093,-3.593391459432059,-2.4662060425722783,-3.0676134400530986,-2.623969124464088,-1.2721231989862258,-2.7277941214107813,-1.465053956041222,-2.0667926825263545,-1.4832785227100316,-0.12178724607188607,-1.9930749476428076,-2.4601874822568917,-2.6112678872963246,-2.6542637167066068,-2.9706235308400224,-2.4880483788462024,-2.2588640784604928,-2.3514274136012316,-1.2762161927404385,-1.124682798586893,-3.4388650659783035,-2.749101597052622,-2.1830975620730255,-0.8856902771055029,-1.4663440640741523,-1.2648748594216057,-1.3880166358984183,-2.80226578043528,-2.25924337015721,-2.2165711183346377,-3.347030196639093,-2.422288926380771,-2.3122021794884136,-1.2883033583315118,-1.1536922319913412,-3.000488693987281,-0.5554626875426811,-1.4802058658913033,-2.7949725959313856,-2.707423710297889,-2.416099165710485,-0.6756576751020065,-3.4503057141735187,-2.7599323013304833,-2.1953929812881903,-1.8657046872009486,-0.9646510338831338,-2.7917861813288414,-0.4232679198767386,-1.69519527770099,-1.3724049795546933,-3.2715142530029953,-1.596345822245073,-4.664701867518849,-1.5282322874585268,-1.3121441861718077,-2.1188050154292726,-1.4222432609076119,-0.43407259781521956,-3.3784809251412695,-1.4054980268789208,-1.0872884774230467,-2.589561001043699,-2.5033748706566694,0.46337580043139726,-0.9028384266319998,-2.371143158466898,0.4899302762432578,-2.768719087110496,0.9602667439558101,-1.443991716507413,-0.8893340750127996,-2.631398801105164,-1.5327171436633402,-3.594309342341693,-2.1356773419205513,-3.813520402667011,-2.1941721390853433,-1.2444552862641576,0.045080413003340425,-1.9093901128175181,-1.9622037802539487,-2.3188566070245615,-2.1515225785295997,-1.3316092090431204,-2.8419510948029005,-0.622546366617825,-0.9241589786098201,-1.884567525119438,-2.198049968184266,-2.011006116884204,0.10789005643536109,-2.826780895919424,-2.239899475962625,-1.9467495518486015,-2.2171591184383965,-1.0111577200837183,-0.43133033398723675,-0.008558457014033793,-2.734589905285629,-1.9971530175205774,-2.0323880150811293,-2.4496550351791155,-0.9594134506928602,-2.651818048800611,-0.9953237238105335,-2.6569544908897305,-2.908774951254452,-2.8847493559896478,-1.4294290062847947,-2.3915914969441783,-2.182298787537117,-0.445166495664568,-2.0783752215885944,-3.9855447456263438,-2.568465357200143,-2.8998933045258415,0.8565823894000291,-2.758317959306808,-1.7537340860758934,-1.3446219530602903,-3.2176178542506357,-1.120866073968042,-2.2931986154881114,-1.8443918428278037,-2.9122807272389215,-2.1221899752056137,0.1244630681520893,-3.0957684609303158,-1.6473781651078157,-2.321832847637462,-1.3797032784015562,-1.4642111162338654,-0.4552712528364775,-2.649914623006878,-3.88788880728214,-2.283442970448439,-1.6962551764957041,-2.702398181692358,-3.10248507617467,-1.8938971040928196,-1.7489306735688237,-1.2585288092560156,-2.517317597486647,-3.640560524703148,-1.0803295618433366,-1.4891008973044262,-2.1733685705985173,-3.34788847196908,-1.3734491930003125,-0.4912221439529292,-2.605892230091986,-1.2253835332120504,-2.2713992032397092,-2.1351368594424387,-2.572335121309694,-3.4215347813462293,-2.755016929022248,-0.2772225190610529,-1.5597909735931696,-1.6803604991380854,-0.8728308550348138,-2.1396599290664686,-1.8169435853109213,-2.1896174546144254,-2.456932825455379,-2.703780515121537,-1.812817376368829,-1.7093777540122512,-3.5177373446901608,-1.7961947361237842,-1.348395667912684,-2.4680999829727654,-1.3408319982477308,-1.190298378711843,-2.1432970711353825,-2.1903514985412365,-2.752395980340903,-2.3743145614040078,-0.4330330621789691,-2.035457683343219,-1.9478137673003004,-2.687198588215569,-2.9654981935592657,-1.2851716305529362,-2.5930690081573555,-2.152973615013648,-1.3471855287741368,-0.6431274943921985,0.11354364029954622,-0.979177424641996,-0.292853433047092,-1.2628510847101833,-0.7896932985441667,-2.024454545209066,-2.298525379313074,-1.545342167774106,-3.603722637021453,-1.8423549362727871,-1.0089291496681194,-1.1663535048832294,-1.8523923369946882,-1.7718926049778903,-2.1107970643277247,-2.588155923201243,-1.7877816203578276,-2.8393288540559793,-2.2059856518708014,-2.5240546495302163,-1.5680070263015013,-2.1083968105324598],\"yaxis\":\"y\",\"type\":\"scatter\"},{\"hovertemplate\":\"Label=0\\u003cbr\\u003eFeature 1=%{x}\\u003cbr\\u003eFeature 2=%{y}\\u003cextra\\u003e\\u003c\\u002fextra\\u003e\",\"legendgroup\":\"0\",\"marker\":{\"color\":\"#ab63fa\",\"symbol\":\"circle\",\"line\":{\"color\":\"DarkSlateGrey\",\"width\":1},\"size\":6},\"mode\":\"markers\",\"name\":\"0\",\"orientation\":\"v\",\"showlegend\":true,\"x\":[5.831510677802569,6.260290151556317,5.155044802402842,4.73356414516198,5.111328123896125,4.814224048233456,5.062801880077302,5.552283468105994,5.8882186939667704,4.439172466686228,4.6705841250137885,4.19468745840529,4.198416867442816,4.893716781955829,4.768148675325424,4.701902398153544,4.305547666014198,5.551842846767624,4.466816155007111,3.4057652537029552,4.387141459137136,3.9018540564788236,3.9156922137481116,4.628760836033701,5.440012857875574,4.486722595777003,3.3525377481664553,5.8411225116502346,3.9718621095139373,3.4599797273226076,5.91186165473537,5.650750844325105,4.522676635320995,5.189808893182481,5.496641485205017,4.930798088207432,5.660966656307368,5.326333066508911,4.8008339363196555,5.375790322542966,3.0068470407511314,4.014158390468744,5.373812633736447,6.077048070928333,5.171745198426053,4.966200643693722,4.763311921005398,5.12253655125528,3.5745852155055093,4.634567398564501,5.452398040537407,5.689918571569432,3.845589917677618,4.273739535868139,3.338728714296987,4.94307177555797,4.862998189947922,4.682752427340904,3.4946467784556026,5.554418270610858,5.215053868483768,5.7577043661801435,4.677975509150633,6.303387643954991,5.302815596280128,5.189708014501343,4.620267905105556,5.440297657160609,5.166522421225883,5.798925193533176,3.663623407947359,5.220531895267699,5.944035027069193,5.076193373147248,5.382598681049095,4.495788753820572,4.7038460807609495,4.973908396640469,4.860851285926851,5.858324657838788,5.821605887813628,4.343605252496278,4.8332231908347865,6.471013428398413,5.400210891231443,5.402435640435644,3.3964184402921895,5.727354353678309,3.711772131729652,4.6927770486112435,6.109306694651119,5.4794260517576046,4.758741330683462,4.805810413740095,5.408356300678316,4.258614243228708,5.633790775901054,4.923905958861818,4.656690924639836,5.19322467231861,4.83757396003968,4.258400692646789,5.4219760030107915,4.602729094185538,4.692148934048784,4.838576995241791,5.502320220126322,6.462951165339106,4.693105568967427,5.736208040609172,5.090347122227868,4.69398901859948,4.92728688306647,7.3485254894826575,3.6457143753407637,4.934886753893467,4.655342932547635,6.900935102951665,4.809891416531969,4.212520559253758,3.7805607229867806,4.881139229249716,4.913035250136347,5.660633279502464,5.572871693146683,4.831288970369084,5.410719487161716,5.789634414515307,5.905944539266059,4.587550096100313,4.17286654013298,4.314310539384584,4.667742736821266,5.9249927289271245,3.543218865906334,3.4549510986309597,5.195249418924764,6.087268298359697,3.559271370647058,4.651436766936487,4.522543093230349,5.168888977183722,5.0097416963293275,6.018958841021684,5.9988357266058,5.122533076526811,4.781421356407952,5.562899010453145,3.590597361451982,4.871363546386681,3.738855407965233,4.665160203400371,5.235623878153803,4.355676615669078,5.601151045391573,4.774243309102248,5.5928571297491425,5.691352576768043,5.44012102258364,5.200409674509255,5.558917734038969,4.79091408617421,4.265528718052765,6.226389881665699,2.8032309981930803,5.35324489397238,4.659336169827142,4.512174778369709,4.936180308543307,4.686715255433908,4.987160329536204,5.058553597937483,4.943457506662485,4.811951156091722,3.9184552337363705,5.449146305066961,5.114269205853228,4.596297117083277,5.290798373423992,4.221342370018054,4.098712136578465,6.1103739698469,3.7961461341759124,4.9131091864584455,3.5589600358263764,5.766368798546922,5.3997340365537,5.4812653384722525,4.304806403989695,4.641525015460643,5.069786937939531,5.085106073813103,4.312083773017181,5.22902813842505,3.03364647134734,6.095411799089186,4.340916442968252,5.530994944708556,3.8001537878432288,4.873994860723107,5.253725325029806,4.261037111838597,4.2672580647618314,4.979619926838756,4.288774557528101,4.819226471380488,4.460660497126959,4.674501939262543,4.702364900816111,5.881660023149978,4.361150858887819,4.2504015789447465,3.4454023812518577,4.610124281545535,5.3759394796635975,5.23516297454115,5.401750552244876,5.223505024864413,4.604190348819802,5.122067532320372,5.270604079825508,4.67270446015238,5.829435992801921,5.118467842256018,4.654666348069449,4.174120501302051,6.1067401392271,4.402336164404188,4.394109028173835,5.135770584447886,5.1841770252672115,5.643924020180142,5.324263284503909,4.373689951617308,5.172368196515886,5.118109452491798,3.539670010097377,4.1297198347746855,5.866580541310571,5.7344555338922465,4.420651370805542,4.958047018792478,5.694178489295613,3.7799059443980774,5.430409068297999,6.426143164175984,5.7892759480416,6.193319037345946,4.378865680828964,5.327061935786509],\"xaxis\":\"x\",\"y\":[4.966561121008372,5.010801549029113,4.889582597208869,4.658452584086485,5.290811146398163,5.802785539619076,4.6851910097984,3.647559306496739,4.386064262795287,5.400826056993664,4.357781880790702,5.034153676195597,4.680762586969827,5.318535691686537,4.795253881334392,4.876645405141074,4.144188616905002,5.594542772580753,4.967621793336806,4.192242123218747,5.062118352865271,5.759895252644137,5.07439068486181,4.9770198795738665,4.882067245432021,5.158698347854553,4.143216773086941,5.348338767254129,5.070044287934343,4.583829175429482,4.626455376064815,5.837853357401391,5.27598566460494,5.21688317335104,3.8415407843345326,5.496003040326412,4.731862021182973,4.209210750824296,6.098725635111844,4.482676564595468,4.848519188014881,4.25818265806306,4.661641906062613,4.986213471084684,5.820318787679614,3.898141600277806,4.545968410300703,5.256765416112264,5.456782340009672,4.668217234955913,5.096650118818735,5.068024259562593,4.74970461249153,5.818178506715265,5.2204560227713435,4.654868102294362,6.094170275258416,4.996107609175773,5.622355780818883,5.653221273289575,5.217790318198294,4.7384735788563175,4.74536554141355,4.312541884787228,4.506714792957765,5.745312403785734,4.79703065003707,5.093362129311288,5.235298700363602,4.833593631895556,5.133957012542927,4.199364396361387,5.7254532290173525,6.145100802679552,5.592405551656368,4.841625083098355,4.840732936556042,5.3289215156268535,6.462230502127916,5.842297792936316,5.018555143208588,5.3719388125256735,4.969330748177698,4.95688327458236,5.521556468894259,4.727000304892414,5.0240541708377675,4.839275279539666,4.912857294749788,4.254624976087069,6.286112826650601,4.656989314938455,5.087784305886601,4.911913829872878,5.844728597242922,5.416381365787462,5.191591504602523,4.677776649050632,5.258003462702227,5.690134851243708,5.724451488511652,4.232720272495261,4.91398864911988,5.269299251434876,4.865484636415762,4.888722744798172,5.114934105657739,4.57333257139493,4.725756477353678,3.5708507474412716,4.278970473883121,4.3712859116525316,4.913945701705699,4.823664081181853,4.537554471495534,4.799266365469355,6.65266317991676,5.878144641211393,4.94121821668722,5.051271460782728,4.251532360874714,4.8178148547044355,4.638798019140087,5.5017250647958305,3.886709425015974,5.491672622991521,3.7171636328595508,4.529855390801927,4.966602023817448,4.815786868266574,5.09375442334663,4.4025294269504105,4.913110829823694,4.845650074773591,4.344887110652021,4.56719405287844,5.9858200950718885,5.211423717954061,4.437075093864445,5.843001007150134,4.8629618514623285,5.772058357503825,4.6572805604447876,4.221614234608786,5.022952306450103,4.431060639403356,5.554655443067822,4.370924821158477,4.96647680691697,5.135303907101804,4.756521436652938,6.380928507677652,5.466746165111035,4.657845250818645,5.149400236633304,4.928762388868407,4.10063976637184,4.39366408057717,5.592431632272563,4.6122242678046295,5.104911255865197,4.871303341252127,4.762194951171437,5.492142169348578,5.711181372276068,5.334564925812932,4.959356343898064,4.519172360711427,5.080279889499575,4.6760542798362525,4.744410620900362,5.350855437212426,4.071262359779417,4.285828594286321,6.102192352326567,5.710228694501287,5.285084696229726,4.3033044636193845,5.1200441227684514,4.91923231611072,5.119703178803562,4.9788719718396175,5.0719639997211825,5.556402139948319,5.052979781207688,4.5647447243459585,5.1596697531819995,4.621320966954268,4.889951584529261,6.049151059105457,4.63433593863305,4.625625549665724,4.6685596959320455,4.9034098374599955,5.496939969375729,5.513298983121174,4.489291697261633,5.53341722091015,5.0200721167744,5.820560693812363,4.169370251933167,4.929145211704442,5.6372580162246795,4.310340981766267,4.93882710764702,5.01066182526978,5.233548663977366,5.030348684584645,5.062132167394053,4.143160629560321,4.698329917428189,5.276696686192237,4.427809104652194,5.249545024151411,4.836077536665119,4.9311881169388485,4.48629212151154,5.4207203363276,4.305654835503287,4.898455732563275,4.1493835959599465,4.7431922076046895,5.560199031581359,5.003968069042095,4.390175748778335,4.331692517015465,4.530182204839193,5.376286494002399,4.888797365158738,4.952554990629415,5.262290086992598,4.702970399594194,4.900653668239203,5.562848732762777,4.253655369516235,4.759714751437942,6.4222364564118175,4.956517082824565,4.657353289350404,5.567282696623966,5.852743055638387,5.015483489094773,5.011461548208409,5.041961375660944,3.8235972799190012,5.430187729069593,4.711196710769004,6.284334342113295,5.083104811455794,5.618614946413693],\"yaxis\":\"y\",\"type\":\"scatter\"},{\"line\":{\"color\":\"indianred\"},\"mode\":\"lines\",\"name\":\"Decision Boundary\",\"x\":[-4.875477861541521,-4.752003080218044,-4.628528298894568,-4.505053517571091,-4.381578736247615,-4.258103954924138,-4.134629173600661,-4.011154392277185,-3.8876796109537084,-3.764204829630232,-3.6407300483067555,-3.5172552669832786,-3.3937804856598026,-3.2703057043363257,-3.1468309230128493,-3.023356141689373,-2.899881360365896,-2.7764065790424195,-2.652931797718943,-2.5294570163954666,-2.40598223507199,-2.2825074537485133,-2.159032672425037,-2.0355578911015604,-1.912083109778084,-1.7886083284546075,-1.6651335471311306,-1.5416587658076542,-1.4181839844841777,-1.2947092031607013,-1.1712344218372244,-1.047759640513748,-0.9242848591902715,-0.800810077866795,-0.6773352965433181,-0.5538605152198421,-0.43038573389636525,-0.30691095257288836,-0.18343617124941236,-0.05996138992593547,0.06351339139754053,0.18698817272101742,0.3104629540444943,0.4339377353679703,0.5574125166914472,0.6808872980149232,0.8043620793384001,0.927836860661877,1.051311641985353,1.1747864233088299,1.2982612046323059,1.4217359859557828,1.5452107672792597,1.6686855486027357,1.7921603299262125,1.9156351112496894,2.0391098925731654,2.1625846738966423,2.2860594552201183,2.409534236543595,2.533009017867072,2.656483799190548,2.779958580514025,2.903433361837501,3.026908143160978,3.150382924484454,3.273857705807931,3.3973324871314077,3.5208072684548846,3.6442820497783615,3.7677568311018366,3.8912316124253135,4.01470639374879,4.138181175072267,4.261655956395744,4.385130737719219,4.508605519042696,4.632080300366173,4.75555508168965,4.879029863013127,5.002504644336602,5.125979425660079,5.249454206983556,5.372928988307033,5.4964037696305095,5.619878550953985,5.7433533322774615,5.866828113600938,5.990302894924415,6.113777676247892,6.237252457571367,6.360727238894844,6.484202020218321,6.607676801541798,6.731151582865275,6.85462636418875,6.978101145512227,7.101575926835704,7.225050708159181,7.3485254894826575],\"y\":[24.813199939107317,24.498696593704857,24.1841932483024,23.86968990289994,23.55518655749748,23.240683212095018,22.926179866692557,22.6116765212901,22.297173175887636,21.982669830485175,21.66816648508272,21.353663139680254,21.039159794277797,20.724656448875333,20.410153103472876,20.095649758070415,19.78114641266795,19.466643067265494,19.152139721863033,18.837636376460576,18.523133031058112,18.20862968565565,17.894126340253194,17.579622994850734,17.265119649448273,16.950616304045813,16.636112958643356,16.32160961324089,16.007106267838434,15.692602922435972,15.378099577033511,15.063596231631053,14.749092886228592,14.434589540826133,14.120086195423669,13.805582850021212,13.49107950461875,13.17657615921629,12.86207281381383,12.54756946841137,12.23306612300891,11.91856277760645,11.604059432203988,11.289556086801529,10.975052741399068,10.66054939599661,10.346046050594149,10.031542705191688,9.71703935978923,9.402536014386767,9.08803266898431,8.773529323581847,8.459025978179387,8.144522632776926,7.830019287374467,7.515515941972006,7.201012596569548,6.886509251167085,6.572005905764627,6.257502560362166,5.942999214959705,5.628495869557246,5.313992524154784,4.9994891787523255,4.684985833349865,4.370482487947406,4.0559791425449445,3.7414757971424835,3.4269724517400224,3.112469106337561,2.7979657609351056,2.483462415532644,2.168959070130183,1.8544557247277216,1.5399523793252603,1.2254490339228035,0.9109456885203422,0.5964423431178824,0.2819389977154211,-0.03256434768704022,-0.34706769308949703,-0.6615710384919583,-0.9760743838944197,-1.2905777292968794,-1.6050810746993422,-1.919584420101799,-2.234087765504259,-2.548591110906719,-2.8630944563091814,-3.1775978017116415,-3.492101147114098,-3.806604492516561,-4.121107837919021,-4.435611183321484,-4.750114528723944,-5.0646178741264,-5.3791212195288605,-5.693624564931323,-6.008127910333783,-6.322631255736246],\"type\":\"scatter\"}],                        {\"template\":{\"data\":{\"histogram2dcontour\":[{\"type\":\"histogram2dcontour\",\"colorbar\":{\"outlinewidth\":0,\"ticks\":\"\"},\"colorscale\":[[0.0,\"#0d0887\"],[0.1111111111111111,\"#46039f\"],[0.2222222222222222,\"#7201a8\"],[0.3333333333333333,\"#9c179e\"],[0.4444444444444444,\"#bd3786\"],[0.5555555555555556,\"#d8576b\"],[0.6666666666666666,\"#ed7953\"],[0.7777777777777778,\"#fb9f3a\"],[0.8888888888888888,\"#fdca26\"],[1.0,\"#f0f921\"]]}],\"choropleth\":[{\"type\":\"choropleth\",\"colorbar\":{\"outlinewidth\":0,\"ticks\":\"\"}}],\"histogram2d\":[{\"type\":\"histogram2d\",\"colorbar\":{\"outlinewidth\":0,\"ticks\":\"\"},\"colorscale\":[[0.0,\"#0d0887\"],[0.1111111111111111,\"#46039f\"],[0.2222222222222222,\"#7201a8\"],[0.3333333333333333,\"#9c179e\"],[0.4444444444444444,\"#bd3786\"],[0.5555555555555556,\"#d8576b\"],[0.6666666666666666,\"#ed7953\"],[0.7777777777777778,\"#fb9f3a\"],[0.8888888888888888,\"#fdca26\"],[1.0,\"#f0f921\"]]}],\"heatmap\":[{\"type\":\"heatmap\",\"colorbar\":{\"outlinewidth\":0,\"ticks\":\"\"},\"colorscale\":[[0.0,\"#0d0887\"],[0.1111111111111111,\"#46039f\"],[0.2222222222222222,\"#7201a8\"],[0.3333333333333333,\"#9c179e\"],[0.4444444444444444,\"#bd3786\"],[0.5555555555555556,\"#d8576b\"],[0.6666666666666666,\"#ed7953\"],[0.7777777777777778,\"#fb9f3a\"],[0.8888888888888888,\"#fdca26\"],[1.0,\"#f0f921\"]]}],\"heatmapgl\":[{\"type\":\"heatmapgl\",\"colorbar\":{\"outlinewidth\":0,\"ticks\":\"\"},\"colorscale\":[[0.0,\"#0d0887\"],[0.1111111111111111,\"#46039f\"],[0.2222222222222222,\"#7201a8\"],[0.3333333333333333,\"#9c179e\"],[0.4444444444444444,\"#bd3786\"],[0.5555555555555556,\"#d8576b\"],[0.6666666666666666,\"#ed7953\"],[0.7777777777777778,\"#fb9f3a\"],[0.8888888888888888,\"#fdca26\"],[1.0,\"#f0f921\"]]}],\"contourcarpet\":[{\"type\":\"contourcarpet\",\"colorbar\":{\"outlinewidth\":0,\"ticks\":\"\"}}],\"contour\":[{\"type\":\"contour\",\"colorbar\":{\"outlinewidth\":0,\"ticks\":\"\"},\"colorscale\":[[0.0,\"#0d0887\"],[0.1111111111111111,\"#46039f\"],[0.2222222222222222,\"#7201a8\"],[0.3333333333333333,\"#9c179e\"],[0.4444444444444444,\"#bd3786\"],[0.5555555555555556,\"#d8576b\"],[0.6666666666666666,\"#ed7953\"],[0.7777777777777778,\"#fb9f3a\"],[0.8888888888888888,\"#fdca26\"],[1.0,\"#f0f921\"]]}],\"surface\":[{\"type\":\"surface\",\"colorbar\":{\"outlinewidth\":0,\"ticks\":\"\"},\"colorscale\":[[0.0,\"#0d0887\"],[0.1111111111111111,\"#46039f\"],[0.2222222222222222,\"#7201a8\"],[0.3333333333333333,\"#9c179e\"],[0.4444444444444444,\"#bd3786\"],[0.5555555555555556,\"#d8576b\"],[0.6666666666666666,\"#ed7953\"],[0.7777777777777778,\"#fb9f3a\"],[0.8888888888888888,\"#fdca26\"],[1.0,\"#f0f921\"]]}],\"mesh3d\":[{\"type\":\"mesh3d\",\"colorbar\":{\"outlinewidth\":0,\"ticks\":\"\"}}],\"scatter\":[{\"fillpattern\":{\"fillmode\":\"overlay\",\"size\":10,\"solidity\":0.2},\"type\":\"scatter\"}],\"parcoords\":[{\"type\":\"parcoords\",\"line\":{\"colorbar\":{\"outlinewidth\":0,\"ticks\":\"\"}}}],\"scatterpolargl\":[{\"type\":\"scatterpolargl\",\"marker\":{\"colorbar\":{\"outlinewidth\":0,\"ticks\":\"\"}}}],\"bar\":[{\"error_x\":{\"color\":\"#2a3f5f\"},\"error_y\":{\"color\":\"#2a3f5f\"},\"marker\":{\"line\":{\"color\":\"#E5ECF6\",\"width\":0.5},\"pattern\":{\"fillmode\":\"overlay\",\"size\":10,\"solidity\":0.2}},\"type\":\"bar\"}],\"scattergeo\":[{\"type\":\"scattergeo\",\"marker\":{\"colorbar\":{\"outlinewidth\":0,\"ticks\":\"\"}}}],\"scatterpolar\":[{\"type\":\"scatterpolar\",\"marker\":{\"colorbar\":{\"outlinewidth\":0,\"ticks\":\"\"}}}],\"histogram\":[{\"marker\":{\"pattern\":{\"fillmode\":\"overlay\",\"size\":10,\"solidity\":0.2}},\"type\":\"histogram\"}],\"scattergl\":[{\"type\":\"scattergl\",\"marker\":{\"colorbar\":{\"outlinewidth\":0,\"ticks\":\"\"}}}],\"scatter3d\":[{\"type\":\"scatter3d\",\"line\":{\"colorbar\":{\"outlinewidth\":0,\"ticks\":\"\"}},\"marker\":{\"colorbar\":{\"outlinewidth\":0,\"ticks\":\"\"}}}],\"scattermapbox\":[{\"type\":\"scattermapbox\",\"marker\":{\"colorbar\":{\"outlinewidth\":0,\"ticks\":\"\"}}}],\"scatterternary\":[{\"type\":\"scatterternary\",\"marker\":{\"colorbar\":{\"outlinewidth\":0,\"ticks\":\"\"}}}],\"scattercarpet\":[{\"type\":\"scattercarpet\",\"marker\":{\"colorbar\":{\"outlinewidth\":0,\"ticks\":\"\"}}}],\"carpet\":[{\"aaxis\":{\"endlinecolor\":\"#2a3f5f\",\"gridcolor\":\"white\",\"linecolor\":\"white\",\"minorgridcolor\":\"white\",\"startlinecolor\":\"#2a3f5f\"},\"baxis\":{\"endlinecolor\":\"#2a3f5f\",\"gridcolor\":\"white\",\"linecolor\":\"white\",\"minorgridcolor\":\"white\",\"startlinecolor\":\"#2a3f5f\"},\"type\":\"carpet\"}],\"table\":[{\"cells\":{\"fill\":{\"color\":\"#EBF0F8\"},\"line\":{\"color\":\"white\"}},\"header\":{\"fill\":{\"color\":\"#C8D4E3\"},\"line\":{\"color\":\"white\"}},\"type\":\"table\"}],\"barpolar\":[{\"marker\":{\"line\":{\"color\":\"#E5ECF6\",\"width\":0.5},\"pattern\":{\"fillmode\":\"overlay\",\"size\":10,\"solidity\":0.2}},\"type\":\"barpolar\"}],\"pie\":[{\"automargin\":true,\"type\":\"pie\"}]},\"layout\":{\"autotypenumbers\":\"strict\",\"colorway\":[\"#636efa\",\"#EF553B\",\"#00cc96\",\"#ab63fa\",\"#FFA15A\",\"#19d3f3\",\"#FF6692\",\"#B6E880\",\"#FF97FF\",\"#FECB52\"],\"font\":{\"color\":\"#2a3f5f\"},\"hovermode\":\"closest\",\"hoverlabel\":{\"align\":\"left\"},\"paper_bgcolor\":\"white\",\"plot_bgcolor\":\"#E5ECF6\",\"polar\":{\"bgcolor\":\"#E5ECF6\",\"angularaxis\":{\"gridcolor\":\"white\",\"linecolor\":\"white\",\"ticks\":\"\"},\"radialaxis\":{\"gridcolor\":\"white\",\"linecolor\":\"white\",\"ticks\":\"\"}},\"ternary\":{\"bgcolor\":\"#E5ECF6\",\"aaxis\":{\"gridcolor\":\"white\",\"linecolor\":\"white\",\"ticks\":\"\"},\"baxis\":{\"gridcolor\":\"white\",\"linecolor\":\"white\",\"ticks\":\"\"},\"caxis\":{\"gridcolor\":\"white\",\"linecolor\":\"white\",\"ticks\":\"\"}},\"coloraxis\":{\"colorbar\":{\"outlinewidth\":0,\"ticks\":\"\"}},\"colorscale\":{\"sequential\":[[0.0,\"#0d0887\"],[0.1111111111111111,\"#46039f\"],[0.2222222222222222,\"#7201a8\"],[0.3333333333333333,\"#9c179e\"],[0.4444444444444444,\"#bd3786\"],[0.5555555555555556,\"#d8576b\"],[0.6666666666666666,\"#ed7953\"],[0.7777777777777778,\"#fb9f3a\"],[0.8888888888888888,\"#fdca26\"],[1.0,\"#f0f921\"]],\"sequentialminus\":[[0.0,\"#0d0887\"],[0.1111111111111111,\"#46039f\"],[0.2222222222222222,\"#7201a8\"],[0.3333333333333333,\"#9c179e\"],[0.4444444444444444,\"#bd3786\"],[0.5555555555555556,\"#d8576b\"],[0.6666666666666666,\"#ed7953\"],[0.7777777777777778,\"#fb9f3a\"],[0.8888888888888888,\"#fdca26\"],[1.0,\"#f0f921\"]],\"diverging\":[[0,\"#8e0152\"],[0.1,\"#c51b7d\"],[0.2,\"#de77ae\"],[0.3,\"#f1b6da\"],[0.4,\"#fde0ef\"],[0.5,\"#f7f7f7\"],[0.6,\"#e6f5d0\"],[0.7,\"#b8e186\"],[0.8,\"#7fbc41\"],[0.9,\"#4d9221\"],[1,\"#276419\"]]},\"xaxis\":{\"gridcolor\":\"white\",\"linecolor\":\"white\",\"ticks\":\"\",\"title\":{\"standoff\":15},\"zerolinecolor\":\"white\",\"automargin\":true,\"zerolinewidth\":2},\"yaxis\":{\"gridcolor\":\"white\",\"linecolor\":\"white\",\"ticks\":\"\",\"title\":{\"standoff\":15},\"zerolinecolor\":\"white\",\"automargin\":true,\"zerolinewidth\":2},\"scene\":{\"xaxis\":{\"backgroundcolor\":\"#E5ECF6\",\"gridcolor\":\"white\",\"linecolor\":\"white\",\"showbackground\":true,\"ticks\":\"\",\"zerolinecolor\":\"white\",\"gridwidth\":2},\"yaxis\":{\"backgroundcolor\":\"#E5ECF6\",\"gridcolor\":\"white\",\"linecolor\":\"white\",\"showbackground\":true,\"ticks\":\"\",\"zerolinecolor\":\"white\",\"gridwidth\":2},\"zaxis\":{\"backgroundcolor\":\"#E5ECF6\",\"gridcolor\":\"white\",\"linecolor\":\"white\",\"showbackground\":true,\"ticks\":\"\",\"zerolinecolor\":\"white\",\"gridwidth\":2}},\"shapedefaults\":{\"line\":{\"color\":\"#2a3f5f\"}},\"annotationdefaults\":{\"arrowcolor\":\"#2a3f5f\",\"arrowhead\":0,\"arrowwidth\":1},\"geo\":{\"bgcolor\":\"white\",\"landcolor\":\"#E5ECF6\",\"subunitcolor\":\"white\",\"showland\":true,\"showlakes\":true,\"lakecolor\":\"white\"},\"title\":{\"x\":0.05},\"mapbox\":{\"style\":\"light\"}}},\"xaxis\":{\"anchor\":\"y\",\"domain\":[0.0,1.0],\"title\":{\"text\":\"Feature 1\"}},\"yaxis\":{\"anchor\":\"x\",\"domain\":[0.0,1.0],\"title\":{\"text\":\"Feature 2\"}},\"legend\":{\"title\":{\"text\":\"Label\"},\"tracegroupgap\":0},\"title\":{\"text\":\"Perceptron Decision Boundary for Two Classes\"},\"height\":500,\"width\":700},                        {\"responsive\": true}                    ).then(function(){\n",
              "                            \n",
              "var gd = document.getElementById('16e6fb8a-63be-42c7-9692-7bf6c54685ea');\n",
              "var x = new MutationObserver(function (mutations, observer) {{\n",
              "        var display = window.getComputedStyle(gd).display;\n",
              "        if (!display || display === 'none') {{\n",
              "            console.log([gd, 'removed!']);\n",
              "            Plotly.purge(gd);\n",
              "            observer.disconnect();\n",
              "        }}\n",
              "}});\n",
              "\n",
              "// Listen for the removal of the full notebook cells\n",
              "var notebookContainer = gd.closest('#notebook-container');\n",
              "if (notebookContainer) {{\n",
              "    x.observe(notebookContainer, {childList: true});\n",
              "}}\n",
              "\n",
              "// Listen for the clearing of the current output cell\n",
              "var outputEl = gd.closest('.output');\n",
              "if (outputEl) {{\n",
              "    x.observe(outputEl, {childList: true});\n",
              "}}\n",
              "\n",
              "                        })                };                            </script>        </div>\n",
              "</body>\n",
              "</html>"
            ]
          },
          "metadata": {}
        }
      ]
    },
    {
      "cell_type": "markdown",
      "source": [
        "# **Step 11:** Plot the confusion matrix."
      ],
      "metadata": {
        "id": "HVjnBisOC5ZB"
      }
    },
    {
      "cell_type": "code",
      "source": [
        "cf_matrix_best = confusion_matrix(y_test_best, y_pred_best)      # Index = Actual;  Column = Predicted\n",
        "cf_matrix_best"
      ],
      "metadata": {
        "colab": {
          "base_uri": "https://localhost:8080/"
        },
        "id": "RI-7LzMU_BNe",
        "outputId": "d207f79a-c8a3-4259-f293-6e50f9fcd517"
      },
      "execution_count": 66,
      "outputs": [
        {
          "output_type": "execute_result",
          "data": {
            "text/plain": [
              "array([[74,  0],\n",
              "       [ 0, 76]])"
            ]
          },
          "metadata": {},
          "execution_count": 66
        }
      ]
    },
    {
      "cell_type": "code",
      "source": [
        "fig = px.imshow(cf_matrix_best, text_auto = True, aspect = 'auto', color_continuous_scale = 'blues', width = 500, height = 500,\n",
        "                title = 'Confusion Matrix (Best Model)',\n",
        "                labels = dict(x = 'Predicted', y = 'Actual'),\n",
        "                x = class_labels, y = class_labels)\n",
        "\n",
        "\n",
        "fig.show()\n",
        "fig.write_image('Confusion Matrix (Best Model).png')"
      ],
      "metadata": {
        "colab": {
          "base_uri": "https://localhost:8080/",
          "height": 517
        },
        "id": "B93Ilv66-Oan",
        "outputId": "23bc3f5a-a1ff-434d-83e0-e4c5ec0e63b4"
      },
      "execution_count": 67,
      "outputs": [
        {
          "output_type": "display_data",
          "data": {
            "text/html": [
              "<html>\n",
              "<head><meta charset=\"utf-8\" /></head>\n",
              "<body>\n",
              "    <div>            <script src=\"https://cdnjs.cloudflare.com/ajax/libs/mathjax/2.7.5/MathJax.js?config=TeX-AMS-MML_SVG\"></script><script type=\"text/javascript\">if (window.MathJax && window.MathJax.Hub && window.MathJax.Hub.Config) {window.MathJax.Hub.Config({SVG: {font: \"STIX-Web\"}});}</script>                <script type=\"text/javascript\">window.PlotlyConfig = {MathJaxConfig: 'local'};</script>\n",
              "        <script charset=\"utf-8\" src=\"https://cdn.plot.ly/plotly-2.24.1.min.js\"></script>                <div id=\"abe1d827-0e9b-4947-bb9c-dd49af6855a2\" class=\"plotly-graph-div\" style=\"height:500px; width:500px;\"></div>            <script type=\"text/javascript\">                                    window.PLOTLYENV=window.PLOTLYENV || {};                                    if (document.getElementById(\"abe1d827-0e9b-4947-bb9c-dd49af6855a2\")) {                    Plotly.newPlot(                        \"abe1d827-0e9b-4947-bb9c-dd49af6855a2\",                        [{\"coloraxis\":\"coloraxis\",\"name\":\"0\",\"texttemplate\":\"%{z}\",\"x\":[\"Class 1\",\"Class 2\"],\"y\":[\"Class 1\",\"Class 2\"],\"z\":[[74,0],[0,76]],\"type\":\"heatmap\",\"xaxis\":\"x\",\"yaxis\":\"y\",\"hovertemplate\":\"Predicted: %{x}\\u003cbr\\u003eActual: %{y}\\u003cbr\\u003ecolor: %{z}\\u003cextra\\u003e\\u003c\\u002fextra\\u003e\"}],                        {\"template\":{\"data\":{\"histogram2dcontour\":[{\"type\":\"histogram2dcontour\",\"colorbar\":{\"outlinewidth\":0,\"ticks\":\"\"},\"colorscale\":[[0.0,\"#0d0887\"],[0.1111111111111111,\"#46039f\"],[0.2222222222222222,\"#7201a8\"],[0.3333333333333333,\"#9c179e\"],[0.4444444444444444,\"#bd3786\"],[0.5555555555555556,\"#d8576b\"],[0.6666666666666666,\"#ed7953\"],[0.7777777777777778,\"#fb9f3a\"],[0.8888888888888888,\"#fdca26\"],[1.0,\"#f0f921\"]]}],\"choropleth\":[{\"type\":\"choropleth\",\"colorbar\":{\"outlinewidth\":0,\"ticks\":\"\"}}],\"histogram2d\":[{\"type\":\"histogram2d\",\"colorbar\":{\"outlinewidth\":0,\"ticks\":\"\"},\"colorscale\":[[0.0,\"#0d0887\"],[0.1111111111111111,\"#46039f\"],[0.2222222222222222,\"#7201a8\"],[0.3333333333333333,\"#9c179e\"],[0.4444444444444444,\"#bd3786\"],[0.5555555555555556,\"#d8576b\"],[0.6666666666666666,\"#ed7953\"],[0.7777777777777778,\"#fb9f3a\"],[0.8888888888888888,\"#fdca26\"],[1.0,\"#f0f921\"]]}],\"heatmap\":[{\"type\":\"heatmap\",\"colorbar\":{\"outlinewidth\":0,\"ticks\":\"\"},\"colorscale\":[[0.0,\"#0d0887\"],[0.1111111111111111,\"#46039f\"],[0.2222222222222222,\"#7201a8\"],[0.3333333333333333,\"#9c179e\"],[0.4444444444444444,\"#bd3786\"],[0.5555555555555556,\"#d8576b\"],[0.6666666666666666,\"#ed7953\"],[0.7777777777777778,\"#fb9f3a\"],[0.8888888888888888,\"#fdca26\"],[1.0,\"#f0f921\"]]}],\"heatmapgl\":[{\"type\":\"heatmapgl\",\"colorbar\":{\"outlinewidth\":0,\"ticks\":\"\"},\"colorscale\":[[0.0,\"#0d0887\"],[0.1111111111111111,\"#46039f\"],[0.2222222222222222,\"#7201a8\"],[0.3333333333333333,\"#9c179e\"],[0.4444444444444444,\"#bd3786\"],[0.5555555555555556,\"#d8576b\"],[0.6666666666666666,\"#ed7953\"],[0.7777777777777778,\"#fb9f3a\"],[0.8888888888888888,\"#fdca26\"],[1.0,\"#f0f921\"]]}],\"contourcarpet\":[{\"type\":\"contourcarpet\",\"colorbar\":{\"outlinewidth\":0,\"ticks\":\"\"}}],\"contour\":[{\"type\":\"contour\",\"colorbar\":{\"outlinewidth\":0,\"ticks\":\"\"},\"colorscale\":[[0.0,\"#0d0887\"],[0.1111111111111111,\"#46039f\"],[0.2222222222222222,\"#7201a8\"],[0.3333333333333333,\"#9c179e\"],[0.4444444444444444,\"#bd3786\"],[0.5555555555555556,\"#d8576b\"],[0.6666666666666666,\"#ed7953\"],[0.7777777777777778,\"#fb9f3a\"],[0.8888888888888888,\"#fdca26\"],[1.0,\"#f0f921\"]]}],\"surface\":[{\"type\":\"surface\",\"colorbar\":{\"outlinewidth\":0,\"ticks\":\"\"},\"colorscale\":[[0.0,\"#0d0887\"],[0.1111111111111111,\"#46039f\"],[0.2222222222222222,\"#7201a8\"],[0.3333333333333333,\"#9c179e\"],[0.4444444444444444,\"#bd3786\"],[0.5555555555555556,\"#d8576b\"],[0.6666666666666666,\"#ed7953\"],[0.7777777777777778,\"#fb9f3a\"],[0.8888888888888888,\"#fdca26\"],[1.0,\"#f0f921\"]]}],\"mesh3d\":[{\"type\":\"mesh3d\",\"colorbar\":{\"outlinewidth\":0,\"ticks\":\"\"}}],\"scatter\":[{\"fillpattern\":{\"fillmode\":\"overlay\",\"size\":10,\"solidity\":0.2},\"type\":\"scatter\"}],\"parcoords\":[{\"type\":\"parcoords\",\"line\":{\"colorbar\":{\"outlinewidth\":0,\"ticks\":\"\"}}}],\"scatterpolargl\":[{\"type\":\"scatterpolargl\",\"marker\":{\"colorbar\":{\"outlinewidth\":0,\"ticks\":\"\"}}}],\"bar\":[{\"error_x\":{\"color\":\"#2a3f5f\"},\"error_y\":{\"color\":\"#2a3f5f\"},\"marker\":{\"line\":{\"color\":\"#E5ECF6\",\"width\":0.5},\"pattern\":{\"fillmode\":\"overlay\",\"size\":10,\"solidity\":0.2}},\"type\":\"bar\"}],\"scattergeo\":[{\"type\":\"scattergeo\",\"marker\":{\"colorbar\":{\"outlinewidth\":0,\"ticks\":\"\"}}}],\"scatterpolar\":[{\"type\":\"scatterpolar\",\"marker\":{\"colorbar\":{\"outlinewidth\":0,\"ticks\":\"\"}}}],\"histogram\":[{\"marker\":{\"pattern\":{\"fillmode\":\"overlay\",\"size\":10,\"solidity\":0.2}},\"type\":\"histogram\"}],\"scattergl\":[{\"type\":\"scattergl\",\"marker\":{\"colorbar\":{\"outlinewidth\":0,\"ticks\":\"\"}}}],\"scatter3d\":[{\"type\":\"scatter3d\",\"line\":{\"colorbar\":{\"outlinewidth\":0,\"ticks\":\"\"}},\"marker\":{\"colorbar\":{\"outlinewidth\":0,\"ticks\":\"\"}}}],\"scattermapbox\":[{\"type\":\"scattermapbox\",\"marker\":{\"colorbar\":{\"outlinewidth\":0,\"ticks\":\"\"}}}],\"scatterternary\":[{\"type\":\"scatterternary\",\"marker\":{\"colorbar\":{\"outlinewidth\":0,\"ticks\":\"\"}}}],\"scattercarpet\":[{\"type\":\"scattercarpet\",\"marker\":{\"colorbar\":{\"outlinewidth\":0,\"ticks\":\"\"}}}],\"carpet\":[{\"aaxis\":{\"endlinecolor\":\"#2a3f5f\",\"gridcolor\":\"white\",\"linecolor\":\"white\",\"minorgridcolor\":\"white\",\"startlinecolor\":\"#2a3f5f\"},\"baxis\":{\"endlinecolor\":\"#2a3f5f\",\"gridcolor\":\"white\",\"linecolor\":\"white\",\"minorgridcolor\":\"white\",\"startlinecolor\":\"#2a3f5f\"},\"type\":\"carpet\"}],\"table\":[{\"cells\":{\"fill\":{\"color\":\"#EBF0F8\"},\"line\":{\"color\":\"white\"}},\"header\":{\"fill\":{\"color\":\"#C8D4E3\"},\"line\":{\"color\":\"white\"}},\"type\":\"table\"}],\"barpolar\":[{\"marker\":{\"line\":{\"color\":\"#E5ECF6\",\"width\":0.5},\"pattern\":{\"fillmode\":\"overlay\",\"size\":10,\"solidity\":0.2}},\"type\":\"barpolar\"}],\"pie\":[{\"automargin\":true,\"type\":\"pie\"}]},\"layout\":{\"autotypenumbers\":\"strict\",\"colorway\":[\"#636efa\",\"#EF553B\",\"#00cc96\",\"#ab63fa\",\"#FFA15A\",\"#19d3f3\",\"#FF6692\",\"#B6E880\",\"#FF97FF\",\"#FECB52\"],\"font\":{\"color\":\"#2a3f5f\"},\"hovermode\":\"closest\",\"hoverlabel\":{\"align\":\"left\"},\"paper_bgcolor\":\"white\",\"plot_bgcolor\":\"#E5ECF6\",\"polar\":{\"bgcolor\":\"#E5ECF6\",\"angularaxis\":{\"gridcolor\":\"white\",\"linecolor\":\"white\",\"ticks\":\"\"},\"radialaxis\":{\"gridcolor\":\"white\",\"linecolor\":\"white\",\"ticks\":\"\"}},\"ternary\":{\"bgcolor\":\"#E5ECF6\",\"aaxis\":{\"gridcolor\":\"white\",\"linecolor\":\"white\",\"ticks\":\"\"},\"baxis\":{\"gridcolor\":\"white\",\"linecolor\":\"white\",\"ticks\":\"\"},\"caxis\":{\"gridcolor\":\"white\",\"linecolor\":\"white\",\"ticks\":\"\"}},\"coloraxis\":{\"colorbar\":{\"outlinewidth\":0,\"ticks\":\"\"}},\"colorscale\":{\"sequential\":[[0.0,\"#0d0887\"],[0.1111111111111111,\"#46039f\"],[0.2222222222222222,\"#7201a8\"],[0.3333333333333333,\"#9c179e\"],[0.4444444444444444,\"#bd3786\"],[0.5555555555555556,\"#d8576b\"],[0.6666666666666666,\"#ed7953\"],[0.7777777777777778,\"#fb9f3a\"],[0.8888888888888888,\"#fdca26\"],[1.0,\"#f0f921\"]],\"sequentialminus\":[[0.0,\"#0d0887\"],[0.1111111111111111,\"#46039f\"],[0.2222222222222222,\"#7201a8\"],[0.3333333333333333,\"#9c179e\"],[0.4444444444444444,\"#bd3786\"],[0.5555555555555556,\"#d8576b\"],[0.6666666666666666,\"#ed7953\"],[0.7777777777777778,\"#fb9f3a\"],[0.8888888888888888,\"#fdca26\"],[1.0,\"#f0f921\"]],\"diverging\":[[0,\"#8e0152\"],[0.1,\"#c51b7d\"],[0.2,\"#de77ae\"],[0.3,\"#f1b6da\"],[0.4,\"#fde0ef\"],[0.5,\"#f7f7f7\"],[0.6,\"#e6f5d0\"],[0.7,\"#b8e186\"],[0.8,\"#7fbc41\"],[0.9,\"#4d9221\"],[1,\"#276419\"]]},\"xaxis\":{\"gridcolor\":\"white\",\"linecolor\":\"white\",\"ticks\":\"\",\"title\":{\"standoff\":15},\"zerolinecolor\":\"white\",\"automargin\":true,\"zerolinewidth\":2},\"yaxis\":{\"gridcolor\":\"white\",\"linecolor\":\"white\",\"ticks\":\"\",\"title\":{\"standoff\":15},\"zerolinecolor\":\"white\",\"automargin\":true,\"zerolinewidth\":2},\"scene\":{\"xaxis\":{\"backgroundcolor\":\"#E5ECF6\",\"gridcolor\":\"white\",\"linecolor\":\"white\",\"showbackground\":true,\"ticks\":\"\",\"zerolinecolor\":\"white\",\"gridwidth\":2},\"yaxis\":{\"backgroundcolor\":\"#E5ECF6\",\"gridcolor\":\"white\",\"linecolor\":\"white\",\"showbackground\":true,\"ticks\":\"\",\"zerolinecolor\":\"white\",\"gridwidth\":2},\"zaxis\":{\"backgroundcolor\":\"#E5ECF6\",\"gridcolor\":\"white\",\"linecolor\":\"white\",\"showbackground\":true,\"ticks\":\"\",\"zerolinecolor\":\"white\",\"gridwidth\":2}},\"shapedefaults\":{\"line\":{\"color\":\"#2a3f5f\"}},\"annotationdefaults\":{\"arrowcolor\":\"#2a3f5f\",\"arrowhead\":0,\"arrowwidth\":1},\"geo\":{\"bgcolor\":\"white\",\"landcolor\":\"#E5ECF6\",\"subunitcolor\":\"white\",\"showland\":true,\"showlakes\":true,\"lakecolor\":\"white\"},\"title\":{\"x\":0.05},\"mapbox\":{\"style\":\"light\"}}},\"xaxis\":{\"anchor\":\"y\",\"domain\":[0.0,1.0],\"title\":{\"text\":\"Predicted\"}},\"yaxis\":{\"anchor\":\"x\",\"domain\":[0.0,1.0],\"autorange\":\"reversed\",\"title\":{\"text\":\"Actual\"}},\"coloraxis\":{\"colorscale\":[[0.0,\"rgb(247,251,255)\"],[0.125,\"rgb(222,235,247)\"],[0.25,\"rgb(198,219,239)\"],[0.375,\"rgb(158,202,225)\"],[0.5,\"rgb(107,174,214)\"],[0.625,\"rgb(66,146,198)\"],[0.75,\"rgb(33,113,181)\"],[0.875,\"rgb(8,81,156)\"],[1.0,\"rgb(8,48,107)\"]]},\"title\":{\"text\":\"Confusion Matrix (Best Model)\"},\"height\":500,\"width\":500},                        {\"responsive\": true}                    ).then(function(){\n",
              "                            \n",
              "var gd = document.getElementById('abe1d827-0e9b-4947-bb9c-dd49af6855a2');\n",
              "var x = new MutationObserver(function (mutations, observer) {{\n",
              "        var display = window.getComputedStyle(gd).display;\n",
              "        if (!display || display === 'none') {{\n",
              "            console.log([gd, 'removed!']);\n",
              "            Plotly.purge(gd);\n",
              "            observer.disconnect();\n",
              "        }}\n",
              "}});\n",
              "\n",
              "// Listen for the removal of the full notebook cells\n",
              "var notebookContainer = gd.closest('#notebook-container');\n",
              "if (notebookContainer) {{\n",
              "    x.observe(notebookContainer, {childList: true});\n",
              "}}\n",
              "\n",
              "// Listen for the clearing of the current output cell\n",
              "var outputEl = gd.closest('.output');\n",
              "if (outputEl) {{\n",
              "    x.observe(outputEl, {childList: true});\n",
              "}}\n",
              "\n",
              "                        })                };                            </script>        </div>\n",
              "</body>\n",
              "</html>"
            ]
          },
          "metadata": {}
        }
      ]
    },
    {
      "cell_type": "code",
      "source": [],
      "metadata": {
        "id": "Wn7JzesO_eys"
      },
      "execution_count": 67,
      "outputs": []
    }
  ]
}