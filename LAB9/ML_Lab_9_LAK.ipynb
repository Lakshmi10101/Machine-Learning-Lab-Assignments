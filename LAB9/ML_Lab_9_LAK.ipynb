{
  "nbformat": 4,
  "nbformat_minor": 0,
  "metadata": {
    "colab": {
      "provenance": []
    },
    "kernelspec": {
      "name": "python3",
      "display_name": "Python 3"
    },
    "language_info": {
      "name": "python"
    }
  },
  "cells": [
    {
      "cell_type": "code",
      "source": [
        "# pip install -U kaleido"
      ],
      "metadata": {
        "colab": {
          "base_uri": "https://localhost:8080/",
          "height": 0
        },
        "id": "AwgPpRuMZCfH",
        "outputId": "db816663-44ac-4ef3-c81b-a51f75b059e5"
      },
      "execution_count": 239,
      "outputs": [
        {
          "output_type": "stream",
          "name": "stdout",
          "text": [
            "Collecting kaleido\n",
            "  Downloading kaleido-0.2.1-py2.py3-none-manylinux1_x86_64.whl (79.9 MB)\n",
            "\u001b[2K     \u001b[90m━━━━━━━━━━━━━━━━━━━━━━━━━━━━━━━━━━━━━━━━\u001b[0m \u001b[32m79.9/79.9 MB\u001b[0m \u001b[31m8.4 MB/s\u001b[0m eta \u001b[36m0:00:00\u001b[0m\n",
            "\u001b[?25hInstalling collected packages: kaleido\n",
            "\u001b[31mERROR: pip's dependency resolver does not currently take into account all the packages that are installed. This behaviour is the source of the following dependency conflicts.\n",
            "lida 0.0.10 requires fastapi, which is not installed.\n",
            "lida 0.0.10 requires python-multipart, which is not installed.\n",
            "lida 0.0.10 requires uvicorn, which is not installed.\u001b[0m\u001b[31m\n",
            "\u001b[0mSuccessfully installed kaleido-0.2.1\n"
          ]
        }
      ]
    },
    {
      "cell_type": "code",
      "source": [
        "# Import libraries\n",
        "\n",
        "import numpy as np\n",
        "import pandas as pd\n",
        "\n",
        "import matplotlib.pyplot as plt\n",
        "import plotly.express as px\n",
        "import plotly.graph_objects as go\n",
        "\n",
        "from sklearn.neighbors import KNeighborsClassifier\n",
        "from sklearn.semi_supervised import SelfTrainingClassifier\n",
        "\n",
        "from sklearn.metrics import confusion_matrix\n",
        "from sklearn.metrics import accuracy_score, balanced_accuracy_score, classification_report\n",
        "\n",
        "import warnings\n",
        "warnings.filterwarnings('ignore')"
      ],
      "metadata": {
        "id": "jQCPYnRIZC-Z"
      },
      "execution_count": 1,
      "outputs": []
    },
    {
      "cell_type": "markdown",
      "source": [
        "## Load Dataset"
      ],
      "metadata": {
        "id": "2fnP6qdcvf82"
      }
    },
    {
      "cell_type": "code",
      "source": [
        "data_df = pd.read_excel('data.xlsx')\n",
        "print(f'Shape = {data_df.shape} \\n')\n",
        "data_df.head()"
      ],
      "metadata": {
        "colab": {
          "base_uri": "https://localhost:8080/",
          "height": 242
        },
        "id": "Neo7iHVlvddQ",
        "outputId": "138649c9-57bd-476b-a67d-43cbf782d1b2"
      },
      "execution_count": 2,
      "outputs": [
        {
          "output_type": "stream",
          "name": "stdout",
          "text": [
            "Shape = (2000, 6) \n",
            "\n"
          ]
        },
        {
          "output_type": "execute_result",
          "data": {
            "text/plain": [
              "   Cancer stage  Clump thickness  No of week  Clump thickness_new  \\\n",
              "0           1.0        10.510076    6.166544            10.269649   \n",
              "1           1.0        11.739776    7.024066            10.494287   \n",
              "2           1.0         7.857070    5.909366             8.516879   \n",
              "3           1.0        10.817929    5.920890             8.979736   \n",
              "4           1.0        10.302407    6.984937             9.553005   \n",
              "\n",
              "   No of week_new  True cancer stage  \n",
              "0       11.999203                  1  \n",
              "1        6.495638                  1  \n",
              "2        7.102108                  1  \n",
              "3        9.196251                  1  \n",
              "4        7.120283                  1  "
            ],
            "text/html": [
              "\n",
              "  <div id=\"df-311487ed-b862-42a5-9b21-3d5a07a2d327\" class=\"colab-df-container\">\n",
              "    <div>\n",
              "<style scoped>\n",
              "    .dataframe tbody tr th:only-of-type {\n",
              "        vertical-align: middle;\n",
              "    }\n",
              "\n",
              "    .dataframe tbody tr th {\n",
              "        vertical-align: top;\n",
              "    }\n",
              "\n",
              "    .dataframe thead th {\n",
              "        text-align: right;\n",
              "    }\n",
              "</style>\n",
              "<table border=\"1\" class=\"dataframe\">\n",
              "  <thead>\n",
              "    <tr style=\"text-align: right;\">\n",
              "      <th></th>\n",
              "      <th>Cancer stage</th>\n",
              "      <th>Clump thickness</th>\n",
              "      <th>No of week</th>\n",
              "      <th>Clump thickness_new</th>\n",
              "      <th>No of week_new</th>\n",
              "      <th>True cancer stage</th>\n",
              "    </tr>\n",
              "  </thead>\n",
              "  <tbody>\n",
              "    <tr>\n",
              "      <th>0</th>\n",
              "      <td>1.0</td>\n",
              "      <td>10.510076</td>\n",
              "      <td>6.166544</td>\n",
              "      <td>10.269649</td>\n",
              "      <td>11.999203</td>\n",
              "      <td>1</td>\n",
              "    </tr>\n",
              "    <tr>\n",
              "      <th>1</th>\n",
              "      <td>1.0</td>\n",
              "      <td>11.739776</td>\n",
              "      <td>7.024066</td>\n",
              "      <td>10.494287</td>\n",
              "      <td>6.495638</td>\n",
              "      <td>1</td>\n",
              "    </tr>\n",
              "    <tr>\n",
              "      <th>2</th>\n",
              "      <td>1.0</td>\n",
              "      <td>7.857070</td>\n",
              "      <td>5.909366</td>\n",
              "      <td>8.516879</td>\n",
              "      <td>7.102108</td>\n",
              "      <td>1</td>\n",
              "    </tr>\n",
              "    <tr>\n",
              "      <th>3</th>\n",
              "      <td>1.0</td>\n",
              "      <td>10.817929</td>\n",
              "      <td>5.920890</td>\n",
              "      <td>8.979736</td>\n",
              "      <td>9.196251</td>\n",
              "      <td>1</td>\n",
              "    </tr>\n",
              "    <tr>\n",
              "      <th>4</th>\n",
              "      <td>1.0</td>\n",
              "      <td>10.302407</td>\n",
              "      <td>6.984937</td>\n",
              "      <td>9.553005</td>\n",
              "      <td>7.120283</td>\n",
              "      <td>1</td>\n",
              "    </tr>\n",
              "  </tbody>\n",
              "</table>\n",
              "</div>\n",
              "    <div class=\"colab-df-buttons\">\n",
              "\n",
              "  <div class=\"colab-df-container\">\n",
              "    <button class=\"colab-df-convert\" onclick=\"convertToInteractive('df-311487ed-b862-42a5-9b21-3d5a07a2d327')\"\n",
              "            title=\"Convert this dataframe to an interactive table.\"\n",
              "            style=\"display:none;\">\n",
              "\n",
              "  <svg xmlns=\"http://www.w3.org/2000/svg\" height=\"24px\" viewBox=\"0 -960 960 960\">\n",
              "    <path d=\"M120-120v-720h720v720H120Zm60-500h600v-160H180v160Zm220 220h160v-160H400v160Zm0 220h160v-160H400v160ZM180-400h160v-160H180v160Zm440 0h160v-160H620v160ZM180-180h160v-160H180v160Zm440 0h160v-160H620v160Z\"/>\n",
              "  </svg>\n",
              "    </button>\n",
              "\n",
              "  <style>\n",
              "    .colab-df-container {\n",
              "      display:flex;\n",
              "      gap: 12px;\n",
              "    }\n",
              "\n",
              "    .colab-df-convert {\n",
              "      background-color: #E8F0FE;\n",
              "      border: none;\n",
              "      border-radius: 50%;\n",
              "      cursor: pointer;\n",
              "      display: none;\n",
              "      fill: #1967D2;\n",
              "      height: 32px;\n",
              "      padding: 0 0 0 0;\n",
              "      width: 32px;\n",
              "    }\n",
              "\n",
              "    .colab-df-convert:hover {\n",
              "      background-color: #E2EBFA;\n",
              "      box-shadow: 0px 1px 2px rgba(60, 64, 67, 0.3), 0px 1px 3px 1px rgba(60, 64, 67, 0.15);\n",
              "      fill: #174EA6;\n",
              "    }\n",
              "\n",
              "    .colab-df-buttons div {\n",
              "      margin-bottom: 4px;\n",
              "    }\n",
              "\n",
              "    [theme=dark] .colab-df-convert {\n",
              "      background-color: #3B4455;\n",
              "      fill: #D2E3FC;\n",
              "    }\n",
              "\n",
              "    [theme=dark] .colab-df-convert:hover {\n",
              "      background-color: #434B5C;\n",
              "      box-shadow: 0px 1px 3px 1px rgba(0, 0, 0, 0.15);\n",
              "      filter: drop-shadow(0px 1px 2px rgba(0, 0, 0, 0.3));\n",
              "      fill: #FFFFFF;\n",
              "    }\n",
              "  </style>\n",
              "\n",
              "    <script>\n",
              "      const buttonEl =\n",
              "        document.querySelector('#df-311487ed-b862-42a5-9b21-3d5a07a2d327 button.colab-df-convert');\n",
              "      buttonEl.style.display =\n",
              "        google.colab.kernel.accessAllowed ? 'block' : 'none';\n",
              "\n",
              "      async function convertToInteractive(key) {\n",
              "        const element = document.querySelector('#df-311487ed-b862-42a5-9b21-3d5a07a2d327');\n",
              "        const dataTable =\n",
              "          await google.colab.kernel.invokeFunction('convertToInteractive',\n",
              "                                                    [key], {});\n",
              "        if (!dataTable) return;\n",
              "\n",
              "        const docLinkHtml = 'Like what you see? Visit the ' +\n",
              "          '<a target=\"_blank\" href=https://colab.research.google.com/notebooks/data_table.ipynb>data table notebook</a>'\n",
              "          + ' to learn more about interactive tables.';\n",
              "        element.innerHTML = '';\n",
              "        dataTable['output_type'] = 'display_data';\n",
              "        await google.colab.output.renderOutput(dataTable, element);\n",
              "        const docLink = document.createElement('div');\n",
              "        docLink.innerHTML = docLinkHtml;\n",
              "        element.appendChild(docLink);\n",
              "      }\n",
              "    </script>\n",
              "  </div>\n",
              "\n",
              "\n",
              "<div id=\"df-ba1243d9-ac3d-46c2-a1e2-2013caeefe6d\">\n",
              "  <button class=\"colab-df-quickchart\" onclick=\"quickchart('df-ba1243d9-ac3d-46c2-a1e2-2013caeefe6d')\"\n",
              "            title=\"Suggest charts\"\n",
              "            style=\"display:none;\">\n",
              "\n",
              "<svg xmlns=\"http://www.w3.org/2000/svg\" height=\"24px\"viewBox=\"0 0 24 24\"\n",
              "     width=\"24px\">\n",
              "    <g>\n",
              "        <path d=\"M19 3H5c-1.1 0-2 .9-2 2v14c0 1.1.9 2 2 2h14c1.1 0 2-.9 2-2V5c0-1.1-.9-2-2-2zM9 17H7v-7h2v7zm4 0h-2V7h2v10zm4 0h-2v-4h2v4z\"/>\n",
              "    </g>\n",
              "</svg>\n",
              "  </button>\n",
              "\n",
              "<style>\n",
              "  .colab-df-quickchart {\n",
              "      --bg-color: #E8F0FE;\n",
              "      --fill-color: #1967D2;\n",
              "      --hover-bg-color: #E2EBFA;\n",
              "      --hover-fill-color: #174EA6;\n",
              "      --disabled-fill-color: #AAA;\n",
              "      --disabled-bg-color: #DDD;\n",
              "  }\n",
              "\n",
              "  [theme=dark] .colab-df-quickchart {\n",
              "      --bg-color: #3B4455;\n",
              "      --fill-color: #D2E3FC;\n",
              "      --hover-bg-color: #434B5C;\n",
              "      --hover-fill-color: #FFFFFF;\n",
              "      --disabled-bg-color: #3B4455;\n",
              "      --disabled-fill-color: #666;\n",
              "  }\n",
              "\n",
              "  .colab-df-quickchart {\n",
              "    background-color: var(--bg-color);\n",
              "    border: none;\n",
              "    border-radius: 50%;\n",
              "    cursor: pointer;\n",
              "    display: none;\n",
              "    fill: var(--fill-color);\n",
              "    height: 32px;\n",
              "    padding: 0;\n",
              "    width: 32px;\n",
              "  }\n",
              "\n",
              "  .colab-df-quickchart:hover {\n",
              "    background-color: var(--hover-bg-color);\n",
              "    box-shadow: 0 1px 2px rgba(60, 64, 67, 0.3), 0 1px 3px 1px rgba(60, 64, 67, 0.15);\n",
              "    fill: var(--button-hover-fill-color);\n",
              "  }\n",
              "\n",
              "  .colab-df-quickchart-complete:disabled,\n",
              "  .colab-df-quickchart-complete:disabled:hover {\n",
              "    background-color: var(--disabled-bg-color);\n",
              "    fill: var(--disabled-fill-color);\n",
              "    box-shadow: none;\n",
              "  }\n",
              "\n",
              "  .colab-df-spinner {\n",
              "    border: 2px solid var(--fill-color);\n",
              "    border-color: transparent;\n",
              "    border-bottom-color: var(--fill-color);\n",
              "    animation:\n",
              "      spin 1s steps(1) infinite;\n",
              "  }\n",
              "\n",
              "  @keyframes spin {\n",
              "    0% {\n",
              "      border-color: transparent;\n",
              "      border-bottom-color: var(--fill-color);\n",
              "      border-left-color: var(--fill-color);\n",
              "    }\n",
              "    20% {\n",
              "      border-color: transparent;\n",
              "      border-left-color: var(--fill-color);\n",
              "      border-top-color: var(--fill-color);\n",
              "    }\n",
              "    30% {\n",
              "      border-color: transparent;\n",
              "      border-left-color: var(--fill-color);\n",
              "      border-top-color: var(--fill-color);\n",
              "      border-right-color: var(--fill-color);\n",
              "    }\n",
              "    40% {\n",
              "      border-color: transparent;\n",
              "      border-right-color: var(--fill-color);\n",
              "      border-top-color: var(--fill-color);\n",
              "    }\n",
              "    60% {\n",
              "      border-color: transparent;\n",
              "      border-right-color: var(--fill-color);\n",
              "    }\n",
              "    80% {\n",
              "      border-color: transparent;\n",
              "      border-right-color: var(--fill-color);\n",
              "      border-bottom-color: var(--fill-color);\n",
              "    }\n",
              "    90% {\n",
              "      border-color: transparent;\n",
              "      border-bottom-color: var(--fill-color);\n",
              "    }\n",
              "  }\n",
              "</style>\n",
              "\n",
              "  <script>\n",
              "    async function quickchart(key) {\n",
              "      const quickchartButtonEl =\n",
              "        document.querySelector('#' + key + ' button');\n",
              "      quickchartButtonEl.disabled = true;  // To prevent multiple clicks.\n",
              "      quickchartButtonEl.classList.add('colab-df-spinner');\n",
              "      try {\n",
              "        const charts = await google.colab.kernel.invokeFunction(\n",
              "            'suggestCharts', [key], {});\n",
              "      } catch (error) {\n",
              "        console.error('Error during call to suggestCharts:', error);\n",
              "      }\n",
              "      quickchartButtonEl.classList.remove('colab-df-spinner');\n",
              "      quickchartButtonEl.classList.add('colab-df-quickchart-complete');\n",
              "    }\n",
              "    (() => {\n",
              "      let quickchartButtonEl =\n",
              "        document.querySelector('#df-ba1243d9-ac3d-46c2-a1e2-2013caeefe6d button');\n",
              "      quickchartButtonEl.style.display =\n",
              "        google.colab.kernel.accessAllowed ? 'block' : 'none';\n",
              "    })();\n",
              "  </script>\n",
              "</div>\n",
              "    </div>\n",
              "  </div>\n"
            ]
          },
          "metadata": {},
          "execution_count": 2
        }
      ]
    },
    {
      "cell_type": "code",
      "source": [
        "data_df.info()"
      ],
      "metadata": {
        "colab": {
          "base_uri": "https://localhost:8080/",
          "height": 0
        },
        "id": "4R4qZ_umvv-I",
        "outputId": "9bbdd97b-153b-4ac2-cb8f-f4c647b616a1"
      },
      "execution_count": 3,
      "outputs": [
        {
          "output_type": "stream",
          "name": "stdout",
          "text": [
            "<class 'pandas.core.frame.DataFrame'>\n",
            "RangeIndex: 2000 entries, 0 to 1999\n",
            "Data columns (total 6 columns):\n",
            " #   Column               Non-Null Count  Dtype  \n",
            "---  ------               --------------  -----  \n",
            " 0   Cancer stage         200 non-null    float64\n",
            " 1   Clump thickness      200 non-null    float64\n",
            " 2   No of week           200 non-null    float64\n",
            " 3   Clump thickness_new  2000 non-null   float64\n",
            " 4   No of week_new       2000 non-null   float64\n",
            " 5   True cancer stage    2000 non-null   int64  \n",
            "dtypes: float64(5), int64(1)\n",
            "memory usage: 93.9 KB\n"
          ]
        }
      ]
    },
    {
      "cell_type": "code",
      "source": [
        "data_df.iloc[198:202, :]"
      ],
      "metadata": {
        "colab": {
          "base_uri": "https://localhost:8080/",
          "height": 175
        },
        "id": "cKWkR9OxzGwj",
        "outputId": "f91f8998-e9f9-4b66-cee9-010d7310c3c7"
      },
      "execution_count": 4,
      "outputs": [
        {
          "output_type": "execute_result",
          "data": {
            "text/plain": [
              "     Cancer stage  Clump thickness  No of week  Clump thickness_new  \\\n",
              "198           4.0         4.594556   12.908754            10.682964   \n",
              "199           4.0         4.076195   13.541567            11.170609   \n",
              "200           NaN              NaN         NaN            10.475861   \n",
              "201           NaN              NaN         NaN            11.412233   \n",
              "\n",
              "     No of week_new  True cancer stage  \n",
              "198        5.663148                  1  \n",
              "199        6.526154                  1  \n",
              "200        6.958337                  1  \n",
              "201        6.384493                  1  "
            ],
            "text/html": [
              "\n",
              "  <div id=\"df-0f3139f3-bf00-45f5-a65f-2c83008562e9\" class=\"colab-df-container\">\n",
              "    <div>\n",
              "<style scoped>\n",
              "    .dataframe tbody tr th:only-of-type {\n",
              "        vertical-align: middle;\n",
              "    }\n",
              "\n",
              "    .dataframe tbody tr th {\n",
              "        vertical-align: top;\n",
              "    }\n",
              "\n",
              "    .dataframe thead th {\n",
              "        text-align: right;\n",
              "    }\n",
              "</style>\n",
              "<table border=\"1\" class=\"dataframe\">\n",
              "  <thead>\n",
              "    <tr style=\"text-align: right;\">\n",
              "      <th></th>\n",
              "      <th>Cancer stage</th>\n",
              "      <th>Clump thickness</th>\n",
              "      <th>No of week</th>\n",
              "      <th>Clump thickness_new</th>\n",
              "      <th>No of week_new</th>\n",
              "      <th>True cancer stage</th>\n",
              "    </tr>\n",
              "  </thead>\n",
              "  <tbody>\n",
              "    <tr>\n",
              "      <th>198</th>\n",
              "      <td>4.0</td>\n",
              "      <td>4.594556</td>\n",
              "      <td>12.908754</td>\n",
              "      <td>10.682964</td>\n",
              "      <td>5.663148</td>\n",
              "      <td>1</td>\n",
              "    </tr>\n",
              "    <tr>\n",
              "      <th>199</th>\n",
              "      <td>4.0</td>\n",
              "      <td>4.076195</td>\n",
              "      <td>13.541567</td>\n",
              "      <td>11.170609</td>\n",
              "      <td>6.526154</td>\n",
              "      <td>1</td>\n",
              "    </tr>\n",
              "    <tr>\n",
              "      <th>200</th>\n",
              "      <td>NaN</td>\n",
              "      <td>NaN</td>\n",
              "      <td>NaN</td>\n",
              "      <td>10.475861</td>\n",
              "      <td>6.958337</td>\n",
              "      <td>1</td>\n",
              "    </tr>\n",
              "    <tr>\n",
              "      <th>201</th>\n",
              "      <td>NaN</td>\n",
              "      <td>NaN</td>\n",
              "      <td>NaN</td>\n",
              "      <td>11.412233</td>\n",
              "      <td>6.384493</td>\n",
              "      <td>1</td>\n",
              "    </tr>\n",
              "  </tbody>\n",
              "</table>\n",
              "</div>\n",
              "    <div class=\"colab-df-buttons\">\n",
              "\n",
              "  <div class=\"colab-df-container\">\n",
              "    <button class=\"colab-df-convert\" onclick=\"convertToInteractive('df-0f3139f3-bf00-45f5-a65f-2c83008562e9')\"\n",
              "            title=\"Convert this dataframe to an interactive table.\"\n",
              "            style=\"display:none;\">\n",
              "\n",
              "  <svg xmlns=\"http://www.w3.org/2000/svg\" height=\"24px\" viewBox=\"0 -960 960 960\">\n",
              "    <path d=\"M120-120v-720h720v720H120Zm60-500h600v-160H180v160Zm220 220h160v-160H400v160Zm0 220h160v-160H400v160ZM180-400h160v-160H180v160Zm440 0h160v-160H620v160ZM180-180h160v-160H180v160Zm440 0h160v-160H620v160Z\"/>\n",
              "  </svg>\n",
              "    </button>\n",
              "\n",
              "  <style>\n",
              "    .colab-df-container {\n",
              "      display:flex;\n",
              "      gap: 12px;\n",
              "    }\n",
              "\n",
              "    .colab-df-convert {\n",
              "      background-color: #E8F0FE;\n",
              "      border: none;\n",
              "      border-radius: 50%;\n",
              "      cursor: pointer;\n",
              "      display: none;\n",
              "      fill: #1967D2;\n",
              "      height: 32px;\n",
              "      padding: 0 0 0 0;\n",
              "      width: 32px;\n",
              "    }\n",
              "\n",
              "    .colab-df-convert:hover {\n",
              "      background-color: #E2EBFA;\n",
              "      box-shadow: 0px 1px 2px rgba(60, 64, 67, 0.3), 0px 1px 3px 1px rgba(60, 64, 67, 0.15);\n",
              "      fill: #174EA6;\n",
              "    }\n",
              "\n",
              "    .colab-df-buttons div {\n",
              "      margin-bottom: 4px;\n",
              "    }\n",
              "\n",
              "    [theme=dark] .colab-df-convert {\n",
              "      background-color: #3B4455;\n",
              "      fill: #D2E3FC;\n",
              "    }\n",
              "\n",
              "    [theme=dark] .colab-df-convert:hover {\n",
              "      background-color: #434B5C;\n",
              "      box-shadow: 0px 1px 3px 1px rgba(0, 0, 0, 0.15);\n",
              "      filter: drop-shadow(0px 1px 2px rgba(0, 0, 0, 0.3));\n",
              "      fill: #FFFFFF;\n",
              "    }\n",
              "  </style>\n",
              "\n",
              "    <script>\n",
              "      const buttonEl =\n",
              "        document.querySelector('#df-0f3139f3-bf00-45f5-a65f-2c83008562e9 button.colab-df-convert');\n",
              "      buttonEl.style.display =\n",
              "        google.colab.kernel.accessAllowed ? 'block' : 'none';\n",
              "\n",
              "      async function convertToInteractive(key) {\n",
              "        const element = document.querySelector('#df-0f3139f3-bf00-45f5-a65f-2c83008562e9');\n",
              "        const dataTable =\n",
              "          await google.colab.kernel.invokeFunction('convertToInteractive',\n",
              "                                                    [key], {});\n",
              "        if (!dataTable) return;\n",
              "\n",
              "        const docLinkHtml = 'Like what you see? Visit the ' +\n",
              "          '<a target=\"_blank\" href=https://colab.research.google.com/notebooks/data_table.ipynb>data table notebook</a>'\n",
              "          + ' to learn more about interactive tables.';\n",
              "        element.innerHTML = '';\n",
              "        dataTable['output_type'] = 'display_data';\n",
              "        await google.colab.output.renderOutput(dataTable, element);\n",
              "        const docLink = document.createElement('div');\n",
              "        docLink.innerHTML = docLinkHtml;\n",
              "        element.appendChild(docLink);\n",
              "      }\n",
              "    </script>\n",
              "  </div>\n",
              "\n",
              "\n",
              "<div id=\"df-e27ef53d-116f-4381-9496-b7df4713fe14\">\n",
              "  <button class=\"colab-df-quickchart\" onclick=\"quickchart('df-e27ef53d-116f-4381-9496-b7df4713fe14')\"\n",
              "            title=\"Suggest charts\"\n",
              "            style=\"display:none;\">\n",
              "\n",
              "<svg xmlns=\"http://www.w3.org/2000/svg\" height=\"24px\"viewBox=\"0 0 24 24\"\n",
              "     width=\"24px\">\n",
              "    <g>\n",
              "        <path d=\"M19 3H5c-1.1 0-2 .9-2 2v14c0 1.1.9 2 2 2h14c1.1 0 2-.9 2-2V5c0-1.1-.9-2-2-2zM9 17H7v-7h2v7zm4 0h-2V7h2v10zm4 0h-2v-4h2v4z\"/>\n",
              "    </g>\n",
              "</svg>\n",
              "  </button>\n",
              "\n",
              "<style>\n",
              "  .colab-df-quickchart {\n",
              "      --bg-color: #E8F0FE;\n",
              "      --fill-color: #1967D2;\n",
              "      --hover-bg-color: #E2EBFA;\n",
              "      --hover-fill-color: #174EA6;\n",
              "      --disabled-fill-color: #AAA;\n",
              "      --disabled-bg-color: #DDD;\n",
              "  }\n",
              "\n",
              "  [theme=dark] .colab-df-quickchart {\n",
              "      --bg-color: #3B4455;\n",
              "      --fill-color: #D2E3FC;\n",
              "      --hover-bg-color: #434B5C;\n",
              "      --hover-fill-color: #FFFFFF;\n",
              "      --disabled-bg-color: #3B4455;\n",
              "      --disabled-fill-color: #666;\n",
              "  }\n",
              "\n",
              "  .colab-df-quickchart {\n",
              "    background-color: var(--bg-color);\n",
              "    border: none;\n",
              "    border-radius: 50%;\n",
              "    cursor: pointer;\n",
              "    display: none;\n",
              "    fill: var(--fill-color);\n",
              "    height: 32px;\n",
              "    padding: 0;\n",
              "    width: 32px;\n",
              "  }\n",
              "\n",
              "  .colab-df-quickchart:hover {\n",
              "    background-color: var(--hover-bg-color);\n",
              "    box-shadow: 0 1px 2px rgba(60, 64, 67, 0.3), 0 1px 3px 1px rgba(60, 64, 67, 0.15);\n",
              "    fill: var(--button-hover-fill-color);\n",
              "  }\n",
              "\n",
              "  .colab-df-quickchart-complete:disabled,\n",
              "  .colab-df-quickchart-complete:disabled:hover {\n",
              "    background-color: var(--disabled-bg-color);\n",
              "    fill: var(--disabled-fill-color);\n",
              "    box-shadow: none;\n",
              "  }\n",
              "\n",
              "  .colab-df-spinner {\n",
              "    border: 2px solid var(--fill-color);\n",
              "    border-color: transparent;\n",
              "    border-bottom-color: var(--fill-color);\n",
              "    animation:\n",
              "      spin 1s steps(1) infinite;\n",
              "  }\n",
              "\n",
              "  @keyframes spin {\n",
              "    0% {\n",
              "      border-color: transparent;\n",
              "      border-bottom-color: var(--fill-color);\n",
              "      border-left-color: var(--fill-color);\n",
              "    }\n",
              "    20% {\n",
              "      border-color: transparent;\n",
              "      border-left-color: var(--fill-color);\n",
              "      border-top-color: var(--fill-color);\n",
              "    }\n",
              "    30% {\n",
              "      border-color: transparent;\n",
              "      border-left-color: var(--fill-color);\n",
              "      border-top-color: var(--fill-color);\n",
              "      border-right-color: var(--fill-color);\n",
              "    }\n",
              "    40% {\n",
              "      border-color: transparent;\n",
              "      border-right-color: var(--fill-color);\n",
              "      border-top-color: var(--fill-color);\n",
              "    }\n",
              "    60% {\n",
              "      border-color: transparent;\n",
              "      border-right-color: var(--fill-color);\n",
              "    }\n",
              "    80% {\n",
              "      border-color: transparent;\n",
              "      border-right-color: var(--fill-color);\n",
              "      border-bottom-color: var(--fill-color);\n",
              "    }\n",
              "    90% {\n",
              "      border-color: transparent;\n",
              "      border-bottom-color: var(--fill-color);\n",
              "    }\n",
              "  }\n",
              "</style>\n",
              "\n",
              "  <script>\n",
              "    async function quickchart(key) {\n",
              "      const quickchartButtonEl =\n",
              "        document.querySelector('#' + key + ' button');\n",
              "      quickchartButtonEl.disabled = true;  // To prevent multiple clicks.\n",
              "      quickchartButtonEl.classList.add('colab-df-spinner');\n",
              "      try {\n",
              "        const charts = await google.colab.kernel.invokeFunction(\n",
              "            'suggestCharts', [key], {});\n",
              "      } catch (error) {\n",
              "        console.error('Error during call to suggestCharts:', error);\n",
              "      }\n",
              "      quickchartButtonEl.classList.remove('colab-df-spinner');\n",
              "      quickchartButtonEl.classList.add('colab-df-quickchart-complete');\n",
              "    }\n",
              "    (() => {\n",
              "      let quickchartButtonEl =\n",
              "        document.querySelector('#df-e27ef53d-116f-4381-9496-b7df4713fe14 button');\n",
              "      quickchartButtonEl.style.display =\n",
              "        google.colab.kernel.accessAllowed ? 'block' : 'none';\n",
              "    })();\n",
              "  </script>\n",
              "</div>\n",
              "    </div>\n",
              "  </div>\n"
            ]
          },
          "metadata": {},
          "execution_count": 4
        }
      ]
    },
    {
      "cell_type": "code",
      "source": [
        "data_df['Cancer stage'].unique()"
      ],
      "metadata": {
        "colab": {
          "base_uri": "https://localhost:8080/",
          "height": 0
        },
        "id": "RuvT1A8lwrro",
        "outputId": "b3dd8431-6ee9-4a80-b9b2-4b900759a119"
      },
      "execution_count": 5,
      "outputs": [
        {
          "output_type": "execute_result",
          "data": {
            "text/plain": [
              "array([ 1.,  2.,  3.,  4., nan])"
            ]
          },
          "metadata": {},
          "execution_count": 5
        }
      ]
    },
    {
      "cell_type": "code",
      "source": [
        "data_df['True cancer stage'].unique()"
      ],
      "metadata": {
        "colab": {
          "base_uri": "https://localhost:8080/",
          "height": 0
        },
        "id": "0C24zMoLv7Bv",
        "outputId": "5146142b-b5cb-4425-eab3-73c03b7eb18a"
      },
      "execution_count": 6,
      "outputs": [
        {
          "output_type": "execute_result",
          "data": {
            "text/plain": [
              "array([1, 2, 3, 4])"
            ]
          },
          "metadata": {},
          "execution_count": 6
        }
      ]
    },
    {
      "cell_type": "code",
      "source": [
        "data_df['Cancer stage'] = data_df['Cancer stage'].astype('category')\n",
        "#data_df['True cancer stage'] = data_df['True cancer stage'].astype('category')\n",
        "data_df.dtypes"
      ],
      "metadata": {
        "colab": {
          "base_uri": "https://localhost:8080/",
          "height": 0
        },
        "id": "vagERwu3xBc0",
        "outputId": "49458a2f-e699-49d8-9ff2-00ef438a3ee6"
      },
      "execution_count": 7,
      "outputs": [
        {
          "output_type": "execute_result",
          "data": {
            "text/plain": [
              "Cancer stage           category\n",
              "Clump thickness         float64\n",
              "No of week              float64\n",
              "Clump thickness_new     float64\n",
              "No of week_new          float64\n",
              "True cancer stage         int64\n",
              "dtype: object"
            ]
          },
          "metadata": {},
          "execution_count": 7
        }
      ]
    },
    {
      "cell_type": "markdown",
      "source": [
        "# Show a scatter plot of ‘Clump thickness vs No of week’ and plot their class labels given in column ‘Cancer stage’ (1, 2, 3, 4) for all 200 datapoints."
      ],
      "metadata": {
        "id": "Ab-Z-xrdz3Fb"
      }
    },
    {
      "cell_type": "code",
      "source": [
        "num_points = len(data_df['Clump thickness'].dropna())\n",
        "num_points"
      ],
      "metadata": {
        "colab": {
          "base_uri": "https://localhost:8080/",
          "height": 0
        },
        "id": "qrsRbCJ1yUnt",
        "outputId": "9a5076ef-3880-404f-fd32-f7634ac56e11"
      },
      "execution_count": 8,
      "outputs": [
        {
          "output_type": "execute_result",
          "data": {
            "text/plain": [
              "200"
            ]
          },
          "metadata": {},
          "execution_count": 8
        }
      ]
    },
    {
      "cell_type": "code",
      "source": [
        "title_str = f'Labelled Cancer stage of the cells (Total instances: {num_points})'\n",
        "x_axis_str = 'Clump thickness of the cell (in millimeters)'\n",
        "y_axis_str = 'Number of weeks since the formation of the clump'\n",
        "\n",
        "fig = px.scatter(data_df, x = 'Clump thickness', y = 'No of week', color = 'Cancer stage',\n",
        "                          width = 750,\n",
        "                          title = title_str,\n",
        "                          labels = {'Clump thickness' : x_axis_str, 'No of week' : y_axis_str})\n",
        "\n",
        "fig.update_traces(marker=dict(size = 10))\n",
        "fig.show()\n",
        "fig.write_image('Labelled Cancer stage of the cells.png')"
      ],
      "metadata": {
        "colab": {
          "base_uri": "https://localhost:8080/",
          "height": 542
        },
        "id": "IoFH4kgGwtpb",
        "outputId": "25cba4a9-0eb1-4858-8e76-892619a8e2b0"
      },
      "execution_count": 9,
      "outputs": [
        {
          "output_type": "display_data",
          "data": {
            "text/html": [
              "<html>\n",
              "<head><meta charset=\"utf-8\" /></head>\n",
              "<body>\n",
              "    <div>            <script src=\"https://cdnjs.cloudflare.com/ajax/libs/mathjax/2.7.5/MathJax.js?config=TeX-AMS-MML_SVG\"></script><script type=\"text/javascript\">if (window.MathJax && window.MathJax.Hub && window.MathJax.Hub.Config) {window.MathJax.Hub.Config({SVG: {font: \"STIX-Web\"}});}</script>                <script type=\"text/javascript\">window.PlotlyConfig = {MathJaxConfig: 'local'};</script>\n",
              "        <script charset=\"utf-8\" src=\"https://cdn.plot.ly/plotly-2.24.1.min.js\"></script>                <div id=\"db82cf69-b56f-4440-9766-5eeb3ee41deb\" class=\"plotly-graph-div\" style=\"height:525px; width:750px;\"></div>            <script type=\"text/javascript\">                                    window.PLOTLYENV=window.PLOTLYENV || {};                                    if (document.getElementById(\"db82cf69-b56f-4440-9766-5eeb3ee41deb\")) {                    Plotly.newPlot(                        \"db82cf69-b56f-4440-9766-5eeb3ee41deb\",                        [{\"hovertemplate\":\"Cancer stage=1.0\\u003cbr\\u003eClump thickness of the cell (in millimeters)=%{x}\\u003cbr\\u003eNumber of weeks since the formation of the clump=%{y}\\u003cextra\\u003e\\u003c\\u002fextra\\u003e\",\"legendgroup\":\"1.0\",\"marker\":{\"color\":\"#636efa\",\"symbol\":\"circle\",\"size\":10},\"mode\":\"markers\",\"name\":\"1.0\",\"showlegend\":true,\"x\":[10.51007584,11.73977608,7.85706971,10.81792943,10.30240726,8.759417954,9.58865849,10.32504211,13.39476541,12.62731866,8.719384806,12.8791812,10.68817887,9.940180895,10.67806466,9.805552124,9.88222633,11.41325124,11.33672749,11.34446677,10.63703812,8.854477324,10.68043233,11.54657699,10.46380535,10.98159598,10.68958379,9.712130663,10.27879095,9.253117953,10.8428061,8.911793748,8.985980449,9.232042109,7.206806791,11.36456736,10.30850283,9.283812112,11.29997934,8.376312959,9.903004299,9.770943224,10.3028261,10.29680373,9.179502868,9.971490837,9.843582028,10.59549542,11.03716288,11.05234905],\"xaxis\":\"x\",\"y\":[6.166543781,7.024066158,5.909366215,5.920889873,6.98493656,8.488546871,6.281778619,7.342969904,6.689892743,7.985150847,6.003521779,6.949297522,7.504464316,8.045406219,8.445168062,7.086998059,5.588858204,6.256031245,5.955425516,9.190851073,6.398173826,7.741859508,6.798250143,7.798851745,6.261550458,5.642413042,5.631619246,7.471111769,6.823895631,6.835243659,8.32205576,7.307342681,7.216315257,8.527377713,6.316263452,7.621947885,7.783175223,6.78917633,7.167687719,5.940431832,5.914141801,7.10594289,7.676335181,9.4434182,6.390833375,7.178454226,6.926202178,5.150037298,6.554341048,5.268285136],\"yaxis\":\"y\",\"type\":\"scattergl\"},{\"hovertemplate\":\"Cancer stage=2.0\\u003cbr\\u003eClump thickness of the cell (in millimeters)=%{x}\\u003cbr\\u003eNumber of weeks since the formation of the clump=%{y}\\u003cextra\\u003e\\u003c\\u002fextra\\u003e\",\"legendgroup\":\"2.0\",\"marker\":{\"color\":\"#EF553B\",\"symbol\":\"circle\",\"size\":10},\"mode\":\"markers\",\"name\":\"2.0\",\"showlegend\":true,\"x\":[13.59423524,12.37206649,13.07077632,12.6149599,13.21462161,12.57550502,13.3464578,13.52280868,14.21048746,12.86273393,11.48795449,12.4063211,13.95784284,12.24187173,13.679497,13.08771646,14.01589792,11.61343431,12.86020624,12.14592427,15.0562722,13.58351788,13.97508044,12.25175356,12.66863875,12.80733503,13.7767035,12.80351487,13.49606472,11.54914678,12.74979027,12.41763638,11.88485229,13.35919232,13.19939284,13.02367385,12.05694728,13.79725744,13.24761424,12.78852838,13.01618553,12.81474125,11.76241297,12.79801426,12.4121351,12.30759658,12.18230055,12.62271815,11.58392269,13.68181316],\"xaxis\":\"x\",\"y\":[10.28484865,9.989030294,9.980955092,9.5628278,10.55795691,9.927033781,9.608635711,10.74018447,9.876887822,9.677375513,9.839104528,9.535571669,9.386480462,11.38354701,10.90675338,10.16844394,9.311447917,9.525963637,9.903308283,10.43347643,9.270431132,8.723879203,9.206296725,10.18267141,10.2143532,10.24739501,9.928640157,10.10061066,9.739200252,10.47214868,9.254169222,10.24922995,9.535142728,9.816574869,10.30277191,10.56913339,9.387844082,10.69049121,10.36157529,9.962828505,9.893072946,9.880812093,9.833981118,10.01262261,10.02809289,10.45245322,10.83635958,10.25573957,9.885135274,10.34243086],\"yaxis\":\"y\",\"type\":\"scattergl\"},{\"hovertemplate\":\"Cancer stage=3.0\\u003cbr\\u003eClump thickness of the cell (in millimeters)=%{x}\\u003cbr\\u003eNumber of weeks since the formation of the clump=%{y}\\u003cextra\\u003e\\u003c\\u002fextra\\u003e\",\"legendgroup\":\"3.0\",\"marker\":{\"color\":\"#00cc96\",\"symbol\":\"circle\",\"size\":10},\"mode\":\"markers\",\"name\":\"3.0\",\"showlegend\":true,\"x\":[6.183227263,4.970232456,6.949221831,6.307061919,6.135174942,6.515246336,6.261406324,5.058514229,5.837662327,5.853945366,5.467988623,7.682103595,5.124270654,5.51618495,5.287995451,4.825787669,5.807760482,5.72592977,7.530072514,5.750975257,4.935786587,7.603457298,7.234679147,5.770373549,4.493840296,5.555372184,5.844058964,6.276068254,5.738836354,6.443421913,6.391894209,4.749321093,5.052039078,5.258893906,5.49218245,5.679424493,6.012469041,2.970822659,5.542985359,7.242448406,4.933298601,6.933728163,6.350321001,5.970994236,6.182452168,4.434943986,5.91546052,7.603946351,6.098347775,6.041373613],\"xaxis\":\"x\",\"y\":[2.303506025,2.970767529,3.22042373,3.404506754,2.646322573,2.775679486,4.919841745,0.857537307,5.115037881,3.320241045,3.948740997,1.421234957,2.440244064,2.736205172,3.401023316,1.415508494,3.447431608,1.849392119,3.062793393,3.618879136,3.310276328,4.027076323,3.954448552,2.382494702,3.243864883,2.104084548,1.746041306,3.877366917,3.000047291,2.947899343,3.864371219,3.564071623,3.332230005,4.186092459,3.88207573,3.227459397,2.345065952,2.381881942,4.130927134,1.470883431,2.976793369,1.151161233,3.968129422,3.817495864,3.001102449,2.932797919,0.64130397,3.551348476,0.920073609,0.79973751],\"yaxis\":\"y\",\"type\":\"scattergl\"},{\"hovertemplate\":\"Cancer stage=4.0\\u003cbr\\u003eClump thickness of the cell (in millimeters)=%{x}\\u003cbr\\u003eNumber of weeks since the formation of the clump=%{y}\\u003cextra\\u003e\\u003c\\u002fextra\\u003e\",\"legendgroup\":\"4.0\",\"marker\":{\"color\":\"#ab63fa\",\"symbol\":\"circle\",\"size\":10},\"mode\":\"markers\",\"name\":\"4.0\",\"showlegend\":true,\"x\":[4.071494884,3.151652818,4.368048401,4.605507357,4.767179311,3.381808485,4.401935565,4.090009205,4.738859468,4.479553471,4.803095823,3.881991183,3.868339015,4.901379936,2.10054481,3.548684199,2.863545775,3.65780575,4.58019637,4.738552815,3.092206809,3.578662261,4.122558773,3.738949461,4.269954723,4.35770911,3.168217095,3.841838202,2.092996617,5.024442657,3.437324118,2.923243849,3.77286497,2.722179398,3.98134438,3.498525982,5.947864493,5.018274398,1.766716819,4.394734808,2.749467467,3.771871712,4.147047473,4.668793647,3.755779384,5.409885712,3.569836734,4.292935746,4.594556272,4.076194994],\"xaxis\":\"x\",\"y\":[13.68238309,13.25035982,12.39260298,11.60156382,14.43965991,12.53173301,13.0800621,13.43622725,13.08799186,12.29920209,12.63770984,12.90326066,14.14559632,12.33321503,13.60780158,13.23905846,12.81885279,12.18127243,12.77990536,12.93285,11.86181147,13.14886373,12.36305437,12.92700155,13.26042973,12.29925798,12.77671758,13.27115745,11.57794962,13.80246349,14.87797953,13.74314844,12.75540406,13.3320097,12.19752964,14.45458833,13.7286665,13.60987542,12.32155071,13.24783153,12.56754711,12.75876781,12.55847222,12.20547016,12.2960887,12.83741422,11.68406554,13.47064538,12.90875384,13.54156727],\"yaxis\":\"y\",\"type\":\"scattergl\"}],                        {\"template\":{\"data\":{\"histogram2dcontour\":[{\"type\":\"histogram2dcontour\",\"colorbar\":{\"outlinewidth\":0,\"ticks\":\"\"},\"colorscale\":[[0.0,\"#0d0887\"],[0.1111111111111111,\"#46039f\"],[0.2222222222222222,\"#7201a8\"],[0.3333333333333333,\"#9c179e\"],[0.4444444444444444,\"#bd3786\"],[0.5555555555555556,\"#d8576b\"],[0.6666666666666666,\"#ed7953\"],[0.7777777777777778,\"#fb9f3a\"],[0.8888888888888888,\"#fdca26\"],[1.0,\"#f0f921\"]]}],\"choropleth\":[{\"type\":\"choropleth\",\"colorbar\":{\"outlinewidth\":0,\"ticks\":\"\"}}],\"histogram2d\":[{\"type\":\"histogram2d\",\"colorbar\":{\"outlinewidth\":0,\"ticks\":\"\"},\"colorscale\":[[0.0,\"#0d0887\"],[0.1111111111111111,\"#46039f\"],[0.2222222222222222,\"#7201a8\"],[0.3333333333333333,\"#9c179e\"],[0.4444444444444444,\"#bd3786\"],[0.5555555555555556,\"#d8576b\"],[0.6666666666666666,\"#ed7953\"],[0.7777777777777778,\"#fb9f3a\"],[0.8888888888888888,\"#fdca26\"],[1.0,\"#f0f921\"]]}],\"heatmap\":[{\"type\":\"heatmap\",\"colorbar\":{\"outlinewidth\":0,\"ticks\":\"\"},\"colorscale\":[[0.0,\"#0d0887\"],[0.1111111111111111,\"#46039f\"],[0.2222222222222222,\"#7201a8\"],[0.3333333333333333,\"#9c179e\"],[0.4444444444444444,\"#bd3786\"],[0.5555555555555556,\"#d8576b\"],[0.6666666666666666,\"#ed7953\"],[0.7777777777777778,\"#fb9f3a\"],[0.8888888888888888,\"#fdca26\"],[1.0,\"#f0f921\"]]}],\"heatmapgl\":[{\"type\":\"heatmapgl\",\"colorbar\":{\"outlinewidth\":0,\"ticks\":\"\"},\"colorscale\":[[0.0,\"#0d0887\"],[0.1111111111111111,\"#46039f\"],[0.2222222222222222,\"#7201a8\"],[0.3333333333333333,\"#9c179e\"],[0.4444444444444444,\"#bd3786\"],[0.5555555555555556,\"#d8576b\"],[0.6666666666666666,\"#ed7953\"],[0.7777777777777778,\"#fb9f3a\"],[0.8888888888888888,\"#fdca26\"],[1.0,\"#f0f921\"]]}],\"contourcarpet\":[{\"type\":\"contourcarpet\",\"colorbar\":{\"outlinewidth\":0,\"ticks\":\"\"}}],\"contour\":[{\"type\":\"contour\",\"colorbar\":{\"outlinewidth\":0,\"ticks\":\"\"},\"colorscale\":[[0.0,\"#0d0887\"],[0.1111111111111111,\"#46039f\"],[0.2222222222222222,\"#7201a8\"],[0.3333333333333333,\"#9c179e\"],[0.4444444444444444,\"#bd3786\"],[0.5555555555555556,\"#d8576b\"],[0.6666666666666666,\"#ed7953\"],[0.7777777777777778,\"#fb9f3a\"],[0.8888888888888888,\"#fdca26\"],[1.0,\"#f0f921\"]]}],\"surface\":[{\"type\":\"surface\",\"colorbar\":{\"outlinewidth\":0,\"ticks\":\"\"},\"colorscale\":[[0.0,\"#0d0887\"],[0.1111111111111111,\"#46039f\"],[0.2222222222222222,\"#7201a8\"],[0.3333333333333333,\"#9c179e\"],[0.4444444444444444,\"#bd3786\"],[0.5555555555555556,\"#d8576b\"],[0.6666666666666666,\"#ed7953\"],[0.7777777777777778,\"#fb9f3a\"],[0.8888888888888888,\"#fdca26\"],[1.0,\"#f0f921\"]]}],\"mesh3d\":[{\"type\":\"mesh3d\",\"colorbar\":{\"outlinewidth\":0,\"ticks\":\"\"}}],\"scatter\":[{\"fillpattern\":{\"fillmode\":\"overlay\",\"size\":10,\"solidity\":0.2},\"type\":\"scatter\"}],\"parcoords\":[{\"type\":\"parcoords\",\"line\":{\"colorbar\":{\"outlinewidth\":0,\"ticks\":\"\"}}}],\"scatterpolargl\":[{\"type\":\"scatterpolargl\",\"marker\":{\"colorbar\":{\"outlinewidth\":0,\"ticks\":\"\"}}}],\"bar\":[{\"error_x\":{\"color\":\"#2a3f5f\"},\"error_y\":{\"color\":\"#2a3f5f\"},\"marker\":{\"line\":{\"color\":\"#E5ECF6\",\"width\":0.5},\"pattern\":{\"fillmode\":\"overlay\",\"size\":10,\"solidity\":0.2}},\"type\":\"bar\"}],\"scattergeo\":[{\"type\":\"scattergeo\",\"marker\":{\"colorbar\":{\"outlinewidth\":0,\"ticks\":\"\"}}}],\"scatterpolar\":[{\"type\":\"scatterpolar\",\"marker\":{\"colorbar\":{\"outlinewidth\":0,\"ticks\":\"\"}}}],\"histogram\":[{\"marker\":{\"pattern\":{\"fillmode\":\"overlay\",\"size\":10,\"solidity\":0.2}},\"type\":\"histogram\"}],\"scattergl\":[{\"type\":\"scattergl\",\"marker\":{\"colorbar\":{\"outlinewidth\":0,\"ticks\":\"\"}}}],\"scatter3d\":[{\"type\":\"scatter3d\",\"line\":{\"colorbar\":{\"outlinewidth\":0,\"ticks\":\"\"}},\"marker\":{\"colorbar\":{\"outlinewidth\":0,\"ticks\":\"\"}}}],\"scattermapbox\":[{\"type\":\"scattermapbox\",\"marker\":{\"colorbar\":{\"outlinewidth\":0,\"ticks\":\"\"}}}],\"scatterternary\":[{\"type\":\"scatterternary\",\"marker\":{\"colorbar\":{\"outlinewidth\":0,\"ticks\":\"\"}}}],\"scattercarpet\":[{\"type\":\"scattercarpet\",\"marker\":{\"colorbar\":{\"outlinewidth\":0,\"ticks\":\"\"}}}],\"carpet\":[{\"aaxis\":{\"endlinecolor\":\"#2a3f5f\",\"gridcolor\":\"white\",\"linecolor\":\"white\",\"minorgridcolor\":\"white\",\"startlinecolor\":\"#2a3f5f\"},\"baxis\":{\"endlinecolor\":\"#2a3f5f\",\"gridcolor\":\"white\",\"linecolor\":\"white\",\"minorgridcolor\":\"white\",\"startlinecolor\":\"#2a3f5f\"},\"type\":\"carpet\"}],\"table\":[{\"cells\":{\"fill\":{\"color\":\"#EBF0F8\"},\"line\":{\"color\":\"white\"}},\"header\":{\"fill\":{\"color\":\"#C8D4E3\"},\"line\":{\"color\":\"white\"}},\"type\":\"table\"}],\"barpolar\":[{\"marker\":{\"line\":{\"color\":\"#E5ECF6\",\"width\":0.5},\"pattern\":{\"fillmode\":\"overlay\",\"size\":10,\"solidity\":0.2}},\"type\":\"barpolar\"}],\"pie\":[{\"automargin\":true,\"type\":\"pie\"}]},\"layout\":{\"autotypenumbers\":\"strict\",\"colorway\":[\"#636efa\",\"#EF553B\",\"#00cc96\",\"#ab63fa\",\"#FFA15A\",\"#19d3f3\",\"#FF6692\",\"#B6E880\",\"#FF97FF\",\"#FECB52\"],\"font\":{\"color\":\"#2a3f5f\"},\"hovermode\":\"closest\",\"hoverlabel\":{\"align\":\"left\"},\"paper_bgcolor\":\"white\",\"plot_bgcolor\":\"#E5ECF6\",\"polar\":{\"bgcolor\":\"#E5ECF6\",\"angularaxis\":{\"gridcolor\":\"white\",\"linecolor\":\"white\",\"ticks\":\"\"},\"radialaxis\":{\"gridcolor\":\"white\",\"linecolor\":\"white\",\"ticks\":\"\"}},\"ternary\":{\"bgcolor\":\"#E5ECF6\",\"aaxis\":{\"gridcolor\":\"white\",\"linecolor\":\"white\",\"ticks\":\"\"},\"baxis\":{\"gridcolor\":\"white\",\"linecolor\":\"white\",\"ticks\":\"\"},\"caxis\":{\"gridcolor\":\"white\",\"linecolor\":\"white\",\"ticks\":\"\"}},\"coloraxis\":{\"colorbar\":{\"outlinewidth\":0,\"ticks\":\"\"}},\"colorscale\":{\"sequential\":[[0.0,\"#0d0887\"],[0.1111111111111111,\"#46039f\"],[0.2222222222222222,\"#7201a8\"],[0.3333333333333333,\"#9c179e\"],[0.4444444444444444,\"#bd3786\"],[0.5555555555555556,\"#d8576b\"],[0.6666666666666666,\"#ed7953\"],[0.7777777777777778,\"#fb9f3a\"],[0.8888888888888888,\"#fdca26\"],[1.0,\"#f0f921\"]],\"sequentialminus\":[[0.0,\"#0d0887\"],[0.1111111111111111,\"#46039f\"],[0.2222222222222222,\"#7201a8\"],[0.3333333333333333,\"#9c179e\"],[0.4444444444444444,\"#bd3786\"],[0.5555555555555556,\"#d8576b\"],[0.6666666666666666,\"#ed7953\"],[0.7777777777777778,\"#fb9f3a\"],[0.8888888888888888,\"#fdca26\"],[1.0,\"#f0f921\"]],\"diverging\":[[0,\"#8e0152\"],[0.1,\"#c51b7d\"],[0.2,\"#de77ae\"],[0.3,\"#f1b6da\"],[0.4,\"#fde0ef\"],[0.5,\"#f7f7f7\"],[0.6,\"#e6f5d0\"],[0.7,\"#b8e186\"],[0.8,\"#7fbc41\"],[0.9,\"#4d9221\"],[1,\"#276419\"]]},\"xaxis\":{\"gridcolor\":\"white\",\"linecolor\":\"white\",\"ticks\":\"\",\"title\":{\"standoff\":15},\"zerolinecolor\":\"white\",\"automargin\":true,\"zerolinewidth\":2},\"yaxis\":{\"gridcolor\":\"white\",\"linecolor\":\"white\",\"ticks\":\"\",\"title\":{\"standoff\":15},\"zerolinecolor\":\"white\",\"automargin\":true,\"zerolinewidth\":2},\"scene\":{\"xaxis\":{\"backgroundcolor\":\"#E5ECF6\",\"gridcolor\":\"white\",\"linecolor\":\"white\",\"showbackground\":true,\"ticks\":\"\",\"zerolinecolor\":\"white\",\"gridwidth\":2},\"yaxis\":{\"backgroundcolor\":\"#E5ECF6\",\"gridcolor\":\"white\",\"linecolor\":\"white\",\"showbackground\":true,\"ticks\":\"\",\"zerolinecolor\":\"white\",\"gridwidth\":2},\"zaxis\":{\"backgroundcolor\":\"#E5ECF6\",\"gridcolor\":\"white\",\"linecolor\":\"white\",\"showbackground\":true,\"ticks\":\"\",\"zerolinecolor\":\"white\",\"gridwidth\":2}},\"shapedefaults\":{\"line\":{\"color\":\"#2a3f5f\"}},\"annotationdefaults\":{\"arrowcolor\":\"#2a3f5f\",\"arrowhead\":0,\"arrowwidth\":1},\"geo\":{\"bgcolor\":\"white\",\"landcolor\":\"#E5ECF6\",\"subunitcolor\":\"white\",\"showland\":true,\"showlakes\":true,\"lakecolor\":\"white\"},\"title\":{\"x\":0.05},\"mapbox\":{\"style\":\"light\"}}},\"xaxis\":{\"anchor\":\"y\",\"domain\":[0.0,1.0],\"title\":{\"text\":\"Clump thickness of the cell (in millimeters)\"}},\"yaxis\":{\"anchor\":\"x\",\"domain\":[0.0,1.0],\"title\":{\"text\":\"Number of weeks since the formation of the clump\"}},\"legend\":{\"title\":{\"text\":\"Cancer stage\"},\"tracegroupgap\":0},\"title\":{\"text\":\"Labelled Cancer stage of the cells (Total instances: 200)\"},\"width\":750},                        {\"responsive\": true}                    ).then(function(){\n",
              "                            \n",
              "var gd = document.getElementById('db82cf69-b56f-4440-9766-5eeb3ee41deb');\n",
              "var x = new MutationObserver(function (mutations, observer) {{\n",
              "        var display = window.getComputedStyle(gd).display;\n",
              "        if (!display || display === 'none') {{\n",
              "            console.log([gd, 'removed!']);\n",
              "            Plotly.purge(gd);\n",
              "            observer.disconnect();\n",
              "        }}\n",
              "}});\n",
              "\n",
              "// Listen for the removal of the full notebook cells\n",
              "var notebookContainer = gd.closest('#notebook-container');\n",
              "if (notebookContainer) {{\n",
              "    x.observe(notebookContainer, {childList: true});\n",
              "}}\n",
              "\n",
              "// Listen for the clearing of the current output cell\n",
              "var outputEl = gd.closest('.output');\n",
              "if (outputEl) {{\n",
              "    x.observe(outputEl, {childList: true});\n",
              "}}\n",
              "\n",
              "                        })                };                            </script>        </div>\n",
              "</body>\n",
              "</html>"
            ]
          },
          "metadata": {}
        }
      ]
    },
    {
      "cell_type": "markdown",
      "source": [
        "## Plot the other added 2000 datapoints given in columns ‘Clump thickness_new’ and ‘No of week_new’ over the previous scatter plot without using their class label."
      ],
      "metadata": {
        "id": "LO6CSmx93jJf"
      }
    },
    {
      "cell_type": "code",
      "source": [
        "num_added_points = len(data_df['Clump thickness_new'].dropna())\n",
        "num_added_points"
      ],
      "metadata": {
        "colab": {
          "base_uri": "https://localhost:8080/",
          "height": 0
        },
        "id": "l2Z0ecNq4Vhi",
        "outputId": "0f5de3dc-0194-4a94-f0fd-6113ed06d90a"
      },
      "execution_count": 10,
      "outputs": [
        {
          "output_type": "execute_result",
          "data": {
            "text/plain": [
              "2000"
            ]
          },
          "metadata": {},
          "execution_count": 10
        }
      ]
    },
    {
      "cell_type": "code",
      "source": [
        "title_str = f'Non-labelled Cancer stage of the cells (New instances added: {num_added_points})'\n",
        "x_axis_str = 'Clump thickness of the cell (in millimeters)'\n",
        "y_axis_str = 'Number of weeks since the formation of the clump'\n",
        "\n",
        "fig = px.scatter(data_df, x = 'Clump thickness', y = 'No of week', color = 'Cancer stage',\n",
        "                          width = 750,\n",
        "                          title = title_str,\n",
        "                          labels = {'Clump thickness' : x_axis_str, 'No of week' : y_axis_str})\n",
        "\n",
        "fig.update_traces(marker=dict(size = 10))\n",
        "\n",
        "\n",
        "fig.add_trace(go.Scattergl(x = data_df['Clump thickness_new'], y = data_df['No of week_new'], mode = 'markers',\n",
        "                marker=dict(size=2, color = 'gray'),\n",
        "                name = 'Unlabelled data'))\n",
        "fig.show()\n",
        "fig.write_image('Non-labelled Cancer stage of the cells.png')"
      ],
      "metadata": {
        "colab": {
          "base_uri": "https://localhost:8080/",
          "height": 542
        },
        "id": "M95Y4zRYB2kf",
        "outputId": "9b734539-d894-47b4-f2a5-fe1aab683113"
      },
      "execution_count": 11,
      "outputs": [
        {
          "output_type": "display_data",
          "data": {
            "text/html": [
              "<html>\n",
              "<head><meta charset=\"utf-8\" /></head>\n",
              "<body>\n",
              "    <div>            <script src=\"https://cdnjs.cloudflare.com/ajax/libs/mathjax/2.7.5/MathJax.js?config=TeX-AMS-MML_SVG\"></script><script type=\"text/javascript\">if (window.MathJax && window.MathJax.Hub && window.MathJax.Hub.Config) {window.MathJax.Hub.Config({SVG: {font: \"STIX-Web\"}});}</script>                <script type=\"text/javascript\">window.PlotlyConfig = {MathJaxConfig: 'local'};</script>\n",
              "        <script charset=\"utf-8\" src=\"https://cdn.plot.ly/plotly-2.24.1.min.js\"></script>                <div id=\"d822a868-a611-4c2d-93a5-488b7cf4592e\" class=\"plotly-graph-div\" style=\"height:525px; width:750px;\"></div>            <script type=\"text/javascript\">                                    window.PLOTLYENV=window.PLOTLYENV || {};                                    if (document.getElementById(\"d822a868-a611-4c2d-93a5-488b7cf4592e\")) {                    Plotly.newPlot(                        \"d822a868-a611-4c2d-93a5-488b7cf4592e\",                        [{\"hovertemplate\":\"Cancer stage=1.0\\u003cbr\\u003eClump thickness of the cell (in millimeters)=%{x}\\u003cbr\\u003eNumber of weeks since the formation of the clump=%{y}\\u003cextra\\u003e\\u003c\\u002fextra\\u003e\",\"legendgroup\":\"1.0\",\"marker\":{\"color\":\"#636efa\",\"symbol\":\"circle\",\"size\":10},\"mode\":\"markers\",\"name\":\"1.0\",\"showlegend\":true,\"x\":[10.51007584,11.73977608,7.85706971,10.81792943,10.30240726,8.759417954,9.58865849,10.32504211,13.39476541,12.62731866,8.719384806,12.8791812,10.68817887,9.940180895,10.67806466,9.805552124,9.88222633,11.41325124,11.33672749,11.34446677,10.63703812,8.854477324,10.68043233,11.54657699,10.46380535,10.98159598,10.68958379,9.712130663,10.27879095,9.253117953,10.8428061,8.911793748,8.985980449,9.232042109,7.206806791,11.36456736,10.30850283,9.283812112,11.29997934,8.376312959,9.903004299,9.770943224,10.3028261,10.29680373,9.179502868,9.971490837,9.843582028,10.59549542,11.03716288,11.05234905],\"xaxis\":\"x\",\"y\":[6.166543781,7.024066158,5.909366215,5.920889873,6.98493656,8.488546871,6.281778619,7.342969904,6.689892743,7.985150847,6.003521779,6.949297522,7.504464316,8.045406219,8.445168062,7.086998059,5.588858204,6.256031245,5.955425516,9.190851073,6.398173826,7.741859508,6.798250143,7.798851745,6.261550458,5.642413042,5.631619246,7.471111769,6.823895631,6.835243659,8.32205576,7.307342681,7.216315257,8.527377713,6.316263452,7.621947885,7.783175223,6.78917633,7.167687719,5.940431832,5.914141801,7.10594289,7.676335181,9.4434182,6.390833375,7.178454226,6.926202178,5.150037298,6.554341048,5.268285136],\"yaxis\":\"y\",\"type\":\"scattergl\"},{\"hovertemplate\":\"Cancer stage=2.0\\u003cbr\\u003eClump thickness of the cell (in millimeters)=%{x}\\u003cbr\\u003eNumber of weeks since the formation of the clump=%{y}\\u003cextra\\u003e\\u003c\\u002fextra\\u003e\",\"legendgroup\":\"2.0\",\"marker\":{\"color\":\"#EF553B\",\"symbol\":\"circle\",\"size\":10},\"mode\":\"markers\",\"name\":\"2.0\",\"showlegend\":true,\"x\":[13.59423524,12.37206649,13.07077632,12.6149599,13.21462161,12.57550502,13.3464578,13.52280868,14.21048746,12.86273393,11.48795449,12.4063211,13.95784284,12.24187173,13.679497,13.08771646,14.01589792,11.61343431,12.86020624,12.14592427,15.0562722,13.58351788,13.97508044,12.25175356,12.66863875,12.80733503,13.7767035,12.80351487,13.49606472,11.54914678,12.74979027,12.41763638,11.88485229,13.35919232,13.19939284,13.02367385,12.05694728,13.79725744,13.24761424,12.78852838,13.01618553,12.81474125,11.76241297,12.79801426,12.4121351,12.30759658,12.18230055,12.62271815,11.58392269,13.68181316],\"xaxis\":\"x\",\"y\":[10.28484865,9.989030294,9.980955092,9.5628278,10.55795691,9.927033781,9.608635711,10.74018447,9.876887822,9.677375513,9.839104528,9.535571669,9.386480462,11.38354701,10.90675338,10.16844394,9.311447917,9.525963637,9.903308283,10.43347643,9.270431132,8.723879203,9.206296725,10.18267141,10.2143532,10.24739501,9.928640157,10.10061066,9.739200252,10.47214868,9.254169222,10.24922995,9.535142728,9.816574869,10.30277191,10.56913339,9.387844082,10.69049121,10.36157529,9.962828505,9.893072946,9.880812093,9.833981118,10.01262261,10.02809289,10.45245322,10.83635958,10.25573957,9.885135274,10.34243086],\"yaxis\":\"y\",\"type\":\"scattergl\"},{\"hovertemplate\":\"Cancer stage=3.0\\u003cbr\\u003eClump thickness of the cell (in millimeters)=%{x}\\u003cbr\\u003eNumber of weeks since the formation of the clump=%{y}\\u003cextra\\u003e\\u003c\\u002fextra\\u003e\",\"legendgroup\":\"3.0\",\"marker\":{\"color\":\"#00cc96\",\"symbol\":\"circle\",\"size\":10},\"mode\":\"markers\",\"name\":\"3.0\",\"showlegend\":true,\"x\":[6.183227263,4.970232456,6.949221831,6.307061919,6.135174942,6.515246336,6.261406324,5.058514229,5.837662327,5.853945366,5.467988623,7.682103595,5.124270654,5.51618495,5.287995451,4.825787669,5.807760482,5.72592977,7.530072514,5.750975257,4.935786587,7.603457298,7.234679147,5.770373549,4.493840296,5.555372184,5.844058964,6.276068254,5.738836354,6.443421913,6.391894209,4.749321093,5.052039078,5.258893906,5.49218245,5.679424493,6.012469041,2.970822659,5.542985359,7.242448406,4.933298601,6.933728163,6.350321001,5.970994236,6.182452168,4.434943986,5.91546052,7.603946351,6.098347775,6.041373613],\"xaxis\":\"x\",\"y\":[2.303506025,2.970767529,3.22042373,3.404506754,2.646322573,2.775679486,4.919841745,0.857537307,5.115037881,3.320241045,3.948740997,1.421234957,2.440244064,2.736205172,3.401023316,1.415508494,3.447431608,1.849392119,3.062793393,3.618879136,3.310276328,4.027076323,3.954448552,2.382494702,3.243864883,2.104084548,1.746041306,3.877366917,3.000047291,2.947899343,3.864371219,3.564071623,3.332230005,4.186092459,3.88207573,3.227459397,2.345065952,2.381881942,4.130927134,1.470883431,2.976793369,1.151161233,3.968129422,3.817495864,3.001102449,2.932797919,0.64130397,3.551348476,0.920073609,0.79973751],\"yaxis\":\"y\",\"type\":\"scattergl\"},{\"hovertemplate\":\"Cancer stage=4.0\\u003cbr\\u003eClump thickness of the cell (in millimeters)=%{x}\\u003cbr\\u003eNumber of weeks since the formation of the clump=%{y}\\u003cextra\\u003e\\u003c\\u002fextra\\u003e\",\"legendgroup\":\"4.0\",\"marker\":{\"color\":\"#ab63fa\",\"symbol\":\"circle\",\"size\":10},\"mode\":\"markers\",\"name\":\"4.0\",\"showlegend\":true,\"x\":[4.071494884,3.151652818,4.368048401,4.605507357,4.767179311,3.381808485,4.401935565,4.090009205,4.738859468,4.479553471,4.803095823,3.881991183,3.868339015,4.901379936,2.10054481,3.548684199,2.863545775,3.65780575,4.58019637,4.738552815,3.092206809,3.578662261,4.122558773,3.738949461,4.269954723,4.35770911,3.168217095,3.841838202,2.092996617,5.024442657,3.437324118,2.923243849,3.77286497,2.722179398,3.98134438,3.498525982,5.947864493,5.018274398,1.766716819,4.394734808,2.749467467,3.771871712,4.147047473,4.668793647,3.755779384,5.409885712,3.569836734,4.292935746,4.594556272,4.076194994],\"xaxis\":\"x\",\"y\":[13.68238309,13.25035982,12.39260298,11.60156382,14.43965991,12.53173301,13.0800621,13.43622725,13.08799186,12.29920209,12.63770984,12.90326066,14.14559632,12.33321503,13.60780158,13.23905846,12.81885279,12.18127243,12.77990536,12.93285,11.86181147,13.14886373,12.36305437,12.92700155,13.26042973,12.29925798,12.77671758,13.27115745,11.57794962,13.80246349,14.87797953,13.74314844,12.75540406,13.3320097,12.19752964,14.45458833,13.7286665,13.60987542,12.32155071,13.24783153,12.56754711,12.75876781,12.55847222,12.20547016,12.2960887,12.83741422,11.68406554,13.47064538,12.90875384,13.54156727],\"yaxis\":\"y\",\"type\":\"scattergl\"},{\"marker\":{\"color\":\"gray\",\"size\":2},\"mode\":\"markers\",\"name\":\"Unlabelled data\",\"x\":[10.26964864,10.49428706,8.516878977,8.979735614,9.553004989,10.10965859,11.12873645,9.710036959,11.26155072,10.47542481,11.17411675,10.12694707,9.343184071,8.518600928,10.155489,10.81855137,9.707411869,9.459213584,9.691358185,8.903406698,9.506990185,9.819260644,10.04584111,9.93621688,10.61133519,10.10931769,11.81401545,10.31202383,11.80449377,9.27687852,10.52654704,9.739749138,10.60014251,10.5939308,7.813978387,8.67295685,8.558986402,10.4018445,11.47020128,9.673185771,10.81232301,10.5455401,8.94836769,10.397467,9.248105261,11.5162669,9.967433491,11.63599966,9.574941509,10.58943337,9.937208774,7.97804107,9.017868474,10.6125113,9.94511387,8.881267998,9.373621461,10.24951774,9.006980993,10.97495023,9.359290493,11.80886262,8.920133749,10.19918944,8.478973438,9.276368875,9.406749685,10.40133634,10.94213332,10.30048597,9.626929341,10.81548851,10.79888699,10.12020528,10.57124763,10.41279601,9.013038117,10.75956833,9.342798701,9.396081519,10.17694682,9.69249653,9.868179647,10.59535767,11.04683278,9.802041367,10.32767816,9.761698495,10.22959689,10.43999791,9.383134071,10.27483679,10.60110203,10.09230795,11.72984139,9.391442555,9.262940228,8.250120694,10.91048258,10.86708255,9.920107161,10.89847599,10.18370342,10.29079014,10.11294472,10.43995219,10.10166244,12.78733523,8.83333497,8.145700917,8.859318855,8.906656544,9.566390704,9.831530122,9.78146644,10.54133444,10.3892662,10.75122899,11.7782559,11.22306255,8.716743895,7.671045484,10.90193147,8.164361316,10.06675691,10.03547949,12.22716808,9.930785746,9.492676935,10.23580967,10.24580485,10.07004521,9.39141949,8.77740662,10.31650036,8.657130763,8.967815656,11.33121589,9.581096805,9.859678278,10.89982233,9.699888994,11.02936571,9.654934028,11.01280186,10.62933459,9.786984917,9.134302692,8.956891699,9.729931187,9.561858644,9.591325685,10.98354524,9.702302856,11.14367891,9.468379882,10.97256573,9.477749515,10.1765778,10.97073782,9.586027725,9.561729482,12.00339061,10.9509935,9.567996156,10.64894074,9.639923699,10.70588502,11.41584907,8.395484331,11.02885307,11.45796778,10.04747132,11.74625671,10.15538751,8.762880315,7.806505721,9.666592933,10.7135433,10.31740773,10.41361039,9.422914416,10.1440018,8.36133427,9.239910001,9.181206904,10.51972889,9.985839941,8.844470632,9.990475084,9.310189462,9.333300846,10.86414942,10.11341944,10.39836285,10.88396989,10.18025769,10.55085452,10.68296428,11.17060866,10.47586059,11.41223269,10.02260848,9.95213059,11.70133465,9.490288287,9.99714504,10.91986708,10.14980873,11.40493345,11.03412154,10.29157029,9.222301462,10.5666961,8.617378841,10.24447468,10.8084388,10.2130417,10.87967716,12.03887625,10.92393245,10.26691745,10.64166151,10.42548536,8.685276497,9.58358878,11.22468783,9.956415794,10.58242328,8.993499925,10.06451674,10.60029195,8.638485045,10.34759263,9.818156782,9.060465234,9.962466811,8.103695506,7.872023232,8.823076669,9.00946778,8.826967673,8.27457221,10.28822809,8.40581628,10.11021885,10.78706668,9.997773214,10.09310876,9.621842943,8.517323889,9.956181415,10.96082521,11.73824493,9.569793758,8.372677264,10.16634749,10.37626591,9.773049535,8.85108771,12.0243326,7.640476489,9.490027954,8.678374409,9.36387175,10.31785142,10.13804797,9.289264925,10.77700353,10.62239392,10.64738089,9.574368318,11.04858076,10.66070709,12.50877247,11.06345964,11.15692165,10.05297883,8.711613997,9.628778753,9.242208084,9.436031083,10.55513856,9.443221936,9.104886865,9.590672278,9.839113233,10.40933443,9.047364003,10.31731747,10.07802008,11.32438545,9.786829514,9.865521355,8.828644182,8.614737317,10.31050832,9.750510936,10.50374406,9.107338597,11.90851233,10.1222307,11.04703327,9.773079801,9.837498058,10.6900519,10.55575677,8.879744999,8.467306986,8.90213223,8.584226678,10.05957059,9.588749074,9.631989267,8.639036871,10.77956743,10.43941111,9.910377516,11.02118012,9.126020535,10.41470029,10.3484412,10.34925442,9.270752732,10.32684025,9.485118367,9.103553849,8.796731814,11.03781564,9.154055788,9.827086156,8.791347945,9.7028732,6.767962204,8.913040771,8.573563841,8.985549232,9.786732812,9.67465222,11.94439779,9.428226782,9.749967722,8.43068453,9.522617336,8.662023346,10.03029902,10.85308677,10.40425347,9.299379787,8.369457107,11.46001319,12.05004273,10.1205006,9.010098396,11.19777147,9.407343782,9.530190637,10.88637738,8.614780199,8.043246046,10.4206837,10.400738,10.09514216,10.49668439,11.0822406,10.97044779,9.43143043,10.80997207,10.17324737,9.494457431,8.806694209,10.64697094,9.646377401,10.04643453,9.207052498,8.449485525,10.17158636,9.937860875,11.19902788,10.80170407,11.05330458,9.251123247,9.063673503,8.730913227,10.49798062,12.78908113,10.72757204,9.226935898,10.83663375,8.87166969,8.575529909,10.71744232,9.22209448,10.31598588,11.40653514,10.40112464,10.92966028,8.394197795,10.66153624,12.13850225,10.54113941,8.459122818,9.796857205,9.500034778,10.38302391,10.41203538,10.40549255,9.636219249,9.40072796,9.410411009,10.85354083,8.146991929,9.79269684,10.2703782,9.347228988,10.47722729,9.92868035,9.061698712,10.16136354,9.731817118,9.590127352,9.288677289,10.06144548,8.153870764,9.601666881,9.456451878,9.088101496,10.65269859,9.265728741,10.54063309,10.97584089,9.843129585,10.27779932,10.6395173,9.919021985,10.54087014,8.737435155,11.11042384,9.010437321,8.171164066,11.38449851,9.937273206,10.44892112,9.636741528,8.979416607,6.927011461,10.626279,9.713315467,9.802657093,10.40560537,8.580651539,9.270554762,11.14732784,10.59786463,8.718718741,7.796735758,9.42875368,10.21399648,10.94237693,10.09372549,8.877688278,10.30615782,8.827665132,9.039033436,9.346264984,8.770606351,9.72903487,9.100049933,9.714313862,9.537578456,9.590214785,9.496461016,11.23329711,10.61030522,10.05907216,8.53305327,8.374196734,8.035247585,12.60519575,10.97237481,10.25698097,9.025759541,8.853635614,10.5476395,11.56508399,8.306656339,9.55060264,9.915707927,8.008002822,10.84124567,9.585341083,11.91218084,9.609101268,10.40918208,8.857571832,9.375136224,8.83127715,10.39257528,11.3018395,9.406358238,10.14521801,13.2568202,11.07148726,14.54544212,9.278633301,12.54962097,12.00076683,11.07379979,12.49519476,11.02773276,13.05301506,12.08189772,9.992168697,9.030299979,11.65238075,13.40332039,12.22188616,12.06644269,12.84232276,10.29343155,13.74570938,10.90526038,12.04625212,11.55472038,12.18316854,9.618461422,13.86638246,12.6684782,14.46164839,13.73506013,12.01406089,10.84990416,9.87028087,12.02078511,12.26841398,13.28086343,10.83528887,12.97342407,12.08748329,11.05243093,12.94815075,12.32535925,11.71205571,14.29920403,12.74616283,11.86494263,12.33981462,12.10660904,12.2126072,12.55553344,11.26084439,11.02384903,12.44170289,14.30875636,11.62422154,10.75967152,11.70784261,11.40720534,11.59908648,12.58238821,11.84077718,11.27206887,11.45649875,10.3802386,10.94730586,10.26943406,11.36804892,10.67103167,11.13391114,11.63055014,10.52976665,11.97628616,12.4168671,10.8202878,13.36427097,10.05742551,11.5201515,10.18163816,11.57791964,10.37854078,11.29597384,11.09282323,10.54867503,9.47107326,12.69205411,14.44966411,14.72300922,11.39720803,11.94365814,11.42957874,12.09301623,10.87474159,9.649143212,11.95536645,10.49953356,9.670003326,14.90784874,11.71421103,12.49465086,13.4604698,9.936600241,12.50600154,12.61450988,12.10173263,12.19326236,11.35340511,12.88556488,10.95903832,11.02463272,12.88835347,14.0655867,11.52676572,11.3814078,12.49978641,13.31336269,13.18553208,12.33085936,11.22301385,12.77129923,11.90295887,13.68641143,10.27529898,12.17297278,13.57957721,11.39382931,11.23474884,10.85653619,11.65863309,11.75440808,12.16747304,10.91812302,12.1010879,11.26040732,11.54840195,10.97345507,11.65404014,16.37217725,16.17335779,13.40468177,12.96418963,10.43460781,11.2840226,11.24138609,12.65560721,12.59153592,12.1328543,11.58323803,10.8660719,12.00651771,13.3951675,12.5234085,12.2217182,12.80524494,12.71555181,10.02025957,12.02299379,11.47830675,9.508835539,10.37286208,11.60822173,13.01094173,11.71917481,12.32119034,10.90020416,9.357854575,12.11502407,10.83504538,13.4361235,14.12504976,11.54476718,13.46095422,13.16797553,10.26693146,11.95914702,12.31980264,12.64053487,12.82889122,12.82596262,12.83086565,11.61716959,12.46447686,9.240774441,10.56906848,13.47210123,11.1907638,12.40117625,13.84707091,10.91131331,10.82512107,11.39654456,12.54018178,11.74921604,10.80243598,10.07354173,11.54652405,11.72915322,11.34450084,11.67915093,10.6583962,12.6726709,9.336644614,12.17711605,12.81939527,10.96040084,11.93007917,12.35736373,11.2472491,11.98329058,12.50473389,10.85223084,13.0228543,13.34053037,12.39336446,12.01850937,10.57379373,12.60605367,10.51089519,13.94830942,12.64479762,12.32433521,11.517943,9.334575442,10.53562837,12.44743408,14.95462726,12.90661399,12.3793603,11.33620398,12.1497657,13.17854668,11.68894561,14.31691845,10.5055,11.53920549,12.06421233,9.606929721,12.69249595,12.09527837,12.09883837,12.97331431,13.27825267,12.98247153,11.42580976,11.94293623,12.43288979,10.46073996,10.73112581,11.47707964,12.09512432,14.19343265,12.97644394,11.45804949,11.22952391,13.87850912,15.34788956,12.20507015,11.41351234,10.2698594,13.19411162,12.35483184,13.42732778,10.88706746,12.29464304,11.19896011,13.56149403,11.32493213,11.89294644,11.57400885,13.21735052,12.52472501,10.77012923,11.22511877,10.71927205,12.61936207,12.40655862,9.9970369,9.664607238,11.95052187,12.85388396,12.20674009,10.10924337,10.09943798,13.06194909,11.82195518,11.5269525,13.61201424,11.02453452,12.16588113,12.51170628,13.00414339,10.95363508,12.43762411,15.36617032,10.14698919,12.5315136,11.71859315,10.9870302,10.98103356,12.60979986,14.83605119,11.02776604,12.66253746,11.31529247,14.42078914,12.66707,11.83110088,12.75918951,11.99316252,13.3560366,11.77269947,10.62654929,12.30183778,13.91187234,10.53444369,11.70318886,13.23065814,9.648335768,12.76601151,12.92218441,12.26146305,11.05665977,11.99126187,12.11412972,13.14544412,12.81264017,11.57105434,13.98393659,11.93774243,11.00465343,11.46304743,13.05157819,12.23908972,13.08862936,12.08477907,15.04572166,9.960012134,11.49059438,11.89684635,12.10931087,13.78340882,12.26877457,11.85930468,12.08402052,12.92038947,11.15562775,12.55213163,10.08324408,11.9034951,10.84654512,11.20041122,12.34602624,10.62206521,10.78875906,10.14345976,9.270643223,11.8144246,13.4240652,11.77717447,11.7134666,10.71801782,13.93916168,11.69453219,13.58484314,12.44333332,11.67782779,13.32535087,13.2032311,11.86350958,13.58720908,14.18163194,11.91963852,11.68685617,12.49557851,12.43081228,12.98899503,11.68696686,12.87583132,13.28426418,12.21745168,12.18775055,10.46377253,10.56361816,10.21010663,10.47606467,11.81004284,10.02214259,14.75085677,12.90543078,9.467661946,10.5859701,11.8687173,9.902160123,11.43674652,13.33619678,11.7992885,11.91764758,10.77330478,11.31945649,10.3446883,12.44606595,11.44616106,12.95942345,13.51529924,13.31929295,11.95732851,11.3827441,10.50088904,12.14514339,13.17511025,11.58244719,11.78772926,12.75481089,13.05808082,10.26464164,12.24489014,12.23983793,11.81490137,13.09343283,11.55395994,10.98812964,12.33804343,12.56313439,11.73360982,12.97504752,10.14080965,10.68350088,8.237380773,12.63859078,10.7862489,11.68998555,13.23609245,12.06247675,11.4605822,10.96084144,11.70560705,12.73843474,10.14297612,11.91629052,12.95823165,10.25997321,12.81980151,12.83679057,10.91960819,10.15736062,12.53048526,12.98990704,12.70905133,12.93429555,10.55219598,12.71506446,11.28963612,11.31246841,10.09442376,13.34747466,12.21440176,13.22916781,13.85059951,10.60717233,12.78753348,11.9843722,13.11973491,13.35664325,13.00486822,10.9986341,11.84508787,12.32350767,15.86839106,13.50229316,14.84218621,12.50765413,12.25943963,12.75097301,11.35360787,13.52064477,11.80694263,10.31768826,13.06655456,10.07894688,9.741260724,12.35322844,10.83537647,10.88458554,11.80165358,11.40122007,11.72714888,12.33321205,10.56884778,10.50062531,9.42867423,11.52205234,12.81357568,11.13990576,12.61399833,12.66174649,13.21341719,13.21173577,11.15634529,10.95059254,12.05926543,11.18572421,7.391572948,6.143157296,5.487056504,4.95513966,3.907186793,6.216900408,5.551669592,6.451018518,3.940132061,7.86935628,6.689010416,3.784455911,7.494908063,5.169039511,6.427405911,6.310366686,4.758036092,1.953369653,6.757389564,5.516286197,5.154499899,6.592432034,5.024644171,6.949207474,6.213401235,4.598063388,7.183456262,6.671057021,7.770829934,4.737640934,4.733891043,6.443109776,6.943327343,7.171133659,6.00920551,5.666398056,6.923228446,8.778268522,7.250990935,6.119553311,5.187514423,6.70675412,5.315372875,6.337213052,7.100609147,7.307119316,6.831752615,7.948693343,8.617999123,3.316296749,3.484560711,4.69518825,3.174504422,5.494984255,5.524257483,6.354155852,6.404694042,5.029611105,4.849799621,7.122040659,5.459847842,4.060824466,6.014576942,6.288686308,5.418722154,6.938417219,6.319304164,5.698994383,5.937725712,6.647966948,5.375741556,4.508080038,5.77997063,6.18264266,6.72044045,5.957398896,5.353188285,6.84334593,5.839446532,7.141304873,5.872999748,5.991101591,5.870089393,4.697172327,4.68909257,4.640628688,8.524130565,5.716890021,7.329942916,6.493781627,8.629419417,7.311077758,4.264811092,5.537213969,7.260978433,6.407555953,9.203470104,5.932272845,3.805332787,6.628028643,4.710493378,6.069911149,7.524587097,6.435830582,6.423752891,5.721090985,5.792927409,5.854235778,2.041641771,6.556175088,7.400420953,4.164869939,3.847611701,6.878242614,3.868041115,3.624966719,7.115780843,5.074705012,7.760558721,4.172462134,5.1311744,6.341808646,6.776897016,6.661334794,6.27076109,5.675006715,5.180863689,6.679502997,5.452936032,6.596254417,7.538248372,2.818964323,8.551920286,5.106131639,7.861753051,8.194282532,3.922650238,6.250228623,10.90203178,5.696471975,6.687707396,6.467942224,7.793084319,7.542219979,4.661516711,5.379868564,6.48538733,5.917405145,9.584995584,6.620338327,6.618743491,4.815347247,4.150912068,7.123087399,5.721026874,6.918040717,4.824117808,7.267070383,3.435342909,8.215624989,7.19713272,6.155782463,4.357954471,5.437799618,6.359626464,7.708072201,4.538351434,7.831614105,9.914717136,5.299473343,6.662934562,5.070441828,3.571855782,8.079628061,6.981658335,5.277765395,6.160353975,5.675003615,3.932797593,1.92376114,5.932870666,5.345974381,5.184499555,4.803620073,3.43004089,5.262161489,6.228304808,4.49837266,6.637094356,5.614205265,5.856521881,3.978938986,4.918961805,6.580022076,4.882866393,6.228589421,8.797178658,7.124676567,7.467058103,9.338010648,7.662259691,6.562489905,8.759482399,4.7206227,5.035291119,8.854295321,6.642538285,5.940455698,6.647946415,5.62644378,5.587070645,5.452984819,5.216535681,4.665367164,5.915361888,5.187273004,8.039091319,6.333085096,7.44444457,5.802249764,5.884669324,7.779429621,8.076820702,6.046585405,8.393525547,6.672781779,6.521180433,9.099957153,8.171786703,7.283059701,6.568880957,5.238612872,5.837060694,8.576697189,3.141157868,5.099177836,5.73299192,6.209692575,3.477212648,6.748214502,7.031996695,4.670448441,5.633312879,4.283788438,8.297460172,6.528226314,5.645185421,4.691207713,6.139526776,8.381931393,6.389275576,6.499626632,4.302412599,6.234941427,7.097658493,4.046355317,7.595627493,9.486658098,3.796772341,3.077318624,5.897329983,7.073545694,5.884509454,5.775884923,6.009189611,4.494417208,3.675153008,8.236649216,6.413818886,4.320467842,7.521604325,4.165239486,5.827790889,7.047609157,4.811045732,5.50577365,6.041905915,8.761073027,6.649157304,5.435287652,5.681257981,5.603620061,7.847987599,5.597832827,4.880352288,6.340286495,5.866150366,7.12180324,7.356852393,7.53739555,6.915234773,6.89456103,8.691639188,4.359476153,5.50883053,3.602816572,7.300208234,6.030449739,5.57666884,3.566116053,6.25941184,5.632683063,4.084039098,4.363129825,4.922388556,5.646022929,3.668296884,5.742626401,6.87071323,5.467302138,5.012829055,6.430094065,7.557162155,5.36840095,5.339969208,3.969442967,4.617300619,6.85686436,5.83926823,7.081253315,6.947378067,6.531438389,7.084210807,8.154514545,6.815752598,6.602416817,5.939286439,4.243174801,5.285890498,6.460823343,4.428209993,6.662112621,6.456243505,6.141451674,6.426292872,6.033691711,5.968809896,5.987614418,7.314448052,5.872109398,2.264855807,5.312480088,6.277142897,7.357252162,7.952073458,4.668569355,7.076029992,6.336470324,5.705315428,6.034986511,5.96027318,6.198497783,6.335997602,5.050286685,4.522146801,7.365800283,5.689217348,8.000455794,4.693002697,5.159757995,8.009987019,7.990657824,4.544773176,6.292052398,7.896617797,7.884745854,4.182884484,8.288729134,6.93570559,6.321516422,5.680987177,4.63387898,6.134375548,5.636925415,9.267019164,6.268785037,5.75476972,5.980160248,5.133457167,8.92996758,6.900888101,6.105916016,7.588539699,5.953150021,5.861763869,5.212820597,5.129552958,8.269180911,7.086816666,6.122942497,8.41032781,6.033423319,6.410182489,3.991959285,6.67213831,3.953181788,4.60236103,7.342625397,6.496705708,4.76640757,5.436963154,6.362655104,6.311162979,3.579657517,4.294804585,3.492721471,5.897481336,3.56597604,6.992609954,4.578053525,4.435276183,8.5322341,9.058073,4.841366623,5.947603968,8.776106869,5.235947971,8.428917157,7.15938399,6.078518316,5.500605362,8.394474685,7.005577126,5.105136659,6.555398983,4.758374846,6.210640646,8.166402779,6.752146317,4.925668462,6.492123891,5.013157958,8.855742339,3.463325792,5.067315475,7.090999773,4.839862496,6.025297709,6.92565259,7.778654653,4.688910904,5.759756701,5.332954371,5.83844945,6.522533374,5.125145883,7.13153366,6.603439344,5.33202344,6.39025475,7.391907312,7.404466006,6.944990404,5.908078347,5.123048102,6.316931294,5.340783871,5.53035823,7.307885642,8.046403116,6.842633847,8.903763068,3.837313427,6.032085077,6.134753071,8.28328504,6.708907318,5.542020781,6.783780646,6.908552248,6.258270914,3.132715413,7.446854944,1.062214208,6.154841727,3.806085988,5.497797331,7.977858957,5.273836752,8.711301453,7.100838776,5.651459841,4.722213281,5.298688301,6.529615606,2.647561355,6.869829033,6.395223168,7.158050114,8.895611521,5.542156348,4.613303791,7.668254643,7.265131062,5.797865574,5.160705929,6.352022078,4.402246486,6.0934719,5.097838387,2.792488036,4.868873817,3.407645911,1.376639369,3.509485513,3.019784,2.379979091,4.798472754,4.063993611,3.597236142,3.133953471,6.650927796,5.854680397,3.701067815,4.136883368,6.391567509,6.835409969,5.743396157,3.484789935,3.078488698,5.188363764,2.634316131,2.306797038,3.438321304,5.511378308,4.251846405,4.387287003,5.778385389,4.370979312,2.199774654,5.33146695,4.753162574,3.86024363,3.346933329,3.138938187,3.962042097,2.734276773,3.190155925,1.649359839,3.179955168,2.903908629,4.913347655,6.30050476,5.637245304,5.655173262,5.069182748,4.864241962,5.185836215,2.846023256,5.31740874,2.104925356,4.97836677,2.683840057,2.46551297,3.28293647,1.940238579,4.025258374,5.756106353,3.605705256,4.783773101,4.256203772,5.916057213,3.749681087,4.463227881,7.901799057,5.812354719,2.52346439,5.7705467,2.538669216,4.015664279,4.457529171,5.375595597,3.371873959,4.850427817,6.798199399,0.987163685,2.297511733,5.889367447,3.535226681,3.939635582,5.460868819,7.514968299,1.941522617,2.562759285,3.877461473,4.000807088,4.168953289,3.505950193,5.928430727,2.561857164,4.322515377,5.56492812,4.593242619,3.016332094,4.190614182,3.498152792,3.051816574,6.139524193,3.687459996,3.086098656,2.804707263,4.191632335,1.634867107,1.397194257,4.30499772,1.96069523,3.367783284,5.226019864,5.458047146,6.442125601,2.403741904,5.354571721,4.51432318,5.980279552,4.348101286,5.28893913,5.801584681,3.349027821,3.270992071,1.898589628,3.861650065,4.562009449,2.824994501,4.113890512,3.436476807,3.317435358,5.232226047,5.290722486,5.815628084,2.284527713,3.784771788,5.035790968,1.954858508,7.04644341,4.368803396,3.138244,5.633019943,4.596305251,4.172747851,2.924527875,1.208669564,2.476465657,2.979165168,4.715509242,4.971607,2.758330641,5.309461537,5.055278948,3.80156568,2.495975096,5.410439077,3.794892172,2.397539305,4.398900798,4.827861091,1.68896063,6.951046361,0.602050387,1.414463822,5.93534417,4.514145256,3.321828931,4.018335026,5.156316035,2.627535504,5.467549152,5.102554611,3.928611039,4.30233136,3.005838472,2.645575597,3.385391194,5.626214648,3.620968892,3.285921707,2.451642572,2.207862484,4.034976202,5.644763057,5.947147311,4.885721435,3.511366959,3.418766909,4.578117111,5.482220729,5.540414547,0.649687011,3.926532791,2.471385171,3.25488987,6.743635482,2.770616914,1.337682533,4.279904426,3.80318373,3.342950081,5.39054561,4.89512713,4.594376952,3.562097549,4.553554374,3.539402942,4.294215249,4.91168378,4.537045293,2.936166947,3.15090681,2.355366187,5.57684497,3.95880509,2.96119306,5.071609911,3.192300316,4.705195237,6.398009872,5.482722863,3.746760567,3.820006128,7.062865399,3.729943376,4.476189266,4.515433369,5.462295163,4.340405323,4.579091,4.509365307,8.251687847,5.385186502,2.614147606,2.075047284,1.446714235,6.909422716,2.705164687,5.568704082,4.844040033,1.586032473,7.198421205,4.873256573,6.877897837,4.541768502,4.283911638,2.388316322,4.059449974,4.216810977,1.595005206,3.970087299,4.258115661,2.85976066,4.649220915,2.082661892,3.09282999,4.166639688,3.043259134,4.666915856,3.426348692,2.617902554,5.472979276,4.948749803,4.90340057,5.083254327,5.596034012,5.566704166,4.05326941,3.28806057,3.825037063,5.957226514,2.10601688,3.107614849,5.649615755,5.337646177,3.216488478,3.672992484,3.753664637,3.564557409,0.136883933,3.324343261,4.488667378,7.876280766,1.687382069,2.995120568,3.390513911,2.510128378,2.934671184,0.957503223,3.822252115,3.180164564,4.84588161,4.090769845,5.685204893,6.562609587,4.192667608,2.042485492,4.385996434,6.210840403,3.849043406,4.612885373,2.472122497,6.386233015,4.638512464,3.33253605,1.353135437,2.912761265,2.375877253,3.221198207,4.548352095,5.311321403,4.246076691,4.132363244,4.592321172,8.195080975,4.526066975,4.222578223,6.494776198,4.141587411,2.935919285,5.47345293,3.434125599,4.319550769,5.385473478,5.27747848,1.464906476,0.265268065,2.890514712,6.611888413,4.371682802,3.760057787,3.753518465,5.641482538,4.522540755,4.752316334,0.694626404,3.72482679,4.030339166,2.640177372,3.963713746,3.047652788,5.375435493,3.097466257,6.062879423,3.932573556,5.415958473,7.612674598,4.105663369,6.363153405,2.30428514,6.882961,2.089305744,3.896606809,3.48322639,2.183033205,1.931804466,5.022021202,1.803476331,1.880194682,5.784903389,4.002681816,4.600332945,2.574869563,3.688840823,4.485317138,4.264772255,6.827200811,3.01323901,3.762890968,5.315847531,5.49906366,0.879246879,3.380385443,2.930025604,3.974668593,4.814562861,4.703337436,5.803918628,4.707845828,4.49875482,5.495111488,4.677775883,1.905612552,4.17364307,1.383655009,5.756126896,0.66717795,3.130631474,4.149039323,3.939569191,6.977169551,4.087691041,3.02935446,4.928154755,2.09202569,4.862243286,4.396755773,3.379011729,3.016465354,2.117691054,1.029883438,3.329583838,5.228927403,2.871183879,6.505535315,2.595456476,7.38494871,2.905570296,4.157002893,6.268900122,5.950178482,2.802058801,5.167794582,2.238040181,1.302784152,5.045389464,1.265195849,0.619408949,3.905056305,6.190969384,5.925535936,1.636117086,4.058949757,5.269450311,5.539797723,6.467736902,6.508080745,5.353925666,1.747694589,4.062774907,1.818168155,5.949656283,6.754464612,0.835358396,5.321036737,3.457956633,3.244275562,2.594207232,5.997656837,4.605894241,3.812054202,4.659725694,5.602044351,2.625172132,2.743499841,5.088617692,6.507169034,5.976706323,3.817214805,1.894287164,0.29569913,2.534974733,5.78600306,3.131753141,4.448619213,4.336433642,0.517125527,5.978120113,7.201339723,3.938498893,5.578899348,2.802550287,4.942588232,7.357100894,6.0740199,2.893295295,2.387849844,4.083981853,3.625239792,3.900805702,6.009799947,4.349650465,6.63105173,3.932074473,3.789336263,5.254159053,4.673996072,3.668116025,1.488900014,2.23484718,4.97533346,4.859292432,1.679052677,4.189591722,4.836984529,2.141775583,2.421683112,5.887946614,1.227160845,4.7060249,5.546448561,1.167773547,3.794153109,2.141786612,4.142242542,3.332497112,1.389644805,4.977094234,4.942612168,3.022164718,4.834644261,1.874446403,2.047664597,2.176251396,3.827137185],\"y\":[11.99920319,6.495637519,7.102107713,9.196250541,7.120282816,5.963156603,6.142896761,7.830125696,6.80833172,6.134184792,7.180664134,9.266528476,6.748830713,6.795429949,4.798478094,7.225486895,5.606727416,6.613765349,7.52558635,9.523269275,8.798494452,6.883115733,6.679803813,8.817516283,7.490159189,7.76525116,7.778279045,6.519694827,7.54036396,6.908460978,6.239747623,7.306404557,8.281457753,6.190262389,5.763181647,8.214686448,9.010771768,7.025554433,7.308299436,7.061752789,8.674215952,7.124988174,7.530101257,7.047931777,7.854042818,7.389145735,5.843998915,8.039740127,6.549401396,7.109247942,6.749447158,7.810098345,5.967086486,6.676708079,7.766526854,9.74467318,5.839480074,9.377411852,8.526077963,8.1685075,6.698793471,6.301345729,7.832770576,7.305394746,6.538117007,7.883617137,7.435944182,8.896747363,7.504732028,6.599102864,6.486151988,8.796367596,6.328809836,8.186659043,7.790701971,8.287721495,7.003226115,7.365617187,10.52667782,7.887563337,5.443406065,8.915102295,7.609846053,7.352088377,9.617334912,7.550950421,7.294203684,7.222156202,5.935069904,5.231585968,6.577080464,6.946897571,7.647755245,6.682371811,8.768991569,9.510582395,7.164010317,6.717236285,8.152165808,6.853492368,7.673698697,6.330887005,6.599677299,7.328197573,7.575629017,6.221906485,5.936438797,8.552978301,6.576571162,7.361587165,6.648110758,8.269540708,4.435550644,7.465864128,8.853560942,9.03928934,7.910896579,6.760268713,7.18099808,8.244249547,7.096392885,6.169531502,6.647747814,7.82522496,6.519346581,7.836836711,9.538349341,6.676665749,7.128340263,5.557620847,8.30250821,9.4099115,5.33745703,8.943684478,5.915301548,8.226818975,8.098929202,7.147188752,9.295665813,10.75255788,7.138317725,5.092933792,6.635007007,7.151889988,6.235246635,5.872305185,7.078188895,10.10662966,6.284152607,6.719484338,8.166475005,9.212821419,7.485540987,8.026016486,7.870726021,7.618242121,7.428893027,6.70086948,6.10013148,8.634745461,7.067453591,6.812879455,7.291727455,8.987694692,7.39293457,7.194551374,7.279784956,8.051220312,6.225533756,7.78678171,8.408906951,7.465901416,8.92775843,6.823752453,6.756249638,7.102399341,6.207663135,6.047025309,7.353905454,9.597026324,7.527470251,7.854202301,8.341846522,5.500466558,6.832440678,7.353015315,7.717253725,6.695148361,5.994131048,7.79068347,6.883428671,8.553089888,6.039355195,5.366197604,7.761200282,9.193307152,8.632057216,5.467810397,5.663147595,6.526153502,6.958336926,6.384492665,8.314154809,6.544933418,5.257650779,7.205304683,8.192930399,7.197176902,5.734363578,6.850668647,5.363553322,8.017344346,7.828387266,7.217738348,5.090755099,7.463178179,6.697967702,8.813582131,7.914851753,7.942919284,8.309362078,5.955264152,6.65173319,9.412561161,8.502382929,7.730375995,7.490752272,7.41387386,7.74489965,6.17184503,7.574520732,8.281841383,8.139306269,6.574132154,7.636139891,8.793178081,6.101622886,7.156244844,8.597253911,8.112439711,6.691375065,7.456659609,6.724899169,8.443143609,6.865234873,6.98167177,7.460789425,9.362315464,7.451874567,8.648383657,4.971638039,7.550743189,7.235993202,6.164827036,5.724044837,8.617035081,7.612701504,7.289381155,7.395316122,7.129437158,6.502311622,6.893328183,6.312170865,8.331880877,9.365224743,6.517769282,7.647448207,6.965575283,8.339554598,6.030859644,7.208715601,7.381406645,7.512015644,7.011354171,6.956011374,10.94909254,6.369953806,6.9531206,9.683025511,6.853309314,7.552998745,5.923541591,8.030639584,8.327529812,7.652124811,6.721138884,7.245191594,9.472513479,4.724898458,5.366709275,7.415468937,7.345231148,6.703651685,5.503081124,6.095165553,7.595818455,6.274201834,6.133514975,6.57815322,7.057333676,8.341883717,6.011565288,8.817942688,7.625563393,5.54825928,6.381318192,7.934500962,9.055929256,7.160227277,7.28740032,7.632905577,6.540958131,6.418290275,5.169850678,6.55089692,8.949274704,7.717441409,9.287828606,7.166727663,5.843509248,8.689399307,8.282280747,6.417369036,8.222614481,7.779451473,7.384707158,7.696366923,7.887284441,6.961176299,7.088088629,6.210344027,9.422960619,7.006331684,7.686480848,6.145066366,6.924764683,6.909032749,6.747228167,8.194823819,8.606063709,7.540514429,5.555060581,6.032306192,8.202051338,6.652122027,8.29008799,8.341153819,7.419202311,7.875135602,8.395449887,7.320985222,9.623382458,8.062433309,7.214105238,7.876803202,8.194407011,6.58510784,7.358458734,7.036222668,7.635368832,8.771019567,7.221273068,9.730377585,7.703834617,7.564295552,8.582620663,9.729230123,8.303564281,6.209741521,7.803380233,5.680097298,7.72615424,7.271866922,8.489553508,8.437141525,7.972438603,7.923931315,6.67871958,7.661124886,9.915293939,7.15675961,6.699463542,6.499965223,8.716471381,8.337288727,9.125679947,7.054045784,8.163035918,6.36729326,8.611991493,6.924551276,7.526762857,9.184240787,7.809881106,7.716342804,6.994428866,7.433986613,7.520143593,5.907755483,7.774205548,6.595078223,7.527859215,5.993037136,9.089026771,8.784874712,6.69624548,6.991303369,8.506635027,8.203251989,7.52201773,7.397046092,7.51718916,6.768502806,7.613385212,8.682850536,8.568393574,5.793970746,7.433060389,6.907879252,7.755945062,6.780811337,6.120233284,6.679195675,7.215584706,6.635037472,7.117270572,7.174339689,7.784343587,6.84738852,7.03368822,7.458282205,9.281631221,7.620090052,6.713326138,7.598015714,7.754467325,5.219262825,4.652760771,5.286404701,7.762872739,6.380374185,6.27983962,7.040657174,7.341018571,6.369484967,7.609625091,7.78233497,10.43658436,7.302407417,7.058319854,6.425866038,7.804787599,6.949468722,5.244224959,6.742642376,8.749541885,6.429235691,7.494233376,7.991440439,9.077140113,7.776841798,4.740159648,6.435623309,8.901491435,7.394675532,7.004854424,7.436918628,9.13007272,7.153770741,6.241372843,6.819836903,7.792210414,7.896745288,7.412307702,7.547519687,8.147835044,6.637732845,7.061141295,7.216705551,6.601877587,7.178870373,7.927584218,6.889822064,9.572397879,7.560490614,6.579655394,6.84605461,7.724801407,7.241120455,7.754686394,6.7080901,8.45844538,8.755288632,7.931490592,7.825264441,7.185192866,6.465795821,7.242551659,6.899352051,6.374951551,11.29698673,11.1817277,9.150423886,9.324652814,9.807658063,7.962340289,8.802331121,9.161258502,9.166946756,10.78407864,10.17396086,11.80819535,7.553709789,9.284291405,7.445190578,10.6084674,9.514973173,11.04964666,10.73803442,11.03283633,8.201408855,8.247387709,5.756196574,9.291168287,6.547342926,10.47018364,10.42609231,10.21865166,8.401684799,9.226204453,11.53778896,12.13313978,8.290950765,9.266281679,7.228339167,10.6336112,10.16856065,10.42309563,6.578931333,10.79787552,7.633556666,8.404614344,10.24595385,10.47150452,8.741101424,9.959328387,11.58436933,9.014169862,6.865304203,7.162335658,7.506963488,8.93872232,9.91181299,5.702107924,9.373091659,8.769207777,10.73856009,7.647234071,9.011949652,8.517546734,7.922359521,8.588683445,8.638242765,9.170197797,10.78402822,9.869846529,11.93324553,9.561552108,10.68649133,5.680811939,10.00953148,10.58733846,8.408370579,10.09944224,10.38765288,11.63427403,9.663748357,9.950373896,7.934283472,8.268370816,8.576860803,9.294962037,10.50357555,8.750080129,8.226067356,13.70305614,8.015606117,13.03626562,10.51970989,8.118035757,8.831521512,9.659800198,9.748652938,11.15926795,6.410404948,13.19979629,10.22979284,8.132109855,8.800758545,10.47367822,9.468287759,10.8986045,10.72371459,9.432840402,8.794566378,10.16014089,9.190260918,11.79669752,7.914116355,9.745796091,9.455909468,12.20071573,6.872574526,9.001181753,9.084582717,6.297122762,10.9734117,13.44178557,8.632883499,10.45383767,8.2653958,9.60765976,8.399439954,9.839074492,11.5585216,7.660411935,8.089448748,9.879970805,8.790544022,11.2757484,12.21170867,8.453327451,7.986452588,9.822944291,8.398060453,13.15097559,11.58653797,9.883886476,9.891189271,9.464947962,10.20743251,10.78264287,9.22384367,13.0486477,10.06037164,8.825898848,9.586542831,11.73386845,8.370448851,8.864871842,12.75249688,9.250665073,10.49629628,10.29362704,11.51238357,10.83169799,5.102180426,7.652034966,9.809124732,10.40757792,12.10290178,11.22357911,9.785563106,10.13096662,6.55164152,11.94591404,9.211914696,7.555555299,9.685079621,9.162784915,8.098203635,10.77959972,7.881323385,6.868585272,6.22620573,9.424767535,8.008477318,9.695938656,6.624115763,9.670750853,6.620187692,11.86145149,8.815050131,11.93880664,9.782573824,10.43661461,7.175019782,11.98836986,11.29665541,5.716272718,8.720947964,8.968967527,9.247501675,7.655674982,9.441210337,10.94408808,9.386931089,8.812877736,6.96126713,10.09101611,8.176332784,6.977680917,8.911096941,9.668466362,9.303739233,10.56901511,9.91112207,12.06462543,7.84686623,7.63298739,8.849916735,12.18705323,11.06130124,8.801073476,8.056259682,7.595647048,10.06227484,9.036119994,7.137752733,9.470985473,6.107377332,9.679873248,8.724892181,12.57922073,6.850555569,10.5345058,9.227114482,10.13060775,10.1331453,10.88706368,7.306502411,12.0853675,7.086817049,7.301675221,7.936589139,11.16444895,7.308243602,9.529231072,9.651243565,10.24368541,9.876853264,7.14556814,10.59313443,10.17949132,10.15431177,7.444931334,9.082269115,11.38760645,10.60349778,8.866633452,6.069309252,8.265774186,9.345680631,10.25581296,9.732263648,9.03134688,12.54870769,9.114391613,10.36849842,9.342726175,7.237128068,10.08347922,10.64070541,12.8811694,8.163595753,6.425958584,11.55717968,10.41763686,7.217825399,8.115865336,7.721103515,11.83570896,9.936200633,9.383817758,9.380228289,8.70109382,10.57024815,9.547698149,8.58711164,9.707943253,8.839142842,7.597461641,10.17222012,12.20127392,12.91157981,9.796766282,7.699544059,10.31778024,7.407710145,8.030490637,7.958087395,8.682548756,9.597953971,7.236488513,10.05500121,11.25753158,10.64041866,8.967695448,9.978650758,12.85089373,9.083789782,8.718731076,11.802541,6.03323319,8.27806911,12.8427643,8.254565638,9.114042865,7.060784812,10.25376461,5.663891254,8.736045326,9.896466335,8.997718577,9.986511517,10.19992051,10.07654651,6.964416708,9.344822429,7.52303997,10.23847748,8.508945858,10.03615887,9.150189488,9.519630846,10.66663412,5.869820535,7.047400031,6.102791298,10.34174194,9.64065731,8.889319484,11.37019987,9.217872813,6.491015068,8.388589453,6.809753143,10.50980801,8.049545321,8.147077945,8.087508484,7.677487219,10.34866325,10.75472686,9.47801001,9.65739988,9.067949171,8.499731314,9.856358019,7.701682226,7.305169306,8.301712007,10.37488371,10.55117849,6.219052914,9.765839731,9.398354878,8.034897167,10.20321473,10.40228837,8.758348739,8.118656021,10.07045891,11.34285716,9.74203981,8.620871836,10.45620586,8.566094638,9.228380651,11.20791654,8.700059925,8.665778307,12.07284536,8.609582764,9.698261195,8.729378678,9.454750442,9.738420442,9.007212538,10.51559413,10.90461883,6.779897936,9.32502452,6.851643019,9.044918469,12.05241288,10.48806792,9.989051481,8.465192998,9.835261543,10.67110499,10.02330696,11.55316174,7.71002004,5.841265475,8.817005512,8.684872674,8.410614566,7.660188555,12.114359,6.444378022,8.222368103,7.467399654,9.250369557,7.946702509,9.756376787,7.353942562,8.702424045,9.159899947,10.71392688,6.067734974,12.84565901,7.611168278,10.02415537,10.65950803,12.09199431,8.18198365,9.038445311,8.743275432,9.042365739,9.429610858,9.567065025,8.442940879,10.20927942,13.22730396,8.988036984,10.12308755,9.268661053,8.165351754,8.453262642,9.892644218,8.732655336,6.070233888,9.084141912,8.309966954,10.44273069,9.133773653,10.15283846,10.4242157,7.903981818,6.589429215,9.794416852,9.48444738,8.515056921,10.95650455,9.05219642,9.195378666,10.43313619,10.19244084,11.4104422,8.58577995,7.263549103,10.60242776,7.533120431,10.96643119,9.06793653,11.35823969,7.725636738,7.240826435,11.51305431,6.844826205,10.07609931,9.69225993,9.773474119,8.459989695,12.2536843,8.407808112,9.699262339,7.515733735,7.713803069,8.07721773,12.70299694,8.382692066,7.908910859,8.291300844,11.12952819,6.919646233,9.991567096,6.895038029,9.793110906,6.111423526,9.84736782,10.09551531,8.912888385,9.50213136,9.257476347,10.83272317,10.20299935,10.64352762,8.815368614,7.974952582,9.939946442,8.684839789,10.39404247,8.911228429,8.669884558,8.755170395,10.87933319,8.34397399,8.958635463,1.580917529,4.676544679,3.052566027,6.340167825,1.118344581,3.416151255,1.187960871,5.071650396,5.260385554,4.772738554,-0.663949882,5.180789035,3.015084908,3.578978388,2.051853281,1.140411235,4.546363319,2.121754025,2.428784973,4.291597332,7.393762618,6.972677911,0.716012293,3.178774551,4.710195778,-0.590587106,5.154716446,3.453989029,5.423648301,1.476000718,1.402230839,8.008663409,4.018468745,2.463466718,1.210853614,5.91105953,3.59255005,-0.921351289,1.435463072,9.144241042,2.979620178,-0.463303259,1.461912363,3.272707713,4.203045003,2.718104063,3.175935904,3.969068237,1.336664685,5.031358965,2.367329154,3.197349219,3.337731846,2.884045256,2.096683306,4.220143244,6.659855354,3.93752636,1.865359023,2.493932066,2.586216714,0.270309889,6.162293889,4.353801652,0.984939378,3.208902334,0.499752834,5.008652939,2.685692592,3.072763076,3.626728635,5.478677101,1.597433722,0.458993705,2.820046438,2.574672195,3.736089404,-0.212407565,4.487095676,4.53068937,1.074718569,2.450522951,4.451220686,8.202761201,2.391895249,5.393628119,1.509301012,4.358344812,2.640604242,3.589342473,2.137244457,1.538072221,2.531005409,3.761518844,2.123333271,3.680699495,3.69628271,3.933970711,1.729379275,3.535166079,4.50792071,3.572894024,0.665374469,6.680992576,1.931953827,1.790039601,0.534260985,3.810111181,2.822097409,2.441038445,1.545791989,1.12384129,8.217779802,5.599531936,2.378208265,3.801023165,3.62163502,2.978977485,2.012107915,5.617795677,1.028377478,6.390035995,-0.054003028,3.439968513,4.511374012,3.204235448,0.396632729,5.596665437,3.282748484,1.588948716,3.699246385,5.309703048,6.783560516,2.83756387,2.490420106,3.125651063,-0.337660195,3.903057806,-0.558344533,3.532627719,2.523630502,4.463833652,-1.799827047,5.590152387,2.100625094,0.760437233,2.984899821,4.404178699,2.265271496,0.454840234,5.089581283,4.341806754,1.775655669,5.106809894,3.635957824,1.804598646,4.075690276,-0.109818584,1.167768279,4.262482741,3.712330261,3.122105748,-0.34810029,5.418068125,5.18542742,5.021897151,2.012159472,3.317749393,1.237752587,3.433369282,3.436692979,2.663759339,4.592699454,4.47598017,4.138175948,2.694961481,0.681646832,4.129686983,5.506652811,1.765436265,-0.824695887,5.487412223,2.893180611,6.04002062,4.706959311,0.889360306,2.251964859,2.553839257,3.311215069,5.020095057,3.096970497,0.362620825,5.139597321,3.004627221,2.204058929,0.357191286,3.647651356,3.424665097,3.586436373,2.132736365,1.735321742,1.412874612,6.096132921,2.579019405,2.659285968,1.458225813,4.577462872,3.978755964,3.126118383,4.627116775,4.169545377,5.361337417,-0.69401524,3.380929306,4.673655648,4.606207578,4.561989887,6.674006113,5.162615542,2.054585132,1.562250478,2.789073036,1.886999642,3.863254647,5.127153715,2.079647376,2.504451949,3.605775442,4.168308399,4.79585956,2.741123317,3.450799002,4.617033409,4.25276479,3.8455609,9.657222144,3.054907323,3.591105526,2.855320083,5.067672648,2.090674722,4.745399275,6.168098006,4.147723268,2.881658105,2.024049287,2.17974567,1.049391659,2.906954147,1.473467299,5.175267772,4.269925483,3.095146194,5.422363888,-0.075513204,4.570977584,1.167658651,1.885651925,3.447632579,5.544459839,1.550927478,3.958080865,5.526039039,2.518954222,1.281593221,2.979736015,4.085841244,4.00259672,1.586080615,3.199441383,3.358653448,3.229996359,1.059254836,3.754062111,3.029598382,3.371290448,1.90666462,2.133411706,1.497977364,2.198505808,5.191791603,2.581782723,0.005229738,3.154341983,4.836639525,2.067889979,6.078439154,2.649833847,1.695814372,1.210560508,5.015827446,2.995226824,3.722788938,0.145363726,2.008097016,5.14182339,0.782279379,3.086817402,3.949861751,7.080360065,4.110395558,4.639738351,2.386412351,2.997459245,3.097814655,1.452719708,4.943495882,5.343774845,4.667091315,5.183742045,2.813079647,3.000333804,3.910422376,4.995252721,4.486755803,5.63778602,5.608694433,3.511540325,5.085557069,3.979482462,4.367454725,0.568924308,5.671006034,0.925771273,3.356207573,2.400346848,0.992582829,4.581668276,3.575461861,5.444286313,3.237053539,5.000481276,3.421040742,5.542080958,4.958176966,4.018451816,3.215352271,6.082065138,2.585221862,5.486086554,1.478644892,1.680270782,4.494383477,5.122897448,4.832669571,1.903280346,4.763209394,4.297784003,2.917772467,5.925685774,5.489034074,0.101018009,3.617457285,1.527338443,2.481162381,2.901449212,5.813677328,5.149596525,3.961774112,5.218355049,3.793562181,4.184695023,3.435246319,3.690822184,3.879406934,2.463238982,2.316930697,3.53279914,2.847354064,3.013907111,7.38519864,1.881280874,1.143673496,3.426186075,2.91233835,2.73534202,3.566358315,4.304218519,1.001695664,3.293553547,0.769280626,3.1447608,3.283708711,5.182254084,1.118356095,3.515271914,2.75178282,6.410934461,3.531302036,2.069569669,2.603477724,3.071239019,5.492457956,2.114749373,0.216879366,3.651436861,4.980606005,4.148853852,3.284202458,7.092413054,1.982053861,3.448664046,1.489940055,2.635288532,2.403586075,4.121705706,6.557851886,5.383807698,1.144839419,2.644660269,2.039676372,3.492607669,5.044221756,3.653667426,4.717457167,5.045209324,1.626680952,4.61222416,0.661058795,5.385276009,4.03860248,4.905998728,0.540935028,3.64729194,3.031026343,3.173813792,4.517894165,5.213637968,4.129324441,3.309223705,5.902935168,3.436914715,3.175193188,2.001139759,2.893430188,5.256754871,0.874181594,3.330701493,1.727257237,5.365522047,-0.404141885,-0.387067295,5.813358917,3.741196861,-0.409140373,0.079524177,2.849447219,4.532408327,3.584646151,4.84808394,3.576671628,3.872722582,4.814768069,6.566055126,3.046234239,3.583399714,4.798691781,2.12146002,0.431230602,3.815557525,3.424809599,3.252520939,1.063419253,2.966067614,1.823091997,4.65420283,2.773446816,5.124801031,4.036658456,2.666579257,-0.430844395,4.628627524,4.219276471,1.696463854,2.970698081,3.235015197,5.946798315,2.947052557,3.353195912,2.185139449,1.726301175,0.650364657,4.261947239,5.051678481,1.56536763,8.001546621,4.591989228,4.702847231,6.318927857,-1.253375651,2.842273546,3.957252906,3.34629939,1.201586249,3.916890253,0.159837596,3.186050636,3.760213404,2.928997336,4.631002003,12.35799516,15.34085297,12.91291325,14.68810498,13.70309138,13.45527877,13.23477609,15.52368694,11.57420126,15.00278817,13.84057876,12.59217215,14.35965946,14.44833891,15.09104132,13.48522085,15.00781947,13.32268171,11.20760662,13.04938857,14.13838567,15.1959158,11.55094095,13.86383793,12.19562945,15.30219475,11.90252954,15.6307548,12.23505726,13.95123348,11.37812708,15.83745614,10.30200602,13.39499823,13.51562304,12.99485049,11.8163346,13.74629608,11.73090539,13.96541624,9.54650508,10.45124524,12.94518884,15.36920965,10.97977894,13.83119419,13.60541986,13.27927613,12.9706984,15.68379937,11.28464559,14.58799939,13.25419663,13.39447167,12.99279791,14.34462984,12.69217355,10.92594421,12.28472917,14.28713253,13.3169471,13.7393251,15.72011593,11.974112,13.83332927,13.16635625,12.95347506,13.15108373,12.84381439,13.83326968,13.52200414,12.03346455,14.10987697,13.30559117,15.31994629,12.63761994,12.11568304,10.85401821,13.00442416,15.21879787,12.41338474,12.36423327,12.63911699,13.80336732,14.25354604,13.019467,12.40886823,14.77731436,11.3289115,13.73316265,12.74709249,16.62017795,12.20536866,13.51879243,13.14435498,12.6763221,14.07229682,10.27337296,10.61651016,12.39608065,14.5990552,14.20511164,11.46737098,13.77984747,12.08951677,13.28566185,15.57361127,12.92630743,15.38676878,12.43016028,12.20156775,14.74664194,13.868496,13.34267877,11.20274073,13.15331267,11.93693559,12.37230878,12.04214358,14.52148309,14.23887903,12.69299643,13.67879778,14.92943536,13.16392311,12.66618171,12.33541957,12.57549367,12.66501097,13.19535155,12.77133018,14.26687699,13.05663012,13.82097707,12.2277972,13.85497777,13.29646736,12.53939228,13.34347285,11.82674884,13.56164083,13.56561522,12.99854563,13.56774007,12.46969618,10.91208666,14.34197345,14.77865864,11.66847658,11.19072674,12.52816776,14.83385121,14.01978302,13.65474645,13.94063415,16.14928967,10.91265208,13.57502779,12.93349164,13.08281921,13.87785308,12.9932481,14.46983386,12.73359281,11.96194574,13.53083142,11.91300956,14.14847903,12.50776905,14.34315115,13.53481504,13.50152309,12.21776749,12.50412383,15.93187077,13.93922447,12.7518962,12.75807118,14.85710028,11.878487,14.36249501,12.11906425,12.66519691,14.82964759,11.85308666,13.52139453,12.90870372,12.28681795,13.23552592,13.71082933,13.78121486,13.30681691,12.98023553,13.76218637,13.65332345,13.52315691,11.4425314,13.33386675,13.38881787,15.83511886,11.09699045,12.56608315,13.53181805,13.87571532,15.48472319,12.55025914,10.10497888,14.89389027,11.2865565,14.61040116,13.49458306,13.57848418,11.79967133,15.27477428,13.37910563,13.40097395,12.14894525,12.77906509,14.53862658,16.34017345,13.03330444,13.52312459,13.39603943,11.98043486,13.17187823,12.39002471,12.47608718,13.81521742,9.459495207,12.10037338,13.92617071,14.14794041,12.36814721,12.5825354,11.67728515,13.14587651,12.28597777,12.77204385,13.72010175,13.97422966,12.90231275,11.97670755,14.19855992,14.28840037,13.69326407,13.26857461,13.98923992,15.85245937,12.47135918,13.66449829,13.83196906,13.98926277,15.34164032,11.80144525,12.40461575,14.09540512,13.03208954,12.72714659,12.41248315,15.00990908,12.92602134,12.01192014,15.09778931,15.11716126,14.82345125,12.96724046,15.34639591,15.12636982,10.78554041,11.4503207,13.7147986,13.85769939,12.82386666,14.3163185,15.08474729,14.47916347,13.15594869,15.75681623,12.98692226,13.4481922,12.27121608,12.09899245,13.10005561,12.94566985,10.72392129,11.42634137,13.53423637,15.33654302,14.47288087,15.83266787,11.67240185,15.67120631,13.10003743,12.42708612,12.47779368,15.08956321,13.79577801,10.78789202,14.25499166,15.01069898,12.71055327,11.79819966,12.05745076,12.48606485,12.9384998,12.52398576,12.61794683,14.27111528,12.63585275,10.92136946,12.26673387,13.35903368,10.89854742,14.08472941,10.34641219,14.51699773,12.63893407,12.55388506,13.79321338,13.62825048,12.72218141,11.93253584,14.37876818,15.21448003,13.84071051,13.65065097,13.88970004,14.85028386,13.48267271,13.77357842,12.13152926,14.03594217,13.6740713,12.11146887,13.00093616,13.77034648,14.52042797,13.57867761,14.34044947,14.762612,14.23605393,12.884265,13.14103281,13.23066795,13.47467739,16.76519992,13.1195184,13.9441582,14.05114424,11.08496596,14.38179189,12.9619409,13.69505149,13.33876066,12.91791118,13.12151716,13.51110039,14.37729898,13.83606381,15.70985609,11.29933256,13.02359162,11.3461615,14.14039924,13.66336071,12.05980517,14.57113344,13.41842209,13.76354398,12.57415943,12.07124642,13.0971608,11.22285139,14.86253534,10.00275875,12.42002228,10.56940343,11.35523278,9.580709898,14.73752463,13.049532,11.73738887,11.40663683,12.38581194,12.65896313,10.52345198,13.49814029,13.889986,12.58081586,13.79881017,13.42344927,13.57784797,13.03770493,12.8366829,12.23326397,15.36123011,14.47234696,13.08864931,11.74249618,12.56341041,13.30741613,12.67590531,12.00404877,14.16168688,11.54910391,13.41692833,11.05009175,10.99476594,12.74510539,11.79738641,14.87523029,15.68117018,12.25031173,11.81599379,12.73497084,13.61287963,14.69666042,12.57342709,14.47644339,15.51530761,16.08601848,12.53527039,12.41791729,16.05233603,12.09568635,10.77647205,13.10622006,14.61268781,12.55544109,12.57049171,11.33078305,16.10999528,13.24662951,12.32922341,13.49211763,15.02192101,11.71610398,13.27588996,12.40922015,16.02170516,13.1946435,11.62254735,12.86397558,14.54997288,15.57267872,13.04846005,13.70003059,15.4705832,13.62311586,11.93476381,12.80273701,13.19433227,13.86559069,14.88649554,12.97312708,15.29181404,12.14664943,13.19510356,12.78386911,15.99665161,13.36003081,13.94025276,12.58213345,13.22424337,13.48341044,11.99762153,11.33222856,13.62998327,14.95858074,12.51950674,13.2704585,13.27284219,10.48879178,13.00052308,15.07430127,13.59396241,11.59136635,11.78667927,13.44603968,13.4852014,14.20468562,12.66225801,10.44576532,13.46175982,13.87192585,14.25717135,14.57371703,15.22562707,14.31463055,15.31970659,14.87928819,14.2150512,12.4168772,12.65737934,13.86054292,15.47970593,12.69680301,14.85263542,12.11212472,13.43008809],\"type\":\"scattergl\"}],                        {\"template\":{\"data\":{\"histogram2dcontour\":[{\"type\":\"histogram2dcontour\",\"colorbar\":{\"outlinewidth\":0,\"ticks\":\"\"},\"colorscale\":[[0.0,\"#0d0887\"],[0.1111111111111111,\"#46039f\"],[0.2222222222222222,\"#7201a8\"],[0.3333333333333333,\"#9c179e\"],[0.4444444444444444,\"#bd3786\"],[0.5555555555555556,\"#d8576b\"],[0.6666666666666666,\"#ed7953\"],[0.7777777777777778,\"#fb9f3a\"],[0.8888888888888888,\"#fdca26\"],[1.0,\"#f0f921\"]]}],\"choropleth\":[{\"type\":\"choropleth\",\"colorbar\":{\"outlinewidth\":0,\"ticks\":\"\"}}],\"histogram2d\":[{\"type\":\"histogram2d\",\"colorbar\":{\"outlinewidth\":0,\"ticks\":\"\"},\"colorscale\":[[0.0,\"#0d0887\"],[0.1111111111111111,\"#46039f\"],[0.2222222222222222,\"#7201a8\"],[0.3333333333333333,\"#9c179e\"],[0.4444444444444444,\"#bd3786\"],[0.5555555555555556,\"#d8576b\"],[0.6666666666666666,\"#ed7953\"],[0.7777777777777778,\"#fb9f3a\"],[0.8888888888888888,\"#fdca26\"],[1.0,\"#f0f921\"]]}],\"heatmap\":[{\"type\":\"heatmap\",\"colorbar\":{\"outlinewidth\":0,\"ticks\":\"\"},\"colorscale\":[[0.0,\"#0d0887\"],[0.1111111111111111,\"#46039f\"],[0.2222222222222222,\"#7201a8\"],[0.3333333333333333,\"#9c179e\"],[0.4444444444444444,\"#bd3786\"],[0.5555555555555556,\"#d8576b\"],[0.6666666666666666,\"#ed7953\"],[0.7777777777777778,\"#fb9f3a\"],[0.8888888888888888,\"#fdca26\"],[1.0,\"#f0f921\"]]}],\"heatmapgl\":[{\"type\":\"heatmapgl\",\"colorbar\":{\"outlinewidth\":0,\"ticks\":\"\"},\"colorscale\":[[0.0,\"#0d0887\"],[0.1111111111111111,\"#46039f\"],[0.2222222222222222,\"#7201a8\"],[0.3333333333333333,\"#9c179e\"],[0.4444444444444444,\"#bd3786\"],[0.5555555555555556,\"#d8576b\"],[0.6666666666666666,\"#ed7953\"],[0.7777777777777778,\"#fb9f3a\"],[0.8888888888888888,\"#fdca26\"],[1.0,\"#f0f921\"]]}],\"contourcarpet\":[{\"type\":\"contourcarpet\",\"colorbar\":{\"outlinewidth\":0,\"ticks\":\"\"}}],\"contour\":[{\"type\":\"contour\",\"colorbar\":{\"outlinewidth\":0,\"ticks\":\"\"},\"colorscale\":[[0.0,\"#0d0887\"],[0.1111111111111111,\"#46039f\"],[0.2222222222222222,\"#7201a8\"],[0.3333333333333333,\"#9c179e\"],[0.4444444444444444,\"#bd3786\"],[0.5555555555555556,\"#d8576b\"],[0.6666666666666666,\"#ed7953\"],[0.7777777777777778,\"#fb9f3a\"],[0.8888888888888888,\"#fdca26\"],[1.0,\"#f0f921\"]]}],\"surface\":[{\"type\":\"surface\",\"colorbar\":{\"outlinewidth\":0,\"ticks\":\"\"},\"colorscale\":[[0.0,\"#0d0887\"],[0.1111111111111111,\"#46039f\"],[0.2222222222222222,\"#7201a8\"],[0.3333333333333333,\"#9c179e\"],[0.4444444444444444,\"#bd3786\"],[0.5555555555555556,\"#d8576b\"],[0.6666666666666666,\"#ed7953\"],[0.7777777777777778,\"#fb9f3a\"],[0.8888888888888888,\"#fdca26\"],[1.0,\"#f0f921\"]]}],\"mesh3d\":[{\"type\":\"mesh3d\",\"colorbar\":{\"outlinewidth\":0,\"ticks\":\"\"}}],\"scatter\":[{\"fillpattern\":{\"fillmode\":\"overlay\",\"size\":10,\"solidity\":0.2},\"type\":\"scatter\"}],\"parcoords\":[{\"type\":\"parcoords\",\"line\":{\"colorbar\":{\"outlinewidth\":0,\"ticks\":\"\"}}}],\"scatterpolargl\":[{\"type\":\"scatterpolargl\",\"marker\":{\"colorbar\":{\"outlinewidth\":0,\"ticks\":\"\"}}}],\"bar\":[{\"error_x\":{\"color\":\"#2a3f5f\"},\"error_y\":{\"color\":\"#2a3f5f\"},\"marker\":{\"line\":{\"color\":\"#E5ECF6\",\"width\":0.5},\"pattern\":{\"fillmode\":\"overlay\",\"size\":10,\"solidity\":0.2}},\"type\":\"bar\"}],\"scattergeo\":[{\"type\":\"scattergeo\",\"marker\":{\"colorbar\":{\"outlinewidth\":0,\"ticks\":\"\"}}}],\"scatterpolar\":[{\"type\":\"scatterpolar\",\"marker\":{\"colorbar\":{\"outlinewidth\":0,\"ticks\":\"\"}}}],\"histogram\":[{\"marker\":{\"pattern\":{\"fillmode\":\"overlay\",\"size\":10,\"solidity\":0.2}},\"type\":\"histogram\"}],\"scattergl\":[{\"type\":\"scattergl\",\"marker\":{\"colorbar\":{\"outlinewidth\":0,\"ticks\":\"\"}}}],\"scatter3d\":[{\"type\":\"scatter3d\",\"line\":{\"colorbar\":{\"outlinewidth\":0,\"ticks\":\"\"}},\"marker\":{\"colorbar\":{\"outlinewidth\":0,\"ticks\":\"\"}}}],\"scattermapbox\":[{\"type\":\"scattermapbox\",\"marker\":{\"colorbar\":{\"outlinewidth\":0,\"ticks\":\"\"}}}],\"scatterternary\":[{\"type\":\"scatterternary\",\"marker\":{\"colorbar\":{\"outlinewidth\":0,\"ticks\":\"\"}}}],\"scattercarpet\":[{\"type\":\"scattercarpet\",\"marker\":{\"colorbar\":{\"outlinewidth\":0,\"ticks\":\"\"}}}],\"carpet\":[{\"aaxis\":{\"endlinecolor\":\"#2a3f5f\",\"gridcolor\":\"white\",\"linecolor\":\"white\",\"minorgridcolor\":\"white\",\"startlinecolor\":\"#2a3f5f\"},\"baxis\":{\"endlinecolor\":\"#2a3f5f\",\"gridcolor\":\"white\",\"linecolor\":\"white\",\"minorgridcolor\":\"white\",\"startlinecolor\":\"#2a3f5f\"},\"type\":\"carpet\"}],\"table\":[{\"cells\":{\"fill\":{\"color\":\"#EBF0F8\"},\"line\":{\"color\":\"white\"}},\"header\":{\"fill\":{\"color\":\"#C8D4E3\"},\"line\":{\"color\":\"white\"}},\"type\":\"table\"}],\"barpolar\":[{\"marker\":{\"line\":{\"color\":\"#E5ECF6\",\"width\":0.5},\"pattern\":{\"fillmode\":\"overlay\",\"size\":10,\"solidity\":0.2}},\"type\":\"barpolar\"}],\"pie\":[{\"automargin\":true,\"type\":\"pie\"}]},\"layout\":{\"autotypenumbers\":\"strict\",\"colorway\":[\"#636efa\",\"#EF553B\",\"#00cc96\",\"#ab63fa\",\"#FFA15A\",\"#19d3f3\",\"#FF6692\",\"#B6E880\",\"#FF97FF\",\"#FECB52\"],\"font\":{\"color\":\"#2a3f5f\"},\"hovermode\":\"closest\",\"hoverlabel\":{\"align\":\"left\"},\"paper_bgcolor\":\"white\",\"plot_bgcolor\":\"#E5ECF6\",\"polar\":{\"bgcolor\":\"#E5ECF6\",\"angularaxis\":{\"gridcolor\":\"white\",\"linecolor\":\"white\",\"ticks\":\"\"},\"radialaxis\":{\"gridcolor\":\"white\",\"linecolor\":\"white\",\"ticks\":\"\"}},\"ternary\":{\"bgcolor\":\"#E5ECF6\",\"aaxis\":{\"gridcolor\":\"white\",\"linecolor\":\"white\",\"ticks\":\"\"},\"baxis\":{\"gridcolor\":\"white\",\"linecolor\":\"white\",\"ticks\":\"\"},\"caxis\":{\"gridcolor\":\"white\",\"linecolor\":\"white\",\"ticks\":\"\"}},\"coloraxis\":{\"colorbar\":{\"outlinewidth\":0,\"ticks\":\"\"}},\"colorscale\":{\"sequential\":[[0.0,\"#0d0887\"],[0.1111111111111111,\"#46039f\"],[0.2222222222222222,\"#7201a8\"],[0.3333333333333333,\"#9c179e\"],[0.4444444444444444,\"#bd3786\"],[0.5555555555555556,\"#d8576b\"],[0.6666666666666666,\"#ed7953\"],[0.7777777777777778,\"#fb9f3a\"],[0.8888888888888888,\"#fdca26\"],[1.0,\"#f0f921\"]],\"sequentialminus\":[[0.0,\"#0d0887\"],[0.1111111111111111,\"#46039f\"],[0.2222222222222222,\"#7201a8\"],[0.3333333333333333,\"#9c179e\"],[0.4444444444444444,\"#bd3786\"],[0.5555555555555556,\"#d8576b\"],[0.6666666666666666,\"#ed7953\"],[0.7777777777777778,\"#fb9f3a\"],[0.8888888888888888,\"#fdca26\"],[1.0,\"#f0f921\"]],\"diverging\":[[0,\"#8e0152\"],[0.1,\"#c51b7d\"],[0.2,\"#de77ae\"],[0.3,\"#f1b6da\"],[0.4,\"#fde0ef\"],[0.5,\"#f7f7f7\"],[0.6,\"#e6f5d0\"],[0.7,\"#b8e186\"],[0.8,\"#7fbc41\"],[0.9,\"#4d9221\"],[1,\"#276419\"]]},\"xaxis\":{\"gridcolor\":\"white\",\"linecolor\":\"white\",\"ticks\":\"\",\"title\":{\"standoff\":15},\"zerolinecolor\":\"white\",\"automargin\":true,\"zerolinewidth\":2},\"yaxis\":{\"gridcolor\":\"white\",\"linecolor\":\"white\",\"ticks\":\"\",\"title\":{\"standoff\":15},\"zerolinecolor\":\"white\",\"automargin\":true,\"zerolinewidth\":2},\"scene\":{\"xaxis\":{\"backgroundcolor\":\"#E5ECF6\",\"gridcolor\":\"white\",\"linecolor\":\"white\",\"showbackground\":true,\"ticks\":\"\",\"zerolinecolor\":\"white\",\"gridwidth\":2},\"yaxis\":{\"backgroundcolor\":\"#E5ECF6\",\"gridcolor\":\"white\",\"linecolor\":\"white\",\"showbackground\":true,\"ticks\":\"\",\"zerolinecolor\":\"white\",\"gridwidth\":2},\"zaxis\":{\"backgroundcolor\":\"#E5ECF6\",\"gridcolor\":\"white\",\"linecolor\":\"white\",\"showbackground\":true,\"ticks\":\"\",\"zerolinecolor\":\"white\",\"gridwidth\":2}},\"shapedefaults\":{\"line\":{\"color\":\"#2a3f5f\"}},\"annotationdefaults\":{\"arrowcolor\":\"#2a3f5f\",\"arrowhead\":0,\"arrowwidth\":1},\"geo\":{\"bgcolor\":\"white\",\"landcolor\":\"#E5ECF6\",\"subunitcolor\":\"white\",\"showland\":true,\"showlakes\":true,\"lakecolor\":\"white\"},\"title\":{\"x\":0.05},\"mapbox\":{\"style\":\"light\"}}},\"xaxis\":{\"anchor\":\"y\",\"domain\":[0.0,1.0],\"title\":{\"text\":\"Clump thickness of the cell (in millimeters)\"}},\"yaxis\":{\"anchor\":\"x\",\"domain\":[0.0,1.0],\"title\":{\"text\":\"Number of weeks since the formation of the clump\"}},\"legend\":{\"title\":{\"text\":\"Cancer stage\"},\"tracegroupgap\":0},\"title\":{\"text\":\"Non-labelled Cancer stage of the cells (New instances added: 2000)\"},\"width\":750},                        {\"responsive\": true}                    ).then(function(){\n",
              "                            \n",
              "var gd = document.getElementById('d822a868-a611-4c2d-93a5-488b7cf4592e');\n",
              "var x = new MutationObserver(function (mutations, observer) {{\n",
              "        var display = window.getComputedStyle(gd).display;\n",
              "        if (!display || display === 'none') {{\n",
              "            console.log([gd, 'removed!']);\n",
              "            Plotly.purge(gd);\n",
              "            observer.disconnect();\n",
              "        }}\n",
              "}});\n",
              "\n",
              "// Listen for the removal of the full notebook cells\n",
              "var notebookContainer = gd.closest('#notebook-container');\n",
              "if (notebookContainer) {{\n",
              "    x.observe(notebookContainer, {childList: true});\n",
              "}}\n",
              "\n",
              "// Listen for the clearing of the current output cell\n",
              "var outputEl = gd.closest('.output');\n",
              "if (outputEl) {{\n",
              "    x.observe(outputEl, {childList: true});\n",
              "}}\n",
              "\n",
              "                        })                };                            </script>        </div>\n",
              "</body>\n",
              "</html>"
            ]
          },
          "metadata": {}
        }
      ]
    },
    {
      "cell_type": "markdown",
      "source": [
        "# Now train the semi-supervised model for the labeled 200 datapoints and make predictions for class label of new 2000 added datapoints and plot the scatters. Use KNN for base estimator."
      ],
      "metadata": {
        "id": "jW1clXk2C8gL"
      }
    },
    {
      "cell_type": "code",
      "source": [
        "labelled_df = data_df[['Clump thickness', 'No of week', 'Cancer stage']]\n",
        "labelled_df.dropna(inplace = True)\n",
        "print(f'Shape = {labelled_df.shape} \\n')\n",
        "labelled_df.head()"
      ],
      "metadata": {
        "colab": {
          "base_uri": "https://localhost:8080/",
          "height": 242
        },
        "id": "tU2kGOPm7iC2",
        "outputId": "b1896f91-24c6-41e7-d1d5-2eca44969991"
      },
      "execution_count": 12,
      "outputs": [
        {
          "output_type": "stream",
          "name": "stdout",
          "text": [
            "Shape = (200, 3) \n",
            "\n"
          ]
        },
        {
          "output_type": "execute_result",
          "data": {
            "text/plain": [
              "   Clump thickness  No of week Cancer stage\n",
              "0        10.510076    6.166544          1.0\n",
              "1        11.739776    7.024066          1.0\n",
              "2         7.857070    5.909366          1.0\n",
              "3        10.817929    5.920890          1.0\n",
              "4        10.302407    6.984937          1.0"
            ],
            "text/html": [
              "\n",
              "  <div id=\"df-1ceaa897-a34a-4202-be75-a047461979cd\" class=\"colab-df-container\">\n",
              "    <div>\n",
              "<style scoped>\n",
              "    .dataframe tbody tr th:only-of-type {\n",
              "        vertical-align: middle;\n",
              "    }\n",
              "\n",
              "    .dataframe tbody tr th {\n",
              "        vertical-align: top;\n",
              "    }\n",
              "\n",
              "    .dataframe thead th {\n",
              "        text-align: right;\n",
              "    }\n",
              "</style>\n",
              "<table border=\"1\" class=\"dataframe\">\n",
              "  <thead>\n",
              "    <tr style=\"text-align: right;\">\n",
              "      <th></th>\n",
              "      <th>Clump thickness</th>\n",
              "      <th>No of week</th>\n",
              "      <th>Cancer stage</th>\n",
              "    </tr>\n",
              "  </thead>\n",
              "  <tbody>\n",
              "    <tr>\n",
              "      <th>0</th>\n",
              "      <td>10.510076</td>\n",
              "      <td>6.166544</td>\n",
              "      <td>1.0</td>\n",
              "    </tr>\n",
              "    <tr>\n",
              "      <th>1</th>\n",
              "      <td>11.739776</td>\n",
              "      <td>7.024066</td>\n",
              "      <td>1.0</td>\n",
              "    </tr>\n",
              "    <tr>\n",
              "      <th>2</th>\n",
              "      <td>7.857070</td>\n",
              "      <td>5.909366</td>\n",
              "      <td>1.0</td>\n",
              "    </tr>\n",
              "    <tr>\n",
              "      <th>3</th>\n",
              "      <td>10.817929</td>\n",
              "      <td>5.920890</td>\n",
              "      <td>1.0</td>\n",
              "    </tr>\n",
              "    <tr>\n",
              "      <th>4</th>\n",
              "      <td>10.302407</td>\n",
              "      <td>6.984937</td>\n",
              "      <td>1.0</td>\n",
              "    </tr>\n",
              "  </tbody>\n",
              "</table>\n",
              "</div>\n",
              "    <div class=\"colab-df-buttons\">\n",
              "\n",
              "  <div class=\"colab-df-container\">\n",
              "    <button class=\"colab-df-convert\" onclick=\"convertToInteractive('df-1ceaa897-a34a-4202-be75-a047461979cd')\"\n",
              "            title=\"Convert this dataframe to an interactive table.\"\n",
              "            style=\"display:none;\">\n",
              "\n",
              "  <svg xmlns=\"http://www.w3.org/2000/svg\" height=\"24px\" viewBox=\"0 -960 960 960\">\n",
              "    <path d=\"M120-120v-720h720v720H120Zm60-500h600v-160H180v160Zm220 220h160v-160H400v160Zm0 220h160v-160H400v160ZM180-400h160v-160H180v160Zm440 0h160v-160H620v160ZM180-180h160v-160H180v160Zm440 0h160v-160H620v160Z\"/>\n",
              "  </svg>\n",
              "    </button>\n",
              "\n",
              "  <style>\n",
              "    .colab-df-container {\n",
              "      display:flex;\n",
              "      gap: 12px;\n",
              "    }\n",
              "\n",
              "    .colab-df-convert {\n",
              "      background-color: #E8F0FE;\n",
              "      border: none;\n",
              "      border-radius: 50%;\n",
              "      cursor: pointer;\n",
              "      display: none;\n",
              "      fill: #1967D2;\n",
              "      height: 32px;\n",
              "      padding: 0 0 0 0;\n",
              "      width: 32px;\n",
              "    }\n",
              "\n",
              "    .colab-df-convert:hover {\n",
              "      background-color: #E2EBFA;\n",
              "      box-shadow: 0px 1px 2px rgba(60, 64, 67, 0.3), 0px 1px 3px 1px rgba(60, 64, 67, 0.15);\n",
              "      fill: #174EA6;\n",
              "    }\n",
              "\n",
              "    .colab-df-buttons div {\n",
              "      margin-bottom: 4px;\n",
              "    }\n",
              "\n",
              "    [theme=dark] .colab-df-convert {\n",
              "      background-color: #3B4455;\n",
              "      fill: #D2E3FC;\n",
              "    }\n",
              "\n",
              "    [theme=dark] .colab-df-convert:hover {\n",
              "      background-color: #434B5C;\n",
              "      box-shadow: 0px 1px 3px 1px rgba(0, 0, 0, 0.15);\n",
              "      filter: drop-shadow(0px 1px 2px rgba(0, 0, 0, 0.3));\n",
              "      fill: #FFFFFF;\n",
              "    }\n",
              "  </style>\n",
              "\n",
              "    <script>\n",
              "      const buttonEl =\n",
              "        document.querySelector('#df-1ceaa897-a34a-4202-be75-a047461979cd button.colab-df-convert');\n",
              "      buttonEl.style.display =\n",
              "        google.colab.kernel.accessAllowed ? 'block' : 'none';\n",
              "\n",
              "      async function convertToInteractive(key) {\n",
              "        const element = document.querySelector('#df-1ceaa897-a34a-4202-be75-a047461979cd');\n",
              "        const dataTable =\n",
              "          await google.colab.kernel.invokeFunction('convertToInteractive',\n",
              "                                                    [key], {});\n",
              "        if (!dataTable) return;\n",
              "\n",
              "        const docLinkHtml = 'Like what you see? Visit the ' +\n",
              "          '<a target=\"_blank\" href=https://colab.research.google.com/notebooks/data_table.ipynb>data table notebook</a>'\n",
              "          + ' to learn more about interactive tables.';\n",
              "        element.innerHTML = '';\n",
              "        dataTable['output_type'] = 'display_data';\n",
              "        await google.colab.output.renderOutput(dataTable, element);\n",
              "        const docLink = document.createElement('div');\n",
              "        docLink.innerHTML = docLinkHtml;\n",
              "        element.appendChild(docLink);\n",
              "      }\n",
              "    </script>\n",
              "  </div>\n",
              "\n",
              "\n",
              "<div id=\"df-d81ff5a6-9b9c-4856-82aa-06333b376054\">\n",
              "  <button class=\"colab-df-quickchart\" onclick=\"quickchart('df-d81ff5a6-9b9c-4856-82aa-06333b376054')\"\n",
              "            title=\"Suggest charts\"\n",
              "            style=\"display:none;\">\n",
              "\n",
              "<svg xmlns=\"http://www.w3.org/2000/svg\" height=\"24px\"viewBox=\"0 0 24 24\"\n",
              "     width=\"24px\">\n",
              "    <g>\n",
              "        <path d=\"M19 3H5c-1.1 0-2 .9-2 2v14c0 1.1.9 2 2 2h14c1.1 0 2-.9 2-2V5c0-1.1-.9-2-2-2zM9 17H7v-7h2v7zm4 0h-2V7h2v10zm4 0h-2v-4h2v4z\"/>\n",
              "    </g>\n",
              "</svg>\n",
              "  </button>\n",
              "\n",
              "<style>\n",
              "  .colab-df-quickchart {\n",
              "      --bg-color: #E8F0FE;\n",
              "      --fill-color: #1967D2;\n",
              "      --hover-bg-color: #E2EBFA;\n",
              "      --hover-fill-color: #174EA6;\n",
              "      --disabled-fill-color: #AAA;\n",
              "      --disabled-bg-color: #DDD;\n",
              "  }\n",
              "\n",
              "  [theme=dark] .colab-df-quickchart {\n",
              "      --bg-color: #3B4455;\n",
              "      --fill-color: #D2E3FC;\n",
              "      --hover-bg-color: #434B5C;\n",
              "      --hover-fill-color: #FFFFFF;\n",
              "      --disabled-bg-color: #3B4455;\n",
              "      --disabled-fill-color: #666;\n",
              "  }\n",
              "\n",
              "  .colab-df-quickchart {\n",
              "    background-color: var(--bg-color);\n",
              "    border: none;\n",
              "    border-radius: 50%;\n",
              "    cursor: pointer;\n",
              "    display: none;\n",
              "    fill: var(--fill-color);\n",
              "    height: 32px;\n",
              "    padding: 0;\n",
              "    width: 32px;\n",
              "  }\n",
              "\n",
              "  .colab-df-quickchart:hover {\n",
              "    background-color: var(--hover-bg-color);\n",
              "    box-shadow: 0 1px 2px rgba(60, 64, 67, 0.3), 0 1px 3px 1px rgba(60, 64, 67, 0.15);\n",
              "    fill: var(--button-hover-fill-color);\n",
              "  }\n",
              "\n",
              "  .colab-df-quickchart-complete:disabled,\n",
              "  .colab-df-quickchart-complete:disabled:hover {\n",
              "    background-color: var(--disabled-bg-color);\n",
              "    fill: var(--disabled-fill-color);\n",
              "    box-shadow: none;\n",
              "  }\n",
              "\n",
              "  .colab-df-spinner {\n",
              "    border: 2px solid var(--fill-color);\n",
              "    border-color: transparent;\n",
              "    border-bottom-color: var(--fill-color);\n",
              "    animation:\n",
              "      spin 1s steps(1) infinite;\n",
              "  }\n",
              "\n",
              "  @keyframes spin {\n",
              "    0% {\n",
              "      border-color: transparent;\n",
              "      border-bottom-color: var(--fill-color);\n",
              "      border-left-color: var(--fill-color);\n",
              "    }\n",
              "    20% {\n",
              "      border-color: transparent;\n",
              "      border-left-color: var(--fill-color);\n",
              "      border-top-color: var(--fill-color);\n",
              "    }\n",
              "    30% {\n",
              "      border-color: transparent;\n",
              "      border-left-color: var(--fill-color);\n",
              "      border-top-color: var(--fill-color);\n",
              "      border-right-color: var(--fill-color);\n",
              "    }\n",
              "    40% {\n",
              "      border-color: transparent;\n",
              "      border-right-color: var(--fill-color);\n",
              "      border-top-color: var(--fill-color);\n",
              "    }\n",
              "    60% {\n",
              "      border-color: transparent;\n",
              "      border-right-color: var(--fill-color);\n",
              "    }\n",
              "    80% {\n",
              "      border-color: transparent;\n",
              "      border-right-color: var(--fill-color);\n",
              "      border-bottom-color: var(--fill-color);\n",
              "    }\n",
              "    90% {\n",
              "      border-color: transparent;\n",
              "      border-bottom-color: var(--fill-color);\n",
              "    }\n",
              "  }\n",
              "</style>\n",
              "\n",
              "  <script>\n",
              "    async function quickchart(key) {\n",
              "      const quickchartButtonEl =\n",
              "        document.querySelector('#' + key + ' button');\n",
              "      quickchartButtonEl.disabled = true;  // To prevent multiple clicks.\n",
              "      quickchartButtonEl.classList.add('colab-df-spinner');\n",
              "      try {\n",
              "        const charts = await google.colab.kernel.invokeFunction(\n",
              "            'suggestCharts', [key], {});\n",
              "      } catch (error) {\n",
              "        console.error('Error during call to suggestCharts:', error);\n",
              "      }\n",
              "      quickchartButtonEl.classList.remove('colab-df-spinner');\n",
              "      quickchartButtonEl.classList.add('colab-df-quickchart-complete');\n",
              "    }\n",
              "    (() => {\n",
              "      let quickchartButtonEl =\n",
              "        document.querySelector('#df-d81ff5a6-9b9c-4856-82aa-06333b376054 button');\n",
              "      quickchartButtonEl.style.display =\n",
              "        google.colab.kernel.accessAllowed ? 'block' : 'none';\n",
              "    })();\n",
              "  </script>\n",
              "</div>\n",
              "    </div>\n",
              "  </div>\n"
            ]
          },
          "metadata": {},
          "execution_count": 12
        }
      ]
    },
    {
      "cell_type": "code",
      "source": [
        "unlabelled_df = data_df[['Clump thickness_new', 'No of week_new']]\n",
        "unlabelled_df.rename(lambda col: col.split('_')[0], axis='columns', inplace = True)\n",
        "print(f'Shape = {unlabelled_df.shape} \\n')\n",
        "unlabelled_df.head()"
      ],
      "metadata": {
        "colab": {
          "base_uri": "https://localhost:8080/",
          "height": 242
        },
        "id": "mWAYPr6aDmaQ",
        "outputId": "df604997-6c39-4655-b22b-bd49a6ae60b2"
      },
      "execution_count": 13,
      "outputs": [
        {
          "output_type": "stream",
          "name": "stdout",
          "text": [
            "Shape = (2000, 2) \n",
            "\n"
          ]
        },
        {
          "output_type": "execute_result",
          "data": {
            "text/plain": [
              "   Clump thickness  No of week\n",
              "0        10.269649   11.999203\n",
              "1        10.494287    6.495638\n",
              "2         8.516879    7.102108\n",
              "3         8.979736    9.196251\n",
              "4         9.553005    7.120283"
            ],
            "text/html": [
              "\n",
              "  <div id=\"df-7bce5d05-572c-40d5-bb97-15881f4eaa57\" class=\"colab-df-container\">\n",
              "    <div>\n",
              "<style scoped>\n",
              "    .dataframe tbody tr th:only-of-type {\n",
              "        vertical-align: middle;\n",
              "    }\n",
              "\n",
              "    .dataframe tbody tr th {\n",
              "        vertical-align: top;\n",
              "    }\n",
              "\n",
              "    .dataframe thead th {\n",
              "        text-align: right;\n",
              "    }\n",
              "</style>\n",
              "<table border=\"1\" class=\"dataframe\">\n",
              "  <thead>\n",
              "    <tr style=\"text-align: right;\">\n",
              "      <th></th>\n",
              "      <th>Clump thickness</th>\n",
              "      <th>No of week</th>\n",
              "    </tr>\n",
              "  </thead>\n",
              "  <tbody>\n",
              "    <tr>\n",
              "      <th>0</th>\n",
              "      <td>10.269649</td>\n",
              "      <td>11.999203</td>\n",
              "    </tr>\n",
              "    <tr>\n",
              "      <th>1</th>\n",
              "      <td>10.494287</td>\n",
              "      <td>6.495638</td>\n",
              "    </tr>\n",
              "    <tr>\n",
              "      <th>2</th>\n",
              "      <td>8.516879</td>\n",
              "      <td>7.102108</td>\n",
              "    </tr>\n",
              "    <tr>\n",
              "      <th>3</th>\n",
              "      <td>8.979736</td>\n",
              "      <td>9.196251</td>\n",
              "    </tr>\n",
              "    <tr>\n",
              "      <th>4</th>\n",
              "      <td>9.553005</td>\n",
              "      <td>7.120283</td>\n",
              "    </tr>\n",
              "  </tbody>\n",
              "</table>\n",
              "</div>\n",
              "    <div class=\"colab-df-buttons\">\n",
              "\n",
              "  <div class=\"colab-df-container\">\n",
              "    <button class=\"colab-df-convert\" onclick=\"convertToInteractive('df-7bce5d05-572c-40d5-bb97-15881f4eaa57')\"\n",
              "            title=\"Convert this dataframe to an interactive table.\"\n",
              "            style=\"display:none;\">\n",
              "\n",
              "  <svg xmlns=\"http://www.w3.org/2000/svg\" height=\"24px\" viewBox=\"0 -960 960 960\">\n",
              "    <path d=\"M120-120v-720h720v720H120Zm60-500h600v-160H180v160Zm220 220h160v-160H400v160Zm0 220h160v-160H400v160ZM180-400h160v-160H180v160Zm440 0h160v-160H620v160ZM180-180h160v-160H180v160Zm440 0h160v-160H620v160Z\"/>\n",
              "  </svg>\n",
              "    </button>\n",
              "\n",
              "  <style>\n",
              "    .colab-df-container {\n",
              "      display:flex;\n",
              "      gap: 12px;\n",
              "    }\n",
              "\n",
              "    .colab-df-convert {\n",
              "      background-color: #E8F0FE;\n",
              "      border: none;\n",
              "      border-radius: 50%;\n",
              "      cursor: pointer;\n",
              "      display: none;\n",
              "      fill: #1967D2;\n",
              "      height: 32px;\n",
              "      padding: 0 0 0 0;\n",
              "      width: 32px;\n",
              "    }\n",
              "\n",
              "    .colab-df-convert:hover {\n",
              "      background-color: #E2EBFA;\n",
              "      box-shadow: 0px 1px 2px rgba(60, 64, 67, 0.3), 0px 1px 3px 1px rgba(60, 64, 67, 0.15);\n",
              "      fill: #174EA6;\n",
              "    }\n",
              "\n",
              "    .colab-df-buttons div {\n",
              "      margin-bottom: 4px;\n",
              "    }\n",
              "\n",
              "    [theme=dark] .colab-df-convert {\n",
              "      background-color: #3B4455;\n",
              "      fill: #D2E3FC;\n",
              "    }\n",
              "\n",
              "    [theme=dark] .colab-df-convert:hover {\n",
              "      background-color: #434B5C;\n",
              "      box-shadow: 0px 1px 3px 1px rgba(0, 0, 0, 0.15);\n",
              "      filter: drop-shadow(0px 1px 2px rgba(0, 0, 0, 0.3));\n",
              "      fill: #FFFFFF;\n",
              "    }\n",
              "  </style>\n",
              "\n",
              "    <script>\n",
              "      const buttonEl =\n",
              "        document.querySelector('#df-7bce5d05-572c-40d5-bb97-15881f4eaa57 button.colab-df-convert');\n",
              "      buttonEl.style.display =\n",
              "        google.colab.kernel.accessAllowed ? 'block' : 'none';\n",
              "\n",
              "      async function convertToInteractive(key) {\n",
              "        const element = document.querySelector('#df-7bce5d05-572c-40d5-bb97-15881f4eaa57');\n",
              "        const dataTable =\n",
              "          await google.colab.kernel.invokeFunction('convertToInteractive',\n",
              "                                                    [key], {});\n",
              "        if (!dataTable) return;\n",
              "\n",
              "        const docLinkHtml = 'Like what you see? Visit the ' +\n",
              "          '<a target=\"_blank\" href=https://colab.research.google.com/notebooks/data_table.ipynb>data table notebook</a>'\n",
              "          + ' to learn more about interactive tables.';\n",
              "        element.innerHTML = '';\n",
              "        dataTable['output_type'] = 'display_data';\n",
              "        await google.colab.output.renderOutput(dataTable, element);\n",
              "        const docLink = document.createElement('div');\n",
              "        docLink.innerHTML = docLinkHtml;\n",
              "        element.appendChild(docLink);\n",
              "      }\n",
              "    </script>\n",
              "  </div>\n",
              "\n",
              "\n",
              "<div id=\"df-8014de20-64d8-4620-b341-f646e7c2ec5f\">\n",
              "  <button class=\"colab-df-quickchart\" onclick=\"quickchart('df-8014de20-64d8-4620-b341-f646e7c2ec5f')\"\n",
              "            title=\"Suggest charts\"\n",
              "            style=\"display:none;\">\n",
              "\n",
              "<svg xmlns=\"http://www.w3.org/2000/svg\" height=\"24px\"viewBox=\"0 0 24 24\"\n",
              "     width=\"24px\">\n",
              "    <g>\n",
              "        <path d=\"M19 3H5c-1.1 0-2 .9-2 2v14c0 1.1.9 2 2 2h14c1.1 0 2-.9 2-2V5c0-1.1-.9-2-2-2zM9 17H7v-7h2v7zm4 0h-2V7h2v10zm4 0h-2v-4h2v4z\"/>\n",
              "    </g>\n",
              "</svg>\n",
              "  </button>\n",
              "\n",
              "<style>\n",
              "  .colab-df-quickchart {\n",
              "      --bg-color: #E8F0FE;\n",
              "      --fill-color: #1967D2;\n",
              "      --hover-bg-color: #E2EBFA;\n",
              "      --hover-fill-color: #174EA6;\n",
              "      --disabled-fill-color: #AAA;\n",
              "      --disabled-bg-color: #DDD;\n",
              "  }\n",
              "\n",
              "  [theme=dark] .colab-df-quickchart {\n",
              "      --bg-color: #3B4455;\n",
              "      --fill-color: #D2E3FC;\n",
              "      --hover-bg-color: #434B5C;\n",
              "      --hover-fill-color: #FFFFFF;\n",
              "      --disabled-bg-color: #3B4455;\n",
              "      --disabled-fill-color: #666;\n",
              "  }\n",
              "\n",
              "  .colab-df-quickchart {\n",
              "    background-color: var(--bg-color);\n",
              "    border: none;\n",
              "    border-radius: 50%;\n",
              "    cursor: pointer;\n",
              "    display: none;\n",
              "    fill: var(--fill-color);\n",
              "    height: 32px;\n",
              "    padding: 0;\n",
              "    width: 32px;\n",
              "  }\n",
              "\n",
              "  .colab-df-quickchart:hover {\n",
              "    background-color: var(--hover-bg-color);\n",
              "    box-shadow: 0 1px 2px rgba(60, 64, 67, 0.3), 0 1px 3px 1px rgba(60, 64, 67, 0.15);\n",
              "    fill: var(--button-hover-fill-color);\n",
              "  }\n",
              "\n",
              "  .colab-df-quickchart-complete:disabled,\n",
              "  .colab-df-quickchart-complete:disabled:hover {\n",
              "    background-color: var(--disabled-bg-color);\n",
              "    fill: var(--disabled-fill-color);\n",
              "    box-shadow: none;\n",
              "  }\n",
              "\n",
              "  .colab-df-spinner {\n",
              "    border: 2px solid var(--fill-color);\n",
              "    border-color: transparent;\n",
              "    border-bottom-color: var(--fill-color);\n",
              "    animation:\n",
              "      spin 1s steps(1) infinite;\n",
              "  }\n",
              "\n",
              "  @keyframes spin {\n",
              "    0% {\n",
              "      border-color: transparent;\n",
              "      border-bottom-color: var(--fill-color);\n",
              "      border-left-color: var(--fill-color);\n",
              "    }\n",
              "    20% {\n",
              "      border-color: transparent;\n",
              "      border-left-color: var(--fill-color);\n",
              "      border-top-color: var(--fill-color);\n",
              "    }\n",
              "    30% {\n",
              "      border-color: transparent;\n",
              "      border-left-color: var(--fill-color);\n",
              "      border-top-color: var(--fill-color);\n",
              "      border-right-color: var(--fill-color);\n",
              "    }\n",
              "    40% {\n",
              "      border-color: transparent;\n",
              "      border-right-color: var(--fill-color);\n",
              "      border-top-color: var(--fill-color);\n",
              "    }\n",
              "    60% {\n",
              "      border-color: transparent;\n",
              "      border-right-color: var(--fill-color);\n",
              "    }\n",
              "    80% {\n",
              "      border-color: transparent;\n",
              "      border-right-color: var(--fill-color);\n",
              "      border-bottom-color: var(--fill-color);\n",
              "    }\n",
              "    90% {\n",
              "      border-color: transparent;\n",
              "      border-bottom-color: var(--fill-color);\n",
              "    }\n",
              "  }\n",
              "</style>\n",
              "\n",
              "  <script>\n",
              "    async function quickchart(key) {\n",
              "      const quickchartButtonEl =\n",
              "        document.querySelector('#' + key + ' button');\n",
              "      quickchartButtonEl.disabled = true;  // To prevent multiple clicks.\n",
              "      quickchartButtonEl.classList.add('colab-df-spinner');\n",
              "      try {\n",
              "        const charts = await google.colab.kernel.invokeFunction(\n",
              "            'suggestCharts', [key], {});\n",
              "      } catch (error) {\n",
              "        console.error('Error during call to suggestCharts:', error);\n",
              "      }\n",
              "      quickchartButtonEl.classList.remove('colab-df-spinner');\n",
              "      quickchartButtonEl.classList.add('colab-df-quickchart-complete');\n",
              "    }\n",
              "    (() => {\n",
              "      let quickchartButtonEl =\n",
              "        document.querySelector('#df-8014de20-64d8-4620-b341-f646e7c2ec5f button');\n",
              "      quickchartButtonEl.style.display =\n",
              "        google.colab.kernel.accessAllowed ? 'block' : 'none';\n",
              "    })();\n",
              "  </script>\n",
              "</div>\n",
              "    </div>\n",
              "  </div>\n"
            ]
          },
          "metadata": {},
          "execution_count": 13
        }
      ]
    },
    {
      "cell_type": "code",
      "source": [
        "labelled_df_X = labelled_df.drop('Cancer stage', axis = 1)\n",
        "print(f'Shape = {labelled_df_X.shape} \\n')\n",
        "labelled_df_X.head()"
      ],
      "metadata": {
        "colab": {
          "base_uri": "https://localhost:8080/",
          "height": 242
        },
        "id": "RI3OBQmoEeBD",
        "outputId": "c2c79c36-1f8f-469d-95bb-10863427277b"
      },
      "execution_count": 14,
      "outputs": [
        {
          "output_type": "stream",
          "name": "stdout",
          "text": [
            "Shape = (200, 2) \n",
            "\n"
          ]
        },
        {
          "output_type": "execute_result",
          "data": {
            "text/plain": [
              "   Clump thickness  No of week\n",
              "0        10.510076    6.166544\n",
              "1        11.739776    7.024066\n",
              "2         7.857070    5.909366\n",
              "3        10.817929    5.920890\n",
              "4        10.302407    6.984937"
            ],
            "text/html": [
              "\n",
              "  <div id=\"df-c1497f1e-8c8c-42dd-ab73-bdd645d3d73d\" class=\"colab-df-container\">\n",
              "    <div>\n",
              "<style scoped>\n",
              "    .dataframe tbody tr th:only-of-type {\n",
              "        vertical-align: middle;\n",
              "    }\n",
              "\n",
              "    .dataframe tbody tr th {\n",
              "        vertical-align: top;\n",
              "    }\n",
              "\n",
              "    .dataframe thead th {\n",
              "        text-align: right;\n",
              "    }\n",
              "</style>\n",
              "<table border=\"1\" class=\"dataframe\">\n",
              "  <thead>\n",
              "    <tr style=\"text-align: right;\">\n",
              "      <th></th>\n",
              "      <th>Clump thickness</th>\n",
              "      <th>No of week</th>\n",
              "    </tr>\n",
              "  </thead>\n",
              "  <tbody>\n",
              "    <tr>\n",
              "      <th>0</th>\n",
              "      <td>10.510076</td>\n",
              "      <td>6.166544</td>\n",
              "    </tr>\n",
              "    <tr>\n",
              "      <th>1</th>\n",
              "      <td>11.739776</td>\n",
              "      <td>7.024066</td>\n",
              "    </tr>\n",
              "    <tr>\n",
              "      <th>2</th>\n",
              "      <td>7.857070</td>\n",
              "      <td>5.909366</td>\n",
              "    </tr>\n",
              "    <tr>\n",
              "      <th>3</th>\n",
              "      <td>10.817929</td>\n",
              "      <td>5.920890</td>\n",
              "    </tr>\n",
              "    <tr>\n",
              "      <th>4</th>\n",
              "      <td>10.302407</td>\n",
              "      <td>6.984937</td>\n",
              "    </tr>\n",
              "  </tbody>\n",
              "</table>\n",
              "</div>\n",
              "    <div class=\"colab-df-buttons\">\n",
              "\n",
              "  <div class=\"colab-df-container\">\n",
              "    <button class=\"colab-df-convert\" onclick=\"convertToInteractive('df-c1497f1e-8c8c-42dd-ab73-bdd645d3d73d')\"\n",
              "            title=\"Convert this dataframe to an interactive table.\"\n",
              "            style=\"display:none;\">\n",
              "\n",
              "  <svg xmlns=\"http://www.w3.org/2000/svg\" height=\"24px\" viewBox=\"0 -960 960 960\">\n",
              "    <path d=\"M120-120v-720h720v720H120Zm60-500h600v-160H180v160Zm220 220h160v-160H400v160Zm0 220h160v-160H400v160ZM180-400h160v-160H180v160Zm440 0h160v-160H620v160ZM180-180h160v-160H180v160Zm440 0h160v-160H620v160Z\"/>\n",
              "  </svg>\n",
              "    </button>\n",
              "\n",
              "  <style>\n",
              "    .colab-df-container {\n",
              "      display:flex;\n",
              "      gap: 12px;\n",
              "    }\n",
              "\n",
              "    .colab-df-convert {\n",
              "      background-color: #E8F0FE;\n",
              "      border: none;\n",
              "      border-radius: 50%;\n",
              "      cursor: pointer;\n",
              "      display: none;\n",
              "      fill: #1967D2;\n",
              "      height: 32px;\n",
              "      padding: 0 0 0 0;\n",
              "      width: 32px;\n",
              "    }\n",
              "\n",
              "    .colab-df-convert:hover {\n",
              "      background-color: #E2EBFA;\n",
              "      box-shadow: 0px 1px 2px rgba(60, 64, 67, 0.3), 0px 1px 3px 1px rgba(60, 64, 67, 0.15);\n",
              "      fill: #174EA6;\n",
              "    }\n",
              "\n",
              "    .colab-df-buttons div {\n",
              "      margin-bottom: 4px;\n",
              "    }\n",
              "\n",
              "    [theme=dark] .colab-df-convert {\n",
              "      background-color: #3B4455;\n",
              "      fill: #D2E3FC;\n",
              "    }\n",
              "\n",
              "    [theme=dark] .colab-df-convert:hover {\n",
              "      background-color: #434B5C;\n",
              "      box-shadow: 0px 1px 3px 1px rgba(0, 0, 0, 0.15);\n",
              "      filter: drop-shadow(0px 1px 2px rgba(0, 0, 0, 0.3));\n",
              "      fill: #FFFFFF;\n",
              "    }\n",
              "  </style>\n",
              "\n",
              "    <script>\n",
              "      const buttonEl =\n",
              "        document.querySelector('#df-c1497f1e-8c8c-42dd-ab73-bdd645d3d73d button.colab-df-convert');\n",
              "      buttonEl.style.display =\n",
              "        google.colab.kernel.accessAllowed ? 'block' : 'none';\n",
              "\n",
              "      async function convertToInteractive(key) {\n",
              "        const element = document.querySelector('#df-c1497f1e-8c8c-42dd-ab73-bdd645d3d73d');\n",
              "        const dataTable =\n",
              "          await google.colab.kernel.invokeFunction('convertToInteractive',\n",
              "                                                    [key], {});\n",
              "        if (!dataTable) return;\n",
              "\n",
              "        const docLinkHtml = 'Like what you see? Visit the ' +\n",
              "          '<a target=\"_blank\" href=https://colab.research.google.com/notebooks/data_table.ipynb>data table notebook</a>'\n",
              "          + ' to learn more about interactive tables.';\n",
              "        element.innerHTML = '';\n",
              "        dataTable['output_type'] = 'display_data';\n",
              "        await google.colab.output.renderOutput(dataTable, element);\n",
              "        const docLink = document.createElement('div');\n",
              "        docLink.innerHTML = docLinkHtml;\n",
              "        element.appendChild(docLink);\n",
              "      }\n",
              "    </script>\n",
              "  </div>\n",
              "\n",
              "\n",
              "<div id=\"df-15acf8eb-00c2-4828-ae93-7cdd3a659066\">\n",
              "  <button class=\"colab-df-quickchart\" onclick=\"quickchart('df-15acf8eb-00c2-4828-ae93-7cdd3a659066')\"\n",
              "            title=\"Suggest charts\"\n",
              "            style=\"display:none;\">\n",
              "\n",
              "<svg xmlns=\"http://www.w3.org/2000/svg\" height=\"24px\"viewBox=\"0 0 24 24\"\n",
              "     width=\"24px\">\n",
              "    <g>\n",
              "        <path d=\"M19 3H5c-1.1 0-2 .9-2 2v14c0 1.1.9 2 2 2h14c1.1 0 2-.9 2-2V5c0-1.1-.9-2-2-2zM9 17H7v-7h2v7zm4 0h-2V7h2v10zm4 0h-2v-4h2v4z\"/>\n",
              "    </g>\n",
              "</svg>\n",
              "  </button>\n",
              "\n",
              "<style>\n",
              "  .colab-df-quickchart {\n",
              "      --bg-color: #E8F0FE;\n",
              "      --fill-color: #1967D2;\n",
              "      --hover-bg-color: #E2EBFA;\n",
              "      --hover-fill-color: #174EA6;\n",
              "      --disabled-fill-color: #AAA;\n",
              "      --disabled-bg-color: #DDD;\n",
              "  }\n",
              "\n",
              "  [theme=dark] .colab-df-quickchart {\n",
              "      --bg-color: #3B4455;\n",
              "      --fill-color: #D2E3FC;\n",
              "      --hover-bg-color: #434B5C;\n",
              "      --hover-fill-color: #FFFFFF;\n",
              "      --disabled-bg-color: #3B4455;\n",
              "      --disabled-fill-color: #666;\n",
              "  }\n",
              "\n",
              "  .colab-df-quickchart {\n",
              "    background-color: var(--bg-color);\n",
              "    border: none;\n",
              "    border-radius: 50%;\n",
              "    cursor: pointer;\n",
              "    display: none;\n",
              "    fill: var(--fill-color);\n",
              "    height: 32px;\n",
              "    padding: 0;\n",
              "    width: 32px;\n",
              "  }\n",
              "\n",
              "  .colab-df-quickchart:hover {\n",
              "    background-color: var(--hover-bg-color);\n",
              "    box-shadow: 0 1px 2px rgba(60, 64, 67, 0.3), 0 1px 3px 1px rgba(60, 64, 67, 0.15);\n",
              "    fill: var(--button-hover-fill-color);\n",
              "  }\n",
              "\n",
              "  .colab-df-quickchart-complete:disabled,\n",
              "  .colab-df-quickchart-complete:disabled:hover {\n",
              "    background-color: var(--disabled-bg-color);\n",
              "    fill: var(--disabled-fill-color);\n",
              "    box-shadow: none;\n",
              "  }\n",
              "\n",
              "  .colab-df-spinner {\n",
              "    border: 2px solid var(--fill-color);\n",
              "    border-color: transparent;\n",
              "    border-bottom-color: var(--fill-color);\n",
              "    animation:\n",
              "      spin 1s steps(1) infinite;\n",
              "  }\n",
              "\n",
              "  @keyframes spin {\n",
              "    0% {\n",
              "      border-color: transparent;\n",
              "      border-bottom-color: var(--fill-color);\n",
              "      border-left-color: var(--fill-color);\n",
              "    }\n",
              "    20% {\n",
              "      border-color: transparent;\n",
              "      border-left-color: var(--fill-color);\n",
              "      border-top-color: var(--fill-color);\n",
              "    }\n",
              "    30% {\n",
              "      border-color: transparent;\n",
              "      border-left-color: var(--fill-color);\n",
              "      border-top-color: var(--fill-color);\n",
              "      border-right-color: var(--fill-color);\n",
              "    }\n",
              "    40% {\n",
              "      border-color: transparent;\n",
              "      border-right-color: var(--fill-color);\n",
              "      border-top-color: var(--fill-color);\n",
              "    }\n",
              "    60% {\n",
              "      border-color: transparent;\n",
              "      border-right-color: var(--fill-color);\n",
              "    }\n",
              "    80% {\n",
              "      border-color: transparent;\n",
              "      border-right-color: var(--fill-color);\n",
              "      border-bottom-color: var(--fill-color);\n",
              "    }\n",
              "    90% {\n",
              "      border-color: transparent;\n",
              "      border-bottom-color: var(--fill-color);\n",
              "    }\n",
              "  }\n",
              "</style>\n",
              "\n",
              "  <script>\n",
              "    async function quickchart(key) {\n",
              "      const quickchartButtonEl =\n",
              "        document.querySelector('#' + key + ' button');\n",
              "      quickchartButtonEl.disabled = true;  // To prevent multiple clicks.\n",
              "      quickchartButtonEl.classList.add('colab-df-spinner');\n",
              "      try {\n",
              "        const charts = await google.colab.kernel.invokeFunction(\n",
              "            'suggestCharts', [key], {});\n",
              "      } catch (error) {\n",
              "        console.error('Error during call to suggestCharts:', error);\n",
              "      }\n",
              "      quickchartButtonEl.classList.remove('colab-df-spinner');\n",
              "      quickchartButtonEl.classList.add('colab-df-quickchart-complete');\n",
              "    }\n",
              "    (() => {\n",
              "      let quickchartButtonEl =\n",
              "        document.querySelector('#df-15acf8eb-00c2-4828-ae93-7cdd3a659066 button');\n",
              "      quickchartButtonEl.style.display =\n",
              "        google.colab.kernel.accessAllowed ? 'block' : 'none';\n",
              "    })();\n",
              "  </script>\n",
              "</div>\n",
              "    </div>\n",
              "  </div>\n"
            ]
          },
          "metadata": {},
          "execution_count": 14
        }
      ]
    },
    {
      "cell_type": "code",
      "source": [
        "labelled_df_y = labelled_df['Cancer stage']\n",
        "print(f'Shape = {labelled_df_y.shape} \\n')\n",
        "labelled_df_y.head()"
      ],
      "metadata": {
        "colab": {
          "base_uri": "https://localhost:8080/",
          "height": 0
        },
        "id": "EpQFqIilEy24",
        "outputId": "42a3df3d-2cac-4c25-a3a5-2cfe4c10b40e"
      },
      "execution_count": 15,
      "outputs": [
        {
          "output_type": "stream",
          "name": "stdout",
          "text": [
            "Shape = (200,) \n",
            "\n"
          ]
        },
        {
          "output_type": "execute_result",
          "data": {
            "text/plain": [
              "0    1.0\n",
              "1    1.0\n",
              "2    1.0\n",
              "3    1.0\n",
              "4    1.0\n",
              "Name: Cancer stage, dtype: category\n",
              "Categories (4, float64): [1.0, 2.0, 3.0, 4.0]"
            ]
          },
          "metadata": {},
          "execution_count": 15
        }
      ]
    },
    {
      "cell_type": "code",
      "source": [
        "knn_clf = KNeighborsClassifier(n_neighbors = 5)"
      ],
      "metadata": {
        "id": "Zdtx__R6Dvmy"
      },
      "execution_count": 16,
      "outputs": []
    },
    {
      "cell_type": "code",
      "source": [
        "self_training_model = SelfTrainingClassifier(knn_clf)"
      ],
      "metadata": {
        "id": "Z8a4PdRgEVbc"
      },
      "execution_count": 17,
      "outputs": []
    },
    {
      "cell_type": "code",
      "source": [
        "self_training_model.fit(labelled_df_X, labelled_df_y)"
      ],
      "metadata": {
        "colab": {
          "base_uri": "https://localhost:8080/",
          "height": 117
        },
        "id": "iA93srC8EbO5",
        "outputId": "e617425f-23ef-40eb-ce64-fe97f66efa3b"
      },
      "execution_count": 18,
      "outputs": [
        {
          "output_type": "execute_result",
          "data": {
            "text/plain": [
              "SelfTrainingClassifier(base_estimator=KNeighborsClassifier())"
            ],
            "text/html": [
              "<style>#sk-container-id-1 {color: black;background-color: white;}#sk-container-id-1 pre{padding: 0;}#sk-container-id-1 div.sk-toggleable {background-color: white;}#sk-container-id-1 label.sk-toggleable__label {cursor: pointer;display: block;width: 100%;margin-bottom: 0;padding: 0.3em;box-sizing: border-box;text-align: center;}#sk-container-id-1 label.sk-toggleable__label-arrow:before {content: \"▸\";float: left;margin-right: 0.25em;color: #696969;}#sk-container-id-1 label.sk-toggleable__label-arrow:hover:before {color: black;}#sk-container-id-1 div.sk-estimator:hover label.sk-toggleable__label-arrow:before {color: black;}#sk-container-id-1 div.sk-toggleable__content {max-height: 0;max-width: 0;overflow: hidden;text-align: left;background-color: #f0f8ff;}#sk-container-id-1 div.sk-toggleable__content pre {margin: 0.2em;color: black;border-radius: 0.25em;background-color: #f0f8ff;}#sk-container-id-1 input.sk-toggleable__control:checked~div.sk-toggleable__content {max-height: 200px;max-width: 100%;overflow: auto;}#sk-container-id-1 input.sk-toggleable__control:checked~label.sk-toggleable__label-arrow:before {content: \"▾\";}#sk-container-id-1 div.sk-estimator input.sk-toggleable__control:checked~label.sk-toggleable__label {background-color: #d4ebff;}#sk-container-id-1 div.sk-label input.sk-toggleable__control:checked~label.sk-toggleable__label {background-color: #d4ebff;}#sk-container-id-1 input.sk-hidden--visually {border: 0;clip: rect(1px 1px 1px 1px);clip: rect(1px, 1px, 1px, 1px);height: 1px;margin: -1px;overflow: hidden;padding: 0;position: absolute;width: 1px;}#sk-container-id-1 div.sk-estimator {font-family: monospace;background-color: #f0f8ff;border: 1px dotted black;border-radius: 0.25em;box-sizing: border-box;margin-bottom: 0.5em;}#sk-container-id-1 div.sk-estimator:hover {background-color: #d4ebff;}#sk-container-id-1 div.sk-parallel-item::after {content: \"\";width: 100%;border-bottom: 1px solid gray;flex-grow: 1;}#sk-container-id-1 div.sk-label:hover label.sk-toggleable__label {background-color: #d4ebff;}#sk-container-id-1 div.sk-serial::before {content: \"\";position: absolute;border-left: 1px solid gray;box-sizing: border-box;top: 0;bottom: 0;left: 50%;z-index: 0;}#sk-container-id-1 div.sk-serial {display: flex;flex-direction: column;align-items: center;background-color: white;padding-right: 0.2em;padding-left: 0.2em;position: relative;}#sk-container-id-1 div.sk-item {position: relative;z-index: 1;}#sk-container-id-1 div.sk-parallel {display: flex;align-items: stretch;justify-content: center;background-color: white;position: relative;}#sk-container-id-1 div.sk-item::before, #sk-container-id-1 div.sk-parallel-item::before {content: \"\";position: absolute;border-left: 1px solid gray;box-sizing: border-box;top: 0;bottom: 0;left: 50%;z-index: -1;}#sk-container-id-1 div.sk-parallel-item {display: flex;flex-direction: column;z-index: 1;position: relative;background-color: white;}#sk-container-id-1 div.sk-parallel-item:first-child::after {align-self: flex-end;width: 50%;}#sk-container-id-1 div.sk-parallel-item:last-child::after {align-self: flex-start;width: 50%;}#sk-container-id-1 div.sk-parallel-item:only-child::after {width: 0;}#sk-container-id-1 div.sk-dashed-wrapped {border: 1px dashed gray;margin: 0 0.4em 0.5em 0.4em;box-sizing: border-box;padding-bottom: 0.4em;background-color: white;}#sk-container-id-1 div.sk-label label {font-family: monospace;font-weight: bold;display: inline-block;line-height: 1.2em;}#sk-container-id-1 div.sk-label-container {text-align: center;}#sk-container-id-1 div.sk-container {/* jupyter's `normalize.less` sets `[hidden] { display: none; }` but bootstrap.min.css set `[hidden] { display: none !important; }` so we also need the `!important` here to be able to override the default hidden behavior on the sphinx rendered scikit-learn.org. See: https://github.com/scikit-learn/scikit-learn/issues/21755 */display: inline-block !important;position: relative;}#sk-container-id-1 div.sk-text-repr-fallback {display: none;}</style><div id=\"sk-container-id-1\" class=\"sk-top-container\"><div class=\"sk-text-repr-fallback\"><pre>SelfTrainingClassifier(base_estimator=KNeighborsClassifier())</pre><b>In a Jupyter environment, please rerun this cell to show the HTML representation or trust the notebook. <br />On GitHub, the HTML representation is unable to render, please try loading this page with nbviewer.org.</b></div><div class=\"sk-container\" hidden><div class=\"sk-item sk-dashed-wrapped\"><div class=\"sk-label-container\"><div class=\"sk-label sk-toggleable\"><input class=\"sk-toggleable__control sk-hidden--visually\" id=\"sk-estimator-id-1\" type=\"checkbox\" ><label for=\"sk-estimator-id-1\" class=\"sk-toggleable__label sk-toggleable__label-arrow\">SelfTrainingClassifier</label><div class=\"sk-toggleable__content\"><pre>SelfTrainingClassifier(base_estimator=KNeighborsClassifier())</pre></div></div></div><div class=\"sk-parallel\"><div class=\"sk-parallel-item\"><div class=\"sk-item\"><div class=\"sk-label-container\"><div class=\"sk-label sk-toggleable\"><input class=\"sk-toggleable__control sk-hidden--visually\" id=\"sk-estimator-id-2\" type=\"checkbox\" ><label for=\"sk-estimator-id-2\" class=\"sk-toggleable__label sk-toggleable__label-arrow\">base_estimator: KNeighborsClassifier</label><div class=\"sk-toggleable__content\"><pre>KNeighborsClassifier()</pre></div></div></div><div class=\"sk-serial\"><div class=\"sk-item\"><div class=\"sk-estimator sk-toggleable\"><input class=\"sk-toggleable__control sk-hidden--visually\" id=\"sk-estimator-id-3\" type=\"checkbox\" ><label for=\"sk-estimator-id-3\" class=\"sk-toggleable__label sk-toggleable__label-arrow\">KNeighborsClassifier</label><div class=\"sk-toggleable__content\"><pre>KNeighborsClassifier()</pre></div></div></div></div></div></div></div></div></div></div>"
            ]
          },
          "metadata": {},
          "execution_count": 18
        }
      ]
    },
    {
      "cell_type": "code",
      "source": [
        "y_pred = self_training_model.predict(unlabelled_df)"
      ],
      "metadata": {
        "id": "tnalx-D-FO6W"
      },
      "execution_count": 19,
      "outputs": []
    },
    {
      "cell_type": "code",
      "source": [
        "y_pred"
      ],
      "metadata": {
        "colab": {
          "base_uri": "https://localhost:8080/",
          "height": 0
        },
        "id": "XvVJ-MnmFdMf",
        "outputId": "59fc0f08-ae19-4332-b2c9-b97b6d6be050"
      },
      "execution_count": 20,
      "outputs": [
        {
          "output_type": "execute_result",
          "data": {
            "text/plain": [
              "array([2., 1., 1., ..., 4., 4., 4.])"
            ]
          },
          "metadata": {},
          "execution_count": 20
        }
      ]
    },
    {
      "cell_type": "code",
      "source": [
        "type(y_pred)"
      ],
      "metadata": {
        "colab": {
          "base_uri": "https://localhost:8080/",
          "height": 0
        },
        "id": "fZo_FEz_Kih4",
        "outputId": "fa9338d5-5cf2-4032-c230-88618092461d"
      },
      "execution_count": 21,
      "outputs": [
        {
          "output_type": "execute_result",
          "data": {
            "text/plain": [
              "numpy.ndarray"
            ]
          },
          "metadata": {},
          "execution_count": 21
        }
      ]
    },
    {
      "cell_type": "code",
      "source": [
        "y_pred.dtype"
      ],
      "metadata": {
        "colab": {
          "base_uri": "https://localhost:8080/",
          "height": 0
        },
        "id": "DSt4URSXKU8N",
        "outputId": "5d2bcb01-f3b2-4807-c5a1-7162df404480"
      },
      "execution_count": 22,
      "outputs": [
        {
          "output_type": "execute_result",
          "data": {
            "text/plain": [
              "dtype('float64')"
            ]
          },
          "metadata": {},
          "execution_count": 22
        }
      ]
    },
    {
      "cell_type": "code",
      "source": [
        "y_pred = y_pred.astype('int')\n",
        "y_pred = pd.Series(y_pred, name = 'Cancer stage', dtype = 'category')\n",
        "y_pred.head()"
      ],
      "metadata": {
        "colab": {
          "base_uri": "https://localhost:8080/",
          "height": 0
        },
        "id": "ov17eNOOOxdL",
        "outputId": "608332aa-8d33-440a-d1bc-55e630ef6752"
      },
      "execution_count": 23,
      "outputs": [
        {
          "output_type": "execute_result",
          "data": {
            "text/plain": [
              "0    2\n",
              "1    1\n",
              "2    1\n",
              "3    1\n",
              "4    1\n",
              "Name: Cancer stage, dtype: category\n",
              "Categories (4, int64): [1, 2, 3, 4]"
            ]
          },
          "metadata": {},
          "execution_count": 23
        }
      ]
    },
    {
      "cell_type": "code",
      "source": [
        "title_str = f'Fitted labels for Unlabelled data by Semi-Supervised Learning - cell cancer stage'\n",
        "x_axis_str = 'Clump thickness of the cell (in millimeters)'\n",
        "y_axis_str = 'Number of weeks since the formation of the clump'\n",
        "\n",
        "fig = px.scatter(unlabelled_df, x = 'Clump thickness', y = 'No of week', color = y_pred,\n",
        "           width = 750,\n",
        "           title = title_str,\n",
        "          labels = {'Clump thickness' : x_axis_str, 'No of week' : y_axis_str})\n",
        "fig.update_traces(marker=dict(size = 4))\n",
        "\n",
        "fig.show()\n",
        "fig.write_image('Fitted labels for Unlabelled data by Semi-Supervised Learning - cell cancer stage.png')"
      ],
      "metadata": {
        "colab": {
          "base_uri": "https://localhost:8080/",
          "height": 542
        },
        "id": "T_WPAU00Jvhs",
        "outputId": "a8b0c02e-2eb6-4d3d-fc5f-08e253a1ce7f"
      },
      "execution_count": 24,
      "outputs": [
        {
          "output_type": "display_data",
          "data": {
            "text/html": [
              "<html>\n",
              "<head><meta charset=\"utf-8\" /></head>\n",
              "<body>\n",
              "    <div>            <script src=\"https://cdnjs.cloudflare.com/ajax/libs/mathjax/2.7.5/MathJax.js?config=TeX-AMS-MML_SVG\"></script><script type=\"text/javascript\">if (window.MathJax && window.MathJax.Hub && window.MathJax.Hub.Config) {window.MathJax.Hub.Config({SVG: {font: \"STIX-Web\"}});}</script>                <script type=\"text/javascript\">window.PlotlyConfig = {MathJaxConfig: 'local'};</script>\n",
              "        <script charset=\"utf-8\" src=\"https://cdn.plot.ly/plotly-2.24.1.min.js\"></script>                <div id=\"6462da6e-3517-43f3-bb26-1bf5e041cfbf\" class=\"plotly-graph-div\" style=\"height:525px; width:750px;\"></div>            <script type=\"text/javascript\">                                    window.PLOTLYENV=window.PLOTLYENV || {};                                    if (document.getElementById(\"6462da6e-3517-43f3-bb26-1bf5e041cfbf\")) {                    Plotly.newPlot(                        \"6462da6e-3517-43f3-bb26-1bf5e041cfbf\",                        [{\"hovertemplate\":\"color=2\\u003cbr\\u003eClump thickness of the cell (in millimeters)=%{x}\\u003cbr\\u003eNumber of weeks since the formation of the clump=%{y}\\u003cextra\\u003e\\u003c\\u002fextra\\u003e\",\"legendgroup\":\"2\",\"marker\":{\"color\":\"#636efa\",\"symbol\":\"circle\",\"size\":4},\"mode\":\"markers\",\"name\":\"2\",\"showlegend\":true,\"x\":[10.26964864,11.04683278,11.72984139,12.78733523,12.22716808,9.859678278,11.06345964,12.05004273,10.80170407,12.78908113,9.713315467,10.5476395,10.14521801,13.2568202,14.54544212,12.00076683,12.49519476,11.02773276,13.05301506,12.08189772,13.40332039,12.22188616,12.06644269,12.84232276,10.29343155,13.74570938,11.55472038,9.618461422,13.86638246,12.6684782,14.46164839,13.73506013,12.01406089,10.84990416,12.02078511,13.28086343,10.83528887,12.97342407,11.05243093,12.32535925,11.71205571,14.29920403,12.74616283,11.86494263,12.33981462,12.10660904,12.44170289,11.62422154,11.70784261,11.59908648,12.58238821,10.94730586,10.26943406,11.36804892,10.67103167,11.13391114,10.52976665,11.97628616,12.4168671,10.8202878,13.36427097,10.05742551,11.5201515,10.18163816,11.09282323,10.54867503,14.44966411,14.72300922,11.39720803,11.94365814,12.09301623,10.87474159,11.95536645,9.670003326,14.90784874,12.49465086,13.4604698,12.50600154,12.61450988,12.10173263,12.19326236,11.35340511,12.88556488,10.95903832,12.88835347,14.0655867,11.52676572,12.49978641,13.31336269,12.33085936,11.22301385,12.77129923,11.90295887,13.68641143,13.57957721,11.39382931,11.65863309,11.75440808,12.16747304,10.91812302,11.54840195,11.65404014,16.37217725,16.17335779,13.40468177,12.96418963,10.43460781,11.2840226,11.24138609,12.65560721,12.59153592,12.1328543,11.58323803,10.8660719,13.3951675,12.5234085,12.2217182,12.80524494,12.71555181,10.02025957,12.02299379,10.37286208,11.60822173,13.01094173,11.71917481,12.32119034,10.90020416,12.11502407,14.12504976,11.54476718,13.46095422,13.16797553,12.64053487,12.82596262,11.61716959,9.240774441,13.47210123,11.1907638,12.40117625,10.91131331,10.82512107,12.54018178,11.74921604,11.54652405,11.72915322,11.34450084,11.67915093,12.6726709,12.81939527,10.96040084,11.93007917,12.35736373,11.2472491,11.98329058,13.0228543,13.34053037,12.39336446,12.01850937,10.51089519,13.94830942,12.32433521,12.44743408,14.95462726,12.90661399,12.3793603,11.33620398,12.1497657,13.17854668,14.31691845,9.606929721,12.09527837,12.09883837,12.97331431,13.27825267,11.42580976,11.94293623,12.43288979,11.47707964,12.09512432,14.19343265,11.22952391,13.87850912,15.34788956,12.20507015,11.41351234,13.19411162,12.35483184,10.88706746,12.29464304,11.19896011,13.56149403,11.89294644,11.57400885,11.22511877,10.71927205,12.61936207,12.40655862,9.664607238,11.95052187,12.85388396,12.20674009,13.06194909,11.82195518,11.5269525,13.61201424,12.16588113,12.43762411,15.36617032,12.5315136,11.71859315,10.9870302,12.60979986,14.83605119,12.66253746,11.31529247,12.66707,11.83110088,11.99316252,11.77269947,12.30183778,13.91187234,11.70318886,13.23065814,12.92218441,11.05665977,12.11412972,13.14544412,12.81264017,11.57105434,11.46304743,13.05157819,12.23908972,13.08862936,12.08477907,11.89684635,13.78340882,12.08402052,12.92038947,11.15562775,12.55213163,10.84654512,10.78875906,10.14345976,11.8144246,13.4240652,11.7134666,10.71801782,13.93916168,13.58484314,12.44333332,11.67782779,13.32535087,13.2032311,13.58720908,14.18163194,11.91963852,11.68685617,12.49557851,12.43081228,12.98899503,11.68696686,12.87583132,13.28426418,12.21745168,12.18775055,10.46377253,11.81004284,10.02214259,14.75085677,12.90543078,10.5859701,11.8687173,11.43674652,11.91764758,12.44606595,12.95942345,13.31929295,11.3827441,12.14514339,13.17511025,11.58244719,12.75481089,10.26464164,12.24489014,12.23983793,13.09343283,11.55395994,12.33804343,12.56313439,12.97504752,10.14080965,12.63859078,13.23609245,12.06247675,12.73843474,11.91629052,12.95823165,12.83679057,10.91960819,12.53048526,12.98990704,12.70905133,12.93429555,10.55219598,12.71506446,10.09442376,12.21440176,13.22916781,13.85059951,11.9843722,13.35664325,13.00486822,10.9986341,12.32350767,15.86839106,13.50229316,14.84218621,12.75097301,10.31768826,10.07894688,12.35322844,10.88458554,11.80165358,11.40122007,11.72714888,12.33321205,10.56884778,10.50062531,11.52205234,11.13990576,12.61399833,12.66174649,13.21341719,13.21173577,10.95059254],\"xaxis\":\"x\",\"y\":[11.99920319,9.617334912,8.768991569,8.552978301,9.538349341,10.75255788,10.94909254,9.623382458,9.915293939,9.125679947,10.43658436,9.572397879,11.29698673,11.1817277,9.324652814,8.802331121,9.166946756,10.78407864,10.17396086,11.80819535,10.6084674,9.514973173,11.04964666,10.73803442,11.03283633,8.201408855,9.291168287,10.47018364,10.42609231,10.21865166,8.401684799,9.226204453,11.53778896,12.13313978,9.266281679,10.6336112,10.16856065,10.42309563,10.79787552,8.404614344,10.24595385,10.47150452,8.741101424,9.959328387,11.58436933,9.014169862,9.91181299,9.373091659,10.73856009,9.011949652,8.517546734,10.78402822,9.869846529,11.93324553,9.561552108,10.68649133,10.00953148,10.58733846,8.408370579,10.09944224,10.38765288,11.63427403,9.663748357,9.950373896,9.294962037,10.50357555,13.70305614,8.015606117,13.03626562,10.51970989,8.831521512,9.659800198,11.15926795,13.19979629,10.22979284,8.800758545,10.47367822,10.8986045,10.72371459,9.432840402,8.794566378,10.16014089,9.190260918,11.79669752,9.745796091,9.455909468,12.20071573,9.001181753,9.084582717,10.9734117,13.44178557,8.632883499,10.45383767,8.2653958,9.839074492,11.5585216,9.879970805,8.790544022,11.2757484,12.21170867,9.822944291,13.15097559,11.58653797,9.883886476,9.891189271,9.464947962,10.20743251,10.78264287,9.22384367,13.0486477,10.06037164,8.825898848,9.586542831,11.73386845,8.864871842,12.75249688,9.250665073,10.49629628,10.29362704,11.51238357,10.83169799,9.809124732,10.40757792,12.10290178,11.22357911,9.785563106,10.13096662,11.94591404,9.685079621,9.162784915,8.098203635,10.77959972,9.424767535,9.695938656,9.670750853,11.86145149,11.93880664,9.782573824,10.43661461,11.98836986,11.29665541,8.720947964,8.968967527,9.441210337,10.94408808,9.386931089,8.812877736,10.09101611,8.911096941,9.668466362,9.303739233,10.56901511,9.91112207,12.06462543,8.849916735,12.18705323,11.06130124,8.801073476,10.06227484,9.036119994,9.470985473,12.57922073,6.850555569,10.5345058,9.227114482,10.13060775,10.1331453,10.88706368,12.0853675,11.16444895,9.529231072,9.651243565,10.24368541,9.876853264,10.59313443,10.17949132,10.15431177,11.38760645,10.60349778,8.866633452,9.345680631,10.25581296,9.732263648,9.03134688,12.54870769,10.36849842,9.342726175,10.08347922,10.64070541,12.8811694,8.163595753,11.55717968,10.41763686,11.83570896,9.936200633,9.383817758,9.380228289,10.57024815,9.547698149,8.58711164,9.707943253,10.17222012,12.20127392,12.91157981,9.796766282,10.31778024,8.682548756,9.597953971,10.05500121,11.25753158,10.64041866,9.978650758,12.85089373,8.718731076,11.802541,8.27806911,12.8427643,9.114042865,10.25376461,8.736045326,9.896466335,9.986511517,10.19992051,9.344822429,10.23847748,10.03615887,9.150189488,9.519630846,10.66663412,10.34174194,9.64065731,8.889319484,11.37019987,9.217872813,10.50980801,8.147077945,10.34866325,10.75472686,9.47801001,9.65739988,9.856358019,10.37488371,10.55117849,9.765839731,9.398354878,10.20321473,10.40228837,8.758348739,10.07045891,11.34285716,9.74203981,8.620871836,10.45620586,9.228380651,11.20791654,8.700059925,8.665778307,12.07284536,8.609582764,9.698261195,8.729378678,9.454750442,9.738420442,9.007212538,10.51559413,10.90461883,9.044918469,12.05241288,10.48806792,9.989051481,9.835261543,10.67110499,11.55316174,8.817005512,12.114359,8.222368103,9.250369557,9.756376787,8.702424045,9.159899947,10.71392688,12.84565901,10.02415537,10.65950803,12.09199431,9.038445311,8.743275432,9.429610858,9.567065025,10.20927942,13.22730396,9.268661053,9.892644218,8.732655336,10.44273069,10.15283846,10.4242157,9.794416852,9.48444738,10.95650455,9.05219642,9.195378666,10.43313619,10.19244084,11.4104422,10.60242776,10.96643119,9.06793653,11.35823969,11.51305431,10.07609931,9.69225993,9.773474119,12.2536843,8.407808112,9.699262339,7.515733735,12.70299694,11.12952819,9.991567096,9.793110906,9.84736782,10.09551531,8.912888385,9.50213136,9.257476347,10.83272317,10.20299935,8.815368614,9.939946442,8.684839789,10.39404247,8.911228429,8.669884558,10.87933319],\"yaxis\":\"y\",\"type\":\"scattergl\"},{\"hovertemplate\":\"color=1\\u003cbr\\u003eClump thickness of the cell (in millimeters)=%{x}\\u003cbr\\u003eNumber of weeks since the formation of the clump=%{y}\\u003cextra\\u003e\\u003c\\u002fextra\\u003e\",\"legendgroup\":\"1\",\"marker\":{\"color\":\"#EF553B\",\"symbol\":\"circle\",\"size\":4},\"mode\":\"markers\",\"name\":\"1\",\"showlegend\":true,\"x\":[10.49428706,8.516878977,8.979735614,9.553004989,10.10965859,11.12873645,9.710036959,11.26155072,10.47542481,11.17411675,10.12694707,9.343184071,8.518600928,10.155489,10.81855137,9.707411869,9.459213584,9.691358185,8.903406698,9.506990185,9.819260644,10.04584111,9.93621688,10.61133519,10.10931769,11.81401545,10.31202383,11.80449377,9.27687852,10.52654704,9.739749138,10.60014251,10.5939308,7.813978387,8.67295685,8.558986402,10.4018445,11.47020128,9.673185771,10.81232301,10.5455401,8.94836769,10.397467,9.248105261,11.5162669,9.967433491,11.63599966,9.574941509,10.58943337,9.937208774,7.97804107,9.017868474,10.6125113,9.94511387,8.881267998,9.373621461,10.24951774,9.006980993,10.97495023,9.359290493,11.80886262,8.920133749,10.19918944,8.478973438,9.276368875,9.406749685,10.40133634,10.94213332,10.30048597,9.626929341,10.81548851,10.79888699,10.12020528,10.57124763,10.41279601,9.013038117,10.75956833,9.342798701,9.396081519,10.17694682,9.69249653,9.868179647,10.59535767,9.802041367,10.32767816,9.761698495,10.22959689,10.43999791,9.383134071,10.27483679,10.60110203,10.09230795,9.391442555,9.262940228,8.250120694,10.91048258,10.86708255,9.920107161,10.89847599,10.18370342,10.29079014,10.11294472,10.43995219,10.10166244,8.83333497,8.145700917,8.859318855,8.906656544,9.566390704,9.831530122,9.78146644,10.54133444,10.3892662,10.75122899,11.7782559,11.22306255,8.716743895,7.671045484,10.90193147,8.164361316,10.06675691,10.03547949,9.930785746,9.492676935,10.23580967,10.24580485,10.07004521,9.39141949,8.77740662,10.31650036,8.657130763,8.967815656,11.33121589,9.581096805,10.89982233,9.699888994,11.02936571,9.654934028,11.01280186,10.62933459,9.786984917,9.134302692,8.956891699,9.729931187,9.561858644,9.591325685,10.98354524,9.702302856,11.14367891,9.468379882,10.97256573,9.477749515,10.1765778,10.97073782,9.586027725,9.561729482,12.00339061,10.9509935,9.567996156,10.64894074,9.639923699,10.70588502,11.41584907,8.395484331,11.02885307,11.45796778,10.04747132,11.74625671,10.15538751,8.762880315,7.806505721,9.666592933,10.7135433,10.31740773,10.41361039,9.422914416,10.1440018,8.36133427,9.239910001,9.181206904,10.51972889,9.985839941,8.844470632,9.990475084,9.310189462,9.333300846,10.86414942,10.11341944,10.39836285,10.88396989,10.18025769,10.55085452,10.68296428,11.17060866,10.47586059,11.41223269,10.02260848,9.95213059,11.70133465,9.490288287,9.99714504,10.91986708,10.14980873,11.40493345,11.03412154,10.29157029,9.222301462,10.5666961,8.617378841,10.24447468,10.8084388,10.2130417,10.87967716,12.03887625,10.92393245,10.26691745,10.64166151,10.42548536,8.685276497,9.58358878,11.22468783,9.956415794,10.58242328,8.993499925,10.06451674,10.60029195,8.638485045,10.34759263,9.818156782,9.060465234,9.962466811,8.103695506,7.872023232,8.823076669,9.00946778,8.826967673,8.27457221,10.28822809,8.40581628,10.11021885,10.78706668,9.997773214,10.09310876,9.621842943,8.517323889,9.956181415,10.96082521,11.73824493,9.569793758,8.372677264,10.16634749,10.37626591,9.773049535,8.85108771,12.0243326,7.640476489,9.490027954,8.678374409,9.36387175,10.31785142,10.13804797,9.289264925,10.77700353,10.62239392,10.64738089,9.574368318,11.04858076,10.66070709,12.50877247,11.15692165,10.05297883,8.711613997,9.628778753,9.242208084,9.436031083,10.55513856,9.443221936,9.104886865,9.590672278,9.839113233,10.40933443,9.047364003,10.31731747,10.07802008,11.32438545,9.786829514,9.865521355,8.828644182,8.614737317,10.31050832,9.750510936,10.50374406,9.107338597,11.90851233,10.1222307,11.04703327,9.773079801,9.837498058,10.6900519,10.55575677,8.879744999,8.467306986,8.90213223,8.584226678,10.05957059,9.588749074,9.631989267,8.639036871,10.77956743,10.43941111,9.910377516,11.02118012,9.126020535,10.41470029,10.3484412,10.34925442,9.270752732,10.32684025,9.485118367,9.103553849,8.796731814,11.03781564,9.154055788,9.827086156,8.791347945,9.7028732,6.767962204,8.913040771,8.573563841,8.985549232,9.786732812,9.67465222,11.94439779,9.428226782,9.749967722,8.43068453,9.522617336,8.662023346,10.03029902,10.85308677,10.40425347,9.299379787,8.369457107,11.46001319,10.1205006,9.010098396,11.19777147,9.407343782,9.530190637,10.88637738,8.614780199,8.043246046,10.4206837,10.400738,10.09514216,10.49668439,11.0822406,10.97044779,9.43143043,10.80997207,10.17324737,9.494457431,8.806694209,10.64697094,9.646377401,10.04643453,9.207052498,8.449485525,10.17158636,9.937860875,11.19902788,11.05330458,9.251123247,9.063673503,8.730913227,10.49798062,10.72757204,9.226935898,10.83663375,8.87166969,8.575529909,10.71744232,9.22209448,10.31598588,11.40653514,10.40112464,10.92966028,8.394197795,10.66153624,12.13850225,10.54113941,8.459122818,9.796857205,9.500034778,10.38302391,10.41203538,10.40549255,9.636219249,9.40072796,9.410411009,10.85354083,8.146991929,9.79269684,10.2703782,9.347228988,10.47722729,9.92868035,9.061698712,10.16136354,9.731817118,9.590127352,9.288677289,10.06144548,8.153870764,9.601666881,9.456451878,9.088101496,10.65269859,9.265728741,10.54063309,10.97584089,9.843129585,10.27779932,10.6395173,9.919021985,10.54087014,8.737435155,11.11042384,9.010437321,8.171164066,11.38449851,9.937273206,10.44892112,9.636741528,8.979416607,6.927011461,10.626279,9.802657093,10.40560537,8.580651539,9.270554762,11.14732784,10.59786463,8.718718741,7.796735758,9.42875368,10.21399648,10.94237693,10.09372549,8.877688278,10.30615782,8.827665132,9.039033436,9.346264984,8.770606351,9.72903487,9.100049933,9.714313862,9.537578456,9.590214785,9.496461016,11.23329711,10.61030522,10.05907216,8.53305327,8.374196734,8.035247585,12.60519575,10.97237481,10.25698097,9.025759541,8.853635614,11.56508399,8.306656339,9.55060264,9.915707927,8.008002822,10.84124567,9.585341083,11.91218084,9.609101268,10.40918208,8.857571832,9.375136224,8.83127715,10.39257528,11.3018395,9.406358238,11.07148726,9.278633301,12.54962097,11.07379979,9.992168697,9.030299979,11.65238075,10.90526038,12.04625212,12.18316854,9.87028087,12.26841398,12.08748329,12.94815075,12.2126072,12.55553344,11.26084439,11.02384903,14.30875636,10.75967152,11.40720534,11.84077718,11.27206887,11.45649875,10.3802386,11.63055014,11.57791964,10.37854078,11.29597384,9.47107326,12.69205411,11.42957874,9.649143212,10.49953356,11.71421103,9.936600241,11.02463272,11.3814078,13.18553208,10.27529898,12.17297278,11.23474884,10.85653619,12.1010879,11.26040732,10.97345507,12.00651771,11.47830675,9.508835539,9.357854575,10.83504538,13.4361235,10.26693146,11.95914702,12.31980264,12.82889122,12.83086565,12.46447686,10.56906848,13.84707091,11.39654456,10.80243598,10.07354173,10.6583962,9.336644614,12.17711605,12.50473389,10.85223084,10.57379373,12.60605367,12.64479762,11.517943,9.334575442,10.53562837,11.68894561,10.5055,11.53920549,12.06421233,12.69249595,12.98247153,10.46073996,10.73112581,12.97644394,11.45804949,10.2698594,13.42732778,11.32493213,13.21735052,12.52472501,10.77012923,9.9970369,10.10924337,10.09943798,11.02453452,12.51170628,13.00414339,10.95363508,10.14698919,10.98103356,11.02776604,14.42078914,12.75918951,13.3560366,10.62654929,10.53444369,9.648335768,12.76601151,12.26146305,11.99126187,13.98393659,11.93774243,11.00465343,15.04572166,9.960012134,11.49059438,12.10931087,12.26877457,11.85930468,10.08324408,11.9034951,11.20041122,12.34602624,10.62206521,9.270643223,11.77717447,11.69453219,11.86350958,10.56361816,10.21010663,10.47606467,9.467661946,9.902160123,13.33619678,11.7992885,10.77330478,11.31945649,10.3446883,11.44616106,13.51529924,11.95732851,10.50088904,11.78772926,13.05808082,11.81490137,10.98812964,11.73360982,10.68350088,8.237380773,10.7862489,11.68998555,11.4605822,10.96084144,11.70560705,10.14297612,10.25997321,12.81980151,10.15736062,11.28963612,11.31246841,13.34747466,10.60717233,12.78753348,13.11973491,11.84508787,12.50765413,12.25943963,11.35360787,13.52064477,11.80694263,13.06655456,9.741260724,10.83537647,9.42867423,12.81357568,11.15634529,12.05926543,11.18572421,6.592432034,7.770829934,6.443109776,6.119553311,6.404694042,6.435830582,6.878242614,6.341808646,8.551920286,7.542219979,7.708072201,8.759482399,6.333085096,7.44444457,8.393525547,7.084210807,8.000455794,5.680987177,8.269180911,9.058073,8.776106869,8.394474685,8.166402779,6.492123891,7.778654653,7.158050114,8.195080975],\"xaxis\":\"x\",\"y\":[6.495637519,7.102107713,9.196250541,7.120282816,5.963156603,6.142896761,7.830125696,6.80833172,6.134184792,7.180664134,9.266528476,6.748830713,6.795429949,4.798478094,7.225486895,5.606727416,6.613765349,7.52558635,9.523269275,8.798494452,6.883115733,6.679803813,8.817516283,7.490159189,7.76525116,7.778279045,6.519694827,7.54036396,6.908460978,6.239747623,7.306404557,8.281457753,6.190262389,5.763181647,8.214686448,9.010771768,7.025554433,7.308299436,7.061752789,8.674215952,7.124988174,7.530101257,7.047931777,7.854042818,7.389145735,5.843998915,8.039740127,6.549401396,7.109247942,6.749447158,7.810098345,5.967086486,6.676708079,7.766526854,9.74467318,5.839480074,9.377411852,8.526077963,8.1685075,6.698793471,6.301345729,7.832770576,7.305394746,6.538117007,7.883617137,7.435944182,8.896747363,7.504732028,6.599102864,6.486151988,8.796367596,6.328809836,8.186659043,7.790701971,8.287721495,7.003226115,7.365617187,10.52667782,7.887563337,5.443406065,8.915102295,7.609846053,7.352088377,7.550950421,7.294203684,7.222156202,5.935069904,5.231585968,6.577080464,6.946897571,7.647755245,6.682371811,9.510582395,7.164010317,6.717236285,8.152165808,6.853492368,7.673698697,6.330887005,6.599677299,7.328197573,7.575629017,6.221906485,5.936438797,6.576571162,7.361587165,6.648110758,8.269540708,4.435550644,7.465864128,8.853560942,9.03928934,7.910896579,6.760268713,7.18099808,8.244249547,7.096392885,6.169531502,6.647747814,7.82522496,6.519346581,7.836836711,6.676665749,7.128340263,5.557620847,8.30250821,9.4099115,5.33745703,8.943684478,5.915301548,8.226818975,8.098929202,7.147188752,9.295665813,7.138317725,5.092933792,6.635007007,7.151889988,6.235246635,5.872305185,7.078188895,10.10662966,6.284152607,6.719484338,8.166475005,9.212821419,7.485540987,8.026016486,7.870726021,7.618242121,7.428893027,6.70086948,6.10013148,8.634745461,7.067453591,6.812879455,7.291727455,8.987694692,7.39293457,7.194551374,7.279784956,8.051220312,6.225533756,7.78678171,8.408906951,7.465901416,8.92775843,6.823752453,6.756249638,7.102399341,6.207663135,6.047025309,7.353905454,9.597026324,7.527470251,7.854202301,8.341846522,5.500466558,6.832440678,7.353015315,7.717253725,6.695148361,5.994131048,7.79068347,6.883428671,8.553089888,6.039355195,5.366197604,7.761200282,9.193307152,8.632057216,5.467810397,5.663147595,6.526153502,6.958336926,6.384492665,8.314154809,6.544933418,5.257650779,7.205304683,8.192930399,7.197176902,5.734363578,6.850668647,5.363553322,8.017344346,7.828387266,7.217738348,5.090755099,7.463178179,6.697967702,8.813582131,7.914851753,7.942919284,8.309362078,5.955264152,6.65173319,9.412561161,8.502382929,7.730375995,7.490752272,7.41387386,7.74489965,6.17184503,7.574520732,8.281841383,8.139306269,6.574132154,7.636139891,8.793178081,6.101622886,7.156244844,8.597253911,8.112439711,6.691375065,7.456659609,6.724899169,8.443143609,6.865234873,6.98167177,7.460789425,9.362315464,7.451874567,8.648383657,4.971638039,7.550743189,7.235993202,6.164827036,5.724044837,8.617035081,7.612701504,7.289381155,7.395316122,7.129437158,6.502311622,6.893328183,6.312170865,8.331880877,9.365224743,6.517769282,7.647448207,6.965575283,8.339554598,6.030859644,7.208715601,7.381406645,7.512015644,7.011354171,6.956011374,6.369953806,6.9531206,9.683025511,6.853309314,7.552998745,5.923541591,8.030639584,8.327529812,7.652124811,6.721138884,7.245191594,9.472513479,4.724898458,5.366709275,7.415468937,7.345231148,6.703651685,5.503081124,6.095165553,7.595818455,6.274201834,6.133514975,6.57815322,7.057333676,8.341883717,6.011565288,8.817942688,7.625563393,5.54825928,6.381318192,7.934500962,9.055929256,7.160227277,7.28740032,7.632905577,6.540958131,6.418290275,5.169850678,6.55089692,8.949274704,7.717441409,9.287828606,7.166727663,5.843509248,8.689399307,8.282280747,6.417369036,8.222614481,7.779451473,7.384707158,7.696366923,7.887284441,6.961176299,7.088088629,6.210344027,9.422960619,7.006331684,7.686480848,6.145066366,6.924764683,6.909032749,6.747228167,8.194823819,8.606063709,7.540514429,5.555060581,6.032306192,8.202051338,6.652122027,8.29008799,8.341153819,7.419202311,7.875135602,8.395449887,7.320985222,8.062433309,7.214105238,7.876803202,8.194407011,6.58510784,7.358458734,7.036222668,7.635368832,8.771019567,7.221273068,9.730377585,7.703834617,7.564295552,8.582620663,9.729230123,8.303564281,6.209741521,7.803380233,5.680097298,7.72615424,7.271866922,8.489553508,8.437141525,7.972438603,7.923931315,6.67871958,7.661124886,7.15675961,6.699463542,6.499965223,8.716471381,8.337288727,7.054045784,8.163035918,6.36729326,8.611991493,6.924551276,7.526762857,9.184240787,7.809881106,7.716342804,6.994428866,7.433986613,7.520143593,5.907755483,7.774205548,6.595078223,7.527859215,5.993037136,9.089026771,8.784874712,6.69624548,6.991303369,8.506635027,8.203251989,7.52201773,7.397046092,7.51718916,6.768502806,7.613385212,8.682850536,8.568393574,5.793970746,7.433060389,6.907879252,7.755945062,6.780811337,6.120233284,6.679195675,7.215584706,6.635037472,7.117270572,7.174339689,7.784343587,6.84738852,7.03368822,7.458282205,9.281631221,7.620090052,6.713326138,7.598015714,7.754467325,5.219262825,4.652760771,5.286404701,7.762872739,6.380374185,6.27983962,7.040657174,7.341018571,6.369484967,7.609625091,7.78233497,7.302407417,7.058319854,6.425866038,7.804787599,6.949468722,5.244224959,6.742642376,8.749541885,6.429235691,7.494233376,7.991440439,9.077140113,7.776841798,4.740159648,6.435623309,8.901491435,7.394675532,7.004854424,7.436918628,9.13007272,7.153770741,6.241372843,6.819836903,7.792210414,7.896745288,7.412307702,7.547519687,8.147835044,6.637732845,7.061141295,7.216705551,6.601877587,7.178870373,7.927584218,6.889822064,7.560490614,6.579655394,6.84605461,7.724801407,7.241120455,7.754686394,6.7080901,8.45844538,8.755288632,7.931490592,7.825264441,7.185192866,6.465795821,7.242551659,6.899352051,6.374951551,9.150423886,9.807658063,7.962340289,9.161258502,7.553709789,9.284291405,7.445190578,8.247387709,5.756196574,6.547342926,8.290950765,7.228339167,6.578931333,7.633556666,6.865304203,7.162335658,7.506963488,8.93872232,5.702107924,8.769207777,7.647234071,7.922359521,8.588683445,8.638242765,9.170197797,5.680811939,7.934283472,8.268370816,8.576860803,8.750080129,8.226067356,8.118035757,9.748652938,6.410404948,8.132109855,9.468287759,7.914116355,6.872574526,6.297122762,9.60765976,8.399439954,7.660411935,8.089448748,8.453327451,7.986452588,8.398060453,8.370448851,5.102180426,7.652034966,6.55164152,9.211914696,7.555555299,7.881323385,6.868585272,6.22620573,8.008477318,6.624115763,6.620187692,8.815050131,7.175019782,5.716272718,9.247501675,7.655674982,6.96126713,8.176332784,6.977680917,7.84686623,7.63298739,8.056259682,7.595647048,7.137752733,6.107377332,9.679873248,8.724892181,7.306502411,7.086817049,7.301675221,7.936589139,7.308243602,7.14556814,7.444931334,9.082269115,6.069309252,8.265774186,9.114391613,7.237128068,6.425958584,7.217825399,8.115865336,7.721103515,8.70109382,8.839142842,7.597461641,7.699544059,7.407710145,8.030490637,7.958087395,7.236488513,8.967695448,9.083789782,6.03323319,8.254565638,7.060784812,5.663891254,8.997718577,10.07654651,6.964416708,7.52303997,8.508945858,5.869820535,7.047400031,6.102791298,6.491015068,8.388589453,6.809753143,8.049545321,8.087508484,7.677487219,9.067949171,8.499731314,7.701682226,7.305169306,8.301712007,6.219052914,8.034897167,8.118656021,8.566094638,6.779897936,9.32502452,6.851643019,8.465192998,10.02330696,7.71002004,5.841265475,8.684872674,8.410614566,7.660188555,6.444378022,7.467399654,7.946702509,7.353942562,6.067734974,7.611168278,8.18198365,9.042365739,8.442940879,8.988036984,10.12308755,8.165351754,8.453262642,6.070233888,9.084141912,8.309966954,9.133773653,7.903981818,6.589429215,8.515056921,8.58577995,7.263549103,7.533120431,7.725636738,7.240826435,6.844826205,8.459989695,7.713803069,8.07721773,8.382692066,7.908910859,8.291300844,6.919646233,6.895038029,6.111423526,10.64352762,7.974952582,8.755170395,8.34397399,8.958635463,6.972677911,5.423648301,8.008663409,9.144241042,6.659855354,6.680992576,5.599531936,6.390035995,6.783560516,5.590152387,5.021897151,6.096132921,6.674006113,5.162615542,5.127153715,5.671006034,5.149596525,7.38519864,6.410934461,5.044221756,5.045209324,4.905998728,5.213637968,5.902935168,5.365522047,6.318927857,10.92136946],\"yaxis\":\"y\",\"type\":\"scattergl\"},{\"hovertemplate\":\"color=3\\u003cbr\\u003eClump thickness of the cell (in millimeters)=%{x}\\u003cbr\\u003eNumber of weeks since the formation of the clump=%{y}\\u003cextra\\u003e\\u003c\\u002fextra\\u003e\",\"legendgroup\":\"3\",\"marker\":{\"color\":\"#00cc96\",\"symbol\":\"circle\",\"size\":4},\"mode\":\"markers\",\"name\":\"3\",\"showlegend\":true,\"x\":[7.391572948,6.143157296,5.487056504,4.95513966,3.907186793,6.216900408,5.551669592,6.451018518,3.940132061,7.86935628,6.689010416,3.784455911,7.494908063,5.169039511,6.427405911,6.310366686,4.758036092,1.953369653,6.757389564,5.516286197,5.154499899,5.024644171,6.949207474,6.213401235,4.598063388,7.183456262,6.671057021,4.737640934,4.733891043,6.943327343,7.171133659,6.00920551,5.666398056,6.923228446,8.778268522,7.250990935,5.187514423,6.70675412,5.315372875,6.337213052,7.100609147,7.307119316,6.831752615,7.948693343,8.617999123,3.316296749,3.484560711,4.69518825,3.174504422,5.494984255,5.524257483,6.354155852,5.029611105,4.849799621,7.122040659,5.459847842,4.060824466,6.014576942,6.288686308,5.418722154,6.938417219,6.319304164,5.698994383,5.937725712,6.647966948,5.375741556,4.508080038,5.77997063,6.18264266,6.72044045,5.957398896,5.353188285,6.84334593,5.839446532,7.141304873,5.872999748,5.991101591,5.870089393,4.697172327,4.68909257,4.640628688,8.524130565,5.716890021,7.329942916,6.493781627,8.629419417,7.311077758,4.264811092,5.537213969,7.260978433,6.407555953,9.203470104,5.932272845,3.805332787,6.628028643,4.710493378,6.069911149,7.524587097,6.423752891,5.721090985,5.792927409,5.854235778,2.041641771,6.556175088,7.400420953,4.164869939,3.868041115,3.624966719,7.115780843,5.074705012,7.760558721,4.172462134,5.1311744,6.776897016,6.661334794,6.27076109,5.675006715,5.180863689,6.679502997,5.452936032,6.596254417,7.538248372,2.818964323,5.106131639,7.861753051,8.194282532,3.922650238,6.250228623,10.90203178,5.696471975,6.687707396,6.467942224,7.793084319,4.661516711,5.379868564,6.48538733,5.917405145,9.584995584,6.620338327,6.618743491,4.815347247,4.150912068,7.123087399,5.721026874,6.918040717,4.824117808,7.267070383,3.435342909,8.215624989,7.19713272,6.155782463,4.357954471,5.437799618,6.359626464,4.538351434,7.831614105,9.914717136,5.299473343,6.662934562,5.070441828,3.571855782,8.079628061,6.981658335,5.277765395,6.160353975,5.675003615,3.932797593,1.92376114,5.932870666,5.345974381,5.184499555,4.803620073,3.43004089,5.262161489,6.228304808,4.49837266,6.637094356,5.614205265,5.856521881,3.978938986,4.918961805,6.580022076,4.882866393,6.228589421,8.797178658,7.124676567,7.467058103,9.338010648,7.662259691,6.562489905,4.7206227,5.035291119,8.854295321,6.642538285,5.940455698,6.647946415,5.62644378,5.587070645,5.452984819,5.216535681,4.665367164,5.915361888,5.187273004,8.039091319,5.802249764,5.884669324,7.779429621,8.076820702,6.046585405,6.672781779,6.521180433,9.099957153,8.171786703,7.283059701,6.568880957,5.238612872,5.837060694,8.576697189,3.141157868,5.73299192,6.209692575,3.477212648,6.748214502,7.031996695,4.670448441,5.633312879,4.283788438,8.297460172,6.528226314,5.645185421,4.691207713,6.139526776,8.381931393,6.389275576,6.499626632,4.302412599,6.234941427,7.097658493,4.046355317,7.595627493,9.486658098,3.796772341,3.077318624,5.897329983,7.073545694,5.884509454,5.775884923,6.009189611,4.494417208,3.675153008,8.236649216,6.413818886,4.320467842,7.521604325,4.165239486,5.827790889,7.047609157,4.811045732,5.50577365,6.041905915,8.761073027,6.649157304,5.435287652,5.681257981,5.603620061,7.847987599,5.597832827,4.880352288,6.340286495,5.866150366,7.12180324,7.356852393,7.53739555,6.915234773,6.89456103,8.691639188,4.359476153,5.50883053,3.602816572,7.300208234,6.030449739,5.57666884,3.566116053,6.25941184,5.632683063,4.084039098,4.363129825,4.922388556,5.646022929,3.668296884,5.742626401,6.87071323,5.467302138,5.012829055,6.430094065,7.557162155,5.36840095,5.339969208,3.969442967,4.617300619,6.85686436,5.83926823,7.081253315,6.947378067,6.531438389,8.154514545,6.815752598,6.602416817,5.939286439,4.243174801,5.285890498,6.460823343,4.428209993,6.662112621,6.456243505,6.141451674,6.426292872,6.033691711,5.968809896,5.987614418,7.314448052,5.872109398,2.264855807,5.312480088,6.277142897,7.357252162,7.952073458,4.668569355,7.076029992,6.336470324,5.705315428,6.034986511,5.96027318,6.198497783,6.335997602,5.050286685,4.522146801,7.365800283,5.689217348,4.693002697,5.159757995,8.009987019,7.990657824,4.544773176,6.292052398,7.896617797,7.884745854,4.182884484,8.288729134,6.93570559,6.321516422,4.63387898,6.134375548,5.636925415,9.267019164,6.268785037,5.75476972,5.980160248,5.133457167,8.92996758,6.900888101,6.105916016,7.588539699,5.953150021,5.861763869,5.212820597,5.129552958,7.086816666,6.122942497,8.41032781,6.033423319,6.410182489,3.991959285,6.67213831,3.953181788,4.60236103,7.342625397,6.496705708,4.76640757,5.436963154,6.362655104,6.311162979,3.579657517,4.294804585,3.492721471,5.897481336,3.56597604,6.992609954,4.578053525,4.435276183,8.5322341,4.841366623,5.947603968,5.235947971,8.428917157,7.15938399,6.078518316,5.500605362,7.005577126,5.105136659,6.555398983,4.758374846,6.210640646,6.752146317,4.925668462,5.013157958,8.855742339,3.463325792,5.067315475,7.090999773,4.839862496,6.025297709,6.92565259,4.688910904,5.759756701,5.332954371,5.83844945,6.522533374,5.125145883,7.13153366,6.603439344,5.33202344,6.39025475,7.391907312,7.404466006,6.944990404,5.908078347,5.123048102,6.316931294,5.340783871,5.53035823,7.307885642,8.046403116,6.842633847,8.903763068,3.837313427,6.032085077,6.134753071,8.28328504,6.708907318,5.542020781,6.783780646,6.908552248,6.258270914,3.132715413,7.446854944,1.062214208,6.154841727,3.806085988,5.497797331,7.977858957,5.273836752,8.711301453,7.100838776,5.651459841,4.722213281,5.298688301,6.529615606,6.869829033,6.395223168,8.895611521,5.542156348,4.613303791,7.668254643,7.265131062,5.797865574,5.160705929,6.352022078,4.402246486,6.0934719,5.097838387],\"xaxis\":\"x\",\"y\":[1.580917529,4.676544679,3.052566027,6.340167825,1.118344581,3.416151255,1.187960871,5.071650396,5.260385554,4.772738554,-0.663949882,5.180789035,3.015084908,3.578978388,2.051853281,1.140411235,4.546363319,2.121754025,2.428784973,4.291597332,7.393762618,0.716012293,3.178774551,4.710195778,-0.590587106,5.154716446,3.453989029,1.476000718,1.402230839,4.018468745,2.463466718,1.210853614,5.91105953,3.59255005,-0.921351289,1.435463072,2.979620178,-0.463303259,1.461912363,3.272707713,4.203045003,2.718104063,3.175935904,3.969068237,1.336664685,5.031358965,2.367329154,3.197349219,3.337731846,2.884045256,2.096683306,4.220143244,3.93752636,1.865359023,2.493932066,2.586216714,0.270309889,6.162293889,4.353801652,0.984939378,3.208902334,0.499752834,5.008652939,2.685692592,3.072763076,3.626728635,5.478677101,1.597433722,0.458993705,2.820046438,2.574672195,3.736089404,-0.212407565,4.487095676,4.53068937,1.074718569,2.450522951,4.451220686,8.202761201,2.391895249,5.393628119,1.509301012,4.358344812,2.640604242,3.589342473,2.137244457,1.538072221,2.531005409,3.761518844,2.123333271,3.680699495,3.69628271,3.933970711,1.729379275,3.535166079,4.50792071,3.572894024,0.665374469,1.931953827,1.790039601,0.534260985,3.810111181,2.822097409,2.441038445,1.545791989,1.12384129,2.378208265,3.801023165,3.62163502,2.978977485,2.012107915,5.617795677,1.028377478,-0.054003028,3.439968513,4.511374012,3.204235448,0.396632729,5.596665437,3.282748484,1.588948716,3.699246385,5.309703048,2.83756387,2.490420106,3.125651063,-0.337660195,3.903057806,-0.558344533,3.532627719,2.523630502,4.463833652,-1.799827047,2.100625094,0.760437233,2.984899821,4.404178699,2.265271496,0.454840234,5.089581283,4.341806754,1.775655669,5.106809894,3.635957824,1.804598646,4.075690276,-0.109818584,1.167768279,4.262482741,3.712330261,3.122105748,-0.34810029,5.418068125,5.18542742,2.012159472,3.317749393,1.237752587,3.433369282,3.436692979,2.663759339,4.592699454,4.47598017,4.138175948,2.694961481,0.681646832,4.129686983,5.506652811,1.765436265,-0.824695887,5.487412223,2.893180611,6.04002062,4.706959311,0.889360306,2.251964859,2.553839257,3.311215069,5.020095057,3.096970497,0.362620825,5.139597321,3.004627221,2.204058929,0.357191286,3.647651356,3.424665097,3.586436373,2.132736365,1.735321742,1.412874612,2.579019405,2.659285968,1.458225813,4.577462872,3.978755964,3.126118383,4.627116775,4.169545377,5.361337417,-0.69401524,3.380929306,4.673655648,4.606207578,4.561989887,2.054585132,1.562250478,2.789073036,1.886999642,3.863254647,2.079647376,2.504451949,3.605775442,4.168308399,4.79585956,2.741123317,3.450799002,4.617033409,4.25276479,3.8455609,3.054907323,3.591105526,2.855320083,5.067672648,2.090674722,4.745399275,6.168098006,4.147723268,2.881658105,2.024049287,2.17974567,1.049391659,2.906954147,1.473467299,5.175267772,4.269925483,3.095146194,5.422363888,-0.075513204,4.570977584,1.167658651,1.885651925,3.447632579,5.544459839,1.550927478,3.958080865,5.526039039,2.518954222,1.281593221,2.979736015,4.085841244,4.00259672,1.586080615,3.199441383,3.358653448,3.229996359,1.059254836,3.754062111,3.029598382,3.371290448,1.90666462,2.133411706,1.497977364,2.198505808,5.191791603,2.581782723,0.005229738,3.154341983,4.836639525,2.067889979,6.078439154,2.649833847,1.695814372,1.210560508,5.015827446,2.995226824,3.722788938,0.145363726,2.008097016,5.14182339,0.782279379,3.086817402,3.949861751,7.080360065,4.110395558,4.639738351,2.386412351,2.997459245,3.097814655,1.452719708,4.943495882,5.343774845,4.667091315,5.183742045,2.813079647,3.000333804,3.910422376,4.995252721,4.486755803,5.63778602,5.608694433,3.511540325,5.085557069,3.979482462,4.367454725,0.568924308,0.925771273,3.356207573,2.400346848,0.992582829,4.581668276,3.575461861,5.444286313,3.237053539,5.000481276,3.421040742,5.542080958,4.958176966,4.018451816,3.215352271,6.082065138,2.585221862,5.486086554,1.478644892,1.680270782,4.494383477,5.122897448,4.832669571,1.903280346,4.763209394,4.297784003,2.917772467,5.925685774,5.489034074,0.101018009,3.617457285,1.527338443,2.481162381,2.901449212,5.813677328,3.961774112,5.218355049,3.793562181,4.184695023,3.435246319,3.690822184,3.879406934,2.463238982,2.316930697,3.53279914,2.847354064,3.013907111,1.881280874,1.143673496,3.426186075,2.91233835,2.73534202,3.566358315,4.304218519,1.001695664,3.293553547,0.769280626,3.1447608,3.283708711,5.182254084,1.118356095,3.515271914,2.75178282,3.531302036,2.069569669,2.603477724,3.071239019,5.492457956,2.114749373,0.216879366,3.651436861,4.980606005,4.148853852,3.284202458,7.092413054,1.982053861,3.448664046,1.489940055,2.635288532,2.403586075,4.121705706,6.557851886,5.383807698,1.144839419,2.644660269,2.039676372,3.492607669,3.653667426,4.717457167,1.626680952,4.61222416,0.661058795,5.385276009,4.03860248,0.540935028,3.64729194,3.031026343,3.173813792,4.517894165,4.129324441,3.309223705,3.436914715,3.175193188,2.001139759,2.893430188,5.256754871,0.874181594,3.330701493,1.727257237,-0.404141885,-0.387067295,5.813358917,3.741196861,-0.409140373,0.079524177,2.849447219,4.532408327,3.584646151,4.84808394,3.576671628,3.872722582,4.814768069,6.566055126,3.046234239,3.583399714,4.798691781,2.12146002,0.431230602,3.815557525,3.424809599,3.252520939,1.063419253,2.966067614,1.823091997,4.65420283,2.773446816,5.124801031,4.036658456,2.666579257,-0.430844395,4.628627524,4.219276471,1.696463854,2.970698081,3.235015197,5.946798315,2.947052557,3.353195912,2.185139449,1.726301175,0.650364657,4.261947239,5.051678481,1.56536763,4.591989228,4.702847231,-1.253375651,2.842273546,3.957252906,3.34629939,1.201586249,3.916890253,0.159837596,3.186050636,3.760213404,2.928997336,4.631002003],\"yaxis\":\"y\",\"type\":\"scattergl\"},{\"hovertemplate\":\"color=4\\u003cbr\\u003eClump thickness of the cell (in millimeters)=%{x}\\u003cbr\\u003eNumber of weeks since the formation of the clump=%{y}\\u003cextra\\u003e\\u003c\\u002fextra\\u003e\",\"legendgroup\":\"4\",\"marker\":{\"color\":\"#ab63fa\",\"symbol\":\"circle\",\"size\":4},\"mode\":\"markers\",\"name\":\"4\",\"showlegend\":true,\"x\":[3.847611701,5.099177836,2.647561355,2.792488036,4.868873817,3.407645911,1.376639369,3.509485513,3.019784,2.379979091,4.798472754,4.063993611,3.597236142,3.133953471,6.650927796,5.854680397,3.701067815,4.136883368,6.391567509,6.835409969,5.743396157,3.484789935,3.078488698,5.188363764,2.634316131,2.306797038,3.438321304,5.511378308,4.251846405,4.387287003,5.778385389,4.370979312,2.199774654,5.33146695,4.753162574,3.86024363,3.346933329,3.138938187,3.962042097,2.734276773,3.190155925,1.649359839,3.179955168,2.903908629,4.913347655,6.30050476,5.637245304,5.655173262,5.069182748,4.864241962,5.185836215,2.846023256,5.31740874,2.104925356,4.97836677,2.683840057,2.46551297,3.28293647,1.940238579,4.025258374,5.756106353,3.605705256,4.783773101,4.256203772,5.916057213,3.749681087,4.463227881,7.901799057,5.812354719,2.52346439,5.7705467,2.538669216,4.015664279,4.457529171,5.375595597,3.371873959,4.850427817,6.798199399,0.987163685,2.297511733,5.889367447,3.535226681,3.939635582,5.460868819,7.514968299,1.941522617,2.562759285,3.877461473,4.000807088,4.168953289,3.505950193,5.928430727,2.561857164,4.322515377,5.56492812,4.593242619,3.016332094,4.190614182,3.498152792,3.051816574,6.139524193,3.687459996,3.086098656,2.804707263,4.191632335,1.634867107,1.397194257,4.30499772,1.96069523,3.367783284,5.226019864,5.458047146,6.442125601,2.403741904,5.354571721,4.51432318,5.980279552,4.348101286,5.28893913,5.801584681,3.349027821,3.270992071,1.898589628,3.861650065,4.562009449,2.824994501,4.113890512,3.436476807,3.317435358,5.232226047,5.290722486,5.815628084,2.284527713,3.784771788,5.035790968,1.954858508,7.04644341,4.368803396,3.138244,5.633019943,4.596305251,4.172747851,2.924527875,1.208669564,2.476465657,2.979165168,4.715509242,4.971607,2.758330641,5.309461537,5.055278948,3.80156568,2.495975096,5.410439077,3.794892172,2.397539305,4.398900798,4.827861091,1.68896063,6.951046361,0.602050387,1.414463822,5.93534417,4.514145256,3.321828931,4.018335026,5.156316035,2.627535504,5.467549152,5.102554611,3.928611039,4.30233136,3.005838472,2.645575597,3.385391194,5.626214648,3.620968892,3.285921707,2.451642572,2.207862484,4.034976202,5.644763057,5.947147311,4.885721435,3.511366959,3.418766909,4.578117111,5.482220729,5.540414547,0.649687011,3.926532791,2.471385171,3.25488987,6.743635482,2.770616914,1.337682533,4.279904426,3.80318373,3.342950081,5.39054561,4.89512713,4.594376952,3.562097549,4.553554374,3.539402942,4.294215249,4.91168378,4.537045293,2.936166947,3.15090681,2.355366187,5.57684497,3.95880509,2.96119306,5.071609911,3.192300316,4.705195237,6.398009872,5.482722863,3.746760567,3.820006128,7.062865399,3.729943376,4.476189266,4.515433369,5.462295163,4.340405323,4.579091,4.509365307,8.251687847,5.385186502,2.614147606,2.075047284,1.446714235,6.909422716,2.705164687,5.568704082,4.844040033,1.586032473,7.198421205,4.873256573,6.877897837,4.541768502,4.283911638,2.388316322,4.059449974,4.216810977,1.595005206,3.970087299,4.258115661,2.85976066,4.649220915,2.082661892,3.09282999,4.166639688,3.043259134,4.666915856,3.426348692,2.617902554,5.472979276,4.948749803,4.90340057,5.083254327,5.596034012,5.566704166,4.05326941,3.28806057,3.825037063,5.957226514,2.10601688,3.107614849,5.649615755,5.337646177,3.216488478,3.672992484,3.753664637,3.564557409,0.136883933,3.324343261,4.488667378,7.876280766,1.687382069,2.995120568,3.390513911,2.510128378,2.934671184,0.957503223,3.822252115,3.180164564,4.84588161,4.090769845,5.685204893,6.562609587,4.192667608,2.042485492,4.385996434,6.210840403,3.849043406,4.612885373,2.472122497,6.386233015,4.638512464,3.33253605,1.353135437,2.912761265,2.375877253,3.221198207,4.548352095,5.311321403,4.246076691,4.132363244,4.592321172,4.526066975,4.222578223,6.494776198,4.141587411,2.935919285,5.47345293,3.434125599,4.319550769,5.385473478,5.27747848,1.464906476,0.265268065,2.890514712,6.611888413,4.371682802,3.760057787,3.753518465,5.641482538,4.522540755,4.752316334,0.694626404,3.72482679,4.030339166,2.640177372,3.963713746,3.047652788,5.375435493,3.097466257,6.062879423,3.932573556,5.415958473,7.612674598,4.105663369,6.363153405,2.30428514,6.882961,2.089305744,3.896606809,3.48322639,2.183033205,1.931804466,5.022021202,1.803476331,1.880194682,5.784903389,4.002681816,4.600332945,2.574869563,3.688840823,4.485317138,4.264772255,6.827200811,3.01323901,3.762890968,5.315847531,5.49906366,0.879246879,3.380385443,2.930025604,3.974668593,4.814562861,4.703337436,5.803918628,4.707845828,4.49875482,5.495111488,4.677775883,1.905612552,4.17364307,1.383655009,5.756126896,0.66717795,3.130631474,4.149039323,3.939569191,6.977169551,4.087691041,3.02935446,4.928154755,2.09202569,4.862243286,4.396755773,3.379011729,3.016465354,2.117691054,1.029883438,3.329583838,5.228927403,2.871183879,6.505535315,2.595456476,7.38494871,2.905570296,4.157002893,6.268900122,5.950178482,2.802058801,5.167794582,2.238040181,1.302784152,5.045389464,1.265195849,0.619408949,3.905056305,6.190969384,5.925535936,1.636117086,4.058949757,5.269450311,5.539797723,6.467736902,6.508080745,5.353925666,1.747694589,4.062774907,1.818168155,5.949656283,6.754464612,0.835358396,5.321036737,3.457956633,3.244275562,2.594207232,5.997656837,4.605894241,3.812054202,4.659725694,5.602044351,2.625172132,2.743499841,5.088617692,6.507169034,5.976706323,3.817214805,1.894287164,0.29569913,2.534974733,5.78600306,3.131753141,4.448619213,4.336433642,0.517125527,5.978120113,7.201339723,3.938498893,5.578899348,2.802550287,4.942588232,7.357100894,6.0740199,2.893295295,2.387849844,4.083981853,3.625239792,3.900805702,6.009799947,4.349650465,6.63105173,3.932074473,3.789336263,5.254159053,4.673996072,3.668116025,1.488900014,2.23484718,4.97533346,4.859292432,1.679052677,4.189591722,4.836984529,2.141775583,2.421683112,5.887946614,1.227160845,4.7060249,5.546448561,1.167773547,3.794153109,2.141786612,4.142242542,3.332497112,1.389644805,4.977094234,4.942612168,3.022164718,4.834644261,1.874446403,2.047664597,2.176251396,3.827137185],\"xaxis\":\"x\",\"y\":[8.217779802,9.657222144,8.001546621,12.35799516,15.34085297,12.91291325,14.68810498,13.70309138,13.45527877,13.23477609,15.52368694,11.57420126,15.00278817,13.84057876,12.59217215,14.35965946,14.44833891,15.09104132,13.48522085,15.00781947,13.32268171,11.20760662,13.04938857,14.13838567,15.1959158,11.55094095,13.86383793,12.19562945,15.30219475,11.90252954,15.6307548,12.23505726,13.95123348,11.37812708,15.83745614,10.30200602,13.39499823,13.51562304,12.99485049,11.8163346,13.74629608,11.73090539,13.96541624,9.54650508,10.45124524,12.94518884,15.36920965,10.97977894,13.83119419,13.60541986,13.27927613,12.9706984,15.68379937,11.28464559,14.58799939,13.25419663,13.39447167,12.99279791,14.34462984,12.69217355,10.92594421,12.28472917,14.28713253,13.3169471,13.7393251,15.72011593,11.974112,13.83332927,13.16635625,12.95347506,13.15108373,12.84381439,13.83326968,13.52200414,12.03346455,14.10987697,13.30559117,15.31994629,12.63761994,12.11568304,10.85401821,13.00442416,15.21879787,12.41338474,12.36423327,12.63911699,13.80336732,14.25354604,13.019467,12.40886823,14.77731436,11.3289115,13.73316265,12.74709249,16.62017795,12.20536866,13.51879243,13.14435498,12.6763221,14.07229682,10.27337296,10.61651016,12.39608065,14.5990552,14.20511164,11.46737098,13.77984747,12.08951677,13.28566185,15.57361127,12.92630743,15.38676878,12.43016028,12.20156775,14.74664194,13.868496,13.34267877,11.20274073,13.15331267,11.93693559,12.37230878,12.04214358,14.52148309,14.23887903,12.69299643,13.67879778,14.92943536,13.16392311,12.66618171,12.33541957,12.57549367,12.66501097,13.19535155,12.77133018,14.26687699,13.05663012,13.82097707,12.2277972,13.85497777,13.29646736,12.53939228,13.34347285,11.82674884,13.56164083,13.56561522,12.99854563,13.56774007,12.46969618,10.91208666,14.34197345,14.77865864,11.66847658,11.19072674,12.52816776,14.83385121,14.01978302,13.65474645,13.94063415,16.14928967,10.91265208,13.57502779,12.93349164,13.08281921,13.87785308,12.9932481,14.46983386,12.73359281,11.96194574,13.53083142,11.91300956,14.14847903,12.50776905,14.34315115,13.53481504,13.50152309,12.21776749,12.50412383,15.93187077,13.93922447,12.7518962,12.75807118,14.85710028,11.878487,14.36249501,12.11906425,12.66519691,14.82964759,11.85308666,13.52139453,12.90870372,12.28681795,13.23552592,13.71082933,13.78121486,13.30681691,12.98023553,13.76218637,13.65332345,13.52315691,11.4425314,13.33386675,13.38881787,15.83511886,11.09699045,12.56608315,13.53181805,13.87571532,15.48472319,12.55025914,10.10497888,14.89389027,11.2865565,14.61040116,13.49458306,13.57848418,11.79967133,15.27477428,13.37910563,13.40097395,12.14894525,12.77906509,14.53862658,16.34017345,13.03330444,13.52312459,13.39603943,11.98043486,13.17187823,12.39002471,12.47608718,13.81521742,9.459495207,12.10037338,13.92617071,14.14794041,12.36814721,12.5825354,11.67728515,13.14587651,12.28597777,12.77204385,13.72010175,13.97422966,12.90231275,11.97670755,14.19855992,14.28840037,13.69326407,13.26857461,13.98923992,15.85245937,12.47135918,13.66449829,13.83196906,13.98926277,15.34164032,11.80144525,12.40461575,14.09540512,13.03208954,12.72714659,12.41248315,15.00990908,12.92602134,12.01192014,15.09778931,15.11716126,14.82345125,12.96724046,15.34639591,15.12636982,10.78554041,11.4503207,13.7147986,13.85769939,12.82386666,14.3163185,15.08474729,14.47916347,13.15594869,15.75681623,12.98692226,13.4481922,12.27121608,12.09899245,13.10005561,12.94566985,10.72392129,11.42634137,13.53423637,15.33654302,14.47288087,15.83266787,11.67240185,15.67120631,13.10003743,12.42708612,12.47779368,15.08956321,13.79577801,10.78789202,14.25499166,15.01069898,12.71055327,11.79819966,12.05745076,12.48606485,12.9384998,12.52398576,12.61794683,14.27111528,12.63585275,12.26673387,13.35903368,10.89854742,14.08472941,10.34641219,14.51699773,12.63893407,12.55388506,13.79321338,13.62825048,12.72218141,11.93253584,14.37876818,15.21448003,13.84071051,13.65065097,13.88970004,14.85028386,13.48267271,13.77357842,12.13152926,14.03594217,13.6740713,12.11146887,13.00093616,13.77034648,14.52042797,13.57867761,14.34044947,14.762612,14.23605393,12.884265,13.14103281,13.23066795,13.47467739,16.76519992,13.1195184,13.9441582,14.05114424,11.08496596,14.38179189,12.9619409,13.69505149,13.33876066,12.91791118,13.12151716,13.51110039,14.37729898,13.83606381,15.70985609,11.29933256,13.02359162,11.3461615,14.14039924,13.66336071,12.05980517,14.57113344,13.41842209,13.76354398,12.57415943,12.07124642,13.0971608,11.22285139,14.86253534,10.00275875,12.42002228,10.56940343,11.35523278,9.580709898,14.73752463,13.049532,11.73738887,11.40663683,12.38581194,12.65896313,10.52345198,13.49814029,13.889986,12.58081586,13.79881017,13.42344927,13.57784797,13.03770493,12.8366829,12.23326397,15.36123011,14.47234696,13.08864931,11.74249618,12.56341041,13.30741613,12.67590531,12.00404877,14.16168688,11.54910391,13.41692833,11.05009175,10.99476594,12.74510539,11.79738641,14.87523029,15.68117018,12.25031173,11.81599379,12.73497084,13.61287963,14.69666042,12.57342709,14.47644339,15.51530761,16.08601848,12.53527039,12.41791729,16.05233603,12.09568635,10.77647205,13.10622006,14.61268781,12.55544109,12.57049171,11.33078305,16.10999528,13.24662951,12.32922341,13.49211763,15.02192101,11.71610398,13.27588996,12.40922015,16.02170516,13.1946435,11.62254735,12.86397558,14.54997288,15.57267872,13.04846005,13.70003059,15.4705832,13.62311586,11.93476381,12.80273701,13.19433227,13.86559069,14.88649554,12.97312708,15.29181404,12.14664943,13.19510356,12.78386911,15.99665161,13.36003081,13.94025276,12.58213345,13.22424337,13.48341044,11.99762153,11.33222856,13.62998327,14.95858074,12.51950674,13.2704585,13.27284219,10.48879178,13.00052308,15.07430127,13.59396241,11.59136635,11.78667927,13.44603968,13.4852014,14.20468562,12.66225801,10.44576532,13.46175982,13.87192585,14.25717135,14.57371703,15.22562707,14.31463055,15.31970659,14.87928819,14.2150512,12.4168772,12.65737934,13.86054292,15.47970593,12.69680301,14.85263542,12.11212472,13.43008809],\"yaxis\":\"y\",\"type\":\"scattergl\"}],                        {\"template\":{\"data\":{\"histogram2dcontour\":[{\"type\":\"histogram2dcontour\",\"colorbar\":{\"outlinewidth\":0,\"ticks\":\"\"},\"colorscale\":[[0.0,\"#0d0887\"],[0.1111111111111111,\"#46039f\"],[0.2222222222222222,\"#7201a8\"],[0.3333333333333333,\"#9c179e\"],[0.4444444444444444,\"#bd3786\"],[0.5555555555555556,\"#d8576b\"],[0.6666666666666666,\"#ed7953\"],[0.7777777777777778,\"#fb9f3a\"],[0.8888888888888888,\"#fdca26\"],[1.0,\"#f0f921\"]]}],\"choropleth\":[{\"type\":\"choropleth\",\"colorbar\":{\"outlinewidth\":0,\"ticks\":\"\"}}],\"histogram2d\":[{\"type\":\"histogram2d\",\"colorbar\":{\"outlinewidth\":0,\"ticks\":\"\"},\"colorscale\":[[0.0,\"#0d0887\"],[0.1111111111111111,\"#46039f\"],[0.2222222222222222,\"#7201a8\"],[0.3333333333333333,\"#9c179e\"],[0.4444444444444444,\"#bd3786\"],[0.5555555555555556,\"#d8576b\"],[0.6666666666666666,\"#ed7953\"],[0.7777777777777778,\"#fb9f3a\"],[0.8888888888888888,\"#fdca26\"],[1.0,\"#f0f921\"]]}],\"heatmap\":[{\"type\":\"heatmap\",\"colorbar\":{\"outlinewidth\":0,\"ticks\":\"\"},\"colorscale\":[[0.0,\"#0d0887\"],[0.1111111111111111,\"#46039f\"],[0.2222222222222222,\"#7201a8\"],[0.3333333333333333,\"#9c179e\"],[0.4444444444444444,\"#bd3786\"],[0.5555555555555556,\"#d8576b\"],[0.6666666666666666,\"#ed7953\"],[0.7777777777777778,\"#fb9f3a\"],[0.8888888888888888,\"#fdca26\"],[1.0,\"#f0f921\"]]}],\"heatmapgl\":[{\"type\":\"heatmapgl\",\"colorbar\":{\"outlinewidth\":0,\"ticks\":\"\"},\"colorscale\":[[0.0,\"#0d0887\"],[0.1111111111111111,\"#46039f\"],[0.2222222222222222,\"#7201a8\"],[0.3333333333333333,\"#9c179e\"],[0.4444444444444444,\"#bd3786\"],[0.5555555555555556,\"#d8576b\"],[0.6666666666666666,\"#ed7953\"],[0.7777777777777778,\"#fb9f3a\"],[0.8888888888888888,\"#fdca26\"],[1.0,\"#f0f921\"]]}],\"contourcarpet\":[{\"type\":\"contourcarpet\",\"colorbar\":{\"outlinewidth\":0,\"ticks\":\"\"}}],\"contour\":[{\"type\":\"contour\",\"colorbar\":{\"outlinewidth\":0,\"ticks\":\"\"},\"colorscale\":[[0.0,\"#0d0887\"],[0.1111111111111111,\"#46039f\"],[0.2222222222222222,\"#7201a8\"],[0.3333333333333333,\"#9c179e\"],[0.4444444444444444,\"#bd3786\"],[0.5555555555555556,\"#d8576b\"],[0.6666666666666666,\"#ed7953\"],[0.7777777777777778,\"#fb9f3a\"],[0.8888888888888888,\"#fdca26\"],[1.0,\"#f0f921\"]]}],\"surface\":[{\"type\":\"surface\",\"colorbar\":{\"outlinewidth\":0,\"ticks\":\"\"},\"colorscale\":[[0.0,\"#0d0887\"],[0.1111111111111111,\"#46039f\"],[0.2222222222222222,\"#7201a8\"],[0.3333333333333333,\"#9c179e\"],[0.4444444444444444,\"#bd3786\"],[0.5555555555555556,\"#d8576b\"],[0.6666666666666666,\"#ed7953\"],[0.7777777777777778,\"#fb9f3a\"],[0.8888888888888888,\"#fdca26\"],[1.0,\"#f0f921\"]]}],\"mesh3d\":[{\"type\":\"mesh3d\",\"colorbar\":{\"outlinewidth\":0,\"ticks\":\"\"}}],\"scatter\":[{\"fillpattern\":{\"fillmode\":\"overlay\",\"size\":10,\"solidity\":0.2},\"type\":\"scatter\"}],\"parcoords\":[{\"type\":\"parcoords\",\"line\":{\"colorbar\":{\"outlinewidth\":0,\"ticks\":\"\"}}}],\"scatterpolargl\":[{\"type\":\"scatterpolargl\",\"marker\":{\"colorbar\":{\"outlinewidth\":0,\"ticks\":\"\"}}}],\"bar\":[{\"error_x\":{\"color\":\"#2a3f5f\"},\"error_y\":{\"color\":\"#2a3f5f\"},\"marker\":{\"line\":{\"color\":\"#E5ECF6\",\"width\":0.5},\"pattern\":{\"fillmode\":\"overlay\",\"size\":10,\"solidity\":0.2}},\"type\":\"bar\"}],\"scattergeo\":[{\"type\":\"scattergeo\",\"marker\":{\"colorbar\":{\"outlinewidth\":0,\"ticks\":\"\"}}}],\"scatterpolar\":[{\"type\":\"scatterpolar\",\"marker\":{\"colorbar\":{\"outlinewidth\":0,\"ticks\":\"\"}}}],\"histogram\":[{\"marker\":{\"pattern\":{\"fillmode\":\"overlay\",\"size\":10,\"solidity\":0.2}},\"type\":\"histogram\"}],\"scattergl\":[{\"type\":\"scattergl\",\"marker\":{\"colorbar\":{\"outlinewidth\":0,\"ticks\":\"\"}}}],\"scatter3d\":[{\"type\":\"scatter3d\",\"line\":{\"colorbar\":{\"outlinewidth\":0,\"ticks\":\"\"}},\"marker\":{\"colorbar\":{\"outlinewidth\":0,\"ticks\":\"\"}}}],\"scattermapbox\":[{\"type\":\"scattermapbox\",\"marker\":{\"colorbar\":{\"outlinewidth\":0,\"ticks\":\"\"}}}],\"scatterternary\":[{\"type\":\"scatterternary\",\"marker\":{\"colorbar\":{\"outlinewidth\":0,\"ticks\":\"\"}}}],\"scattercarpet\":[{\"type\":\"scattercarpet\",\"marker\":{\"colorbar\":{\"outlinewidth\":0,\"ticks\":\"\"}}}],\"carpet\":[{\"aaxis\":{\"endlinecolor\":\"#2a3f5f\",\"gridcolor\":\"white\",\"linecolor\":\"white\",\"minorgridcolor\":\"white\",\"startlinecolor\":\"#2a3f5f\"},\"baxis\":{\"endlinecolor\":\"#2a3f5f\",\"gridcolor\":\"white\",\"linecolor\":\"white\",\"minorgridcolor\":\"white\",\"startlinecolor\":\"#2a3f5f\"},\"type\":\"carpet\"}],\"table\":[{\"cells\":{\"fill\":{\"color\":\"#EBF0F8\"},\"line\":{\"color\":\"white\"}},\"header\":{\"fill\":{\"color\":\"#C8D4E3\"},\"line\":{\"color\":\"white\"}},\"type\":\"table\"}],\"barpolar\":[{\"marker\":{\"line\":{\"color\":\"#E5ECF6\",\"width\":0.5},\"pattern\":{\"fillmode\":\"overlay\",\"size\":10,\"solidity\":0.2}},\"type\":\"barpolar\"}],\"pie\":[{\"automargin\":true,\"type\":\"pie\"}]},\"layout\":{\"autotypenumbers\":\"strict\",\"colorway\":[\"#636efa\",\"#EF553B\",\"#00cc96\",\"#ab63fa\",\"#FFA15A\",\"#19d3f3\",\"#FF6692\",\"#B6E880\",\"#FF97FF\",\"#FECB52\"],\"font\":{\"color\":\"#2a3f5f\"},\"hovermode\":\"closest\",\"hoverlabel\":{\"align\":\"left\"},\"paper_bgcolor\":\"white\",\"plot_bgcolor\":\"#E5ECF6\",\"polar\":{\"bgcolor\":\"#E5ECF6\",\"angularaxis\":{\"gridcolor\":\"white\",\"linecolor\":\"white\",\"ticks\":\"\"},\"radialaxis\":{\"gridcolor\":\"white\",\"linecolor\":\"white\",\"ticks\":\"\"}},\"ternary\":{\"bgcolor\":\"#E5ECF6\",\"aaxis\":{\"gridcolor\":\"white\",\"linecolor\":\"white\",\"ticks\":\"\"},\"baxis\":{\"gridcolor\":\"white\",\"linecolor\":\"white\",\"ticks\":\"\"},\"caxis\":{\"gridcolor\":\"white\",\"linecolor\":\"white\",\"ticks\":\"\"}},\"coloraxis\":{\"colorbar\":{\"outlinewidth\":0,\"ticks\":\"\"}},\"colorscale\":{\"sequential\":[[0.0,\"#0d0887\"],[0.1111111111111111,\"#46039f\"],[0.2222222222222222,\"#7201a8\"],[0.3333333333333333,\"#9c179e\"],[0.4444444444444444,\"#bd3786\"],[0.5555555555555556,\"#d8576b\"],[0.6666666666666666,\"#ed7953\"],[0.7777777777777778,\"#fb9f3a\"],[0.8888888888888888,\"#fdca26\"],[1.0,\"#f0f921\"]],\"sequentialminus\":[[0.0,\"#0d0887\"],[0.1111111111111111,\"#46039f\"],[0.2222222222222222,\"#7201a8\"],[0.3333333333333333,\"#9c179e\"],[0.4444444444444444,\"#bd3786\"],[0.5555555555555556,\"#d8576b\"],[0.6666666666666666,\"#ed7953\"],[0.7777777777777778,\"#fb9f3a\"],[0.8888888888888888,\"#fdca26\"],[1.0,\"#f0f921\"]],\"diverging\":[[0,\"#8e0152\"],[0.1,\"#c51b7d\"],[0.2,\"#de77ae\"],[0.3,\"#f1b6da\"],[0.4,\"#fde0ef\"],[0.5,\"#f7f7f7\"],[0.6,\"#e6f5d0\"],[0.7,\"#b8e186\"],[0.8,\"#7fbc41\"],[0.9,\"#4d9221\"],[1,\"#276419\"]]},\"xaxis\":{\"gridcolor\":\"white\",\"linecolor\":\"white\",\"ticks\":\"\",\"title\":{\"standoff\":15},\"zerolinecolor\":\"white\",\"automargin\":true,\"zerolinewidth\":2},\"yaxis\":{\"gridcolor\":\"white\",\"linecolor\":\"white\",\"ticks\":\"\",\"title\":{\"standoff\":15},\"zerolinecolor\":\"white\",\"automargin\":true,\"zerolinewidth\":2},\"scene\":{\"xaxis\":{\"backgroundcolor\":\"#E5ECF6\",\"gridcolor\":\"white\",\"linecolor\":\"white\",\"showbackground\":true,\"ticks\":\"\",\"zerolinecolor\":\"white\",\"gridwidth\":2},\"yaxis\":{\"backgroundcolor\":\"#E5ECF6\",\"gridcolor\":\"white\",\"linecolor\":\"white\",\"showbackground\":true,\"ticks\":\"\",\"zerolinecolor\":\"white\",\"gridwidth\":2},\"zaxis\":{\"backgroundcolor\":\"#E5ECF6\",\"gridcolor\":\"white\",\"linecolor\":\"white\",\"showbackground\":true,\"ticks\":\"\",\"zerolinecolor\":\"white\",\"gridwidth\":2}},\"shapedefaults\":{\"line\":{\"color\":\"#2a3f5f\"}},\"annotationdefaults\":{\"arrowcolor\":\"#2a3f5f\",\"arrowhead\":0,\"arrowwidth\":1},\"geo\":{\"bgcolor\":\"white\",\"landcolor\":\"#E5ECF6\",\"subunitcolor\":\"white\",\"showland\":true,\"showlakes\":true,\"lakecolor\":\"white\"},\"title\":{\"x\":0.05},\"mapbox\":{\"style\":\"light\"}}},\"xaxis\":{\"anchor\":\"y\",\"domain\":[0.0,1.0],\"title\":{\"text\":\"Clump thickness of the cell (in millimeters)\"}},\"yaxis\":{\"anchor\":\"x\",\"domain\":[0.0,1.0],\"title\":{\"text\":\"Number of weeks since the formation of the clump\"}},\"legend\":{\"title\":{\"text\":\"color\"},\"tracegroupgap\":0},\"title\":{\"text\":\"Fitted labels for Unlabelled data by Semi-Supervised Learning - cell cancer stage\"},\"width\":750},                        {\"responsive\": true}                    ).then(function(){\n",
              "                            \n",
              "var gd = document.getElementById('6462da6e-3517-43f3-bb26-1bf5e041cfbf');\n",
              "var x = new MutationObserver(function (mutations, observer) {{\n",
              "        var display = window.getComputedStyle(gd).display;\n",
              "        if (!display || display === 'none') {{\n",
              "            console.log([gd, 'removed!']);\n",
              "            Plotly.purge(gd);\n",
              "            observer.disconnect();\n",
              "        }}\n",
              "}});\n",
              "\n",
              "// Listen for the removal of the full notebook cells\n",
              "var notebookContainer = gd.closest('#notebook-container');\n",
              "if (notebookContainer) {{\n",
              "    x.observe(notebookContainer, {childList: true});\n",
              "}}\n",
              "\n",
              "// Listen for the clearing of the current output cell\n",
              "var outputEl = gd.closest('.output');\n",
              "if (outputEl) {{\n",
              "    x.observe(outputEl, {childList: true});\n",
              "}}\n",
              "\n",
              "                        })                };                            </script>        </div>\n",
              "</body>\n",
              "</html>"
            ]
          },
          "metadata": {}
        }
      ]
    },
    {
      "cell_type": "markdown",
      "source": [
        "## Compute and print accuracy score, plot classification report and the confusion matrix."
      ],
      "metadata": {
        "id": "QvyRkkz4M2Zo"
      }
    },
    {
      "cell_type": "code",
      "source": [
        "true_y = data_df['True cancer stage']\n",
        "print(f'Shape = {true_y.shape} \\n')\n",
        "true_y.head()"
      ],
      "metadata": {
        "colab": {
          "base_uri": "https://localhost:8080/",
          "height": 0
        },
        "id": "-NkB3xGHJQvm",
        "outputId": "16499733-5518-4410-f07b-0bea3b04e7a3"
      },
      "execution_count": 25,
      "outputs": [
        {
          "output_type": "stream",
          "name": "stdout",
          "text": [
            "Shape = (2000,) \n",
            "\n"
          ]
        },
        {
          "output_type": "execute_result",
          "data": {
            "text/plain": [
              "0    1\n",
              "1    1\n",
              "2    1\n",
              "3    1\n",
              "4    1\n",
              "Name: True cancer stage, dtype: int64"
            ]
          },
          "metadata": {},
          "execution_count": 25
        }
      ]
    },
    {
      "cell_type": "code",
      "source": [
        "cf_matrix = confusion_matrix(true_y, y_pred)      # Index = Actual;  Column = Predicted"
      ],
      "metadata": {
        "id": "5M3pg5a_NY71"
      },
      "execution_count": 26,
      "outputs": []
    },
    {
      "cell_type": "code",
      "source": [
        "cf_matrix"
      ],
      "metadata": {
        "colab": {
          "base_uri": "https://localhost:8080/",
          "height": 0
        },
        "id": "0oUKy4KqNgav",
        "outputId": "d4fa7104-6f95-4b09-cdfc-94fd47d22793"
      },
      "execution_count": 27,
      "outputs": [
        {
          "output_type": "execute_result",
          "data": {
            "text/plain": [
              "array([[488,  12,   0,   0],\n",
              "       [177, 323,   0,   0],\n",
              "       [ 26,   0, 471,   3],\n",
              "       [  1,   0,   0, 499]])"
            ]
          },
          "metadata": {},
          "execution_count": 27
        }
      ]
    },
    {
      "cell_type": "code",
      "source": [
        "fig = px.imshow(cf_matrix, text_auto = True, aspect = 'auto', color_continuous_scale = 'blues', width=500, height=500,\n",
        "                title = 'Confusion Matrix',\n",
        "                labels = dict(x = 'Predicted', y = 'Actual'))\n",
        "\n",
        "fig.update_layout( yaxis={'tickvals': [*range(int(min(true_y) - 1), int(max(true_y)))]\n",
        "})\n",
        "\n",
        "\n",
        "fig.show()\n",
        "fig.write_image('Confusion Matrix.png')"
      ],
      "metadata": {
        "colab": {
          "base_uri": "https://localhost:8080/",
          "height": 517
        },
        "id": "bHHhlEY_QG2g",
        "outputId": "63c91d5b-fc39-45a4-b4b7-4b71f9cf32e0"
      },
      "execution_count": 28,
      "outputs": [
        {
          "output_type": "display_data",
          "data": {
            "text/html": [
              "<html>\n",
              "<head><meta charset=\"utf-8\" /></head>\n",
              "<body>\n",
              "    <div>            <script src=\"https://cdnjs.cloudflare.com/ajax/libs/mathjax/2.7.5/MathJax.js?config=TeX-AMS-MML_SVG\"></script><script type=\"text/javascript\">if (window.MathJax && window.MathJax.Hub && window.MathJax.Hub.Config) {window.MathJax.Hub.Config({SVG: {font: \"STIX-Web\"}});}</script>                <script type=\"text/javascript\">window.PlotlyConfig = {MathJaxConfig: 'local'};</script>\n",
              "        <script charset=\"utf-8\" src=\"https://cdn.plot.ly/plotly-2.24.1.min.js\"></script>                <div id=\"91f7d2be-112b-4ada-bf68-38c1509485d2\" class=\"plotly-graph-div\" style=\"height:500px; width:500px;\"></div>            <script type=\"text/javascript\">                                    window.PLOTLYENV=window.PLOTLYENV || {};                                    if (document.getElementById(\"91f7d2be-112b-4ada-bf68-38c1509485d2\")) {                    Plotly.newPlot(                        \"91f7d2be-112b-4ada-bf68-38c1509485d2\",                        [{\"coloraxis\":\"coloraxis\",\"name\":\"0\",\"texttemplate\":\"%{z}\",\"z\":[[488,12,0,0],[177,323,0,0],[26,0,471,3],[1,0,0,499]],\"type\":\"heatmap\",\"xaxis\":\"x\",\"yaxis\":\"y\",\"hovertemplate\":\"Predicted: %{x}\\u003cbr\\u003eActual: %{y}\\u003cbr\\u003ecolor: %{z}\\u003cextra\\u003e\\u003c\\u002fextra\\u003e\"}],                        {\"template\":{\"data\":{\"histogram2dcontour\":[{\"type\":\"histogram2dcontour\",\"colorbar\":{\"outlinewidth\":0,\"ticks\":\"\"},\"colorscale\":[[0.0,\"#0d0887\"],[0.1111111111111111,\"#46039f\"],[0.2222222222222222,\"#7201a8\"],[0.3333333333333333,\"#9c179e\"],[0.4444444444444444,\"#bd3786\"],[0.5555555555555556,\"#d8576b\"],[0.6666666666666666,\"#ed7953\"],[0.7777777777777778,\"#fb9f3a\"],[0.8888888888888888,\"#fdca26\"],[1.0,\"#f0f921\"]]}],\"choropleth\":[{\"type\":\"choropleth\",\"colorbar\":{\"outlinewidth\":0,\"ticks\":\"\"}}],\"histogram2d\":[{\"type\":\"histogram2d\",\"colorbar\":{\"outlinewidth\":0,\"ticks\":\"\"},\"colorscale\":[[0.0,\"#0d0887\"],[0.1111111111111111,\"#46039f\"],[0.2222222222222222,\"#7201a8\"],[0.3333333333333333,\"#9c179e\"],[0.4444444444444444,\"#bd3786\"],[0.5555555555555556,\"#d8576b\"],[0.6666666666666666,\"#ed7953\"],[0.7777777777777778,\"#fb9f3a\"],[0.8888888888888888,\"#fdca26\"],[1.0,\"#f0f921\"]]}],\"heatmap\":[{\"type\":\"heatmap\",\"colorbar\":{\"outlinewidth\":0,\"ticks\":\"\"},\"colorscale\":[[0.0,\"#0d0887\"],[0.1111111111111111,\"#46039f\"],[0.2222222222222222,\"#7201a8\"],[0.3333333333333333,\"#9c179e\"],[0.4444444444444444,\"#bd3786\"],[0.5555555555555556,\"#d8576b\"],[0.6666666666666666,\"#ed7953\"],[0.7777777777777778,\"#fb9f3a\"],[0.8888888888888888,\"#fdca26\"],[1.0,\"#f0f921\"]]}],\"heatmapgl\":[{\"type\":\"heatmapgl\",\"colorbar\":{\"outlinewidth\":0,\"ticks\":\"\"},\"colorscale\":[[0.0,\"#0d0887\"],[0.1111111111111111,\"#46039f\"],[0.2222222222222222,\"#7201a8\"],[0.3333333333333333,\"#9c179e\"],[0.4444444444444444,\"#bd3786\"],[0.5555555555555556,\"#d8576b\"],[0.6666666666666666,\"#ed7953\"],[0.7777777777777778,\"#fb9f3a\"],[0.8888888888888888,\"#fdca26\"],[1.0,\"#f0f921\"]]}],\"contourcarpet\":[{\"type\":\"contourcarpet\",\"colorbar\":{\"outlinewidth\":0,\"ticks\":\"\"}}],\"contour\":[{\"type\":\"contour\",\"colorbar\":{\"outlinewidth\":0,\"ticks\":\"\"},\"colorscale\":[[0.0,\"#0d0887\"],[0.1111111111111111,\"#46039f\"],[0.2222222222222222,\"#7201a8\"],[0.3333333333333333,\"#9c179e\"],[0.4444444444444444,\"#bd3786\"],[0.5555555555555556,\"#d8576b\"],[0.6666666666666666,\"#ed7953\"],[0.7777777777777778,\"#fb9f3a\"],[0.8888888888888888,\"#fdca26\"],[1.0,\"#f0f921\"]]}],\"surface\":[{\"type\":\"surface\",\"colorbar\":{\"outlinewidth\":0,\"ticks\":\"\"},\"colorscale\":[[0.0,\"#0d0887\"],[0.1111111111111111,\"#46039f\"],[0.2222222222222222,\"#7201a8\"],[0.3333333333333333,\"#9c179e\"],[0.4444444444444444,\"#bd3786\"],[0.5555555555555556,\"#d8576b\"],[0.6666666666666666,\"#ed7953\"],[0.7777777777777778,\"#fb9f3a\"],[0.8888888888888888,\"#fdca26\"],[1.0,\"#f0f921\"]]}],\"mesh3d\":[{\"type\":\"mesh3d\",\"colorbar\":{\"outlinewidth\":0,\"ticks\":\"\"}}],\"scatter\":[{\"fillpattern\":{\"fillmode\":\"overlay\",\"size\":10,\"solidity\":0.2},\"type\":\"scatter\"}],\"parcoords\":[{\"type\":\"parcoords\",\"line\":{\"colorbar\":{\"outlinewidth\":0,\"ticks\":\"\"}}}],\"scatterpolargl\":[{\"type\":\"scatterpolargl\",\"marker\":{\"colorbar\":{\"outlinewidth\":0,\"ticks\":\"\"}}}],\"bar\":[{\"error_x\":{\"color\":\"#2a3f5f\"},\"error_y\":{\"color\":\"#2a3f5f\"},\"marker\":{\"line\":{\"color\":\"#E5ECF6\",\"width\":0.5},\"pattern\":{\"fillmode\":\"overlay\",\"size\":10,\"solidity\":0.2}},\"type\":\"bar\"}],\"scattergeo\":[{\"type\":\"scattergeo\",\"marker\":{\"colorbar\":{\"outlinewidth\":0,\"ticks\":\"\"}}}],\"scatterpolar\":[{\"type\":\"scatterpolar\",\"marker\":{\"colorbar\":{\"outlinewidth\":0,\"ticks\":\"\"}}}],\"histogram\":[{\"marker\":{\"pattern\":{\"fillmode\":\"overlay\",\"size\":10,\"solidity\":0.2}},\"type\":\"histogram\"}],\"scattergl\":[{\"type\":\"scattergl\",\"marker\":{\"colorbar\":{\"outlinewidth\":0,\"ticks\":\"\"}}}],\"scatter3d\":[{\"type\":\"scatter3d\",\"line\":{\"colorbar\":{\"outlinewidth\":0,\"ticks\":\"\"}},\"marker\":{\"colorbar\":{\"outlinewidth\":0,\"ticks\":\"\"}}}],\"scattermapbox\":[{\"type\":\"scattermapbox\",\"marker\":{\"colorbar\":{\"outlinewidth\":0,\"ticks\":\"\"}}}],\"scatterternary\":[{\"type\":\"scatterternary\",\"marker\":{\"colorbar\":{\"outlinewidth\":0,\"ticks\":\"\"}}}],\"scattercarpet\":[{\"type\":\"scattercarpet\",\"marker\":{\"colorbar\":{\"outlinewidth\":0,\"ticks\":\"\"}}}],\"carpet\":[{\"aaxis\":{\"endlinecolor\":\"#2a3f5f\",\"gridcolor\":\"white\",\"linecolor\":\"white\",\"minorgridcolor\":\"white\",\"startlinecolor\":\"#2a3f5f\"},\"baxis\":{\"endlinecolor\":\"#2a3f5f\",\"gridcolor\":\"white\",\"linecolor\":\"white\",\"minorgridcolor\":\"white\",\"startlinecolor\":\"#2a3f5f\"},\"type\":\"carpet\"}],\"table\":[{\"cells\":{\"fill\":{\"color\":\"#EBF0F8\"},\"line\":{\"color\":\"white\"}},\"header\":{\"fill\":{\"color\":\"#C8D4E3\"},\"line\":{\"color\":\"white\"}},\"type\":\"table\"}],\"barpolar\":[{\"marker\":{\"line\":{\"color\":\"#E5ECF6\",\"width\":0.5},\"pattern\":{\"fillmode\":\"overlay\",\"size\":10,\"solidity\":0.2}},\"type\":\"barpolar\"}],\"pie\":[{\"automargin\":true,\"type\":\"pie\"}]},\"layout\":{\"autotypenumbers\":\"strict\",\"colorway\":[\"#636efa\",\"#EF553B\",\"#00cc96\",\"#ab63fa\",\"#FFA15A\",\"#19d3f3\",\"#FF6692\",\"#B6E880\",\"#FF97FF\",\"#FECB52\"],\"font\":{\"color\":\"#2a3f5f\"},\"hovermode\":\"closest\",\"hoverlabel\":{\"align\":\"left\"},\"paper_bgcolor\":\"white\",\"plot_bgcolor\":\"#E5ECF6\",\"polar\":{\"bgcolor\":\"#E5ECF6\",\"angularaxis\":{\"gridcolor\":\"white\",\"linecolor\":\"white\",\"ticks\":\"\"},\"radialaxis\":{\"gridcolor\":\"white\",\"linecolor\":\"white\",\"ticks\":\"\"}},\"ternary\":{\"bgcolor\":\"#E5ECF6\",\"aaxis\":{\"gridcolor\":\"white\",\"linecolor\":\"white\",\"ticks\":\"\"},\"baxis\":{\"gridcolor\":\"white\",\"linecolor\":\"white\",\"ticks\":\"\"},\"caxis\":{\"gridcolor\":\"white\",\"linecolor\":\"white\",\"ticks\":\"\"}},\"coloraxis\":{\"colorbar\":{\"outlinewidth\":0,\"ticks\":\"\"}},\"colorscale\":{\"sequential\":[[0.0,\"#0d0887\"],[0.1111111111111111,\"#46039f\"],[0.2222222222222222,\"#7201a8\"],[0.3333333333333333,\"#9c179e\"],[0.4444444444444444,\"#bd3786\"],[0.5555555555555556,\"#d8576b\"],[0.6666666666666666,\"#ed7953\"],[0.7777777777777778,\"#fb9f3a\"],[0.8888888888888888,\"#fdca26\"],[1.0,\"#f0f921\"]],\"sequentialminus\":[[0.0,\"#0d0887\"],[0.1111111111111111,\"#46039f\"],[0.2222222222222222,\"#7201a8\"],[0.3333333333333333,\"#9c179e\"],[0.4444444444444444,\"#bd3786\"],[0.5555555555555556,\"#d8576b\"],[0.6666666666666666,\"#ed7953\"],[0.7777777777777778,\"#fb9f3a\"],[0.8888888888888888,\"#fdca26\"],[1.0,\"#f0f921\"]],\"diverging\":[[0,\"#8e0152\"],[0.1,\"#c51b7d\"],[0.2,\"#de77ae\"],[0.3,\"#f1b6da\"],[0.4,\"#fde0ef\"],[0.5,\"#f7f7f7\"],[0.6,\"#e6f5d0\"],[0.7,\"#b8e186\"],[0.8,\"#7fbc41\"],[0.9,\"#4d9221\"],[1,\"#276419\"]]},\"xaxis\":{\"gridcolor\":\"white\",\"linecolor\":\"white\",\"ticks\":\"\",\"title\":{\"standoff\":15},\"zerolinecolor\":\"white\",\"automargin\":true,\"zerolinewidth\":2},\"yaxis\":{\"gridcolor\":\"white\",\"linecolor\":\"white\",\"ticks\":\"\",\"title\":{\"standoff\":15},\"zerolinecolor\":\"white\",\"automargin\":true,\"zerolinewidth\":2},\"scene\":{\"xaxis\":{\"backgroundcolor\":\"#E5ECF6\",\"gridcolor\":\"white\",\"linecolor\":\"white\",\"showbackground\":true,\"ticks\":\"\",\"zerolinecolor\":\"white\",\"gridwidth\":2},\"yaxis\":{\"backgroundcolor\":\"#E5ECF6\",\"gridcolor\":\"white\",\"linecolor\":\"white\",\"showbackground\":true,\"ticks\":\"\",\"zerolinecolor\":\"white\",\"gridwidth\":2},\"zaxis\":{\"backgroundcolor\":\"#E5ECF6\",\"gridcolor\":\"white\",\"linecolor\":\"white\",\"showbackground\":true,\"ticks\":\"\",\"zerolinecolor\":\"white\",\"gridwidth\":2}},\"shapedefaults\":{\"line\":{\"color\":\"#2a3f5f\"}},\"annotationdefaults\":{\"arrowcolor\":\"#2a3f5f\",\"arrowhead\":0,\"arrowwidth\":1},\"geo\":{\"bgcolor\":\"white\",\"landcolor\":\"#E5ECF6\",\"subunitcolor\":\"white\",\"showland\":true,\"showlakes\":true,\"lakecolor\":\"white\"},\"title\":{\"x\":0.05},\"mapbox\":{\"style\":\"light\"}}},\"xaxis\":{\"anchor\":\"y\",\"domain\":[0.0,1.0],\"title\":{\"text\":\"Predicted\"}},\"yaxis\":{\"anchor\":\"x\",\"domain\":[0.0,1.0],\"autorange\":\"reversed\",\"title\":{\"text\":\"Actual\"},\"tickvals\":[0,1,2,3]},\"coloraxis\":{\"colorscale\":[[0.0,\"rgb(247,251,255)\"],[0.125,\"rgb(222,235,247)\"],[0.25,\"rgb(198,219,239)\"],[0.375,\"rgb(158,202,225)\"],[0.5,\"rgb(107,174,214)\"],[0.625,\"rgb(66,146,198)\"],[0.75,\"rgb(33,113,181)\"],[0.875,\"rgb(8,81,156)\"],[1.0,\"rgb(8,48,107)\"]]},\"title\":{\"text\":\"Confusion Matrix\"},\"height\":500,\"width\":500},                        {\"responsive\": true}                    ).then(function(){\n",
              "                            \n",
              "var gd = document.getElementById('91f7d2be-112b-4ada-bf68-38c1509485d2');\n",
              "var x = new MutationObserver(function (mutations, observer) {{\n",
              "        var display = window.getComputedStyle(gd).display;\n",
              "        if (!display || display === 'none') {{\n",
              "            console.log([gd, 'removed!']);\n",
              "            Plotly.purge(gd);\n",
              "            observer.disconnect();\n",
              "        }}\n",
              "}});\n",
              "\n",
              "// Listen for the removal of the full notebook cells\n",
              "var notebookContainer = gd.closest('#notebook-container');\n",
              "if (notebookContainer) {{\n",
              "    x.observe(notebookContainer, {childList: true});\n",
              "}}\n",
              "\n",
              "// Listen for the clearing of the current output cell\n",
              "var outputEl = gd.closest('.output');\n",
              "if (outputEl) {{\n",
              "    x.observe(outputEl, {childList: true});\n",
              "}}\n",
              "\n",
              "                        })                };                            </script>        </div>\n",
              "</body>\n",
              "</html>"
            ]
          },
          "metadata": {}
        }
      ]
    },
    {
      "cell_type": "code",
      "source": [
        "# To compute accuracy score\n",
        "\n",
        "accuracy = accuracy_score(true_y, y_pred)\n",
        "accuracy"
      ],
      "metadata": {
        "colab": {
          "base_uri": "https://localhost:8080/",
          "height": 0
        },
        "id": "De7CIU8UN1jK",
        "outputId": "bb49fbd9-b1c3-4ac1-d613-b1d1b95e1df1"
      },
      "execution_count": 29,
      "outputs": [
        {
          "output_type": "execute_result",
          "data": {
            "text/plain": [
              "0.8905"
            ]
          },
          "metadata": {},
          "execution_count": 29
        }
      ]
    },
    {
      "cell_type": "code",
      "source": [
        "# To compute balanced accuracy score\n",
        "\n",
        "balanced_accuracy = balanced_accuracy_score(true_y, y_pred)\n",
        "balanced_accuracy"
      ],
      "metadata": {
        "colab": {
          "base_uri": "https://localhost:8080/",
          "height": 0
        },
        "id": "qhxcdJTXN3Co",
        "outputId": "45accb38-8f67-47af-f11b-9fb8ba0194f5"
      },
      "execution_count": 30,
      "outputs": [
        {
          "output_type": "execute_result",
          "data": {
            "text/plain": [
              "0.8905000000000001"
            ]
          },
          "metadata": {},
          "execution_count": 30
        }
      ]
    },
    {
      "cell_type": "code",
      "source": [
        "print(classification_report(true_y, y_pred))"
      ],
      "metadata": {
        "colab": {
          "base_uri": "https://localhost:8080/",
          "height": 0
        },
        "id": "zENDGCk4T8KA",
        "outputId": "7d49ea7b-c80b-4ad5-81fe-7d20003517ea"
      },
      "execution_count": 31,
      "outputs": [
        {
          "output_type": "stream",
          "name": "stdout",
          "text": [
            "              precision    recall  f1-score   support\n",
            "\n",
            "           1       0.71      0.98      0.82       500\n",
            "           2       0.96      0.65      0.77       500\n",
            "           3       1.00      0.94      0.97       500\n",
            "           4       0.99      1.00      1.00       500\n",
            "\n",
            "    accuracy                           0.89      2000\n",
            "   macro avg       0.92      0.89      0.89      2000\n",
            "weighted avg       0.92      0.89      0.89      2000\n",
            "\n"
          ]
        }
      ]
    },
    {
      "cell_type": "code",
      "source": [],
      "metadata": {
        "id": "6STtNR_3UQZ4"
      },
      "execution_count": 31,
      "outputs": []
    }
  ]
}