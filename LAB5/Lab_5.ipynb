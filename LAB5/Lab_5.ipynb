{
  "cells": [
    {
      "cell_type": "markdown",
      "metadata": {
        "id": "ExyLx0tv86bH"
      },
      "source": [
        "### Instructions:\n",
        "* You need to code in this jupyter notebook only.\n",
        "* Download this notebook and import in your jupyter lab.\n",
        "* You need to write a partial code for step 0 to step 8 mentioned with prefix ##\n",
        "* Fill the blanks where it is instructed in comments.\n",
        "* Leave other codes, structure as it is.\n",
        "* Follow all the instructions commented in a cells.\n",
        "* Upload this jupyter notebook after completion with your partial code.\n",
        "* Also upload the resulting image showing all the selected points and boundary line between them after LDA analysis."
      ]
    },
    {
      "cell_type": "code",
      "execution_count": null,
      "metadata": {
        "id": "7D2fNCbm86bL"
      },
      "outputs": [],
      "source": [
        "_______________ ## import numpy\n",
        "_______________ ## import opencv\n",
        "_______________ ## import matplotlib\n",
        "_______________ ## import matplotlib pyplot\n",
        "____________________________________ ## from sklearn import LDA analysis\n",
        "matplotlib.use('TkAgg')\n",
        "\n",
        "##---------------------------------------------------\n",
        "## Step 0: Install all other dependencies that occue at run time if  any module not found.\n",
        "##---------------------------------------------------"
      ]
    },
    {
      "cell_type": "code",
      "execution_count": null,
      "metadata": {
        "id": "hB2eaFO-86bM"
      },
      "outputs": [],
      "source": [
        "Number_of_points = _____________  ## Number of points you want select from each strip. Recommended >= 20\n",
        "\n",
        "img = cv2.imread(____________) ## Read the given image\n",
        "\n",
        "def select_points(img, title):\n",
        "    fig, ax = plt.subplots()\n",
        "    #------------------------------------------\n",
        "    ## step 1: Convert the img from BGR to RGB using cv2 and display it using plt.imshow\n",
        "    #______________________________________\n",
        "    ## step 2: Put title of the image\n",
        "    ##_____________________________________\n",
        "    ##-----------------------------------------\n",
        "\n",
        "    # Set the cursor style to a plus sign\n",
        "    fig.canvas.manager.set_window_title('Select Points')\n",
        "    cursor = matplotlib.widgets.Cursor(ax, useblit=True, color='red', linewidth=1)\n",
        "    plt.show(block=False)  # Show the image without blocking\n",
        "\n",
        "    k = 0\n",
        "    _________________ ## Create here an empty list to store points\n",
        "\n",
        "    while k < Number_of_points:\n",
        "        xy = plt.ginput(1, timeout=0)  # Non-blocking input\n",
        "        if len(xy) > 0:\n",
        "            col, row = map(int, xy[0])  # Convert to integer\n",
        "            ##-----------------------------------------------\n",
        "            ## Step 3: Collect RGB values at the clicked positions (col, row) and print it.\n",
        "            ##-----------------------------------------------\n",
        "\n",
        "            k += 1\n",
        "            points.___________([row, col, img[row, col]])  # Store RGB values in empty list points.\n",
        "\n",
        "            # Display colored dot on the image\n",
        "            plt.scatter(col, row, c='black', marker='o', s=10)\n",
        "\n",
        "            # Redraw the image to include the dot\n",
        "            plt.draw()\n",
        "\n",
        "    plt.close()  # Close the window after all points are collected\n",
        "    return ________ ## Fill this blank"
      ]
    },
    {
      "cell_type": "code",
      "execution_count": null,
      "metadata": {
        "id": "sHaejxBq86bM"
      },
      "outputs": [],
      "source": [
        "##-----------------------------------------------------------------\n",
        "## Step4: fill the blanks for Selected points from saffron strip\n",
        "pts_saffron = select_points(___________)\n",
        "## Step5: fill the blanks for Selected points from white strip)\n",
        "pts_white = select_points(___________)\n",
        "## Step6: fill the blanks for Selected points from green strip\n",
        "pts_green = select_points(___________)\n",
        "##-----------------------------------------------------------------"
      ]
    },
    {
      "cell_type": "code",
      "execution_count": null,
      "metadata": {
        "id": "_80F-YqI86bM"
      },
      "outputs": [],
      "source": [
        "# Convert RGB values to Lab color space\n",
        "def rgb_to_lab(rgb):\n",
        "    return cv2.cvtColor(np.uint8([[rgb]]), cv2.COLOR_RGB2Lab)[0][0]\n",
        "\n",
        "saffron_lab = np.array([rgb_to_lab(rgb) for _, _, rgb in pts_saffron])\n",
        "white_lab = np.array([rgb_to_lab(rgb) for _, _, rgb in pts_white])\n",
        "green_lab = np.array([rgb_to_lab(rgb) for _, _, rgb in pts_green])\n",
        "\n",
        "## Step7: Extract a* and b* components from Lab color space\n",
        "a_features = np.hstack((____________________________________________________))\n",
        "b_features = np.hstack((____________________________________________________))"
      ]
    },
    {
      "cell_type": "code",
      "execution_count": null,
      "metadata": {
        "id": "Fwa7wmAU86bN"
      },
      "outputs": [],
      "source": [
        "# Map class labels to numeric values\n",
        "class_mapping = {'Saffron': 0, 'White': 1, 'Green': 2}\n",
        "y = np.array([class_mapping[label] for label in ['Saffron'] * Number_of_points + ['White'] * Number_of_points + ['Green'] * Number_of_points])\n",
        "\n",
        "plt.figure()\n",
        "plt.scatter(a_features[:Number_of_points], b_features[:Number_of_points], c='b', marker='o', s=50, label='Saffron')\n",
        "plt.scatter(a_features[Number_of_points:2*Number_of_points], b_features[Number_of_points:2*Number_of_points], c='g', marker='^', s=50, label='White')\n",
        "plt.scatter(a_features[2*Number_of_points:], b_features[2*Number_of_points:], c='r', marker='*', s=50, label='Green')\n",
        "plt.legend(['Saffron', 'White', 'Green'], loc='best')\n",
        "plt.xlabel('____________________________________')  ## Provide x label\n",
        "plt.ylabel('_____________________________________') ## Provide y label\n",
        "plt.title('______________________________________') ## Provide title\n",
        "plt.grid()\n",
        "plt.show()\n",
        "\n",
        "##------------------------------------------------------------\n",
        "# Step 8: Perform LDA analysis using LinearDiscriminantAnalysis() and lda.fit()\n",
        "\n",
        "\n",
        "##-----------------------------------------------------------\n",
        "\n"
      ]
    },
    {
      "cell_type": "code",
      "execution_count": null,
      "metadata": {
        "id": "V1xduOxi86bN"
      },
      "outputs": [],
      "source": [
        "# Plot LDA boundaries\n",
        "plt.figure()\n",
        "plt.scatter(a_features[:Number_of_points], b_features[:Number_of_points], c='b', marker='o', s=50, label='Saffron')\n",
        "plt.scatter(a_features[Number_of_points:2*Number_of_points], b_features[Number_of_points:2*Number_of_points], c='g', marker='^', s=50, label='White')\n",
        "plt.scatter(a_features[2*Number_of_points:], b_features[2*Number_of_points:], c='r', marker='*', s=50, label='Green')\n",
        "\n",
        "plt.xlabel('____________________________________')  ## Provide x label\n",
        "plt.ylabel('_____________________________________') ## Provide y label\n",
        "plt.title('LDA boundaries (linear model) for Colors of the Indian Flag')\n",
        "\n",
        "# Plot the decision boundaries\n",
        "ax = plt.gca()\n",
        "xlim = ax.get_xlim()\n",
        "ylim = ax.get_ylim()\n",
        "\n",
        "xx, yy = np.meshgrid(np.linspace(xlim[0], xlim[1], 100), np.linspace(ylim[0], ylim[1], 100))\n",
        "Z = lda.predict(np.c_[xx.ravel(), yy.ravel()])\n",
        "Z = Z.reshape(xx.shape)\n",
        "\n",
        "plt.contour(xx, yy, Z, colors='k', linewidths=2, linestyles='solid')\n",
        "plt.legend(loc='best')\n",
        "plt.grid()\n",
        "plt.show()"
      ]
    }
  ],
  "metadata": {
    "kernelspec": {
      "display_name": "Python 3",
      "language": "python",
      "name": "python3"
    },
    "language_info": {
      "codemirror_mode": {
        "name": "ipython",
        "version": 3
      },
      "file_extension": ".py",
      "mimetype": "text/x-python",
      "name": "python",
      "nbconvert_exporter": "python",
      "pygments_lexer": "ipython3",
      "version": "3.10.11"
    },
    "orig_nbformat": 4,
    "colab": {
      "provenance": []
    }
  },
  "nbformat": 4,
  "nbformat_minor": 0
}